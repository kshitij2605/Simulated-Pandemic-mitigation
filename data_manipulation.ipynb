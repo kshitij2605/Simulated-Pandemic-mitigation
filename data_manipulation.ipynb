{
 "cells": [
  {
   "cell_type": "markdown",
   "source": [
    "# GPU Accelerated data manipulation"
   ],
   "metadata": {}
  },
  {
   "cell_type": "markdown",
   "source": [
    "cuDF is the RAPIDS API that enables you to create and manipulate GPU-accelerated dataframes. cuDF implements a very similar interface to Pandas. At some places similar operation is done using pandas to compare the performances of cuDF vs pandas"
   ],
   "metadata": {}
  },
  {
   "cell_type": "markdown",
   "source": [
    "## Imports"
   ],
   "metadata": {}
  },
  {
   "cell_type": "markdown",
   "source": [
    "Here we import cuDF and CuPy for GPU-accelerated dataframes and math operations, plus the CPU libraries Pandas and NumPy on which they are based and which we will use for performance comparisons:"
   ],
   "metadata": {}
  },
  {
   "cell_type": "code",
   "execution_count": 1,
   "source": [
    "import cudf\r\n",
    "import cupy as cp\r\n",
    "\r\n",
    "import pandas as pd\r\n",
    "import numpy as np"
   ],
   "outputs": [],
   "metadata": {}
  },
  {
   "cell_type": "markdown",
   "source": [
    "## Reading and Writing Data"
   ],
   "metadata": {}
  },
  {
   "cell_type": "markdown",
   "source": [
    "Using cuDF, the RAPIDS API providing a GPU-accelerated dataframe, we can read data from formats including csv, json, parquet, feather, orc, and Pandas dataframes, among others.\r\n",
    "\r\n",
    "here will be reading almost 60 million records (corresponding to the entire population of England and Wales) which were sythesized from official UK census data. Here we read this data from a local csv file directly into GPU memory:"
   ],
   "metadata": {}
  },
  {
   "cell_type": "code",
   "execution_count": 2,
   "source": [
    "%time gdf = cudf.read_csv('./data/pop_1-03.csv')\r\n",
    "gdf.shape"
   ],
   "outputs": [
    {
     "output_type": "stream",
     "name": "stdout",
     "text": [
      "CPU times: user 1.86 s, sys: 920 ms, total: 2.78 s\n",
      "Wall time: 2.79 s\n"
     ]
    },
    {
     "output_type": "execute_result",
     "data": {
      "text/plain": [
       "(58479894, 6)"
      ]
     },
     "metadata": {},
     "execution_count": 2
    }
   ],
   "metadata": {}
  },
  {
   "cell_type": "code",
   "execution_count": 3,
   "source": [
    "gdf.dtypes"
   ],
   "outputs": [
    {
     "output_type": "execute_result",
     "data": {
      "text/plain": [
       "age         int64\n",
       "sex        object\n",
       "county     object\n",
       "lat       float64\n",
       "long      float64\n",
       "name       object\n",
       "dtype: object"
      ]
     },
     "metadata": {},
     "execution_count": 3
    }
   ],
   "metadata": {}
  },
  {
   "cell_type": "markdown",
   "source": [
    "Here for comparison we read the same data into a Pandas dataframe:"
   ],
   "metadata": {}
  },
  {
   "cell_type": "code",
   "execution_count": 4,
   "source": [
    "%time df = pd.read_csv('./data/pop_1-03.csv')\r\n",
    "gdf.shape == df.shape"
   ],
   "outputs": [
    {
     "output_type": "stream",
     "name": "stdout",
     "text": [
      "CPU times: user 27.1 s, sys: 3.94 s, total: 31 s\n",
      "Wall time: 31 s\n"
     ]
    },
    {
     "output_type": "execute_result",
     "data": {
      "text/plain": [
       "True"
      ]
     },
     "metadata": {},
     "execution_count": 4
    }
   ],
   "metadata": {}
  },
  {
   "cell_type": "markdown",
   "source": [
    "Because of the sophisticated GPU memory management behind the scenes in cuDF, the first data load into a fresh RAPIDS memory environment is sometimes substantially slower than subsequent loads. The RAPIDS Memory Manager is preparing additional memory to accommodate the array of data science operations that you may be interested in using on the data, rather than allocating and deallocating the memory repeatedly throughout your workflow."
   ],
   "metadata": {}
  },
  {
   "cell_type": "markdown",
   "source": [
    "### Writing to File"
   ],
   "metadata": {}
  },
  {
   "cell_type": "markdown",
   "source": [
    "cuDF also provides methods for writing data to files. Here we create a new dataframe specifically containing residents of Blackpool county and then write it to `blackpool.csv`, before doing the same with Pandas for comparison."
   ],
   "metadata": {}
  },
  {
   "cell_type": "markdown",
   "source": [
    "#### cuDF"
   ],
   "metadata": {}
  },
  {
   "cell_type": "code",
   "execution_count": 5,
   "source": [
    "%time blackpool_residents = gdf.loc[gdf['county'] == 'BLACKPOOL']\r\n",
    "print(f'{blackpool_residents.shape[0]} residents')"
   ],
   "outputs": [
    {
     "output_type": "stream",
     "name": "stdout",
     "text": [
      "CPU times: user 108 ms, sys: 108 ms, total: 216 ms\n",
      "Wall time: 216 ms\n",
      "139305 residents\n"
     ]
    }
   ],
   "metadata": {}
  },
  {
   "cell_type": "code",
   "execution_count": 6,
   "source": [
    "%time blackpool_residents.to_csv('blackpool.csv')"
   ],
   "outputs": [
    {
     "output_type": "stream",
     "name": "stdout",
     "text": [
      "CPU times: user 4 ms, sys: 16 ms, total: 20 ms\n",
      "Wall time: 20.2 ms\n"
     ]
    }
   ],
   "metadata": {}
  },
  {
   "cell_type": "markdown",
   "source": [
    "#### Pandas"
   ],
   "metadata": {}
  },
  {
   "cell_type": "code",
   "execution_count": 7,
   "source": [
    "%time blackpool_residents_pd = df.loc[df['county'] == 'BLACKPOOL']"
   ],
   "outputs": [
    {
     "output_type": "stream",
     "name": "stdout",
     "text": [
      "CPU times: user 3.08 s, sys: 184 ms, total: 3.27 s\n",
      "Wall time: 3.25 s\n"
     ]
    }
   ],
   "metadata": {}
  },
  {
   "cell_type": "code",
   "execution_count": 8,
   "source": [
    "%time blackpool_residents_pd.to_csv('blackpool_pd.csv')"
   ],
   "outputs": [
    {
     "output_type": "stream",
     "name": "stdout",
     "text": [
      "CPU times: user 404 ms, sys: 16 ms, total: 420 ms\n",
      "Wall time: 421 ms\n"
     ]
    }
   ],
   "metadata": {}
  },
  {
   "cell_type": "markdown",
   "source": [
    "## Initial Data Exploration"
   ],
   "metadata": {}
  },
  {
   "cell_type": "markdown",
   "source": [
    "### Converting Data Types"
   ],
   "metadata": {}
  },
  {
   "cell_type": "markdown",
   "source": [
    "For machine learning later, we will sometimes need to convert integer values into floats. Here we convert the `age` column from `int64` to `float32`, comparing performance with Pandas:"
   ],
   "metadata": {}
  },
  {
   "cell_type": "markdown",
   "source": [
    "#### cuDF"
   ],
   "metadata": {}
  },
  {
   "cell_type": "code",
   "execution_count": 9,
   "source": [
    "%time gdf['age'] = gdf['age'].astype('float32')"
   ],
   "outputs": [
    {
     "output_type": "stream",
     "name": "stdout",
     "text": [
      "CPU times: user 4 ms, sys: 0 ns, total: 4 ms\n",
      "Wall time: 4.9 ms\n"
     ]
    }
   ],
   "metadata": {}
  },
  {
   "cell_type": "markdown",
   "source": [
    "#### Pandas"
   ],
   "metadata": {}
  },
  {
   "cell_type": "code",
   "execution_count": 10,
   "source": [
    "%time df['age'] = df['age'].astype('float32')"
   ],
   "outputs": [
    {
     "output_type": "stream",
     "name": "stdout",
     "text": [
      "CPU times: user 188 ms, sys: 156 ms, total: 344 ms\n",
      "Wall time: 342 ms\n"
     ]
    }
   ],
   "metadata": {}
  },
  {
   "cell_type": "markdown",
   "source": [
    "### Column-Wise Aggregations"
   ],
   "metadata": {}
  },
  {
   "cell_type": "markdown",
   "source": [
    "#### cuDF"
   ],
   "metadata": {}
  },
  {
   "cell_type": "code",
   "execution_count": 11,
   "source": [
    "%time gdf['age'].mean()"
   ],
   "outputs": [
    {
     "output_type": "stream",
     "name": "stdout",
     "text": [
      "CPU times: user 8 ms, sys: 0 ns, total: 8 ms\n",
      "Wall time: 7.67 ms\n"
     ]
    },
    {
     "output_type": "execute_result",
     "data": {
      "text/plain": [
       "40.12419336806595"
      ]
     },
     "metadata": {},
     "execution_count": 11
    }
   ],
   "metadata": {}
  },
  {
   "cell_type": "markdown",
   "source": [
    "#### Pandas"
   ],
   "metadata": {}
  },
  {
   "cell_type": "code",
   "execution_count": 12,
   "source": [
    "%time df['age'].mean()"
   ],
   "outputs": [
    {
     "output_type": "stream",
     "name": "stdout",
     "text": [
      "CPU times: user 140 ms, sys: 16 ms, total: 156 ms\n",
      "Wall time: 154 ms\n"
     ]
    },
    {
     "output_type": "execute_result",
     "data": {
      "text/plain": [
       "40.12419"
      ]
     },
     "metadata": {},
     "execution_count": 12
    }
   ],
   "metadata": {}
  },
  {
   "cell_type": "markdown",
   "source": [
    "### String Operations"
   ],
   "metadata": {}
  },
  {
   "cell_type": "markdown",
   "source": [
    "Although strings are not a datatype traditionally associated with GPUs, cuDF supports powerful accelerated string operations."
   ],
   "metadata": {}
  },
  {
   "cell_type": "markdown",
   "source": [
    "#### cuDF"
   ],
   "metadata": {}
  },
  {
   "cell_type": "code",
   "execution_count": 13,
   "source": [
    "%time gdf['name'] = gdf['name'].str.title()"
   ],
   "outputs": [
    {
     "output_type": "stream",
     "name": "stdout",
     "text": [
      "CPU times: user 96 ms, sys: 96 ms, total: 192 ms\n",
      "Wall time: 191 ms\n"
     ]
    }
   ],
   "metadata": {}
  },
  {
   "cell_type": "code",
   "execution_count": 14,
   "source": [
    "gdf.head()"
   ],
   "outputs": [
    {
     "output_type": "execute_result",
     "data": {
      "text/html": [
       "<div>\n",
       "<style scoped>\n",
       "    .dataframe tbody tr th:only-of-type {\n",
       "        vertical-align: middle;\n",
       "    }\n",
       "\n",
       "    .dataframe tbody tr th {\n",
       "        vertical-align: top;\n",
       "    }\n",
       "\n",
       "    .dataframe thead th {\n",
       "        text-align: right;\n",
       "    }\n",
       "</style>\n",
       "<table border=\"1\" class=\"dataframe\">\n",
       "  <thead>\n",
       "    <tr style=\"text-align: right;\">\n",
       "      <th></th>\n",
       "      <th>age</th>\n",
       "      <th>sex</th>\n",
       "      <th>county</th>\n",
       "      <th>lat</th>\n",
       "      <th>long</th>\n",
       "      <th>name</th>\n",
       "    </tr>\n",
       "  </thead>\n",
       "  <tbody>\n",
       "    <tr>\n",
       "      <th>0</th>\n",
       "      <td>0.0</td>\n",
       "      <td>m</td>\n",
       "      <td>DARLINGTON</td>\n",
       "      <td>54.533644</td>\n",
       "      <td>-1.524401</td>\n",
       "      <td>Francis</td>\n",
       "    </tr>\n",
       "    <tr>\n",
       "      <th>1</th>\n",
       "      <td>0.0</td>\n",
       "      <td>m</td>\n",
       "      <td>DARLINGTON</td>\n",
       "      <td>54.426256</td>\n",
       "      <td>-1.465314</td>\n",
       "      <td>Edward</td>\n",
       "    </tr>\n",
       "    <tr>\n",
       "      <th>2</th>\n",
       "      <td>0.0</td>\n",
       "      <td>m</td>\n",
       "      <td>DARLINGTON</td>\n",
       "      <td>54.555200</td>\n",
       "      <td>-1.496417</td>\n",
       "      <td>Teddy</td>\n",
       "    </tr>\n",
       "    <tr>\n",
       "      <th>3</th>\n",
       "      <td>0.0</td>\n",
       "      <td>m</td>\n",
       "      <td>DARLINGTON</td>\n",
       "      <td>54.547906</td>\n",
       "      <td>-1.572341</td>\n",
       "      <td>Angus</td>\n",
       "    </tr>\n",
       "    <tr>\n",
       "      <th>4</th>\n",
       "      <td>0.0</td>\n",
       "      <td>m</td>\n",
       "      <td>DARLINGTON</td>\n",
       "      <td>54.477639</td>\n",
       "      <td>-1.605995</td>\n",
       "      <td>Charlie</td>\n",
       "    </tr>\n",
       "  </tbody>\n",
       "</table>\n",
       "</div>"
      ],
      "text/plain": [
       "   age sex      county        lat      long     name\n",
       "0  0.0   m  DARLINGTON  54.533644 -1.524401  Francis\n",
       "1  0.0   m  DARLINGTON  54.426256 -1.465314   Edward\n",
       "2  0.0   m  DARLINGTON  54.555200 -1.496417    Teddy\n",
       "3  0.0   m  DARLINGTON  54.547906 -1.572341    Angus\n",
       "4  0.0   m  DARLINGTON  54.477639 -1.605995  Charlie"
      ]
     },
     "metadata": {},
     "execution_count": 14
    }
   ],
   "metadata": {}
  },
  {
   "cell_type": "markdown",
   "source": [
    "#### Pandas"
   ],
   "metadata": {}
  },
  {
   "cell_type": "code",
   "execution_count": 15,
   "source": [
    "%time df['name'] = df['name'].str.title()"
   ],
   "outputs": [
    {
     "output_type": "stream",
     "name": "stdout",
     "text": [
      "CPU times: user 17.6 s, sys: 2 s, total: 19.6 s\n",
      "Wall time: 19.5 s\n"
     ]
    }
   ],
   "metadata": {}
  },
  {
   "cell_type": "code",
   "execution_count": 16,
   "source": [
    "df.head()"
   ],
   "outputs": [
    {
     "output_type": "execute_result",
     "data": {
      "text/html": [
       "<div>\n",
       "<style scoped>\n",
       "    .dataframe tbody tr th:only-of-type {\n",
       "        vertical-align: middle;\n",
       "    }\n",
       "\n",
       "    .dataframe tbody tr th {\n",
       "        vertical-align: top;\n",
       "    }\n",
       "\n",
       "    .dataframe thead th {\n",
       "        text-align: right;\n",
       "    }\n",
       "</style>\n",
       "<table border=\"1\" class=\"dataframe\">\n",
       "  <thead>\n",
       "    <tr style=\"text-align: right;\">\n",
       "      <th></th>\n",
       "      <th>age</th>\n",
       "      <th>sex</th>\n",
       "      <th>county</th>\n",
       "      <th>lat</th>\n",
       "      <th>long</th>\n",
       "      <th>name</th>\n",
       "    </tr>\n",
       "  </thead>\n",
       "  <tbody>\n",
       "    <tr>\n",
       "      <th>0</th>\n",
       "      <td>0.0</td>\n",
       "      <td>m</td>\n",
       "      <td>DARLINGTON</td>\n",
       "      <td>54.533644</td>\n",
       "      <td>-1.524401</td>\n",
       "      <td>Francis</td>\n",
       "    </tr>\n",
       "    <tr>\n",
       "      <th>1</th>\n",
       "      <td>0.0</td>\n",
       "      <td>m</td>\n",
       "      <td>DARLINGTON</td>\n",
       "      <td>54.426256</td>\n",
       "      <td>-1.465314</td>\n",
       "      <td>Edward</td>\n",
       "    </tr>\n",
       "    <tr>\n",
       "      <th>2</th>\n",
       "      <td>0.0</td>\n",
       "      <td>m</td>\n",
       "      <td>DARLINGTON</td>\n",
       "      <td>54.555200</td>\n",
       "      <td>-1.496417</td>\n",
       "      <td>Teddy</td>\n",
       "    </tr>\n",
       "    <tr>\n",
       "      <th>3</th>\n",
       "      <td>0.0</td>\n",
       "      <td>m</td>\n",
       "      <td>DARLINGTON</td>\n",
       "      <td>54.547906</td>\n",
       "      <td>-1.572341</td>\n",
       "      <td>Angus</td>\n",
       "    </tr>\n",
       "    <tr>\n",
       "      <th>4</th>\n",
       "      <td>0.0</td>\n",
       "      <td>m</td>\n",
       "      <td>DARLINGTON</td>\n",
       "      <td>54.477639</td>\n",
       "      <td>-1.605995</td>\n",
       "      <td>Charlie</td>\n",
       "    </tr>\n",
       "  </tbody>\n",
       "</table>\n",
       "</div>"
      ],
      "text/plain": [
       "   age sex      county        lat      long     name\n",
       "0  0.0   m  DARLINGTON  54.533644 -1.524401  Francis\n",
       "1  0.0   m  DARLINGTON  54.426256 -1.465314   Edward\n",
       "2  0.0   m  DARLINGTON  54.555200 -1.496417    Teddy\n",
       "3  0.0   m  DARLINGTON  54.547906 -1.572341    Angus\n",
       "4  0.0   m  DARLINGTON  54.477639 -1.605995  Charlie"
      ]
     },
     "metadata": {},
     "execution_count": 16
    }
   ],
   "metadata": {}
  },
  {
   "cell_type": "markdown",
   "source": [
    "## Data Subsetting with `loc` and `iloc`"
   ],
   "metadata": {}
  },
  {
   "cell_type": "markdown",
   "source": [
    "### Range Selection"
   ],
   "metadata": {}
  },
  {
   "cell_type": "markdown",
   "source": [
    "Our data's labels happen to be incrementing numbers, though as with Pandas, `loc` will include every value it is passed whereas `iloc` will give the half-open range (omitting the final value)."
   ],
   "metadata": {}
  },
  {
   "cell_type": "code",
   "execution_count": 17,
   "source": [
    "gdf.loc[100:105]"
   ],
   "outputs": [
    {
     "output_type": "execute_result",
     "data": {
      "text/html": [
       "<div>\n",
       "<style scoped>\n",
       "    .dataframe tbody tr th:only-of-type {\n",
       "        vertical-align: middle;\n",
       "    }\n",
       "\n",
       "    .dataframe tbody tr th {\n",
       "        vertical-align: top;\n",
       "    }\n",
       "\n",
       "    .dataframe thead th {\n",
       "        text-align: right;\n",
       "    }\n",
       "</style>\n",
       "<table border=\"1\" class=\"dataframe\">\n",
       "  <thead>\n",
       "    <tr style=\"text-align: right;\">\n",
       "      <th></th>\n",
       "      <th>age</th>\n",
       "      <th>sex</th>\n",
       "      <th>county</th>\n",
       "      <th>lat</th>\n",
       "      <th>long</th>\n",
       "      <th>name</th>\n",
       "    </tr>\n",
       "  </thead>\n",
       "  <tbody>\n",
       "    <tr>\n",
       "      <th>100</th>\n",
       "      <td>0.0</td>\n",
       "      <td>m</td>\n",
       "      <td>DARLINGTON</td>\n",
       "      <td>54.519527</td>\n",
       "      <td>-1.557723</td>\n",
       "      <td>Samuel</td>\n",
       "    </tr>\n",
       "    <tr>\n",
       "      <th>101</th>\n",
       "      <td>0.0</td>\n",
       "      <td>m</td>\n",
       "      <td>DARLINGTON</td>\n",
       "      <td>54.530248</td>\n",
       "      <td>-1.500405</td>\n",
       "      <td>Alden</td>\n",
       "    </tr>\n",
       "    <tr>\n",
       "      <th>102</th>\n",
       "      <td>0.0</td>\n",
       "      <td>m</td>\n",
       "      <td>DARLINGTON</td>\n",
       "      <td>54.515970</td>\n",
       "      <td>-1.628573</td>\n",
       "      <td>Samuel</td>\n",
       "    </tr>\n",
       "    <tr>\n",
       "      <th>103</th>\n",
       "      <td>0.0</td>\n",
       "      <td>m</td>\n",
       "      <td>DARLINGTON</td>\n",
       "      <td>54.543373</td>\n",
       "      <td>-1.664323</td>\n",
       "      <td>Muhammad</td>\n",
       "    </tr>\n",
       "    <tr>\n",
       "      <th>104</th>\n",
       "      <td>0.0</td>\n",
       "      <td>m</td>\n",
       "      <td>DARLINGTON</td>\n",
       "      <td>54.554589</td>\n",
       "      <td>-1.507385</td>\n",
       "      <td>Isaac</td>\n",
       "    </tr>\n",
       "    <tr>\n",
       "      <th>105</th>\n",
       "      <td>0.0</td>\n",
       "      <td>m</td>\n",
       "      <td>DARLINGTON</td>\n",
       "      <td>54.487209</td>\n",
       "      <td>-1.541073</td>\n",
       "      <td>Jayden</td>\n",
       "    </tr>\n",
       "  </tbody>\n",
       "</table>\n",
       "</div>"
      ],
      "text/plain": [
       "     age sex      county        lat      long      name\n",
       "100  0.0   m  DARLINGTON  54.519527 -1.557723    Samuel\n",
       "101  0.0   m  DARLINGTON  54.530248 -1.500405     Alden\n",
       "102  0.0   m  DARLINGTON  54.515970 -1.628573    Samuel\n",
       "103  0.0   m  DARLINGTON  54.543373 -1.664323  Muhammad\n",
       "104  0.0   m  DARLINGTON  54.554589 -1.507385     Isaac\n",
       "105  0.0   m  DARLINGTON  54.487209 -1.541073    Jayden"
      ]
     },
     "metadata": {},
     "execution_count": 17
    }
   ],
   "metadata": {}
  },
  {
   "cell_type": "code",
   "execution_count": 18,
   "source": [
    "gdf.iloc[100:105]"
   ],
   "outputs": [
    {
     "output_type": "execute_result",
     "data": {
      "text/html": [
       "<div>\n",
       "<style scoped>\n",
       "    .dataframe tbody tr th:only-of-type {\n",
       "        vertical-align: middle;\n",
       "    }\n",
       "\n",
       "    .dataframe tbody tr th {\n",
       "        vertical-align: top;\n",
       "    }\n",
       "\n",
       "    .dataframe thead th {\n",
       "        text-align: right;\n",
       "    }\n",
       "</style>\n",
       "<table border=\"1\" class=\"dataframe\">\n",
       "  <thead>\n",
       "    <tr style=\"text-align: right;\">\n",
       "      <th></th>\n",
       "      <th>age</th>\n",
       "      <th>sex</th>\n",
       "      <th>county</th>\n",
       "      <th>lat</th>\n",
       "      <th>long</th>\n",
       "      <th>name</th>\n",
       "    </tr>\n",
       "  </thead>\n",
       "  <tbody>\n",
       "    <tr>\n",
       "      <th>100</th>\n",
       "      <td>0.0</td>\n",
       "      <td>m</td>\n",
       "      <td>DARLINGTON</td>\n",
       "      <td>54.519527</td>\n",
       "      <td>-1.557723</td>\n",
       "      <td>Samuel</td>\n",
       "    </tr>\n",
       "    <tr>\n",
       "      <th>101</th>\n",
       "      <td>0.0</td>\n",
       "      <td>m</td>\n",
       "      <td>DARLINGTON</td>\n",
       "      <td>54.530248</td>\n",
       "      <td>-1.500405</td>\n",
       "      <td>Alden</td>\n",
       "    </tr>\n",
       "    <tr>\n",
       "      <th>102</th>\n",
       "      <td>0.0</td>\n",
       "      <td>m</td>\n",
       "      <td>DARLINGTON</td>\n",
       "      <td>54.515970</td>\n",
       "      <td>-1.628573</td>\n",
       "      <td>Samuel</td>\n",
       "    </tr>\n",
       "    <tr>\n",
       "      <th>103</th>\n",
       "      <td>0.0</td>\n",
       "      <td>m</td>\n",
       "      <td>DARLINGTON</td>\n",
       "      <td>54.543373</td>\n",
       "      <td>-1.664323</td>\n",
       "      <td>Muhammad</td>\n",
       "    </tr>\n",
       "    <tr>\n",
       "      <th>104</th>\n",
       "      <td>0.0</td>\n",
       "      <td>m</td>\n",
       "      <td>DARLINGTON</td>\n",
       "      <td>54.554589</td>\n",
       "      <td>-1.507385</td>\n",
       "      <td>Isaac</td>\n",
       "    </tr>\n",
       "  </tbody>\n",
       "</table>\n",
       "</div>"
      ],
      "text/plain": [
       "     age sex      county        lat      long      name\n",
       "100  0.0   m  DARLINGTON  54.519527 -1.557723    Samuel\n",
       "101  0.0   m  DARLINGTON  54.530248 -1.500405     Alden\n",
       "102  0.0   m  DARLINGTON  54.515970 -1.628573    Samuel\n",
       "103  0.0   m  DARLINGTON  54.543373 -1.664323  Muhammad\n",
       "104  0.0   m  DARLINGTON  54.554589 -1.507385     Isaac"
      ]
     },
     "metadata": {},
     "execution_count": 18
    }
   ],
   "metadata": {}
  },
  {
   "cell_type": "markdown",
   "source": [
    "#### cuDF"
   ],
   "metadata": {}
  },
  {
   "cell_type": "code",
   "execution_count": 19,
   "source": [
    "%time e_names = gdf.loc[gdf['name'].str.startswith('E')]\r\n",
    "e_names.head()"
   ],
   "outputs": [
    {
     "output_type": "stream",
     "name": "stdout",
     "text": [
      "CPU times: user 32 ms, sys: 28 ms, total: 60 ms\n",
      "Wall time: 59.1 ms\n"
     ]
    },
    {
     "output_type": "execute_result",
     "data": {
      "text/html": [
       "<div>\n",
       "<style scoped>\n",
       "    .dataframe tbody tr th:only-of-type {\n",
       "        vertical-align: middle;\n",
       "    }\n",
       "\n",
       "    .dataframe tbody tr th {\n",
       "        vertical-align: top;\n",
       "    }\n",
       "\n",
       "    .dataframe thead th {\n",
       "        text-align: right;\n",
       "    }\n",
       "</style>\n",
       "<table border=\"1\" class=\"dataframe\">\n",
       "  <thead>\n",
       "    <tr style=\"text-align: right;\">\n",
       "      <th></th>\n",
       "      <th>age</th>\n",
       "      <th>sex</th>\n",
       "      <th>county</th>\n",
       "      <th>lat</th>\n",
       "      <th>long</th>\n",
       "      <th>name</th>\n",
       "    </tr>\n",
       "  </thead>\n",
       "  <tbody>\n",
       "    <tr>\n",
       "      <th>1</th>\n",
       "      <td>0.0</td>\n",
       "      <td>m</td>\n",
       "      <td>DARLINGTON</td>\n",
       "      <td>54.426256</td>\n",
       "      <td>-1.465314</td>\n",
       "      <td>Edward</td>\n",
       "    </tr>\n",
       "    <tr>\n",
       "      <th>6</th>\n",
       "      <td>0.0</td>\n",
       "      <td>m</td>\n",
       "      <td>DARLINGTON</td>\n",
       "      <td>54.501872</td>\n",
       "      <td>-1.667874</td>\n",
       "      <td>Eamonn</td>\n",
       "    </tr>\n",
       "    <tr>\n",
       "      <th>34</th>\n",
       "      <td>0.0</td>\n",
       "      <td>m</td>\n",
       "      <td>DARLINGTON</td>\n",
       "      <td>54.483065</td>\n",
       "      <td>-1.501312</td>\n",
       "      <td>Ethan</td>\n",
       "    </tr>\n",
       "    <tr>\n",
       "      <th>45</th>\n",
       "      <td>0.0</td>\n",
       "      <td>m</td>\n",
       "      <td>DARLINGTON</td>\n",
       "      <td>54.640205</td>\n",
       "      <td>-1.558986</td>\n",
       "      <td>Elvin</td>\n",
       "    </tr>\n",
       "    <tr>\n",
       "      <th>49</th>\n",
       "      <td>0.0</td>\n",
       "      <td>m</td>\n",
       "      <td>DARLINGTON</td>\n",
       "      <td>54.575450</td>\n",
       "      <td>-1.600592</td>\n",
       "      <td>Edward</td>\n",
       "    </tr>\n",
       "  </tbody>\n",
       "</table>\n",
       "</div>"
      ],
      "text/plain": [
       "    age sex      county        lat      long    name\n",
       "1   0.0   m  DARLINGTON  54.426256 -1.465314  Edward\n",
       "6   0.0   m  DARLINGTON  54.501872 -1.667874  Eamonn\n",
       "34  0.0   m  DARLINGTON  54.483065 -1.501312   Ethan\n",
       "45  0.0   m  DARLINGTON  54.640205 -1.558986   Elvin\n",
       "49  0.0   m  DARLINGTON  54.575450 -1.600592  Edward"
      ]
     },
     "metadata": {},
     "execution_count": 19
    }
   ],
   "metadata": {}
  },
  {
   "cell_type": "markdown",
   "source": [
    "#### Pandas"
   ],
   "metadata": {}
  },
  {
   "cell_type": "code",
   "execution_count": 20,
   "source": [
    "%time e_names_pd = df.loc[df['name'].str.startswith('E')]"
   ],
   "outputs": [
    {
     "output_type": "stream",
     "name": "stdout",
     "text": [
      "CPU times: user 18.3 s, sys: 648 ms, total: 19 s\n",
      "Wall time: 19 s\n"
     ]
    }
   ],
   "metadata": {}
  },
  {
   "cell_type": "markdown",
   "source": [
    "### Combining with NumPy Methods"
   ],
   "metadata": {}
  },
  {
   "cell_type": "markdown",
   "source": [
    "We can combine cuDF methods with NumPy methods, just like Pandas. Here we use `np.logical_and` for elementwise boolean selection."
   ],
   "metadata": {}
  },
  {
   "cell_type": "markdown",
   "source": [
    "#### cuDF"
   ],
   "metadata": {}
  },
  {
   "cell_type": "code",
   "execution_count": 21,
   "source": [
    "%time ed_names = gdf.loc[np.logical_and(gdf['name'].str.startswith('E'), gdf['name'].str.endswith('d'))]\r\n",
    "ed_names.head()"
   ],
   "outputs": [
    {
     "output_type": "stream",
     "name": "stdout",
     "text": [
      "CPU times: user 32 ms, sys: 8 ms, total: 40 ms\n",
      "Wall time: 36.2 ms\n"
     ]
    },
    {
     "output_type": "execute_result",
     "data": {
      "text/html": [
       "<div>\n",
       "<style scoped>\n",
       "    .dataframe tbody tr th:only-of-type {\n",
       "        vertical-align: middle;\n",
       "    }\n",
       "\n",
       "    .dataframe tbody tr th {\n",
       "        vertical-align: top;\n",
       "    }\n",
       "\n",
       "    .dataframe thead th {\n",
       "        text-align: right;\n",
       "    }\n",
       "</style>\n",
       "<table border=\"1\" class=\"dataframe\">\n",
       "  <thead>\n",
       "    <tr style=\"text-align: right;\">\n",
       "      <th></th>\n",
       "      <th>age</th>\n",
       "      <th>sex</th>\n",
       "      <th>county</th>\n",
       "      <th>lat</th>\n",
       "      <th>long</th>\n",
       "      <th>name</th>\n",
       "    </tr>\n",
       "  </thead>\n",
       "  <tbody>\n",
       "    <tr>\n",
       "      <th>1</th>\n",
       "      <td>0.0</td>\n",
       "      <td>m</td>\n",
       "      <td>DARLINGTON</td>\n",
       "      <td>54.426256</td>\n",
       "      <td>-1.465314</td>\n",
       "      <td>Edward</td>\n",
       "    </tr>\n",
       "    <tr>\n",
       "      <th>49</th>\n",
       "      <td>0.0</td>\n",
       "      <td>m</td>\n",
       "      <td>DARLINGTON</td>\n",
       "      <td>54.575450</td>\n",
       "      <td>-1.600592</td>\n",
       "      <td>Edward</td>\n",
       "    </tr>\n",
       "    <tr>\n",
       "      <th>106</th>\n",
       "      <td>0.0</td>\n",
       "      <td>m</td>\n",
       "      <td>DARLINGTON</td>\n",
       "      <td>54.488042</td>\n",
       "      <td>-1.640927</td>\n",
       "      <td>Edward</td>\n",
       "    </tr>\n",
       "    <tr>\n",
       "      <th>145</th>\n",
       "      <td>0.0</td>\n",
       "      <td>m</td>\n",
       "      <td>DARLINGTON</td>\n",
       "      <td>54.492810</td>\n",
       "      <td>-1.509049</td>\n",
       "      <td>Edward</td>\n",
       "    </tr>\n",
       "    <tr>\n",
       "      <th>170</th>\n",
       "      <td>0.0</td>\n",
       "      <td>m</td>\n",
       "      <td>DARLINGTON</td>\n",
       "      <td>54.577920</td>\n",
       "      <td>-1.436109</td>\n",
       "      <td>Edward</td>\n",
       "    </tr>\n",
       "  </tbody>\n",
       "</table>\n",
       "</div>"
      ],
      "text/plain": [
       "     age sex      county        lat      long    name\n",
       "1    0.0   m  DARLINGTON  54.426256 -1.465314  Edward\n",
       "49   0.0   m  DARLINGTON  54.575450 -1.600592  Edward\n",
       "106  0.0   m  DARLINGTON  54.488042 -1.640927  Edward\n",
       "145  0.0   m  DARLINGTON  54.492810 -1.509049  Edward\n",
       "170  0.0   m  DARLINGTON  54.577920 -1.436109  Edward"
      ]
     },
     "metadata": {},
     "execution_count": 21
    }
   ],
   "metadata": {}
  },
  {
   "cell_type": "markdown",
   "source": [
    "For better performance at scale, we can use CuPy instead of NumPy, thereby performing the elementwise boolean `logical_and` operation on GPU."
   ],
   "metadata": {}
  },
  {
   "cell_type": "code",
   "execution_count": 22,
   "source": [
    "%time ed_names = gdf.loc[cp.logical_and(gdf['name'].str.startswith('E'), gdf['name'].str.endswith('d'))]\r\n",
    "ed_names.head()"
   ],
   "outputs": [
    {
     "output_type": "stream",
     "name": "stdout",
     "text": [
      "CPU times: user 108 ms, sys: 24 ms, total: 132 ms\n",
      "Wall time: 133 ms\n"
     ]
    },
    {
     "output_type": "execute_result",
     "data": {
      "text/html": [
       "<div>\n",
       "<style scoped>\n",
       "    .dataframe tbody tr th:only-of-type {\n",
       "        vertical-align: middle;\n",
       "    }\n",
       "\n",
       "    .dataframe tbody tr th {\n",
       "        vertical-align: top;\n",
       "    }\n",
       "\n",
       "    .dataframe thead th {\n",
       "        text-align: right;\n",
       "    }\n",
       "</style>\n",
       "<table border=\"1\" class=\"dataframe\">\n",
       "  <thead>\n",
       "    <tr style=\"text-align: right;\">\n",
       "      <th></th>\n",
       "      <th>age</th>\n",
       "      <th>sex</th>\n",
       "      <th>county</th>\n",
       "      <th>lat</th>\n",
       "      <th>long</th>\n",
       "      <th>name</th>\n",
       "    </tr>\n",
       "  </thead>\n",
       "  <tbody>\n",
       "    <tr>\n",
       "      <th>1</th>\n",
       "      <td>0.0</td>\n",
       "      <td>m</td>\n",
       "      <td>DARLINGTON</td>\n",
       "      <td>54.426256</td>\n",
       "      <td>-1.465314</td>\n",
       "      <td>Edward</td>\n",
       "    </tr>\n",
       "    <tr>\n",
       "      <th>49</th>\n",
       "      <td>0.0</td>\n",
       "      <td>m</td>\n",
       "      <td>DARLINGTON</td>\n",
       "      <td>54.575450</td>\n",
       "      <td>-1.600592</td>\n",
       "      <td>Edward</td>\n",
       "    </tr>\n",
       "    <tr>\n",
       "      <th>106</th>\n",
       "      <td>0.0</td>\n",
       "      <td>m</td>\n",
       "      <td>DARLINGTON</td>\n",
       "      <td>54.488042</td>\n",
       "      <td>-1.640927</td>\n",
       "      <td>Edward</td>\n",
       "    </tr>\n",
       "    <tr>\n",
       "      <th>145</th>\n",
       "      <td>0.0</td>\n",
       "      <td>m</td>\n",
       "      <td>DARLINGTON</td>\n",
       "      <td>54.492810</td>\n",
       "      <td>-1.509049</td>\n",
       "      <td>Edward</td>\n",
       "    </tr>\n",
       "    <tr>\n",
       "      <th>170</th>\n",
       "      <td>0.0</td>\n",
       "      <td>m</td>\n",
       "      <td>DARLINGTON</td>\n",
       "      <td>54.577920</td>\n",
       "      <td>-1.436109</td>\n",
       "      <td>Edward</td>\n",
       "    </tr>\n",
       "  </tbody>\n",
       "</table>\n",
       "</div>"
      ],
      "text/plain": [
       "     age sex      county        lat      long    name\n",
       "1    0.0   m  DARLINGTON  54.426256 -1.465314  Edward\n",
       "49   0.0   m  DARLINGTON  54.575450 -1.600592  Edward\n",
       "106  0.0   m  DARLINGTON  54.488042 -1.640927  Edward\n",
       "145  0.0   m  DARLINGTON  54.492810 -1.509049  Edward\n",
       "170  0.0   m  DARLINGTON  54.577920 -1.436109  Edward"
      ]
     },
     "metadata": {},
     "execution_count": 22
    }
   ],
   "metadata": {}
  },
  {
   "cell_type": "markdown",
   "source": [
    "#### Pandas"
   ],
   "metadata": {}
  },
  {
   "cell_type": "code",
   "execution_count": 23,
   "source": [
    "%time ed_names_pd = df.loc[np.logical_and(df['name'].str.startswith('E'), df['name'].str.endswith('d'))]"
   ],
   "outputs": [
    {
     "output_type": "stream",
     "name": "stdout",
     "text": [
      "CPU times: user 27.5 s, sys: 640 ms, total: 28.2 s\n",
      "Wall time: 28.2 s\n"
     ]
    }
   ],
   "metadata": {}
  },
  {
   "cell_type": "markdown",
   "source": [
    "## Basic Data Cleaning"
   ],
   "metadata": {}
  },
  {
   "cell_type": "markdown",
   "source": [
    "### 1. Modifying `dtypes`"
   ],
   "metadata": {}
  },
  {
   "cell_type": "markdown",
   "source": [
    "converting any 64-bit data types to their 32-bit counterparts."
   ],
   "metadata": {}
  },
  {
   "cell_type": "code",
   "execution_count": 25,
   "source": [
    "gdf['lat'] = gdf['lat'].astype('float32')\r\n",
    "gdf['long'] = gdf['long'].astype('float32')"
   ],
   "outputs": [],
   "metadata": {}
  },
  {
   "cell_type": "markdown",
   "source": [
    "### 2. Title Case the Counties"
   ],
   "metadata": {}
  },
  {
   "cell_type": "code",
   "execution_count": 26,
   "source": [
    "gdf['county'].head()"
   ],
   "outputs": [
    {
     "output_type": "execute_result",
     "data": {
      "text/plain": [
       "0    DARLINGTON\n",
       "1    DARLINGTON\n",
       "2    DARLINGTON\n",
       "3    DARLINGTON\n",
       "4    DARLINGTON\n",
       "Name: county, dtype: object"
      ]
     },
     "metadata": {},
     "execution_count": 26
    }
   ],
   "metadata": {}
  },
  {
   "cell_type": "markdown",
   "source": [
    "Converting them to title case to be consistent with the `name` column."
   ],
   "metadata": {}
  },
  {
   "cell_type": "code",
   "execution_count": 28,
   "source": [
    "gdf['county'] = gdf['county'].str.title()"
   ],
   "outputs": [],
   "metadata": {}
  },
  {
   "cell_type": "markdown",
   "source": [
    "## Counties North of Sunderland"
   ],
   "metadata": {}
  },
  {
   "cell_type": "markdown",
   "source": [
    "Here we identify the latitude of the northernmost resident of Sunderland county (the person with the maximum `lat` value), and then determine which counties have any residents north of this resident"
   ],
   "metadata": {}
  },
  {
   "cell_type": "code",
   "execution_count": 31,
   "source": [
    "sunderland_residents = gdf.loc[gdf['county'] == 'Sunderland']\r\n",
    "northmost_sunderland_lat = sunderland_residents['lat'].max()\r\n",
    "counties_with_pop_north_of = gdf.loc[gdf['lat'] > northmost_sunderland_lat]['county'].unique()\r\n",
    "counties_with_pop_north_of"
   ],
   "outputs": [
    {
     "output_type": "execute_result",
     "data": {
      "text/plain": [
       "0          County Durham\n",
       "1                Cumbria\n",
       "2              Gateshead\n",
       "3    Newcastle Upon Tyne\n",
       "4         North Tyneside\n",
       "5        North Yorkshire\n",
       "6         Northumberland\n",
       "7         South Tyneside\n",
       "Name: county, dtype: object"
      ]
     },
     "metadata": {},
     "execution_count": 31
    }
   ],
   "metadata": {}
  },
  {
   "cell_type": "markdown",
   "source": [
    "## Grouping and Sorting with cuDF"
   ],
   "metadata": {}
  },
  {
   "cell_type": "markdown",
   "source": [
    "We once again read the UK population data, returning to timed comparisons with Pandas."
   ],
   "metadata": {}
  },
  {
   "cell_type": "code",
   "execution_count": 2,
   "source": [
    "%time gdf = cudf.read_csv('./data/pop_1-04.csv', dtype=['float32', 'str', 'str', 'float32', 'float32', 'str'])"
   ],
   "outputs": [
    {
     "output_type": "stream",
     "name": "stdout",
     "text": [
      "CPU times: user 1.69 s, sys: 876 ms, total: 2.56 s\n",
      "Wall time: 2.56 s\n"
     ]
    }
   ],
   "metadata": {}
  },
  {
   "cell_type": "code",
   "execution_count": 3,
   "source": [
    "%time df = pd.read_csv('./data/pop_1-04.csv')"
   ],
   "outputs": [
    {
     "output_type": "stream",
     "name": "stdout",
     "text": [
      "CPU times: user 27.8 s, sys: 4.02 s, total: 31.8 s\n",
      "Wall time: 31.8 s\n"
     ]
    }
   ],
   "metadata": {}
  },
  {
   "cell_type": "code",
   "execution_count": 4,
   "source": [
    "gdf.dtypes"
   ],
   "outputs": [
    {
     "output_type": "execute_result",
     "data": {
      "text/plain": [
       "age       float32\n",
       "sex        object\n",
       "county     object\n",
       "lat       float32\n",
       "long      float32\n",
       "name       object\n",
       "dtype: object"
      ]
     },
     "metadata": {},
     "execution_count": 4
    }
   ],
   "metadata": {}
  },
  {
   "cell_type": "code",
   "execution_count": 5,
   "source": [
    "gdf.shape"
   ],
   "outputs": [
    {
     "output_type": "execute_result",
     "data": {
      "text/plain": [
       "(58479894, 6)"
      ]
     },
     "metadata": {},
     "execution_count": 5
    }
   ],
   "metadata": {}
  },
  {
   "cell_type": "code",
   "execution_count": 6,
   "source": [
    "gdf.head()"
   ],
   "outputs": [
    {
     "output_type": "execute_result",
     "data": {
      "text/html": [
       "<div>\n",
       "<style scoped>\n",
       "    .dataframe tbody tr th:only-of-type {\n",
       "        vertical-align: middle;\n",
       "    }\n",
       "\n",
       "    .dataframe tbody tr th {\n",
       "        vertical-align: top;\n",
       "    }\n",
       "\n",
       "    .dataframe thead th {\n",
       "        text-align: right;\n",
       "    }\n",
       "</style>\n",
       "<table border=\"1\" class=\"dataframe\">\n",
       "  <thead>\n",
       "    <tr style=\"text-align: right;\">\n",
       "      <th></th>\n",
       "      <th>age</th>\n",
       "      <th>sex</th>\n",
       "      <th>county</th>\n",
       "      <th>lat</th>\n",
       "      <th>long</th>\n",
       "      <th>name</th>\n",
       "    </tr>\n",
       "  </thead>\n",
       "  <tbody>\n",
       "    <tr>\n",
       "      <th>0</th>\n",
       "      <td>0.0</td>\n",
       "      <td>m</td>\n",
       "      <td>Darlington</td>\n",
       "      <td>54.533638</td>\n",
       "      <td>-1.524400</td>\n",
       "      <td>Francis</td>\n",
       "    </tr>\n",
       "    <tr>\n",
       "      <th>1</th>\n",
       "      <td>0.0</td>\n",
       "      <td>m</td>\n",
       "      <td>Darlington</td>\n",
       "      <td>54.426254</td>\n",
       "      <td>-1.465314</td>\n",
       "      <td>Edward</td>\n",
       "    </tr>\n",
       "    <tr>\n",
       "      <th>2</th>\n",
       "      <td>0.0</td>\n",
       "      <td>m</td>\n",
       "      <td>Darlington</td>\n",
       "      <td>54.555199</td>\n",
       "      <td>-1.496417</td>\n",
       "      <td>Teddy</td>\n",
       "    </tr>\n",
       "    <tr>\n",
       "      <th>3</th>\n",
       "      <td>0.0</td>\n",
       "      <td>m</td>\n",
       "      <td>Darlington</td>\n",
       "      <td>54.547905</td>\n",
       "      <td>-1.572341</td>\n",
       "      <td>Angus</td>\n",
       "    </tr>\n",
       "    <tr>\n",
       "      <th>4</th>\n",
       "      <td>0.0</td>\n",
       "      <td>m</td>\n",
       "      <td>Darlington</td>\n",
       "      <td>54.477638</td>\n",
       "      <td>-1.605995</td>\n",
       "      <td>Charlie</td>\n",
       "    </tr>\n",
       "  </tbody>\n",
       "</table>\n",
       "</div>"
      ],
      "text/plain": [
       "   age sex      county        lat      long     name\n",
       "0  0.0   m  Darlington  54.533638 -1.524400  Francis\n",
       "1  0.0   m  Darlington  54.426254 -1.465314   Edward\n",
       "2  0.0   m  Darlington  54.555199 -1.496417    Teddy\n",
       "3  0.0   m  Darlington  54.547905 -1.572341    Angus\n",
       "4  0.0   m  Darlington  54.477638 -1.605995  Charlie"
      ]
     },
     "metadata": {},
     "execution_count": 6
    }
   ],
   "metadata": {}
  },
  {
   "cell_type": "markdown",
   "source": [
    "## Grouping and Sorting"
   ],
   "metadata": {}
  },
  {
   "cell_type": "markdown",
   "source": [
    "### Record Grouping"
   ],
   "metadata": {}
  },
  {
   "cell_type": "markdown",
   "source": [
    "#### cuDF"
   ],
   "metadata": {}
  },
  {
   "cell_type": "code",
   "execution_count": 7,
   "source": [
    "%%time\r\n",
    "counties = gdf[['county', 'age']].groupby(['county'])\r\n",
    "avg_ages = counties.mean()\r\n",
    "print(avg_ages[:5])"
   ],
   "outputs": [
    {
     "output_type": "stream",
     "name": "stdout",
     "text": [
      "                      age\n",
      "county                   \n",
      "Warrington      40.888416\n",
      "Reading         35.868777\n",
      "Derbyshire      42.913279\n",
      "East Sussex     44.757385\n",
      "Northumberland  44.626919\n",
      "CPU times: user 324 ms, sys: 56 ms, total: 380 ms\n",
      "Wall time: 381 ms\n"
     ]
    }
   ],
   "metadata": {}
  },
  {
   "cell_type": "markdown",
   "source": [
    "#### Pandas"
   ],
   "metadata": {}
  },
  {
   "cell_type": "code",
   "execution_count": 8,
   "source": [
    "%%time\r\n",
    "counties_pd = df[['county', 'age']].groupby(['county'])\r\n",
    "avg_ages_pd = counties_pd.mean()\r\n",
    "print(avg_ages_pd[:5])"
   ],
   "outputs": [
    {
     "output_type": "stream",
     "name": "stdout",
     "text": [
      "                                    age\n",
      "county                                 \n",
      "Barking And Dagenham          33.056845\n",
      "Barnet                        37.629770\n",
      "Barnsley                      41.201061\n",
      "Bath And North East Somerset  39.822837\n",
      "Bedford                       39.715300\n",
      "CPU times: user 4.08 s, sys: 1.08 s, total: 5.16 s\n",
      "Wall time: 5.15 s\n"
     ]
    }
   ],
   "metadata": {}
  },
  {
   "cell_type": "markdown",
   "source": [
    "## Sorting"
   ],
   "metadata": {}
  },
  {
   "cell_type": "markdown",
   "source": [
    "#### cuDF"
   ],
   "metadata": {}
  },
  {
   "cell_type": "code",
   "execution_count": 9,
   "source": [
    "%time gdf_names = gdf['name'].sort_values()\r\n",
    "print(gdf_names[:5]) # yes, \"A\" is an infrequent but correct given name in the UK, according to census data\r\n",
    "print(gdf_names[-5:])"
   ],
   "outputs": [
    {
     "output_type": "stream",
     "name": "stdout",
     "text": [
      "CPU times: user 836 ms, sys: 932 ms, total: 1.77 s\n",
      "Wall time: 1.77 s\n",
      "26850     A\n",
      "154537    A\n",
      "165578    A\n",
      "211428    A\n",
      "236972    A\n",
      "Name: name, dtype: object\n",
      "58060377    Zyrah\n",
      "58289490    Zyrah\n",
      "58363665    Zyrah\n",
      "58388727    Zyrah\n",
      "58394184    Zyrah\n",
      "Name: name, dtype: object\n"
     ]
    }
   ],
   "metadata": {}
  },
  {
   "cell_type": "markdown",
   "source": [
    "## Youngest Names"
   ],
   "metadata": {}
  },
  {
   "cell_type": "markdown",
   "source": [
    " We can finnd which names are associated with the lowest average age and how many people have those names. Here we identify the three names with the lowest mean age and their counts."
   ],
   "metadata": {}
  },
  {
   "cell_type": "code",
   "execution_count": 13,
   "source": [
    "name_ages"
   ],
   "outputs": [
    {
     "output_type": "execute_result",
     "data": {
      "text/plain": [
       "Nea         41.720280\n",
       "Remel       38.792135\n",
       "Fionn       39.355672\n",
       "Yannick     38.114173\n",
       "Dantae      40.057751\n",
       "              ...    \n",
       "Jaxson      39.002123\n",
       "Colby       38.862656\n",
       "Larysa      39.664360\n",
       "Bastian     38.417076\n",
       "Abbigail    40.958393\n",
       "Name: age, Length: 13212, dtype: float64"
      ]
     },
     "metadata": {},
     "execution_count": 13
    }
   ],
   "metadata": {}
  },
  {
   "cell_type": "markdown",
   "source": [
    "## Grid Coordinate Conversion with CuPy"
   ],
   "metadata": {}
  },
  {
   "cell_type": "markdown",
   "source": [
    "Much of our data is provided with latitude and longitude coordinates, but for some of our machine learning tasks involving distance - identifying geographically dense clusters of infected people, locating the nearest hospital or clinic from a given person - it is convenient to have Cartesian grid coordinates instead. Our road data comes with those coordinates, as well. By using a region-specific map projection - in this case, the Ordnance Survey Great Britain 1936 - we can compute local distances efficiently and with good accuracy.\r\n",
    "\r\n",
    "Here I will use a user-defined function to perform data manipulation, generating grid coordinate values."
   ],
   "metadata": {}
  },
  {
   "cell_type": "code",
   "execution_count": 1,
   "source": [
    "import cupy as cp"
   ],
   "outputs": [],
   "metadata": {}
  },
  {
   "cell_type": "code",
   "execution_count": 2,
   "source": [
    "%time gdf = cudf.read_csv('./data/pop_1-05.csv', dtype=['float32', 'str', 'str', 'float32', 'float32', 'str'])"
   ],
   "outputs": [
    {
     "output_type": "stream",
     "name": "stdout",
     "text": [
      "CPU times: user 1.58 s, sys: 980 ms, total: 2.56 s\n",
      "Wall time: 2.57 s\n"
     ]
    }
   ],
   "metadata": {}
  },
  {
   "cell_type": "code",
   "execution_count": 3,
   "source": [
    "gdf.dtypes"
   ],
   "outputs": [
    {
     "output_type": "execute_result",
     "data": {
      "text/plain": [
       "age       float32\n",
       "sex        object\n",
       "county     object\n",
       "lat       float32\n",
       "long      float32\n",
       "name       object\n",
       "dtype: object"
      ]
     },
     "metadata": {},
     "execution_count": 3
    }
   ],
   "metadata": {}
  },
  {
   "cell_type": "code",
   "execution_count": 4,
   "source": [
    "gdf.shape"
   ],
   "outputs": [
    {
     "output_type": "execute_result",
     "data": {
      "text/plain": [
       "(58479894, 6)"
      ]
     },
     "metadata": {},
     "execution_count": 4
    }
   ],
   "metadata": {}
  },
  {
   "cell_type": "markdown",
   "source": [
    "## Lat/Long to OSGB Grid Converter with NumPy"
   ],
   "metadata": {}
  },
  {
   "cell_type": "markdown",
   "source": [
    "To perform coordinate conversion, we will create a function `latlong2osgbgrid` which accepts latitude/longitude coordinates and converts them to OSGB36 coordinates: \"northing\" and \"easting\" values representing the point's Cartesian coordinate distances from the southwest corner of the grid."
   ],
   "metadata": {}
  },
  {
   "cell_type": "code",
   "execution_count": 5,
   "source": [
    "# https://www.ordnancesurvey.co.uk/docs/support/guide-coordinate-systems-great-britain.pdf\r\n",
    "\r\n",
    "def latlong2osgbgrid(lat, long, input_degrees=True):\r\n",
    "    '''\r\n",
    "    Converts latitude and longitude (ellipsoidal) coordinates into northing and easting (grid) coordinates, using a Transverse Mercator projection.\r\n",
    "    \r\n",
    "    Inputs:\r\n",
    "    lat: latitude coordinate (north)\r\n",
    "    long: longitude coordinate (east)\r\n",
    "    input_degrees: if True (default), interprets the coordinates as degrees; otherwise, interprets coordinates as radians\r\n",
    "    \r\n",
    "    Output:\r\n",
    "    (northing, easting)\r\n",
    "    '''\r\n",
    "    \r\n",
    "    if input_degrees:\r\n",
    "        lat = lat * np.pi/180\r\n",
    "        long = long * np.pi/180\r\n",
    "\r\n",
    "    a = 6377563.396\r\n",
    "    b = 6356256.909\r\n",
    "    e2 = (a**2 - b**2) / a**2\r\n",
    "\r\n",
    "    N0 = -100000                # northing of true origin\r\n",
    "    E0 = 400000                 # easting of true origin\r\n",
    "    F0 = .9996012717            # scale factor on central meridian\r\n",
    "    phi0 = 49 * np.pi / 180     # latitude of true origin\r\n",
    "    lambda0 = -2 * np.pi / 180  # longitude of true origin and central meridian\r\n",
    "    \r\n",
    "    sinlat = np.sin(lat)\r\n",
    "    coslat = np.cos(lat)\r\n",
    "    tanlat = np.tan(lat)\r\n",
    "    \r\n",
    "    latdiff = lat-phi0\r\n",
    "    longdiff = long-lambda0\r\n",
    "\r\n",
    "    n = (a-b) / (a+b)\r\n",
    "    nu = a * F0 * (1 - e2 * sinlat ** 2) ** -.5\r\n",
    "    rho = a * F0 * (1 - e2) * (1 - e2 * sinlat ** 2) ** -1.5\r\n",
    "    eta2 = nu / rho - 1\r\n",
    "    M = b * F0 * ((1 + n + 5/4 * (n**2 + n**3)) * latdiff - \r\n",
    "                  (3*(n+n**2) + 21/8 * n**3) * np.sin(latdiff) * np.cos(lat+phi0) +\r\n",
    "                  15/8 * (n**2 + n**3) * np.sin(2*(latdiff)) * np.cos(2*(lat+phi0)) - \r\n",
    "                  35/24 * n**3 * np.sin(3*(latdiff)) * np.cos(3*(lat+phi0)))\r\n",
    "    I = M + N0\r\n",
    "    II = nu/2 * sinlat * coslat\r\n",
    "    III = nu/24 * sinlat * coslat ** 3 * (5 - tanlat ** 2 + 9 * eta2)\r\n",
    "    IIIA = nu/720 * sinlat * coslat ** 5 * (61-58 * tanlat**2 + tanlat**4)\r\n",
    "    IV = nu * coslat\r\n",
    "    V = nu / 6 * coslat**3 * (nu/rho - np.tan(lat)**2)\r\n",
    "    VI = nu / 120 * coslat ** 5 * (5 - 18 * tanlat**2 + tanlat**4 + 14 * eta2 - 58 * tanlat**2 * eta2)\r\n",
    "\r\n",
    "    northing = I + II * longdiff**2 + III * longdiff**4 + IIIA * longdiff**6\r\n",
    "    easting = E0 + IV * longdiff + V * longdiff**3 + VI * longdiff**5\r\n",
    "\r\n",
    "    return(northing, easting)"
   ],
   "outputs": [],
   "metadata": {}
  },
  {
   "cell_type": "markdown",
   "source": [
    "To test the converter and check its performance, here we generate 10,000,000 normally distributed random coordinates within the rough bounds of the latitude and longitude ranges of the UK."
   ],
   "metadata": {}
  },
  {
   "cell_type": "code",
   "execution_count": 6,
   "source": [
    "%%time\r\n",
    "coord_lat = np.random.normal(54, 1, 10000000)\r\n",
    "coord_long = np.random.normal(-1.5, .25, 10000000)"
   ],
   "outputs": [
    {
     "output_type": "stream",
     "name": "stdout",
     "text": [
      "CPU times: user 780 ms, sys: 60 ms, total: 840 ms\n",
      "Wall time: 837 ms\n"
     ]
    }
   ],
   "metadata": {}
  },
  {
   "cell_type": "markdown",
   "source": [
    "We now pass these latitude/longitude coordinates into the converter, which returns north and east values within the OSGB grid:"
   ],
   "metadata": {}
  },
  {
   "cell_type": "code",
   "execution_count": 7,
   "source": [
    "%time grid_n, grid_e = latlong2osgbgrid(coord_lat, coord_long)\r\n",
    "print(grid_n[:5], grid_e[:5])"
   ],
   "outputs": [
    {
     "output_type": "stream",
     "name": "stdout",
     "text": [
      "CPU times: user 11.6 s, sys: 1.74 s, total: 13.3 s\n",
      "Wall time: 13.3 s\n",
      "[477904.27459304 411905.9497043  400454.85087133 521396.93235982\n",
      " 415548.27456966] [437433.27798007 441197.38257213 398750.53727725 461983.78398127\n",
      " 415041.82417874]\n"
     ]
    }
   ],
   "metadata": {}
  },
  {
   "cell_type": "markdown",
   "source": [
    "[CuPy](https://cupy.chainer.org/) is a NumPy-like matrix library that can often be used as a drop in replacement for NumPy.\n",
    "\n",
    "In the following `latlong2osgbgrid_cupy`, we simply swap `cp` in for `np`. While CuPy supports a wide variety of powerful GPU-accelerated tasks, this simple technique of being able to swap in CuPy calls for NumPy calls makes it an incredibly powerful tool to have at your disposal."
   ],
   "metadata": {}
  },
  {
   "cell_type": "code",
   "execution_count": 11,
   "source": [
    "# https://www.ordnancesurvey.co.uk/docs/support/guide-coordinate-systems-great-britain.pdf\r\n",
    "\r\n",
    "def latlong2osgbgrid_cupy(lat, long, input_degrees=True):\r\n",
    "    '''\r\n",
    "    Converts latitude and longitude (ellipsoidal) coordinates into northing and easting (grid) coordinates, using a Transverse Mercator projection.\r\n",
    "    \r\n",
    "    Inputs:\r\n",
    "    lat: latitude coordinate (north)\r\n",
    "    long: longitude coordinate (east)\r\n",
    "    input_degrees: if True (default), interprets the coordinates as degrees; otherwise, interprets coordinates as radians\r\n",
    "    \r\n",
    "    Output:\r\n",
    "    (northing, easting)\r\n",
    "    '''\r\n",
    "    \r\n",
    "    if input_degrees:\r\n",
    "        lat = lat * cp.pi/180\r\n",
    "        long = long * cp.pi/180\r\n",
    "\r\n",
    "    a = 6377563.396\r\n",
    "    b = 6356256.909\r\n",
    "    e2 = (a**2 - b**2) / a**2\r\n",
    "\r\n",
    "    N0 = -100000                 # northing of true origin\r\n",
    "    E0 = 400000                  # easting of true origin\r\n",
    "    F0 = .9996012717             # scale factor on central meridian\r\n",
    "    phi0 = 49 * cp.pi / 180      # latitude of true origin\r\n",
    "    lambda0 = -2 * cp.pi / 180   # longitude of true origin and central meridian\r\n",
    "    \r\n",
    "    sinlat = cp.sin(lat)\r\n",
    "    coslat = cp.cos(lat)\r\n",
    "    tanlat = cp.tan(lat)\r\n",
    "    \r\n",
    "    latdiff = lat-phi0\r\n",
    "    longdiff = long-lambda0\r\n",
    "\r\n",
    "    n = (a-b) / (a+b)\r\n",
    "    nu = a * F0 * (1 - e2 * sinlat ** 2) ** -.5\r\n",
    "    rho = a * F0 * (1 - e2) * (1 - e2 * sinlat ** 2) ** -1.5\r\n",
    "    eta2 = nu / rho - 1\r\n",
    "    M = b * F0 * ((1 + n + 5/4 * (n**2 + n**3)) * latdiff - \r\n",
    "                  (3*(n+n**2) + 21/8 * n**3) * cp.sin(latdiff) * cp.cos(lat+phi0) +\r\n",
    "                  15/8 * (n**2 + n**3) * cp.sin(2*(latdiff)) * cp.cos(2*(lat+phi0)) - \r\n",
    "                  35/24 * n**3 * cp.sin(3*(latdiff)) * cp.cos(3*(lat+phi0)))\r\n",
    "    I = M + N0\r\n",
    "    II = nu/2 * sinlat * coslat\r\n",
    "    III = nu/24 * sinlat * coslat ** 3 * (5 - tanlat ** 2 + 9 * eta2)\r\n",
    "    IIIA = nu/720 * sinlat * coslat ** 5 * (61-58 * tanlat**2 + tanlat**4)\r\n",
    "    IV = nu * coslat\r\n",
    "    V = nu / 6 * coslat**3 * (nu/rho - cp.tan(lat)**2)\r\n",
    "    VI = nu / 120 * coslat ** 5 * (5 - 18 * tanlat**2 + tanlat**4 + 14 * eta2 - 58 * tanlat**2 * eta2)\r\n",
    "\r\n",
    "    northing = I + II * longdiff**2 + III * longdiff**4 + IIIA * longdiff**6\r\n",
    "    easting = E0 + IV * longdiff + V * longdiff**3 + VI * longdiff**5\r\n",
    "\r\n",
    "    return(northing, easting)"
   ],
   "outputs": [],
   "metadata": {}
  },
  {
   "cell_type": "markdown",
   "source": [
    "Here we perform the same operations as we did with NumPy above, only the conversion runs significantly faster. Once you have run the cells below, try rerunning the NumPy converter above (including random number generation) and then the CuPy converter - you may see even larger differences."
   ],
   "metadata": {}
  },
  {
   "cell_type": "code",
   "execution_count": 12,
   "source": [
    "%%time\r\n",
    "coord_lat = cp.random.normal(54, 1, 10000000)\r\n",
    "coord_long = cp.random.normal(-1.5, .25, 10000000)"
   ],
   "outputs": [
    {
     "output_type": "stream",
     "name": "stdout",
     "text": [
      "CPU times: user 16 ms, sys: 12 ms, total: 28 ms\n",
      "Wall time: 25.5 ms\n"
     ]
    }
   ],
   "metadata": {}
  },
  {
   "cell_type": "code",
   "execution_count": 13,
   "source": [
    "%time grid_n, grid_e = latlong2osgbgrid_cupy(coord_lat, coord_long)\r\n",
    "print(grid_n[:5], grid_e[:5])"
   ],
   "outputs": [
    {
     "output_type": "stream",
     "name": "stdout",
     "text": [
      "CPU times: user 228 ms, sys: 308 ms, total: 536 ms\n",
      "Wall time: 548 ms\n",
      "[419364.66658983 399962.5448861  477873.81059207 300775.32938867\n",
      " 498966.484745  ] [405708.20742884 426778.52432473 430594.38727412 413260.31588266\n",
      " 434784.47043857]\n"
     ]
    }
   ],
   "metadata": {}
  },
  {
   "cell_type": "markdown",
   "source": [
    "Now we will utilize `latlong2osgbgrid_cupy` to add `northing` and `easting` columns to `gdf`. We start by converting the two columns we need, `lat` and `long`, to CuPy arrays with the `cp.asarray` method. Because cuDF and CuPy interface directly via the `__cuda_array_interface__`, the conversion can happen in nanoseconds."
   ],
   "metadata": {}
  },
  {
   "cell_type": "code",
   "execution_count": 14,
   "source": [
    "%%time\r\n",
    "cupy_lat = cp.asarray(gdf['lat'])\r\n",
    "cupy_long = cp.asarray(gdf['long'])"
   ],
   "outputs": [
    {
     "output_type": "stream",
     "name": "stdout",
     "text": [
      "CPU times: user 0 ns, sys: 0 ns, total: 0 ns\n",
      "Wall time: 1.11 ms\n"
     ]
    }
   ],
   "metadata": {}
  },
  {
   "cell_type": "markdown",
   "source": [
    "### Creating the Grid Columns"
   ],
   "metadata": {}
  },
  {
   "cell_type": "code",
   "execution_count": 16,
   "source": [
    "n_cupy_array, e_cupy_array = latlong2osgbgrid_cupy(cupy_lat, cupy_long)\r\n",
    "gdf['northing'] = cudf.Series(n_cupy_array).astype('float32')\r\n",
    "gdf['easting'] = cudf.Series(e_cupy_array).astype('float32')\r\n",
    "print(gdf.dtypes)\r\n",
    "gdf.head()"
   ],
   "outputs": [
    {
     "output_type": "stream",
     "name": "stdout",
     "text": [
      "age         float32\n",
      "sex          object\n",
      "county       object\n",
      "lat         float32\n",
      "long        float32\n",
      "name         object\n",
      "northing    float32\n",
      "easting     float32\n",
      "dtype: object\n"
     ]
    },
    {
     "output_type": "execute_result",
     "data": {
      "text/html": [
       "<div>\n",
       "<style scoped>\n",
       "    .dataframe tbody tr th:only-of-type {\n",
       "        vertical-align: middle;\n",
       "    }\n",
       "\n",
       "    .dataframe tbody tr th {\n",
       "        vertical-align: top;\n",
       "    }\n",
       "\n",
       "    .dataframe thead th {\n",
       "        text-align: right;\n",
       "    }\n",
       "</style>\n",
       "<table border=\"1\" class=\"dataframe\">\n",
       "  <thead>\n",
       "    <tr style=\"text-align: right;\">\n",
       "      <th></th>\n",
       "      <th>age</th>\n",
       "      <th>sex</th>\n",
       "      <th>county</th>\n",
       "      <th>lat</th>\n",
       "      <th>long</th>\n",
       "      <th>name</th>\n",
       "      <th>northing</th>\n",
       "      <th>easting</th>\n",
       "    </tr>\n",
       "  </thead>\n",
       "  <tbody>\n",
       "    <tr>\n",
       "      <th>0</th>\n",
       "      <td>0.0</td>\n",
       "      <td>m</td>\n",
       "      <td>Darlington</td>\n",
       "      <td>54.533638</td>\n",
       "      <td>-1.524400</td>\n",
       "      <td>Francis</td>\n",
       "      <td>515491.90625</td>\n",
       "      <td>430772.15625</td>\n",
       "    </tr>\n",
       "    <tr>\n",
       "      <th>1</th>\n",
       "      <td>0.0</td>\n",
       "      <td>m</td>\n",
       "      <td>Darlington</td>\n",
       "      <td>54.426254</td>\n",
       "      <td>-1.465314</td>\n",
       "      <td>Edward</td>\n",
       "      <td>503572.46875</td>\n",
       "      <td>434685.87500</td>\n",
       "    </tr>\n",
       "    <tr>\n",
       "      <th>2</th>\n",
       "      <td>0.0</td>\n",
       "      <td>m</td>\n",
       "      <td>Darlington</td>\n",
       "      <td>54.555199</td>\n",
       "      <td>-1.496417</td>\n",
       "      <td>Teddy</td>\n",
       "      <td>517903.65625</td>\n",
       "      <td>432565.53125</td>\n",
       "    </tr>\n",
       "    <tr>\n",
       "      <th>3</th>\n",
       "      <td>0.0</td>\n",
       "      <td>m</td>\n",
       "      <td>Darlington</td>\n",
       "      <td>54.547905</td>\n",
       "      <td>-1.572341</td>\n",
       "      <td>Angus</td>\n",
       "      <td>517059.90625</td>\n",
       "      <td>427660.65625</td>\n",
       "    </tr>\n",
       "    <tr>\n",
       "      <th>4</th>\n",
       "      <td>0.0</td>\n",
       "      <td>m</td>\n",
       "      <td>Darlington</td>\n",
       "      <td>54.477638</td>\n",
       "      <td>-1.605995</td>\n",
       "      <td>Charlie</td>\n",
       "      <td>509228.68750</td>\n",
       "      <td>425527.78125</td>\n",
       "    </tr>\n",
       "  </tbody>\n",
       "</table>\n",
       "</div>"
      ],
      "text/plain": [
       "   age sex      county        lat      long     name      northing  \\\n",
       "0  0.0   m  Darlington  54.533638 -1.524400  Francis  515491.90625   \n",
       "1  0.0   m  Darlington  54.426254 -1.465314   Edward  503572.46875   \n",
       "2  0.0   m  Darlington  54.555199 -1.496417    Teddy  517903.65625   \n",
       "3  0.0   m  Darlington  54.547905 -1.572341    Angus  517059.90625   \n",
       "4  0.0   m  Darlington  54.477638 -1.605995  Charlie  509228.68750   \n",
       "\n",
       "        easting  \n",
       "0  430772.15625  \n",
       "1  434685.87500  \n",
       "2  432565.53125  \n",
       "3  427660.65625  \n",
       "4  425527.78125  "
      ]
     },
     "metadata": {},
     "execution_count": 16
    }
   ],
   "metadata": {}
  },
  {
   "cell_type": "markdown",
   "source": [
    "## Preparing Data for Graph Construction"
   ],
   "metadata": {}
  },
  {
   "cell_type": "markdown",
   "source": [
    "We will be working with data representing the entire road network of Great Britain. We have as a starting point road data extracted into tabular csv format from official GML files. Ultimately, we would like to use cuGraph to perform GPU-accelerated graph analytics on this data, but in order to do so, we need to do some preprocessing to get it ready for graph creation. Here we will perform those steps"
   ],
   "metadata": {}
  },
  {
   "cell_type": "markdown",
   "source": [
    "In addition to `cudf`, for this notebook we will also import `cugraph`, which we will use (after data preparation) to construct a GPU-accelerated graph. We also import `networkx` for a brief performance comparison later on."
   ],
   "metadata": {}
  },
  {
   "cell_type": "code",
   "execution_count": 1,
   "source": [
    "import cugraph as cg\r\n",
    "import networkx as nx"
   ],
   "outputs": [],
   "metadata": {}
  },
  {
   "cell_type": "markdown",
   "source": [
    "In this notebook we will be working with two data sources that will help us create a graph of the UK's road networks."
   ],
   "metadata": {}
  },
  {
   "cell_type": "markdown",
   "source": [
    "### UK Road Nodes"
   ],
   "metadata": {}
  },
  {
   "cell_type": "markdown",
   "source": [
    "The first data table describes the nodes in the road network: endpoints, junctions (including roundabouts), and points that break up a long stretch of curving road so that it can be mapped correctly (instead of as a straight line).\n",
    "\n",
    "The coordinates for each point are in the OSGB36 format we explored earlier in section 1-05."
   ],
   "metadata": {}
  },
  {
   "cell_type": "code",
   "execution_count": 2,
   "source": [
    "road_nodes = cudf.read_csv('./data/road_nodes_1-06.csv')\r\n",
    "road_nodes.head()"
   ],
   "outputs": [
    {
     "output_type": "execute_result",
     "data": {
      "text/html": [
       "<div>\n",
       "<style scoped>\n",
       "    .dataframe tbody tr th:only-of-type {\n",
       "        vertical-align: middle;\n",
       "    }\n",
       "\n",
       "    .dataframe tbody tr th {\n",
       "        vertical-align: top;\n",
       "    }\n",
       "\n",
       "    .dataframe thead th {\n",
       "        text-align: right;\n",
       "    }\n",
       "</style>\n",
       "<table border=\"1\" class=\"dataframe\">\n",
       "  <thead>\n",
       "    <tr style=\"text-align: right;\">\n",
       "      <th></th>\n",
       "      <th>node_id</th>\n",
       "      <th>east</th>\n",
       "      <th>north</th>\n",
       "      <th>type</th>\n",
       "    </tr>\n",
       "  </thead>\n",
       "  <tbody>\n",
       "    <tr>\n",
       "      <th>0</th>\n",
       "      <td>id02FE73D4-E88D-4119-8DC2-6E80DE6F6594</td>\n",
       "      <td>320608.0938</td>\n",
       "      <td>870994.0000</td>\n",
       "      <td>junction</td>\n",
       "    </tr>\n",
       "    <tr>\n",
       "      <th>1</th>\n",
       "      <td>id634D65C1-C38B-4868-9080-2E1E47F0935C</td>\n",
       "      <td>320628.5000</td>\n",
       "      <td>871103.8125</td>\n",
       "      <td>road end</td>\n",
       "    </tr>\n",
       "    <tr>\n",
       "      <th>2</th>\n",
       "      <td>idDC14D4D1-774E-487D-8EDE-60B129E5482C</td>\n",
       "      <td>320635.4688</td>\n",
       "      <td>870983.9375</td>\n",
       "      <td>junction</td>\n",
       "    </tr>\n",
       "    <tr>\n",
       "      <th>3</th>\n",
       "      <td>id51555819-1A39-4B41-B0C9-C6D2086D9921</td>\n",
       "      <td>320648.7188</td>\n",
       "      <td>871083.5625</td>\n",
       "      <td>junction</td>\n",
       "    </tr>\n",
       "    <tr>\n",
       "      <th>4</th>\n",
       "      <td>id9E362428-79D7-4EE3-B015-0CE3F6A78A69</td>\n",
       "      <td>320658.1875</td>\n",
       "      <td>871162.3750</td>\n",
       "      <td>junction</td>\n",
       "    </tr>\n",
       "  </tbody>\n",
       "</table>\n",
       "</div>"
      ],
      "text/plain": [
       "                                  node_id         east        north      type\n",
       "0  id02FE73D4-E88D-4119-8DC2-6E80DE6F6594  320608.0938  870994.0000  junction\n",
       "1  id634D65C1-C38B-4868-9080-2E1E47F0935C  320628.5000  871103.8125  road end\n",
       "2  idDC14D4D1-774E-487D-8EDE-60B129E5482C  320635.4688  870983.9375  junction\n",
       "3  id51555819-1A39-4B41-B0C9-C6D2086D9921  320648.7188  871083.5625  junction\n",
       "4  id9E362428-79D7-4EE3-B015-0CE3F6A78A69  320658.1875  871162.3750  junction"
      ]
     },
     "metadata": {},
     "execution_count": 2
    }
   ],
   "metadata": {}
  },
  {
   "cell_type": "code",
   "execution_count": 3,
   "source": [
    "road_nodes.dtypes"
   ],
   "outputs": [
    {
     "output_type": "execute_result",
     "data": {
      "text/plain": [
       "node_id     object\n",
       "east       float64\n",
       "north      float64\n",
       "type        object\n",
       "dtype: object"
      ]
     },
     "metadata": {},
     "execution_count": 3
    }
   ],
   "metadata": {}
  },
  {
   "cell_type": "code",
   "execution_count": 4,
   "source": [
    "road_nodes.shape"
   ],
   "outputs": [
    {
     "output_type": "execute_result",
     "data": {
      "text/plain": [
       "(3121148, 4)"
      ]
     },
     "metadata": {},
     "execution_count": 4
    }
   ],
   "metadata": {}
  },
  {
   "cell_type": "code",
   "execution_count": 5,
   "source": [
    "road_nodes['type'].unique()"
   ],
   "outputs": [
    {
     "output_type": "execute_result",
     "data": {
      "text/plain": [
       "0       junction\n",
       "1    pseudo node\n",
       "2       road end\n",
       "3     roundabout\n",
       "Name: type, dtype: object"
      ]
     },
     "metadata": {},
     "execution_count": 5
    }
   ],
   "metadata": {}
  },
  {
   "cell_type": "markdown",
   "source": [
    "### UK Road Edges"
   ],
   "metadata": {}
  },
  {
   "cell_type": "markdown",
   "source": [
    "The second data table describes road segments, including their start and end points, how long they are, and what kind of road they are."
   ],
   "metadata": {}
  },
  {
   "cell_type": "code",
   "execution_count": 6,
   "source": [
    "road_edges = cudf.read_csv('./data/road_edges_1-06.csv')\r\n",
    "road_edges.head()"
   ],
   "outputs": [
    {
     "output_type": "execute_result",
     "data": {
      "text/html": [
       "<div>\n",
       "<style scoped>\n",
       "    .dataframe tbody tr th:only-of-type {\n",
       "        vertical-align: middle;\n",
       "    }\n",
       "\n",
       "    .dataframe tbody tr th {\n",
       "        vertical-align: top;\n",
       "    }\n",
       "\n",
       "    .dataframe thead th {\n",
       "        text-align: right;\n",
       "    }\n",
       "</style>\n",
       "<table border=\"1\" class=\"dataframe\">\n",
       "  <thead>\n",
       "    <tr style=\"text-align: right;\">\n",
       "      <th></th>\n",
       "      <th>src_id</th>\n",
       "      <th>dst_id</th>\n",
       "      <th>length</th>\n",
       "      <th>type</th>\n",
       "      <th>form</th>\n",
       "    </tr>\n",
       "  </thead>\n",
       "  <tbody>\n",
       "    <tr>\n",
       "      <th>0</th>\n",
       "      <td>#id138447A5-91D4-4642-BFAC-13F309705429</td>\n",
       "      <td>#id84C9DAD4-9243-4742-B582-E8CBC848E08A</td>\n",
       "      <td>314</td>\n",
       "      <td>Restricted Local Access Road</td>\n",
       "      <td>Single Carriageway</td>\n",
       "    </tr>\n",
       "    <tr>\n",
       "      <th>1</th>\n",
       "      <td>#idD615F9C5-5BE9-412D-9FED-F4928BAB4146</td>\n",
       "      <td>#idA1BB20B9-0751-4B42-9925-20607ABF5027</td>\n",
       "      <td>104</td>\n",
       "      <td>Restricted Local Access Road</td>\n",
       "      <td>Single Carriageway</td>\n",
       "    </tr>\n",
       "    <tr>\n",
       "      <th>2</th>\n",
       "      <td>#idDC14D4D1-774E-487D-8EDE-60B129E5482C</td>\n",
       "      <td>#id51555819-1A39-4B41-B0C9-C6D2086D9921</td>\n",
       "      <td>100</td>\n",
       "      <td>Restricted Local Access Road</td>\n",
       "      <td>Single Carriageway</td>\n",
       "    </tr>\n",
       "    <tr>\n",
       "      <th>3</th>\n",
       "      <td>#id626FC567-199C-41FB-9F29-1AB718874128</td>\n",
       "      <td>#idACD1B0A9-F870-4B46-88CF-C870A9EDAF8B</td>\n",
       "      <td>93</td>\n",
       "      <td>Restricted Local Access Road</td>\n",
       "      <td>Single Carriageway</td>\n",
       "    </tr>\n",
       "    <tr>\n",
       "      <th>4</th>\n",
       "      <td>#id03312900-B147-4CA3-A858-E2BF6AD1ECA7</td>\n",
       "      <td>#id02FE73D4-E88D-4119-8DC2-6E80DE6F6594</td>\n",
       "      <td>95</td>\n",
       "      <td>Restricted Local Access Road</td>\n",
       "      <td>Single Carriageway</td>\n",
       "    </tr>\n",
       "  </tbody>\n",
       "</table>\n",
       "</div>"
      ],
      "text/plain": [
       "                                    src_id  \\\n",
       "0  #id138447A5-91D4-4642-BFAC-13F309705429   \n",
       "1  #idD615F9C5-5BE9-412D-9FED-F4928BAB4146   \n",
       "2  #idDC14D4D1-774E-487D-8EDE-60B129E5482C   \n",
       "3  #id626FC567-199C-41FB-9F29-1AB718874128   \n",
       "4  #id03312900-B147-4CA3-A858-E2BF6AD1ECA7   \n",
       "\n",
       "                                    dst_id  length  \\\n",
       "0  #id84C9DAD4-9243-4742-B582-E8CBC848E08A     314   \n",
       "1  #idA1BB20B9-0751-4B42-9925-20607ABF5027     104   \n",
       "2  #id51555819-1A39-4B41-B0C9-C6D2086D9921     100   \n",
       "3  #idACD1B0A9-F870-4B46-88CF-C870A9EDAF8B      93   \n",
       "4  #id02FE73D4-E88D-4119-8DC2-6E80DE6F6594      95   \n",
       "\n",
       "                           type                form  \n",
       "0  Restricted Local Access Road  Single Carriageway  \n",
       "1  Restricted Local Access Road  Single Carriageway  \n",
       "2  Restricted Local Access Road  Single Carriageway  \n",
       "3  Restricted Local Access Road  Single Carriageway  \n",
       "4  Restricted Local Access Road  Single Carriageway  "
      ]
     },
     "metadata": {},
     "execution_count": 6
    }
   ],
   "metadata": {}
  },
  {
   "cell_type": "code",
   "execution_count": 7,
   "source": [
    "road_edges.dtypes"
   ],
   "outputs": [
    {
     "output_type": "execute_result",
     "data": {
      "text/plain": [
       "src_id    object\n",
       "dst_id    object\n",
       "length     int64\n",
       "type      object\n",
       "form      object\n",
       "dtype: object"
      ]
     },
     "metadata": {},
     "execution_count": 7
    }
   ],
   "metadata": {}
  },
  {
   "cell_type": "code",
   "execution_count": 8,
   "source": [
    "road_edges.shape"
   ],
   "outputs": [
    {
     "output_type": "execute_result",
     "data": {
      "text/plain": [
       "(3725531, 5)"
      ]
     },
     "metadata": {},
     "execution_count": 8
    }
   ],
   "metadata": {}
  },
  {
   "cell_type": "code",
   "execution_count": 9,
   "source": [
    "road_edges['type'].unique()"
   ],
   "outputs": [
    {
     "output_type": "execute_result",
     "data": {
      "text/plain": [
       "0                          A Road\n",
       "1                          B Road\n",
       "2               Local Access Road\n",
       "3                      Local Road\n",
       "4                      Minor Road\n",
       "5                        Motorway\n",
       "6    Restricted Local Access Road\n",
       "7           Secondary Access Road\n",
       "Name: type, dtype: object"
      ]
     },
     "metadata": {},
     "execution_count": 9
    }
   ],
   "metadata": {}
  },
  {
   "cell_type": "code",
   "execution_count": 10,
   "source": [
    "road_edges['form'].unique()"
   ],
   "outputs": [
    {
     "output_type": "execute_result",
     "data": {
      "text/plain": [
       "0    Collapsed Dual Carriageway\n",
       "1              Dual Carriageway\n",
       "2                 Guided Busway\n",
       "3                    Roundabout\n",
       "4        Shared Use Carriageway\n",
       "5            Single Carriageway\n",
       "6                     Slip Road\n",
       "Name: form, dtype: object"
      ]
     },
     "metadata": {},
     "execution_count": 10
    }
   ],
   "metadata": {}
  },
  {
   "cell_type": "markdown",
   "source": [
    "## Making IDs Compatible"
   ],
   "metadata": {}
  },
  {
   "cell_type": "markdown",
   "source": [
    "Our csv files were derived from original GML files, and as seen from above, both `road_edges['src_id']` and `road_edges['dst_id']` contain a leading `#` character that `road_nodes['node_id']` does not. To make the IDs compatible we replace the `src_id` and `dst_id` columns in `road_edges` with values stripped of the leading `#` characters."
   ],
   "metadata": {}
  },
  {
   "cell_type": "code",
   "execution_count": 11,
   "source": [
    "road_edges['src_id'] = road_edges['src_id'].str.lstrip('#')\r\n",
    "road_edges['dst_id'] = road_edges['dst_id'].str.lstrip('#')\r\n",
    "road_edges[['src_id', 'dst_id']].head()"
   ],
   "outputs": [
    {
     "output_type": "execute_result",
     "data": {
      "text/html": [
       "<div>\n",
       "<style scoped>\n",
       "    .dataframe tbody tr th:only-of-type {\n",
       "        vertical-align: middle;\n",
       "    }\n",
       "\n",
       "    .dataframe tbody tr th {\n",
       "        vertical-align: top;\n",
       "    }\n",
       "\n",
       "    .dataframe thead th {\n",
       "        text-align: right;\n",
       "    }\n",
       "</style>\n",
       "<table border=\"1\" class=\"dataframe\">\n",
       "  <thead>\n",
       "    <tr style=\"text-align: right;\">\n",
       "      <th></th>\n",
       "      <th>src_id</th>\n",
       "      <th>dst_id</th>\n",
       "    </tr>\n",
       "  </thead>\n",
       "  <tbody>\n",
       "    <tr>\n",
       "      <th>0</th>\n",
       "      <td>id138447A5-91D4-4642-BFAC-13F309705429</td>\n",
       "      <td>id84C9DAD4-9243-4742-B582-E8CBC848E08A</td>\n",
       "    </tr>\n",
       "    <tr>\n",
       "      <th>1</th>\n",
       "      <td>idD615F9C5-5BE9-412D-9FED-F4928BAB4146</td>\n",
       "      <td>idA1BB20B9-0751-4B42-9925-20607ABF5027</td>\n",
       "    </tr>\n",
       "    <tr>\n",
       "      <th>2</th>\n",
       "      <td>idDC14D4D1-774E-487D-8EDE-60B129E5482C</td>\n",
       "      <td>id51555819-1A39-4B41-B0C9-C6D2086D9921</td>\n",
       "    </tr>\n",
       "    <tr>\n",
       "      <th>3</th>\n",
       "      <td>id626FC567-199C-41FB-9F29-1AB718874128</td>\n",
       "      <td>idACD1B0A9-F870-4B46-88CF-C870A9EDAF8B</td>\n",
       "    </tr>\n",
       "    <tr>\n",
       "      <th>4</th>\n",
       "      <td>id03312900-B147-4CA3-A858-E2BF6AD1ECA7</td>\n",
       "      <td>id02FE73D4-E88D-4119-8DC2-6E80DE6F6594</td>\n",
       "    </tr>\n",
       "  </tbody>\n",
       "</table>\n",
       "</div>"
      ],
      "text/plain": [
       "                                   src_id  \\\n",
       "0  id138447A5-91D4-4642-BFAC-13F309705429   \n",
       "1  idD615F9C5-5BE9-412D-9FED-F4928BAB4146   \n",
       "2  idDC14D4D1-774E-487D-8EDE-60B129E5482C   \n",
       "3  id626FC567-199C-41FB-9F29-1AB718874128   \n",
       "4  id03312900-B147-4CA3-A858-E2BF6AD1ECA7   \n",
       "\n",
       "                                   dst_id  \n",
       "0  id84C9DAD4-9243-4742-B582-E8CBC848E08A  \n",
       "1  idA1BB20B9-0751-4B42-9925-20607ABF5027  \n",
       "2  id51555819-1A39-4B41-B0C9-C6D2086D9921  \n",
       "3  idACD1B0A9-F870-4B46-88CF-C870A9EDAF8B  \n",
       "4  id02FE73D4-E88D-4119-8DC2-6E80DE6F6594  "
      ]
     },
     "metadata": {},
     "execution_count": 11
    }
   ],
   "metadata": {}
  },
  {
   "cell_type": "markdown",
   "source": [
    "Now that the data is cleaned we can see just how many roads and endpoints/junctions/curve points we will be working with, as well as its memory footprint in our GPU."
   ],
   "metadata": {}
  },
  {
   "cell_type": "code",
   "execution_count": 12,
   "source": [
    "print(f'{road_edges.shape[0]} edges, {road_nodes.shape[0]} nodes')"
   ],
   "outputs": [
    {
     "output_type": "stream",
     "name": "stdout",
     "text": [
      "3725531 edges, 3121148 nodes\n"
     ]
    }
   ],
   "metadata": {}
  },
  {
   "cell_type": "code",
   "execution_count": 13,
   "source": [
    "!nvidia-smi"
   ],
   "outputs": [
    {
     "output_type": "stream",
     "name": "stdout",
     "text": [
      "Thu Oct  7 12:38:17 2021       \n",
      "+-----------------------------------------------------------------------------+\n",
      "| NVIDIA-SMI 440.33.01    Driver Version: 440.33.01    CUDA Version: 10.2     |\n",
      "|-------------------------------+----------------------+----------------------+\n",
      "| GPU  Name        Persistence-M| Bus-Id        Disp.A | Volatile Uncorr. ECC |\n",
      "| Fan  Temp  Perf  Pwr:Usage/Cap|         Memory-Usage | GPU-Util  Compute M. |\n",
      "|===============================+======================+======================|\n",
      "|   0  Tesla T4            On   | 00000000:00:1B.0 Off |                    0 |\n",
      "| N/A   38C    P0    27W /  70W |   1674MiB / 15109MiB |      0%      Default |\n",
      "+-------------------------------+----------------------+----------------------+\n",
      "|   1  Tesla T4            On   | 00000000:00:1C.0 Off |                    0 |\n",
      "| N/A   26C    P8     9W /  70W |     11MiB / 15109MiB |      0%      Default |\n",
      "+-------------------------------+----------------------+----------------------+\n",
      "|   2  Tesla T4            On   | 00000000:00:1D.0 Off |                    0 |\n",
      "| N/A   26C    P8     9W /  70W |     11MiB / 15109MiB |      0%      Default |\n",
      "+-------------------------------+----------------------+----------------------+\n",
      "|   3  Tesla T4            On   | 00000000:00:1E.0 Off |                    0 |\n",
      "| N/A   26C    P8     9W /  70W |     11MiB / 15109MiB |      0%      Default |\n",
      "+-------------------------------+----------------------+----------------------+\n",
      "                                                                               \n",
      "+-----------------------------------------------------------------------------+\n",
      "| Processes:                                                       GPU Memory |\n",
      "|  GPU       PID   Type   Process name                             Usage      |\n",
      "|=============================================================================|\n",
      "+-----------------------------------------------------------------------------+\n"
     ]
    }
   ],
   "metadata": {}
  },
  {
   "cell_type": "markdown",
   "source": [
    "## Building the Road Network Graph"
   ],
   "metadata": {}
  },
  {
   "cell_type": "markdown",
   "source": [
    "We don't have information on the direction of the roads (some of them are one-way), so we will assume all of them are two-way for simplicity. That makes the graph \"undirected,\" so we will build a cuGraph `Graph` rather than a directed graph or`DiGraph`.\n",
    "\n",
    "We initialize it with edge sources, destinations, and attributes, which for our data will be the length of the roads:"
   ],
   "metadata": {}
  },
  {
   "cell_type": "code",
   "execution_count": 14,
   "source": [
    "G = cg.Graph()\r\n",
    "%time G.from_cudf_edgelist(road_edges, source='src_id', destination='dst_id', edge_attr='length')"
   ],
   "outputs": [
    {
     "output_type": "stream",
     "name": "stdout",
     "text": [
      "CPU times: user 300 ms, sys: 400 ms, total: 700 ms\n",
      "Wall time: 711 ms\n"
     ]
    }
   ],
   "metadata": {}
  },
  {
   "cell_type": "markdown",
   "source": [
    "Just as a point of comparison, we also construct the equivalent graph in NetworkX from the equivalent cleaned and prepped Pandas dataframe."
   ],
   "metadata": {}
  },
  {
   "cell_type": "code",
   "execution_count": 15,
   "source": [
    "road_edges_cpu = road_edges.to_pandas()\r\n",
    "%time G_cpu = nx.convert_matrix.from_pandas_edgelist(road_edges_cpu, source='src_id', target='dst_id', edge_attr='length')"
   ],
   "outputs": [
    {
     "output_type": "stream",
     "name": "stdout",
     "text": [
      "CPU times: user 17.8 s, sys: 1.29 s, total: 19.1 s\n",
      "Wall time: 19.1 s\n"
     ]
    }
   ],
   "metadata": {}
  },
  {
   "cell_type": "markdown",
   "source": [
    "For efficient lookup later, we will reindex `road_nodes` to use the `node_id` as its index -we will typically get results from the graph analytics in terms of `node_id`s, so this lets us easily pull other information about the nodes (like their locations). We then sort the dataframe on this new index:"
   ],
   "metadata": {}
  },
  {
   "cell_type": "code",
   "execution_count": 16,
   "source": [
    "road_nodes = road_nodes.set_index('node_id', drop=True)\r\n",
    "%time road_nodes = road_nodes.sort_index()\r\n",
    "road_nodes.head()"
   ],
   "outputs": [
    {
     "output_type": "stream",
     "name": "stdout",
     "text": [
      "CPU times: user 144 ms, sys: 148 ms, total: 292 ms\n",
      "Wall time: 290 ms\n"
     ]
    },
    {
     "output_type": "execute_result",
     "data": {
      "text/html": [
       "<div>\n",
       "<style scoped>\n",
       "    .dataframe tbody tr th:only-of-type {\n",
       "        vertical-align: middle;\n",
       "    }\n",
       "\n",
       "    .dataframe tbody tr th {\n",
       "        vertical-align: top;\n",
       "    }\n",
       "\n",
       "    .dataframe thead th {\n",
       "        text-align: right;\n",
       "    }\n",
       "</style>\n",
       "<table border=\"1\" class=\"dataframe\">\n",
       "  <thead>\n",
       "    <tr style=\"text-align: right;\">\n",
       "      <th></th>\n",
       "      <th>east</th>\n",
       "      <th>north</th>\n",
       "      <th>type</th>\n",
       "    </tr>\n",
       "    <tr>\n",
       "      <th>node_id</th>\n",
       "      <th></th>\n",
       "      <th></th>\n",
       "      <th></th>\n",
       "    </tr>\n",
       "  </thead>\n",
       "  <tbody>\n",
       "    <tr>\n",
       "      <th>id000000F5-5180-4C03-B05D-B01352C54F89</th>\n",
       "      <td>432920.250</td>\n",
       "      <td>572547.4375</td>\n",
       "      <td>road end</td>\n",
       "    </tr>\n",
       "    <tr>\n",
       "      <th>id000003F8-9E09-4829-AD87-6DA4438D22D8</th>\n",
       "      <td>526616.375</td>\n",
       "      <td>189678.3906</td>\n",
       "      <td>junction</td>\n",
       "    </tr>\n",
       "    <tr>\n",
       "      <th>id000010DA-C89A-4198-847A-6E62815E038A</th>\n",
       "      <td>336879.000</td>\n",
       "      <td>731824.0000</td>\n",
       "      <td>junction</td>\n",
       "    </tr>\n",
       "    <tr>\n",
       "      <th>id000017A0-1843-4BC7-BCF7-C943B6780839</th>\n",
       "      <td>380635.000</td>\n",
       "      <td>390153.0000</td>\n",
       "      <td>junction</td>\n",
       "    </tr>\n",
       "    <tr>\n",
       "      <th>id00001B2A-155F-4CD3-8E06-7677ADC6AF74</th>\n",
       "      <td>337481.000</td>\n",
       "      <td>350509.7188</td>\n",
       "      <td>junction</td>\n",
       "    </tr>\n",
       "  </tbody>\n",
       "</table>\n",
       "</div>"
      ],
      "text/plain": [
       "                                              east        north      type\n",
       "node_id                                                                  \n",
       "id000000F5-5180-4C03-B05D-B01352C54F89  432920.250  572547.4375  road end\n",
       "id000003F8-9E09-4829-AD87-6DA4438D22D8  526616.375  189678.3906  junction\n",
       "id000010DA-C89A-4198-847A-6E62815E038A  336879.000  731824.0000  junction\n",
       "id000017A0-1843-4BC7-BCF7-C943B6780839  380635.000  390153.0000  junction\n",
       "id00001B2A-155F-4CD3-8E06-7677ADC6AF74  337481.000  350509.7188  junction"
      ]
     },
     "metadata": {},
     "execution_count": 16
    }
   ],
   "metadata": {}
  },
  {
   "cell_type": "markdown",
   "source": [
    "Now that we have created the graph we can analyze the number of nodes and edges in it:"
   ],
   "metadata": {}
  },
  {
   "cell_type": "code",
   "execution_count": 19,
   "source": [
    "G.number_of_nodes()"
   ],
   "outputs": [
    {
     "output_type": "execute_result",
     "data": {
      "text/plain": [
       "3078117"
      ]
     },
     "metadata": {},
     "execution_count": 19
    }
   ],
   "metadata": {}
  },
  {
   "cell_type": "code",
   "execution_count": 20,
   "source": [
    "G.number_of_edges()"
   ],
   "outputs": [
    {
     "output_type": "execute_result",
     "data": {
      "text/plain": [
       "3620793"
      ]
     },
     "metadata": {},
     "execution_count": 20
    }
   ],
   "metadata": {}
  },
  {
   "cell_type": "markdown",
   "source": [
    "The number of edges is slightly smaller than the number of edges in `road_edges` printed above--the original data came from map tiles, and roads that passed over the edge of a tile were listed in both tiles, so cuGraph deduplicated them. If we were creating a `MultiGraph` or `MultiDiGraph`--a graph that can have multiple edges in the same direction between nodes--then duplicates could be preserved."
   ],
   "metadata": {}
  },
  {
   "cell_type": "markdown",
   "source": [
    "We can also analyze the degrees of our graph nodes:"
   ],
   "metadata": {}
  },
  {
   "cell_type": "code",
   "execution_count": 21,
   "source": [
    "deg_df = G.degree()"
   ],
   "outputs": [],
   "metadata": {}
  },
  {
   "cell_type": "markdown",
   "source": [
    "In an undirected graph, every edge entering a node is simultaneously an edge leaving the node, so we expect the nodes to have a minimum degree of 2:"
   ],
   "metadata": {}
  },
  {
   "cell_type": "code",
   "execution_count": 22,
   "source": [
    "deg_df['degree'].describe()[1:]"
   ],
   "outputs": [
    {
     "output_type": "execute_result",
     "data": {
      "text/plain": [
       "mean     4.689990\n",
       "std      1.913452\n",
       "min      2.000000\n",
       "25%      2.000000\n",
       "50%      6.000000\n",
       "75%      6.000000\n",
       "max     16.000000\n",
       "Name: degree, dtype: float64"
      ]
     },
     "metadata": {},
     "execution_count": 22
    }
   ],
   "metadata": {}
  },
  {
   "cell_type": "markdown",
   "source": [
    "### Constructing a Graph of Roads with Time Weights"
   ],
   "metadata": {}
  },
  {
   "cell_type": "markdown",
   "source": [
    "We are now going to construct and analyze a new graph of Great Britain's roads but instead of using raw distance for the edges' weights, we will be using the time it will take to travel between the two nodes at a notional speed limit."
   ],
   "metadata": {}
  },
  {
   "cell_type": "code",
   "execution_count": 23,
   "source": [
    "road_edges.dtypes"
   ],
   "outputs": [
    {
     "output_type": "execute_result",
     "data": {
      "text/plain": [
       "src_id    object\n",
       "dst_id    object\n",
       "length     int64\n",
       "type      object\n",
       "form      object\n",
       "dtype: object"
      ]
     },
     "metadata": {},
     "execution_count": 23
    }
   ],
   "metadata": {}
  },
  {
   "cell_type": "markdown",
   "source": [
    "In order to calculate how long it should take to travel along a road, we need to know its speed limit. We will do this by utilizing `road_edges['type']`, along with rules for the speed limits for each type of road."
   ],
   "metadata": {}
  },
  {
   "cell_type": "code",
   "execution_count": 22,
   "source": [
    "road_edges['type'].unique()"
   ],
   "outputs": [
    {
     "output_type": "execute_result",
     "data": {
      "text/plain": [
       "0                          A Road\n",
       "1                          B Road\n",
       "2               Local Access Road\n",
       "3                      Local Road\n",
       "4                      Minor Road\n",
       "5                        Motorway\n",
       "6    Restricted Local Access Road\n",
       "7           Secondary Access Road\n",
       "Name: type, dtype: object"
      ]
     },
     "metadata": {},
     "execution_count": 22
    }
   ],
   "metadata": {}
  },
  {
   "cell_type": "markdown",
   "source": [
    "And here is a table with assumptions about speed limits we can use for our conversion:"
   ],
   "metadata": {}
  },
  {
   "cell_type": "code",
   "execution_count": 24,
   "source": [
    "# https://www.rac.co.uk/drive/advice/legal/speed-limits/\r\n",
    "# Technically, speed limits depend on whether a road is in a built-up area and the form of carriageway,\r\n",
    "# but we can use road type as a proxy for built-up areas.\r\n",
    "# Values are in mph.\r\n",
    "\r\n",
    "speed_limits = {'Motorway': 70,\r\n",
    "               'A Road': 60,\r\n",
    "               'B Road': 60,\r\n",
    "               'Local Road': 30,\r\n",
    "               'Local Access Road': 30,\r\n",
    "               'Minor Road': 30,\r\n",
    "               'Restricted Local Access Road': 30,\r\n",
    "               'Secondary Access Road': 30}"
   ],
   "outputs": [],
   "metadata": {}
  },
  {
   "cell_type": "markdown",
   "source": [
    "We begin by creating `speed_gdf` to store each road type with its speed limit:"
   ],
   "metadata": {}
  },
  {
   "cell_type": "code",
   "execution_count": 25,
   "source": [
    "speed_gdf = cudf.DataFrame()\r\n",
    "\r\n",
    "speed_gdf['type'] = speed_limits.keys()\r\n",
    "speed_gdf['limit_mph'] = [speed_limits[key] for key in speed_limits.keys()]\r\n",
    "speed_gdf"
   ],
   "outputs": [
    {
     "output_type": "execute_result",
     "data": {
      "text/html": [
       "<div>\n",
       "<style scoped>\n",
       "    .dataframe tbody tr th:only-of-type {\n",
       "        vertical-align: middle;\n",
       "    }\n",
       "\n",
       "    .dataframe tbody tr th {\n",
       "        vertical-align: top;\n",
       "    }\n",
       "\n",
       "    .dataframe thead th {\n",
       "        text-align: right;\n",
       "    }\n",
       "</style>\n",
       "<table border=\"1\" class=\"dataframe\">\n",
       "  <thead>\n",
       "    <tr style=\"text-align: right;\">\n",
       "      <th></th>\n",
       "      <th>type</th>\n",
       "      <th>limit_mph</th>\n",
       "    </tr>\n",
       "  </thead>\n",
       "  <tbody>\n",
       "    <tr>\n",
       "      <th>0</th>\n",
       "      <td>Motorway</td>\n",
       "      <td>70</td>\n",
       "    </tr>\n",
       "    <tr>\n",
       "      <th>1</th>\n",
       "      <td>A Road</td>\n",
       "      <td>60</td>\n",
       "    </tr>\n",
       "    <tr>\n",
       "      <th>2</th>\n",
       "      <td>B Road</td>\n",
       "      <td>60</td>\n",
       "    </tr>\n",
       "    <tr>\n",
       "      <th>3</th>\n",
       "      <td>Local Road</td>\n",
       "      <td>30</td>\n",
       "    </tr>\n",
       "    <tr>\n",
       "      <th>4</th>\n",
       "      <td>Local Access Road</td>\n",
       "      <td>30</td>\n",
       "    </tr>\n",
       "    <tr>\n",
       "      <th>5</th>\n",
       "      <td>Minor Road</td>\n",
       "      <td>30</td>\n",
       "    </tr>\n",
       "    <tr>\n",
       "      <th>6</th>\n",
       "      <td>Restricted Local Access Road</td>\n",
       "      <td>30</td>\n",
       "    </tr>\n",
       "    <tr>\n",
       "      <th>7</th>\n",
       "      <td>Secondary Access Road</td>\n",
       "      <td>30</td>\n",
       "    </tr>\n",
       "  </tbody>\n",
       "</table>\n",
       "</div>"
      ],
      "text/plain": [
       "                           type  limit_mph\n",
       "0                      Motorway         70\n",
       "1                        A Road         60\n",
       "2                        B Road         60\n",
       "3                    Local Road         30\n",
       "4             Local Access Road         30\n",
       "5                    Minor Road         30\n",
       "6  Restricted Local Access Road         30\n",
       "7         Secondary Access Road         30"
      ]
     },
     "metadata": {},
     "execution_count": 25
    }
   ],
   "metadata": {}
  },
  {
   "cell_type": "markdown",
   "source": [
    "Next we add an additional column, `limit_m/s`, which for each road type will give us a measure of how fast one can travel on it in meters / second."
   ],
   "metadata": {}
  },
  {
   "cell_type": "code",
   "execution_count": 26,
   "source": [
    "# We will have road distances in meters (m), so to get road distances in seconds (s), we need to multiply by meters/mile and divide by seconds/hour\r\n",
    "# 1 mile ~ 1609.34 m\r\n",
    "speed_gdf['limit_m/s'] = speed_gdf['limit_mph'] * 1609.34 / 3600\r\n",
    "speed_gdf"
   ],
   "outputs": [
    {
     "output_type": "execute_result",
     "data": {
      "text/html": [
       "<div>\n",
       "<style scoped>\n",
       "    .dataframe tbody tr th:only-of-type {\n",
       "        vertical-align: middle;\n",
       "    }\n",
       "\n",
       "    .dataframe tbody tr th {\n",
       "        vertical-align: top;\n",
       "    }\n",
       "\n",
       "    .dataframe thead th {\n",
       "        text-align: right;\n",
       "    }\n",
       "</style>\n",
       "<table border=\"1\" class=\"dataframe\">\n",
       "  <thead>\n",
       "    <tr style=\"text-align: right;\">\n",
       "      <th></th>\n",
       "      <th>type</th>\n",
       "      <th>limit_mph</th>\n",
       "      <th>limit_m/s</th>\n",
       "    </tr>\n",
       "  </thead>\n",
       "  <tbody>\n",
       "    <tr>\n",
       "      <th>0</th>\n",
       "      <td>Motorway</td>\n",
       "      <td>70</td>\n",
       "      <td>31.292722</td>\n",
       "    </tr>\n",
       "    <tr>\n",
       "      <th>1</th>\n",
       "      <td>A Road</td>\n",
       "      <td>60</td>\n",
       "      <td>26.822333</td>\n",
       "    </tr>\n",
       "    <tr>\n",
       "      <th>2</th>\n",
       "      <td>B Road</td>\n",
       "      <td>60</td>\n",
       "      <td>26.822333</td>\n",
       "    </tr>\n",
       "    <tr>\n",
       "      <th>3</th>\n",
       "      <td>Local Road</td>\n",
       "      <td>30</td>\n",
       "      <td>13.411167</td>\n",
       "    </tr>\n",
       "    <tr>\n",
       "      <th>4</th>\n",
       "      <td>Local Access Road</td>\n",
       "      <td>30</td>\n",
       "      <td>13.411167</td>\n",
       "    </tr>\n",
       "    <tr>\n",
       "      <th>5</th>\n",
       "      <td>Minor Road</td>\n",
       "      <td>30</td>\n",
       "      <td>13.411167</td>\n",
       "    </tr>\n",
       "    <tr>\n",
       "      <th>6</th>\n",
       "      <td>Restricted Local Access Road</td>\n",
       "      <td>30</td>\n",
       "      <td>13.411167</td>\n",
       "    </tr>\n",
       "    <tr>\n",
       "      <th>7</th>\n",
       "      <td>Secondary Access Road</td>\n",
       "      <td>30</td>\n",
       "      <td>13.411167</td>\n",
       "    </tr>\n",
       "  </tbody>\n",
       "</table>\n",
       "</div>"
      ],
      "text/plain": [
       "                           type  limit_mph  limit_m/s\n",
       "0                      Motorway         70  31.292722\n",
       "1                        A Road         60  26.822333\n",
       "2                        B Road         60  26.822333\n",
       "3                    Local Road         30  13.411167\n",
       "4             Local Access Road         30  13.411167\n",
       "5                    Minor Road         30  13.411167\n",
       "6  Restricted Local Access Road         30  13.411167\n",
       "7         Secondary Access Road         30  13.411167"
      ]
     },
     "metadata": {},
     "execution_count": 26
    }
   ],
   "metadata": {}
  },
  {
   "cell_type": "markdown",
   "source": [
    "cuDF provides merging functionality just like Pandas. Since we will be using values in `road_edges` to construct our graph, we need to merge `speed_gdf` into `road_edges` (similar to a database join). We can merge on the `type` column, which both of these dataframes share."
   ],
   "metadata": {}
  },
  {
   "cell_type": "code",
   "execution_count": 28,
   "source": [
    "%time road_edges = road_edges.merge(speed_gdf, on='type')"
   ],
   "outputs": [
    {
     "output_type": "stream",
     "name": "stdout",
     "text": [
      "CPU times: user 60 ms, sys: 76 ms, total: 136 ms\n",
      "Wall time: 136 ms\n"
     ]
    }
   ],
   "metadata": {}
  },
  {
   "cell_type": "markdown",
   "source": [
    "We now need to calculate the number of seconds it will take to traverse a given road at the speed limit. This can be done by dividing a road's length in m by its speed limit in m/s. Perform this calculation on `road_edges` and store the results in a new column `length_s`."
   ],
   "metadata": {}
  },
  {
   "cell_type": "code",
   "execution_count": 29,
   "source": [
    "road_edges['length_s'] = road_edges['length'] / road_edges['limit_m/s']\r\n",
    "road_edges['length_s'].head()"
   ],
   "outputs": [
    {
     "output_type": "execute_result",
     "data": {
      "text/plain": [
       "0     3.131719\n",
       "1     3.728236\n",
       "2    12.676004\n",
       "3    17.597276\n",
       "4     8.276685\n",
       "Name: length_s, dtype: float64"
      ]
     },
     "metadata": {},
     "execution_count": 29
    }
   ],
   "metadata": {}
  },
  {
   "cell_type": "markdown",
   "source": [
    "We now construct a cuGraph `Graph` called `G_ex` using the sources and destinations found in `road_edges`, along with length-in-seconds values for the edges' weights."
   ],
   "metadata": {}
  },
  {
   "cell_type": "code",
   "execution_count": 30,
   "source": [
    "G_ex = cg.Graph()\r\n",
    "G_ex.from_cudf_edgelist(road_edges, source='src_id', destination='dst_id', edge_attr='length_s')"
   ],
   "outputs": [],
   "metadata": {}
  },
  {
   "cell_type": "markdown",
   "source": [
    "## Dask cuDF"
   ],
   "metadata": {}
  },
  {
   "cell_type": "markdown",
   "source": [
    "Dask is a Python library for parallel computing. In Dask programming, we create computational graphs that define code we **would like** to execute, and then, give these computational graphs to a Dask scheduler which evaluates them lazily, and efficiently, in parallel. \r\n",
    "\r\n",
    "In addition to using multiple CPU cores or threads to execute computational graphs in parallel, Dask schedulers can also be configured to execute computational graphs on multiple CPUs or multiple GPUs. As a result, Dask programming facilitates operating on datasets that are larger than the memory of a single compute resource.\r\n",
    "\r\n",
    "Because Dask computational graphs can consist of arbitrary Python code, they provide a level of control and flexiblility superior to many other systems that can operate on massive datasets. In particularly, we will use a Dask-cuDF dataframe, which combines the interface of Dask with the GPU power of cuDF for distributed dataframe operations on multiple GPUs. We will now turn our attention to utilizing all 4 NVIDIA V100 GPUs in this environment for operations on an 18GB UK population dataset that would not fit into the memory of a single 16GB GPU."
   ],
   "metadata": {}
  },
  {
   "cell_type": "markdown",
   "source": [
    "### Setting up a Dask Scheduler"
   ],
   "metadata": {}
  },
  {
   "cell_type": "markdown",
   "source": [
    "We begin by starting a Dask scheduler which will take care to distribute our work across the 4 available GPUs. In order to do this we need to start a `LocalCUDACluster` instance, using our host machine's IP, and then instantiate a client that can communicate with the cluster."
   ],
   "metadata": {}
  },
  {
   "cell_type": "code",
   "execution_count": 2,
   "source": [
    "import subprocess # we will use this to obtain our local IP using the following command\r\n",
    "cmd = \"hostname --all-ip-addresses\"\r\n",
    "\r\n",
    "process = subprocess.Popen(cmd.split(), stdout=subprocess.PIPE)\r\n",
    "output, error = process.communicate()\r\n",
    "IPADDR = str(output.decode()).split()[0]"
   ],
   "outputs": [],
   "metadata": {}
  },
  {
   "cell_type": "markdown",
   "source": [
    "`dask_cuda` provides utilities for Dask and CUDA (the \"cu\" in cuDF) interactions."
   ],
   "metadata": {}
  },
  {
   "cell_type": "code",
   "execution_count": 3,
   "source": [
    "from dask_cuda import LocalCUDACluster\r\n",
    "cluster = LocalCUDACluster(ip=IPADDR)"
   ],
   "outputs": [],
   "metadata": {}
  },
  {
   "cell_type": "markdown",
   "source": [
    "The `dask.distributed` library gives us distributed functionality, including the ability to connect to the CUDA Cluster we just created. The `progress` import will give us a handy progress bar we can utilize below."
   ],
   "metadata": {}
  },
  {
   "cell_type": "code",
   "execution_count": 4,
   "source": [
    "from dask.distributed import Client, progress\r\n",
    "\r\n",
    "client = Client(cluster)"
   ],
   "outputs": [],
   "metadata": {}
  },
  {
   "cell_type": "markdown",
   "source": [
    "Dask ships with a very helpful dashboard that in our case runs on port `8787`. We can open a new browser tab now and copy this notebook's URL into it and add at the end `:8787` (so it ends with `.com:8787`). This should open the Dask dashboard, currently idle."
   ],
   "metadata": {}
  },
  {
   "cell_type": "markdown",
   "source": [
    "### Reading Data with Dask cuDF"
   ],
   "metadata": {}
  },
  {
   "cell_type": "markdown",
   "source": [
    "With `dask_cudf` we can create a dataframe from several file formats (including from multiple files and directly from cloud storage like S3), from cuDF dataframes, from Pandas dataframes, and even from vanilla CPU Dask dataframes. Here we will create a Dask cuDF dataframe from the local csv file `pop5x_1-07.csv`, which has similar features to the `pop.csv` files you have already been using, except scaled up to 5 times larger (18GB), representing a population of almost 300 million, nearly the size of the entire United States."
   ],
   "metadata": {}
  },
  {
   "cell_type": "code",
   "execution_count": 5,
   "source": [
    "# get the file size of `pop5x_1-07.csv` in GB\r\n",
    "!ls -sh data/pop5x_1-07.csv"
   ],
   "outputs": [
    {
     "output_type": "stream",
     "name": "stdout",
     "text": [
      "18G data/pop5x_1-07.csv\n"
     ]
    }
   ],
   "metadata": {}
  },
  {
   "cell_type": "markdown",
   "source": [
    "We import dask_cudf (and other RAPIDS components when necessary) after setting up the cluster to ensure that they establish correctly inside the CUDA context it creates."
   ],
   "metadata": {}
  },
  {
   "cell_type": "code",
   "execution_count": 6,
   "source": [
    "import dask_cudf"
   ],
   "outputs": [],
   "metadata": {}
  },
  {
   "cell_type": "code",
   "execution_count": 7,
   "source": [
    "ddf = dask_cudf.read_csv('./data/pop5x_1-07.csv', dtype=['float32', 'str', 'str', 'float32', 'float32', 'str'])"
   ],
   "outputs": [],
   "metadata": {}
  },
  {
   "cell_type": "code",
   "execution_count": 8,
   "source": [
    "ddf.dtypes"
   ],
   "outputs": [
    {
     "output_type": "execute_result",
     "data": {
      "text/plain": [
       "age       float32\n",
       "sex        object\n",
       "county     object\n",
       "lat       float32\n",
       "long      float32\n",
       "name       object\n",
       "dtype: object"
      ]
     },
     "metadata": {},
     "execution_count": 8
    }
   ],
   "metadata": {}
  },
  {
   "cell_type": "markdown",
   "source": [
    "As mentioned above, when programming with Dask, we create computational graphs that we **would eventually like** to be executed. We can already observe this behavior in action: in calling `dask_cudf.read_csv` we have indicated that **would eventually like** to read the entire contents of `pop5x_1-07.csv`. However, Dask will not ask the scheduler execute this work until we explicitly indicate that we would like it do so.\r\n",
    "\r\n",
    "We can observe the memory usage for each of the 4 GPUs and notice that the GPU memory usage is not nearly large enough to indicate that the entire 18GB file has been read into memory:"
   ],
   "metadata": {}
  },
  {
   "cell_type": "code",
   "execution_count": 9,
   "source": [
    "!nvidia-smi"
   ],
   "outputs": [
    {
     "output_type": "stream",
     "name": "stdout",
     "text": [
      "Thu Oct  7 14:15:34 2021       \n",
      "+-----------------------------------------------------------------------------+\n",
      "| NVIDIA-SMI 440.33.01    Driver Version: 440.33.01    CUDA Version: 10.2     |\n",
      "|-------------------------------+----------------------+----------------------+\n",
      "| GPU  Name        Persistence-M| Bus-Id        Disp.A | Volatile Uncorr. ECC |\n",
      "| Fan  Temp  Perf  Pwr:Usage/Cap|         Memory-Usage | GPU-Util  Compute M. |\n",
      "|===============================+======================+======================|\n",
      "|   0  Tesla T4            On   | 00000000:00:1B.0 Off |                    0 |\n",
      "| N/A   30C    P0    26W /  70W |    503MiB / 15109MiB |      0%      Default |\n",
      "+-------------------------------+----------------------+----------------------+\n",
      "|   1  Tesla T4            On   | 00000000:00:1C.0 Off |                    0 |\n",
      "| N/A   30C    P0    25W /  70W |    110MiB / 15109MiB |      0%      Default |\n",
      "+-------------------------------+----------------------+----------------------+\n",
      "|   2  Tesla T4            On   | 00000000:00:1D.0 Off |                    0 |\n",
      "| N/A   29C    P0    26W /  70W |    110MiB / 15109MiB |      0%      Default |\n",
      "+-------------------------------+----------------------+----------------------+\n",
      "|   3  Tesla T4            On   | 00000000:00:1E.0 Off |                    0 |\n",
      "| N/A   30C    P0    26W /  70W |    110MiB / 15109MiB |      0%      Default |\n",
      "+-------------------------------+----------------------+----------------------+\n",
      "                                                                               \n",
      "+-----------------------------------------------------------------------------+\n",
      "| Processes:                                                       GPU Memory |\n",
      "|  GPU       PID   Type   Process name                             Usage      |\n",
      "|=============================================================================|\n",
      "+-----------------------------------------------------------------------------+\n"
     ]
    }
   ],
   "metadata": {}
  },
  {
   "cell_type": "markdown",
   "source": [
    "### Visualizing the Computational Graph"
   ],
   "metadata": {}
  },
  {
   "cell_type": "markdown",
   "source": [
    "Computational graphs that have not yet been executed provide the `.visualize` method that, when used in a Jupyter environment such as this one, will display the computational graph, including how Dask intends to go about distributing the work. Thus, we can visualize how the `read_csv` operation will be distributed by Dask by executing the following cell:"
   ],
   "metadata": {}
  },
  {
   "cell_type": "code",
   "execution_count": 10,
   "source": [
    "ddf.visualize(format='svg') # This visualization is very large, and using `format='svg'` will make it easier to view."
   ],
   "outputs": [
    {
     "output_type": "execute_result",
     "data": {
      "image/svg+xml": "<svg height=\"180pt\" viewBox=\"0.00 0.00 8132.09 180.09\" width=\"8132pt\" xmlns=\"http://www.w3.org/2000/svg\" xmlns:xlink=\"http://www.w3.org/1999/xlink\">\n<g class=\"graph\" id=\"graph0\" transform=\"scale(1 1) rotate(0) translate(4 176.091)\">\n<title>%3</title>\n<polygon fill=\"white\" points=\"-4,4 -4,-176.091 8128.09,-176.091 8128.09,4 -4,4\" stroke=\"none\"/>\n<!-- &#45;9161748995864503440 -->\n<g class=\"node\" id=\"node1\"><title>-9161748995864503440</title>\n<ellipse cx=\"50.0456\" cy=\"-50.0456\" fill=\"none\" rx=\"50.0912\" ry=\"50.0912\" stroke=\"black\"/>\n<text font-family=\"Times,serif\" font-size=\"14.00\" text-anchor=\"middle\" x=\"50.0456\" y=\"-46.3456\">read-csv</text>\n</g>\n<!-- &#45;386165881048598503 -->\n<g class=\"node\" id=\"node2\"><title>-386165881048598503</title>\n<polygon fill=\"none\" points=\"77.0456,-172.091 23.0456,-172.091 23.0456,-136.091 77.0456,-136.091 77.0456,-172.091\" stroke=\"black\"/>\n<text font-family=\"Times,serif\" font-size=\"14.00\" text-anchor=\"middle\" x=\"50.0456\" y=\"-150.391\">0</text>\n</g>\n<!-- &#45;9161748995864503440&#45;&gt;&#45;386165881048598503 -->\n<g class=\"edge\" id=\"edge1\"><title>-9161748995864503440-&gt;-386165881048598503</title>\n<path d=\"M50.0456,-100.275C50.0456,-109.105 50.0456,-118.007 50.0456,-125.92\" fill=\"none\" stroke=\"black\"/>\n<polygon fill=\"black\" points=\"46.5457,-126 50.0456,-136 53.5457,-126 46.5457,-126\" stroke=\"black\"/>\n</g>\n<!-- 2577363773370439019 -->\n<g class=\"node\" id=\"node3\"><title>2577363773370439019</title>\n<ellipse cx=\"168.046\" cy=\"-50.0456\" fill=\"none\" rx=\"50.0912\" ry=\"50.0912\" stroke=\"black\"/>\n<text font-family=\"Times,serif\" font-size=\"14.00\" text-anchor=\"middle\" x=\"168.046\" y=\"-46.3456\">read-csv</text>\n</g>\n<!-- &#45;386165881047515978 -->\n<g class=\"node\" id=\"node4\"><title>-386165881047515978</title>\n<polygon fill=\"none\" points=\"195.046,-172.091 141.046,-172.091 141.046,-136.091 195.046,-136.091 195.046,-172.091\" stroke=\"black\"/>\n<text font-family=\"Times,serif\" font-size=\"14.00\" text-anchor=\"middle\" x=\"168.046\" y=\"-150.391\">1</text>\n</g>\n<!-- 2577363773370439019&#45;&gt;&#45;386165881047515978 -->\n<g class=\"edge\" id=\"edge2\"><title>2577363773370439019-&gt;-386165881047515978</title>\n<path d=\"M168.046,-100.275C168.046,-109.105 168.046,-118.007 168.046,-125.92\" fill=\"none\" stroke=\"black\"/>\n<polygon fill=\"black\" points=\"164.546,-126 168.046,-136 171.546,-126 164.546,-126\" stroke=\"black\"/>\n</g>\n<!-- 7649260535616819726 -->\n<g class=\"node\" id=\"node5\"><title>7649260535616819726</title>\n<ellipse cx=\"286.046\" cy=\"-50.0456\" fill=\"none\" rx=\"50.0912\" ry=\"50.0912\" stroke=\"black\"/>\n<text font-family=\"Times,serif\" font-size=\"14.00\" text-anchor=\"middle\" x=\"286.046\" y=\"-46.3456\">read-csv</text>\n</g>\n<!-- &#45;386165881050763553 -->\n<g class=\"node\" id=\"node6\"><title>-386165881050763553</title>\n<polygon fill=\"none\" points=\"313.046,-172.091 259.046,-172.091 259.046,-136.091 313.046,-136.091 313.046,-172.091\" stroke=\"black\"/>\n<text font-family=\"Times,serif\" font-size=\"14.00\" text-anchor=\"middle\" x=\"286.046\" y=\"-150.391\">2</text>\n</g>\n<!-- 7649260535616819726&#45;&gt;&#45;386165881050763553 -->\n<g class=\"edge\" id=\"edge3\"><title>7649260535616819726-&gt;-386165881050763553</title>\n<path d=\"M286.046,-100.275C286.046,-109.105 286.046,-118.007 286.046,-125.92\" fill=\"none\" stroke=\"black\"/>\n<polygon fill=\"black\" points=\"282.546,-126 286.046,-136 289.546,-126 282.546,-126\" stroke=\"black\"/>\n</g>\n<!-- 8187949041107769401 -->\n<g class=\"node\" id=\"node7\"><title>8187949041107769401</title>\n<ellipse cx=\"404.046\" cy=\"-50.0456\" fill=\"none\" rx=\"50.0912\" ry=\"50.0912\" stroke=\"black\"/>\n<text font-family=\"Times,serif\" font-size=\"14.00\" text-anchor=\"middle\" x=\"404.046\" y=\"-46.3456\">read-csv</text>\n</g>\n<!-- &#45;386165881049681028 -->\n<g class=\"node\" id=\"node8\"><title>-386165881049681028</title>\n<polygon fill=\"none\" points=\"431.046,-172.091 377.046,-172.091 377.046,-136.091 431.046,-136.091 431.046,-172.091\" stroke=\"black\"/>\n<text font-family=\"Times,serif\" font-size=\"14.00\" text-anchor=\"middle\" x=\"404.046\" y=\"-150.391\">3</text>\n</g>\n<!-- 8187949041107769401&#45;&gt;&#45;386165881049681028 -->\n<g class=\"edge\" id=\"edge4\"><title>8187949041107769401-&gt;-386165881049681028</title>\n<path d=\"M404.046,-100.275C404.046,-109.105 404.046,-118.007 404.046,-125.92\" fill=\"none\" stroke=\"black\"/>\n<polygon fill=\"black\" points=\"400.546,-126 404.046,-136 407.546,-126 400.546,-126\" stroke=\"black\"/>\n</g>\n<!-- &#45;3835202398141686540 -->\n<g class=\"node\" id=\"node9\"><title>-3835202398141686540</title>\n<ellipse cx=\"522.046\" cy=\"-50.0456\" fill=\"none\" rx=\"50.0912\" ry=\"50.0912\" stroke=\"black\"/>\n<text font-family=\"Times,serif\" font-size=\"14.00\" text-anchor=\"middle\" x=\"522.046\" y=\"-46.3456\">read-csv</text>\n</g>\n<!-- &#45;386165881052928603 -->\n<g class=\"node\" id=\"node10\"><title>-386165881052928603</title>\n<polygon fill=\"none\" points=\"549.046,-172.091 495.046,-172.091 495.046,-136.091 549.046,-136.091 549.046,-172.091\" stroke=\"black\"/>\n<text font-family=\"Times,serif\" font-size=\"14.00\" text-anchor=\"middle\" x=\"522.046\" y=\"-150.391\">4</text>\n</g>\n<!-- &#45;3835202398141686540&#45;&gt;&#45;386165881052928603 -->\n<g class=\"edge\" id=\"edge5\"><title>-3835202398141686540-&gt;-386165881052928603</title>\n<path d=\"M522.046,-100.275C522.046,-109.105 522.046,-118.007 522.046,-125.92\" fill=\"none\" stroke=\"black\"/>\n<polygon fill=\"black\" points=\"518.546,-126 522.046,-136 525.546,-126 518.546,-126\" stroke=\"black\"/>\n</g>\n<!-- 6554731521413109151 -->\n<g class=\"node\" id=\"node11\"><title>6554731521413109151</title>\n<ellipse cx=\"640.046\" cy=\"-50.0456\" fill=\"none\" rx=\"50.0912\" ry=\"50.0912\" stroke=\"black\"/>\n<text font-family=\"Times,serif\" font-size=\"14.00\" text-anchor=\"middle\" x=\"640.046\" y=\"-46.3456\">read-csv</text>\n</g>\n<!-- &#45;386165881051846078 -->\n<g class=\"node\" id=\"node12\"><title>-386165881051846078</title>\n<polygon fill=\"none\" points=\"667.046,-172.091 613.046,-172.091 613.046,-136.091 667.046,-136.091 667.046,-172.091\" stroke=\"black\"/>\n<text font-family=\"Times,serif\" font-size=\"14.00\" text-anchor=\"middle\" x=\"640.046\" y=\"-150.391\">5</text>\n</g>\n<!-- 6554731521413109151&#45;&gt;&#45;386165881051846078 -->\n<g class=\"edge\" id=\"edge6\"><title>6554731521413109151-&gt;-386165881051846078</title>\n<path d=\"M640.046,-100.275C640.046,-109.105 640.046,-118.007 640.046,-125.92\" fill=\"none\" stroke=\"black\"/>\n<polygon fill=\"black\" points=\"636.546,-126 640.046,-136 643.546,-126 636.546,-126\" stroke=\"black\"/>\n</g>\n<!-- &#45;6119669055968981390 -->\n<g class=\"node\" id=\"node13\"><title>-6119669055968981390</title>\n<ellipse cx=\"758.046\" cy=\"-50.0456\" fill=\"none\" rx=\"50.0912\" ry=\"50.0912\" stroke=\"black\"/>\n<text font-family=\"Times,serif\" font-size=\"14.00\" text-anchor=\"middle\" x=\"758.046\" y=\"-46.3456\">read-csv</text>\n</g>\n<!-- &#45;386165881055093653 -->\n<g class=\"node\" id=\"node14\"><title>-386165881055093653</title>\n<polygon fill=\"none\" points=\"785.046,-172.091 731.046,-172.091 731.046,-136.091 785.046,-136.091 785.046,-172.091\" stroke=\"black\"/>\n<text font-family=\"Times,serif\" font-size=\"14.00\" text-anchor=\"middle\" x=\"758.046\" y=\"-150.391\">6</text>\n</g>\n<!-- &#45;6119669055968981390&#45;&gt;&#45;386165881055093653 -->\n<g class=\"edge\" id=\"edge7\"><title>-6119669055968981390-&gt;-386165881055093653</title>\n<path d=\"M758.046,-100.275C758.046,-109.105 758.046,-118.007 758.046,-125.92\" fill=\"none\" stroke=\"black\"/>\n<polygon fill=\"black\" points=\"754.546,-126 758.046,-136 761.546,-126 754.546,-126\" stroke=\"black\"/>\n</g>\n<!-- &#45;4940483176192316515 -->\n<g class=\"node\" id=\"node15\"><title>-4940483176192316515</title>\n<ellipse cx=\"876.046\" cy=\"-50.0456\" fill=\"none\" rx=\"50.0912\" ry=\"50.0912\" stroke=\"black\"/>\n<text font-family=\"Times,serif\" font-size=\"14.00\" text-anchor=\"middle\" x=\"876.046\" y=\"-46.3456\">read-csv</text>\n</g>\n<!-- &#45;386165881054011128 -->\n<g class=\"node\" id=\"node16\"><title>-386165881054011128</title>\n<polygon fill=\"none\" points=\"903.046,-172.091 849.046,-172.091 849.046,-136.091 903.046,-136.091 903.046,-172.091\" stroke=\"black\"/>\n<text font-family=\"Times,serif\" font-size=\"14.00\" text-anchor=\"middle\" x=\"876.046\" y=\"-150.391\">7</text>\n</g>\n<!-- &#45;4940483176192316515&#45;&gt;&#45;386165881054011128 -->\n<g class=\"edge\" id=\"edge8\"><title>-4940483176192316515-&gt;-386165881054011128</title>\n<path d=\"M876.046,-100.275C876.046,-109.105 876.046,-118.007 876.046,-125.92\" fill=\"none\" stroke=\"black\"/>\n<polygon fill=\"black\" points=\"872.546,-126 876.046,-136 879.546,-126 872.546,-126\" stroke=\"black\"/>\n</g>\n<!-- 1624858739349071944 -->\n<g class=\"node\" id=\"node17\"><title>1624858739349071944</title>\n<ellipse cx=\"994.046\" cy=\"-50.0456\" fill=\"none\" rx=\"50.0912\" ry=\"50.0912\" stroke=\"black\"/>\n<text font-family=\"Times,serif\" font-size=\"14.00\" text-anchor=\"middle\" x=\"994.046\" y=\"-46.3456\">read-csv</text>\n</g>\n<!-- &#45;386165881039938303 -->\n<g class=\"node\" id=\"node18\"><title>-386165881039938303</title>\n<polygon fill=\"none\" points=\"1021.05,-172.091 967.046,-172.091 967.046,-136.091 1021.05,-136.091 1021.05,-172.091\" stroke=\"black\"/>\n<text font-family=\"Times,serif\" font-size=\"14.00\" text-anchor=\"middle\" x=\"994.046\" y=\"-150.391\">8</text>\n</g>\n<!-- 1624858739349071944&#45;&gt;&#45;386165881039938303 -->\n<g class=\"edge\" id=\"edge9\"><title>1624858739349071944-&gt;-386165881039938303</title>\n<path d=\"M994.046,-100.275C994.046,-109.105 994.046,-118.007 994.046,-125.92\" fill=\"none\" stroke=\"black\"/>\n<polygon fill=\"black\" points=\"990.546,-126 994.046,-136 997.546,-126 990.546,-126\" stroke=\"black\"/>\n</g>\n<!-- &#45;6298684818742555581 -->\n<g class=\"node\" id=\"node19\"><title>-6298684818742555581</title>\n<ellipse cx=\"1112.05\" cy=\"-50.0456\" fill=\"none\" rx=\"50.0912\" ry=\"50.0912\" stroke=\"black\"/>\n<text font-family=\"Times,serif\" font-size=\"14.00\" text-anchor=\"middle\" x=\"1112.05\" y=\"-46.3456\">read-csv</text>\n</g>\n<!-- &#45;386165881038855778 -->\n<g class=\"node\" id=\"node20\"><title>-386165881038855778</title>\n<polygon fill=\"none\" points=\"1139.05,-172.091 1085.05,-172.091 1085.05,-136.091 1139.05,-136.091 1139.05,-172.091\" stroke=\"black\"/>\n<text font-family=\"Times,serif\" font-size=\"14.00\" text-anchor=\"middle\" x=\"1112.05\" y=\"-150.391\">9</text>\n</g>\n<!-- &#45;6298684818742555581&#45;&gt;&#45;386165881038855778 -->\n<g class=\"edge\" id=\"edge10\"><title>-6298684818742555581-&gt;-386165881038855778</title>\n<path d=\"M1112.05,-100.275C1112.05,-109.105 1112.05,-118.007 1112.05,-125.92\" fill=\"none\" stroke=\"black\"/>\n<polygon fill=\"black\" points=\"1108.55,-126 1112.05,-136 1115.55,-126 1108.55,-126\" stroke=\"black\"/>\n</g>\n<!-- &#45;499607213499162906 -->\n<g class=\"node\" id=\"node21\"><title>-499607213499162906</title>\n<ellipse cx=\"1230.05\" cy=\"-50.0456\" fill=\"none\" rx=\"50.0912\" ry=\"50.0912\" stroke=\"black\"/>\n<text font-family=\"Times,serif\" font-size=\"14.00\" text-anchor=\"middle\" x=\"1230.05\" y=\"-46.3456\">read-csv</text>\n</g>\n<!-- &#45;386165881042103353 -->\n<g class=\"node\" id=\"node22\"><title>-386165881042103353</title>\n<polygon fill=\"none\" points=\"1257.05,-172.091 1203.05,-172.091 1203.05,-136.091 1257.05,-136.091 1257.05,-172.091\" stroke=\"black\"/>\n<text font-family=\"Times,serif\" font-size=\"14.00\" text-anchor=\"middle\" x=\"1230.05\" y=\"-150.391\">10</text>\n</g>\n<!-- &#45;499607213499162906&#45;&gt;&#45;386165881042103353 -->\n<g class=\"edge\" id=\"edge11\"><title>-499607213499162906-&gt;-386165881042103353</title>\n<path d=\"M1230.05,-100.275C1230.05,-109.105 1230.05,-118.007 1230.05,-125.92\" fill=\"none\" stroke=\"black\"/>\n<polygon fill=\"black\" points=\"1226.55,-126 1230.05,-136 1233.55,-126 1226.55,-126\" stroke=\"black\"/>\n</g>\n<!-- 523325393239095569 -->\n<g class=\"node\" id=\"node23\"><title>523325393239095569</title>\n<ellipse cx=\"1348.05\" cy=\"-50.0456\" fill=\"none\" rx=\"50.0912\" ry=\"50.0912\" stroke=\"black\"/>\n<text font-family=\"Times,serif\" font-size=\"14.00\" text-anchor=\"middle\" x=\"1348.05\" y=\"-46.3456\">read-csv</text>\n</g>\n<!-- &#45;386165881041020828 -->\n<g class=\"node\" id=\"node24\"><title>-386165881041020828</title>\n<polygon fill=\"none\" points=\"1375.05,-172.091 1321.05,-172.091 1321.05,-136.091 1375.05,-136.091 1375.05,-172.091\" stroke=\"black\"/>\n<text font-family=\"Times,serif\" font-size=\"14.00\" text-anchor=\"middle\" x=\"1348.05\" y=\"-150.391\">11</text>\n</g>\n<!-- 523325393239095569&#45;&gt;&#45;386165881041020828 -->\n<g class=\"edge\" id=\"edge12\"><title>523325393239095569-&gt;-386165881041020828</title>\n<path d=\"M1348.05,-100.275C1348.05,-109.105 1348.05,-118.007 1348.05,-125.92\" fill=\"none\" stroke=\"black\"/>\n<polygon fill=\"black\" points=\"1344.55,-126 1348.05,-136 1351.55,-126 1344.55,-126\" stroke=\"black\"/>\n</g>\n<!-- 4540615384190793676 -->\n<g class=\"node\" id=\"node25\"><title>4540615384190793676</title>\n<ellipse cx=\"1466.05\" cy=\"-50.0456\" fill=\"none\" rx=\"50.0912\" ry=\"50.0912\" stroke=\"black\"/>\n<text font-family=\"Times,serif\" font-size=\"14.00\" text-anchor=\"middle\" x=\"1466.05\" y=\"-46.3456\">read-csv</text>\n</g>\n<!-- &#45;386165881044268403 -->\n<g class=\"node\" id=\"node26\"><title>-386165881044268403</title>\n<polygon fill=\"none\" points=\"1493.05,-172.091 1439.05,-172.091 1439.05,-136.091 1493.05,-136.091 1493.05,-172.091\" stroke=\"black\"/>\n<text font-family=\"Times,serif\" font-size=\"14.00\" text-anchor=\"middle\" x=\"1466.05\" y=\"-150.391\">12</text>\n</g>\n<!-- 4540615384190793676&#45;&gt;&#45;386165881044268403 -->\n<g class=\"edge\" id=\"edge13\"><title>4540615384190793676-&gt;-386165881044268403</title>\n<path d=\"M1466.05,-100.275C1466.05,-109.105 1466.05,-118.007 1466.05,-125.92\" fill=\"none\" stroke=\"black\"/>\n<polygon fill=\"black\" points=\"1462.55,-126 1466.05,-136 1469.55,-126 1462.55,-126\" stroke=\"black\"/>\n</g>\n<!-- &#45;2251269716216307081 -->\n<g class=\"node\" id=\"node27\"><title>-2251269716216307081</title>\n<ellipse cx=\"1584.05\" cy=\"-50.0456\" fill=\"none\" rx=\"50.0912\" ry=\"50.0912\" stroke=\"black\"/>\n<text font-family=\"Times,serif\" font-size=\"14.00\" text-anchor=\"middle\" x=\"1584.05\" y=\"-46.3456\">read-csv</text>\n</g>\n<!-- &#45;386165881043185878 -->\n<g class=\"node\" id=\"node28\"><title>-386165881043185878</title>\n<polygon fill=\"none\" points=\"1611.05,-172.091 1557.05,-172.091 1557.05,-136.091 1611.05,-136.091 1611.05,-172.091\" stroke=\"black\"/>\n<text font-family=\"Times,serif\" font-size=\"14.00\" text-anchor=\"middle\" x=\"1584.05\" y=\"-150.391\">13</text>\n</g>\n<!-- &#45;2251269716216307081&#45;&gt;&#45;386165881043185878 -->\n<g class=\"edge\" id=\"edge14\"><title>-2251269716216307081-&gt;-386165881043185878</title>\n<path d=\"M1584.05,-100.275C1584.05,-109.105 1584.05,-118.007 1584.05,-125.92\" fill=\"none\" stroke=\"black\"/>\n<polygon fill=\"black\" points=\"1580.55,-126 1584.05,-136 1587.55,-126 1580.55,-126\" stroke=\"black\"/>\n</g>\n<!-- 3610640430049078794 -->\n<g class=\"node\" id=\"node29\"><title>3610640430049078794</title>\n<ellipse cx=\"1702.05\" cy=\"-50.0456\" fill=\"none\" rx=\"50.0912\" ry=\"50.0912\" stroke=\"black\"/>\n<text font-family=\"Times,serif\" font-size=\"14.00\" text-anchor=\"middle\" x=\"1702.05\" y=\"-46.3456\">read-csv</text>\n</g>\n<!-- &#45;386165881046433453 -->\n<g class=\"node\" id=\"node30\"><title>-386165881046433453</title>\n<polygon fill=\"none\" points=\"1729.05,-172.091 1675.05,-172.091 1675.05,-136.091 1729.05,-136.091 1729.05,-172.091\" stroke=\"black\"/>\n<text font-family=\"Times,serif\" font-size=\"14.00\" text-anchor=\"middle\" x=\"1702.05\" y=\"-150.391\">14</text>\n</g>\n<!-- 3610640430049078794&#45;&gt;&#45;386165881046433453 -->\n<g class=\"edge\" id=\"edge15\"><title>3610640430049078794-&gt;-386165881046433453</title>\n<path d=\"M1702.05,-100.275C1702.05,-109.105 1702.05,-118.007 1702.05,-125.92\" fill=\"none\" stroke=\"black\"/>\n<polygon fill=\"black\" points=\"1698.55,-126 1702.05,-136 1705.55,-126 1698.55,-126\" stroke=\"black\"/>\n</g>\n<!-- 3517686065526960501 -->\n<g class=\"node\" id=\"node31\"><title>3517686065526960501</title>\n<ellipse cx=\"1820.05\" cy=\"-50.0456\" fill=\"none\" rx=\"50.0912\" ry=\"50.0912\" stroke=\"black\"/>\n<text font-family=\"Times,serif\" font-size=\"14.00\" text-anchor=\"middle\" x=\"1820.05\" y=\"-46.3456\">read-csv</text>\n</g>\n<!-- &#45;386165881045350928 -->\n<g class=\"node\" id=\"node32\"><title>-386165881045350928</title>\n<polygon fill=\"none\" points=\"1847.05,-172.091 1793.05,-172.091 1793.05,-136.091 1847.05,-136.091 1847.05,-172.091\" stroke=\"black\"/>\n<text font-family=\"Times,serif\" font-size=\"14.00\" text-anchor=\"middle\" x=\"1820.05\" y=\"-150.391\">15</text>\n</g>\n<!-- 3517686065526960501&#45;&gt;&#45;386165881045350928 -->\n<g class=\"edge\" id=\"edge16\"><title>3517686065526960501-&gt;-386165881045350928</title>\n<path d=\"M1820.05,-100.275C1820.05,-109.105 1820.05,-118.007 1820.05,-125.92\" fill=\"none\" stroke=\"black\"/>\n<polygon fill=\"black\" points=\"1816.55,-126 1820.05,-136 1823.55,-126 1816.55,-126\" stroke=\"black\"/>\n</g>\n<!-- 8430565149445233792 -->\n<g class=\"node\" id=\"node33\"><title>8430565149445233792</title>\n<ellipse cx=\"1938.05\" cy=\"-50.0456\" fill=\"none\" rx=\"50.0912\" ry=\"50.0912\" stroke=\"black\"/>\n<text font-family=\"Times,serif\" font-size=\"14.00\" text-anchor=\"middle\" x=\"1938.05\" y=\"-46.3456\">read-csv</text>\n</g>\n<!-- &#45;386165881065918903 -->\n<g class=\"node\" id=\"node34\"><title>-386165881065918903</title>\n<polygon fill=\"none\" points=\"1965.05,-172.091 1911.05,-172.091 1911.05,-136.091 1965.05,-136.091 1965.05,-172.091\" stroke=\"black\"/>\n<text font-family=\"Times,serif\" font-size=\"14.00\" text-anchor=\"middle\" x=\"1938.05\" y=\"-150.391\">16</text>\n</g>\n<!-- 8430565149445233792&#45;&gt;&#45;386165881065918903 -->\n<g class=\"edge\" id=\"edge17\"><title>8430565149445233792-&gt;-386165881065918903</title>\n<path d=\"M1938.05,-100.275C1938.05,-109.105 1938.05,-118.007 1938.05,-125.92\" fill=\"none\" stroke=\"black\"/>\n<polygon fill=\"black\" points=\"1934.55,-126 1938.05,-136 1941.55,-126 1934.55,-126\" stroke=\"black\"/>\n</g>\n<!-- 1575972048412455035 -->\n<g class=\"node\" id=\"node35\"><title>1575972048412455035</title>\n<ellipse cx=\"2056.05\" cy=\"-50.0456\" fill=\"none\" rx=\"50.0912\" ry=\"50.0912\" stroke=\"black\"/>\n<text font-family=\"Times,serif\" font-size=\"14.00\" text-anchor=\"middle\" x=\"2056.05\" y=\"-46.3456\">read-csv</text>\n</g>\n<!-- &#45;386165881064836378 -->\n<g class=\"node\" id=\"node36\"><title>-386165881064836378</title>\n<polygon fill=\"none\" points=\"2083.05,-172.091 2029.05,-172.091 2029.05,-136.091 2083.05,-136.091 2083.05,-172.091\" stroke=\"black\"/>\n<text font-family=\"Times,serif\" font-size=\"14.00\" text-anchor=\"middle\" x=\"2056.05\" y=\"-150.391\">17</text>\n</g>\n<!-- 1575972048412455035&#45;&gt;&#45;386165881064836378 -->\n<g class=\"edge\" id=\"edge18\"><title>1575972048412455035-&gt;-386165881064836378</title>\n<path d=\"M2056.05,-100.275C2056.05,-109.105 2056.05,-118.007 2056.05,-125.92\" fill=\"none\" stroke=\"black\"/>\n<polygon fill=\"black\" points=\"2052.55,-126 2056.05,-136 2059.55,-126 2052.55,-126\" stroke=\"black\"/>\n</g>\n<!-- 4452046549780757342 -->\n<g class=\"node\" id=\"node37\"><title>4452046549780757342</title>\n<ellipse cx=\"2174.05\" cy=\"-50.0456\" fill=\"none\" rx=\"50.0912\" ry=\"50.0912\" stroke=\"black\"/>\n<text font-family=\"Times,serif\" font-size=\"14.00\" text-anchor=\"middle\" x=\"2174.05\" y=\"-46.3456\">read-csv</text>\n</g>\n<!-- &#45;386165881068083953 -->\n<g class=\"node\" id=\"node38\"><title>-386165881068083953</title>\n<polygon fill=\"none\" points=\"2201.05,-172.091 2147.05,-172.091 2147.05,-136.091 2201.05,-136.091 2201.05,-172.091\" stroke=\"black\"/>\n<text font-family=\"Times,serif\" font-size=\"14.00\" text-anchor=\"middle\" x=\"2174.05\" y=\"-150.391\">18</text>\n</g>\n<!-- 4452046549780757342&#45;&gt;&#45;386165881068083953 -->\n<g class=\"edge\" id=\"edge19\"><title>4452046549780757342-&gt;-386165881068083953</title>\n<path d=\"M2174.05,-100.275C2174.05,-109.105 2174.05,-118.007 2174.05,-125.92\" fill=\"none\" stroke=\"black\"/>\n<polygon fill=\"black\" points=\"2170.55,-126 2174.05,-136 2177.55,-126 2170.55,-126\" stroke=\"black\"/>\n</g>\n<!-- 7307014412230217417 -->\n<g class=\"node\" id=\"node39\"><title>7307014412230217417</title>\n<ellipse cx=\"2292.05\" cy=\"-50.0456\" fill=\"none\" rx=\"50.0912\" ry=\"50.0912\" stroke=\"black\"/>\n<text font-family=\"Times,serif\" font-size=\"14.00\" text-anchor=\"middle\" x=\"2292.05\" y=\"-46.3456\">read-csv</text>\n</g>\n<!-- &#45;386165881067001428 -->\n<g class=\"node\" id=\"node40\"><title>-386165881067001428</title>\n<polygon fill=\"none\" points=\"2319.05,-172.091 2265.05,-172.091 2265.05,-136.091 2319.05,-136.091 2319.05,-172.091\" stroke=\"black\"/>\n<text font-family=\"Times,serif\" font-size=\"14.00\" text-anchor=\"middle\" x=\"2292.05\" y=\"-150.391\">19</text>\n</g>\n<!-- 7307014412230217417&#45;&gt;&#45;386165881067001428 -->\n<g class=\"edge\" id=\"edge20\"><title>7307014412230217417-&gt;-386165881067001428</title>\n<path d=\"M2292.05,-100.275C2292.05,-109.105 2292.05,-118.007 2292.05,-125.92\" fill=\"none\" stroke=\"black\"/>\n<polygon fill=\"black\" points=\"2288.55,-126 2292.05,-136 2295.55,-126 2288.55,-126\" stroke=\"black\"/>\n</g>\n<!-- &#45;7047680586733531324 -->\n<g class=\"node\" id=\"node41\"><title>-7047680586733531324</title>\n<ellipse cx=\"2410.05\" cy=\"-50.0456\" fill=\"none\" rx=\"50.0912\" ry=\"50.0912\" stroke=\"black\"/>\n<text font-family=\"Times,serif\" font-size=\"14.00\" text-anchor=\"middle\" x=\"2410.05\" y=\"-46.3456\">read-csv</text>\n</g>\n<!-- &#45;386165881070249003 -->\n<g class=\"node\" id=\"node42\"><title>-386165881070249003</title>\n<polygon fill=\"none\" points=\"2437.05,-172.091 2383.05,-172.091 2383.05,-136.091 2437.05,-136.091 2437.05,-172.091\" stroke=\"black\"/>\n<text font-family=\"Times,serif\" font-size=\"14.00\" text-anchor=\"middle\" x=\"2410.05\" y=\"-150.391\">20</text>\n</g>\n<!-- &#45;7047680586733531324&#45;&gt;&#45;386165881070249003 -->\n<g class=\"edge\" id=\"edge21\"><title>-7047680586733531324-&gt;-386165881070249003</title>\n<path d=\"M2410.05,-100.275C2410.05,-109.105 2410.05,-118.007 2410.05,-125.92\" fill=\"none\" stroke=\"black\"/>\n<polygon fill=\"black\" points=\"2406.55,-126 2410.05,-136 2413.55,-126 2406.55,-126\" stroke=\"black\"/>\n</g>\n<!-- &#45;6015309002087975249 -->\n<g class=\"node\" id=\"node43\"><title>-6015309002087975249</title>\n<ellipse cx=\"2528.05\" cy=\"-50.0456\" fill=\"none\" rx=\"50.0912\" ry=\"50.0912\" stroke=\"black\"/>\n<text font-family=\"Times,serif\" font-size=\"14.00\" text-anchor=\"middle\" x=\"2528.05\" y=\"-46.3456\">read-csv</text>\n</g>\n<!-- &#45;386165881069166478 -->\n<g class=\"node\" id=\"node44\"><title>-386165881069166478</title>\n<polygon fill=\"none\" points=\"2555.05,-172.091 2501.05,-172.091 2501.05,-136.091 2555.05,-136.091 2555.05,-172.091\" stroke=\"black\"/>\n<text font-family=\"Times,serif\" font-size=\"14.00\" text-anchor=\"middle\" x=\"2528.05\" y=\"-150.391\">21</text>\n</g>\n<!-- &#45;6015309002087975249&#45;&gt;&#45;386165881069166478 -->\n<g class=\"edge\" id=\"edge22\"><title>-6015309002087975249-&gt;-386165881069166478</title>\n<path d=\"M2528.05,-100.275C2528.05,-109.105 2528.05,-118.007 2528.05,-125.92\" fill=\"none\" stroke=\"black\"/>\n<polygon fill=\"black\" points=\"2524.55,-126 2528.05,-136 2531.55,-126 2524.55,-126\" stroke=\"black\"/>\n</g>\n<!-- 9132476324732565442 -->\n<g class=\"node\" id=\"node45\"><title>9132476324732565442</title>\n<ellipse cx=\"2646.05\" cy=\"-50.0456\" fill=\"none\" rx=\"50.0912\" ry=\"50.0912\" stroke=\"black\"/>\n<text font-family=\"Times,serif\" font-size=\"14.00\" text-anchor=\"middle\" x=\"2646.05\" y=\"-46.3456\">read-csv</text>\n</g>\n<!-- &#45;386165881072414053 -->\n<g class=\"node\" id=\"node46\"><title>-386165881072414053</title>\n<polygon fill=\"none\" points=\"2673.05,-172.091 2619.05,-172.091 2619.05,-136.091 2673.05,-136.091 2673.05,-172.091\" stroke=\"black\"/>\n<text font-family=\"Times,serif\" font-size=\"14.00\" text-anchor=\"middle\" x=\"2646.05\" y=\"-150.391\">22</text>\n</g>\n<!-- 9132476324732565442&#45;&gt;&#45;386165881072414053 -->\n<g class=\"edge\" id=\"edge23\"><title>9132476324732565442-&gt;-386165881072414053</title>\n<path d=\"M2646.05,-100.275C2646.05,-109.105 2646.05,-118.007 2646.05,-125.92\" fill=\"none\" stroke=\"black\"/>\n<polygon fill=\"black\" points=\"2642.55,-126 2646.05,-136 2649.55,-126 2642.55,-126\" stroke=\"black\"/>\n</g>\n<!-- &#45;8194150227636218899 -->\n<g class=\"node\" id=\"node47\"><title>-8194150227636218899</title>\n<ellipse cx=\"2764.05\" cy=\"-50.0456\" fill=\"none\" rx=\"50.0912\" ry=\"50.0912\" stroke=\"black\"/>\n<text font-family=\"Times,serif\" font-size=\"14.00\" text-anchor=\"middle\" x=\"2764.05\" y=\"-46.3456\">read-csv</text>\n</g>\n<!-- &#45;386165881071331528 -->\n<g class=\"node\" id=\"node48\"><title>-386165881071331528</title>\n<polygon fill=\"none\" points=\"2791.05,-172.091 2737.05,-172.091 2737.05,-136.091 2791.05,-136.091 2791.05,-172.091\" stroke=\"black\"/>\n<text font-family=\"Times,serif\" font-size=\"14.00\" text-anchor=\"middle\" x=\"2764.05\" y=\"-150.391\">23</text>\n</g>\n<!-- &#45;8194150227636218899&#45;&gt;&#45;386165881071331528 -->\n<g class=\"edge\" id=\"edge24\"><title>-8194150227636218899-&gt;-386165881071331528</title>\n<path d=\"M2764.05,-100.275C2764.05,-109.105 2764.05,-118.007 2764.05,-125.92\" fill=\"none\" stroke=\"black\"/>\n<polygon fill=\"black\" points=\"2760.55,-126 2764.05,-136 2767.55,-126 2760.55,-126\" stroke=\"black\"/>\n</g>\n<!-- 841159144076284760 -->\n<g class=\"node\" id=\"node49\"><title>841159144076284760</title>\n<ellipse cx=\"2882.05\" cy=\"-50.0456\" fill=\"none\" rx=\"50.0912\" ry=\"50.0912\" stroke=\"black\"/>\n<text font-family=\"Times,serif\" font-size=\"14.00\" text-anchor=\"middle\" x=\"2882.05\" y=\"-46.3456\">read-csv</text>\n</g>\n<!-- &#45;386165881057258703 -->\n<g class=\"node\" id=\"node50\"><title>-386165881057258703</title>\n<polygon fill=\"none\" points=\"2909.05,-172.091 2855.05,-172.091 2855.05,-136.091 2909.05,-136.091 2909.05,-172.091\" stroke=\"black\"/>\n<text font-family=\"Times,serif\" font-size=\"14.00\" text-anchor=\"middle\" x=\"2882.05\" y=\"-150.391\">24</text>\n</g>\n<!-- 841159144076284760&#45;&gt;&#45;386165881057258703 -->\n<g class=\"edge\" id=\"edge25\"><title>841159144076284760-&gt;-386165881057258703</title>\n<path d=\"M2882.05,-100.275C2882.05,-109.105 2882.05,-118.007 2882.05,-125.92\" fill=\"none\" stroke=\"black\"/>\n<polygon fill=\"black\" points=\"2878.55,-126 2882.05,-136 2885.55,-126 2878.55,-126\" stroke=\"black\"/>\n</g>\n<!-- &#45;7216701625688230765 -->\n<g class=\"node\" id=\"node51\"><title>-7216701625688230765</title>\n<ellipse cx=\"3000.05\" cy=\"-50.0456\" fill=\"none\" rx=\"50.0912\" ry=\"50.0912\" stroke=\"black\"/>\n<text font-family=\"Times,serif\" font-size=\"14.00\" text-anchor=\"middle\" x=\"3000.05\" y=\"-46.3456\">read-csv</text>\n</g>\n<!-- &#45;386165881056176178 -->\n<g class=\"node\" id=\"node52\"><title>-386165881056176178</title>\n<polygon fill=\"none\" points=\"3027.05,-172.091 2973.05,-172.091 2973.05,-136.091 3027.05,-136.091 3027.05,-172.091\" stroke=\"black\"/>\n<text font-family=\"Times,serif\" font-size=\"14.00\" text-anchor=\"middle\" x=\"3000.05\" y=\"-150.391\">25</text>\n</g>\n<!-- &#45;7216701625688230765&#45;&gt;&#45;386165881056176178 -->\n<g class=\"edge\" id=\"edge26\"><title>-7216701625688230765-&gt;-386165881056176178</title>\n<path d=\"M3000.05,-100.275C3000.05,-109.105 3000.05,-118.007 3000.05,-125.92\" fill=\"none\" stroke=\"black\"/>\n<polygon fill=\"black\" points=\"2996.55,-126 3000.05,-136 3003.55,-126 2996.55,-126\" stroke=\"black\"/>\n</g>\n<!-- &#45;2010547809266482890 -->\n<g class=\"node\" id=\"node53\"><title>-2010547809266482890</title>\n<ellipse cx=\"3118.05\" cy=\"-50.0456\" fill=\"none\" rx=\"50.0912\" ry=\"50.0912\" stroke=\"black\"/>\n<text font-family=\"Times,serif\" font-size=\"14.00\" text-anchor=\"middle\" x=\"3118.05\" y=\"-46.3456\">read-csv</text>\n</g>\n<!-- &#45;386165881059423753 -->\n<g class=\"node\" id=\"node54\"><title>-386165881059423753</title>\n<polygon fill=\"none\" points=\"3145.05,-172.091 3091.05,-172.091 3091.05,-136.091 3145.05,-136.091 3145.05,-172.091\" stroke=\"black\"/>\n<text font-family=\"Times,serif\" font-size=\"14.00\" text-anchor=\"middle\" x=\"3118.05\" y=\"-150.391\">26</text>\n</g>\n<!-- &#45;2010547809266482890&#45;&gt;&#45;386165881059423753 -->\n<g class=\"edge\" id=\"edge27\"><title>-2010547809266482890-&gt;-386165881059423753</title>\n<path d=\"M3118.05,-100.275C3118.05,-109.105 3118.05,-118.007 3118.05,-125.92\" fill=\"none\" stroke=\"black\"/>\n<polygon fill=\"black\" points=\"3114.55,-126 3118.05,-136 3121.55,-126 3114.55,-126\" stroke=\"black\"/>\n</g>\n<!-- &#45;248812998191859615 -->\n<g class=\"node\" id=\"node55\"><title>-248812998191859615</title>\n<ellipse cx=\"3236.05\" cy=\"-50.0456\" fill=\"none\" rx=\"50.0912\" ry=\"50.0912\" stroke=\"black\"/>\n<text font-family=\"Times,serif\" font-size=\"14.00\" text-anchor=\"middle\" x=\"3236.05\" y=\"-46.3456\">read-csv</text>\n</g>\n<!-- &#45;386165881058341228 -->\n<g class=\"node\" id=\"node56\"><title>-386165881058341228</title>\n<polygon fill=\"none\" points=\"3263.05,-172.091 3209.05,-172.091 3209.05,-136.091 3263.05,-136.091 3263.05,-172.091\" stroke=\"black\"/>\n<text font-family=\"Times,serif\" font-size=\"14.00\" text-anchor=\"middle\" x=\"3236.05\" y=\"-150.391\">27</text>\n</g>\n<!-- &#45;248812998191859615&#45;&gt;&#45;386165881058341228 -->\n<g class=\"edge\" id=\"edge28\"><title>-248812998191859615-&gt;-386165881058341228</title>\n<path d=\"M3236.05,-100.275C3236.05,-109.105 3236.05,-118.007 3236.05,-125.92\" fill=\"none\" stroke=\"black\"/>\n<polygon fill=\"black\" points=\"3232.55,-126 3236.05,-136 3239.55,-126 3232.55,-126\" stroke=\"black\"/>\n</g>\n<!-- 3756914653323300892 -->\n<g class=\"node\" id=\"node57\"><title>3756914653323300892</title>\n<ellipse cx=\"3354.05\" cy=\"-50.0456\" fill=\"none\" rx=\"50.0912\" ry=\"50.0912\" stroke=\"black\"/>\n<text font-family=\"Times,serif\" font-size=\"14.00\" text-anchor=\"middle\" x=\"3354.05\" y=\"-46.3456\">read-csv</text>\n</g>\n<!-- &#45;386165881061588803 -->\n<g class=\"node\" id=\"node58\"><title>-386165881061588803</title>\n<polygon fill=\"none\" points=\"3381.05,-172.091 3327.05,-172.091 3327.05,-136.091 3381.05,-136.091 3381.05,-172.091\" stroke=\"black\"/>\n<text font-family=\"Times,serif\" font-size=\"14.00\" text-anchor=\"middle\" x=\"3354.05\" y=\"-150.391\">28</text>\n</g>\n<!-- 3756914653323300892&#45;&gt;&#45;386165881061588803 -->\n<g class=\"edge\" id=\"edge29\"><title>3756914653323300892-&gt;-386165881061588803</title>\n<path d=\"M3354.05,-100.275C3354.05,-109.105 3354.05,-118.007 3354.05,-125.92\" fill=\"none\" stroke=\"black\"/>\n<polygon fill=\"black\" points=\"3350.55,-126 3354.05,-136 3357.55,-126 3350.55,-126\" stroke=\"black\"/>\n</g>\n<!-- &#45;3032644607238014265 -->\n<g class=\"node\" id=\"node59\"><title>-3032644607238014265</title>\n<ellipse cx=\"3472.05\" cy=\"-50.0456\" fill=\"none\" rx=\"50.0912\" ry=\"50.0912\" stroke=\"black\"/>\n<text font-family=\"Times,serif\" font-size=\"14.00\" text-anchor=\"middle\" x=\"3472.05\" y=\"-46.3456\">read-csv</text>\n</g>\n<!-- &#45;386165881060506278 -->\n<g class=\"node\" id=\"node60\"><title>-386165881060506278</title>\n<polygon fill=\"none\" points=\"3499.05,-172.091 3445.05,-172.091 3445.05,-136.091 3499.05,-136.091 3499.05,-172.091\" stroke=\"black\"/>\n<text font-family=\"Times,serif\" font-size=\"14.00\" text-anchor=\"middle\" x=\"3472.05\" y=\"-150.391\">29</text>\n</g>\n<!-- &#45;3032644607238014265&#45;&gt;&#45;386165881060506278 -->\n<g class=\"edge\" id=\"edge30\"><title>-3032644607238014265-&gt;-386165881060506278</title>\n<path d=\"M3472.05,-100.275C3472.05,-109.105 3472.05,-118.007 3472.05,-125.92\" fill=\"none\" stroke=\"black\"/>\n<polygon fill=\"black\" points=\"3468.55,-126 3472.05,-136 3475.55,-126 3468.55,-126\" stroke=\"black\"/>\n</g>\n<!-- 2670821868414944410 -->\n<g class=\"node\" id=\"node61\"><title>2670821868414944410</title>\n<ellipse cx=\"3590.05\" cy=\"-50.0456\" fill=\"none\" rx=\"50.0912\" ry=\"50.0912\" stroke=\"black\"/>\n<text font-family=\"Times,serif\" font-size=\"14.00\" text-anchor=\"middle\" x=\"3590.05\" y=\"-46.3456\">read-csv</text>\n</g>\n<!-- &#45;386165881063753853 -->\n<g class=\"node\" id=\"node62\"><title>-386165881063753853</title>\n<polygon fill=\"none\" points=\"3617.05,-172.091 3563.05,-172.091 3563.05,-136.091 3617.05,-136.091 3617.05,-172.091\" stroke=\"black\"/>\n<text font-family=\"Times,serif\" font-size=\"14.00\" text-anchor=\"middle\" x=\"3590.05\" y=\"-150.391\">30</text>\n</g>\n<!-- 2670821868414944410&#45;&gt;&#45;386165881063753853 -->\n<g class=\"edge\" id=\"edge31\"><title>2670821868414944410-&gt;-386165881063753853</title>\n<path d=\"M3590.05,-100.275C3590.05,-109.105 3590.05,-118.007 3590.05,-125.92\" fill=\"none\" stroke=\"black\"/>\n<polygon fill=\"black\" points=\"3586.55,-126 3590.05,-136 3593.55,-126 3586.55,-126\" stroke=\"black\"/>\n</g>\n<!-- 2648061334650744517 -->\n<g class=\"node\" id=\"node63\"><title>2648061334650744517</title>\n<ellipse cx=\"3708.05\" cy=\"-50.0456\" fill=\"none\" rx=\"50.0912\" ry=\"50.0912\" stroke=\"black\"/>\n<text font-family=\"Times,serif\" font-size=\"14.00\" text-anchor=\"middle\" x=\"3708.05\" y=\"-46.3456\">read-csv</text>\n</g>\n<!-- &#45;386165881062671328 -->\n<g class=\"node\" id=\"node64\"><title>-386165881062671328</title>\n<polygon fill=\"none\" points=\"3735.05,-172.091 3681.05,-172.091 3681.05,-136.091 3735.05,-136.091 3735.05,-172.091\" stroke=\"black\"/>\n<text font-family=\"Times,serif\" font-size=\"14.00\" text-anchor=\"middle\" x=\"3708.05\" y=\"-150.391\">31</text>\n</g>\n<!-- 2648061334650744517&#45;&gt;&#45;386165881062671328 -->\n<g class=\"edge\" id=\"edge32\"><title>2648061334650744517-&gt;-386165881062671328</title>\n<path d=\"M3708.05,-100.275C3708.05,-109.105 3708.05,-118.007 3708.05,-125.92\" fill=\"none\" stroke=\"black\"/>\n<polygon fill=\"black\" points=\"3704.55,-126 3708.05,-136 3711.55,-126 3704.55,-126\" stroke=\"black\"/>\n</g>\n<!-- 5304573423531712208 -->\n<g class=\"node\" id=\"node65\"><title>5304573423531712208</title>\n<ellipse cx=\"3826.05\" cy=\"-50.0456\" fill=\"none\" rx=\"50.0912\" ry=\"50.0912\" stroke=\"black\"/>\n<text font-family=\"Times,serif\" font-size=\"14.00\" text-anchor=\"middle\" x=\"3826.05\" y=\"-46.3456\">read-csv</text>\n</g>\n<!-- &#45;386165881083239303 -->\n<g class=\"node\" id=\"node66\"><title>-386165881083239303</title>\n<polygon fill=\"none\" points=\"3853.05,-172.091 3799.05,-172.091 3799.05,-136.091 3853.05,-136.091 3853.05,-172.091\" stroke=\"black\"/>\n<text font-family=\"Times,serif\" font-size=\"14.00\" text-anchor=\"middle\" x=\"3826.05\" y=\"-150.391\">32</text>\n</g>\n<!-- 5304573423531712208&#45;&gt;&#45;386165881083239303 -->\n<g class=\"edge\" id=\"edge33\"><title>5304573423531712208-&gt;-386165881083239303</title>\n<path d=\"M3826.05,-100.275C3826.05,-109.105 3826.05,-118.007 3826.05,-125.92\" fill=\"none\" stroke=\"black\"/>\n<polygon fill=\"black\" points=\"3822.55,-126 3826.05,-136 3829.55,-126 3822.55,-126\" stroke=\"black\"/>\n</g>\n<!-- 6326102511718055883 -->\n<g class=\"node\" id=\"node67\"><title>6326102511718055883</title>\n<ellipse cx=\"3944.05\" cy=\"-50.0456\" fill=\"none\" rx=\"50.0912\" ry=\"50.0912\" stroke=\"black\"/>\n<text font-family=\"Times,serif\" font-size=\"14.00\" text-anchor=\"middle\" x=\"3944.05\" y=\"-46.3456\">read-csv</text>\n</g>\n<!-- &#45;386165881082156778 -->\n<g class=\"node\" id=\"node68\"><title>-386165881082156778</title>\n<polygon fill=\"none\" points=\"3971.05,-172.091 3917.05,-172.091 3917.05,-136.091 3971.05,-136.091 3971.05,-172.091\" stroke=\"black\"/>\n<text font-family=\"Times,serif\" font-size=\"14.00\" text-anchor=\"middle\" x=\"3944.05\" y=\"-150.391\">33</text>\n</g>\n<!-- 6326102511718055883&#45;&gt;&#45;386165881082156778 -->\n<g class=\"edge\" id=\"edge34\"><title>6326102511718055883-&gt;-386165881082156778</title>\n<path d=\"M3944.05,-100.275C3944.05,-109.105 3944.05,-118.007 3944.05,-125.92\" fill=\"none\" stroke=\"black\"/>\n<polygon fill=\"black\" points=\"3940.55,-126 3944.05,-136 3947.55,-126 3940.55,-126\" stroke=\"black\"/>\n</g>\n<!-- 3660069192819739758 -->\n<g class=\"node\" id=\"node69\"><title>3660069192819739758</title>\n<ellipse cx=\"4062.05\" cy=\"-50.0456\" fill=\"none\" rx=\"50.0912\" ry=\"50.0912\" stroke=\"black\"/>\n<text font-family=\"Times,serif\" font-size=\"14.00\" text-anchor=\"middle\" x=\"4062.05\" y=\"-46.3456\">read-csv</text>\n</g>\n<!-- &#45;386165881085404353 -->\n<g class=\"node\" id=\"node70\"><title>-386165881085404353</title>\n<polygon fill=\"none\" points=\"4089.05,-172.091 4035.05,-172.091 4035.05,-136.091 4089.05,-136.091 4089.05,-172.091\" stroke=\"black\"/>\n<text font-family=\"Times,serif\" font-size=\"14.00\" text-anchor=\"middle\" x=\"4062.05\" y=\"-150.391\">34</text>\n</g>\n<!-- 3660069192819739758&#45;&gt;&#45;386165881085404353 -->\n<g class=\"edge\" id=\"edge35\"><title>3660069192819739758-&gt;-386165881085404353</title>\n<path d=\"M4062.05,-100.275C4062.05,-109.105 4062.05,-118.007 4062.05,-125.92\" fill=\"none\" stroke=\"black\"/>\n<polygon fill=\"black\" points=\"4058.55,-126 4062.05,-136 4065.55,-126 4058.55,-126\" stroke=\"black\"/>\n</g>\n<!-- 4783965494604887833 -->\n<g class=\"node\" id=\"node71\"><title>4783965494604887833</title>\n<ellipse cx=\"4180.05\" cy=\"-50.0456\" fill=\"none\" rx=\"50.0912\" ry=\"50.0912\" stroke=\"black\"/>\n<text font-family=\"Times,serif\" font-size=\"14.00\" text-anchor=\"middle\" x=\"4180.05\" y=\"-46.3456\">read-csv</text>\n</g>\n<!-- &#45;386165881084321828 -->\n<g class=\"node\" id=\"node72\"><title>-386165881084321828</title>\n<polygon fill=\"none\" points=\"4207.05,-172.091 4153.05,-172.091 4153.05,-136.091 4207.05,-136.091 4207.05,-172.091\" stroke=\"black\"/>\n<text font-family=\"Times,serif\" font-size=\"14.00\" text-anchor=\"middle\" x=\"4180.05\" y=\"-150.391\">35</text>\n</g>\n<!-- 4783965494604887833&#45;&gt;&#45;386165881084321828 -->\n<g class=\"edge\" id=\"edge36\"><title>4783965494604887833-&gt;-386165881084321828</title>\n<path d=\"M4180.05,-100.275C4180.05,-109.105 4180.05,-118.007 4180.05,-125.92\" fill=\"none\" stroke=\"black\"/>\n<polygon fill=\"black\" points=\"4176.55,-126 4180.05,-136 4183.55,-126 4176.55,-126\" stroke=\"black\"/>\n</g>\n<!-- &#45;7954921639770596908 -->\n<g class=\"node\" id=\"node73\"><title>-7954921639770596908</title>\n<ellipse cx=\"4298.05\" cy=\"-50.0456\" fill=\"none\" rx=\"50.0912\" ry=\"50.0912\" stroke=\"black\"/>\n<text font-family=\"Times,serif\" font-size=\"14.00\" text-anchor=\"middle\" x=\"4298.05\" y=\"-46.3456\">read-csv</text>\n</g>\n<!-- &#45;386165881087569403 -->\n<g class=\"node\" id=\"node74\"><title>-386165881087569403</title>\n<polygon fill=\"none\" points=\"4325.05,-172.091 4271.05,-172.091 4271.05,-136.091 4325.05,-136.091 4325.05,-172.091\" stroke=\"black\"/>\n<text font-family=\"Times,serif\" font-size=\"14.00\" text-anchor=\"middle\" x=\"4298.05\" y=\"-150.391\">36</text>\n</g>\n<!-- &#45;7954921639770596908&#45;&gt;&#45;386165881087569403 -->\n<g class=\"edge\" id=\"edge37\"><title>-7954921639770596908-&gt;-386165881087569403</title>\n<path d=\"M4298.05,-100.275C4298.05,-109.105 4298.05,-118.007 4298.05,-125.92\" fill=\"none\" stroke=\"black\"/>\n<polygon fill=\"black\" points=\"4294.55,-126 4298.05,-136 4301.55,-126 4294.55,-126\" stroke=\"black\"/>\n</g>\n<!-- &#45;6858921794402373633 -->\n<g class=\"node\" id=\"node75\"><title>-6858921794402373633</title>\n<ellipse cx=\"4416.05\" cy=\"-50.0456\" fill=\"none\" rx=\"50.0912\" ry=\"50.0912\" stroke=\"black\"/>\n<text font-family=\"Times,serif\" font-size=\"14.00\" text-anchor=\"middle\" x=\"4416.05\" y=\"-46.3456\">read-csv</text>\n</g>\n<!-- &#45;386165881086486878 -->\n<g class=\"node\" id=\"node76\"><title>-386165881086486878</title>\n<polygon fill=\"none\" points=\"4443.05,-172.091 4389.05,-172.091 4389.05,-136.091 4443.05,-136.091 4443.05,-172.091\" stroke=\"black\"/>\n<text font-family=\"Times,serif\" font-size=\"14.00\" text-anchor=\"middle\" x=\"4416.05\" y=\"-150.391\">37</text>\n</g>\n<!-- &#45;6858921794402373633&#45;&gt;&#45;386165881086486878 -->\n<g class=\"edge\" id=\"edge38\"><title>-6858921794402373633-&gt;-386165881086486878</title>\n<path d=\"M4416.05,-100.275C4416.05,-109.105 4416.05,-118.007 4416.05,-125.92\" fill=\"none\" stroke=\"black\"/>\n<polygon fill=\"black\" points=\"4412.55,-126 4416.05,-136 4419.55,-126 4412.55,-126\" stroke=\"black\"/>\n</g>\n<!-- 8355018103175989458 -->\n<g class=\"node\" id=\"node77\"><title>8355018103175989458</title>\n<ellipse cx=\"4534.05\" cy=\"-50.0456\" fill=\"none\" rx=\"50.0912\" ry=\"50.0912\" stroke=\"black\"/>\n<text font-family=\"Times,serif\" font-size=\"14.00\" text-anchor=\"middle\" x=\"4534.05\" y=\"-46.3456\">read-csv</text>\n</g>\n<!-- &#45;386165881089734453 -->\n<g class=\"node\" id=\"node78\"><title>-386165881089734453</title>\n<polygon fill=\"none\" points=\"4561.05,-172.091 4507.05,-172.091 4507.05,-136.091 4561.05,-136.091 4561.05,-172.091\" stroke=\"black\"/>\n<text font-family=\"Times,serif\" font-size=\"14.00\" text-anchor=\"middle\" x=\"4534.05\" y=\"-150.391\">38</text>\n</g>\n<!-- 8355018103175989458&#45;&gt;&#45;386165881089734453 -->\n<g class=\"edge\" id=\"edge39\"><title>8355018103175989458-&gt;-386165881089734453</title>\n<path d=\"M4534.05,-100.275C4534.05,-109.105 4534.05,-118.007 4534.05,-125.92\" fill=\"none\" stroke=\"black\"/>\n<polygon fill=\"black\" points=\"4530.55,-126 4534.05,-136 4537.55,-126 4530.55,-126\" stroke=\"black\"/>\n</g>\n<!-- &#45;9078543731248599683 -->\n<g class=\"node\" id=\"node79\"><title>-9078543731248599683</title>\n<ellipse cx=\"4652.05\" cy=\"-50.0456\" fill=\"none\" rx=\"50.0912\" ry=\"50.0912\" stroke=\"black\"/>\n<text font-family=\"Times,serif\" font-size=\"14.00\" text-anchor=\"middle\" x=\"4652.05\" y=\"-46.3456\">read-csv</text>\n</g>\n<!-- &#45;386165881088651928 -->\n<g class=\"node\" id=\"node80\"><title>-386165881088651928</title>\n<polygon fill=\"none\" points=\"4679.05,-172.091 4625.05,-172.091 4625.05,-136.091 4679.05,-136.091 4679.05,-172.091\" stroke=\"black\"/>\n<text font-family=\"Times,serif\" font-size=\"14.00\" text-anchor=\"middle\" x=\"4652.05\" y=\"-150.391\">39</text>\n</g>\n<!-- &#45;9078543731248599683&#45;&gt;&#45;386165881088651928 -->\n<g class=\"edge\" id=\"edge40\"><title>-9078543731248599683-&gt;-386165881088651928</title>\n<path d=\"M4652.05,-100.275C4652.05,-109.105 4652.05,-118.007 4652.05,-125.92\" fill=\"none\" stroke=\"black\"/>\n<polygon fill=\"black\" points=\"4648.55,-126 4652.05,-136 4655.55,-126 4648.55,-126\" stroke=\"black\"/>\n</g>\n<!-- &#45;2351859912101262424 -->\n<g class=\"node\" id=\"node81\"><title>-2351859912101262424</title>\n<ellipse cx=\"4770.05\" cy=\"-50.0456\" fill=\"none\" rx=\"50.0912\" ry=\"50.0912\" stroke=\"black\"/>\n<text font-family=\"Times,serif\" font-size=\"14.00\" text-anchor=\"middle\" x=\"4770.05\" y=\"-46.3456\">read-csv</text>\n</g>\n<!-- &#45;386165881074579103 -->\n<g class=\"node\" id=\"node82\"><title>-386165881074579103</title>\n<polygon fill=\"none\" points=\"4797.05,-172.091 4743.05,-172.091 4743.05,-136.091 4797.05,-136.091 4797.05,-172.091\" stroke=\"black\"/>\n<text font-family=\"Times,serif\" font-size=\"14.00\" text-anchor=\"middle\" x=\"4770.05\" y=\"-150.391\">40</text>\n</g>\n<!-- &#45;2351859912101262424&#45;&gt;&#45;386165881074579103 -->\n<g class=\"edge\" id=\"edge41\"><title>-2351859912101262424-&gt;-386165881074579103</title>\n<path d=\"M4770.05,-100.275C4770.05,-109.105 4770.05,-118.007 4770.05,-125.92\" fill=\"none\" stroke=\"black\"/>\n<polygon fill=\"black\" points=\"4766.55,-126 4770.05,-136 4773.55,-126 4766.55,-126\" stroke=\"black\"/>\n</g>\n<!-- &#45;1344216736857542749 -->\n<g class=\"node\" id=\"node83\"><title>-1344216736857542749</title>\n<ellipse cx=\"4888.05\" cy=\"-50.0456\" fill=\"none\" rx=\"50.0912\" ry=\"50.0912\" stroke=\"black\"/>\n<text font-family=\"Times,serif\" font-size=\"14.00\" text-anchor=\"middle\" x=\"4888.05\" y=\"-46.3456\">read-csv</text>\n</g>\n<!-- &#45;386165881073496578 -->\n<g class=\"node\" id=\"node84\"><title>-386165881073496578</title>\n<polygon fill=\"none\" points=\"4915.05,-172.091 4861.05,-172.091 4861.05,-136.091 4915.05,-136.091 4915.05,-172.091\" stroke=\"black\"/>\n<text font-family=\"Times,serif\" font-size=\"14.00\" text-anchor=\"middle\" x=\"4888.05\" y=\"-150.391\">41</text>\n</g>\n<!-- &#45;1344216736857542749&#45;&gt;&#45;386165881073496578 -->\n<g class=\"edge\" id=\"edge42\"><title>-1344216736857542749-&gt;-386165881073496578</title>\n<path d=\"M4888.05,-100.275C4888.05,-109.105 4888.05,-118.007 4888.05,-125.92\" fill=\"none\" stroke=\"black\"/>\n<polygon fill=\"black\" points=\"4884.55,-126 4888.05,-136 4891.55,-126 4884.55,-126\" stroke=\"black\"/>\n</g>\n<!-- &#45;5203456820005503674 -->\n<g class=\"node\" id=\"node85\"><title>-5203456820005503674</title>\n<ellipse cx=\"5006.05\" cy=\"-50.0456\" fill=\"none\" rx=\"50.0912\" ry=\"50.0912\" stroke=\"black\"/>\n<text font-family=\"Times,serif\" font-size=\"14.00\" text-anchor=\"middle\" x=\"5006.05\" y=\"-46.3456\">read-csv</text>\n</g>\n<!-- &#45;386165881076744153 -->\n<g class=\"node\" id=\"node86\"><title>-386165881076744153</title>\n<polygon fill=\"none\" points=\"5033.05,-172.091 4979.05,-172.091 4979.05,-136.091 5033.05,-136.091 5033.05,-172.091\" stroke=\"black\"/>\n<text font-family=\"Times,serif\" font-size=\"14.00\" text-anchor=\"middle\" x=\"5006.05\" y=\"-150.391\">42</text>\n</g>\n<!-- &#45;5203456820005503674&#45;&gt;&#45;386165881076744153 -->\n<g class=\"edge\" id=\"edge43\"><title>-5203456820005503674-&gt;-386165881076744153</title>\n<path d=\"M5006.05,-100.275C5006.05,-109.105 5006.05,-118.007 5006.05,-125.92\" fill=\"none\" stroke=\"black\"/>\n<polygon fill=\"black\" points=\"5002.55,-126 5006.05,-136 5009.55,-126 5002.55,-126\" stroke=\"black\"/>\n</g>\n<!-- &#45;3462022791542377999 -->\n<g class=\"node\" id=\"node87\"><title>-3462022791542377999</title>\n<ellipse cx=\"5124.05\" cy=\"-50.0456\" fill=\"none\" rx=\"50.0912\" ry=\"50.0912\" stroke=\"black\"/>\n<text font-family=\"Times,serif\" font-size=\"14.00\" text-anchor=\"middle\" x=\"5124.05\" y=\"-46.3456\">read-csv</text>\n</g>\n<!-- &#45;386165881075661628 -->\n<g class=\"node\" id=\"node88\"><title>-386165881075661628</title>\n<polygon fill=\"none\" points=\"5151.05,-172.091 5097.05,-172.091 5097.05,-136.091 5151.05,-136.091 5151.05,-172.091\" stroke=\"black\"/>\n<text font-family=\"Times,serif\" font-size=\"14.00\" text-anchor=\"middle\" x=\"5124.05\" y=\"-150.391\">43</text>\n</g>\n<!-- &#45;3462022791542377999&#45;&gt;&#45;386165881075661628 -->\n<g class=\"edge\" id=\"edge44\"><title>-3462022791542377999-&gt;-386165881075661628</title>\n<path d=\"M5124.05,-100.275C5124.05,-109.105 5124.05,-118.007 5124.05,-125.92\" fill=\"none\" stroke=\"black\"/>\n<polygon fill=\"black\" points=\"5120.55,-126 5124.05,-136 5127.55,-126 5120.55,-126\" stroke=\"black\"/>\n</g>\n<!-- 1802935840811356076 -->\n<g class=\"node\" id=\"node89\"><title>1802935840811356076</title>\n<ellipse cx=\"5242.05\" cy=\"-50.0456\" fill=\"none\" rx=\"50.0912\" ry=\"50.0912\" stroke=\"black\"/>\n<text font-family=\"Times,serif\" font-size=\"14.00\" text-anchor=\"middle\" x=\"5242.05\" y=\"-46.3456\">read-csv</text>\n</g>\n<!-- &#45;386165881078909203 -->\n<g class=\"node\" id=\"node90\"><title>-386165881078909203</title>\n<polygon fill=\"none\" points=\"5269.05,-172.091 5215.05,-172.091 5215.05,-136.091 5269.05,-136.091 5269.05,-172.091\" stroke=\"black\"/>\n<text font-family=\"Times,serif\" font-size=\"14.00\" text-anchor=\"middle\" x=\"5242.05\" y=\"-150.391\">44</text>\n</g>\n<!-- 1802935840811356076&#45;&gt;&#45;386165881078909203 -->\n<g class=\"edge\" id=\"edge45\"><title>1802935840811356076-&gt;-386165881078909203</title>\n<path d=\"M5242.05,-100.275C5242.05,-109.105 5242.05,-118.007 5242.05,-125.92\" fill=\"none\" stroke=\"black\"/>\n<polygon fill=\"black\" points=\"5238.55,-126 5242.05,-136 5245.55,-126 5238.55,-126\" stroke=\"black\"/>\n</g>\n<!-- 2824773970919361751 -->\n<g class=\"node\" id=\"node91\"><title>2824773970919361751</title>\n<ellipse cx=\"5360.05\" cy=\"-50.0456\" fill=\"none\" rx=\"50.0912\" ry=\"50.0912\" stroke=\"black\"/>\n<text font-family=\"Times,serif\" font-size=\"14.00\" text-anchor=\"middle\" x=\"5360.05\" y=\"-46.3456\">read-csv</text>\n</g>\n<!-- &#45;386165881077826678 -->\n<g class=\"node\" id=\"node92\"><title>-386165881077826678</title>\n<polygon fill=\"none\" points=\"5387.05,-172.091 5333.05,-172.091 5333.05,-136.091 5387.05,-136.091 5387.05,-172.091\" stroke=\"black\"/>\n<text font-family=\"Times,serif\" font-size=\"14.00\" text-anchor=\"middle\" x=\"5360.05\" y=\"-150.391\">45</text>\n</g>\n<!-- 2824773970919361751&#45;&gt;&#45;386165881077826678 -->\n<g class=\"edge\" id=\"edge46\"><title>2824773970919361751-&gt;-386165881077826678</title>\n<path d=\"M5360.05,-100.275C5360.05,-109.105 5360.05,-118.007 5360.05,-125.92\" fill=\"none\" stroke=\"black\"/>\n<polygon fill=\"black\" points=\"5356.55,-126 5360.05,-136 5363.55,-126 5356.55,-126\" stroke=\"black\"/>\n</g>\n<!-- &#45;409697951263492374 -->\n<g class=\"node\" id=\"node93\"><title>-409697951263492374</title>\n<ellipse cx=\"5478.05\" cy=\"-50.0456\" fill=\"none\" rx=\"50.0912\" ry=\"50.0912\" stroke=\"black\"/>\n<text font-family=\"Times,serif\" font-size=\"14.00\" text-anchor=\"middle\" x=\"5478.05\" y=\"-46.3456\">read-csv</text>\n</g>\n<!-- &#45;386165881081074253 -->\n<g class=\"node\" id=\"node94\"><title>-386165881081074253</title>\n<polygon fill=\"none\" points=\"5505.05,-172.091 5451.05,-172.091 5451.05,-136.091 5505.05,-136.091 5505.05,-172.091\" stroke=\"black\"/>\n<text font-family=\"Times,serif\" font-size=\"14.00\" text-anchor=\"middle\" x=\"5478.05\" y=\"-150.391\">46</text>\n</g>\n<!-- &#45;409697951263492374&#45;&gt;&#45;386165881081074253 -->\n<g class=\"edge\" id=\"edge47\"><title>-409697951263492374-&gt;-386165881081074253</title>\n<path d=\"M5478.05,-100.275C5478.05,-109.105 5478.05,-118.007 5478.05,-125.92\" fill=\"none\" stroke=\"black\"/>\n<polygon fill=\"black\" points=\"5474.55,-126 5478.05,-136 5481.55,-126 5474.55,-126\" stroke=\"black\"/>\n</g>\n<!-- 716543860730031701 -->\n<g class=\"node\" id=\"node95\"><title>716543860730031701</title>\n<ellipse cx=\"5596.05\" cy=\"-50.0456\" fill=\"none\" rx=\"50.0912\" ry=\"50.0912\" stroke=\"black\"/>\n<text font-family=\"Times,serif\" font-size=\"14.00\" text-anchor=\"middle\" x=\"5596.05\" y=\"-46.3456\">read-csv</text>\n</g>\n<!-- &#45;386165881079991728 -->\n<g class=\"node\" id=\"node96\"><title>-386165881079991728</title>\n<polygon fill=\"none\" points=\"5623.05,-172.091 5569.05,-172.091 5569.05,-136.091 5623.05,-136.091 5623.05,-172.091\" stroke=\"black\"/>\n<text font-family=\"Times,serif\" font-size=\"14.00\" text-anchor=\"middle\" x=\"5596.05\" y=\"-150.391\">47</text>\n</g>\n<!-- 716543860730031701&#45;&gt;&#45;386165881079991728 -->\n<g class=\"edge\" id=\"edge48\"><title>716543860730031701-&gt;-386165881079991728</title>\n<path d=\"M5596.05,-100.275C5596.05,-109.105 5596.05,-118.007 5596.05,-125.92\" fill=\"none\" stroke=\"black\"/>\n<polygon fill=\"black\" points=\"5592.55,-126 5596.05,-136 5599.55,-126 5592.55,-126\" stroke=\"black\"/>\n</g>\n<!-- 4292593834355152224 -->\n<g class=\"node\" id=\"node97\"><title>4292593834355152224</title>\n<ellipse cx=\"5714.05\" cy=\"-50.0456\" fill=\"none\" rx=\"50.0912\" ry=\"50.0912\" stroke=\"black\"/>\n<text font-family=\"Times,serif\" font-size=\"14.00\" text-anchor=\"middle\" x=\"5714.05\" y=\"-46.3456\">read-csv</text>\n</g>\n<!-- &#45;386165881100559703 -->\n<g class=\"node\" id=\"node98\"><title>-386165881100559703</title>\n<polygon fill=\"none\" points=\"5741.05,-172.091 5687.05,-172.091 5687.05,-136.091 5741.05,-136.091 5741.05,-172.091\" stroke=\"black\"/>\n<text font-family=\"Times,serif\" font-size=\"14.00\" text-anchor=\"middle\" x=\"5714.05\" y=\"-150.391\">48</text>\n</g>\n<!-- 4292593834355152224&#45;&gt;&#45;386165881100559703 -->\n<g class=\"edge\" id=\"edge49\"><title>4292593834355152224-&gt;-386165881100559703</title>\n<path d=\"M5714.05,-100.275C5714.05,-109.105 5714.05,-118.007 5714.05,-125.92\" fill=\"none\" stroke=\"black\"/>\n<polygon fill=\"black\" points=\"5710.55,-126 5714.05,-136 5717.55,-126 5710.55,-126\" stroke=\"black\"/>\n</g>\n<!-- 5462675757464471899 -->\n<g class=\"node\" id=\"node99\"><title>5462675757464471899</title>\n<ellipse cx=\"5832.05\" cy=\"-50.0456\" fill=\"none\" rx=\"50.0912\" ry=\"50.0912\" stroke=\"black\"/>\n<text font-family=\"Times,serif\" font-size=\"14.00\" text-anchor=\"middle\" x=\"5832.05\" y=\"-46.3456\">read-csv</text>\n</g>\n<!-- &#45;386165881099477178 -->\n<g class=\"node\" id=\"node100\"><title>-386165881099477178</title>\n<polygon fill=\"none\" points=\"5859.05,-172.091 5805.05,-172.091 5805.05,-136.091 5859.05,-136.091 5859.05,-172.091\" stroke=\"black\"/>\n<text font-family=\"Times,serif\" font-size=\"14.00\" text-anchor=\"middle\" x=\"5832.05\" y=\"-150.391\">49</text>\n</g>\n<!-- 5462675757464471899&#45;&gt;&#45;386165881099477178 -->\n<g class=\"edge\" id=\"edge50\"><title>5462675757464471899-&gt;-386165881099477178</title>\n<path d=\"M5832.05,-100.275C5832.05,-109.105 5832.05,-118.007 5832.05,-125.92\" fill=\"none\" stroke=\"black\"/>\n<polygon fill=\"black\" points=\"5828.55,-126 5832.05,-136 5835.55,-126 5828.55,-126\" stroke=\"black\"/>\n</g>\n<!-- &#45;8880621932765163842 -->\n<g class=\"node\" id=\"node101\"><title>-8880621932765163842</title>\n<ellipse cx=\"5950.05\" cy=\"-50.0456\" fill=\"none\" rx=\"50.0912\" ry=\"50.0912\" stroke=\"black\"/>\n<text font-family=\"Times,serif\" font-size=\"14.00\" text-anchor=\"middle\" x=\"5950.05\" y=\"-46.3456\">read-csv</text>\n</g>\n<!-- &#45;386165881102724753 -->\n<g class=\"node\" id=\"node102\"><title>-386165881102724753</title>\n<polygon fill=\"none\" points=\"5977.05,-172.091 5923.05,-172.091 5923.05,-136.091 5977.05,-136.091 5977.05,-172.091\" stroke=\"black\"/>\n<text font-family=\"Times,serif\" font-size=\"14.00\" text-anchor=\"middle\" x=\"5950.05\" y=\"-150.391\">50</text>\n</g>\n<!-- &#45;8880621932765163842&#45;&gt;&#45;386165881102724753 -->\n<g class=\"edge\" id=\"edge51\"><title>-8880621932765163842-&gt;-386165881102724753</title>\n<path d=\"M5950.05,-100.275C5950.05,-109.105 5950.05,-118.007 5950.05,-125.92\" fill=\"none\" stroke=\"black\"/>\n<polygon fill=\"black\" points=\"5946.55,-126 5950.05,-136 5953.55,-126 5946.55,-126\" stroke=\"black\"/>\n</g>\n<!-- 1586407074948017449 -->\n<g class=\"node\" id=\"node103\"><title>1586407074948017449</title>\n<ellipse cx=\"6068.05\" cy=\"-50.0456\" fill=\"none\" rx=\"50.0912\" ry=\"50.0912\" stroke=\"black\"/>\n<text font-family=\"Times,serif\" font-size=\"14.00\" text-anchor=\"middle\" x=\"6068.05\" y=\"-46.3456\">read-csv</text>\n</g>\n<!-- &#45;386165881101642228 -->\n<g class=\"node\" id=\"node104\"><title>-386165881101642228</title>\n<polygon fill=\"none\" points=\"6095.05,-172.091 6041.05,-172.091 6041.05,-136.091 6095.05,-136.091 6095.05,-172.091\" stroke=\"black\"/>\n<text font-family=\"Times,serif\" font-size=\"14.00\" text-anchor=\"middle\" x=\"6068.05\" y=\"-150.391\">51</text>\n</g>\n<!-- 1586407074948017449&#45;&gt;&#45;386165881101642228 -->\n<g class=\"edge\" id=\"edge52\"><title>1586407074948017449-&gt;-386165881101642228</title>\n<path d=\"M6068.05,-100.275C6068.05,-109.105 6068.05,-118.007 6068.05,-125.92\" fill=\"none\" stroke=\"black\"/>\n<polygon fill=\"black\" points=\"6064.55,-126 6068.05,-136 6071.55,-126 6064.55,-126\" stroke=\"black\"/>\n</g>\n<!-- 7261317510012812324 -->\n<g class=\"node\" id=\"node105\"><title>7261317510012812324</title>\n<ellipse cx=\"6186.05\" cy=\"-50.0456\" fill=\"none\" rx=\"50.0912\" ry=\"50.0912\" stroke=\"black\"/>\n<text font-family=\"Times,serif\" font-size=\"14.00\" text-anchor=\"middle\" x=\"6186.05\" y=\"-46.3456\">read-csv</text>\n</g>\n<!-- &#45;386165881104889803 -->\n<g class=\"node\" id=\"node106\"><title>-386165881104889803</title>\n<polygon fill=\"none\" points=\"6213.05,-172.091 6159.05,-172.091 6159.05,-136.091 6213.05,-136.091 6213.05,-172.091\" stroke=\"black\"/>\n<text font-family=\"Times,serif\" font-size=\"14.00\" text-anchor=\"middle\" x=\"6186.05\" y=\"-150.391\">52</text>\n</g>\n<!-- 7261317510012812324&#45;&gt;&#45;386165881104889803 -->\n<g class=\"edge\" id=\"edge53\"><title>7261317510012812324-&gt;-386165881104889803</title>\n<path d=\"M6186.05,-100.275C6186.05,-109.105 6186.05,-118.007 6186.05,-125.92\" fill=\"none\" stroke=\"black\"/>\n<polygon fill=\"black\" points=\"6182.55,-126 6186.05,-136 6189.55,-126 6182.55,-126\" stroke=\"black\"/>\n</g>\n<!-- 8436647908447833999 -->\n<g class=\"node\" id=\"node107\"><title>8436647908447833999</title>\n<ellipse cx=\"6304.05\" cy=\"-50.0456\" fill=\"none\" rx=\"50.0912\" ry=\"50.0912\" stroke=\"black\"/>\n<text font-family=\"Times,serif\" font-size=\"14.00\" text-anchor=\"middle\" x=\"6304.05\" y=\"-46.3456\">read-csv</text>\n</g>\n<!-- &#45;386165881103807278 -->\n<g class=\"node\" id=\"node108\"><title>-386165881103807278</title>\n<polygon fill=\"none\" points=\"6331.05,-172.091 6277.05,-172.091 6277.05,-136.091 6331.05,-136.091 6331.05,-172.091\" stroke=\"black\"/>\n<text font-family=\"Times,serif\" font-size=\"14.00\" text-anchor=\"middle\" x=\"6304.05\" y=\"-150.391\">53</text>\n</g>\n<!-- 8436647908447833999&#45;&gt;&#45;386165881103807278 -->\n<g class=\"edge\" id=\"edge54\"><title>8436647908447833999-&gt;-386165881103807278</title>\n<path d=\"M6304.05,-100.275C6304.05,-109.105 6304.05,-118.007 6304.05,-125.92\" fill=\"none\" stroke=\"black\"/>\n<polygon fill=\"black\" points=\"6300.55,-126 6304.05,-136 6307.55,-126 6300.55,-126\" stroke=\"black\"/>\n</g>\n<!-- &#45;4233664464324306142 -->\n<g class=\"node\" id=\"node109\"><title>-4233664464324306142</title>\n<ellipse cx=\"6422.05\" cy=\"-50.0456\" fill=\"none\" rx=\"50.0912\" ry=\"50.0912\" stroke=\"black\"/>\n<text font-family=\"Times,serif\" font-size=\"14.00\" text-anchor=\"middle\" x=\"6422.05\" y=\"-46.3456\">read-csv</text>\n</g>\n<!-- &#45;386165881107054853 -->\n<g class=\"node\" id=\"node110\"><title>-386165881107054853</title>\n<polygon fill=\"none\" points=\"6449.05,-172.091 6395.05,-172.091 6395.05,-136.091 6449.05,-136.091 6449.05,-172.091\" stroke=\"black\"/>\n<text font-family=\"Times,serif\" font-size=\"14.00\" text-anchor=\"middle\" x=\"6422.05\" y=\"-150.391\">54</text>\n</g>\n<!-- &#45;4233664464324306142&#45;&gt;&#45;386165881107054853 -->\n<g class=\"edge\" id=\"edge55\"><title>-4233664464324306142-&gt;-386165881107054853</title>\n<path d=\"M6422.05,-100.275C6422.05,-109.105 6422.05,-118.007 6422.05,-125.92\" fill=\"none\" stroke=\"black\"/>\n<polygon fill=\"black\" points=\"6418.55,-126 6422.05,-136 6425.55,-126 6418.55,-126\" stroke=\"black\"/>\n</g>\n<!-- 6164302825520467149 -->\n<g class=\"node\" id=\"node111\"><title>6164302825520467149</title>\n<ellipse cx=\"6540.05\" cy=\"-50.0456\" fill=\"none\" rx=\"50.0912\" ry=\"50.0912\" stroke=\"black\"/>\n<text font-family=\"Times,serif\" font-size=\"14.00\" text-anchor=\"middle\" x=\"6540.05\" y=\"-46.3456\">read-csv</text>\n</g>\n<!-- &#45;386165881105972328 -->\n<g class=\"node\" id=\"node112\"><title>-386165881105972328</title>\n<polygon fill=\"none\" points=\"6567.05,-172.091 6513.05,-172.091 6513.05,-136.091 6567.05,-136.091 6567.05,-172.091\" stroke=\"black\"/>\n<text font-family=\"Times,serif\" font-size=\"14.00\" text-anchor=\"middle\" x=\"6540.05\" y=\"-150.391\">55</text>\n</g>\n<!-- 6164302825520467149&#45;&gt;&#45;386165881105972328 -->\n<g class=\"edge\" id=\"edge56\"><title>6164302825520467149-&gt;-386165881105972328</title>\n<path d=\"M6540.05,-100.275C6540.05,-109.105 6540.05,-118.007 6540.05,-125.92\" fill=\"none\" stroke=\"black\"/>\n<polygon fill=\"black\" points=\"6536.55,-126 6540.05,-136 6543.55,-126 6536.55,-126\" stroke=\"black\"/>\n</g>\n<!-- &#45;3225133800665931208 -->\n<g class=\"node\" id=\"node113\"><title>-3225133800665931208</title>\n<ellipse cx=\"6658.05\" cy=\"-50.0456\" fill=\"none\" rx=\"50.0912\" ry=\"50.0912\" stroke=\"black\"/>\n<text font-family=\"Times,serif\" font-size=\"14.00\" text-anchor=\"middle\" x=\"6658.05\" y=\"-46.3456\">read-csv</text>\n</g>\n<!-- &#45;386165881091899503 -->\n<g class=\"node\" id=\"node114\"><title>-386165881091899503</title>\n<polygon fill=\"none\" points=\"6685.05,-172.091 6631.05,-172.091 6631.05,-136.091 6685.05,-136.091 6685.05,-172.091\" stroke=\"black\"/>\n<text font-family=\"Times,serif\" font-size=\"14.00\" text-anchor=\"middle\" x=\"6658.05\" y=\"-150.391\">56</text>\n</g>\n<!-- &#45;3225133800665931208&#45;&gt;&#45;386165881091899503 -->\n<g class=\"edge\" id=\"edge57\"><title>-3225133800665931208-&gt;-386165881091899503</title>\n<path d=\"M6658.05,-100.275C6658.05,-109.105 6658.05,-118.007 6658.05,-125.92\" fill=\"none\" stroke=\"black\"/>\n<polygon fill=\"black\" points=\"6654.55,-126 6658.05,-136 6661.55,-126 6654.55,-126\" stroke=\"black\"/>\n</g>\n<!-- &#45;2125923734217125133 -->\n<g class=\"node\" id=\"node115\"><title>-2125923734217125133</title>\n<ellipse cx=\"6776.05\" cy=\"-50.0456\" fill=\"none\" rx=\"50.0912\" ry=\"50.0912\" stroke=\"black\"/>\n<text font-family=\"Times,serif\" font-size=\"14.00\" text-anchor=\"middle\" x=\"6776.05\" y=\"-46.3456\">read-csv</text>\n</g>\n<!-- &#45;386165881090816978 -->\n<g class=\"node\" id=\"node116\"><title>-386165881090816978</title>\n<polygon fill=\"none\" points=\"6803.05,-172.091 6749.05,-172.091 6749.05,-136.091 6803.05,-136.091 6803.05,-172.091\" stroke=\"black\"/>\n<text font-family=\"Times,serif\" font-size=\"14.00\" text-anchor=\"middle\" x=\"6776.05\" y=\"-150.391\">57</text>\n</g>\n<!-- &#45;2125923734217125133&#45;&gt;&#45;386165881090816978 -->\n<g class=\"edge\" id=\"edge58\"><title>-2125923734217125133-&gt;-386165881090816978</title>\n<path d=\"M6776.05,-100.275C6776.05,-109.105 6776.05,-118.007 6776.05,-125.92\" fill=\"none\" stroke=\"black\"/>\n<polygon fill=\"black\" points=\"6772.55,-126 6776.05,-136 6779.55,-126 6772.55,-126\" stroke=\"black\"/>\n</g>\n<!-- &#45;6013976570746314858 -->\n<g class=\"node\" id=\"node117\"><title>-6013976570746314858</title>\n<ellipse cx=\"6894.05\" cy=\"-50.0456\" fill=\"none\" rx=\"50.0912\" ry=\"50.0912\" stroke=\"black\"/>\n<text font-family=\"Times,serif\" font-size=\"14.00\" text-anchor=\"middle\" x=\"6894.05\" y=\"-46.3456\">read-csv</text>\n</g>\n<!-- &#45;386165881094064553 -->\n<g class=\"node\" id=\"node118\"><title>-386165881094064553</title>\n<polygon fill=\"none\" points=\"6921.05,-172.091 6867.05,-172.091 6867.05,-136.091 6921.05,-136.091 6921.05,-172.091\" stroke=\"black\"/>\n<text font-family=\"Times,serif\" font-size=\"14.00\" text-anchor=\"middle\" x=\"6894.05\" y=\"-150.391\">58</text>\n</g>\n<!-- &#45;6013976570746314858&#45;&gt;&#45;386165881094064553 -->\n<g class=\"edge\" id=\"edge59\"><title>-6013976570746314858-&gt;-386165881094064553</title>\n<path d=\"M6894.05,-100.275C6894.05,-109.105 6894.05,-118.007 6894.05,-125.92\" fill=\"none\" stroke=\"black\"/>\n<polygon fill=\"black\" points=\"6890.55,-126 6894.05,-136 6897.55,-126 6890.55,-126\" stroke=\"black\"/>\n</g>\n<!-- &#45;4990699530672219583 -->\n<g class=\"node\" id=\"node119\"><title>-4990699530672219583</title>\n<ellipse cx=\"7012.05\" cy=\"-50.0456\" fill=\"none\" rx=\"50.0912\" ry=\"50.0912\" stroke=\"black\"/>\n<text font-family=\"Times,serif\" font-size=\"14.00\" text-anchor=\"middle\" x=\"7012.05\" y=\"-46.3456\">read-csv</text>\n</g>\n<!-- &#45;386165881092982028 -->\n<g class=\"node\" id=\"node120\"><title>-386165881092982028</title>\n<polygon fill=\"none\" points=\"7039.05,-172.091 6985.05,-172.091 6985.05,-136.091 7039.05,-136.091 7039.05,-172.091\" stroke=\"black\"/>\n<text font-family=\"Times,serif\" font-size=\"14.00\" text-anchor=\"middle\" x=\"7012.05\" y=\"-150.391\">59</text>\n</g>\n<!-- &#45;4990699530672219583&#45;&gt;&#45;386165881092982028 -->\n<g class=\"edge\" id=\"edge60\"><title>-4990699530672219583-&gt;-386165881092982028</title>\n<path d=\"M7012.05,-100.275C7012.05,-109.105 7012.05,-118.007 7012.05,-125.92\" fill=\"none\" stroke=\"black\"/>\n<polygon fill=\"black\" points=\"7008.55,-126 7012.05,-136 7015.55,-126 7008.55,-126\" stroke=\"black\"/>\n</g>\n<!-- 808963012183152892 -->\n<g class=\"node\" id=\"node121\"><title>808963012183152892</title>\n<ellipse cx=\"7130.05\" cy=\"-50.0456\" fill=\"none\" rx=\"50.0912\" ry=\"50.0912\" stroke=\"black\"/>\n<text font-family=\"Times,serif\" font-size=\"14.00\" text-anchor=\"middle\" x=\"7130.05\" y=\"-46.3456\">read-csv</text>\n</g>\n<!-- &#45;386165881096229603 -->\n<g class=\"node\" id=\"node122\"><title>-386165881096229603</title>\n<polygon fill=\"none\" points=\"7157.05,-172.091 7103.05,-172.091 7103.05,-136.091 7157.05,-136.091 7157.05,-172.091\" stroke=\"black\"/>\n<text font-family=\"Times,serif\" font-size=\"14.00\" text-anchor=\"middle\" x=\"7130.05\" y=\"-150.391\">60</text>\n</g>\n<!-- 808963012183152892&#45;&gt;&#45;386165881096229603 -->\n<g class=\"edge\" id=\"edge61\"><title>808963012183152892-&gt;-386165881096229603</title>\n<path d=\"M7130.05,-100.275C7130.05,-109.105 7130.05,-118.007 7130.05,-125.92\" fill=\"none\" stroke=\"black\"/>\n<polygon fill=\"black\" points=\"7126.55,-126 7130.05,-136 7133.55,-126 7126.55,-126\" stroke=\"black\"/>\n</g>\n<!-- 1965479826901558567 -->\n<g class=\"node\" id=\"node123\"><title>1965479826901558567</title>\n<ellipse cx=\"7248.05\" cy=\"-50.0456\" fill=\"none\" rx=\"50.0912\" ry=\"50.0912\" stroke=\"black\"/>\n<text font-family=\"Times,serif\" font-size=\"14.00\" text-anchor=\"middle\" x=\"7248.05\" y=\"-46.3456\">read-csv</text>\n</g>\n<!-- &#45;386165881095147078 -->\n<g class=\"node\" id=\"node124\"><title>-386165881095147078</title>\n<polygon fill=\"none\" points=\"7275.05,-172.091 7221.05,-172.091 7221.05,-136.091 7275.05,-136.091 7275.05,-172.091\" stroke=\"black\"/>\n<text font-family=\"Times,serif\" font-size=\"14.00\" text-anchor=\"middle\" x=\"7248.05\" y=\"-150.391\">61</text>\n</g>\n<!-- 1965479826901558567&#45;&gt;&#45;386165881095147078 -->\n<g class=\"edge\" id=\"edge62\"><title>1965479826901558567-&gt;-386165881095147078</title>\n<path d=\"M7248.05,-100.275C7248.05,-109.105 7248.05,-118.007 7248.05,-125.92\" fill=\"none\" stroke=\"black\"/>\n<polygon fill=\"black\" points=\"7244.55,-126 7248.05,-136 7251.55,-126 7244.55,-126\" stroke=\"black\"/>\n</g>\n<!-- &#45;1317810894807652358 -->\n<g class=\"node\" id=\"node125\"><title>-1317810894807652358</title>\n<ellipse cx=\"7366.05\" cy=\"-50.0456\" fill=\"none\" rx=\"50.0912\" ry=\"50.0912\" stroke=\"black\"/>\n<text font-family=\"Times,serif\" font-size=\"14.00\" text-anchor=\"middle\" x=\"7366.05\" y=\"-46.3456\">read-csv</text>\n</g>\n<!-- &#45;386165881098394653 -->\n<g class=\"node\" id=\"node126\"><title>-386165881098394653</title>\n<polygon fill=\"none\" points=\"7393.05,-172.091 7339.05,-172.091 7339.05,-136.091 7393.05,-136.091 7393.05,-172.091\" stroke=\"black\"/>\n<text font-family=\"Times,serif\" font-size=\"14.00\" text-anchor=\"middle\" x=\"7366.05\" y=\"-150.391\">62</text>\n</g>\n<!-- &#45;1317810894807652358&#45;&gt;&#45;386165881098394653 -->\n<g class=\"edge\" id=\"edge63\"><title>-1317810894807652358-&gt;-386165881098394653</title>\n<path d=\"M7366.05,-100.275C7366.05,-109.105 7366.05,-118.007 7366.05,-125.92\" fill=\"none\" stroke=\"black\"/>\n<polygon fill=\"black\" points=\"7362.55,-126 7366.05,-136 7369.55,-126 7362.55,-126\" stroke=\"black\"/>\n</g>\n<!-- &#45;291668356949627483 -->\n<g class=\"node\" id=\"node127\"><title>-291668356949627483</title>\n<ellipse cx=\"7484.05\" cy=\"-50.0456\" fill=\"none\" rx=\"50.0912\" ry=\"50.0912\" stroke=\"black\"/>\n<text font-family=\"Times,serif\" font-size=\"14.00\" text-anchor=\"middle\" x=\"7484.05\" y=\"-46.3456\">read-csv</text>\n</g>\n<!-- &#45;386165881097312128 -->\n<g class=\"node\" id=\"node128\"><title>-386165881097312128</title>\n<polygon fill=\"none\" points=\"7511.05,-172.091 7457.05,-172.091 7457.05,-136.091 7511.05,-136.091 7511.05,-172.091\" stroke=\"black\"/>\n<text font-family=\"Times,serif\" font-size=\"14.00\" text-anchor=\"middle\" x=\"7484.05\" y=\"-150.391\">63</text>\n</g>\n<!-- &#45;291668356949627483&#45;&gt;&#45;386165881097312128 -->\n<g class=\"edge\" id=\"edge64\"><title>-291668356949627483-&gt;-386165881097312128</title>\n<path d=\"M7484.05,-100.275C7484.05,-109.105 7484.05,-118.007 7484.05,-125.92\" fill=\"none\" stroke=\"black\"/>\n<polygon fill=\"black\" points=\"7480.55,-126 7484.05,-136 7487.55,-126 7480.55,-126\" stroke=\"black\"/>\n</g>\n<!-- 8263007992740721712 -->\n<g class=\"node\" id=\"node129\"><title>8263007992740721712</title>\n<ellipse cx=\"7602.05\" cy=\"-50.0456\" fill=\"none\" rx=\"50.0912\" ry=\"50.0912\" stroke=\"black\"/>\n<text font-family=\"Times,serif\" font-size=\"14.00\" text-anchor=\"middle\" x=\"7602.05\" y=\"-46.3456\">read-csv</text>\n</g>\n<!-- &#45;386165880979316903 -->\n<g class=\"node\" id=\"node130\"><title>-386165880979316903</title>\n<polygon fill=\"none\" points=\"7629.05,-172.091 7575.05,-172.091 7575.05,-136.091 7629.05,-136.091 7629.05,-172.091\" stroke=\"black\"/>\n<text font-family=\"Times,serif\" font-size=\"14.00\" text-anchor=\"middle\" x=\"7602.05\" y=\"-150.391\">64</text>\n</g>\n<!-- 8263007992740721712&#45;&gt;&#45;386165880979316903 -->\n<g class=\"edge\" id=\"edge65\"><title>8263007992740721712-&gt;-386165880979316903</title>\n<path d=\"M7602.05,-100.275C7602.05,-109.105 7602.05,-118.007 7602.05,-125.92\" fill=\"none\" stroke=\"black\"/>\n<polygon fill=\"black\" points=\"7598.55,-126 7602.05,-136 7605.55,-126 7598.55,-126\" stroke=\"black\"/>\n</g>\n<!-- &#45;9076647400687695829 -->\n<g class=\"node\" id=\"node131\"><title>-9076647400687695829</title>\n<ellipse cx=\"7720.05\" cy=\"-50.0456\" fill=\"none\" rx=\"50.0912\" ry=\"50.0912\" stroke=\"black\"/>\n<text font-family=\"Times,serif\" font-size=\"14.00\" text-anchor=\"middle\" x=\"7720.05\" y=\"-46.3456\">read-csv</text>\n</g>\n<!-- &#45;386165880978234378 -->\n<g class=\"node\" id=\"node132\"><title>-386165880978234378</title>\n<polygon fill=\"none\" points=\"7747.05,-172.091 7693.05,-172.091 7693.05,-136.091 7747.05,-136.091 7747.05,-172.091\" stroke=\"black\"/>\n<text font-family=\"Times,serif\" font-size=\"14.00\" text-anchor=\"middle\" x=\"7720.05\" y=\"-150.391\">65</text>\n</g>\n<!-- &#45;9076647400687695829&#45;&gt;&#45;386165880978234378 -->\n<g class=\"edge\" id=\"edge66\"><title>-9076647400687695829-&gt;-386165880978234378</title>\n<path d=\"M7720.05,-100.275C7720.05,-109.105 7720.05,-118.007 7720.05,-125.92\" fill=\"none\" stroke=\"black\"/>\n<polygon fill=\"black\" points=\"7716.55,-126 7720.05,-136 7723.55,-126 7716.55,-126\" stroke=\"black\"/>\n</g>\n<!-- &#45;3228791379123362354 -->\n<g class=\"node\" id=\"node133\"><title>-3228791379123362354</title>\n<ellipse cx=\"7838.05\" cy=\"-50.0456\" fill=\"none\" rx=\"50.0912\" ry=\"50.0912\" stroke=\"black\"/>\n<text font-family=\"Times,serif\" font-size=\"14.00\" text-anchor=\"middle\" x=\"7838.05\" y=\"-46.3456\">read-csv</text>\n</g>\n<!-- &#45;386165880981481953 -->\n<g class=\"node\" id=\"node134\"><title>-386165880981481953</title>\n<polygon fill=\"none\" points=\"7865.05,-172.091 7811.05,-172.091 7811.05,-136.091 7865.05,-136.091 7865.05,-172.091\" stroke=\"black\"/>\n<text font-family=\"Times,serif\" font-size=\"14.00\" text-anchor=\"middle\" x=\"7838.05\" y=\"-150.391\">66</text>\n</g>\n<!-- &#45;3228791379123362354&#45;&gt;&#45;386165880981481953 -->\n<g class=\"edge\" id=\"edge67\"><title>-3228791379123362354-&gt;-386165880981481953</title>\n<path d=\"M7838.05,-100.275C7838.05,-109.105 7838.05,-118.007 7838.05,-125.92\" fill=\"none\" stroke=\"black\"/>\n<polygon fill=\"black\" points=\"7834.55,-126 7838.05,-136 7841.55,-126 7834.55,-126\" stroke=\"black\"/>\n</g>\n<!-- 7255637515854470137 -->\n<g class=\"node\" id=\"node135\"><title>7255637515854470137</title>\n<ellipse cx=\"7956.05\" cy=\"-50.0456\" fill=\"none\" rx=\"50.0912\" ry=\"50.0912\" stroke=\"black\"/>\n<text font-family=\"Times,serif\" font-size=\"14.00\" text-anchor=\"middle\" x=\"7956.05\" y=\"-46.3456\">read-csv</text>\n</g>\n<!-- &#45;386165880980399428 -->\n<g class=\"node\" id=\"node136\"><title>-386165880980399428</title>\n<polygon fill=\"none\" points=\"7983.05,-172.091 7929.05,-172.091 7929.05,-136.091 7983.05,-136.091 7983.05,-172.091\" stroke=\"black\"/>\n<text font-family=\"Times,serif\" font-size=\"14.00\" text-anchor=\"middle\" x=\"7956.05\" y=\"-150.391\">67</text>\n</g>\n<!-- 7255637515854470137&#45;&gt;&#45;386165880980399428 -->\n<g class=\"edge\" id=\"edge68\"><title>7255637515854470137-&gt;-386165880980399428</title>\n<path d=\"M7956.05,-100.275C7956.05,-109.105 7956.05,-118.007 7956.05,-125.92\" fill=\"none\" stroke=\"black\"/>\n<polygon fill=\"black\" points=\"7952.55,-126 7956.05,-136 7959.55,-126 7952.55,-126\" stroke=\"black\"/>\n</g>\n<!-- &#45;5487352119874096204 -->\n<g class=\"node\" id=\"node137\"><title>-5487352119874096204</title>\n<ellipse cx=\"8074.05\" cy=\"-50.0456\" fill=\"none\" rx=\"50.0912\" ry=\"50.0912\" stroke=\"black\"/>\n<text font-family=\"Times,serif\" font-size=\"14.00\" text-anchor=\"middle\" x=\"8074.05\" y=\"-46.3456\">read-csv</text>\n</g>\n<!-- &#45;386165880983647003 -->\n<g class=\"node\" id=\"node138\"><title>-386165880983647003</title>\n<polygon fill=\"none\" points=\"8101.05,-172.091 8047.05,-172.091 8047.05,-136.091 8101.05,-136.091 8101.05,-172.091\" stroke=\"black\"/>\n<text font-family=\"Times,serif\" font-size=\"14.00\" text-anchor=\"middle\" x=\"8074.05\" y=\"-150.391\">68</text>\n</g>\n<!-- &#45;5487352119874096204&#45;&gt;&#45;386165880983647003 -->\n<g class=\"edge\" id=\"edge69\"><title>-5487352119874096204-&gt;-386165880983647003</title>\n<path d=\"M8074.05,-100.275C8074.05,-109.105 8074.05,-118.007 8074.05,-125.92\" fill=\"none\" stroke=\"black\"/>\n<polygon fill=\"black\" points=\"8070.55,-126 8074.05,-136 8077.55,-126 8070.55,-126\" stroke=\"black\"/>\n</g>\n</g>\n</svg>",
      "text/plain": [
       "<IPython.core.display.SVG object>"
      ]
     },
     "metadata": {},
     "execution_count": 10
    }
   ],
   "metadata": {}
  },
  {
   "cell_type": "markdown",
   "source": [
    "We can see that when we indicate for Dask to actually execute this operation, it will parallelize the work across the 4 GPUs in something like 69 parallel partitions. We can see the exact number of partitions with the `npartitions` property:"
   ],
   "metadata": {}
  },
  {
   "cell_type": "code",
   "execution_count": 11,
   "source": [
    "ddf.npartitions"
   ],
   "outputs": [
    {
     "output_type": "execute_result",
     "data": {
      "text/plain": [
       "69"
      ]
     },
     "metadata": {},
     "execution_count": 11
    }
   ],
   "metadata": {}
  },
  {
   "cell_type": "markdown",
   "source": [
    "The concept of constructing computational graphs with arbitrary operations before executing them is a core part of Dask. We will now add some more operations to the existing computational graph and visualize it again.\r\n",
    "\r\n",
    "After executing the next cell we can see that the graph already constructed for `read_csv` now continues upward. It selects the `age` column across all partitions (visualized as `getitem`) and eventually performs the `.mean()` reduction (visualized as `series-sum-chunk`, `series-sum-agg`, `count-chunk`, `sum-agg` and `true-div`)."
   ],
   "metadata": {}
  },
  {
   "cell_type": "code",
   "execution_count": 12,
   "source": [
    "mean_age = ddf['age'].mean()\r\n",
    "mean_age.visualize(format='svg')"
   ],
   "outputs": [
    {
     "output_type": "execute_result",
     "data": {
      "image/svg+xml": "<svg height=\"1142pt\" viewBox=\"0.00 0.00 24829.84 1142.44\" width=\"24830pt\" xmlns=\"http://www.w3.org/2000/svg\" xmlns:xlink=\"http://www.w3.org/1999/xlink\">\n<g class=\"graph\" id=\"graph0\" transform=\"scale(1 1) rotate(0) translate(4 1138.44)\">\n<title>%3</title>\n<polygon fill=\"white\" points=\"-4,4 -4,-1138.44 24825.8,-1138.44 24825.8,4 -4,4\" stroke=\"none\"/>\n<!-- &#45;8714367239598548970 -->\n<g class=\"node\" id=\"node1\"><title>-8714367239598548970</title>\n<ellipse cx=\"14693.9\" cy=\"-1018.25\" fill=\"none\" rx=\"44.393\" ry=\"44.393\" stroke=\"black\"/>\n<text font-family=\"Times,serif\" font-size=\"14.00\" text-anchor=\"middle\" x=\"14693.9\" y=\"-1014.55\">truediv</text>\n</g>\n<!-- &#45;8437276671314292521 -->\n<g class=\"node\" id=\"node2\"><title>-8437276671314292521</title>\n<polygon fill=\"none\" points=\"14720.9,-1134.44 14666.9,-1134.44 14666.9,-1098.44 14720.9,-1098.44 14720.9,-1134.44\" stroke=\"black\"/>\n<text font-family=\"Times,serif\" font-size=\"14.00\" text-anchor=\"middle\" x=\"14693.9\" y=\"-1112.74\">0</text>\n</g>\n<!-- &#45;8714367239598548970&#45;&gt;&#45;8437276671314292521 -->\n<g class=\"edge\" id=\"edge1\"><title>-8714367239598548970-&gt;-8437276671314292521</title>\n<path d=\"M14693.9,-1062.56C14693.9,-1071.2 14693.9,-1080.05 14693.9,-1087.98\" fill=\"none\" stroke=\"black\"/>\n<polygon fill=\"black\" points=\"14690.4,-1088.11 14693.9,-1098.11 14697.4,-1088.11 14690.4,-1088.11\" stroke=\"black\"/>\n</g>\n<!-- 2766108669250703832 -->\n<g class=\"node\" id=\"node3\"><title>2766108669250703832</title>\n<polygon fill=\"none\" points=\"13189.9,-938.052 13135.9,-938.052 13135.9,-902.052 13189.9,-902.052 13189.9,-938.052\" stroke=\"black\"/>\n<text font-family=\"Times,serif\" font-size=\"14.00\" text-anchor=\"middle\" x=\"13162.9\" y=\"-916.352\">0</text>\n</g>\n<!-- 2766108669250703832&#45;&gt;&#45;8714367239598548970 -->\n<g class=\"edge\" id=\"edge2\"><title>2766108669250703832-&gt;-8714367239598548970</title>\n<path d=\"M13190.2,-922.762C13370.3,-934.082 14391.2,-998.226 14639.5,-1013.83\" fill=\"none\" stroke=\"black\"/>\n<polygon fill=\"black\" points=\"14639.5,-1017.34 14649.7,-1014.47 14640,-1010.35 14639.5,-1017.34\" stroke=\"black\"/>\n</g>\n<!-- &#45;7149317234744316758 -->\n<g class=\"node\" id=\"node4\"><title>-7149317234744316758</title>\n<polygon fill=\"none\" points=\"16251.9,-938.052 16197.9,-938.052 16197.9,-902.052 16251.9,-902.052 16251.9,-938.052\" stroke=\"black\"/>\n<text font-family=\"Times,serif\" font-size=\"14.00\" text-anchor=\"middle\" x=\"16224.9\" y=\"-916.352\">0</text>\n</g>\n<!-- &#45;7149317234744316758&#45;&gt;&#45;8714367239598548970 -->\n<g class=\"edge\" id=\"edge3\"><title>-7149317234744316758-&gt;-8714367239598548970</title>\n<path d=\"M16197.7,-922.762C16017.6,-934.082 14996.7,-998.226 14748.4,-1013.83\" fill=\"none\" stroke=\"black\"/>\n<polygon fill=\"black\" points=\"14747.9,-1010.35 14738.2,-1014.47 14748.4,-1017.34 14747.9,-1010.35\" stroke=\"black\"/>\n</g>\n<!-- &#45;9161748995864503440 -->\n<g class=\"node\" id=\"node5\"><title>-9161748995864503440</title>\n<ellipse cx=\"2660.94\" cy=\"-50.0456\" fill=\"none\" rx=\"50.0912\" ry=\"50.0912\" stroke=\"black\"/>\n<text font-family=\"Times,serif\" font-size=\"14.00\" text-anchor=\"middle\" x=\"2660.94\" y=\"-46.3456\">read-csv</text>\n</g>\n<!-- &#45;386165881048598503 -->\n<g class=\"node\" id=\"node6\"><title>-386165881048598503</title>\n<polygon fill=\"none\" points=\"2687.94,-172.091 2633.94,-172.091 2633.94,-136.091 2687.94,-136.091 2687.94,-172.091\" stroke=\"black\"/>\n<text font-family=\"Times,serif\" font-size=\"14.00\" text-anchor=\"middle\" x=\"2660.94\" y=\"-150.391\">0</text>\n</g>\n<!-- &#45;9161748995864503440&#45;&gt;&#45;386165881048598503 -->\n<g class=\"edge\" id=\"edge4\"><title>-9161748995864503440-&gt;-386165881048598503</title>\n<path d=\"M2660.94,-100.275C2660.94,-109.105 2660.94,-118.007 2660.94,-125.92\" fill=\"none\" stroke=\"black\"/>\n<polygon fill=\"black\" points=\"2657.44,-126 2660.94,-136 2664.44,-126 2657.44,-126\" stroke=\"black\"/>\n</g>\n<!-- &#45;7714869743803761585 -->\n<g class=\"node\" id=\"node143\"><title>-7714869743803761585</title>\n<ellipse cx=\"2660.94\" cy=\"-254.887\" fill=\"none\" rx=\"46.5926\" ry=\"46.5926\" stroke=\"black\"/>\n<text font-family=\"Times,serif\" font-size=\"14.00\" text-anchor=\"middle\" x=\"2660.94\" y=\"-251.187\">getitem</text>\n</g>\n<!-- &#45;386165881048598503&#45;&gt;&#45;7714869743803761585 -->\n<g class=\"edge\" id=\"edge74\"><title>-386165881048598503-&gt;-7714869743803761585</title>\n<path d=\"M2660.94,-172.3C2660.94,-179.608 2660.94,-188.581 2660.94,-197.871\" fill=\"none\" stroke=\"black\"/>\n<polygon fill=\"black\" points=\"2657.44,-198.014 2660.94,-208.014 2664.44,-198.014 2657.44,-198.014\" stroke=\"black\"/>\n</g>\n<!-- 2577363773370439019 -->\n<g class=\"node\" id=\"node7\"><title>2577363773370439019</title>\n<ellipse cx=\"8748.94\" cy=\"-50.0456\" fill=\"none\" rx=\"50.0912\" ry=\"50.0912\" stroke=\"black\"/>\n<text font-family=\"Times,serif\" font-size=\"14.00\" text-anchor=\"middle\" x=\"8748.94\" y=\"-46.3456\">read-csv</text>\n</g>\n<!-- &#45;386165881047515978 -->\n<g class=\"node\" id=\"node8\"><title>-386165881047515978</title>\n<polygon fill=\"none\" points=\"8775.94,-172.091 8721.94,-172.091 8721.94,-136.091 8775.94,-136.091 8775.94,-172.091\" stroke=\"black\"/>\n<text font-family=\"Times,serif\" font-size=\"14.00\" text-anchor=\"middle\" x=\"8748.94\" y=\"-150.391\">1</text>\n</g>\n<!-- 2577363773370439019&#45;&gt;&#45;386165881047515978 -->\n<g class=\"edge\" id=\"edge5\"><title>2577363773370439019-&gt;-386165881047515978</title>\n<path d=\"M8748.94,-100.275C8748.94,-109.105 8748.94,-118.007 8748.94,-125.92\" fill=\"none\" stroke=\"black\"/>\n<polygon fill=\"black\" points=\"8745.44,-126 8748.94,-136 8752.44,-126 8745.44,-126\" stroke=\"black\"/>\n</g>\n<!-- &#45;7689054691058507292 -->\n<g class=\"node\" id=\"node145\"><title>-7689054691058507292</title>\n<ellipse cx=\"8748.94\" cy=\"-254.887\" fill=\"none\" rx=\"46.5926\" ry=\"46.5926\" stroke=\"black\"/>\n<text font-family=\"Times,serif\" font-size=\"14.00\" text-anchor=\"middle\" x=\"8748.94\" y=\"-251.187\">getitem</text>\n</g>\n<!-- &#45;386165881047515978&#45;&gt;&#45;7689054691058507292 -->\n<g class=\"edge\" id=\"edge76\"><title>-386165881047515978-&gt;-7689054691058507292</title>\n<path d=\"M8748.94,-172.3C8748.94,-179.608 8748.94,-188.581 8748.94,-197.871\" fill=\"none\" stroke=\"black\"/>\n<polygon fill=\"black\" points=\"8745.44,-198.014 8748.94,-208.014 8752.44,-198.014 8745.44,-198.014\" stroke=\"black\"/>\n</g>\n<!-- 7649260535616819726 -->\n<g class=\"node\" id=\"node9\"><title>7649260535616819726</title>\n<ellipse cx=\"3478.94\" cy=\"-50.0456\" fill=\"none\" rx=\"50.0912\" ry=\"50.0912\" stroke=\"black\"/>\n<text font-family=\"Times,serif\" font-size=\"14.00\" text-anchor=\"middle\" x=\"3478.94\" y=\"-46.3456\">read-csv</text>\n</g>\n<!-- &#45;386165881050763553 -->\n<g class=\"node\" id=\"node10\"><title>-386165881050763553</title>\n<polygon fill=\"none\" points=\"3505.94,-172.091 3451.94,-172.091 3451.94,-136.091 3505.94,-136.091 3505.94,-172.091\" stroke=\"black\"/>\n<text font-family=\"Times,serif\" font-size=\"14.00\" text-anchor=\"middle\" x=\"3478.94\" y=\"-150.391\">2</text>\n</g>\n<!-- 7649260535616819726&#45;&gt;&#45;386165881050763553 -->\n<g class=\"edge\" id=\"edge6\"><title>7649260535616819726-&gt;-386165881050763553</title>\n<path d=\"M3478.94,-100.275C3478.94,-109.105 3478.94,-118.007 3478.94,-125.92\" fill=\"none\" stroke=\"black\"/>\n<polygon fill=\"black\" points=\"3475.44,-126 3478.94,-136 3482.44,-126 3475.44,-126\" stroke=\"black\"/>\n</g>\n<!-- &#45;805899308208958835 -->\n<g class=\"node\" id=\"node147\"><title>-805899308208958835</title>\n<ellipse cx=\"3478.94\" cy=\"-254.887\" fill=\"none\" rx=\"46.5926\" ry=\"46.5926\" stroke=\"black\"/>\n<text font-family=\"Times,serif\" font-size=\"14.00\" text-anchor=\"middle\" x=\"3478.94\" y=\"-251.187\">getitem</text>\n</g>\n<!-- &#45;386165881050763553&#45;&gt;&#45;805899308208958835 -->\n<g class=\"edge\" id=\"edge78\"><title>-386165881050763553-&gt;-805899308208958835</title>\n<path d=\"M3478.94,-172.3C3478.94,-179.608 3478.94,-188.581 3478.94,-197.871\" fill=\"none\" stroke=\"black\"/>\n<polygon fill=\"black\" points=\"3475.44,-198.014 3478.94,-208.014 3482.44,-198.014 3475.44,-198.014\" stroke=\"black\"/>\n</g>\n<!-- 8187949041107769401 -->\n<g class=\"node\" id=\"node11\"><title>8187949041107769401</title>\n<ellipse cx=\"1046.94\" cy=\"-50.0456\" fill=\"none\" rx=\"50.0912\" ry=\"50.0912\" stroke=\"black\"/>\n<text font-family=\"Times,serif\" font-size=\"14.00\" text-anchor=\"middle\" x=\"1046.94\" y=\"-46.3456\">read-csv</text>\n</g>\n<!-- &#45;386165881049681028 -->\n<g class=\"node\" id=\"node12\"><title>-386165881049681028</title>\n<polygon fill=\"none\" points=\"1073.94,-172.091 1019.94,-172.091 1019.94,-136.091 1073.94,-136.091 1073.94,-172.091\" stroke=\"black\"/>\n<text font-family=\"Times,serif\" font-size=\"14.00\" text-anchor=\"middle\" x=\"1046.94\" y=\"-150.391\">3</text>\n</g>\n<!-- 8187949041107769401&#45;&gt;&#45;386165881049681028 -->\n<g class=\"edge\" id=\"edge7\"><title>8187949041107769401-&gt;-386165881049681028</title>\n<path d=\"M1046.94,-100.275C1046.94,-109.105 1046.94,-118.007 1046.94,-125.92\" fill=\"none\" stroke=\"black\"/>\n<polygon fill=\"black\" points=\"1043.44,-126 1046.94,-136 1050.44,-126 1043.44,-126\" stroke=\"black\"/>\n</g>\n<!-- &#45;1974835629145364510 -->\n<g class=\"node\" id=\"node149\"><title>-1974835629145364510</title>\n<ellipse cx=\"1046.94\" cy=\"-254.887\" fill=\"none\" rx=\"46.5926\" ry=\"46.5926\" stroke=\"black\"/>\n<text font-family=\"Times,serif\" font-size=\"14.00\" text-anchor=\"middle\" x=\"1046.94\" y=\"-251.187\">getitem</text>\n</g>\n<!-- &#45;386165881049681028&#45;&gt;&#45;1974835629145364510 -->\n<g class=\"edge\" id=\"edge80\"><title>-386165881049681028-&gt;-1974835629145364510</title>\n<path d=\"M1046.94,-172.3C1046.94,-179.608 1046.94,-188.581 1046.94,-197.871\" fill=\"none\" stroke=\"black\"/>\n<polygon fill=\"black\" points=\"1043.44,-198.014 1046.94,-208.014 1050.44,-198.014 1043.44,-198.014\" stroke=\"black\"/>\n</g>\n<!-- &#45;3835202398141686540 -->\n<g class=\"node\" id=\"node13\"><title>-3835202398141686540</title>\n<ellipse cx=\"389.942\" cy=\"-50.0456\" fill=\"none\" rx=\"50.0912\" ry=\"50.0912\" stroke=\"black\"/>\n<text font-family=\"Times,serif\" font-size=\"14.00\" text-anchor=\"middle\" x=\"389.942\" y=\"-46.3456\">read-csv</text>\n</g>\n<!-- &#45;386165881052928603 -->\n<g class=\"node\" id=\"node14\"><title>-386165881052928603</title>\n<polygon fill=\"none\" points=\"416.942,-172.091 362.942,-172.091 362.942,-136.091 416.942,-136.091 416.942,-172.091\" stroke=\"black\"/>\n<text font-family=\"Times,serif\" font-size=\"14.00\" text-anchor=\"middle\" x=\"389.942\" y=\"-150.391\">4</text>\n</g>\n<!-- &#45;3835202398141686540&#45;&gt;&#45;386165881052928603 -->\n<g class=\"edge\" id=\"edge8\"><title>-3835202398141686540-&gt;-386165881052928603</title>\n<path d=\"M389.942,-100.275C389.942,-109.105 389.942,-118.007 389.942,-125.92\" fill=\"none\" stroke=\"black\"/>\n<polygon fill=\"black\" points=\"386.442,-126 389.942,-136 393.442,-126 386.442,-126\" stroke=\"black\"/>\n</g>\n<!-- 6602454363530921499 -->\n<g class=\"node\" id=\"node151\"><title>6602454363530921499</title>\n<ellipse cx=\"389.942\" cy=\"-254.887\" fill=\"none\" rx=\"46.5926\" ry=\"46.5926\" stroke=\"black\"/>\n<text font-family=\"Times,serif\" font-size=\"14.00\" text-anchor=\"middle\" x=\"389.942\" y=\"-251.187\">getitem</text>\n</g>\n<!-- &#45;386165881052928603&#45;&gt;6602454363530921499 -->\n<g class=\"edge\" id=\"edge82\"><title>-386165881052928603-&gt;6602454363530921499</title>\n<path d=\"M389.942,-172.3C389.942,-179.608 389.942,-188.581 389.942,-197.871\" fill=\"none\" stroke=\"black\"/>\n<polygon fill=\"black\" points=\"386.442,-198.014 389.942,-208.014 393.442,-198.014 386.442,-198.014\" stroke=\"black\"/>\n</g>\n<!-- 6554731521413109151 -->\n<g class=\"node\" id=\"node15\"><title>6554731521413109151</title>\n<ellipse cx=\"9604.94\" cy=\"-50.0456\" fill=\"none\" rx=\"50.0912\" ry=\"50.0912\" stroke=\"black\"/>\n<text font-family=\"Times,serif\" font-size=\"14.00\" text-anchor=\"middle\" x=\"9604.94\" y=\"-46.3456\">read-csv</text>\n</g>\n<!-- &#45;386165881051846078 -->\n<g class=\"node\" id=\"node16\"><title>-386165881051846078</title>\n<polygon fill=\"none\" points=\"9631.94,-172.091 9577.94,-172.091 9577.94,-136.091 9631.94,-136.091 9631.94,-172.091\" stroke=\"black\"/>\n<text font-family=\"Times,serif\" font-size=\"14.00\" text-anchor=\"middle\" x=\"9604.94\" y=\"-150.391\">5</text>\n</g>\n<!-- 6554731521413109151&#45;&gt;&#45;386165881051846078 -->\n<g class=\"edge\" id=\"edge9\"><title>6554731521413109151-&gt;-386165881051846078</title>\n<path d=\"M9604.94,-100.275C9604.94,-109.105 9604.94,-118.007 9604.94,-125.92\" fill=\"none\" stroke=\"black\"/>\n<polygon fill=\"black\" points=\"9601.44,-126 9604.94,-136 9608.44,-126 9601.44,-126\" stroke=\"black\"/>\n</g>\n<!-- 5581214732206619424 -->\n<g class=\"node\" id=\"node153\"><title>5581214732206619424</title>\n<ellipse cx=\"9604.94\" cy=\"-254.887\" fill=\"none\" rx=\"46.5926\" ry=\"46.5926\" stroke=\"black\"/>\n<text font-family=\"Times,serif\" font-size=\"14.00\" text-anchor=\"middle\" x=\"9604.94\" y=\"-251.187\">getitem</text>\n</g>\n<!-- &#45;386165881051846078&#45;&gt;5581214732206619424 -->\n<g class=\"edge\" id=\"edge84\"><title>-386165881051846078-&gt;5581214732206619424</title>\n<path d=\"M9604.94,-172.3C9604.94,-179.608 9604.94,-188.581 9604.94,-197.871\" fill=\"none\" stroke=\"black\"/>\n<polygon fill=\"black\" points=\"9601.44,-198.014 9604.94,-208.014 9608.44,-198.014 9601.44,-198.014\" stroke=\"black\"/>\n</g>\n<!-- &#45;6119669055968981390 -->\n<g class=\"node\" id=\"node17\"><title>-6119669055968981390</title>\n<ellipse cx=\"8955.94\" cy=\"-50.0456\" fill=\"none\" rx=\"50.0912\" ry=\"50.0912\" stroke=\"black\"/>\n<text font-family=\"Times,serif\" font-size=\"14.00\" text-anchor=\"middle\" x=\"8955.94\" y=\"-46.3456\">read-csv</text>\n</g>\n<!-- &#45;386165881055093653 -->\n<g class=\"node\" id=\"node18\"><title>-386165881055093653</title>\n<polygon fill=\"none\" points=\"8982.94,-172.091 8928.94,-172.091 8928.94,-136.091 8982.94,-136.091 8982.94,-172.091\" stroke=\"black\"/>\n<text font-family=\"Times,serif\" font-size=\"14.00\" text-anchor=\"middle\" x=\"8955.94\" y=\"-150.391\">6</text>\n</g>\n<!-- &#45;6119669055968981390&#45;&gt;&#45;386165881055093653 -->\n<g class=\"edge\" id=\"edge10\"><title>-6119669055968981390-&gt;-386165881055093653</title>\n<path d=\"M8955.94,-100.275C8955.94,-109.105 8955.94,-118.007 8955.94,-125.92\" fill=\"none\" stroke=\"black\"/>\n<polygon fill=\"black\" points=\"8952.44,-126 8955.94,-136 8959.44,-126 8952.44,-126\" stroke=\"black\"/>\n</g>\n<!-- &#45;6074225417275514135 -->\n<g class=\"node\" id=\"node155\"><title>-6074225417275514135</title>\n<ellipse cx=\"8955.94\" cy=\"-254.887\" fill=\"none\" rx=\"46.5926\" ry=\"46.5926\" stroke=\"black\"/>\n<text font-family=\"Times,serif\" font-size=\"14.00\" text-anchor=\"middle\" x=\"8955.94\" y=\"-251.187\">getitem</text>\n</g>\n<!-- &#45;386165881055093653&#45;&gt;&#45;6074225417275514135 -->\n<g class=\"edge\" id=\"edge86\"><title>-386165881055093653-&gt;-6074225417275514135</title>\n<path d=\"M8955.94,-172.3C8955.94,-179.608 8955.94,-188.581 8955.94,-197.871\" fill=\"none\" stroke=\"black\"/>\n<polygon fill=\"black\" points=\"8952.44,-198.014 8955.94,-208.014 8959.44,-198.014 8952.44,-198.014\" stroke=\"black\"/>\n</g>\n<!-- &#45;4940483176192316515 -->\n<g class=\"node\" id=\"node19\"><title>-4940483176192316515</title>\n<ellipse cx=\"7522.94\" cy=\"-50.0456\" fill=\"none\" rx=\"50.0912\" ry=\"50.0912\" stroke=\"black\"/>\n<text font-family=\"Times,serif\" font-size=\"14.00\" text-anchor=\"middle\" x=\"7522.94\" y=\"-46.3456\">read-csv</text>\n</g>\n<!-- &#45;386165881054011128 -->\n<g class=\"node\" id=\"node20\"><title>-386165881054011128</title>\n<polygon fill=\"none\" points=\"7549.94,-172.091 7495.94,-172.091 7495.94,-136.091 7549.94,-136.091 7549.94,-172.091\" stroke=\"black\"/>\n<text font-family=\"Times,serif\" font-size=\"14.00\" text-anchor=\"middle\" x=\"7522.94\" y=\"-150.391\">7</text>\n</g>\n<!-- &#45;4940483176192316515&#45;&gt;&#45;386165881054011128 -->\n<g class=\"edge\" id=\"edge11\"><title>-4940483176192316515-&gt;-386165881054011128</title>\n<path d=\"M7522.94,-100.275C7522.94,-109.105 7522.94,-118.007 7522.94,-125.92\" fill=\"none\" stroke=\"black\"/>\n<polygon fill=\"black\" points=\"7519.44,-126 7522.94,-136 7526.44,-126 7519.44,-126\" stroke=\"black\"/>\n</g>\n<!-- &#45;7199886053085025410 -->\n<g class=\"node\" id=\"node157\"><title>-7199886053085025410</title>\n<ellipse cx=\"7522.94\" cy=\"-254.887\" fill=\"none\" rx=\"46.5926\" ry=\"46.5926\" stroke=\"black\"/>\n<text font-family=\"Times,serif\" font-size=\"14.00\" text-anchor=\"middle\" x=\"7522.94\" y=\"-251.187\">getitem</text>\n</g>\n<!-- &#45;386165881054011128&#45;&gt;&#45;7199886053085025410 -->\n<g class=\"edge\" id=\"edge88\"><title>-386165881054011128-&gt;-7199886053085025410</title>\n<path d=\"M7522.94,-172.3C7522.94,-179.608 7522.94,-188.581 7522.94,-197.871\" fill=\"none\" stroke=\"black\"/>\n<polygon fill=\"black\" points=\"7519.44,-198.014 7522.94,-208.014 7526.44,-198.014 7519.44,-198.014\" stroke=\"black\"/>\n</g>\n<!-- 1624858739349071944 -->\n<g class=\"node\" id=\"node21\"><title>1624858739349071944</title>\n<ellipse cx=\"1883.94\" cy=\"-50.0456\" fill=\"none\" rx=\"50.0912\" ry=\"50.0912\" stroke=\"black\"/>\n<text font-family=\"Times,serif\" font-size=\"14.00\" text-anchor=\"middle\" x=\"1883.94\" y=\"-46.3456\">read-csv</text>\n</g>\n<!-- &#45;386165881039938303 -->\n<g class=\"node\" id=\"node22\"><title>-386165881039938303</title>\n<polygon fill=\"none\" points=\"1910.94,-172.091 1856.94,-172.091 1856.94,-136.091 1910.94,-136.091 1910.94,-172.091\" stroke=\"black\"/>\n<text font-family=\"Times,serif\" font-size=\"14.00\" text-anchor=\"middle\" x=\"1883.94\" y=\"-150.391\">8</text>\n</g>\n<!-- 1624858739349071944&#45;&gt;&#45;386165881039938303 -->\n<g class=\"edge\" id=\"edge12\"><title>1624858739349071944-&gt;-386165881039938303</title>\n<path d=\"M1883.94,-100.275C1883.94,-109.105 1883.94,-118.007 1883.94,-125.92\" fill=\"none\" stroke=\"black\"/>\n<polygon fill=\"black\" points=\"1880.44,-126 1883.94,-136 1887.44,-126 1880.44,-126\" stroke=\"black\"/>\n</g>\n<!-- 1890063190979847399 -->\n<g class=\"node\" id=\"node159\"><title>1890063190979847399</title>\n<ellipse cx=\"1883.94\" cy=\"-254.887\" fill=\"none\" rx=\"46.5926\" ry=\"46.5926\" stroke=\"black\"/>\n<text font-family=\"Times,serif\" font-size=\"14.00\" text-anchor=\"middle\" x=\"1883.94\" y=\"-251.187\">getitem</text>\n</g>\n<!-- &#45;386165881039938303&#45;&gt;1890063190979847399 -->\n<g class=\"edge\" id=\"edge90\"><title>-386165881039938303-&gt;1890063190979847399</title>\n<path d=\"M1883.94,-172.3C1883.94,-179.608 1883.94,-188.581 1883.94,-197.871\" fill=\"none\" stroke=\"black\"/>\n<polygon fill=\"black\" points=\"1880.44,-198.014 1883.94,-208.014 1887.44,-198.014 1880.44,-198.014\" stroke=\"black\"/>\n</g>\n<!-- &#45;6298684818742555581 -->\n<g class=\"node\" id=\"node23\"><title>-6298684818742555581</title>\n<ellipse cx=\"3665.94\" cy=\"-50.0456\" fill=\"none\" rx=\"50.0912\" ry=\"50.0912\" stroke=\"black\"/>\n<text font-family=\"Times,serif\" font-size=\"14.00\" text-anchor=\"middle\" x=\"3665.94\" y=\"-46.3456\">read-csv</text>\n</g>\n<!-- &#45;386165881038855778 -->\n<g class=\"node\" id=\"node24\"><title>-386165881038855778</title>\n<polygon fill=\"none\" points=\"3692.94,-172.091 3638.94,-172.091 3638.94,-136.091 3692.94,-136.091 3692.94,-172.091\" stroke=\"black\"/>\n<text font-family=\"Times,serif\" font-size=\"14.00\" text-anchor=\"middle\" x=\"3665.94\" y=\"-150.391\">9</text>\n</g>\n<!-- &#45;6298684818742555581&#45;&gt;&#45;386165881038855778 -->\n<g class=\"edge\" id=\"edge13\"><title>-6298684818742555581-&gt;-386165881038855778</title>\n<path d=\"M3665.94,-100.275C3665.94,-109.105 3665.94,-118.007 3665.94,-125.92\" fill=\"none\" stroke=\"black\"/>\n<polygon fill=\"black\" points=\"3662.44,-126 3665.94,-136 3669.44,-126 3662.44,-126\" stroke=\"black\"/>\n</g>\n<!-- 798497948868558524 -->\n<g class=\"node\" id=\"node161\"><title>798497948868558524</title>\n<ellipse cx=\"3665.94\" cy=\"-254.887\" fill=\"none\" rx=\"46.5926\" ry=\"46.5926\" stroke=\"black\"/>\n<text font-family=\"Times,serif\" font-size=\"14.00\" text-anchor=\"middle\" x=\"3665.94\" y=\"-251.187\">getitem</text>\n</g>\n<!-- &#45;386165881038855778&#45;&gt;798497948868558524 -->\n<g class=\"edge\" id=\"edge92\"><title>-386165881038855778-&gt;798497948868558524</title>\n<path d=\"M3665.94,-172.3C3665.94,-179.608 3665.94,-188.581 3665.94,-197.871\" fill=\"none\" stroke=\"black\"/>\n<polygon fill=\"black\" points=\"3662.44,-198.014 3665.94,-208.014 3669.44,-198.014 3662.44,-198.014\" stroke=\"black\"/>\n</g>\n<!-- &#45;499607213499162906 -->\n<g class=\"node\" id=\"node25\"><title>-499607213499162906</title>\n<ellipse cx=\"6158.94\" cy=\"-50.0456\" fill=\"none\" rx=\"50.0912\" ry=\"50.0912\" stroke=\"black\"/>\n<text font-family=\"Times,serif\" font-size=\"14.00\" text-anchor=\"middle\" x=\"6158.94\" y=\"-46.3456\">read-csv</text>\n</g>\n<!-- &#45;386165881042103353 -->\n<g class=\"node\" id=\"node26\"><title>-386165881042103353</title>\n<polygon fill=\"none\" points=\"6185.94,-172.091 6131.94,-172.091 6131.94,-136.091 6185.94,-136.091 6185.94,-172.091\" stroke=\"black\"/>\n<text font-family=\"Times,serif\" font-size=\"14.00\" text-anchor=\"middle\" x=\"6158.94\" y=\"-150.391\">10</text>\n</g>\n<!-- &#45;499607213499162906&#45;&gt;&#45;386165881042103353 -->\n<g class=\"edge\" id=\"edge14\"><title>-499607213499162906-&gt;-386165881042103353</title>\n<path d=\"M6158.94,-100.275C6158.94,-109.105 6158.94,-118.007 6158.94,-125.92\" fill=\"none\" stroke=\"black\"/>\n<polygon fill=\"black\" points=\"6155.44,-126 6158.94,-136 6162.44,-126 6155.44,-126\" stroke=\"black\"/>\n</g>\n<!-- 8848803428297198949 -->\n<g class=\"node\" id=\"node163\"><title>8848803428297198949</title>\n<ellipse cx=\"6158.94\" cy=\"-254.887\" fill=\"none\" rx=\"46.5926\" ry=\"46.5926\" stroke=\"black\"/>\n<text font-family=\"Times,serif\" font-size=\"14.00\" text-anchor=\"middle\" x=\"6158.94\" y=\"-251.187\">getitem</text>\n</g>\n<!-- &#45;386165881042103353&#45;&gt;8848803428297198949 -->\n<g class=\"edge\" id=\"edge94\"><title>-386165881042103353-&gt;8848803428297198949</title>\n<path d=\"M6158.94,-172.3C6158.94,-179.608 6158.94,-188.581 6158.94,-197.871\" fill=\"none\" stroke=\"black\"/>\n<polygon fill=\"black\" points=\"6155.44,-198.014 6158.94,-208.014 6162.44,-198.014 6155.44,-198.014\" stroke=\"black\"/>\n</g>\n<!-- 523325393239095569 -->\n<g class=\"node\" id=\"node27\"><title>523325393239095569</title>\n<ellipse cx=\"3095.94\" cy=\"-50.0456\" fill=\"none\" rx=\"50.0912\" ry=\"50.0912\" stroke=\"black\"/>\n<text font-family=\"Times,serif\" font-size=\"14.00\" text-anchor=\"middle\" x=\"3095.94\" y=\"-46.3456\">read-csv</text>\n</g>\n<!-- &#45;386165881041020828 -->\n<g class=\"node\" id=\"node28\"><title>-386165881041020828</title>\n<polygon fill=\"none\" points=\"3122.94,-172.091 3068.94,-172.091 3068.94,-136.091 3122.94,-136.091 3122.94,-172.091\" stroke=\"black\"/>\n<text font-family=\"Times,serif\" font-size=\"14.00\" text-anchor=\"middle\" x=\"3095.94\" y=\"-150.391\">11</text>\n</g>\n<!-- 523325393239095569&#45;&gt;&#45;386165881041020828 -->\n<g class=\"edge\" id=\"edge15\"><title>523325393239095569-&gt;-386165881041020828</title>\n<path d=\"M3095.94,-100.275C3095.94,-109.105 3095.94,-118.007 3095.94,-125.92\" fill=\"none\" stroke=\"black\"/>\n<polygon fill=\"black\" points=\"3092.44,-126 3095.94,-136 3099.44,-126 3092.44,-126\" stroke=\"black\"/>\n</g>\n<!-- 7704501581946124474 -->\n<g class=\"node\" id=\"node165\"><title>7704501581946124474</title>\n<ellipse cx=\"3095.94\" cy=\"-254.887\" fill=\"none\" rx=\"46.5926\" ry=\"46.5926\" stroke=\"black\"/>\n<text font-family=\"Times,serif\" font-size=\"14.00\" text-anchor=\"middle\" x=\"3095.94\" y=\"-251.187\">getitem</text>\n</g>\n<!-- &#45;386165881041020828&#45;&gt;7704501581946124474 -->\n<g class=\"edge\" id=\"edge96\"><title>-386165881041020828-&gt;7704501581946124474</title>\n<path d=\"M3095.94,-172.3C3095.94,-179.608 3095.94,-188.581 3095.94,-197.871\" fill=\"none\" stroke=\"black\"/>\n<polygon fill=\"black\" points=\"3092.44,-198.014 3095.94,-208.014 3099.44,-198.014 3092.44,-198.014\" stroke=\"black\"/>\n</g>\n<!-- 4540615384190793676 -->\n<g class=\"node\" id=\"node29\"><title>4540615384190793676</title>\n<ellipse cx=\"5761.94\" cy=\"-50.0456\" fill=\"none\" rx=\"50.0912\" ry=\"50.0912\" stroke=\"black\"/>\n<text font-family=\"Times,serif\" font-size=\"14.00\" text-anchor=\"middle\" x=\"5761.94\" y=\"-46.3456\">read-csv</text>\n</g>\n<!-- &#45;386165881044268403 -->\n<g class=\"node\" id=\"node30\"><title>-386165881044268403</title>\n<polygon fill=\"none\" points=\"5788.94,-172.091 5734.94,-172.091 5734.94,-136.091 5788.94,-136.091 5788.94,-172.091\" stroke=\"black\"/>\n<text font-family=\"Times,serif\" font-size=\"14.00\" text-anchor=\"middle\" x=\"5761.94\" y=\"-150.391\">12</text>\n</g>\n<!-- 4540615384190793676&#45;&gt;&#45;386165881044268403 -->\n<g class=\"edge\" id=\"edge16\"><title>4540615384190793676-&gt;-386165881044268403</title>\n<path d=\"M5761.94,-100.275C5761.94,-109.105 5761.94,-118.007 5761.94,-125.92\" fill=\"none\" stroke=\"black\"/>\n<polygon fill=\"black\" points=\"5758.44,-126 5761.94,-136 5765.44,-126 5758.44,-126\" stroke=\"black\"/>\n</g>\n<!-- &#45;2140616593549895501 -->\n<g class=\"node\" id=\"node167\"><title>-2140616593549895501</title>\n<ellipse cx=\"5761.94\" cy=\"-254.887\" fill=\"none\" rx=\"46.5926\" ry=\"46.5926\" stroke=\"black\"/>\n<text font-family=\"Times,serif\" font-size=\"14.00\" text-anchor=\"middle\" x=\"5761.94\" y=\"-251.187\">getitem</text>\n</g>\n<!-- &#45;386165881044268403&#45;&gt;&#45;2140616593549895501 -->\n<g class=\"edge\" id=\"edge98\"><title>-386165881044268403-&gt;-2140616593549895501</title>\n<path d=\"M5761.94,-172.3C5761.94,-179.608 5761.94,-188.581 5761.94,-197.871\" fill=\"none\" stroke=\"black\"/>\n<polygon fill=\"black\" points=\"5758.44,-198.014 5761.94,-208.014 5765.44,-198.014 5758.44,-198.014\" stroke=\"black\"/>\n</g>\n<!-- &#45;2251269716216307081 -->\n<g class=\"node\" id=\"node31\"><title>-2251269716216307081</title>\n<ellipse cx=\"8134.94\" cy=\"-50.0456\" fill=\"none\" rx=\"50.0912\" ry=\"50.0912\" stroke=\"black\"/>\n<text font-family=\"Times,serif\" font-size=\"14.00\" text-anchor=\"middle\" x=\"8134.94\" y=\"-46.3456\">read-csv</text>\n</g>\n<!-- &#45;386165881043185878 -->\n<g class=\"node\" id=\"node32\"><title>-386165881043185878</title>\n<polygon fill=\"none\" points=\"8161.94,-172.091 8107.94,-172.091 8107.94,-136.091 8161.94,-136.091 8161.94,-172.091\" stroke=\"black\"/>\n<text font-family=\"Times,serif\" font-size=\"14.00\" text-anchor=\"middle\" x=\"8134.94\" y=\"-150.391\">13</text>\n</g>\n<!-- &#45;2251269716216307081&#45;&gt;&#45;386165881043185878 -->\n<g class=\"edge\" id=\"edge17\"><title>-2251269716216307081-&gt;-386165881043185878</title>\n<path d=\"M8134.94,-100.275C8134.94,-109.105 8134.94,-118.007 8134.94,-125.92\" fill=\"none\" stroke=\"black\"/>\n<polygon fill=\"black\" points=\"8131.44,-126 8134.94,-136 8138.44,-126 8131.44,-126\" stroke=\"black\"/>\n</g>\n<!-- &#45;3317038175955168776 -->\n<g class=\"node\" id=\"node169\"><title>-3317038175955168776</title>\n<ellipse cx=\"8134.94\" cy=\"-254.887\" fill=\"none\" rx=\"46.5926\" ry=\"46.5926\" stroke=\"black\"/>\n<text font-family=\"Times,serif\" font-size=\"14.00\" text-anchor=\"middle\" x=\"8134.94\" y=\"-251.187\">getitem</text>\n</g>\n<!-- &#45;386165881043185878&#45;&gt;&#45;3317038175955168776 -->\n<g class=\"edge\" id=\"edge100\"><title>-386165881043185878-&gt;-3317038175955168776</title>\n<path d=\"M8134.94,-172.3C8134.94,-179.608 8134.94,-188.581 8134.94,-197.871\" fill=\"none\" stroke=\"black\"/>\n<polygon fill=\"black\" points=\"8131.44,-198.014 8134.94,-208.014 8138.44,-198.014 8131.44,-198.014\" stroke=\"black\"/>\n</g>\n<!-- 3610640430049078794 -->\n<g class=\"node\" id=\"node33\"><title>3610640430049078794</title>\n<ellipse cx=\"6545.94\" cy=\"-50.0456\" fill=\"none\" rx=\"50.0912\" ry=\"50.0912\" stroke=\"black\"/>\n<text font-family=\"Times,serif\" font-size=\"14.00\" text-anchor=\"middle\" x=\"6545.94\" y=\"-46.3456\">read-csv</text>\n</g>\n<!-- &#45;386165881046433453 -->\n<g class=\"node\" id=\"node34\"><title>-386165881046433453</title>\n<polygon fill=\"none\" points=\"6572.94,-172.091 6518.94,-172.091 6518.94,-136.091 6572.94,-136.091 6572.94,-172.091\" stroke=\"black\"/>\n<text font-family=\"Times,serif\" font-size=\"14.00\" text-anchor=\"middle\" x=\"6545.94\" y=\"-150.391\">14</text>\n</g>\n<!-- 3610640430049078794&#45;&gt;&#45;386165881046433453 -->\n<g class=\"edge\" id=\"edge18\"><title>3610640430049078794-&gt;-386165881046433453</title>\n<path d=\"M6545.94,-100.275C6545.94,-109.105 6545.94,-118.007 6545.94,-125.92\" fill=\"none\" stroke=\"black\"/>\n<polygon fill=\"black\" points=\"6542.44,-126 6545.94,-136 6549.44,-126 6542.44,-126\" stroke=\"black\"/>\n</g>\n<!-- 4664165233126037249 -->\n<g class=\"node\" id=\"node171\"><title>4664165233126037249</title>\n<ellipse cx=\"6545.94\" cy=\"-254.887\" fill=\"none\" rx=\"46.5926\" ry=\"46.5926\" stroke=\"black\"/>\n<text font-family=\"Times,serif\" font-size=\"14.00\" text-anchor=\"middle\" x=\"6545.94\" y=\"-251.187\">getitem</text>\n</g>\n<!-- &#45;386165881046433453&#45;&gt;4664165233126037249 -->\n<g class=\"edge\" id=\"edge102\"><title>-386165881046433453-&gt;4664165233126037249</title>\n<path d=\"M6545.94,-172.3C6545.94,-179.608 6545.94,-188.581 6545.94,-197.871\" fill=\"none\" stroke=\"black\"/>\n<polygon fill=\"black\" points=\"6542.44,-198.014 6545.94,-208.014 6549.44,-198.014 6542.44,-198.014\" stroke=\"black\"/>\n</g>\n<!-- 3517686065526960501 -->\n<g class=\"node\" id=\"node35\"><title>3517686065526960501</title>\n<ellipse cx=\"1233.94\" cy=\"-50.0456\" fill=\"none\" rx=\"50.0912\" ry=\"50.0912\" stroke=\"black\"/>\n<text font-family=\"Times,serif\" font-size=\"14.00\" text-anchor=\"middle\" x=\"1233.94\" y=\"-46.3456\">read-csv</text>\n</g>\n<!-- &#45;386165881045350928 -->\n<g class=\"node\" id=\"node36\"><title>-386165881045350928</title>\n<polygon fill=\"none\" points=\"1260.94,-172.091 1206.94,-172.091 1206.94,-136.091 1260.94,-136.091 1260.94,-172.091\" stroke=\"black\"/>\n<text font-family=\"Times,serif\" font-size=\"14.00\" text-anchor=\"middle\" x=\"1233.94\" y=\"-150.391\">15</text>\n</g>\n<!-- 3517686065526960501&#45;&gt;&#45;386165881045350928 -->\n<g class=\"edge\" id=\"edge19\"><title>3517686065526960501-&gt;-386165881045350928</title>\n<path d=\"M1233.94,-100.275C1233.94,-109.105 1233.94,-118.007 1233.94,-125.92\" fill=\"none\" stroke=\"black\"/>\n<polygon fill=\"black\" points=\"1230.44,-126 1233.94,-136 1237.44,-126 1230.44,-126\" stroke=\"black\"/>\n</g>\n<!-- 3637907665364773974 -->\n<g class=\"node\" id=\"node173\"><title>3637907665364773974</title>\n<ellipse cx=\"1233.94\" cy=\"-254.887\" fill=\"none\" rx=\"46.5926\" ry=\"46.5926\" stroke=\"black\"/>\n<text font-family=\"Times,serif\" font-size=\"14.00\" text-anchor=\"middle\" x=\"1233.94\" y=\"-251.187\">getitem</text>\n</g>\n<!-- &#45;386165881045350928&#45;&gt;3637907665364773974 -->\n<g class=\"edge\" id=\"edge104\"><title>-386165881045350928-&gt;3637907665364773974</title>\n<path d=\"M1233.94,-172.3C1233.94,-179.608 1233.94,-188.581 1233.94,-197.871\" fill=\"none\" stroke=\"black\"/>\n<polygon fill=\"black\" points=\"1230.44,-198.014 1233.94,-208.014 1237.44,-198.014 1230.44,-198.014\" stroke=\"black\"/>\n</g>\n<!-- 8430565149445233792 -->\n<g class=\"node\" id=\"node37\"><title>8430565149445233792</title>\n<ellipse cx=\"7318.94\" cy=\"-50.0456\" fill=\"none\" rx=\"50.0912\" ry=\"50.0912\" stroke=\"black\"/>\n<text font-family=\"Times,serif\" font-size=\"14.00\" text-anchor=\"middle\" x=\"7318.94\" y=\"-46.3456\">read-csv</text>\n</g>\n<!-- &#45;386165881065918903 -->\n<g class=\"node\" id=\"node38\"><title>-386165881065918903</title>\n<polygon fill=\"none\" points=\"7345.94,-172.091 7291.94,-172.091 7291.94,-136.091 7345.94,-136.091 7345.94,-172.091\" stroke=\"black\"/>\n<text font-family=\"Times,serif\" font-size=\"14.00\" text-anchor=\"middle\" x=\"7318.94\" y=\"-150.391\">16</text>\n</g>\n<!-- 8430565149445233792&#45;&gt;&#45;386165881065918903 -->\n<g class=\"edge\" id=\"edge20\"><title>8430565149445233792-&gt;-386165881065918903</title>\n<path d=\"M7318.94,-100.275C7318.94,-109.105 7318.94,-118.007 7318.94,-125.92\" fill=\"none\" stroke=\"black\"/>\n<polygon fill=\"black\" points=\"7315.44,-126 7318.94,-136 7322.44,-126 7315.44,-126\" stroke=\"black\"/>\n</g>\n<!-- &#45;6855513276067764801 -->\n<g class=\"node\" id=\"node175\"><title>-6855513276067764801</title>\n<ellipse cx=\"7318.94\" cy=\"-254.887\" fill=\"none\" rx=\"46.5926\" ry=\"46.5926\" stroke=\"black\"/>\n<text font-family=\"Times,serif\" font-size=\"14.00\" text-anchor=\"middle\" x=\"7318.94\" y=\"-251.187\">getitem</text>\n</g>\n<!-- &#45;386165881065918903&#45;&gt;&#45;6855513276067764801 -->\n<g class=\"edge\" id=\"edge106\"><title>-386165881065918903-&gt;-6855513276067764801</title>\n<path d=\"M7318.94,-172.3C7318.94,-179.608 7318.94,-188.581 7318.94,-197.871\" fill=\"none\" stroke=\"black\"/>\n<polygon fill=\"black\" points=\"7315.44,-198.014 7318.94,-208.014 7322.44,-198.014 7315.44,-198.014\" stroke=\"black\"/>\n</g>\n<!-- 1575972048412455035 -->\n<g class=\"node\" id=\"node39\"><title>1575972048412455035</title>\n<ellipse cx=\"599.942\" cy=\"-50.0456\" fill=\"none\" rx=\"50.0912\" ry=\"50.0912\" stroke=\"black\"/>\n<text font-family=\"Times,serif\" font-size=\"14.00\" text-anchor=\"middle\" x=\"599.942\" y=\"-46.3456\">read-csv</text>\n</g>\n<!-- &#45;386165881064836378 -->\n<g class=\"node\" id=\"node40\"><title>-386165881064836378</title>\n<polygon fill=\"none\" points=\"626.942,-172.091 572.942,-172.091 572.942,-136.091 626.942,-136.091 626.942,-172.091\" stroke=\"black\"/>\n<text font-family=\"Times,serif\" font-size=\"14.00\" text-anchor=\"middle\" x=\"599.942\" y=\"-150.391\">17</text>\n</g>\n<!-- 1575972048412455035&#45;&gt;&#45;386165881064836378 -->\n<g class=\"edge\" id=\"edge21\"><title>1575972048412455035-&gt;-386165881064836378</title>\n<path d=\"M599.942,-100.275C599.942,-109.105 599.942,-118.007 599.942,-125.92\" fill=\"none\" stroke=\"black\"/>\n<polygon fill=\"black\" points=\"596.442,-126 599.942,-136 603.442,-126 596.442,-126\" stroke=\"black\"/>\n</g>\n<!-- &#45;6688244142353817708 -->\n<g class=\"node\" id=\"node177\"><title>-6688244142353817708</title>\n<ellipse cx=\"599.942\" cy=\"-254.887\" fill=\"none\" rx=\"46.5926\" ry=\"46.5926\" stroke=\"black\"/>\n<text font-family=\"Times,serif\" font-size=\"14.00\" text-anchor=\"middle\" x=\"599.942\" y=\"-251.187\">getitem</text>\n</g>\n<!-- &#45;386165881064836378&#45;&gt;&#45;6688244142353817708 -->\n<g class=\"edge\" id=\"edge108\"><title>-386165881064836378-&gt;-6688244142353817708</title>\n<path d=\"M599.942,-172.3C599.942,-179.608 599.942,-188.581 599.942,-197.871\" fill=\"none\" stroke=\"black\"/>\n<polygon fill=\"black\" points=\"596.442,-198.014 599.942,-208.014 603.442,-198.014 596.442,-198.014\" stroke=\"black\"/>\n</g>\n<!-- 4452046549780757342 -->\n<g class=\"node\" id=\"node41\"><title>4452046549780757342</title>\n<ellipse cx=\"6352.94\" cy=\"-50.0456\" fill=\"none\" rx=\"50.0912\" ry=\"50.0912\" stroke=\"black\"/>\n<text font-family=\"Times,serif\" font-size=\"14.00\" text-anchor=\"middle\" x=\"6352.94\" y=\"-46.3456\">read-csv</text>\n</g>\n<!-- &#45;386165881068083953 -->\n<g class=\"node\" id=\"node42\"><title>-386165881068083953</title>\n<polygon fill=\"none\" points=\"6379.94,-172.091 6325.94,-172.091 6325.94,-136.091 6379.94,-136.091 6379.94,-172.091\" stroke=\"black\"/>\n<text font-family=\"Times,serif\" font-size=\"14.00\" text-anchor=\"middle\" x=\"6352.94\" y=\"-150.391\">18</text>\n</g>\n<!-- 4452046549780757342&#45;&gt;&#45;386165881068083953 -->\n<g class=\"edge\" id=\"edge22\"><title>4452046549780757342-&gt;-386165881068083953</title>\n<path d=\"M6352.94,-100.275C6352.94,-109.105 6352.94,-118.007 6352.94,-125.92\" fill=\"none\" stroke=\"black\"/>\n<polygon fill=\"black\" points=\"6349.44,-126 6352.94,-136 6356.44,-126 6349.44,-126\" stroke=\"black\"/>\n</g>\n<!-- 102042668230220349 -->\n<g class=\"node\" id=\"node179\"><title>102042668230220349</title>\n<ellipse cx=\"6352.94\" cy=\"-254.887\" fill=\"none\" rx=\"46.5926\" ry=\"46.5926\" stroke=\"black\"/>\n<text font-family=\"Times,serif\" font-size=\"14.00\" text-anchor=\"middle\" x=\"6352.94\" y=\"-251.187\">getitem</text>\n</g>\n<!-- &#45;386165881068083953&#45;&gt;102042668230220349 -->\n<g class=\"edge\" id=\"edge110\"><title>-386165881068083953-&gt;102042668230220349</title>\n<path d=\"M6352.94,-172.3C6352.94,-179.608 6352.94,-188.581 6352.94,-197.871\" fill=\"none\" stroke=\"black\"/>\n<polygon fill=\"black\" points=\"6349.44,-198.014 6352.94,-208.014 6356.44,-198.014 6349.44,-198.014\" stroke=\"black\"/>\n</g>\n<!-- 7307014412230217417 -->\n<g class=\"node\" id=\"node43\"><title>7307014412230217417</title>\n<ellipse cx=\"4131.94\" cy=\"-50.0456\" fill=\"none\" rx=\"50.0912\" ry=\"50.0912\" stroke=\"black\"/>\n<text font-family=\"Times,serif\" font-size=\"14.00\" text-anchor=\"middle\" x=\"4131.94\" y=\"-46.3456\">read-csv</text>\n</g>\n<!-- &#45;386165881067001428 -->\n<g class=\"node\" id=\"node44\"><title>-386165881067001428</title>\n<polygon fill=\"none\" points=\"4158.94,-172.091 4104.94,-172.091 4104.94,-136.091 4158.94,-136.091 4158.94,-172.091\" stroke=\"black\"/>\n<text font-family=\"Times,serif\" font-size=\"14.00\" text-anchor=\"middle\" x=\"4131.94\" y=\"-150.391\">19</text>\n</g>\n<!-- 7307014412230217417&#45;&gt;&#45;386165881067001428 -->\n<g class=\"edge\" id=\"edge23\"><title>7307014412230217417-&gt;-386165881067001428</title>\n<path d=\"M4131.94,-100.275C4131.94,-109.105 4131.94,-118.007 4131.94,-125.92\" fill=\"none\" stroke=\"black\"/>\n<polygon fill=\"black\" points=\"4128.44,-126 4131.94,-136 4135.44,-126 4128.44,-126\" stroke=\"black\"/>\n</g>\n<!-- &#45;1077355391573282926 -->\n<g class=\"node\" id=\"node181\"><title>-1077355391573282926</title>\n<ellipse cx=\"4131.94\" cy=\"-254.887\" fill=\"none\" rx=\"46.5926\" ry=\"46.5926\" stroke=\"black\"/>\n<text font-family=\"Times,serif\" font-size=\"14.00\" text-anchor=\"middle\" x=\"4131.94\" y=\"-251.187\">getitem</text>\n</g>\n<!-- &#45;386165881067001428&#45;&gt;&#45;1077355391573282926 -->\n<g class=\"edge\" id=\"edge112\"><title>-386165881067001428-&gt;-1077355391573282926</title>\n<path d=\"M4131.94,-172.3C4131.94,-179.608 4131.94,-188.581 4131.94,-197.871\" fill=\"none\" stroke=\"black\"/>\n<polygon fill=\"black\" points=\"4128.44,-198.014 4131.94,-208.014 4135.44,-198.014 4128.44,-198.014\" stroke=\"black\"/>\n</g>\n<!-- &#45;7047680586733531324 -->\n<g class=\"node\" id=\"node45\"><title>-7047680586733531324</title>\n<ellipse cx=\"4727.94\" cy=\"-50.0456\" fill=\"none\" rx=\"50.0912\" ry=\"50.0912\" stroke=\"black\"/>\n<text font-family=\"Times,serif\" font-size=\"14.00\" text-anchor=\"middle\" x=\"4727.94\" y=\"-46.3456\">read-csv</text>\n</g>\n<!-- &#45;386165881070249003 -->\n<g class=\"node\" id=\"node46\"><title>-386165881070249003</title>\n<polygon fill=\"none\" points=\"4754.94,-172.091 4700.94,-172.091 4700.94,-136.091 4754.94,-136.091 4754.94,-172.091\" stroke=\"black\"/>\n<text font-family=\"Times,serif\" font-size=\"14.00\" text-anchor=\"middle\" x=\"4727.94\" y=\"-150.391\">20</text>\n</g>\n<!-- &#45;7047680586733531324&#45;&gt;&#45;386165881070249003 -->\n<g class=\"edge\" id=\"edge24\"><title>-7047680586733531324-&gt;-386165881070249003</title>\n<path d=\"M4727.94,-100.275C4727.94,-109.105 4727.94,-118.007 4727.94,-125.92\" fill=\"none\" stroke=\"black\"/>\n<polygon fill=\"black\" points=\"4724.44,-126 4727.94,-136 4731.44,-126 4724.44,-126\" stroke=\"black\"/>\n</g>\n<!-- &#45;8668729666875990133 -->\n<g class=\"node\" id=\"node183\"><title>-8668729666875990133</title>\n<ellipse cx=\"4727.94\" cy=\"-254.887\" fill=\"none\" rx=\"46.5926\" ry=\"46.5926\" stroke=\"black\"/>\n<text font-family=\"Times,serif\" font-size=\"14.00\" text-anchor=\"middle\" x=\"4727.94\" y=\"-251.187\">getitem</text>\n</g>\n<!-- &#45;386165881070249003&#45;&gt;&#45;8668729666875990133 -->\n<g class=\"edge\" id=\"edge114\"><title>-386165881070249003-&gt;-8668729666875990133</title>\n<path d=\"M4727.94,-172.3C4727.94,-179.608 4727.94,-188.581 4727.94,-197.871\" fill=\"none\" stroke=\"black\"/>\n<polygon fill=\"black\" points=\"4724.44,-198.014 4727.94,-208.014 4731.44,-198.014 4724.44,-198.014\" stroke=\"black\"/>\n</g>\n<!-- &#45;6015309002087975249 -->\n<g class=\"node\" id=\"node47\"><title>-6015309002087975249</title>\n<ellipse cx=\"5960.94\" cy=\"-50.0456\" fill=\"none\" rx=\"50.0912\" ry=\"50.0912\" stroke=\"black\"/>\n<text font-family=\"Times,serif\" font-size=\"14.00\" text-anchor=\"middle\" x=\"5960.94\" y=\"-46.3456\">read-csv</text>\n</g>\n<!-- &#45;386165881069166478 -->\n<g class=\"node\" id=\"node48\"><title>-386165881069166478</title>\n<polygon fill=\"none\" points=\"5987.94,-172.091 5933.94,-172.091 5933.94,-136.091 5987.94,-136.091 5987.94,-172.091\" stroke=\"black\"/>\n<text font-family=\"Times,serif\" font-size=\"14.00\" text-anchor=\"middle\" x=\"5960.94\" y=\"-150.391\">21</text>\n</g>\n<!-- &#45;6015309002087975249&#45;&gt;&#45;386165881069166478 -->\n<g class=\"edge\" id=\"edge25\"><title>-6015309002087975249-&gt;-386165881069166478</title>\n<path d=\"M5960.94,-100.275C5960.94,-109.105 5960.94,-118.007 5960.94,-125.92\" fill=\"none\" stroke=\"black\"/>\n<polygon fill=\"black\" points=\"5957.44,-126 5960.94,-136 5964.44,-126 5957.44,-126\" stroke=\"black\"/>\n</g>\n<!-- 8784835119075179408 -->\n<g class=\"node\" id=\"node185\"><title>8784835119075179408</title>\n<ellipse cx=\"5960.94\" cy=\"-254.887\" fill=\"none\" rx=\"46.5926\" ry=\"46.5926\" stroke=\"black\"/>\n<text font-family=\"Times,serif\" font-size=\"14.00\" text-anchor=\"middle\" x=\"5960.94\" y=\"-251.187\">getitem</text>\n</g>\n<!-- &#45;386165881069166478&#45;&gt;8784835119075179408 -->\n<g class=\"edge\" id=\"edge116\"><title>-386165881069166478-&gt;8784835119075179408</title>\n<path d=\"M5960.94,-172.3C5960.94,-179.608 5960.94,-188.581 5960.94,-197.871\" fill=\"none\" stroke=\"black\"/>\n<polygon fill=\"black\" points=\"5957.44,-198.014 5960.94,-208.014 5964.44,-198.014 5957.44,-198.014\" stroke=\"black\"/>\n</g>\n<!-- 9132476324732565442 -->\n<g class=\"node\" id=\"node49\"><title>9132476324732565442</title>\n<ellipse cx=\"182.942\" cy=\"-50.0456\" fill=\"none\" rx=\"50.0912\" ry=\"50.0912\" stroke=\"black\"/>\n<text font-family=\"Times,serif\" font-size=\"14.00\" text-anchor=\"middle\" x=\"182.942\" y=\"-46.3456\">read-csv</text>\n</g>\n<!-- &#45;386165881072414053 -->\n<g class=\"node\" id=\"node50\"><title>-386165881072414053</title>\n<polygon fill=\"none\" points=\"209.942,-172.091 155.942,-172.091 155.942,-136.091 209.942,-136.091 209.942,-172.091\" stroke=\"black\"/>\n<text font-family=\"Times,serif\" font-size=\"14.00\" text-anchor=\"middle\" x=\"182.942\" y=\"-150.391\">22</text>\n</g>\n<!-- 9132476324732565442&#45;&gt;&#45;386165881072414053 -->\n<g class=\"edge\" id=\"edge26\"><title>9132476324732565442-&gt;-386165881072414053</title>\n<path d=\"M182.942,-100.275C182.942,-109.105 182.942,-118.007 182.942,-125.92\" fill=\"none\" stroke=\"black\"/>\n<polygon fill=\"black\" points=\"179.442,-126 182.942,-136 186.442,-126 179.442,-126\" stroke=\"black\"/>\n</g>\n<!-- 7660068188266639833 -->\n<g class=\"node\" id=\"node187\"><title>7660068188266639833</title>\n<ellipse cx=\"182.942\" cy=\"-254.887\" fill=\"none\" rx=\"46.5926\" ry=\"46.5926\" stroke=\"black\"/>\n<text font-family=\"Times,serif\" font-size=\"14.00\" text-anchor=\"middle\" x=\"182.942\" y=\"-251.187\">getitem</text>\n</g>\n<!-- &#45;386165881072414053&#45;&gt;7660068188266639833 -->\n<g class=\"edge\" id=\"edge118\"><title>-386165881072414053-&gt;7660068188266639833</title>\n<path d=\"M182.942,-172.3C182.942,-179.608 182.942,-188.581 182.942,-197.871\" fill=\"none\" stroke=\"black\"/>\n<polygon fill=\"black\" points=\"179.442,-198.014 182.942,-208.014 186.442,-198.014 179.442,-198.014\" stroke=\"black\"/>\n</g>\n<!-- &#45;8194150227636218899 -->\n<g class=\"node\" id=\"node51\"><title>-8194150227636218899</title>\n<ellipse cx=\"816.942\" cy=\"-50.0456\" fill=\"none\" rx=\"50.0912\" ry=\"50.0912\" stroke=\"black\"/>\n<text font-family=\"Times,serif\" font-size=\"14.00\" text-anchor=\"middle\" x=\"816.942\" y=\"-46.3456\">read-csv</text>\n</g>\n<!-- &#45;386165881071331528 -->\n<g class=\"node\" id=\"node52\"><title>-386165881071331528</title>\n<polygon fill=\"none\" points=\"843.942,-172.091 789.942,-172.091 789.942,-136.091 843.942,-136.091 843.942,-172.091\" stroke=\"black\"/>\n<text font-family=\"Times,serif\" font-size=\"14.00\" text-anchor=\"middle\" x=\"816.942\" y=\"-150.391\">23</text>\n</g>\n<!-- &#45;8194150227636218899&#45;&gt;&#45;386165881071331528 -->\n<g class=\"edge\" id=\"edge27\"><title>-8194150227636218899-&gt;-386165881071331528</title>\n<path d=\"M816.942,-100.275C816.942,-109.105 816.942,-118.007 816.942,-125.92\" fill=\"none\" stroke=\"black\"/>\n<polygon fill=\"black\" points=\"813.442,-126 816.942,-136 820.442,-126 813.442,-126\" stroke=\"black\"/>\n</g>\n<!-- &#45;4052212202338115026 -->\n<g class=\"node\" id=\"node189\"><title>-4052212202338115026</title>\n<ellipse cx=\"816.942\" cy=\"-254.887\" fill=\"none\" rx=\"46.5926\" ry=\"46.5926\" stroke=\"black\"/>\n<text font-family=\"Times,serif\" font-size=\"14.00\" text-anchor=\"middle\" x=\"816.942\" y=\"-251.187\">getitem</text>\n</g>\n<!-- &#45;386165881071331528&#45;&gt;&#45;4052212202338115026 -->\n<g class=\"edge\" id=\"edge120\"><title>-386165881071331528-&gt;-4052212202338115026</title>\n<path d=\"M816.942,-172.3C816.942,-179.608 816.942,-188.581 816.942,-197.871\" fill=\"none\" stroke=\"black\"/>\n<polygon fill=\"black\" points=\"813.442,-198.014 816.942,-208.014 820.442,-198.014 813.442,-198.014\" stroke=\"black\"/>\n</g>\n<!-- 841159144076284760 -->\n<g class=\"node\" id=\"node53\"><title>841159144076284760</title>\n<ellipse cx=\"5109.94\" cy=\"-50.0456\" fill=\"none\" rx=\"50.0912\" ry=\"50.0912\" stroke=\"black\"/>\n<text font-family=\"Times,serif\" font-size=\"14.00\" text-anchor=\"middle\" x=\"5109.94\" y=\"-46.3456\">read-csv</text>\n</g>\n<!-- &#45;386165881057258703 -->\n<g class=\"node\" id=\"node54\"><title>-386165881057258703</title>\n<polygon fill=\"none\" points=\"5136.94,-172.091 5082.94,-172.091 5082.94,-136.091 5136.94,-136.091 5136.94,-172.091\" stroke=\"black\"/>\n<text font-family=\"Times,serif\" font-size=\"14.00\" text-anchor=\"middle\" x=\"5109.94\" y=\"-150.391\">24</text>\n</g>\n<!-- 841159144076284760&#45;&gt;&#45;386165881057258703 -->\n<g class=\"edge\" id=\"edge28\"><title>841159144076284760-&gt;-386165881057258703</title>\n<path d=\"M5109.94,-100.275C5109.94,-109.105 5109.94,-118.007 5109.94,-125.92\" fill=\"none\" stroke=\"black\"/>\n<polygon fill=\"black\" points=\"5106.44,-126 5109.94,-136 5113.44,-126 5106.44,-126\" stroke=\"black\"/>\n</g>\n<!-- 5119115170011935383 -->\n<g class=\"node\" id=\"node191\"><title>5119115170011935383</title>\n<ellipse cx=\"5109.94\" cy=\"-254.887\" fill=\"none\" rx=\"46.5926\" ry=\"46.5926\" stroke=\"black\"/>\n<text font-family=\"Times,serif\" font-size=\"14.00\" text-anchor=\"middle\" x=\"5109.94\" y=\"-251.187\">getitem</text>\n</g>\n<!-- &#45;386165881057258703&#45;&gt;5119115170011935383 -->\n<g class=\"edge\" id=\"edge122\"><title>-386165881057258703-&gt;5119115170011935383</title>\n<path d=\"M5109.94,-172.3C5109.94,-179.608 5109.94,-188.581 5109.94,-197.871\" fill=\"none\" stroke=\"black\"/>\n<polygon fill=\"black\" points=\"5106.44,-198.014 5109.94,-208.014 5113.44,-198.014 5106.44,-198.014\" stroke=\"black\"/>\n</g>\n<!-- &#45;7216701625688230765 -->\n<g class=\"node\" id=\"node55\"><title>-7216701625688230765</title>\n<ellipse cx=\"4531.94\" cy=\"-50.0456\" fill=\"none\" rx=\"50.0912\" ry=\"50.0912\" stroke=\"black\"/>\n<text font-family=\"Times,serif\" font-size=\"14.00\" text-anchor=\"middle\" x=\"4531.94\" y=\"-46.3456\">read-csv</text>\n</g>\n<!-- &#45;386165881056176178 -->\n<g class=\"node\" id=\"node56\"><title>-386165881056176178</title>\n<polygon fill=\"none\" points=\"4558.94,-172.091 4504.94,-172.091 4504.94,-136.091 4558.94,-136.091 4558.94,-172.091\" stroke=\"black\"/>\n<text font-family=\"Times,serif\" font-size=\"14.00\" text-anchor=\"middle\" x=\"4531.94\" y=\"-150.391\">25</text>\n</g>\n<!-- &#45;7216701625688230765&#45;&gt;&#45;386165881056176178 -->\n<g class=\"edge\" id=\"edge29\"><title>-7216701625688230765-&gt;-386165881056176178</title>\n<path d=\"M4531.94,-100.275C4531.94,-109.105 4531.94,-118.007 4531.94,-125.92\" fill=\"none\" stroke=\"black\"/>\n<polygon fill=\"black\" points=\"4528.44,-126 4531.94,-136 4535.44,-126 4528.44,-126\" stroke=\"black\"/>\n</g>\n<!-- 4000160001039193708 -->\n<g class=\"node\" id=\"node193\"><title>4000160001039193708</title>\n<ellipse cx=\"4531.94\" cy=\"-254.887\" fill=\"none\" rx=\"46.5926\" ry=\"46.5926\" stroke=\"black\"/>\n<text font-family=\"Times,serif\" font-size=\"14.00\" text-anchor=\"middle\" x=\"4531.94\" y=\"-251.187\">getitem</text>\n</g>\n<!-- &#45;386165881056176178&#45;&gt;4000160001039193708 -->\n<g class=\"edge\" id=\"edge124\"><title>-386165881056176178-&gt;4000160001039193708</title>\n<path d=\"M4531.94,-172.3C4531.94,-179.608 4531.94,-188.581 4531.94,-197.871\" fill=\"none\" stroke=\"black\"/>\n<polygon fill=\"black\" points=\"4528.44,-198.014 4531.94,-208.014 4535.44,-198.014 4528.44,-198.014\" stroke=\"black\"/>\n</g>\n<!-- &#45;2010547809266482890 -->\n<g class=\"node\" id=\"node57\"><title>-2010547809266482890</title>\n<ellipse cx=\"9851.94\" cy=\"-50.0456\" fill=\"none\" rx=\"50.0912\" ry=\"50.0912\" stroke=\"black\"/>\n<text font-family=\"Times,serif\" font-size=\"14.00\" text-anchor=\"middle\" x=\"9851.94\" y=\"-46.3456\">read-csv</text>\n</g>\n<!-- &#45;386165881059423753 -->\n<g class=\"node\" id=\"node58\"><title>-386165881059423753</title>\n<polygon fill=\"none\" points=\"9878.94,-172.091 9824.94,-172.091 9824.94,-136.091 9878.94,-136.091 9878.94,-172.091\" stroke=\"black\"/>\n<text font-family=\"Times,serif\" font-size=\"14.00\" text-anchor=\"middle\" x=\"9851.94\" y=\"-150.391\">26</text>\n</g>\n<!-- &#45;2010547809266482890&#45;&gt;&#45;386165881059423753 -->\n<g class=\"edge\" id=\"edge30\"><title>-2010547809266482890-&gt;-386165881059423753</title>\n<path d=\"M9851.94,-100.275C9851.94,-109.105 9851.94,-118.007 9851.94,-125.92\" fill=\"none\" stroke=\"black\"/>\n<polygon fill=\"black\" points=\"9848.44,-126 9851.94,-136 9855.44,-126 9848.44,-126\" stroke=\"black\"/>\n</g>\n<!-- 2984595160987450133 -->\n<g class=\"node\" id=\"node195\"><title>2984595160987450133</title>\n<ellipse cx=\"9851.94\" cy=\"-254.887\" fill=\"none\" rx=\"46.5926\" ry=\"46.5926\" stroke=\"black\"/>\n<text font-family=\"Times,serif\" font-size=\"14.00\" text-anchor=\"middle\" x=\"9851.94\" y=\"-251.187\">getitem</text>\n</g>\n<!-- &#45;386165881059423753&#45;&gt;2984595160987450133 -->\n<g class=\"edge\" id=\"edge126\"><title>-386165881059423753-&gt;2984595160987450133</title>\n<path d=\"M9851.94,-172.3C9851.94,-179.608 9851.94,-188.581 9851.94,-197.871\" fill=\"none\" stroke=\"black\"/>\n<polygon fill=\"black\" points=\"9848.44,-198.014 9851.94,-208.014 9855.44,-198.014 9848.44,-198.014\" stroke=\"black\"/>\n</g>\n<!-- &#45;248812998191859615 -->\n<g class=\"node\" id=\"node59\"><title>-248812998191859615</title>\n<ellipse cx=\"2278.94\" cy=\"-50.0456\" fill=\"none\" rx=\"50.0912\" ry=\"50.0912\" stroke=\"black\"/>\n<text font-family=\"Times,serif\" font-size=\"14.00\" text-anchor=\"middle\" x=\"2278.94\" y=\"-46.3456\">read-csv</text>\n</g>\n<!-- &#45;386165881058341228 -->\n<g class=\"node\" id=\"node60\"><title>-386165881058341228</title>\n<polygon fill=\"none\" points=\"2305.94,-172.091 2251.94,-172.091 2251.94,-136.091 2305.94,-136.091 2305.94,-172.091\" stroke=\"black\"/>\n<text font-family=\"Times,serif\" font-size=\"14.00\" text-anchor=\"middle\" x=\"2278.94\" y=\"-150.391\">27</text>\n</g>\n<!-- &#45;248812998191859615&#45;&gt;&#45;386165881058341228 -->\n<g class=\"edge\" id=\"edge31\"><title>-248812998191859615-&gt;-386165881058341228</title>\n<path d=\"M2278.94,-100.275C2278.94,-109.105 2278.94,-118.007 2278.94,-125.92\" fill=\"none\" stroke=\"black\"/>\n<polygon fill=\"black\" points=\"2275.44,-126 2278.94,-136 2282.44,-126 2275.44,-126\" stroke=\"black\"/>\n</g>\n<!-- &#45;7498049817383215958 -->\n<g class=\"node\" id=\"node197\"><title>-7498049817383215958</title>\n<ellipse cx=\"2278.94\" cy=\"-254.887\" fill=\"none\" rx=\"46.5926\" ry=\"46.5926\" stroke=\"black\"/>\n<text font-family=\"Times,serif\" font-size=\"14.00\" text-anchor=\"middle\" x=\"2278.94\" y=\"-251.187\">getitem</text>\n</g>\n<!-- &#45;386165881058341228&#45;&gt;&#45;7498049817383215958 -->\n<g class=\"edge\" id=\"edge128\"><title>-386165881058341228-&gt;-7498049817383215958</title>\n<path d=\"M2278.94,-172.3C2278.94,-179.608 2278.94,-188.581 2278.94,-197.871\" fill=\"none\" stroke=\"black\"/>\n<polygon fill=\"black\" points=\"2275.44,-198.014 2278.94,-208.014 2282.44,-198.014 2275.44,-198.014\" stroke=\"black\"/>\n</g>\n<!-- 3756914653323300892 -->\n<g class=\"node\" id=\"node61\"><title>3756914653323300892</title>\n<ellipse cx=\"2899.94\" cy=\"-50.0456\" fill=\"none\" rx=\"50.0912\" ry=\"50.0912\" stroke=\"black\"/>\n<text font-family=\"Times,serif\" font-size=\"14.00\" text-anchor=\"middle\" x=\"2899.94\" y=\"-46.3456\">read-csv</text>\n</g>\n<!-- &#45;386165881061588803 -->\n<g class=\"node\" id=\"node62\"><title>-386165881061588803</title>\n<polygon fill=\"none\" points=\"2926.94,-172.091 2872.94,-172.091 2872.94,-136.091 2926.94,-136.091 2926.94,-172.091\" stroke=\"black\"/>\n<text font-family=\"Times,serif\" font-size=\"14.00\" text-anchor=\"middle\" x=\"2899.94\" y=\"-150.391\">28</text>\n</g>\n<!-- 3756914653323300892&#45;&gt;&#45;386165881061588803 -->\n<g class=\"edge\" id=\"edge32\"><title>3756914653323300892-&gt;-386165881061588803</title>\n<path d=\"M2899.94,-100.275C2899.94,-109.105 2899.94,-118.007 2899.94,-125.92\" fill=\"none\" stroke=\"black\"/>\n<polygon fill=\"black\" points=\"2896.44,-126 2899.94,-136 2903.44,-126 2896.44,-126\" stroke=\"black\"/>\n</g>\n<!-- 953787077527875683 -->\n<g class=\"node\" id=\"node199\"><title>953787077527875683</title>\n<ellipse cx=\"2899.94\" cy=\"-254.887\" fill=\"none\" rx=\"46.5926\" ry=\"46.5926\" stroke=\"black\"/>\n<text font-family=\"Times,serif\" font-size=\"14.00\" text-anchor=\"middle\" x=\"2899.94\" y=\"-251.187\">getitem</text>\n</g>\n<!-- &#45;386165881061588803&#45;&gt;953787077527875683 -->\n<g class=\"edge\" id=\"edge130\"><title>-386165881061588803-&gt;953787077527875683</title>\n<path d=\"M2899.94,-172.3C2899.94,-179.608 2899.94,-188.581 2899.94,-197.871\" fill=\"none\" stroke=\"black\"/>\n<polygon fill=\"black\" points=\"2896.44,-198.014 2899.94,-208.014 2903.44,-198.014 2896.44,-198.014\" stroke=\"black\"/>\n</g>\n<!-- &#45;3032644607238014265 -->\n<g class=\"node\" id=\"node63\"><title>-3032644607238014265</title>\n<ellipse cx=\"10517.9\" cy=\"-50.0456\" fill=\"none\" rx=\"50.0912\" ry=\"50.0912\" stroke=\"black\"/>\n<text font-family=\"Times,serif\" font-size=\"14.00\" text-anchor=\"middle\" x=\"10517.9\" y=\"-46.3456\">read-csv</text>\n</g>\n<!-- &#45;386165881060506278 -->\n<g class=\"node\" id=\"node64\"><title>-386165881060506278</title>\n<polygon fill=\"none\" points=\"10544.9,-172.091 10490.9,-172.091 10490.9,-136.091 10544.9,-136.091 10544.9,-172.091\" stroke=\"black\"/>\n<text font-family=\"Times,serif\" font-size=\"14.00\" text-anchor=\"middle\" x=\"10517.9\" y=\"-150.391\">29</text>\n</g>\n<!-- &#45;3032644607238014265&#45;&gt;&#45;386165881060506278 -->\n<g class=\"edge\" id=\"edge33\"><title>-3032644607238014265-&gt;-386165881060506278</title>\n<path d=\"M10517.9,-100.275C10517.9,-109.105 10517.9,-118.007 10517.9,-125.92\" fill=\"none\" stroke=\"black\"/>\n<polygon fill=\"black\" points=\"10514.4,-126 10517.9,-136 10521.4,-126 10514.4,-126\" stroke=\"black\"/>\n</g>\n<!-- &#45;69128778599581592 -->\n<g class=\"node\" id=\"node201\"><title>-69128778599581592</title>\n<ellipse cx=\"10517.9\" cy=\"-254.887\" fill=\"none\" rx=\"46.5926\" ry=\"46.5926\" stroke=\"black\"/>\n<text font-family=\"Times,serif\" font-size=\"14.00\" text-anchor=\"middle\" x=\"10517.9\" y=\"-251.187\">getitem</text>\n</g>\n<!-- &#45;386165881060506278&#45;&gt;&#45;69128778599581592 -->\n<g class=\"edge\" id=\"edge132\"><title>-386165881060506278-&gt;-69128778599581592</title>\n<path d=\"M10517.9,-172.3C10517.9,-179.608 10517.9,-188.581 10517.9,-197.871\" fill=\"none\" stroke=\"black\"/>\n<polygon fill=\"black\" points=\"10514.4,-198.014 10517.9,-208.014 10521.4,-198.014 10514.4,-198.014\" stroke=\"black\"/>\n</g>\n<!-- 2670821868414944410 -->\n<g class=\"node\" id=\"node65\"><title>2670821868414944410</title>\n<ellipse cx=\"3290.94\" cy=\"-50.0456\" fill=\"none\" rx=\"50.0912\" ry=\"50.0912\" stroke=\"black\"/>\n<text font-family=\"Times,serif\" font-size=\"14.00\" text-anchor=\"middle\" x=\"3290.94\" y=\"-46.3456\">read-csv</text>\n</g>\n<!-- &#45;386165881063753853 -->\n<g class=\"node\" id=\"node66\"><title>-386165881063753853</title>\n<polygon fill=\"none\" points=\"3317.94,-172.091 3263.94,-172.091 3263.94,-136.091 3317.94,-136.091 3317.94,-172.091\" stroke=\"black\"/>\n<text font-family=\"Times,serif\" font-size=\"14.00\" text-anchor=\"middle\" x=\"3290.94\" y=\"-150.391\">30</text>\n</g>\n<!-- 2670821868414944410&#45;&gt;&#45;386165881063753853 -->\n<g class=\"edge\" id=\"edge34\"><title>2670821868414944410-&gt;-386165881063753853</title>\n<path d=\"M3290.94,-100.275C3290.94,-109.105 3290.94,-118.007 3290.94,-125.92\" fill=\"none\" stroke=\"black\"/>\n<polygon fill=\"black\" points=\"3287.44,-126 3290.94,-136 3294.44,-126 3287.44,-126\" stroke=\"black\"/>\n</g>\n<!-- &#45;1200043033629458767 -->\n<g class=\"node\" id=\"node203\"><title>-1200043033629458767</title>\n<ellipse cx=\"3290.94\" cy=\"-254.887\" fill=\"none\" rx=\"46.5926\" ry=\"46.5926\" stroke=\"black\"/>\n<text font-family=\"Times,serif\" font-size=\"14.00\" text-anchor=\"middle\" x=\"3290.94\" y=\"-251.187\">getitem</text>\n</g>\n<!-- &#45;386165881063753853&#45;&gt;&#45;1200043033629458767 -->\n<g class=\"edge\" id=\"edge134\"><title>-386165881063753853-&gt;-1200043033629458767</title>\n<path d=\"M3290.94,-172.3C3290.94,-179.608 3290.94,-188.581 3290.94,-197.871\" fill=\"none\" stroke=\"black\"/>\n<polygon fill=\"black\" points=\"3287.44,-198.014 3290.94,-208.014 3294.44,-198.014 3287.44,-198.014\" stroke=\"black\"/>\n</g>\n<!-- 2648061334650744517 -->\n<g class=\"node\" id=\"node67\"><title>2648061334650744517</title>\n<ellipse cx=\"6910.94\" cy=\"-50.0456\" fill=\"none\" rx=\"50.0912\" ry=\"50.0912\" stroke=\"black\"/>\n<text font-family=\"Times,serif\" font-size=\"14.00\" text-anchor=\"middle\" x=\"6910.94\" y=\"-46.3456\">read-csv</text>\n</g>\n<!-- &#45;386165881062671328 -->\n<g class=\"node\" id=\"node68\"><title>-386165881062671328</title>\n<polygon fill=\"none\" points=\"6937.94,-172.091 6883.94,-172.091 6883.94,-136.091 6937.94,-136.091 6937.94,-172.091\" stroke=\"black\"/>\n<text font-family=\"Times,serif\" font-size=\"14.00\" text-anchor=\"middle\" x=\"6910.94\" y=\"-150.391\">31</text>\n</g>\n<!-- 2648061334650744517&#45;&gt;&#45;386165881062671328 -->\n<g class=\"edge\" id=\"edge35\"><title>2648061334650744517-&gt;-386165881062671328</title>\n<path d=\"M6910.94,-100.275C6910.94,-109.105 6910.94,-118.007 6910.94,-125.92\" fill=\"none\" stroke=\"black\"/>\n<polygon fill=\"black\" points=\"6907.44,-126 6910.94,-136 6914.44,-126 6907.44,-126\" stroke=\"black\"/>\n</g>\n<!-- 6841224001687223558 -->\n<g class=\"node\" id=\"node205\"><title>6841224001687223558</title>\n<ellipse cx=\"6910.94\" cy=\"-254.887\" fill=\"none\" rx=\"46.5926\" ry=\"46.5926\" stroke=\"black\"/>\n<text font-family=\"Times,serif\" font-size=\"14.00\" text-anchor=\"middle\" x=\"6910.94\" y=\"-251.187\">getitem</text>\n</g>\n<!-- &#45;386165881062671328&#45;&gt;6841224001687223558 -->\n<g class=\"edge\" id=\"edge136\"><title>-386165881062671328-&gt;6841224001687223558</title>\n<path d=\"M6910.94,-172.3C6910.94,-179.608 6910.94,-188.581 6910.94,-197.871\" fill=\"none\" stroke=\"black\"/>\n<polygon fill=\"black\" points=\"6907.44,-198.014 6910.94,-208.014 6914.44,-198.014 6907.44,-198.014\" stroke=\"black\"/>\n</g>\n<!-- 5304573423531712208 -->\n<g class=\"node\" id=\"node69\"><title>5304573423531712208</title>\n<ellipse cx=\"8338.94\" cy=\"-50.0456\" fill=\"none\" rx=\"50.0912\" ry=\"50.0912\" stroke=\"black\"/>\n<text font-family=\"Times,serif\" font-size=\"14.00\" text-anchor=\"middle\" x=\"8338.94\" y=\"-46.3456\">read-csv</text>\n</g>\n<!-- &#45;386165881083239303 -->\n<g class=\"node\" id=\"node70\"><title>-386165881083239303</title>\n<polygon fill=\"none\" points=\"8365.94,-172.091 8311.94,-172.091 8311.94,-136.091 8365.94,-136.091 8365.94,-172.091\" stroke=\"black\"/>\n<text font-family=\"Times,serif\" font-size=\"14.00\" text-anchor=\"middle\" x=\"8338.94\" y=\"-150.391\">32</text>\n</g>\n<!-- 5304573423531712208&#45;&gt;&#45;386165881083239303 -->\n<g class=\"edge\" id=\"edge36\"><title>5304573423531712208-&gt;-386165881083239303</title>\n<path d=\"M8338.94,-100.275C8338.94,-109.105 8338.94,-118.007 8338.94,-125.92\" fill=\"none\" stroke=\"black\"/>\n<polygon fill=\"black\" points=\"8335.44,-126 8338.94,-136 8342.44,-126 8335.44,-126\" stroke=\"black\"/>\n</g>\n<!-- &#45;4241285210787638417 -->\n<g class=\"node\" id=\"node207\"><title>-4241285210787638417</title>\n<ellipse cx=\"8338.94\" cy=\"-254.887\" fill=\"none\" rx=\"46.5926\" ry=\"46.5926\" stroke=\"black\"/>\n<text font-family=\"Times,serif\" font-size=\"14.00\" text-anchor=\"middle\" x=\"8338.94\" y=\"-251.187\">getitem</text>\n</g>\n<!-- &#45;386165881083239303&#45;&gt;&#45;4241285210787638417 -->\n<g class=\"edge\" id=\"edge138\"><title>-386165881083239303-&gt;-4241285210787638417</title>\n<path d=\"M8338.94,-172.3C8338.94,-179.608 8338.94,-188.581 8338.94,-197.871\" fill=\"none\" stroke=\"black\"/>\n<polygon fill=\"black\" points=\"8335.44,-198.014 8338.94,-208.014 8342.44,-198.014 8335.44,-198.014\" stroke=\"black\"/>\n</g>\n<!-- 6326102511718055883 -->\n<g class=\"node\" id=\"node71\"><title>6326102511718055883</title>\n<ellipse cx=\"10141.9\" cy=\"-50.0456\" fill=\"none\" rx=\"50.0912\" ry=\"50.0912\" stroke=\"black\"/>\n<text font-family=\"Times,serif\" font-size=\"14.00\" text-anchor=\"middle\" x=\"10141.9\" y=\"-46.3456\">read-csv</text>\n</g>\n<!-- &#45;386165881082156778 -->\n<g class=\"node\" id=\"node72\"><title>-386165881082156778</title>\n<polygon fill=\"none\" points=\"10168.9,-172.091 10114.9,-172.091 10114.9,-136.091 10168.9,-136.091 10168.9,-172.091\" stroke=\"black\"/>\n<text font-family=\"Times,serif\" font-size=\"14.00\" text-anchor=\"middle\" x=\"10141.9\" y=\"-150.391\">33</text>\n</g>\n<!-- 6326102511718055883&#45;&gt;&#45;386165881082156778 -->\n<g class=\"edge\" id=\"edge37\"><title>6326102511718055883-&gt;-386165881082156778</title>\n<path d=\"M10141.9,-100.275C10141.9,-109.105 10141.9,-118.007 10141.9,-125.92\" fill=\"none\" stroke=\"black\"/>\n<polygon fill=\"black\" points=\"10138.4,-126 10141.9,-136 10145.4,-126 10138.4,-126\" stroke=\"black\"/>\n</g>\n<!-- &#45;4765293882549354492 -->\n<g class=\"node\" id=\"node209\"><title>-4765293882549354492</title>\n<ellipse cx=\"10141.9\" cy=\"-254.887\" fill=\"none\" rx=\"46.5926\" ry=\"46.5926\" stroke=\"black\"/>\n<text font-family=\"Times,serif\" font-size=\"14.00\" text-anchor=\"middle\" x=\"10141.9\" y=\"-251.187\">getitem</text>\n</g>\n<!-- &#45;386165881082156778&#45;&gt;&#45;4765293882549354492 -->\n<g class=\"edge\" id=\"edge140\"><title>-386165881082156778-&gt;-4765293882549354492</title>\n<path d=\"M10141.9,-172.3C10141.9,-179.608 10141.9,-188.581 10141.9,-197.871\" fill=\"none\" stroke=\"black\"/>\n<polygon fill=\"black\" points=\"10138.4,-198.014 10141.9,-208.014 10145.4,-198.014 10138.4,-198.014\" stroke=\"black\"/>\n</g>\n<!-- 3660069192819739758 -->\n<g class=\"node\" id=\"node73\"><title>3660069192819739758</title>\n<ellipse cx=\"11419.9\" cy=\"-50.0456\" fill=\"none\" rx=\"50.0912\" ry=\"50.0912\" stroke=\"black\"/>\n<text font-family=\"Times,serif\" font-size=\"14.00\" text-anchor=\"middle\" x=\"11419.9\" y=\"-46.3456\">read-csv</text>\n</g>\n<!-- &#45;386165881085404353 -->\n<g class=\"node\" id=\"node74\"><title>-386165881085404353</title>\n<polygon fill=\"none\" points=\"11446.9,-172.091 11392.9,-172.091 11392.9,-136.091 11446.9,-136.091 11446.9,-172.091\" stroke=\"black\"/>\n<text font-family=\"Times,serif\" font-size=\"14.00\" text-anchor=\"middle\" x=\"11419.9\" y=\"-150.391\">34</text>\n</g>\n<!-- 3660069192819739758&#45;&gt;&#45;386165881085404353 -->\n<g class=\"edge\" id=\"edge38\"><title>3660069192819739758-&gt;-386165881085404353</title>\n<path d=\"M11419.9,-100.275C11419.9,-109.105 11419.9,-118.007 11419.9,-125.92\" fill=\"none\" stroke=\"black\"/>\n<polygon fill=\"black\" points=\"11416.4,-126 11419.9,-136 11423.4,-126 11416.4,-126\" stroke=\"black\"/>\n</g>\n<!-- &#45;5846706053919325267 -->\n<g class=\"node\" id=\"node211\"><title>-5846706053919325267</title>\n<ellipse cx=\"11419.9\" cy=\"-254.887\" fill=\"none\" rx=\"46.5926\" ry=\"46.5926\" stroke=\"black\"/>\n<text font-family=\"Times,serif\" font-size=\"14.00\" text-anchor=\"middle\" x=\"11419.9\" y=\"-251.187\">getitem</text>\n</g>\n<!-- &#45;386165881085404353&#45;&gt;&#45;5846706053919325267 -->\n<g class=\"edge\" id=\"edge142\"><title>-386165881085404353-&gt;-5846706053919325267</title>\n<path d=\"M11419.9,-172.3C11419.9,-179.608 11419.9,-188.581 11419.9,-197.871\" fill=\"none\" stroke=\"black\"/>\n<polygon fill=\"black\" points=\"11416.4,-198.014 11419.9,-208.014 11423.4,-198.014 11416.4,-198.014\" stroke=\"black\"/>\n</g>\n<!-- 4783965494604887833 -->\n<g class=\"node\" id=\"node75\"><title>4783965494604887833</title>\n<ellipse cx=\"1420.94\" cy=\"-50.0456\" fill=\"none\" rx=\"50.0912\" ry=\"50.0912\" stroke=\"black\"/>\n<text font-family=\"Times,serif\" font-size=\"14.00\" text-anchor=\"middle\" x=\"1420.94\" y=\"-46.3456\">read-csv</text>\n</g>\n<!-- &#45;386165881084321828 -->\n<g class=\"node\" id=\"node76\"><title>-386165881084321828</title>\n<polygon fill=\"none\" points=\"1447.94,-172.091 1393.94,-172.091 1393.94,-136.091 1447.94,-136.091 1447.94,-172.091\" stroke=\"black\"/>\n<text font-family=\"Times,serif\" font-size=\"14.00\" text-anchor=\"middle\" x=\"1420.94\" y=\"-150.391\">35</text>\n</g>\n<!-- 4783965494604887833&#45;&gt;&#45;386165881084321828 -->\n<g class=\"edge\" id=\"edge39\"><title>4783965494604887833-&gt;-386165881084321828</title>\n<path d=\"M1420.94,-100.275C1420.94,-109.105 1420.94,-118.007 1420.94,-125.92\" fill=\"none\" stroke=\"black\"/>\n<polygon fill=\"black\" points=\"1417.44,-126 1420.94,-136 1424.44,-126 1417.44,-126\" stroke=\"black\"/>\n</g>\n<!-- 2050076379901033858 -->\n<g class=\"node\" id=\"node213\"><title>2050076379901033858</title>\n<ellipse cx=\"1420.94\" cy=\"-254.887\" fill=\"none\" rx=\"46.5926\" ry=\"46.5926\" stroke=\"black\"/>\n<text font-family=\"Times,serif\" font-size=\"14.00\" text-anchor=\"middle\" x=\"1420.94\" y=\"-251.187\">getitem</text>\n</g>\n<!-- &#45;386165881084321828&#45;&gt;2050076379901033858 -->\n<g class=\"edge\" id=\"edge144\"><title>-386165881084321828-&gt;2050076379901033858</title>\n<path d=\"M1420.94,-172.3C1420.94,-179.608 1420.94,-188.581 1420.94,-197.871\" fill=\"none\" stroke=\"black\"/>\n<polygon fill=\"black\" points=\"1417.44,-198.014 1420.94,-208.014 1424.44,-198.014 1417.44,-198.014\" stroke=\"black\"/>\n</g>\n<!-- &#45;7954921639770596908 -->\n<g class=\"node\" id=\"node77\"><title>-7954921639770596908</title>\n<ellipse cx=\"3888.94\" cy=\"-50.0456\" fill=\"none\" rx=\"50.0912\" ry=\"50.0912\" stroke=\"black\"/>\n<text font-family=\"Times,serif\" font-size=\"14.00\" text-anchor=\"middle\" x=\"3888.94\" y=\"-46.3456\">read-csv</text>\n</g>\n<!-- &#45;386165881087569403 -->\n<g class=\"node\" id=\"node78\"><title>-386165881087569403</title>\n<polygon fill=\"none\" points=\"3915.94,-172.091 3861.94,-172.091 3861.94,-136.091 3915.94,-136.091 3915.94,-172.091\" stroke=\"black\"/>\n<text font-family=\"Times,serif\" font-size=\"14.00\" text-anchor=\"middle\" x=\"3888.94\" y=\"-150.391\">36</text>\n</g>\n<!-- &#45;7954921639770596908&#45;&gt;&#45;386165881087569403 -->\n<g class=\"edge\" id=\"edge40\"><title>-7954921639770596908-&gt;-386165881087569403</title>\n<path d=\"M3888.94,-100.275C3888.94,-109.105 3888.94,-118.007 3888.94,-125.92\" fill=\"none\" stroke=\"black\"/>\n<polygon fill=\"black\" points=\"3885.44,-126 3888.94,-136 3892.44,-126 3885.44,-126\" stroke=\"black\"/>\n</g>\n<!-- &#45;7735958380473201349 -->\n<g class=\"node\" id=\"node215\"><title>-7735958380473201349</title>\n<ellipse cx=\"3888.94\" cy=\"-254.887\" fill=\"none\" rx=\"46.5926\" ry=\"46.5926\" stroke=\"black\"/>\n<text font-family=\"Times,serif\" font-size=\"14.00\" text-anchor=\"middle\" x=\"3888.94\" y=\"-251.187\">getitem</text>\n</g>\n<!-- &#45;386165881087569403&#45;&gt;&#45;7735958380473201349 -->\n<g class=\"edge\" id=\"edge146\"><title>-386165881087569403-&gt;-7735958380473201349</title>\n<path d=\"M3888.94,-172.3C3888.94,-179.608 3888.94,-188.581 3888.94,-197.871\" fill=\"none\" stroke=\"black\"/>\n<polygon fill=\"black\" points=\"3885.44,-198.014 3888.94,-208.014 3892.44,-198.014 3885.44,-198.014\" stroke=\"black\"/>\n</g>\n<!-- &#45;6858921794402373633 -->\n<g class=\"node\" id=\"node79\"><title>-6858921794402373633</title>\n<ellipse cx=\"1642.94\" cy=\"-50.0456\" fill=\"none\" rx=\"50.0912\" ry=\"50.0912\" stroke=\"black\"/>\n<text font-family=\"Times,serif\" font-size=\"14.00\" text-anchor=\"middle\" x=\"1642.94\" y=\"-46.3456\">read-csv</text>\n</g>\n<!-- &#45;386165881086486878 -->\n<g class=\"node\" id=\"node80\"><title>-386165881086486878</title>\n<polygon fill=\"none\" points=\"1669.94,-172.091 1615.94,-172.091 1615.94,-136.091 1669.94,-136.091 1669.94,-172.091\" stroke=\"black\"/>\n<text font-family=\"Times,serif\" font-size=\"14.00\" text-anchor=\"middle\" x=\"1642.94\" y=\"-150.391\">37</text>\n</g>\n<!-- &#45;6858921794402373633&#45;&gt;&#45;386165881086486878 -->\n<g class=\"edge\" id=\"edge41\"><title>-6858921794402373633-&gt;-386165881086486878</title>\n<path d=\"M1642.94,-100.275C1642.94,-109.105 1642.94,-118.007 1642.94,-125.92\" fill=\"none\" stroke=\"black\"/>\n<polygon fill=\"black\" points=\"1639.44,-126 1642.94,-136 1646.44,-126 1639.44,-126\" stroke=\"black\"/>\n</g>\n<!-- &#45;8818282699242335424 -->\n<g class=\"node\" id=\"node217\"><title>-8818282699242335424</title>\n<ellipse cx=\"1642.94\" cy=\"-254.887\" fill=\"none\" rx=\"46.5926\" ry=\"46.5926\" stroke=\"black\"/>\n<text font-family=\"Times,serif\" font-size=\"14.00\" text-anchor=\"middle\" x=\"1642.94\" y=\"-251.187\">getitem</text>\n</g>\n<!-- &#45;386165881086486878&#45;&gt;&#45;8818282699242335424 -->\n<g class=\"edge\" id=\"edge148\"><title>-386165881086486878-&gt;-8818282699242335424</title>\n<path d=\"M1642.94,-172.3C1642.94,-179.608 1642.94,-188.581 1642.94,-197.871\" fill=\"none\" stroke=\"black\"/>\n<polygon fill=\"black\" points=\"1639.44,-198.014 1642.94,-208.014 1646.44,-198.014 1639.44,-198.014\" stroke=\"black\"/>\n</g>\n<!-- 8355018103175989458 -->\n<g class=\"node\" id=\"node81\"><title>8355018103175989458</title>\n<ellipse cx=\"7930.94\" cy=\"-50.0456\" fill=\"none\" rx=\"50.0912\" ry=\"50.0912\" stroke=\"black\"/>\n<text font-family=\"Times,serif\" font-size=\"14.00\" text-anchor=\"middle\" x=\"7930.94\" y=\"-46.3456\">read-csv</text>\n</g>\n<!-- &#45;386165881089734453 -->\n<g class=\"node\" id=\"node82\"><title>-386165881089734453</title>\n<polygon fill=\"none\" points=\"7957.94,-172.091 7903.94,-172.091 7903.94,-136.091 7957.94,-136.091 7957.94,-172.091\" stroke=\"black\"/>\n<text font-family=\"Times,serif\" font-size=\"14.00\" text-anchor=\"middle\" x=\"7930.94\" y=\"-150.391\">38</text>\n</g>\n<!-- 8355018103175989458&#45;&gt;&#45;386165881089734453 -->\n<g class=\"edge\" id=\"edge42\"><title>8355018103175989458-&gt;-386165881089734453</title>\n<path d=\"M7930.94,-100.275C7930.94,-109.105 7930.94,-118.007 7930.94,-125.92\" fill=\"none\" stroke=\"black\"/>\n<polygon fill=\"black\" points=\"7927.44,-126 7930.94,-136 7934.44,-126 7927.44,-126\" stroke=\"black\"/>\n</g>\n<!-- 8456153025918612617 -->\n<g class=\"node\" id=\"node219\"><title>8456153025918612617</title>\n<ellipse cx=\"7930.94\" cy=\"-254.887\" fill=\"none\" rx=\"46.5926\" ry=\"46.5926\" stroke=\"black\"/>\n<text font-family=\"Times,serif\" font-size=\"14.00\" text-anchor=\"middle\" x=\"7930.94\" y=\"-251.187\">getitem</text>\n</g>\n<!-- &#45;386165881089734453&#45;&gt;8456153025918612617 -->\n<g class=\"edge\" id=\"edge150\"><title>-386165881089734453-&gt;8456153025918612617</title>\n<path d=\"M7930.94,-172.3C7930.94,-179.608 7930.94,-188.581 7930.94,-197.871\" fill=\"none\" stroke=\"black\"/>\n<polygon fill=\"black\" points=\"7927.44,-198.014 7930.94,-208.014 7934.44,-198.014 7927.44,-198.014\" stroke=\"black\"/>\n</g>\n<!-- &#45;9078543731248599683 -->\n<g class=\"node\" id=\"node83\"><title>-9078543731248599683</title>\n<ellipse cx=\"5296.94\" cy=\"-50.0456\" fill=\"none\" rx=\"50.0912\" ry=\"50.0912\" stroke=\"black\"/>\n<text font-family=\"Times,serif\" font-size=\"14.00\" text-anchor=\"middle\" x=\"5296.94\" y=\"-46.3456\">read-csv</text>\n</g>\n<!-- &#45;386165881088651928 -->\n<g class=\"node\" id=\"node84\"><title>-386165881088651928</title>\n<polygon fill=\"none\" points=\"5323.94,-172.091 5269.94,-172.091 5269.94,-136.091 5323.94,-136.091 5323.94,-172.091\" stroke=\"black\"/>\n<text font-family=\"Times,serif\" font-size=\"14.00\" text-anchor=\"middle\" x=\"5296.94\" y=\"-150.391\">39</text>\n</g>\n<!-- &#45;9078543731248599683&#45;&gt;&#45;386165881088651928 -->\n<g class=\"edge\" id=\"edge43\"><title>-9078543731248599683-&gt;-386165881088651928</title>\n<path d=\"M5296.94,-100.275C5296.94,-109.105 5296.94,-118.007 5296.94,-125.92\" fill=\"none\" stroke=\"black\"/>\n<polygon fill=\"black\" points=\"5293.44,-126 5296.94,-136 5300.44,-126 5293.44,-126\" stroke=\"black\"/>\n</g>\n<!-- &#45;3122056203705827042 -->\n<g class=\"node\" id=\"node221\"><title>-3122056203705827042</title>\n<ellipse cx=\"5296.94\" cy=\"-254.887\" fill=\"none\" rx=\"46.5926\" ry=\"46.5926\" stroke=\"black\"/>\n<text font-family=\"Times,serif\" font-size=\"14.00\" text-anchor=\"middle\" x=\"5296.94\" y=\"-251.187\">getitem</text>\n</g>\n<!-- &#45;386165881088651928&#45;&gt;&#45;3122056203705827042 -->\n<g class=\"edge\" id=\"edge152\"><title>-386165881088651928-&gt;-3122056203705827042</title>\n<path d=\"M5296.94,-172.3C5296.94,-179.608 5296.94,-188.581 5296.94,-197.871\" fill=\"none\" stroke=\"black\"/>\n<polygon fill=\"black\" points=\"5293.44,-198.014 5296.94,-208.014 5300.44,-198.014 5293.44,-198.014\" stroke=\"black\"/>\n</g>\n<!-- &#45;2351859912101262424 -->\n<g class=\"node\" id=\"node85\"><title>-2351859912101262424</title>\n<ellipse cx=\"2081.94\" cy=\"-50.0456\" fill=\"none\" rx=\"50.0912\" ry=\"50.0912\" stroke=\"black\"/>\n<text font-family=\"Times,serif\" font-size=\"14.00\" text-anchor=\"middle\" x=\"2081.94\" y=\"-46.3456\">read-csv</text>\n</g>\n<!-- &#45;386165881074579103 -->\n<g class=\"node\" id=\"node86\"><title>-386165881074579103</title>\n<polygon fill=\"none\" points=\"2108.94,-172.091 2054.94,-172.091 2054.94,-136.091 2108.94,-136.091 2108.94,-172.091\" stroke=\"black\"/>\n<text font-family=\"Times,serif\" font-size=\"14.00\" text-anchor=\"middle\" x=\"2081.94\" y=\"-150.391\">40</text>\n</g>\n<!-- &#45;2351859912101262424&#45;&gt;&#45;386165881074579103 -->\n<g class=\"edge\" id=\"edge44\"><title>-2351859912101262424-&gt;-386165881074579103</title>\n<path d=\"M2081.94,-100.275C2081.94,-109.105 2081.94,-118.007 2081.94,-125.92\" fill=\"none\" stroke=\"black\"/>\n<polygon fill=\"black\" points=\"2078.44,-126 2081.94,-136 2085.44,-126 2078.44,-126\" stroke=\"black\"/>\n</g>\n<!-- 6526165384478540167 -->\n<g class=\"node\" id=\"node223\"><title>6526165384478540167</title>\n<ellipse cx=\"2081.94\" cy=\"-254.887\" fill=\"none\" rx=\"46.5926\" ry=\"46.5926\" stroke=\"black\"/>\n<text font-family=\"Times,serif\" font-size=\"14.00\" text-anchor=\"middle\" x=\"2081.94\" y=\"-251.187\">getitem</text>\n</g>\n<!-- &#45;386165881074579103&#45;&gt;6526165384478540167 -->\n<g class=\"edge\" id=\"edge154\"><title>-386165881074579103-&gt;6526165384478540167</title>\n<path d=\"M2081.94,-172.3C2081.94,-179.608 2081.94,-188.581 2081.94,-197.871\" fill=\"none\" stroke=\"black\"/>\n<polygon fill=\"black\" points=\"2078.44,-198.014 2081.94,-208.014 2085.44,-198.014 2078.44,-198.014\" stroke=\"black\"/>\n</g>\n<!-- &#45;1344216736857542749 -->\n<g class=\"node\" id=\"node87\"><title>-1344216736857542749</title>\n<ellipse cx=\"11022.9\" cy=\"-50.0456\" fill=\"none\" rx=\"50.0912\" ry=\"50.0912\" stroke=\"black\"/>\n<text font-family=\"Times,serif\" font-size=\"14.00\" text-anchor=\"middle\" x=\"11022.9\" y=\"-46.3456\">read-csv</text>\n</g>\n<!-- &#45;386165881073496578 -->\n<g class=\"node\" id=\"node88\"><title>-386165881073496578</title>\n<polygon fill=\"none\" points=\"11049.9,-172.091 10995.9,-172.091 10995.9,-136.091 11049.9,-136.091 11049.9,-172.091\" stroke=\"black\"/>\n<text font-family=\"Times,serif\" font-size=\"14.00\" text-anchor=\"middle\" x=\"11022.9\" y=\"-150.391\">41</text>\n</g>\n<!-- &#45;1344216736857542749&#45;&gt;&#45;386165881073496578 -->\n<g class=\"edge\" id=\"edge45\"><title>-1344216736857542749-&gt;-386165881073496578</title>\n<path d=\"M11022.9,-100.275C11022.9,-109.105 11022.9,-118.007 11022.9,-125.92\" fill=\"none\" stroke=\"black\"/>\n<polygon fill=\"black\" points=\"11019.4,-126 11022.9,-136 11026.4,-126 11019.4,-126\" stroke=\"black\"/>\n</g>\n<!-- 4932627236757308892 -->\n<g class=\"node\" id=\"node225\"><title>4932627236757308892</title>\n<ellipse cx=\"11022.9\" cy=\"-254.887\" fill=\"none\" rx=\"46.5926\" ry=\"46.5926\" stroke=\"black\"/>\n<text font-family=\"Times,serif\" font-size=\"14.00\" text-anchor=\"middle\" x=\"11022.9\" y=\"-251.187\">getitem</text>\n</g>\n<!-- &#45;386165881073496578&#45;&gt;4932627236757308892 -->\n<g class=\"edge\" id=\"edge156\"><title>-386165881073496578-&gt;4932627236757308892</title>\n<path d=\"M11022.9,-172.3C11022.9,-179.608 11022.9,-188.581 11022.9,-197.871\" fill=\"none\" stroke=\"black\"/>\n<polygon fill=\"black\" points=\"11019.4,-198.014 11022.9,-208.014 11026.4,-198.014 11019.4,-198.014\" stroke=\"black\"/>\n</g>\n<!-- &#45;5203456820005503674 -->\n<g class=\"node\" id=\"node89\"><title>-5203456820005503674</title>\n<ellipse cx=\"2469.94\" cy=\"-50.0456\" fill=\"none\" rx=\"50.0912\" ry=\"50.0912\" stroke=\"black\"/>\n<text font-family=\"Times,serif\" font-size=\"14.00\" text-anchor=\"middle\" x=\"2469.94\" y=\"-46.3456\">read-csv</text>\n</g>\n<!-- &#45;386165881076744153 -->\n<g class=\"node\" id=\"node90\"><title>-386165881076744153</title>\n<polygon fill=\"none\" points=\"2496.94,-172.091 2442.94,-172.091 2442.94,-136.091 2496.94,-136.091 2496.94,-172.091\" stroke=\"black\"/>\n<text font-family=\"Times,serif\" font-size=\"14.00\" text-anchor=\"middle\" x=\"2469.94\" y=\"-150.391\">42</text>\n</g>\n<!-- &#45;5203456820005503674&#45;&gt;&#45;386165881076744153 -->\n<g class=\"edge\" id=\"edge46\"><title>-5203456820005503674-&gt;-386165881076744153</title>\n<path d=\"M2469.94,-100.275C2469.94,-109.105 2469.94,-118.007 2469.94,-125.92\" fill=\"none\" stroke=\"black\"/>\n<polygon fill=\"black\" points=\"2466.44,-126 2469.94,-136 2473.44,-126 2466.44,-126\" stroke=\"black\"/>\n</g>\n<!-- 3757681102936003717 -->\n<g class=\"node\" id=\"node227\"><title>3757681102936003717</title>\n<ellipse cx=\"2469.94\" cy=\"-254.887\" fill=\"none\" rx=\"46.5926\" ry=\"46.5926\" stroke=\"black\"/>\n<text font-family=\"Times,serif\" font-size=\"14.00\" text-anchor=\"middle\" x=\"2469.94\" y=\"-251.187\">getitem</text>\n</g>\n<!-- &#45;386165881076744153&#45;&gt;3757681102936003717 -->\n<g class=\"edge\" id=\"edge158\"><title>-386165881076744153-&gt;3757681102936003717</title>\n<path d=\"M2469.94,-172.3C2469.94,-179.608 2469.94,-188.581 2469.94,-197.871\" fill=\"none\" stroke=\"black\"/>\n<polygon fill=\"black\" points=\"2466.44,-198.014 2469.94,-208.014 2473.44,-198.014 2466.44,-198.014\" stroke=\"black\"/>\n</g>\n<!-- &#45;3462022791542377999 -->\n<g class=\"node\" id=\"node91\"><title>-3462022791542377999</title>\n<ellipse cx=\"9164.94\" cy=\"-50.0456\" fill=\"none\" rx=\"50.0912\" ry=\"50.0912\" stroke=\"black\"/>\n<text font-family=\"Times,serif\" font-size=\"14.00\" text-anchor=\"middle\" x=\"9164.94\" y=\"-46.3456\">read-csv</text>\n</g>\n<!-- &#45;386165881075661628 -->\n<g class=\"node\" id=\"node92\"><title>-386165881075661628</title>\n<polygon fill=\"none\" points=\"9191.94,-172.091 9137.94,-172.091 9137.94,-136.091 9191.94,-136.091 9191.94,-172.091\" stroke=\"black\"/>\n<text font-family=\"Times,serif\" font-size=\"14.00\" text-anchor=\"middle\" x=\"9164.94\" y=\"-150.391\">43</text>\n</g>\n<!-- &#45;3462022791542377999&#45;&gt;&#45;386165881075661628 -->\n<g class=\"edge\" id=\"edge47\"><title>-3462022791542377999-&gt;-386165881075661628</title>\n<path d=\"M9164.94,-100.275C9164.94,-109.105 9164.94,-118.007 9164.94,-125.92\" fill=\"none\" stroke=\"black\"/>\n<polygon fill=\"black\" points=\"9161.44,-126 9164.94,-136 9168.44,-126 9161.44,-126\" stroke=\"black\"/>\n</g>\n<!-- &#45;6709915618922775974 -->\n<g class=\"node\" id=\"node229\"><title>-6709915618922775974</title>\n<ellipse cx=\"9164.94\" cy=\"-254.887\" fill=\"none\" rx=\"46.5926\" ry=\"46.5926\" stroke=\"black\"/>\n<text font-family=\"Times,serif\" font-size=\"14.00\" text-anchor=\"middle\" x=\"9164.94\" y=\"-251.187\">getitem</text>\n</g>\n<!-- &#45;386165881075661628&#45;&gt;&#45;6709915618922775974 -->\n<g class=\"edge\" id=\"edge160\"><title>-386165881075661628-&gt;-6709915618922775974</title>\n<path d=\"M9164.94,-172.3C9164.94,-179.608 9164.94,-188.581 9164.94,-197.871\" fill=\"none\" stroke=\"black\"/>\n<polygon fill=\"black\" points=\"9161.44,-198.014 9164.94,-208.014 9168.44,-198.014 9161.44,-198.014\" stroke=\"black\"/>\n</g>\n<!-- 1802935840811356076 -->\n<g class=\"node\" id=\"node93\"><title>1802935840811356076</title>\n<ellipse cx=\"11247.9\" cy=\"-50.0456\" fill=\"none\" rx=\"50.0912\" ry=\"50.0912\" stroke=\"black\"/>\n<text font-family=\"Times,serif\" font-size=\"14.00\" text-anchor=\"middle\" x=\"11247.9\" y=\"-46.3456\">read-csv</text>\n</g>\n<!-- &#45;386165881078909203 -->\n<g class=\"node\" id=\"node94\"><title>-386165881078909203</title>\n<polygon fill=\"none\" points=\"11274.9,-172.091 11220.9,-172.091 11220.9,-136.091 11274.9,-136.091 11274.9,-172.091\" stroke=\"black\"/>\n<text font-family=\"Times,serif\" font-size=\"14.00\" text-anchor=\"middle\" x=\"11247.9\" y=\"-150.391\">44</text>\n</g>\n<!-- 1802935840811356076&#45;&gt;&#45;386165881078909203 -->\n<g class=\"edge\" id=\"edge48\"><title>1802935840811356076-&gt;-386165881078909203</title>\n<path d=\"M11247.9,-100.275C11247.9,-109.105 11247.9,-118.007 11247.9,-125.92\" fill=\"none\" stroke=\"black\"/>\n<polygon fill=\"black\" points=\"11244.4,-126 11247.9,-136 11251.4,-126 11244.4,-126\" stroke=\"black\"/>\n</g>\n<!-- 1965209226258019667 -->\n<g class=\"node\" id=\"node231\"><title>1965209226258019667</title>\n<ellipse cx=\"11247.9\" cy=\"-254.887\" fill=\"none\" rx=\"46.5926\" ry=\"46.5926\" stroke=\"black\"/>\n<text font-family=\"Times,serif\" font-size=\"14.00\" text-anchor=\"middle\" x=\"11247.9\" y=\"-251.187\">getitem</text>\n</g>\n<!-- &#45;386165881078909203&#45;&gt;1965209226258019667 -->\n<g class=\"edge\" id=\"edge162\"><title>-386165881078909203-&gt;1965209226258019667</title>\n<path d=\"M11247.9,-172.3C11247.9,-179.608 11247.9,-188.581 11247.9,-197.871\" fill=\"none\" stroke=\"black\"/>\n<polygon fill=\"black\" points=\"11244.4,-198.014 11247.9,-208.014 11251.4,-198.014 11244.4,-198.014\" stroke=\"black\"/>\n</g>\n<!-- 2824773970919361751 -->\n<g class=\"node\" id=\"node95\"><title>2824773970919361751</title>\n<ellipse cx=\"12643.9\" cy=\"-50.0456\" fill=\"none\" rx=\"50.0912\" ry=\"50.0912\" stroke=\"black\"/>\n<text font-family=\"Times,serif\" font-size=\"14.00\" text-anchor=\"middle\" x=\"12643.9\" y=\"-46.3456\">read-csv</text>\n</g>\n<!-- &#45;386165881077826678 -->\n<g class=\"node\" id=\"node96\"><title>-386165881077826678</title>\n<polygon fill=\"none\" points=\"12670.9,-172.091 12616.9,-172.091 12616.9,-136.091 12670.9,-136.091 12670.9,-172.091\" stroke=\"black\"/>\n<text font-family=\"Times,serif\" font-size=\"14.00\" text-anchor=\"middle\" x=\"12643.9\" y=\"-150.391\">45</text>\n</g>\n<!-- 2824773970919361751&#45;&gt;&#45;386165881077826678 -->\n<g class=\"edge\" id=\"edge49\"><title>2824773970919361751-&gt;-386165881077826678</title>\n<path d=\"M12643.9,-100.275C12643.9,-109.105 12643.9,-118.007 12643.9,-125.92\" fill=\"none\" stroke=\"black\"/>\n<polygon fill=\"black\" points=\"12640.4,-126 12643.9,-136 12647.4,-126 12640.4,-126\" stroke=\"black\"/>\n</g>\n<!-- 839551882969946392 -->\n<g class=\"node\" id=\"node233\"><title>839551882969946392</title>\n<ellipse cx=\"12643.9\" cy=\"-254.887\" fill=\"none\" rx=\"46.5926\" ry=\"46.5926\" stroke=\"black\"/>\n<text font-family=\"Times,serif\" font-size=\"14.00\" text-anchor=\"middle\" x=\"12643.9\" y=\"-251.187\">getitem</text>\n</g>\n<!-- &#45;386165881077826678&#45;&gt;839551882969946392 -->\n<g class=\"edge\" id=\"edge164\"><title>-386165881077826678-&gt;839551882969946392</title>\n<path d=\"M12643.9,-172.3C12643.9,-179.608 12643.9,-188.581 12643.9,-197.871\" fill=\"none\" stroke=\"black\"/>\n<polygon fill=\"black\" points=\"12640.4,-198.014 12643.9,-208.014 12647.4,-198.014 12640.4,-198.014\" stroke=\"black\"/>\n</g>\n<!-- &#45;409697951263492374 -->\n<g class=\"node\" id=\"node97\"><title>-409697951263492374</title>\n<ellipse cx=\"7726.94\" cy=\"-50.0456\" fill=\"none\" rx=\"50.0912\" ry=\"50.0912\" stroke=\"black\"/>\n<text font-family=\"Times,serif\" font-size=\"14.00\" text-anchor=\"middle\" x=\"7726.94\" y=\"-46.3456\">read-csv</text>\n</g>\n<!-- &#45;386165881081074253 -->\n<g class=\"node\" id=\"node98\"><title>-386165881081074253</title>\n<polygon fill=\"none\" points=\"7753.94,-172.091 7699.94,-172.091 7699.94,-136.091 7753.94,-136.091 7753.94,-172.091\" stroke=\"black\"/>\n<text font-family=\"Times,serif\" font-size=\"14.00\" text-anchor=\"middle\" x=\"7726.94\" y=\"-150.391\">46</text>\n</g>\n<!-- &#45;409697951263492374&#45;&gt;&#45;386165881081074253 -->\n<g class=\"edge\" id=\"edge50\"><title>-409697951263492374-&gt;-386165881081074253</title>\n<path d=\"M7726.94,-100.275C7726.94,-109.105 7726.94,-118.007 7726.94,-125.92\" fill=\"none\" stroke=\"black\"/>\n<polygon fill=\"black\" points=\"7723.44,-126 7726.94,-136 7730.44,-126 7723.44,-126\" stroke=\"black\"/>\n</g>\n<!-- &#45;335777375916988383 -->\n<g class=\"node\" id=\"node235\"><title>-335777375916988383</title>\n<ellipse cx=\"7726.94\" cy=\"-254.887\" fill=\"none\" rx=\"46.5926\" ry=\"46.5926\" stroke=\"black\"/>\n<text font-family=\"Times,serif\" font-size=\"14.00\" text-anchor=\"middle\" x=\"7726.94\" y=\"-251.187\">getitem</text>\n</g>\n<!-- &#45;386165881081074253&#45;&gt;&#45;335777375916988383 -->\n<g class=\"edge\" id=\"edge166\"><title>-386165881081074253-&gt;-335777375916988383</title>\n<path d=\"M7726.94,-172.3C7726.94,-179.608 7726.94,-188.581 7726.94,-197.871\" fill=\"none\" stroke=\"black\"/>\n<polygon fill=\"black\" points=\"7723.44,-198.014 7726.94,-208.014 7730.44,-198.014 7723.44,-198.014\" stroke=\"black\"/>\n</g>\n<!-- 716543860730031701 -->\n<g class=\"node\" id=\"node99\"><title>716543860730031701</title>\n<ellipse cx=\"4331.94\" cy=\"-50.0456\" fill=\"none\" rx=\"50.0912\" ry=\"50.0912\" stroke=\"black\"/>\n<text font-family=\"Times,serif\" font-size=\"14.00\" text-anchor=\"middle\" x=\"4331.94\" y=\"-46.3456\">read-csv</text>\n</g>\n<!-- &#45;386165881079991728 -->\n<g class=\"node\" id=\"node100\"><title>-386165881079991728</title>\n<polygon fill=\"none\" points=\"4358.94,-172.091 4304.94,-172.091 4304.94,-136.091 4358.94,-136.091 4358.94,-172.091\" stroke=\"black\"/>\n<text font-family=\"Times,serif\" font-size=\"14.00\" text-anchor=\"middle\" x=\"4331.94\" y=\"-150.391\">47</text>\n</g>\n<!-- 716543860730031701&#45;&gt;&#45;386165881079991728 -->\n<g class=\"edge\" id=\"edge51\"><title>716543860730031701-&gt;-386165881079991728</title>\n<path d=\"M4331.94,-100.275C4331.94,-109.105 4331.94,-118.007 4331.94,-125.92\" fill=\"none\" stroke=\"black\"/>\n<polygon fill=\"black\" points=\"4328.44,-126 4331.94,-136 4335.44,-126 4328.44,-126\" stroke=\"black\"/>\n</g>\n<!-- 7645716616887153142 -->\n<g class=\"node\" id=\"node237\"><title>7645716616887153142</title>\n<ellipse cx=\"4331.94\" cy=\"-254.887\" fill=\"none\" rx=\"46.5926\" ry=\"46.5926\" stroke=\"black\"/>\n<text font-family=\"Times,serif\" font-size=\"14.00\" text-anchor=\"middle\" x=\"4331.94\" y=\"-251.187\">getitem</text>\n</g>\n<!-- &#45;386165881079991728&#45;&gt;7645716616887153142 -->\n<g class=\"edge\" id=\"edge168\"><title>-386165881079991728-&gt;7645716616887153142</title>\n<path d=\"M4331.94,-172.3C4331.94,-179.608 4331.94,-188.581 4331.94,-197.871\" fill=\"none\" stroke=\"black\"/>\n<polygon fill=\"black\" points=\"4328.44,-198.014 4331.94,-208.014 4335.44,-198.014 4328.44,-198.014\" stroke=\"black\"/>\n</g>\n<!-- 4292593834355152224 -->\n<g class=\"node\" id=\"node101\"><title>4292593834355152224</title>\n<ellipse cx=\"6728.94\" cy=\"-50.0456\" fill=\"none\" rx=\"50.0912\" ry=\"50.0912\" stroke=\"black\"/>\n<text font-family=\"Times,serif\" font-size=\"14.00\" text-anchor=\"middle\" x=\"6728.94\" y=\"-46.3456\">read-csv</text>\n</g>\n<!-- &#45;386165881100559703 -->\n<g class=\"node\" id=\"node102\"><title>-386165881100559703</title>\n<polygon fill=\"none\" points=\"6755.94,-172.091 6701.94,-172.091 6701.94,-136.091 6755.94,-136.091 6755.94,-172.091\" stroke=\"black\"/>\n<text font-family=\"Times,serif\" font-size=\"14.00\" text-anchor=\"middle\" x=\"6728.94\" y=\"-150.391\">48</text>\n</g>\n<!-- 4292593834355152224&#45;&gt;&#45;386165881100559703 -->\n<g class=\"edge\" id=\"edge52\"><title>4292593834355152224-&gt;-386165881100559703</title>\n<path d=\"M6728.94,-100.275C6728.94,-109.105 6728.94,-118.007 6728.94,-125.92\" fill=\"none\" stroke=\"black\"/>\n<polygon fill=\"black\" points=\"6725.44,-126 6728.94,-136 6732.44,-126 6725.44,-126\" stroke=\"black\"/>\n</g>\n<!-- &#45;1028807021572259233 -->\n<g class=\"node\" id=\"node239\"><title>-1028807021572259233</title>\n<ellipse cx=\"6728.94\" cy=\"-254.887\" fill=\"none\" rx=\"46.5926\" ry=\"46.5926\" stroke=\"black\"/>\n<text font-family=\"Times,serif\" font-size=\"14.00\" text-anchor=\"middle\" x=\"6728.94\" y=\"-251.187\">getitem</text>\n</g>\n<!-- &#45;386165881100559703&#45;&gt;&#45;1028807021572259233 -->\n<g class=\"edge\" id=\"edge170\"><title>-386165881100559703-&gt;-1028807021572259233</title>\n<path d=\"M6728.94,-172.3C6728.94,-179.608 6728.94,-188.581 6728.94,-197.871\" fill=\"none\" stroke=\"black\"/>\n<polygon fill=\"black\" points=\"6725.44,-198.014 6728.94,-208.014 6732.44,-198.014 6725.44,-198.014\" stroke=\"black\"/>\n</g>\n<!-- 5462675757464471899 -->\n<g class=\"node\" id=\"node103\"><title>5462675757464471899</title>\n<ellipse cx=\"12052.9\" cy=\"-50.0456\" fill=\"none\" rx=\"50.0912\" ry=\"50.0912\" stroke=\"black\"/>\n<text font-family=\"Times,serif\" font-size=\"14.00\" text-anchor=\"middle\" x=\"12052.9\" y=\"-46.3456\">read-csv</text>\n</g>\n<!-- &#45;386165881099477178 -->\n<g class=\"node\" id=\"node104\"><title>-386165881099477178</title>\n<polygon fill=\"none\" points=\"12079.9,-172.091 12025.9,-172.091 12025.9,-136.091 12079.9,-136.091 12079.9,-172.091\" stroke=\"black\"/>\n<text font-family=\"Times,serif\" font-size=\"14.00\" text-anchor=\"middle\" x=\"12052.9\" y=\"-150.391\">49</text>\n</g>\n<!-- 5462675757464471899&#45;&gt;&#45;386165881099477178 -->\n<g class=\"edge\" id=\"edge53\"><title>5462675757464471899-&gt;-386165881099477178</title>\n<path d=\"M12052.9,-100.275C12052.9,-109.105 12052.9,-118.007 12052.9,-125.92\" fill=\"none\" stroke=\"black\"/>\n<polygon fill=\"black\" points=\"12049.4,-126 12052.9,-136 12056.4,-126 12049.4,-126\" stroke=\"black\"/>\n</g>\n<!-- &#45;3894045243623154508 -->\n<g class=\"node\" id=\"node241\"><title>-3894045243623154508</title>\n<ellipse cx=\"12052.9\" cy=\"-254.887\" fill=\"none\" rx=\"46.5926\" ry=\"46.5926\" stroke=\"black\"/>\n<text font-family=\"Times,serif\" font-size=\"14.00\" text-anchor=\"middle\" x=\"12052.9\" y=\"-251.187\">getitem</text>\n</g>\n<!-- &#45;386165881099477178&#45;&gt;&#45;3894045243623154508 -->\n<g class=\"edge\" id=\"edge172\"><title>-386165881099477178-&gt;-3894045243623154508</title>\n<path d=\"M12052.9,-172.3C12052.9,-179.608 12052.9,-188.581 12052.9,-197.871\" fill=\"none\" stroke=\"black\"/>\n<polygon fill=\"black\" points=\"12049.4,-198.014 12052.9,-208.014 12056.4,-198.014 12049.4,-198.014\" stroke=\"black\"/>\n</g>\n<!-- &#45;8880621932765163842 -->\n<g class=\"node\" id=\"node105\"><title>-8880621932765163842</title>\n<ellipse cx=\"13233.9\" cy=\"-50.0456\" fill=\"none\" rx=\"50.0912\" ry=\"50.0912\" stroke=\"black\"/>\n<text font-family=\"Times,serif\" font-size=\"14.00\" text-anchor=\"middle\" x=\"13233.9\" y=\"-46.3456\">read-csv</text>\n</g>\n<!-- &#45;386165881102724753 -->\n<g class=\"node\" id=\"node106\"><title>-386165881102724753</title>\n<polygon fill=\"none\" points=\"13260.9,-172.091 13206.9,-172.091 13206.9,-136.091 13260.9,-136.091 13260.9,-172.091\" stroke=\"black\"/>\n<text font-family=\"Times,serif\" font-size=\"14.00\" text-anchor=\"middle\" x=\"13233.9\" y=\"-150.391\">50</text>\n</g>\n<!-- &#45;8880621932765163842&#45;&gt;&#45;386165881102724753 -->\n<g class=\"edge\" id=\"edge54\"><title>-8880621932765163842-&gt;-386165881102724753</title>\n<path d=\"M13233.9,-100.275C13233.9,-109.105 13233.9,-118.007 13233.9,-125.92\" fill=\"none\" stroke=\"black\"/>\n<polygon fill=\"black\" points=\"13230.4,-126 13233.9,-136 13237.4,-126 13230.4,-126\" stroke=\"black\"/>\n</g>\n<!-- &#45;4994386024663928483 -->\n<g class=\"node\" id=\"node243\"><title>-4994386024663928483</title>\n<ellipse cx=\"13233.9\" cy=\"-254.887\" fill=\"none\" rx=\"46.5926\" ry=\"46.5926\" stroke=\"black\"/>\n<text font-family=\"Times,serif\" font-size=\"14.00\" text-anchor=\"middle\" x=\"13233.9\" y=\"-251.187\">getitem</text>\n</g>\n<!-- &#45;386165881102724753&#45;&gt;&#45;4994386024663928483 -->\n<g class=\"edge\" id=\"edge174\"><title>-386165881102724753-&gt;-4994386024663928483</title>\n<path d=\"M13233.9,-172.3C13233.9,-179.608 13233.9,-188.581 13233.9,-197.871\" fill=\"none\" stroke=\"black\"/>\n<polygon fill=\"black\" points=\"13230.4,-198.014 13233.9,-208.014 13237.4,-198.014 13230.4,-198.014\" stroke=\"black\"/>\n</g>\n<!-- 1586407074948017449 -->\n<g class=\"node\" id=\"node107\"><title>1586407074948017449</title>\n<ellipse cx=\"4922.94\" cy=\"-50.0456\" fill=\"none\" rx=\"50.0912\" ry=\"50.0912\" stroke=\"black\"/>\n<text font-family=\"Times,serif\" font-size=\"14.00\" text-anchor=\"middle\" x=\"4922.94\" y=\"-46.3456\">read-csv</text>\n</g>\n<!-- &#45;386165881101642228 -->\n<g class=\"node\" id=\"node108\"><title>-386165881101642228</title>\n<polygon fill=\"none\" points=\"4949.94,-172.091 4895.94,-172.091 4895.94,-136.091 4949.94,-136.091 4949.94,-172.091\" stroke=\"black\"/>\n<text font-family=\"Times,serif\" font-size=\"14.00\" text-anchor=\"middle\" x=\"4922.94\" y=\"-150.391\">51</text>\n</g>\n<!-- 1586407074948017449&#45;&gt;&#45;386165881101642228 -->\n<g class=\"edge\" id=\"edge55\"><title>1586407074948017449-&gt;-386165881101642228</title>\n<path d=\"M4922.94,-100.275C4922.94,-109.105 4922.94,-118.007 4922.94,-125.92\" fill=\"none\" stroke=\"black\"/>\n<polygon fill=\"black\" points=\"4919.44,-126 4922.94,-136 4926.44,-126 4919.44,-126\" stroke=\"black\"/>\n</g>\n<!-- 3060917348498113842 -->\n<g class=\"node\" id=\"node245\"><title>3060917348498113842</title>\n<ellipse cx=\"4922.94\" cy=\"-254.887\" fill=\"none\" rx=\"46.5926\" ry=\"46.5926\" stroke=\"black\"/>\n<text font-family=\"Times,serif\" font-size=\"14.00\" text-anchor=\"middle\" x=\"4922.94\" y=\"-251.187\">getitem</text>\n</g>\n<!-- &#45;386165881101642228&#45;&gt;3060917348498113842 -->\n<g class=\"edge\" id=\"edge176\"><title>-386165881101642228-&gt;3060917348498113842</title>\n<path d=\"M4922.94,-172.3C4922.94,-179.608 4922.94,-188.581 4922.94,-197.871\" fill=\"none\" stroke=\"black\"/>\n<polygon fill=\"black\" points=\"4919.44,-198.014 4922.94,-208.014 4926.44,-198.014 4919.44,-198.014\" stroke=\"black\"/>\n</g>\n<!-- 7261317510012812324 -->\n<g class=\"node\" id=\"node109\"><title>7261317510012812324</title>\n<ellipse cx=\"5519.94\" cy=\"-50.0456\" fill=\"none\" rx=\"50.0912\" ry=\"50.0912\" stroke=\"black\"/>\n<text font-family=\"Times,serif\" font-size=\"14.00\" text-anchor=\"middle\" x=\"5519.94\" y=\"-46.3456\">read-csv</text>\n</g>\n<!-- &#45;386165881104889803 -->\n<g class=\"node\" id=\"node110\"><title>-386165881104889803</title>\n<polygon fill=\"none\" points=\"5546.94,-172.091 5492.94,-172.091 5492.94,-136.091 5546.94,-136.091 5546.94,-172.091\" stroke=\"black\"/>\n<text font-family=\"Times,serif\" font-size=\"14.00\" text-anchor=\"middle\" x=\"5519.94\" y=\"-150.391\">52</text>\n</g>\n<!-- 7261317510012812324&#45;&gt;&#45;386165881104889803 -->\n<g class=\"edge\" id=\"edge56\"><title>7261317510012812324-&gt;-386165881104889803</title>\n<path d=\"M5519.94,-100.275C5519.94,-109.105 5519.94,-118.007 5519.94,-125.92\" fill=\"none\" stroke=\"black\"/>\n<polygon fill=\"black\" points=\"5516.44,-126 5519.94,-136 5523.44,-126 5516.44,-126\" stroke=\"black\"/>\n</g>\n<!-- &#45;5724641158745234133 -->\n<g class=\"node\" id=\"node247\"><title>-5724641158745234133</title>\n<ellipse cx=\"5519.94\" cy=\"-254.887\" fill=\"none\" rx=\"46.5926\" ry=\"46.5926\" stroke=\"black\"/>\n<text font-family=\"Times,serif\" font-size=\"14.00\" text-anchor=\"middle\" x=\"5519.94\" y=\"-251.187\">getitem</text>\n</g>\n<!-- &#45;386165881104889803&#45;&gt;&#45;5724641158745234133 -->\n<g class=\"edge\" id=\"edge178\"><title>-386165881104889803-&gt;-5724641158745234133</title>\n<path d=\"M5519.94,-172.3C5519.94,-179.608 5519.94,-188.581 5519.94,-197.871\" fill=\"none\" stroke=\"black\"/>\n<polygon fill=\"black\" points=\"5516.44,-198.014 5519.94,-208.014 5523.44,-198.014 5516.44,-198.014\" stroke=\"black\"/>\n</g>\n<!-- 8436647908447833999 -->\n<g class=\"node\" id=\"node111\"><title>8436647908447833999</title>\n<ellipse cx=\"7114.94\" cy=\"-50.0456\" fill=\"none\" rx=\"50.0912\" ry=\"50.0912\" stroke=\"black\"/>\n<text font-family=\"Times,serif\" font-size=\"14.00\" text-anchor=\"middle\" x=\"7114.94\" y=\"-46.3456\">read-csv</text>\n</g>\n<!-- &#45;386165881103807278 -->\n<g class=\"node\" id=\"node112\"><title>-386165881103807278</title>\n<polygon fill=\"none\" points=\"7141.94,-172.091 7087.94,-172.091 7087.94,-136.091 7141.94,-136.091 7141.94,-172.091\" stroke=\"black\"/>\n<text font-family=\"Times,serif\" font-size=\"14.00\" text-anchor=\"middle\" x=\"7114.94\" y=\"-150.391\">53</text>\n</g>\n<!-- 8436647908447833999&#45;&gt;&#45;386165881103807278 -->\n<g class=\"edge\" id=\"edge57\"><title>8436647908447833999-&gt;-386165881103807278</title>\n<path d=\"M7114.94,-100.275C7114.94,-109.105 7114.94,-118.007 7114.94,-125.92\" fill=\"none\" stroke=\"black\"/>\n<polygon fill=\"black\" points=\"7111.44,-126 7114.94,-136 7118.44,-126 7111.44,-126\" stroke=\"black\"/>\n</g>\n<!-- &#45;5635157096767340240 -->\n<g class=\"node\" id=\"node249\"><title>-5635157096767340240</title>\n<ellipse cx=\"7114.94\" cy=\"-254.887\" fill=\"none\" rx=\"46.5926\" ry=\"46.5926\" stroke=\"black\"/>\n<text font-family=\"Times,serif\" font-size=\"14.00\" text-anchor=\"middle\" x=\"7114.94\" y=\"-251.187\">getitem</text>\n</g>\n<!-- &#45;386165881103807278&#45;&gt;&#45;5635157096767340240 -->\n<g class=\"edge\" id=\"edge180\"><title>-386165881103807278-&gt;-5635157096767340240</title>\n<path d=\"M7114.94,-172.3C7114.94,-179.608 7114.94,-188.581 7114.94,-197.871\" fill=\"none\" stroke=\"black\"/>\n<polygon fill=\"black\" points=\"7111.44,-198.014 7114.94,-208.014 7118.44,-198.014 7111.44,-198.014\" stroke=\"black\"/>\n</g>\n<!-- &#45;4233664464324306142 -->\n<g class=\"node\" id=\"node113\"><title>-4233664464324306142</title>\n<ellipse cx=\"8543.94\" cy=\"-50.0456\" fill=\"none\" rx=\"50.0912\" ry=\"50.0912\" stroke=\"black\"/>\n<text font-family=\"Times,serif\" font-size=\"14.00\" text-anchor=\"middle\" x=\"8543.94\" y=\"-46.3456\">read-csv</text>\n</g>\n<!-- &#45;386165881107054853 -->\n<g class=\"node\" id=\"node114\"><title>-386165881107054853</title>\n<polygon fill=\"none\" points=\"8570.94,-172.091 8516.94,-172.091 8516.94,-136.091 8570.94,-136.091 8570.94,-172.091\" stroke=\"black\"/>\n<text font-family=\"Times,serif\" font-size=\"14.00\" text-anchor=\"middle\" x=\"8543.94\" y=\"-150.391\">54</text>\n</g>\n<!-- &#45;4233664464324306142&#45;&gt;&#45;386165881107054853 -->\n<g class=\"edge\" id=\"edge58\"><title>-4233664464324306142-&gt;-386165881107054853</title>\n<path d=\"M8543.94,-100.275C8543.94,-109.105 8543.94,-118.007 8543.94,-125.92\" fill=\"none\" stroke=\"black\"/>\n<polygon fill=\"black\" points=\"8540.44,-126 8543.94,-136 8547.44,-126 8540.44,-126\" stroke=\"black\"/>\n</g>\n<!-- &#45;6796269479866583815 -->\n<g class=\"node\" id=\"node251\"><title>-6796269479866583815</title>\n<ellipse cx=\"8543.94\" cy=\"-254.887\" fill=\"none\" rx=\"46.5926\" ry=\"46.5926\" stroke=\"black\"/>\n<text font-family=\"Times,serif\" font-size=\"14.00\" text-anchor=\"middle\" x=\"8543.94\" y=\"-251.187\">getitem</text>\n</g>\n<!-- &#45;386165881107054853&#45;&gt;&#45;6796269479866583815 -->\n<g class=\"edge\" id=\"edge182\"><title>-386165881107054853-&gt;-6796269479866583815</title>\n<path d=\"M8543.94,-172.3C8543.94,-179.608 8543.94,-188.581 8543.94,-197.871\" fill=\"none\" stroke=\"black\"/>\n<polygon fill=\"black\" points=\"8540.44,-198.014 8543.94,-208.014 8547.44,-198.014 8540.44,-198.014\" stroke=\"black\"/>\n</g>\n<!-- 6164302825520467149 -->\n<g class=\"node\" id=\"node115\"><title>6164302825520467149</title>\n<ellipse cx=\"9379.94\" cy=\"-50.0456\" fill=\"none\" rx=\"50.0912\" ry=\"50.0912\" stroke=\"black\"/>\n<text font-family=\"Times,serif\" font-size=\"14.00\" text-anchor=\"middle\" x=\"9379.94\" y=\"-46.3456\">read-csv</text>\n</g>\n<!-- &#45;386165881105972328 -->\n<g class=\"node\" id=\"node116\"><title>-386165881105972328</title>\n<polygon fill=\"none\" points=\"9406.94,-172.091 9352.94,-172.091 9352.94,-136.091 9406.94,-136.091 9406.94,-172.091\" stroke=\"black\"/>\n<text font-family=\"Times,serif\" font-size=\"14.00\" text-anchor=\"middle\" x=\"9379.94\" y=\"-150.391\">55</text>\n</g>\n<!-- 6164302825520467149&#45;&gt;&#45;386165881105972328 -->\n<g class=\"edge\" id=\"edge59\"><title>6164302825520467149-&gt;-386165881105972328</title>\n<path d=\"M9379.94,-100.275C9379.94,-109.105 9379.94,-118.007 9379.94,-125.92\" fill=\"none\" stroke=\"black\"/>\n<polygon fill=\"black\" points=\"9376.44,-126 9379.94,-136 9383.44,-126 9376.44,-126\" stroke=\"black\"/>\n</g>\n<!-- &#45;7891977602033066290 -->\n<g class=\"node\" id=\"node253\"><title>-7891977602033066290</title>\n<ellipse cx=\"9379.94\" cy=\"-254.887\" fill=\"none\" rx=\"46.5926\" ry=\"46.5926\" stroke=\"black\"/>\n<text font-family=\"Times,serif\" font-size=\"14.00\" text-anchor=\"middle\" x=\"9379.94\" y=\"-251.187\">getitem</text>\n</g>\n<!-- &#45;386165881105972328&#45;&gt;&#45;7891977602033066290 -->\n<g class=\"edge\" id=\"edge184\"><title>-386165881105972328-&gt;-7891977602033066290</title>\n<path d=\"M9379.94,-172.3C9379.94,-179.608 9379.94,-188.581 9379.94,-197.871\" fill=\"none\" stroke=\"black\"/>\n<polygon fill=\"black\" points=\"9376.44,-198.014 9379.94,-208.014 9383.44,-198.014 9376.44,-198.014\" stroke=\"black\"/>\n</g>\n<!-- &#45;3225133800665931208 -->\n<g class=\"node\" id=\"node117\"><title>-3225133800665931208</title>\n<ellipse cx=\"10689.9\" cy=\"-50.0456\" fill=\"none\" rx=\"50.0912\" ry=\"50.0912\" stroke=\"black\"/>\n<text font-family=\"Times,serif\" font-size=\"14.00\" text-anchor=\"middle\" x=\"10689.9\" y=\"-46.3456\">read-csv</text>\n</g>\n<!-- &#45;386165881091899503 -->\n<g class=\"node\" id=\"node118\"><title>-386165881091899503</title>\n<polygon fill=\"none\" points=\"10716.9,-172.091 10662.9,-172.091 10662.9,-136.091 10716.9,-136.091 10716.9,-172.091\" stroke=\"black\"/>\n<text font-family=\"Times,serif\" font-size=\"14.00\" text-anchor=\"middle\" x=\"10689.9\" y=\"-150.391\">56</text>\n</g>\n<!-- &#45;3225133800665931208&#45;&gt;&#45;386165881091899503 -->\n<g class=\"edge\" id=\"edge60\"><title>-3225133800665931208-&gt;-386165881091899503</title>\n<path d=\"M10689.9,-100.275C10689.9,-109.105 10689.9,-118.007 10689.9,-125.92\" fill=\"none\" stroke=\"black\"/>\n<polygon fill=\"black\" points=\"10686.4,-126 10689.9,-136 10693.4,-126 10686.4,-126\" stroke=\"black\"/>\n</g>\n<!-- &#45;8696296167224862665 -->\n<g class=\"node\" id=\"node255\"><title>-8696296167224862665</title>\n<ellipse cx=\"10689.9\" cy=\"-254.887\" fill=\"none\" rx=\"46.5926\" ry=\"46.5926\" stroke=\"black\"/>\n<text font-family=\"Times,serif\" font-size=\"14.00\" text-anchor=\"middle\" x=\"10689.9\" y=\"-251.187\">getitem</text>\n</g>\n<!-- &#45;386165881091899503&#45;&gt;&#45;8696296167224862665 -->\n<g class=\"edge\" id=\"edge186\"><title>-386165881091899503-&gt;-8696296167224862665</title>\n<path d=\"M10689.9,-172.3C10689.9,-179.608 10689.9,-188.581 10689.9,-197.871\" fill=\"none\" stroke=\"black\"/>\n<polygon fill=\"black\" points=\"10686.4,-198.014 10689.9,-208.014 10693.4,-198.014 10686.4,-198.014\" stroke=\"black\"/>\n</g>\n<!-- &#45;2125923734217125133 -->\n<g class=\"node\" id=\"node119\"><title>-2125923734217125133</title>\n<ellipse cx=\"13365.9\" cy=\"-50.0456\" fill=\"none\" rx=\"50.0912\" ry=\"50.0912\" stroke=\"black\"/>\n<text font-family=\"Times,serif\" font-size=\"14.00\" text-anchor=\"middle\" x=\"13365.9\" y=\"-46.3456\">read-csv</text>\n</g>\n<!-- &#45;386165881090816978 -->\n<g class=\"node\" id=\"node120\"><title>-386165881090816978</title>\n<polygon fill=\"none\" points=\"13392.9,-172.091 13338.9,-172.091 13338.9,-136.091 13392.9,-136.091 13392.9,-172.091\" stroke=\"black\"/>\n<text font-family=\"Times,serif\" font-size=\"14.00\" text-anchor=\"middle\" x=\"13365.9\" y=\"-150.391\">57</text>\n</g>\n<!-- &#45;2125923734217125133&#45;&gt;&#45;386165881090816978 -->\n<g class=\"edge\" id=\"edge61\"><title>-2125923734217125133-&gt;-386165881090816978</title>\n<path d=\"M13365.9,-100.275C13365.9,-109.105 13365.9,-118.007 13365.9,-125.92\" fill=\"none\" stroke=\"black\"/>\n<polygon fill=\"black\" points=\"13362.4,-126 13365.9,-136 13369.4,-126 13362.4,-126\" stroke=\"black\"/>\n</g>\n<!-- 8653942667224980876 -->\n<g class=\"node\" id=\"node257\"><title>8653942667224980876</title>\n<ellipse cx=\"13365.9\" cy=\"-254.887\" fill=\"none\" rx=\"46.5926\" ry=\"46.5926\" stroke=\"black\"/>\n<text font-family=\"Times,serif\" font-size=\"14.00\" text-anchor=\"middle\" x=\"13365.9\" y=\"-251.187\">getitem</text>\n</g>\n<!-- &#45;386165881090816978&#45;&gt;8653942667224980876 -->\n<g class=\"edge\" id=\"edge188\"><title>-386165881090816978-&gt;8653942667224980876</title>\n<path d=\"M13365.9,-172.3C13365.9,-179.608 13365.9,-188.581 13365.9,-197.871\" fill=\"none\" stroke=\"black\"/>\n<polygon fill=\"black\" points=\"13362.4,-198.014 13365.9,-208.014 13369.4,-198.014 13362.4,-198.014\" stroke=\"black\"/>\n</g>\n<!-- &#45;6013976570746314858 -->\n<g class=\"node\" id=\"node121\"><title>-6013976570746314858</title>\n<ellipse cx=\"14341.9\" cy=\"-50.0456\" fill=\"none\" rx=\"50.0912\" ry=\"50.0912\" stroke=\"black\"/>\n<text font-family=\"Times,serif\" font-size=\"14.00\" text-anchor=\"middle\" x=\"14341.9\" y=\"-46.3456\">read-csv</text>\n</g>\n<!-- &#45;386165881094064553 -->\n<g class=\"node\" id=\"node122\"><title>-386165881094064553</title>\n<polygon fill=\"none\" points=\"14368.9,-172.091 14314.9,-172.091 14314.9,-136.091 14368.9,-136.091 14368.9,-172.091\" stroke=\"black\"/>\n<text font-family=\"Times,serif\" font-size=\"14.00\" text-anchor=\"middle\" x=\"14341.9\" y=\"-150.391\">58</text>\n</g>\n<!-- &#45;6013976570746314858&#45;&gt;&#45;386165881094064553 -->\n<g class=\"edge\" id=\"edge62\"><title>-6013976570746314858-&gt;-386165881094064553</title>\n<path d=\"M14341.9,-100.275C14341.9,-109.105 14341.9,-118.007 14341.9,-125.92\" fill=\"none\" stroke=\"black\"/>\n<polygon fill=\"black\" points=\"14338.4,-126 14341.9,-136 14345.4,-126 14338.4,-126\" stroke=\"black\"/>\n</g>\n<!-- 7003190013747982901 -->\n<g class=\"node\" id=\"node259\"><title>7003190013747982901</title>\n<ellipse cx=\"14341.9\" cy=\"-254.887\" fill=\"none\" rx=\"46.5926\" ry=\"46.5926\" stroke=\"black\"/>\n<text font-family=\"Times,serif\" font-size=\"14.00\" text-anchor=\"middle\" x=\"14341.9\" y=\"-251.187\">getitem</text>\n</g>\n<!-- &#45;386165881094064553&#45;&gt;7003190013747982901 -->\n<g class=\"edge\" id=\"edge190\"><title>-386165881094064553-&gt;7003190013747982901</title>\n<path d=\"M14341.9,-172.3C14341.9,-179.608 14341.9,-188.581 14341.9,-197.871\" fill=\"none\" stroke=\"black\"/>\n<polygon fill=\"black\" points=\"14338.4,-198.014 14341.9,-208.014 14345.4,-198.014 14338.4,-198.014\" stroke=\"black\"/>\n</g>\n<!-- &#45;4990699530672219583 -->\n<g class=\"node\" id=\"node123\"><title>-4990699530672219583</title>\n<ellipse cx=\"14888.9\" cy=\"-50.0456\" fill=\"none\" rx=\"50.0912\" ry=\"50.0912\" stroke=\"black\"/>\n<text font-family=\"Times,serif\" font-size=\"14.00\" text-anchor=\"middle\" x=\"14888.9\" y=\"-46.3456\">read-csv</text>\n</g>\n<!-- &#45;386165881092982028 -->\n<g class=\"node\" id=\"node124\"><title>-386165881092982028</title>\n<polygon fill=\"none\" points=\"14915.9,-172.091 14861.9,-172.091 14861.9,-136.091 14915.9,-136.091 14915.9,-172.091\" stroke=\"black\"/>\n<text font-family=\"Times,serif\" font-size=\"14.00\" text-anchor=\"middle\" x=\"14888.9\" y=\"-150.391\">59</text>\n</g>\n<!-- &#45;4990699530672219583&#45;&gt;&#45;386165881092982028 -->\n<g class=\"edge\" id=\"edge63\"><title>-4990699530672219583-&gt;-386165881092982028</title>\n<path d=\"M14888.9,-100.275C14888.9,-109.105 14888.9,-118.007 14888.9,-125.92\" fill=\"none\" stroke=\"black\"/>\n<polygon fill=\"black\" points=\"14885.4,-126 14888.9,-136 14892.4,-126 14885.4,-126\" stroke=\"black\"/>\n</g>\n<!-- 5858671959545690826 -->\n<g class=\"node\" id=\"node261\"><title>5858671959545690826</title>\n<ellipse cx=\"14888.9\" cy=\"-254.887\" fill=\"none\" rx=\"46.5926\" ry=\"46.5926\" stroke=\"black\"/>\n<text font-family=\"Times,serif\" font-size=\"14.00\" text-anchor=\"middle\" x=\"14888.9\" y=\"-251.187\">getitem</text>\n</g>\n<!-- &#45;386165881092982028&#45;&gt;5858671959545690826 -->\n<g class=\"edge\" id=\"edge192\"><title>-386165881092982028-&gt;5858671959545690826</title>\n<path d=\"M14888.9,-172.3C14888.9,-179.608 14888.9,-188.581 14888.9,-197.871\" fill=\"none\" stroke=\"black\"/>\n<polygon fill=\"black\" points=\"14885.4,-198.014 14888.9,-208.014 14892.4,-198.014 14885.4,-198.014\" stroke=\"black\"/>\n</g>\n<!-- 808963012183152892 -->\n<g class=\"node\" id=\"node125\"><title>808963012183152892</title>\n<ellipse cx=\"15221.9\" cy=\"-50.0456\" fill=\"none\" rx=\"50.0912\" ry=\"50.0912\" stroke=\"black\"/>\n<text font-family=\"Times,serif\" font-size=\"14.00\" text-anchor=\"middle\" x=\"15221.9\" y=\"-46.3456\">read-csv</text>\n</g>\n<!-- &#45;386165881096229603 -->\n<g class=\"node\" id=\"node126\"><title>-386165881096229603</title>\n<polygon fill=\"none\" points=\"15248.9,-172.091 15194.9,-172.091 15194.9,-136.091 15248.9,-136.091 15248.9,-172.091\" stroke=\"black\"/>\n<text font-family=\"Times,serif\" font-size=\"14.00\" text-anchor=\"middle\" x=\"15221.9\" y=\"-150.391\">60</text>\n</g>\n<!-- 808963012183152892&#45;&gt;&#45;386165881096229603 -->\n<g class=\"edge\" id=\"edge64\"><title>808963012183152892-&gt;-386165881096229603</title>\n<path d=\"M15221.9,-100.275C15221.9,-109.105 15221.9,-118.007 15221.9,-125.92\" fill=\"none\" stroke=\"black\"/>\n<polygon fill=\"black\" points=\"15218.4,-126 15221.9,-136 15225.4,-126 15218.4,-126\" stroke=\"black\"/>\n</g>\n<!-- 5091531919519912451 -->\n<g class=\"node\" id=\"node263\"><title>5091531919519912451</title>\n<ellipse cx=\"15221.9\" cy=\"-254.887\" fill=\"none\" rx=\"46.5926\" ry=\"46.5926\" stroke=\"black\"/>\n<text font-family=\"Times,serif\" font-size=\"14.00\" text-anchor=\"middle\" x=\"15221.9\" y=\"-251.187\">getitem</text>\n</g>\n<!-- &#45;386165881096229603&#45;&gt;5091531919519912451 -->\n<g class=\"edge\" id=\"edge194\"><title>-386165881096229603-&gt;5091531919519912451</title>\n<path d=\"M15221.9,-172.3C15221.9,-179.608 15221.9,-188.581 15221.9,-197.871\" fill=\"none\" stroke=\"black\"/>\n<polygon fill=\"black\" points=\"15218.4,-198.014 15221.9,-208.014 15225.4,-198.014 15218.4,-198.014\" stroke=\"black\"/>\n</g>\n<!-- 1965479826901558567 -->\n<g class=\"node\" id=\"node127\"><title>1965479826901558567</title>\n<ellipse cx=\"15446.9\" cy=\"-50.0456\" fill=\"none\" rx=\"50.0912\" ry=\"50.0912\" stroke=\"black\"/>\n<text font-family=\"Times,serif\" font-size=\"14.00\" text-anchor=\"middle\" x=\"15446.9\" y=\"-46.3456\">read-csv</text>\n</g>\n<!-- &#45;386165881095147078 -->\n<g class=\"node\" id=\"node128\"><title>-386165881095147078</title>\n<polygon fill=\"none\" points=\"15473.9,-172.091 15419.9,-172.091 15419.9,-136.091 15473.9,-136.091 15473.9,-172.091\" stroke=\"black\"/>\n<text font-family=\"Times,serif\" font-size=\"14.00\" text-anchor=\"middle\" x=\"15446.9\" y=\"-150.391\">61</text>\n</g>\n<!-- 1965479826901558567&#45;&gt;&#45;386165881095147078 -->\n<g class=\"edge\" id=\"edge65\"><title>1965479826901558567-&gt;-386165881095147078</title>\n<path d=\"M15446.9,-100.275C15446.9,-109.105 15446.9,-118.007 15446.9,-125.92\" fill=\"none\" stroke=\"black\"/>\n<polygon fill=\"black\" points=\"15443.4,-126 15446.9,-136 15450.4,-126 15443.4,-126\" stroke=\"black\"/>\n</g>\n<!-- 3920944602103418376 -->\n<g class=\"node\" id=\"node265\"><title>3920944602103418376</title>\n<ellipse cx=\"15446.9\" cy=\"-254.887\" fill=\"none\" rx=\"46.5926\" ry=\"46.5926\" stroke=\"black\"/>\n<text font-family=\"Times,serif\" font-size=\"14.00\" text-anchor=\"middle\" x=\"15446.9\" y=\"-251.187\">getitem</text>\n</g>\n<!-- &#45;386165881095147078&#45;&gt;3920944602103418376 -->\n<g class=\"edge\" id=\"edge196\"><title>-386165881095147078-&gt;3920944602103418376</title>\n<path d=\"M15446.9,-172.3C15446.9,-179.608 15446.9,-188.581 15446.9,-197.871\" fill=\"none\" stroke=\"black\"/>\n<polygon fill=\"black\" points=\"15443.4,-198.014 15446.9,-208.014 15450.4,-198.014 15443.4,-198.014\" stroke=\"black\"/>\n</g>\n<!-- &#45;1317810894807652358 -->\n<g class=\"node\" id=\"node129\"><title>-1317810894807652358</title>\n<ellipse cx=\"15618.9\" cy=\"-50.0456\" fill=\"none\" rx=\"50.0912\" ry=\"50.0912\" stroke=\"black\"/>\n<text font-family=\"Times,serif\" font-size=\"14.00\" text-anchor=\"middle\" x=\"15618.9\" y=\"-46.3456\">read-csv</text>\n</g>\n<!-- &#45;386165881098394653 -->\n<g class=\"node\" id=\"node130\"><title>-386165881098394653</title>\n<polygon fill=\"none\" points=\"15645.9,-172.091 15591.9,-172.091 15591.9,-136.091 15645.9,-136.091 15645.9,-172.091\" stroke=\"black\"/>\n<text font-family=\"Times,serif\" font-size=\"14.00\" text-anchor=\"middle\" x=\"15618.9\" y=\"-150.391\">62</text>\n</g>\n<!-- &#45;1317810894807652358&#45;&gt;&#45;386165881098394653 -->\n<g class=\"edge\" id=\"edge66\"><title>-1317810894807652358-&gt;-386165881098394653</title>\n<path d=\"M15618.9,-100.275C15618.9,-109.105 15618.9,-118.007 15618.9,-125.92\" fill=\"none\" stroke=\"black\"/>\n<polygon fill=\"black\" points=\"15615.4,-126 15618.9,-136 15622.4,-126 15615.4,-126\" stroke=\"black\"/>\n</g>\n<!-- 2815645938211010001 -->\n<g class=\"node\" id=\"node267\"><title>2815645938211010001</title>\n<ellipse cx=\"15618.9\" cy=\"-254.887\" fill=\"none\" rx=\"46.5926\" ry=\"46.5926\" stroke=\"black\"/>\n<text font-family=\"Times,serif\" font-size=\"14.00\" text-anchor=\"middle\" x=\"15618.9\" y=\"-251.187\">getitem</text>\n</g>\n<!-- &#45;386165881098394653&#45;&gt;2815645938211010001 -->\n<g class=\"edge\" id=\"edge198\"><title>-386165881098394653-&gt;2815645938211010001</title>\n<path d=\"M15618.9,-172.3C15618.9,-179.608 15618.9,-188.581 15618.9,-197.871\" fill=\"none\" stroke=\"black\"/>\n<polygon fill=\"black\" points=\"15615.4,-198.014 15618.9,-208.014 15622.4,-198.014 15615.4,-198.014\" stroke=\"black\"/>\n</g>\n<!-- &#45;291668356949627483 -->\n<g class=\"node\" id=\"node131\"><title>-291668356949627483</title>\n<ellipse cx=\"15763.9\" cy=\"-50.0456\" fill=\"none\" rx=\"50.0912\" ry=\"50.0912\" stroke=\"black\"/>\n<text font-family=\"Times,serif\" font-size=\"14.00\" text-anchor=\"middle\" x=\"15763.9\" y=\"-46.3456\">read-csv</text>\n</g>\n<!-- &#45;386165881097312128 -->\n<g class=\"node\" id=\"node132\"><title>-386165881097312128</title>\n<polygon fill=\"none\" points=\"15790.9,-172.091 15736.9,-172.091 15736.9,-136.091 15790.9,-136.091 15790.9,-172.091\" stroke=\"black\"/>\n<text font-family=\"Times,serif\" font-size=\"14.00\" text-anchor=\"middle\" x=\"15763.9\" y=\"-150.391\">63</text>\n</g>\n<!-- &#45;291668356949627483&#45;&gt;&#45;386165881097312128 -->\n<g class=\"edge\" id=\"edge67\"><title>-291668356949627483-&gt;-386165881097312128</title>\n<path d=\"M15763.9,-100.275C15763.9,-109.105 15763.9,-118.007 15763.9,-125.92\" fill=\"none\" stroke=\"black\"/>\n<polygon fill=\"black\" points=\"15760.4,-126 15763.9,-136 15767.4,-126 15760.4,-126\" stroke=\"black\"/>\n</g>\n<!-- 1691965577889327526 -->\n<g class=\"node\" id=\"node269\"><title>1691965577889327526</title>\n<ellipse cx=\"15763.9\" cy=\"-254.887\" fill=\"none\" rx=\"46.5926\" ry=\"46.5926\" stroke=\"black\"/>\n<text font-family=\"Times,serif\" font-size=\"14.00\" text-anchor=\"middle\" x=\"15763.9\" y=\"-251.187\">getitem</text>\n</g>\n<!-- &#45;386165881097312128&#45;&gt;1691965577889327526 -->\n<g class=\"edge\" id=\"edge200\"><title>-386165881097312128-&gt;1691965577889327526</title>\n<path d=\"M15763.9,-172.3C15763.9,-179.608 15763.9,-188.581 15763.9,-197.871\" fill=\"none\" stroke=\"black\"/>\n<polygon fill=\"black\" points=\"15760.4,-198.014 15763.9,-208.014 15767.4,-198.014 15760.4,-198.014\" stroke=\"black\"/>\n</g>\n<!-- 8263007992740721712 -->\n<g class=\"node\" id=\"node133\"><title>8263007992740721712</title>\n<ellipse cx=\"15894.9\" cy=\"-50.0456\" fill=\"none\" rx=\"50.0912\" ry=\"50.0912\" stroke=\"black\"/>\n<text font-family=\"Times,serif\" font-size=\"14.00\" text-anchor=\"middle\" x=\"15894.9\" y=\"-46.3456\">read-csv</text>\n</g>\n<!-- &#45;386165880979316903 -->\n<g class=\"node\" id=\"node134\"><title>-386165880979316903</title>\n<polygon fill=\"none\" points=\"15921.9,-172.091 15867.9,-172.091 15867.9,-136.091 15921.9,-136.091 15921.9,-172.091\" stroke=\"black\"/>\n<text font-family=\"Times,serif\" font-size=\"14.00\" text-anchor=\"middle\" x=\"15894.9\" y=\"-150.391\">64</text>\n</g>\n<!-- 8263007992740721712&#45;&gt;&#45;386165880979316903 -->\n<g class=\"edge\" id=\"edge68\"><title>8263007992740721712-&gt;-386165880979316903</title>\n<path d=\"M15894.9,-100.275C15894.9,-109.105 15894.9,-118.007 15894.9,-125.92\" fill=\"none\" stroke=\"black\"/>\n<polygon fill=\"black\" points=\"15891.4,-126 15894.9,-136 15898.4,-126 15891.4,-126\" stroke=\"black\"/>\n</g>\n<!-- &#45;6712957231482967921 -->\n<g class=\"node\" id=\"node271\"><title>-6712957231482967921</title>\n<ellipse cx=\"15894.9\" cy=\"-254.887\" fill=\"none\" rx=\"46.5926\" ry=\"46.5926\" stroke=\"black\"/>\n<text font-family=\"Times,serif\" font-size=\"14.00\" text-anchor=\"middle\" x=\"15894.9\" y=\"-251.187\">getitem</text>\n</g>\n<!-- &#45;386165880979316903&#45;&gt;&#45;6712957231482967921 -->\n<g class=\"edge\" id=\"edge202\"><title>-386165880979316903-&gt;-6712957231482967921</title>\n<path d=\"M15894.9,-172.3C15894.9,-179.608 15894.9,-188.581 15894.9,-197.871\" fill=\"none\" stroke=\"black\"/>\n<polygon fill=\"black\" points=\"15891.4,-198.014 15894.9,-208.014 15898.4,-198.014 15891.4,-198.014\" stroke=\"black\"/>\n</g>\n<!-- &#45;9076647400687695829 -->\n<g class=\"node\" id=\"node135\"><title>-9076647400687695829</title>\n<ellipse cx=\"18759.9\" cy=\"-50.0456\" fill=\"none\" rx=\"50.0912\" ry=\"50.0912\" stroke=\"black\"/>\n<text font-family=\"Times,serif\" font-size=\"14.00\" text-anchor=\"middle\" x=\"18759.9\" y=\"-46.3456\">read-csv</text>\n</g>\n<!-- &#45;386165880978234378 -->\n<g class=\"node\" id=\"node136\"><title>-386165880978234378</title>\n<polygon fill=\"none\" points=\"18786.9,-172.091 18732.9,-172.091 18732.9,-136.091 18786.9,-136.091 18786.9,-172.091\" stroke=\"black\"/>\n<text font-family=\"Times,serif\" font-size=\"14.00\" text-anchor=\"middle\" x=\"18759.9\" y=\"-150.391\">65</text>\n</g>\n<!-- &#45;9076647400687695829&#45;&gt;&#45;386165880978234378 -->\n<g class=\"edge\" id=\"edge69\"><title>-9076647400687695829-&gt;-386165880978234378</title>\n<path d=\"M18759.9,-100.275C18759.9,-109.105 18759.9,-118.007 18759.9,-125.92\" fill=\"none\" stroke=\"black\"/>\n<polygon fill=\"black\" points=\"18756.4,-126 18759.9,-136 18763.4,-126 18756.4,-126\" stroke=\"black\"/>\n</g>\n<!-- &#45;7808666488274213596 -->\n<g class=\"node\" id=\"node273\"><title>-7808666488274213596</title>\n<ellipse cx=\"18759.9\" cy=\"-254.887\" fill=\"none\" rx=\"46.5926\" ry=\"46.5926\" stroke=\"black\"/>\n<text font-family=\"Times,serif\" font-size=\"14.00\" text-anchor=\"middle\" x=\"18759.9\" y=\"-251.187\">getitem</text>\n</g>\n<!-- &#45;386165880978234378&#45;&gt;&#45;7808666488274213596 -->\n<g class=\"edge\" id=\"edge204\"><title>-386165880978234378-&gt;-7808666488274213596</title>\n<path d=\"M18759.9,-172.3C18759.9,-179.608 18759.9,-188.581 18759.9,-197.871\" fill=\"none\" stroke=\"black\"/>\n<polygon fill=\"black\" points=\"18756.4,-198.014 18759.9,-208.014 18763.4,-198.014 18756.4,-198.014\" stroke=\"black\"/>\n</g>\n<!-- &#45;3228791379123362354 -->\n<g class=\"node\" id=\"node137\"><title>-3228791379123362354</title>\n<ellipse cx=\"21556.9\" cy=\"-50.0456\" fill=\"none\" rx=\"50.0912\" ry=\"50.0912\" stroke=\"black\"/>\n<text font-family=\"Times,serif\" font-size=\"14.00\" text-anchor=\"middle\" x=\"21556.9\" y=\"-46.3456\">read-csv</text>\n</g>\n<!-- &#45;386165880981481953 -->\n<g class=\"node\" id=\"node138\"><title>-386165880981481953</title>\n<polygon fill=\"none\" points=\"21583.9,-172.091 21529.9,-172.091 21529.9,-136.091 21583.9,-136.091 21583.9,-172.091\" stroke=\"black\"/>\n<text font-family=\"Times,serif\" font-size=\"14.00\" text-anchor=\"middle\" x=\"21556.9\" y=\"-150.391\">66</text>\n</g>\n<!-- &#45;3228791379123362354&#45;&gt;&#45;386165880981481953 -->\n<g class=\"edge\" id=\"edge70\"><title>-3228791379123362354-&gt;-386165880981481953</title>\n<path d=\"M21556.9,-100.275C21556.9,-109.105 21556.9,-118.007 21556.9,-125.92\" fill=\"none\" stroke=\"black\"/>\n<polygon fill=\"black\" points=\"21553.4,-126 21556.9,-136 21560.4,-126 21553.4,-126\" stroke=\"black\"/>\n</g>\n<!-- &#45;8979544393795704371 -->\n<g class=\"node\" id=\"node275\"><title>-8979544393795704371</title>\n<ellipse cx=\"21556.9\" cy=\"-254.887\" fill=\"none\" rx=\"46.5926\" ry=\"46.5926\" stroke=\"black\"/>\n<text font-family=\"Times,serif\" font-size=\"14.00\" text-anchor=\"middle\" x=\"21556.9\" y=\"-251.187\">getitem</text>\n</g>\n<!-- &#45;386165880981481953&#45;&gt;&#45;8979544393795704371 -->\n<g class=\"edge\" id=\"edge206\"><title>-386165880981481953-&gt;-8979544393795704371</title>\n<path d=\"M21556.9,-172.3C21556.9,-179.608 21556.9,-188.581 21556.9,-197.871\" fill=\"none\" stroke=\"black\"/>\n<polygon fill=\"black\" points=\"21553.4,-198.014 21556.9,-208.014 21560.4,-198.014 21553.4,-198.014\" stroke=\"black\"/>\n</g>\n<!-- 7255637515854470137 -->\n<g class=\"node\" id=\"node139\"><title>7255637515854470137</title>\n<ellipse cx=\"23033.9\" cy=\"-50.0456\" fill=\"none\" rx=\"50.0912\" ry=\"50.0912\" stroke=\"black\"/>\n<text font-family=\"Times,serif\" font-size=\"14.00\" text-anchor=\"middle\" x=\"23033.9\" y=\"-46.3456\">read-csv</text>\n</g>\n<!-- &#45;386165880980399428 -->\n<g class=\"node\" id=\"node140\"><title>-386165880980399428</title>\n<polygon fill=\"none\" points=\"23060.9,-172.091 23006.9,-172.091 23006.9,-136.091 23060.9,-136.091 23060.9,-172.091\" stroke=\"black\"/>\n<text font-family=\"Times,serif\" font-size=\"14.00\" text-anchor=\"middle\" x=\"23033.9\" y=\"-150.391\">67</text>\n</g>\n<!-- 7255637515854470137&#45;&gt;&#45;386165880980399428 -->\n<g class=\"edge\" id=\"edge71\"><title>7255637515854470137-&gt;-386165880980399428</title>\n<path d=\"M23033.9,-100.275C23033.9,-109.105 23033.9,-118.007 23033.9,-125.92\" fill=\"none\" stroke=\"black\"/>\n<polygon fill=\"black\" points=\"23030.4,-126 23033.9,-136 23037.4,-126 23030.4,-126\" stroke=\"black\"/>\n</g>\n<!-- 8383444917961716770 -->\n<g class=\"node\" id=\"node277\"><title>8383444917961716770</title>\n<ellipse cx=\"23033.9\" cy=\"-254.887\" fill=\"none\" rx=\"46.5926\" ry=\"46.5926\" stroke=\"black\"/>\n<text font-family=\"Times,serif\" font-size=\"14.00\" text-anchor=\"middle\" x=\"23033.9\" y=\"-251.187\">getitem</text>\n</g>\n<!-- &#45;386165880980399428&#45;&gt;8383444917961716770 -->\n<g class=\"edge\" id=\"edge208\"><title>-386165880980399428-&gt;8383444917961716770</title>\n<path d=\"M23033.9,-172.3C23033.9,-179.608 23033.9,-188.581 23033.9,-197.871\" fill=\"none\" stroke=\"black\"/>\n<polygon fill=\"black\" points=\"23030.4,-198.014 23033.9,-208.014 23037.4,-198.014 23030.4,-198.014\" stroke=\"black\"/>\n</g>\n<!-- &#45;5487352119874096204 -->\n<g class=\"node\" id=\"node141\"><title>-5487352119874096204</title>\n<ellipse cx=\"24662.9\" cy=\"-50.0456\" fill=\"none\" rx=\"50.0912\" ry=\"50.0912\" stroke=\"black\"/>\n<text font-family=\"Times,serif\" font-size=\"14.00\" text-anchor=\"middle\" x=\"24662.9\" y=\"-46.3456\">read-csv</text>\n</g>\n<!-- &#45;386165880983647003 -->\n<g class=\"node\" id=\"node142\"><title>-386165880983647003</title>\n<polygon fill=\"none\" points=\"24689.9,-172.091 24635.9,-172.091 24635.9,-136.091 24689.9,-136.091 24689.9,-172.091\" stroke=\"black\"/>\n<text font-family=\"Times,serif\" font-size=\"14.00\" text-anchor=\"middle\" x=\"24662.9\" y=\"-150.391\">68</text>\n</g>\n<!-- &#45;5487352119874096204&#45;&gt;&#45;386165880983647003 -->\n<g class=\"edge\" id=\"edge72\"><title>-5487352119874096204-&gt;-386165880983647003</title>\n<path d=\"M24662.9,-100.275C24662.9,-109.105 24662.9,-118.007 24662.9,-125.92\" fill=\"none\" stroke=\"black\"/>\n<polygon fill=\"black\" points=\"24659.4,-126 24662.9,-136 24666.4,-126 24659.4,-126\" stroke=\"black\"/>\n</g>\n<!-- 7619853790961731163 -->\n<g class=\"node\" id=\"node279\"><title>7619853790961731163</title>\n<ellipse cx=\"24662.9\" cy=\"-254.887\" fill=\"none\" rx=\"46.5926\" ry=\"46.5926\" stroke=\"black\"/>\n<text font-family=\"Times,serif\" font-size=\"14.00\" text-anchor=\"middle\" x=\"24662.9\" y=\"-251.187\">getitem</text>\n</g>\n<!-- &#45;386165880983647003&#45;&gt;7619853790961731163 -->\n<g class=\"edge\" id=\"edge210\"><title>-386165880983647003-&gt;7619853790961731163</title>\n<path d=\"M24662.9,-172.3C24662.9,-179.608 24662.9,-188.581 24662.9,-197.871\" fill=\"none\" stroke=\"black\"/>\n<polygon fill=\"black\" points=\"24659.4,-198.014 24662.9,-208.014 24666.4,-198.014 24659.4,-198.014\" stroke=\"black\"/>\n</g>\n<!-- &#45;3055650729338894574 -->\n<g class=\"node\" id=\"node144\"><title>-3055650729338894574</title>\n<polygon fill=\"none\" points=\"2687.94,-373.683 2633.94,-373.683 2633.94,-337.683 2687.94,-337.683 2687.94,-373.683\" stroke=\"black\"/>\n<text font-family=\"Times,serif\" font-size=\"14.00\" text-anchor=\"middle\" x=\"2660.94\" y=\"-351.983\">0</text>\n</g>\n<!-- &#45;7714869743803761585&#45;&gt;&#45;3055650729338894574 -->\n<g class=\"edge\" id=\"edge73\"><title>-7714869743803761585-&gt;-3055650729338894574</title>\n<path d=\"M2660.94,-301.814C2660.94,-310.544 2660.94,-319.42 2660.94,-327.343\" fill=\"none\" stroke=\"black\"/>\n<polygon fill=\"black\" points=\"2657.44,-327.453 2660.94,-337.453 2664.44,-327.453 2657.44,-327.453\" stroke=\"black\"/>\n</g>\n<!-- 7260592910443040305 -->\n<g class=\"node\" id=\"node281\"><title>7260592910443040305</title>\n<ellipse cx=\"2540.94\" cy=\"-502.625\" fill=\"none\" rx=\"92.8835\" ry=\"92.8835\" stroke=\"black\"/>\n<text font-family=\"Times,serif\" font-size=\"14.00\" text-anchor=\"middle\" x=\"2540.94\" y=\"-498.925\">series-sum-chunk</text>\n</g>\n<!-- &#45;3055650729338894574&#45;&gt;7260592910443040305 -->\n<g class=\"edge\" id=\"edge212\"><title>-3055650729338894574-&gt;7260592910443040305</title>\n<path d=\"M2646.7,-373.879C2636.38,-386.345 2621.61,-404.185 2606.37,-422.594\" fill=\"none\" stroke=\"black\"/>\n<polygon fill=\"black\" points=\"2603.51,-420.569 2599.82,-430.504 2608.9,-425.033 2603.51,-420.569\" stroke=\"black\"/>\n</g>\n<!-- 9123287443387473536 -->\n<g class=\"node\" id=\"node420\"><title>9123287443387473536</title>\n<ellipse cx=\"15812.9\" cy=\"-502.625\" fill=\"none\" rx=\"68.7879\" ry=\"68.7879\" stroke=\"black\"/>\n<text font-family=\"Times,serif\" font-size=\"14.00\" text-anchor=\"middle\" x=\"15812.9\" y=\"-498.925\">count-chunk</text>\n</g>\n<!-- &#45;3055650729338894574&#45;&gt;9123287443387473536 -->\n<g class=\"edge\" id=\"edge420\"><title>-3055650729338894574-&gt;9123287443387473536</title>\n<path d=\"M2688.15,-359.664C2727.06,-363.768 2800.87,-370.958 2863.94,-373.683 2953.24,-377.541 15653.9,-372.014 15734.9,-409.683 15748.1,-415.775 15759.8,-425.272 15769.9,-435.893\" fill=\"none\" stroke=\"black\"/>\n<polygon fill=\"black\" points=\"15767.3,-438.3 15776.6,-443.397 15772.5,-433.62 15767.3,-438.3\" stroke=\"black\"/>\n</g>\n<!-- &#45;3055650729339977099 -->\n<g class=\"node\" id=\"node146\"><title>-3055650729339977099</title>\n<polygon fill=\"none\" points=\"8775.94,-373.683 8721.94,-373.683 8721.94,-337.683 8775.94,-337.683 8775.94,-373.683\" stroke=\"black\"/>\n<text font-family=\"Times,serif\" font-size=\"14.00\" text-anchor=\"middle\" x=\"8748.94\" y=\"-351.983\">1</text>\n</g>\n<!-- &#45;7689054691058507292&#45;&gt;&#45;3055650729339977099 -->\n<g class=\"edge\" id=\"edge75\"><title>-7689054691058507292-&gt;-3055650729339977099</title>\n<path d=\"M8748.94,-301.814C8748.94,-310.544 8748.94,-319.42 8748.94,-327.343\" fill=\"none\" stroke=\"black\"/>\n<polygon fill=\"black\" points=\"8745.44,-327.453 8748.94,-337.453 8752.44,-327.453 8745.44,-327.453\" stroke=\"black\"/>\n</g>\n<!-- &#45;3827911402936004032 -->\n<g class=\"node\" id=\"node283\"><title>-3827911402936004032</title>\n<ellipse cx=\"8660.94\" cy=\"-502.625\" fill=\"none\" rx=\"92.8835\" ry=\"92.8835\" stroke=\"black\"/>\n<text font-family=\"Times,serif\" font-size=\"14.00\" text-anchor=\"middle\" x=\"8660.94\" y=\"-498.925\">series-sum-chunk</text>\n</g>\n<!-- &#45;3055650729339977099&#45;&gt;&#45;3827911402936004032 -->\n<g class=\"edge\" id=\"edge214\"><title>-3055650729339977099-&gt;-3827911402936004032</title>\n<path d=\"M8738.5,-373.879C8732.09,-384.445 8723.33,-398.871 8714,-414.231\" fill=\"none\" stroke=\"black\"/>\n<polygon fill=\"black\" points=\"8710.97,-412.478 8708.77,-422.843 8716.95,-416.111 8710.97,-412.478\" stroke=\"black\"/>\n</g>\n<!-- &#45;8278845344397195105 -->\n<g class=\"node\" id=\"node422\"><title>-8278845344397195105</title>\n<ellipse cx=\"20492.9\" cy=\"-502.625\" fill=\"none\" rx=\"68.7879\" ry=\"68.7879\" stroke=\"black\"/>\n<text font-family=\"Times,serif\" font-size=\"14.00\" text-anchor=\"middle\" x=\"20492.9\" y=\"-498.925\">count-chunk</text>\n</g>\n<!-- &#45;3055650729339977099&#45;&gt;&#45;8278845344397195105 -->\n<g class=\"edge\" id=\"edge422\"><title>-3055650729339977099-&gt;-8278845344397195105</title>\n<path d=\"M8776.13,-360.199C8809.81,-364.367 8868.99,-371.076 8919.94,-373.683 8999.66,-377.761 20342.6,-376.029 20414.9,-409.683 20428.1,-415.777 20439.8,-425.275 20449.9,-435.896\" fill=\"none\" stroke=\"black\"/>\n<polygon fill=\"black\" points=\"20447.3,-438.303 20456.6,-443.401 20452.5,-433.624 20447.3,-438.303\" stroke=\"black\"/>\n</g>\n<!-- &#45;3055650729341059624 -->\n<g class=\"node\" id=\"node148\"><title>-3055650729341059624</title>\n<polygon fill=\"none\" points=\"3505.94,-373.683 3451.94,-373.683 3451.94,-337.683 3505.94,-337.683 3505.94,-373.683\" stroke=\"black\"/>\n<text font-family=\"Times,serif\" font-size=\"14.00\" text-anchor=\"middle\" x=\"3478.94\" y=\"-351.983\">2</text>\n</g>\n<!-- &#45;805899308208958835&#45;&gt;&#45;3055650729341059624 -->\n<g class=\"edge\" id=\"edge77\"><title>-805899308208958835-&gt;-3055650729341059624</title>\n<path d=\"M3478.94,-301.814C3478.94,-310.544 3478.94,-319.42 3478.94,-327.343\" fill=\"none\" stroke=\"black\"/>\n<polygon fill=\"black\" points=\"3475.44,-327.453 3478.94,-337.453 3482.44,-327.453 3475.44,-327.453\" stroke=\"black\"/>\n</g>\n<!-- &#45;3652628655416399917 -->\n<g class=\"node\" id=\"node285\"><title>-3652628655416399917</title>\n<ellipse cx=\"3356.94\" cy=\"-502.625\" fill=\"none\" rx=\"92.8835\" ry=\"92.8835\" stroke=\"black\"/>\n<text font-family=\"Times,serif\" font-size=\"14.00\" text-anchor=\"middle\" x=\"3356.94\" y=\"-498.925\">series-sum-chunk</text>\n</g>\n<!-- &#45;3055650729341059624&#45;&gt;&#45;3652628655416399917 -->\n<g class=\"edge\" id=\"edge216\"><title>-3055650729341059624-&gt;-3652628655416399917</title>\n<path d=\"M3464.47,-373.879C3453.92,-386.411 3438.8,-404.373 3423.22,-422.884\" fill=\"none\" stroke=\"black\"/>\n<polygon fill=\"black\" points=\"3420.29,-420.933 3416.52,-430.837 3425.64,-425.44 3420.29,-420.933\" stroke=\"black\"/>\n</g>\n<!-- &#45;3918713258512385130 -->\n<g class=\"node\" id=\"node424\"><title>-3918713258512385130</title>\n<ellipse cx=\"16436.9\" cy=\"-502.625\" fill=\"none\" rx=\"68.7879\" ry=\"68.7879\" stroke=\"black\"/>\n<text font-family=\"Times,serif\" font-size=\"14.00\" text-anchor=\"middle\" x=\"16436.9\" y=\"-498.925\">count-chunk</text>\n</g>\n<!-- &#45;3055650729341059624&#45;&gt;&#45;3918713258512385130 -->\n<g class=\"edge\" id=\"edge424\"><title>-3055650729341059624-&gt;-3918713258512385130</title>\n<path d=\"M3506.14,-360.652C3536.32,-364.843 3586.49,-371.183 3629.94,-373.683 3718.19,-378.76 16278.8,-372.428 16358.9,-409.683 16372.1,-415.775 16383.8,-425.272 16393.9,-435.893\" fill=\"none\" stroke=\"black\"/>\n<polygon fill=\"black\" points=\"16391.3,-438.3 16400.6,-443.397 16396.5,-433.621 16391.3,-438.3\" stroke=\"black\"/>\n</g>\n<!-- &#45;3055650729342142149 -->\n<g class=\"node\" id=\"node150\"><title>-3055650729342142149</title>\n<polygon fill=\"none\" points=\"1073.94,-373.683 1019.94,-373.683 1019.94,-337.683 1073.94,-337.683 1073.94,-373.683\" stroke=\"black\"/>\n<text font-family=\"Times,serif\" font-size=\"14.00\" text-anchor=\"middle\" x=\"1046.94\" y=\"-351.983\">3</text>\n</g>\n<!-- &#45;1974835629145364510&#45;&gt;&#45;3055650729342142149 -->\n<g class=\"edge\" id=\"edge79\"><title>-1974835629145364510-&gt;-3055650729342142149</title>\n<path d=\"M1046.94,-301.814C1046.94,-310.544 1046.94,-319.42 1046.94,-327.343\" fill=\"none\" stroke=\"black\"/>\n<polygon fill=\"black\" points=\"1043.44,-327.453 1046.94,-337.453 1050.44,-327.453 1043.44,-327.453\" stroke=\"black\"/>\n</g>\n<!-- 3218897836535596746 -->\n<g class=\"node\" id=\"node287\"><title>3218897836535596746</title>\n<ellipse cx=\"908.942\" cy=\"-502.625\" fill=\"none\" rx=\"92.8835\" ry=\"92.8835\" stroke=\"black\"/>\n<text font-family=\"Times,serif\" font-size=\"14.00\" text-anchor=\"middle\" x=\"908.942\" y=\"-498.925\">series-sum-chunk</text>\n</g>\n<!-- &#45;3055650729342142149&#45;&gt;3218897836535596746 -->\n<g class=\"edge\" id=\"edge218\"><title>-3055650729342142149-&gt;3218897836535596746</title>\n<path d=\"M1030.57,-373.879C1017.66,-387.436 998.703,-407.348 979.577,-427.436\" fill=\"none\" stroke=\"black\"/>\n<polygon fill=\"black\" points=\"976.895,-425.177 972.534,-434.833 981.965,-430.004 976.895,-425.177\" stroke=\"black\"/>\n</g>\n<!-- &#45;2926465158252381355 -->\n<g class=\"node\" id=\"node426\"><title>-2926465158252381355</title>\n<ellipse cx=\"14564.9\" cy=\"-502.625\" fill=\"none\" rx=\"68.7879\" ry=\"68.7879\" stroke=\"black\"/>\n<text font-family=\"Times,serif\" font-size=\"14.00\" text-anchor=\"middle\" x=\"14564.9\" y=\"-498.925\">count-chunk</text>\n</g>\n<!-- &#45;3055650729342142149&#45;&gt;&#45;2926465158252381355 -->\n<g class=\"edge\" id=\"edge426\"><title>-3055650729342142149-&gt;-2926465158252381355</title>\n<path d=\"M1074.14,-360.653C1104.32,-364.845 1154.48,-371.185 1197.94,-373.683 1290.07,-378.978 14403.3,-370.795 14486.9,-409.683 14500.1,-415.775 14511.8,-425.271 14521.9,-435.892\" fill=\"none\" stroke=\"black\"/>\n<polygon fill=\"black\" points=\"14519.3,-438.299 14528.6,-443.396 14524.5,-433.619 14519.3,-438.299\" stroke=\"black\"/>\n</g>\n<!-- &#45;3055650729334564474 -->\n<g class=\"node\" id=\"node152\"><title>-3055650729334564474</title>\n<polygon fill=\"none\" points=\"416.942,-373.683 362.942,-373.683 362.942,-337.683 416.942,-337.683 416.942,-373.683\" stroke=\"black\"/>\n<text font-family=\"Times,serif\" font-size=\"14.00\" text-anchor=\"middle\" x=\"389.942\" y=\"-351.983\">4</text>\n</g>\n<!-- 6602454363530921499&#45;&gt;&#45;3055650729334564474 -->\n<g class=\"edge\" id=\"edge81\"><title>6602454363530921499-&gt;-3055650729334564474</title>\n<path d=\"M389.942,-301.814C389.942,-310.544 389.942,-319.42 389.942,-327.343\" fill=\"none\" stroke=\"black\"/>\n<polygon fill=\"black\" points=\"386.442,-327.453 389.942,-337.453 393.442,-327.453 386.442,-327.453\" stroke=\"black\"/>\n</g>\n<!-- 3925000390830465525 -->\n<g class=\"node\" id=\"node289\"><title>3925000390830465525</title>\n<ellipse cx=\"296.942\" cy=\"-502.625\" fill=\"none\" rx=\"92.8835\" ry=\"92.8835\" stroke=\"black\"/>\n<text font-family=\"Times,serif\" font-size=\"14.00\" text-anchor=\"middle\" x=\"296.942\" y=\"-498.925\">series-sum-chunk</text>\n</g>\n<!-- &#45;3055650729334564474&#45;&gt;3925000390830465525 -->\n<g class=\"edge\" id=\"edge220\"><title>-3055650729334564474-&gt;3925000390830465525</title>\n<path d=\"M378.908,-373.879C372.007,-384.635 362.539,-399.39 352.485,-415.06\" fill=\"none\" stroke=\"black\"/>\n<polygon fill=\"black\" points=\"349.306,-413.533 346.851,-423.84 355.197,-417.314 349.306,-413.533\" stroke=\"black\"/>\n</g>\n<!-- &#45;6551269526921215180 -->\n<g class=\"node\" id=\"node428\"><title>-6551269526921215180</title>\n<ellipse cx=\"14096.9\" cy=\"-502.625\" fill=\"none\" rx=\"68.7879\" ry=\"68.7879\" stroke=\"black\"/>\n<text font-family=\"Times,serif\" font-size=\"14.00\" text-anchor=\"middle\" x=\"14096.9\" y=\"-498.925\">count-chunk</text>\n</g>\n<!-- &#45;3055650729334564474&#45;&gt;&#45;6551269526921215180 -->\n<g class=\"edge\" id=\"edge428\"><title>-3055650729334564474-&gt;-6551269526921215180</title>\n<path d=\"M417.008,-360.129C451.178,-364.295 511.801,-371.072 563.942,-373.683 657.263,-378.356 13934.2,-370.31 14018.9,-409.683 14032.1,-415.774 14043.8,-425.271 14053.9,-435.891\" fill=\"none\" stroke=\"black\"/>\n<polygon fill=\"black\" points=\"14051.3,-438.299 14060.6,-443.396 14056.5,-433.619 14051.3,-438.299\" stroke=\"black\"/>\n</g>\n<!-- &#45;3055650729335646999 -->\n<g class=\"node\" id=\"node154\"><title>-3055650729335646999</title>\n<polygon fill=\"none\" points=\"9631.94,-373.683 9577.94,-373.683 9577.94,-337.683 9631.94,-337.683 9631.94,-373.683\" stroke=\"black\"/>\n<text font-family=\"Times,serif\" font-size=\"14.00\" text-anchor=\"middle\" x=\"9604.94\" y=\"-351.983\">5</text>\n</g>\n<!-- 5581214732206619424&#45;&gt;&#45;3055650729335646999 -->\n<g class=\"edge\" id=\"edge83\"><title>5581214732206619424-&gt;-3055650729335646999</title>\n<path d=\"M9604.94,-301.814C9604.94,-310.544 9604.94,-319.42 9604.94,-327.343\" fill=\"none\" stroke=\"black\"/>\n<polygon fill=\"black\" points=\"9601.44,-327.453 9604.94,-337.453 9608.44,-327.453 9601.44,-327.453\" stroke=\"black\"/>\n</g>\n<!-- 5367899839358753508 -->\n<g class=\"node\" id=\"node291\"><title>5367899839358753508</title>\n<ellipse cx=\"9476.94\" cy=\"-502.625\" fill=\"none\" rx=\"92.8835\" ry=\"92.8835\" stroke=\"black\"/>\n<text font-family=\"Times,serif\" font-size=\"14.00\" text-anchor=\"middle\" x=\"9476.94\" y=\"-498.925\">series-sum-chunk</text>\n</g>\n<!-- &#45;3055650729335646999&#45;&gt;5367899839358753508 -->\n<g class=\"edge\" id=\"edge222\"><title>-3055650729335646999-&gt;5367899839358753508</title>\n<path d=\"M9589.76,-373.879C9578.3,-386.854 9561.7,-405.649 9544.74,-424.849\" fill=\"none\" stroke=\"black\"/>\n<polygon fill=\"black\" points=\"9541.98,-422.691 9537.98,-432.503 9547.23,-427.324 9541.98,-422.691\" stroke=\"black\"/>\n</g>\n<!-- &#45;5520390533093332605 -->\n<g class=\"node\" id=\"node430\"><title>-5520390533093332605</title>\n<ellipse cx=\"21116.9\" cy=\"-502.625\" fill=\"none\" rx=\"68.7879\" ry=\"68.7879\" stroke=\"black\"/>\n<text font-family=\"Times,serif\" font-size=\"14.00\" text-anchor=\"middle\" x=\"21116.9\" y=\"-498.925\">count-chunk</text>\n</g>\n<!-- &#45;3055650729335646999&#45;&gt;&#45;5520390533093332605 -->\n<g class=\"edge\" id=\"edge430\"><title>-3055650729335646999-&gt;-5520390533093332605</title>\n<path d=\"M9632.21,-359.557C9672.38,-363.637 9749.85,-370.918 9815.94,-373.683 9893.81,-376.94 20968.3,-376.823 21038.9,-409.683 21052.1,-415.778 21063.8,-425.276 21073.9,-435.897\" fill=\"none\" stroke=\"black\"/>\n<polygon fill=\"black\" points=\"21071.3,-438.304 21080.6,-443.401 21076.5,-433.625 21071.3,-438.304\" stroke=\"black\"/>\n</g>\n<!-- &#45;3055650729336729524 -->\n<g class=\"node\" id=\"node156\"><title>-3055650729336729524</title>\n<polygon fill=\"none\" points=\"8982.94,-373.683 8928.94,-373.683 8928.94,-337.683 8982.94,-337.683 8982.94,-373.683\" stroke=\"black\"/>\n<text font-family=\"Times,serif\" font-size=\"14.00\" text-anchor=\"middle\" x=\"8955.94\" y=\"-351.983\">6</text>\n</g>\n<!-- &#45;6074225417275514135&#45;&gt;&#45;3055650729336729524 -->\n<g class=\"edge\" id=\"edge85\"><title>-6074225417275514135-&gt;-3055650729336729524</title>\n<path d=\"M8955.94,-301.814C8955.94,-310.544 8955.94,-319.42 8955.94,-327.343\" fill=\"none\" stroke=\"black\"/>\n<polygon fill=\"black\" points=\"8952.44,-327.453 8955.94,-337.453 8959.44,-327.453 8952.44,-327.453\" stroke=\"black\"/>\n</g>\n<!-- &#45;1585777276552025241 -->\n<g class=\"node\" id=\"node293\"><title>-1585777276552025241</title>\n<ellipse cx=\"8864.94\" cy=\"-502.625\" fill=\"none\" rx=\"92.8835\" ry=\"92.8835\" stroke=\"black\"/>\n<text font-family=\"Times,serif\" font-size=\"14.00\" text-anchor=\"middle\" x=\"8864.94\" y=\"-498.925\">series-sum-chunk</text>\n</g>\n<!-- &#45;3055650729336729524&#45;&gt;&#45;1585777276552025241 -->\n<g class=\"edge\" id=\"edge224\"><title>-3055650729336729524-&gt;-1585777276552025241</title>\n<path d=\"M8945.15,-373.879C8938.43,-384.571 8929.24,-399.217 8919.46,-414.784\" fill=\"none\" stroke=\"black\"/>\n<polygon fill=\"black\" points=\"8916.34,-413.177 8913.99,-423.508 8922.27,-416.899 8916.34,-413.177\" stroke=\"black\"/>\n</g>\n<!-- 1150741562647248170 -->\n<g class=\"node\" id=\"node432\"><title>1150741562647248170</title>\n<ellipse cx=\"20648.9\" cy=\"-502.625\" fill=\"none\" rx=\"68.7879\" ry=\"68.7879\" stroke=\"black\"/>\n<text font-family=\"Times,serif\" font-size=\"14.00\" text-anchor=\"middle\" x=\"20648.9\" y=\"-498.925\">count-chunk</text>\n</g>\n<!-- &#45;3055650729336729524&#45;&gt;1150741562647248170 -->\n<g class=\"edge\" id=\"edge432\"><title>-3055650729336729524-&gt;1150741562647248170</title>\n<path d=\"M8983.15,-360.162C9017.18,-364.327 9077.25,-371.068 9128.94,-373.683 9208.3,-377.698 20498.9,-376.184 20570.9,-409.683 20584.1,-415.778 20595.8,-425.275 20605.9,-435.896\" fill=\"none\" stroke=\"black\"/>\n<polygon fill=\"black\" points=\"20603.3,-438.303 20612.6,-443.401 20608.5,-433.624 20603.3,-438.303\" stroke=\"black\"/>\n</g>\n<!-- &#45;3055650729337812049 -->\n<g class=\"node\" id=\"node158\"><title>-3055650729337812049</title>\n<polygon fill=\"none\" points=\"7549.94,-373.683 7495.94,-373.683 7495.94,-337.683 7549.94,-337.683 7549.94,-373.683\" stroke=\"black\"/>\n<text font-family=\"Times,serif\" font-size=\"14.00\" text-anchor=\"middle\" x=\"7522.94\" y=\"-351.983\">7</text>\n</g>\n<!-- &#45;7199886053085025410&#45;&gt;&#45;3055650729337812049 -->\n<g class=\"edge\" id=\"edge87\"><title>-7199886053085025410-&gt;-3055650729337812049</title>\n<path d=\"M7522.94,-301.814C7522.94,-310.544 7522.94,-319.42 7522.94,-327.343\" fill=\"none\" stroke=\"black\"/>\n<polygon fill=\"black\" points=\"7519.44,-327.453 7522.94,-337.453 7526.44,-327.453 7519.44,-327.453\" stroke=\"black\"/>\n</g>\n<!-- 5969112922764261422 -->\n<g class=\"node\" id=\"node295\"><title>5969112922764261422</title>\n<ellipse cx=\"7436.94\" cy=\"-502.625\" fill=\"none\" rx=\"92.8835\" ry=\"92.8835\" stroke=\"black\"/>\n<text font-family=\"Times,serif\" font-size=\"14.00\" text-anchor=\"middle\" x=\"7436.94\" y=\"-498.925\">series-sum-chunk</text>\n</g>\n<!-- &#45;3055650729337812049&#45;&gt;5969112922764261422 -->\n<g class=\"edge\" id=\"edge226\"><title>-3055650729337812049-&gt;5969112922764261422</title>\n<path d=\"M7512.74,-373.879C7506.6,-384.222 7498.27,-398.263 7489.37,-413.259\" fill=\"none\" stroke=\"black\"/>\n<polygon fill=\"black\" points=\"7486.17,-411.792 7484.08,-422.178 7492.19,-415.364 7486.17,-411.792\" stroke=\"black\"/>\n</g>\n<!-- 2190629359818510345 -->\n<g class=\"node\" id=\"node434\"><title>2190629359818510345</title>\n<ellipse cx=\"19556.9\" cy=\"-502.625\" fill=\"none\" rx=\"68.7879\" ry=\"68.7879\" stroke=\"black\"/>\n<text font-family=\"Times,serif\" font-size=\"14.00\" text-anchor=\"middle\" x=\"19556.9\" y=\"-498.925\">count-chunk</text>\n</g>\n<!-- &#45;3055650729337812049&#45;&gt;2190629359818510345 -->\n<g class=\"edge\" id=\"edge434\"><title>-3055650729337812049-&gt;2190629359818510345</title>\n<path d=\"M7550.23,-360.273C7583.42,-364.447 7641.17,-371.095 7690.94,-373.683 7772.69,-377.934 19404.7,-375.174 19478.9,-409.683 19492.1,-415.777 19503.8,-425.274 19513.9,-435.895\" fill=\"none\" stroke=\"black\"/>\n<polygon fill=\"black\" points=\"19511.3,-438.303 19520.6,-443.4 19516.5,-433.623 19511.3,-438.303\" stroke=\"black\"/>\n</g>\n<!-- &#45;3055650729330234374 -->\n<g class=\"node\" id=\"node160\"><title>-3055650729330234374</title>\n<polygon fill=\"none\" points=\"1910.94,-373.683 1856.94,-373.683 1856.94,-337.683 1910.94,-337.683 1910.94,-373.683\" stroke=\"black\"/>\n<text font-family=\"Times,serif\" font-size=\"14.00\" text-anchor=\"middle\" x=\"1883.94\" y=\"-351.983\">8</text>\n</g>\n<!-- 1890063190979847399&#45;&gt;&#45;3055650729330234374 -->\n<g class=\"edge\" id=\"edge89\"><title>1890063190979847399-&gt;-3055650729330234374</title>\n<path d=\"M1883.94,-301.814C1883.94,-310.544 1883.94,-319.42 1883.94,-327.343\" fill=\"none\" stroke=\"black\"/>\n<polygon fill=\"black\" points=\"1880.44,-327.453 1883.94,-337.453 1887.44,-327.453 1880.44,-327.453\" stroke=\"black\"/>\n</g>\n<!-- &#45;5791121210666861111 -->\n<g class=\"node\" id=\"node297\"><title>-5791121210666861111</title>\n<ellipse cx=\"1724.94\" cy=\"-502.625\" fill=\"none\" rx=\"92.8835\" ry=\"92.8835\" stroke=\"black\"/>\n<text font-family=\"Times,serif\" font-size=\"14.00\" text-anchor=\"middle\" x=\"1724.94\" y=\"-498.925\">series-sum-chunk</text>\n</g>\n<!-- &#45;3055650729330234374&#45;&gt;&#45;5791121210666861111 -->\n<g class=\"edge\" id=\"edge228\"><title>-3055650729330234374-&gt;-5791121210666861111</title>\n<path d=\"M1865.08,-373.879C1849.04,-388.494 1824.91,-410.494 1801.17,-432.139\" fill=\"none\" stroke=\"black\"/>\n<polygon fill=\"black\" points=\"1798.51,-429.821 1793.48,-439.144 1803.23,-434.994 1798.51,-429.821\" stroke=\"black\"/>\n</g>\n<!-- &#45;1397875392469441080 -->\n<g class=\"node\" id=\"node436\"><title>-1397875392469441080</title>\n<ellipse cx=\"15188.9\" cy=\"-502.625\" fill=\"none\" rx=\"68.7879\" ry=\"68.7879\" stroke=\"black\"/>\n<text font-family=\"Times,serif\" font-size=\"14.00\" text-anchor=\"middle\" x=\"15188.9\" y=\"-498.925\">count-chunk</text>\n</g>\n<!-- &#45;3055650729330234374&#45;&gt;&#45;1397875392469441080 -->\n<g class=\"edge\" id=\"edge436\"><title>-3055650729330234374-&gt;-1397875392469441080</title>\n<path d=\"M1911.1,-360.388C1943.23,-364.571 1998.36,-371.127 2045.94,-373.683 2136.54,-378.549 15028.7,-371.448 15110.9,-409.683 15124.1,-415.775 15135.8,-425.272 15145.9,-435.892\" fill=\"none\" stroke=\"black\"/>\n<polygon fill=\"black\" points=\"15143.3,-438.299 15152.6,-443.397 15148.5,-433.62 15143.3,-438.299\" stroke=\"black\"/>\n</g>\n<!-- &#45;3055650729331316899 -->\n<g class=\"node\" id=\"node162\"><title>-3055650729331316899</title>\n<polygon fill=\"none\" points=\"3692.94,-373.683 3638.94,-373.683 3638.94,-337.683 3692.94,-337.683 3692.94,-373.683\" stroke=\"black\"/>\n<text font-family=\"Times,serif\" font-size=\"14.00\" text-anchor=\"middle\" x=\"3665.94\" y=\"-351.983\">9</text>\n</g>\n<!-- 798497948868558524&#45;&gt;&#45;3055650729331316899 -->\n<g class=\"edge\" id=\"edge91\"><title>798497948868558524-&gt;-3055650729331316899</title>\n<path d=\"M3665.94,-301.814C3665.94,-310.544 3665.94,-319.42 3665.94,-327.343\" fill=\"none\" stroke=\"black\"/>\n<polygon fill=\"black\" points=\"3662.44,-327.453 3665.94,-337.453 3669.44,-327.453 3662.44,-327.453\" stroke=\"black\"/>\n</g>\n<!-- 4851844196003051480 -->\n<g class=\"node\" id=\"node299\"><title>4851844196003051480</title>\n<ellipse cx=\"3560.94\" cy=\"-502.625\" fill=\"none\" rx=\"92.8835\" ry=\"92.8835\" stroke=\"black\"/>\n<text font-family=\"Times,serif\" font-size=\"14.00\" text-anchor=\"middle\" x=\"3560.94\" y=\"-498.925\">series-sum-chunk</text>\n</g>\n<!-- &#45;3055650729331316899&#45;&gt;4851844196003051480 -->\n<g class=\"edge\" id=\"edge230\"><title>-3055650729331316899-&gt;4851844196003051480</title>\n<path d=\"M3653.48,-373.879C3645.13,-385.414 3633.44,-401.549 3621.18,-418.479\" fill=\"none\" stroke=\"black\"/>\n<polygon fill=\"black\" points=\"3618.15,-416.685 3615.12,-426.837 3623.82,-420.792 3618.15,-416.685\" stroke=\"black\"/>\n</g>\n<!-- &#45;440495074146193305 -->\n<g class=\"node\" id=\"node438\"><title>-440495074146193305</title>\n<ellipse cx=\"16592.9\" cy=\"-502.625\" fill=\"none\" rx=\"68.7879\" ry=\"68.7879\" stroke=\"black\"/>\n<text font-family=\"Times,serif\" font-size=\"14.00\" text-anchor=\"middle\" x=\"16592.9\" y=\"-498.925\">count-chunk</text>\n</g>\n<!-- &#45;3055650729331316899&#45;&gt;&#45;440495074146193305 -->\n<g class=\"edge\" id=\"edge438\"><title>-3055650729331316899-&gt;-440495074146193305</title>\n<path d=\"M3693.14,-359.911C3729.5,-364.052 3795.96,-371.017 3852.94,-373.683 3940.78,-377.792 16435.2,-372.624 16514.9,-409.683 16528.1,-415.776 16539.8,-425.272 16549.9,-435.893\" fill=\"none\" stroke=\"black\"/>\n<polygon fill=\"black\" points=\"16547.3,-438.3 16556.6,-443.398 16552.5,-433.621 16547.3,-438.3\" stroke=\"black\"/>\n</g>\n<!-- &#45;3055650729332399424 -->\n<g class=\"node\" id=\"node164\"><title>-3055650729332399424</title>\n<polygon fill=\"none\" points=\"6185.94,-373.683 6131.94,-373.683 6131.94,-337.683 6185.94,-337.683 6185.94,-373.683\" stroke=\"black\"/>\n<text font-family=\"Times,serif\" font-size=\"14.00\" text-anchor=\"middle\" x=\"6158.94\" y=\"-351.983\">10</text>\n</g>\n<!-- 8848803428297198949&#45;&gt;&#45;3055650729332399424 -->\n<g class=\"edge\" id=\"edge93\"><title>8848803428297198949-&gt;-3055650729332399424</title>\n<path d=\"M6158.94,-301.814C6158.94,-310.544 6158.94,-319.42 6158.94,-327.343\" fill=\"none\" stroke=\"black\"/>\n<polygon fill=\"black\" points=\"6155.44,-327.453 6158.94,-337.453 6162.44,-327.453 6155.44,-327.453\" stroke=\"black\"/>\n</g>\n<!-- 4801515187450625387 -->\n<g class=\"node\" id=\"node301\"><title>4801515187450625387</title>\n<ellipse cx=\"6008.94\" cy=\"-502.625\" fill=\"none\" rx=\"92.8835\" ry=\"92.8835\" stroke=\"black\"/>\n<text font-family=\"Times,serif\" font-size=\"14.00\" text-anchor=\"middle\" x=\"6008.94\" y=\"-498.925\">series-sum-chunk</text>\n</g>\n<!-- &#45;3055650729332399424&#45;&gt;4801515187450625387 -->\n<g class=\"edge\" id=\"edge232\"><title>-3055650729332399424-&gt;4801515187450625387</title>\n<path d=\"M6141.15,-373.879C6126.43,-388.094 6104.49,-409.295 6082.69,-430.361\" fill=\"none\" stroke=\"black\"/>\n<polygon fill=\"black\" points=\"6080.07,-428.023 6075.32,-437.489 6084.94,-433.057 6080.07,-428.023\" stroke=\"black\"/>\n</g>\n<!-- 3959502115354933470 -->\n<g class=\"node\" id=\"node440\"><title>3959502115354933470</title>\n<ellipse cx=\"18464.9\" cy=\"-502.625\" fill=\"none\" rx=\"68.7879\" ry=\"68.7879\" stroke=\"black\"/>\n<text font-family=\"Times,serif\" font-size=\"14.00\" text-anchor=\"middle\" x=\"18464.9\" y=\"-498.925\">count-chunk</text>\n</g>\n<!-- &#45;3055650729332399424&#45;&gt;3959502115354933470 -->\n<g class=\"edge\" id=\"edge440\"><title>-3055650729332399424-&gt;3959502115354933470</title>\n<path d=\"M6185.99,-360.461C6217.4,-364.646 6270.8,-371.139 6316.94,-373.683 6400.63,-378.297 18310.9,-374.351 18386.9,-409.683 18400.1,-415.776 18411.8,-425.274 18421.9,-435.895\" fill=\"none\" stroke=\"black\"/>\n<polygon fill=\"black\" points=\"18419.3,-438.302 18428.6,-443.399 18424.5,-433.622 18419.3,-438.302\" stroke=\"black\"/>\n</g>\n<!-- &#45;3055650729333481949 -->\n<g class=\"node\" id=\"node166\"><title>-3055650729333481949</title>\n<polygon fill=\"none\" points=\"3122.94,-373.683 3068.94,-373.683 3068.94,-337.683 3122.94,-337.683 3122.94,-373.683\" stroke=\"black\"/>\n<text font-family=\"Times,serif\" font-size=\"14.00\" text-anchor=\"middle\" x=\"3095.94\" y=\"-351.983\">11</text>\n</g>\n<!-- 7704501581946124474&#45;&gt;&#45;3055650729333481949 -->\n<g class=\"edge\" id=\"edge95\"><title>7704501581946124474-&gt;-3055650729333481949</title>\n<path d=\"M3095.94,-301.814C3095.94,-310.544 3095.94,-319.42 3095.94,-327.343\" fill=\"none\" stroke=\"black\"/>\n<polygon fill=\"black\" points=\"3092.44,-327.453 3095.94,-337.453 3099.44,-327.453 3092.44,-327.453\" stroke=\"black\"/>\n</g>\n<!-- &#45;4476156553389005214 -->\n<g class=\"node\" id=\"node303\"><title>-4476156553389005214</title>\n<ellipse cx=\"2948.94\" cy=\"-502.625\" fill=\"none\" rx=\"92.8835\" ry=\"92.8835\" stroke=\"black\"/>\n<text font-family=\"Times,serif\" font-size=\"14.00\" text-anchor=\"middle\" x=\"2948.94\" y=\"-498.925\">series-sum-chunk</text>\n</g>\n<!-- &#45;3055650729333481949&#45;&gt;&#45;4476156553389005214 -->\n<g class=\"edge\" id=\"edge234\"><title>-3055650729333481949-&gt;-4476156553389005214</title>\n<path d=\"M3078.5,-373.879C3064.22,-387.959 3042.99,-408.894 3021.83,-429.762\" fill=\"none\" stroke=\"black\"/>\n<polygon fill=\"black\" points=\"3019.32,-427.312 3014.66,-436.826 3024.24,-432.297 3019.32,-427.312\" stroke=\"black\"/>\n</g>\n<!-- 6624598135899081245 -->\n<g class=\"node\" id=\"node442\"><title>6624598135899081245</title>\n<ellipse cx=\"16124.9\" cy=\"-502.625\" fill=\"none\" rx=\"68.7879\" ry=\"68.7879\" stroke=\"black\"/>\n<text font-family=\"Times,serif\" font-size=\"14.00\" text-anchor=\"middle\" x=\"16124.9\" y=\"-498.925\">count-chunk</text>\n</g>\n<!-- &#45;3055650729333481949&#45;&gt;6624598135899081245 -->\n<g class=\"edge\" id=\"edge442\"><title>-3055650729333481949-&gt;6624598135899081245</title>\n<path d=\"M3123.16,-360.462C3154.77,-364.648 3208.51,-371.142 3254.94,-373.683 3343.64,-378.536 15966.4,-372.245 16046.9,-409.683 16060.1,-415.775 16071.8,-425.272 16081.9,-435.893\" fill=\"none\" stroke=\"black\"/>\n<polygon fill=\"black\" points=\"16079.3,-438.3 16088.6,-443.397 16084.5,-433.62 16079.3,-438.3\" stroke=\"black\"/>\n</g>\n<!-- &#45;3055650729325904274 -->\n<g class=\"node\" id=\"node168\"><title>-3055650729325904274</title>\n<polygon fill=\"none\" points=\"5788.94,-373.683 5734.94,-373.683 5734.94,-337.683 5788.94,-337.683 5788.94,-373.683\" stroke=\"black\"/>\n<text font-family=\"Times,serif\" font-size=\"14.00\" text-anchor=\"middle\" x=\"5761.94\" y=\"-351.983\">12</text>\n</g>\n<!-- &#45;2140616593549895501&#45;&gt;&#45;3055650729325904274 -->\n<g class=\"edge\" id=\"edge97\"><title>-2140616593549895501-&gt;-3055650729325904274</title>\n<path d=\"M5761.94,-301.814C5761.94,-310.544 5761.94,-319.42 5761.94,-327.343\" fill=\"none\" stroke=\"black\"/>\n<polygon fill=\"black\" points=\"5758.44,-327.453 5761.94,-337.453 5765.44,-327.453 5758.44,-327.453\" stroke=\"black\"/>\n</g>\n<!-- &#45;2549603850137066035 -->\n<g class=\"node\" id=\"node305\"><title>-2549603850137066035</title>\n<ellipse cx=\"5600.94\" cy=\"-502.625\" fill=\"none\" rx=\"92.8835\" ry=\"92.8835\" stroke=\"black\"/>\n<text font-family=\"Times,serif\" font-size=\"14.00\" text-anchor=\"middle\" x=\"5600.94\" y=\"-498.925\">series-sum-chunk</text>\n</g>\n<!-- &#45;3055650729325904274&#45;&gt;&#45;2549603850137066035 -->\n<g class=\"edge\" id=\"edge236\"><title>-3055650729325904274-&gt;-2549603850137066035</title>\n<path d=\"M5742.8,-373.86C5731.25,-384.229 5716.25,-397.71 5702.94,-409.683 5694.58,-417.207 5685.84,-425.08 5677.14,-432.918\" fill=\"none\" stroke=\"black\"/>\n<polygon fill=\"black\" points=\"5674.6,-430.494 5669.51,-439.788 5679.28,-435.695 5674.6,-430.494\" stroke=\"black\"/>\n</g>\n<!-- 9194487923200688252 -->\n<g class=\"node\" id=\"node444\"><title>9194487923200688252</title>\n<ellipse cx=\"18152.9\" cy=\"-502.625\" fill=\"none\" rx=\"68.7879\" ry=\"68.7879\" stroke=\"black\"/>\n<text font-family=\"Times,serif\" font-size=\"14.00\" text-anchor=\"middle\" x=\"18152.9\" y=\"-498.925\">count-chunk</text>\n</g>\n<!-- &#45;3055650729325904274&#45;&gt;9194487923200688252 -->\n<g class=\"edge\" id=\"edge444\"><title>-3055650729325904274-&gt;9194487923200688252</title>\n<path d=\"M5788.99,-360.349C5821.27,-364.528 5876.93,-371.114 5924.94,-373.683 6009.2,-378.19 17998.4,-374.118 18074.9,-409.683 18088.1,-415.776 18099.8,-425.273 18109.9,-435.894\" fill=\"none\" stroke=\"black\"/>\n<polygon fill=\"black\" points=\"18107.3,-438.302 18116.6,-443.399 18112.5,-433.622 18107.3,-438.302\" stroke=\"black\"/>\n</g>\n<!-- &#45;3055650729326986799 -->\n<g class=\"node\" id=\"node170\"><title>-3055650729326986799</title>\n<polygon fill=\"none\" points=\"8161.94,-373.683 8107.94,-373.683 8107.94,-337.683 8161.94,-337.683 8161.94,-373.683\" stroke=\"black\"/>\n<text font-family=\"Times,serif\" font-size=\"14.00\" text-anchor=\"middle\" x=\"8134.94\" y=\"-351.983\">13</text>\n</g>\n<!-- &#45;3317038175955168776&#45;&gt;&#45;3055650729326986799 -->\n<g class=\"edge\" id=\"edge99\"><title>-3317038175955168776-&gt;-3055650729326986799</title>\n<path d=\"M8134.94,-301.814C8134.94,-310.544 8134.94,-319.42 8134.94,-327.343\" fill=\"none\" stroke=\"black\"/>\n<polygon fill=\"black\" points=\"8131.44,-327.453 8134.94,-337.453 8138.44,-327.453 8131.44,-327.453\" stroke=\"black\"/>\n</g>\n<!-- &#45;2302771749629913220 -->\n<g class=\"node\" id=\"node307\"><title>-2302771749629913220</title>\n<ellipse cx=\"8048.94\" cy=\"-502.625\" fill=\"none\" rx=\"92.8835\" ry=\"92.8835\" stroke=\"black\"/>\n<text font-family=\"Times,serif\" font-size=\"14.00\" text-anchor=\"middle\" x=\"8048.94\" y=\"-498.925\">series-sum-chunk</text>\n</g>\n<!-- &#45;3055650729326986799&#45;&gt;&#45;2302771749629913220 -->\n<g class=\"edge\" id=\"edge238\"><title>-3055650729326986799-&gt;-2302771749629913220</title>\n<path d=\"M8124.74,-373.879C8118.6,-384.222 8110.27,-398.263 8101.37,-413.259\" fill=\"none\" stroke=\"black\"/>\n<polygon fill=\"black\" points=\"8098.17,-411.792 8096.08,-422.178 8104.19,-415.364 8098.17,-411.792\" stroke=\"black\"/>\n</g>\n<!-- 2914728166759723595 -->\n<g class=\"node\" id=\"node446\"><title>2914728166759723595</title>\n<ellipse cx=\"20024.9\" cy=\"-502.625\" fill=\"none\" rx=\"68.7879\" ry=\"68.7879\" stroke=\"black\"/>\n<text font-family=\"Times,serif\" font-size=\"14.00\" text-anchor=\"middle\" x=\"20024.9\" y=\"-498.925\">count-chunk</text>\n</g>\n<!-- &#45;3055650729326986799&#45;&gt;2914728166759723595 -->\n<g class=\"edge\" id=\"edge446\"><title>-3055650729326986799-&gt;2914728166759723595</title>\n<path d=\"M8162.23,-360.273C8195.42,-364.447 8253.17,-371.094 8302.94,-373.683 8383.69,-377.883 19873.6,-375.594 19946.9,-409.683 19960.1,-415.777 19971.8,-425.275 19981.9,-435.896\" fill=\"none\" stroke=\"black\"/>\n<polygon fill=\"black\" points=\"19979.3,-438.303 19988.6,-443.4 19984.5,-433.623 19979.3,-438.303\" stroke=\"black\"/>\n</g>\n<!-- &#45;3055650729328069324 -->\n<g class=\"node\" id=\"node172\"><title>-3055650729328069324</title>\n<polygon fill=\"none\" points=\"6572.94,-373.683 6518.94,-373.683 6518.94,-337.683 6572.94,-337.683 6572.94,-373.683\" stroke=\"black\"/>\n<text font-family=\"Times,serif\" font-size=\"14.00\" text-anchor=\"middle\" x=\"6545.94\" y=\"-351.983\">14</text>\n</g>\n<!-- 4664165233126037249&#45;&gt;&#45;3055650729328069324 -->\n<g class=\"edge\" id=\"edge101\"><title>4664165233126037249-&gt;-3055650729328069324</title>\n<path d=\"M6545.94,-301.814C6545.94,-310.544 6545.94,-319.42 6545.94,-327.343\" fill=\"none\" stroke=\"black\"/>\n<polygon fill=\"black\" points=\"6542.44,-327.453 6545.94,-337.453 6549.44,-327.453 6542.44,-327.453\" stroke=\"black\"/>\n</g>\n<!-- &#45;3828406490730700289 -->\n<g class=\"node\" id=\"node309\"><title>-3828406490730700289</title>\n<ellipse cx=\"6416.94\" cy=\"-502.625\" fill=\"none\" rx=\"92.8835\" ry=\"92.8835\" stroke=\"black\"/>\n<text font-family=\"Times,serif\" font-size=\"14.00\" text-anchor=\"middle\" x=\"6416.94\" y=\"-498.925\">series-sum-chunk</text>\n</g>\n<!-- &#45;3055650729328069324&#45;&gt;&#45;3828406490730700289 -->\n<g class=\"edge\" id=\"edge240\"><title>-3055650729328069324-&gt;-3828406490730700289</title>\n<path d=\"M6530.64,-373.879C6519.09,-386.854 6502.36,-405.649 6485.27,-424.849\" fill=\"none\" stroke=\"black\"/>\n<polygon fill=\"black\" points=\"6482.49,-422.706 6478.46,-432.503 6487.72,-427.36 6482.49,-422.706\" stroke=\"black\"/>\n</g>\n<!-- 8908653471342910770 -->\n<g class=\"node\" id=\"node448\"><title>8908653471342910770</title>\n<ellipse cx=\"18776.9\" cy=\"-502.625\" fill=\"none\" rx=\"68.7879\" ry=\"68.7879\" stroke=\"black\"/>\n<text font-family=\"Times,serif\" font-size=\"14.00\" text-anchor=\"middle\" x=\"18776.9\" y=\"-498.925\">count-chunk</text>\n</g>\n<!-- &#45;3055650729328069324&#45;&gt;8908653471342910770 -->\n<g class=\"edge\" id=\"edge448\"><title>-3055650729328069324-&gt;8908653471342910770</title>\n<path d=\"M6572.96,-360.728C6602.38,-364.918 6650.88,-371.196 6692.94,-373.683 6776.17,-378.605 18623.3,-374.538 18698.9,-409.683 18712.1,-415.777 18723.8,-425.274 18733.9,-435.895\" fill=\"none\" stroke=\"black\"/>\n<polygon fill=\"black\" points=\"18731.3,-438.302 18740.6,-443.399 18736.5,-433.622 18731.3,-438.302\" stroke=\"black\"/>\n</g>\n<!-- &#45;3055650729329151849 -->\n<g class=\"node\" id=\"node174\"><title>-3055650729329151849</title>\n<polygon fill=\"none\" points=\"1260.94,-373.683 1206.94,-373.683 1206.94,-337.683 1260.94,-337.683 1260.94,-373.683\" stroke=\"black\"/>\n<text font-family=\"Times,serif\" font-size=\"14.00\" text-anchor=\"middle\" x=\"1233.94\" y=\"-351.983\">15</text>\n</g>\n<!-- 3637907665364773974&#45;&gt;&#45;3055650729329151849 -->\n<g class=\"edge\" id=\"edge103\"><title>3637907665364773974-&gt;-3055650729329151849</title>\n<path d=\"M1233.94,-301.814C1233.94,-310.544 1233.94,-319.42 1233.94,-327.343\" fill=\"none\" stroke=\"black\"/>\n<polygon fill=\"black\" points=\"1230.44,-327.453 1233.94,-337.453 1237.44,-327.453 1230.44,-327.453\" stroke=\"black\"/>\n</g>\n<!-- &#45;5897261882512781626 -->\n<g class=\"node\" id=\"node311\"><title>-5897261882512781626</title>\n<ellipse cx=\"1112.94\" cy=\"-502.625\" fill=\"none\" rx=\"92.8835\" ry=\"92.8835\" stroke=\"black\"/>\n<text font-family=\"Times,serif\" font-size=\"14.00\" text-anchor=\"middle\" x=\"1112.94\" y=\"-498.925\">series-sum-chunk</text>\n</g>\n<!-- &#45;3055650729329151849&#45;&gt;&#45;5897261882512781626 -->\n<g class=\"edge\" id=\"edge242\"><title>-3055650729329151849-&gt;-5897261882512781626</title>\n<path d=\"M1219.59,-373.879C1209.12,-386.411 1194.13,-404.373 1178.68,-422.884\" fill=\"none\" stroke=\"black\"/>\n<polygon fill=\"black\" points=\"1175.76,-420.918 1172.04,-430.837 1181.13,-425.404 1175.76,-420.918\" stroke=\"black\"/>\n</g>\n<!-- &#45;9049958838843629871 -->\n<g class=\"node\" id=\"node450\"><title>-9049958838843629871</title>\n<ellipse cx=\"14720.9\" cy=\"-502.625\" fill=\"none\" rx=\"68.7879\" ry=\"68.7879\" stroke=\"black\"/>\n<text font-family=\"Times,serif\" font-size=\"14.00\" text-anchor=\"middle\" x=\"14720.9\" y=\"-498.925\">count-chunk</text>\n</g>\n<!-- &#45;3055650729329151849&#45;&gt;&#45;9049958838843629871 -->\n<g class=\"edge\" id=\"edge450\"><title>-3055650729329151849-&gt;-9049958838843629871</title>\n<path d=\"M1261.14,-360.653C1291.32,-364.845 1341.49,-371.185 1384.94,-373.683 1476.86,-378.966 14559.4,-370.885 14642.9,-409.683 14656.1,-415.775 14667.8,-425.271 14677.9,-435.892\" fill=\"none\" stroke=\"black\"/>\n<polygon fill=\"black\" points=\"14675.3,-438.299 14684.6,-443.396 14680.5,-433.619 14675.3,-438.299\" stroke=\"black\"/>\n</g>\n<!-- &#45;3055650729321574174 -->\n<g class=\"node\" id=\"node176\"><title>-3055650729321574174</title>\n<polygon fill=\"none\" points=\"7345.94,-373.683 7291.94,-373.683 7291.94,-337.683 7345.94,-337.683 7345.94,-373.683\" stroke=\"black\"/>\n<text font-family=\"Times,serif\" font-size=\"14.00\" text-anchor=\"middle\" x=\"7318.94\" y=\"-351.983\">16</text>\n</g>\n<!-- &#45;6855513276067764801&#45;&gt;&#45;3055650729321574174 -->\n<g class=\"edge\" id=\"edge105\"><title>-6855513276067764801-&gt;-3055650729321574174</title>\n<path d=\"M7318.94,-301.814C7318.94,-310.544 7318.94,-319.42 7318.94,-327.343\" fill=\"none\" stroke=\"black\"/>\n<polygon fill=\"black\" points=\"7315.44,-327.453 7318.94,-337.453 7322.44,-327.453 7315.44,-327.453\" stroke=\"black\"/>\n</g>\n<!-- 7810430883414807041 -->\n<g class=\"node\" id=\"node313\"><title>7810430883414807041</title>\n<ellipse cx=\"7232.94\" cy=\"-502.625\" fill=\"none\" rx=\"92.8835\" ry=\"92.8835\" stroke=\"black\"/>\n<text font-family=\"Times,serif\" font-size=\"14.00\" text-anchor=\"middle\" x=\"7232.94\" y=\"-498.925\">series-sum-chunk</text>\n</g>\n<!-- &#45;3055650729321574174&#45;&gt;7810430883414807041 -->\n<g class=\"edge\" id=\"edge244\"><title>-3055650729321574174-&gt;7810430883414807041</title>\n<path d=\"M7308.74,-373.879C7302.6,-384.222 7294.27,-398.263 7285.37,-413.259\" fill=\"none\" stroke=\"black\"/>\n<polygon fill=\"black\" points=\"7282.17,-411.792 7280.08,-422.178 7288.19,-415.364 7282.17,-411.792\" stroke=\"black\"/>\n</g>\n<!-- &#45;4166172290574193264 -->\n<g class=\"node\" id=\"node452\"><title>-4166172290574193264</title>\n<ellipse cx=\"19400.9\" cy=\"-502.625\" fill=\"none\" rx=\"68.7879\" ry=\"68.7879\" stroke=\"black\"/>\n<text font-family=\"Times,serif\" font-size=\"14.00\" text-anchor=\"middle\" x=\"19400.9\" y=\"-498.925\">count-chunk</text>\n</g>\n<!-- &#45;3055650729321574174&#45;&gt;&#45;4166172290574193264 -->\n<g class=\"edge\" id=\"edge452\"><title>-3055650729321574174-&gt;-4166172290574193264</title>\n<path d=\"M7346.23,-360.273C7379.42,-364.448 7437.17,-371.095 7486.94,-373.683 7569.03,-377.95 19248.4,-375.034 19322.9,-409.683 19336.1,-415.777 19347.8,-425.274 19357.9,-435.895\" fill=\"none\" stroke=\"black\"/>\n<polygon fill=\"black\" points=\"19355.3,-438.302 19364.6,-443.4 19360.5,-433.623 19355.3,-438.302\" stroke=\"black\"/>\n</g>\n<!-- &#45;3055650729322656699 -->\n<g class=\"node\" id=\"node178\"><title>-3055650729322656699</title>\n<polygon fill=\"none\" points=\"626.942,-373.683 572.942,-373.683 572.942,-337.683 626.942,-337.683 626.942,-373.683\" stroke=\"black\"/>\n<text font-family=\"Times,serif\" font-size=\"14.00\" text-anchor=\"middle\" x=\"599.942\" y=\"-351.983\">17</text>\n</g>\n<!-- &#45;6688244142353817708&#45;&gt;&#45;3055650729322656699 -->\n<g class=\"edge\" id=\"edge107\"><title>-6688244142353817708-&gt;-3055650729322656699</title>\n<path d=\"M599.942,-301.814C599.942,-310.544 599.942,-319.42 599.942,-327.343\" fill=\"none\" stroke=\"black\"/>\n<polygon fill=\"black\" points=\"596.442,-327.453 599.942,-337.453 603.442,-327.453 596.442,-327.453\" stroke=\"black\"/>\n</g>\n<!-- 7924254766501987856 -->\n<g class=\"node\" id=\"node315\"><title>7924254766501987856</title>\n<ellipse cx=\"500.942\" cy=\"-502.625\" fill=\"none\" rx=\"92.8835\" ry=\"92.8835\" stroke=\"black\"/>\n<text font-family=\"Times,serif\" font-size=\"14.00\" text-anchor=\"middle\" x=\"500.942\" y=\"-498.925\">series-sum-chunk</text>\n</g>\n<!-- &#45;3055650729322656699&#45;&gt;7924254766501987856 -->\n<g class=\"edge\" id=\"edge246\"><title>-3055650729322656699-&gt;7924254766501987856</title>\n<path d=\"M588.196,-373.879C580.564,-385.054 569.982,-400.546 558.815,-416.895\" fill=\"none\" stroke=\"black\"/>\n<polygon fill=\"black\" points=\"555.685,-415.272 552.934,-425.504 561.465,-419.221 555.685,-415.272\" stroke=\"black\"/>\n</g>\n<!-- 7881897119024899695 -->\n<g class=\"node\" id=\"node454\"><title>7881897119024899695</title>\n<ellipse cx=\"14252.9\" cy=\"-502.625\" fill=\"none\" rx=\"68.7879\" ry=\"68.7879\" stroke=\"black\"/>\n<text font-family=\"Times,serif\" font-size=\"14.00\" text-anchor=\"middle\" x=\"14252.9\" y=\"-498.925\">count-chunk</text>\n</g>\n<!-- &#45;3055650729322656699&#45;&gt;7881897119024899695 -->\n<g class=\"edge\" id=\"edge454\"><title>-3055650729322656699-&gt;7881897119024899695</title>\n<path d=\"M627.178,-360.02C662.551,-364.175 726.245,-371.046 780.942,-373.683 873.848,-378.161 14090.6,-370.488 14174.9,-409.683 14188.1,-415.775 14199.8,-425.271 14209.9,-435.891\" fill=\"none\" stroke=\"black\"/>\n<polygon fill=\"black\" points=\"14207.3,-438.299 14216.6,-443.396 14212.5,-433.619 14207.3,-438.299\" stroke=\"black\"/>\n</g>\n<!-- &#45;3055650729323739224 -->\n<g class=\"node\" id=\"node180\"><title>-3055650729323739224</title>\n<polygon fill=\"none\" points=\"6379.94,-373.683 6325.94,-373.683 6325.94,-337.683 6379.94,-337.683 6379.94,-373.683\" stroke=\"black\"/>\n<text font-family=\"Times,serif\" font-size=\"14.00\" text-anchor=\"middle\" x=\"6352.94\" y=\"-351.983\">18</text>\n</g>\n<!-- 102042668230220349&#45;&gt;&#45;3055650729323739224 -->\n<g class=\"edge\" id=\"edge109\"><title>102042668230220349-&gt;-3055650729323739224</title>\n<path d=\"M6352.94,-301.814C6352.94,-310.544 6352.94,-319.42 6352.94,-327.343\" fill=\"none\" stroke=\"black\"/>\n<polygon fill=\"black\" points=\"6349.44,-327.453 6352.94,-337.453 6356.44,-327.453 6349.44,-327.453\" stroke=\"black\"/>\n</g>\n<!-- 2184709087207883875 -->\n<g class=\"node\" id=\"node317\"><title>2184709087207883875</title>\n<ellipse cx=\"6212.94\" cy=\"-502.625\" fill=\"none\" rx=\"92.8835\" ry=\"92.8835\" stroke=\"black\"/>\n<text font-family=\"Times,serif\" font-size=\"14.00\" text-anchor=\"middle\" x=\"6212.94\" y=\"-498.925\">series-sum-chunk</text>\n</g>\n<!-- &#45;3055650729323739224&#45;&gt;2184709087207883875 -->\n<g class=\"edge\" id=\"edge248\"><title>-3055650729323739224-&gt;2184709087207883875</title>\n<path d=\"M6336.33,-373.879C6323.17,-387.503 6303.81,-407.544 6284.31,-427.733\" fill=\"none\" stroke=\"black\"/>\n<polygon fill=\"black\" points=\"6281.57,-425.541 6277.14,-435.165 6286.6,-430.404 6281.57,-425.541\" stroke=\"black\"/>\n</g>\n<!-- &#45;6279156885282265114 -->\n<g class=\"node\" id=\"node456\"><title>-6279156885282265114</title>\n<ellipse cx=\"18620.9\" cy=\"-502.625\" fill=\"none\" rx=\"68.7879\" ry=\"68.7879\" stroke=\"black\"/>\n<text font-family=\"Times,serif\" font-size=\"14.00\" text-anchor=\"middle\" x=\"18620.9\" y=\"-498.925\">count-chunk</text>\n</g>\n<!-- &#45;3055650729323739224&#45;&gt;&#45;6279156885282265114 -->\n<g class=\"edge\" id=\"edge456\"><title>-3055650729323739224-&gt;-6279156885282265114</title>\n<path d=\"M6380.1,-360.499C6411.34,-364.685 6464.23,-371.146 6509.94,-373.683 6593.38,-378.312 18467.2,-374.459 18542.9,-409.683 18556.1,-415.777 18567.8,-425.274 18577.9,-435.895\" fill=\"none\" stroke=\"black\"/>\n<polygon fill=\"black\" points=\"18575.3,-438.302 18584.6,-443.399 18580.5,-433.622 18575.3,-438.302\" stroke=\"black\"/>\n</g>\n<!-- &#45;3055650729324821749 -->\n<g class=\"node\" id=\"node182\"><title>-3055650729324821749</title>\n<polygon fill=\"none\" points=\"4158.94,-373.683 4104.94,-373.683 4104.94,-337.683 4158.94,-337.683 4158.94,-373.683\" stroke=\"black\"/>\n<text font-family=\"Times,serif\" font-size=\"14.00\" text-anchor=\"middle\" x=\"4131.94\" y=\"-351.983\">19</text>\n</g>\n<!-- &#45;1077355391573282926&#45;&gt;&#45;3055650729324821749 -->\n<g class=\"edge\" id=\"edge111\"><title>-1077355391573282926-&gt;-3055650729324821749</title>\n<path d=\"M4131.94,-301.814C4131.94,-310.544 4131.94,-319.42 4131.94,-327.343\" fill=\"none\" stroke=\"black\"/>\n<polygon fill=\"black\" points=\"4128.44,-327.453 4131.94,-337.453 4135.44,-327.453 4128.44,-327.453\" stroke=\"black\"/>\n</g>\n<!-- 9049843204395147738 -->\n<g class=\"node\" id=\"node319\"><title>9049843204395147738</title>\n<ellipse cx=\"3968.94\" cy=\"-502.625\" fill=\"none\" rx=\"92.8835\" ry=\"92.8835\" stroke=\"black\"/>\n<text font-family=\"Times,serif\" font-size=\"14.00\" text-anchor=\"middle\" x=\"3968.94\" y=\"-498.925\">series-sum-chunk</text>\n</g>\n<!-- &#45;3055650729324821749&#45;&gt;9049843204395147738 -->\n<g class=\"edge\" id=\"edge250\"><title>-3055650729324821749-&gt;9049843204395147738</title>\n<path d=\"M4112.08,-373.778C4100.12,-384.117 4084.6,-397.596 4070.94,-409.683 4062.52,-417.137 4053.74,-424.967 4045.01,-432.78\" fill=\"none\" stroke=\"black\"/>\n<polygon fill=\"black\" points=\"4042.48,-430.35 4037.37,-439.632 4047.15,-435.561 4042.48,-430.35\" stroke=\"black\"/>\n</g>\n<!-- &#45;5241867630276298139 -->\n<g class=\"node\" id=\"node458\"><title>-5241867630276298139</title>\n<ellipse cx=\"16904.9\" cy=\"-502.625\" fill=\"none\" rx=\"68.7879\" ry=\"68.7879\" stroke=\"black\"/>\n<text font-family=\"Times,serif\" font-size=\"14.00\" text-anchor=\"middle\" x=\"16904.9\" y=\"-498.925\">count-chunk</text>\n</g>\n<!-- &#45;3055650729324821749&#45;&gt;&#45;5241867630276298139 -->\n<g class=\"edge\" id=\"edge458\"><title>-3055650729324821749-&gt;-5241867630276298139</title>\n<path d=\"M4159.15,-360.349C4191.64,-364.53 4247.63,-371.116 4295.94,-373.683 4382.84,-378.3 16748,-373.006 16826.9,-409.683 16840.1,-415.776 16851.8,-425.273 16861.9,-435.893\" fill=\"none\" stroke=\"black\"/>\n<polygon fill=\"black\" points=\"16859.3,-438.301 16868.6,-443.398 16864.5,-433.621 16859.3,-438.301\" stroke=\"black\"/>\n</g>\n<!-- &#45;3055650729317244074 -->\n<g class=\"node\" id=\"node184\"><title>-3055650729317244074</title>\n<polygon fill=\"none\" points=\"4754.94,-373.683 4700.94,-373.683 4700.94,-337.683 4754.94,-337.683 4754.94,-373.683\" stroke=\"black\"/>\n<text font-family=\"Times,serif\" font-size=\"14.00\" text-anchor=\"middle\" x=\"4727.94\" y=\"-351.983\">20</text>\n</g>\n<!-- &#45;8668729666875990133&#45;&gt;&#45;3055650729317244074 -->\n<g class=\"edge\" id=\"edge113\"><title>-8668729666875990133-&gt;-3055650729317244074</title>\n<path d=\"M4727.94,-301.814C4727.94,-310.544 4727.94,-319.42 4727.94,-327.343\" fill=\"none\" stroke=\"black\"/>\n<polygon fill=\"black\" points=\"4724.44,-327.453 4727.94,-337.453 4731.44,-327.453 4724.44,-327.453\" stroke=\"black\"/>\n</g>\n<!-- &#45;294442359007155003 -->\n<g class=\"node\" id=\"node321\"><title>-294442359007155003</title>\n<ellipse cx=\"4580.94\" cy=\"-502.625\" fill=\"none\" rx=\"92.8835\" ry=\"92.8835\" stroke=\"black\"/>\n<text font-family=\"Times,serif\" font-size=\"14.00\" text-anchor=\"middle\" x=\"4580.94\" y=\"-498.925\">series-sum-chunk</text>\n</g>\n<!-- &#45;3055650729317244074&#45;&gt;&#45;294442359007155003 -->\n<g class=\"edge\" id=\"edge252\"><title>-3055650729317244074-&gt;-294442359007155003</title>\n<path d=\"M4710.5,-373.879C4696.22,-387.959 4674.99,-408.894 4653.83,-429.762\" fill=\"none\" stroke=\"black\"/>\n<polygon fill=\"black\" points=\"4651.32,-427.312 4646.66,-436.826 4656.24,-432.297 4651.32,-427.312\" stroke=\"black\"/>\n</g>\n<!-- &#45;931642049440824764 -->\n<g class=\"node\" id=\"node460\"><title>-931642049440824764</title>\n<ellipse cx=\"17372.9\" cy=\"-502.625\" fill=\"none\" rx=\"68.7879\" ry=\"68.7879\" stroke=\"black\"/>\n<text font-family=\"Times,serif\" font-size=\"14.00\" text-anchor=\"middle\" x=\"17372.9\" y=\"-498.925\">count-chunk</text>\n</g>\n<!-- &#45;3055650729317244074&#45;&gt;&#45;931642049440824764 -->\n<g class=\"edge\" id=\"edge460\"><title>-3055650729317244074-&gt;-931642049440824764</title>\n<path d=\"M4755.16,-360.462C4786.77,-364.647 4840.51,-371.14 4886.94,-373.683 4972.98,-378.394 17216.8,-373.365 17294.9,-409.683 17308.1,-415.776 17319.8,-425.273 17329.9,-435.894\" fill=\"none\" stroke=\"black\"/>\n<polygon fill=\"black\" points=\"17327.3,-438.301 17336.6,-443.398 17332.5,-433.621 17327.3,-438.301\" stroke=\"black\"/>\n</g>\n<!-- &#45;3055650729318326599 -->\n<g class=\"node\" id=\"node186\"><title>-3055650729318326599</title>\n<polygon fill=\"none\" points=\"5987.94,-373.683 5933.94,-373.683 5933.94,-337.683 5987.94,-337.683 5987.94,-373.683\" stroke=\"black\"/>\n<text font-family=\"Times,serif\" font-size=\"14.00\" text-anchor=\"middle\" x=\"5960.94\" y=\"-351.983\">21</text>\n</g>\n<!-- 8784835119075179408&#45;&gt;&#45;3055650729318326599 -->\n<g class=\"edge\" id=\"edge115\"><title>8784835119075179408-&gt;-3055650729318326599</title>\n<path d=\"M5960.94,-301.814C5960.94,-310.544 5960.94,-319.42 5960.94,-327.343\" fill=\"none\" stroke=\"black\"/>\n<polygon fill=\"black\" points=\"5957.44,-327.453 5960.94,-337.453 5964.44,-327.453 5957.44,-327.453\" stroke=\"black\"/>\n</g>\n<!-- &#45;6161631692150899084 -->\n<g class=\"node\" id=\"node323\"><title>-6161631692150899084</title>\n<ellipse cx=\"5804.94\" cy=\"-502.625\" fill=\"none\" rx=\"92.8835\" ry=\"92.8835\" stroke=\"black\"/>\n<text font-family=\"Times,serif\" font-size=\"14.00\" text-anchor=\"middle\" x=\"5804.94\" y=\"-498.925\">series-sum-chunk</text>\n</g>\n<!-- &#45;3055650729318326599&#45;&gt;&#45;6161631692150899084 -->\n<g class=\"edge\" id=\"edge254\"><title>-3055650729318326599-&gt;-6161631692150899084</title>\n<path d=\"M5942.43,-373.879C5926.78,-388.427 5903.24,-410.291 5880.05,-431.838\" fill=\"none\" stroke=\"black\"/>\n<polygon fill=\"black\" points=\"5877.49,-429.443 5872.55,-438.813 5882.25,-434.571 5877.49,-429.443\" stroke=\"black\"/>\n</g>\n<!-- 110860468067313811 -->\n<g class=\"node\" id=\"node462\"><title>110860468067313811</title>\n<ellipse cx=\"18308.9\" cy=\"-502.625\" fill=\"none\" rx=\"68.7879\" ry=\"68.7879\" stroke=\"black\"/>\n<text font-family=\"Times,serif\" font-size=\"14.00\" text-anchor=\"middle\" x=\"18308.9\" y=\"-498.925\">count-chunk</text>\n</g>\n<!-- &#45;3055650729318326599&#45;&gt;110860468067313811 -->\n<g class=\"edge\" id=\"edge462\"><title>-3055650729318326599-&gt;110860468067313811</title>\n<path d=\"M5988.1,-360.386C6020.23,-364.567 6075.36,-371.122 6122.94,-373.683 6206.9,-378.201 18154.7,-374.24 18230.9,-409.683 18244.1,-415.776 18255.8,-425.274 18265.9,-435.894\" fill=\"none\" stroke=\"black\"/>\n<polygon fill=\"black\" points=\"18263.3,-438.302 18272.6,-443.399 18268.5,-433.622 18263.3,-438.302\" stroke=\"black\"/>\n</g>\n<!-- &#45;3055650729319409124 -->\n<g class=\"node\" id=\"node188\"><title>-3055650729319409124</title>\n<polygon fill=\"none\" points=\"209.942,-373.683 155.942,-373.683 155.942,-337.683 209.942,-337.683 209.942,-373.683\" stroke=\"black\"/>\n<text font-family=\"Times,serif\" font-size=\"14.00\" text-anchor=\"middle\" x=\"182.942\" y=\"-351.983\">22</text>\n</g>\n<!-- 7660068188266639833&#45;&gt;&#45;3055650729319409124 -->\n<g class=\"edge\" id=\"edge117\"><title>7660068188266639833-&gt;-3055650729319409124</title>\n<path d=\"M182.942,-301.814C182.942,-310.544 182.942,-319.42 182.942,-327.343\" fill=\"none\" stroke=\"black\"/>\n<polygon fill=\"black\" points=\"179.442,-327.453 182.942,-337.453 186.442,-327.453 179.442,-327.453\" stroke=\"black\"/>\n</g>\n<!-- &#45;5990905817112453769 -->\n<g class=\"node\" id=\"node325\"><title>-5990905817112453769</title>\n<ellipse cx=\"92.9418\" cy=\"-502.625\" fill=\"none\" rx=\"92.8835\" ry=\"92.8835\" stroke=\"black\"/>\n<text font-family=\"Times,serif\" font-size=\"14.00\" text-anchor=\"middle\" x=\"92.9418\" y=\"-498.925\">series-sum-chunk</text>\n</g>\n<!-- &#45;3055650729319409124&#45;&gt;&#45;5990905817112453769 -->\n<g class=\"edge\" id=\"edge256\"><title>-3055650729319409124-&gt;-5990905817112453769</title>\n<path d=\"M172.264,-373.879C165.664,-384.508 156.638,-399.044 147.036,-414.507\" fill=\"none\" stroke=\"black\"/>\n<polygon fill=\"black\" points=\"143.956,-412.833 141.654,-423.175 149.903,-416.526 143.956,-412.833\" stroke=\"black\"/>\n</g>\n<!-- &#45;3413963706736139014 -->\n<g class=\"node\" id=\"node464\"><title>-3413963706736139014</title>\n<ellipse cx=\"13940.9\" cy=\"-502.625\" fill=\"none\" rx=\"68.7879\" ry=\"68.7879\" stroke=\"black\"/>\n<text font-family=\"Times,serif\" font-size=\"14.00\" text-anchor=\"middle\" x=\"13940.9\" y=\"-498.925\">count-chunk</text>\n</g>\n<!-- &#45;3055650729319409124&#45;&gt;&#45;3413963706736139014 -->\n<g class=\"edge\" id=\"edge464\"><title>-3055650729319409124-&gt;-3413963706736139014</title>\n<path d=\"M210.128,-360.203C243.811,-364.375 302.992,-371.088 353.942,-373.683 447.633,-378.454 13777.9,-370.153 13862.9,-409.683 13876.1,-415.774 13887.8,-425.271 13897.9,-435.891\" fill=\"none\" stroke=\"black\"/>\n<polygon fill=\"black\" points=\"13895.3,-438.298 13904.6,-443.396 13900.5,-433.619 13895.3,-438.298\" stroke=\"black\"/>\n</g>\n<!-- &#45;3055650729320491649 -->\n<g class=\"node\" id=\"node190\"><title>-3055650729320491649</title>\n<polygon fill=\"none\" points=\"843.942,-373.683 789.942,-373.683 789.942,-337.683 843.942,-337.683 843.942,-373.683\" stroke=\"black\"/>\n<text font-family=\"Times,serif\" font-size=\"14.00\" text-anchor=\"middle\" x=\"816.942\" y=\"-351.983\">23</text>\n</g>\n<!-- &#45;4052212202338115026&#45;&gt;&#45;3055650729320491649 -->\n<g class=\"edge\" id=\"edge119\"><title>-4052212202338115026-&gt;-3055650729320491649</title>\n<path d=\"M816.942,-301.814C816.942,-310.544 816.942,-319.42 816.942,-327.343\" fill=\"none\" stroke=\"black\"/>\n<polygon fill=\"black\" points=\"813.442,-327.453 816.942,-337.453 820.442,-327.453 813.442,-327.453\" stroke=\"black\"/>\n</g>\n<!-- 6445154978455765758 -->\n<g class=\"node\" id=\"node327\"><title>6445154978455765758</title>\n<ellipse cx=\"704.942\" cy=\"-502.625\" fill=\"none\" rx=\"92.8835\" ry=\"92.8835\" stroke=\"black\"/>\n<text font-family=\"Times,serif\" font-size=\"14.00\" text-anchor=\"middle\" x=\"704.942\" y=\"-498.925\">series-sum-chunk</text>\n</g>\n<!-- &#45;3055650729320491649&#45;&gt;6445154978455765758 -->\n<g class=\"edge\" id=\"edge258\"><title>-3055650729320491649-&gt;6445154978455765758</title>\n<path d=\"M803.654,-373.879C794.408,-385.844 781.338,-402.758 767.725,-420.375\" fill=\"none\" stroke=\"black\"/>\n<polygon fill=\"black\" points=\"764.789,-418.451 761.444,-428.503 770.328,-422.731 764.789,-418.451\" stroke=\"black\"/>\n</g>\n<!-- &#45;2372042932949560039 -->\n<g class=\"node\" id=\"node466\"><title>-2372042932949560039</title>\n<ellipse cx=\"14408.9\" cy=\"-502.625\" fill=\"none\" rx=\"68.7879\" ry=\"68.7879\" stroke=\"black\"/>\n<text font-family=\"Times,serif\" font-size=\"14.00\" text-anchor=\"middle\" x=\"14408.9\" y=\"-498.925\">count-chunk</text>\n</g>\n<!-- &#45;3055650729320491649&#45;&gt;&#45;2372042932949560039 -->\n<g class=\"edge\" id=\"edge466\"><title>-3055650729320491649-&gt;-2372042932949560039</title>\n<path d=\"M844.202,-359.805C881.699,-363.933 951.328,-370.995 1010.94,-373.683 1103.35,-377.849 14247.1,-370.704 14330.9,-409.683 14344.1,-415.775 14355.8,-425.271 14365.9,-435.892\" fill=\"none\" stroke=\"black\"/>\n<polygon fill=\"black\" points=\"14363.3,-438.299 14372.6,-443.396 14368.5,-433.619 14363.3,-438.299\" stroke=\"black\"/>\n</g>\n<!-- &#45;3055650729312913974 -->\n<g class=\"node\" id=\"node192\"><title>-3055650729312913974</title>\n<polygon fill=\"none\" points=\"5136.94,-373.683 5082.94,-373.683 5082.94,-337.683 5136.94,-337.683 5136.94,-373.683\" stroke=\"black\"/>\n<text font-family=\"Times,serif\" font-size=\"14.00\" text-anchor=\"middle\" x=\"5109.94\" y=\"-351.983\">24</text>\n</g>\n<!-- 5119115170011935383&#45;&gt;&#45;3055650729312913974 -->\n<g class=\"edge\" id=\"edge121\"><title>5119115170011935383-&gt;-3055650729312913974</title>\n<path d=\"M5109.94,-301.814C5109.94,-310.544 5109.94,-319.42 5109.94,-327.343\" fill=\"none\" stroke=\"black\"/>\n<polygon fill=\"black\" points=\"5106.44,-327.453 5109.94,-337.453 5113.44,-327.453 5106.44,-327.453\" stroke=\"black\"/>\n</g>\n<!-- &#45;2618389638025711207 -->\n<g class=\"node\" id=\"node329\"><title>-2618389638025711207</title>\n<ellipse cx=\"4988.94\" cy=\"-502.625\" fill=\"none\" rx=\"92.8835\" ry=\"92.8835\" stroke=\"black\"/>\n<text font-family=\"Times,serif\" font-size=\"14.00\" text-anchor=\"middle\" x=\"4988.94\" y=\"-498.925\">series-sum-chunk</text>\n</g>\n<!-- &#45;3055650729312913974&#45;&gt;&#45;2618389638025711207 -->\n<g class=\"edge\" id=\"edge260\"><title>-3055650729312913974-&gt;-2618389638025711207</title>\n<path d=\"M5095.59,-373.879C5085.12,-386.411 5070.13,-404.373 5054.68,-422.884\" fill=\"none\" stroke=\"black\"/>\n<polygon fill=\"black\" points=\"5051.76,-420.918 5048.04,-430.837 5057.13,-425.404 5051.76,-420.918\" stroke=\"black\"/>\n</g>\n<!-- 4190043985877597336 -->\n<g class=\"node\" id=\"node468\"><title>4190043985877597336</title>\n<ellipse cx=\"17684.9\" cy=\"-502.625\" fill=\"none\" rx=\"68.7879\" ry=\"68.7879\" stroke=\"black\"/>\n<text font-family=\"Times,serif\" font-size=\"14.00\" text-anchor=\"middle\" x=\"17684.9\" y=\"-498.925\">count-chunk</text>\n</g>\n<!-- &#45;3055650729312913974&#45;&gt;4190043985877597336 -->\n<g class=\"edge\" id=\"edge468\"><title>-3055650729312913974-&gt;4190043985877597336</title>\n<path d=\"M5137.14,-360.651C5167.32,-364.842 5217.49,-371.181 5260.94,-373.683 5346.54,-378.611 17529.2,-373.546 17606.9,-409.683 17620.1,-415.776 17631.8,-425.273 17641.9,-435.894\" fill=\"none\" stroke=\"black\"/>\n<polygon fill=\"black\" points=\"17639.3,-438.301 17648.6,-443.398 17644.5,-433.621 17639.3,-438.301\" stroke=\"black\"/>\n</g>\n<!-- &#45;3055650729313996499 -->\n<g class=\"node\" id=\"node194\"><title>-3055650729313996499</title>\n<polygon fill=\"none\" points=\"4558.94,-373.683 4504.94,-373.683 4504.94,-337.683 4558.94,-337.683 4558.94,-373.683\" stroke=\"black\"/>\n<text font-family=\"Times,serif\" font-size=\"14.00\" text-anchor=\"middle\" x=\"4531.94\" y=\"-351.983\">25</text>\n</g>\n<!-- 4000160001039193708&#45;&gt;&#45;3055650729313996499 -->\n<g class=\"edge\" id=\"edge123\"><title>4000160001039193708-&gt;-3055650729313996499</title>\n<path d=\"M4531.94,-301.814C4531.94,-310.544 4531.94,-319.42 4531.94,-327.343\" fill=\"none\" stroke=\"black\"/>\n<polygon fill=\"black\" points=\"4528.44,-327.453 4531.94,-337.453 4535.44,-327.453 4528.44,-327.453\" stroke=\"black\"/>\n</g>\n<!-- 6793196837349653416 -->\n<g class=\"node\" id=\"node331\"><title>6793196837349653416</title>\n<ellipse cx=\"4376.94\" cy=\"-502.625\" fill=\"none\" rx=\"92.8835\" ry=\"92.8835\" stroke=\"black\"/>\n<text font-family=\"Times,serif\" font-size=\"14.00\" text-anchor=\"middle\" x=\"4376.94\" y=\"-498.925\">series-sum-chunk</text>\n</g>\n<!-- &#45;3055650729313996499&#45;&gt;6793196837349653416 -->\n<g class=\"edge\" id=\"edge262\"><title>-3055650729313996499-&gt;6793196837349653416</title>\n<path d=\"M4513.55,-373.879C4498.07,-388.359 4474.83,-410.088 4451.89,-431.538\" fill=\"none\" stroke=\"black\"/>\n<polygon fill=\"black\" points=\"4449.38,-429.096 4444.47,-438.483 4454.16,-434.209 4449.38,-429.096\" stroke=\"black\"/>\n</g>\n<!-- 5180897605457008311 -->\n<g class=\"node\" id=\"node470\"><title>5180897605457008311</title>\n<ellipse cx=\"17216.9\" cy=\"-502.625\" fill=\"none\" rx=\"68.7879\" ry=\"68.7879\" stroke=\"black\"/>\n<text font-family=\"Times,serif\" font-size=\"14.00\" text-anchor=\"middle\" x=\"17216.9\" y=\"-498.925\">count-chunk</text>\n</g>\n<!-- &#45;3055650729313996499&#45;&gt;5180897605457008311 -->\n<g class=\"edge\" id=\"edge470\"><title>-3055650729313996499-&gt;5180897605457008311</title>\n<path d=\"M4559.05,-360.424C4590.82,-364.608 4645.08,-371.132 4691.94,-373.683 4778.25,-378.38 17060.6,-373.251 17138.9,-409.683 17152.1,-415.776 17163.8,-425.273 17173.9,-435.894\" fill=\"none\" stroke=\"black\"/>\n<polygon fill=\"black\" points=\"17171.3,-438.301 17180.6,-443.398 17176.5,-433.621 17171.3,-438.301\" stroke=\"black\"/>\n</g>\n<!-- &#45;3055650729315079024 -->\n<g class=\"node\" id=\"node196\"><title>-3055650729315079024</title>\n<polygon fill=\"none\" points=\"9878.94,-373.683 9824.94,-373.683 9824.94,-337.683 9878.94,-337.683 9878.94,-373.683\" stroke=\"black\"/>\n<text font-family=\"Times,serif\" font-size=\"14.00\" text-anchor=\"middle\" x=\"9851.94\" y=\"-351.983\">26</text>\n</g>\n<!-- 2984595160987450133&#45;&gt;&#45;3055650729315079024 -->\n<g class=\"edge\" id=\"edge125\"><title>2984595160987450133-&gt;-3055650729315079024</title>\n<path d=\"M9851.94,-301.814C9851.94,-310.544 9851.94,-319.42 9851.94,-327.343\" fill=\"none\" stroke=\"black\"/>\n<polygon fill=\"black\" points=\"9848.44,-327.453 9851.94,-337.453 9855.44,-327.453 9848.44,-327.453\" stroke=\"black\"/>\n</g>\n<!-- 8233717167845231099 -->\n<g class=\"node\" id=\"node333\"><title>8233717167845231099</title>\n<ellipse cx=\"9680.94\" cy=\"-502.625\" fill=\"none\" rx=\"92.8835\" ry=\"92.8835\" stroke=\"black\"/>\n<text font-family=\"Times,serif\" font-size=\"14.00\" text-anchor=\"middle\" x=\"9680.94\" y=\"-498.925\">series-sum-chunk</text>\n</g>\n<!-- &#45;3055650729315079024&#45;&gt;8233717167845231099 -->\n<g class=\"edge\" id=\"edge264\"><title>-3055650729315079024-&gt;8233717167845231099</title>\n<path d=\"M9828.59,-373.905C9815.05,-384.062 9797.8,-397.312 9782.94,-409.683 9774.3,-416.88 9765.38,-424.547 9756.57,-432.266\" fill=\"none\" stroke=\"black\"/>\n<polygon fill=\"black\" points=\"9754.06,-429.814 9748.87,-439.053 9758.69,-435.064 9754.06,-429.814\" stroke=\"black\"/>\n</g>\n<!-- 1663846742983674286 -->\n<g class=\"node\" id=\"node472\"><title>1663846742983674286</title>\n<ellipse cx=\"21272.9\" cy=\"-502.625\" fill=\"none\" rx=\"68.7879\" ry=\"68.7879\" stroke=\"black\"/>\n<text font-family=\"Times,serif\" font-size=\"14.00\" text-anchor=\"middle\" x=\"21272.9\" y=\"-498.925\">count-chunk</text>\n</g>\n<!-- &#45;3055650729315079024&#45;&gt;1663846742983674286 -->\n<g class=\"edge\" id=\"edge472\"><title>-3055650729315079024-&gt;1663846742983674286</title>\n<path d=\"M9878.98,-359.059C9925.37,-363.01 10023.1,-370.78 10105.9,-373.683 10182.9,-376.38 21125.1,-377.214 21194.9,-409.683 21208.1,-415.778 21219.8,-425.276 21229.9,-435.897\" fill=\"none\" stroke=\"black\"/>\n<polygon fill=\"black\" points=\"21227.3,-438.305 21236.6,-443.402 21232.5,-433.625 21227.3,-438.305\" stroke=\"black\"/>\n</g>\n<!-- &#45;3055650729316161549 -->\n<g class=\"node\" id=\"node198\"><title>-3055650729316161549</title>\n<polygon fill=\"none\" points=\"2305.94,-373.683 2251.94,-373.683 2251.94,-337.683 2305.94,-337.683 2305.94,-373.683\" stroke=\"black\"/>\n<text font-family=\"Times,serif\" font-size=\"14.00\" text-anchor=\"middle\" x=\"2278.94\" y=\"-351.983\">27</text>\n</g>\n<!-- &#45;7498049817383215958&#45;&gt;&#45;3055650729316161549 -->\n<g class=\"edge\" id=\"edge127\"><title>-7498049817383215958-&gt;-3055650729316161549</title>\n<path d=\"M2278.94,-301.814C2278.94,-310.544 2278.94,-319.42 2278.94,-327.343\" fill=\"none\" stroke=\"black\"/>\n<polygon fill=\"black\" points=\"2275.44,-327.453 2278.94,-337.453 2282.44,-327.453 2275.44,-327.453\" stroke=\"black\"/>\n</g>\n<!-- &#45;5464448112006342798 -->\n<g class=\"node\" id=\"node335\"><title>-5464448112006342798</title>\n<ellipse cx=\"2132.94\" cy=\"-502.625\" fill=\"none\" rx=\"92.8835\" ry=\"92.8835\" stroke=\"black\"/>\n<text font-family=\"Times,serif\" font-size=\"14.00\" text-anchor=\"middle\" x=\"2132.94\" y=\"-498.925\">series-sum-chunk</text>\n</g>\n<!-- &#45;3055650729316161549&#45;&gt;&#45;5464448112006342798 -->\n<g class=\"edge\" id=\"edge266\"><title>-3055650729316161549-&gt;-5464448112006342798</title>\n<path d=\"M2261.62,-373.879C2247.57,-387.831 2226.73,-408.513 2205.9,-429.191\" fill=\"none\" stroke=\"black\"/>\n<polygon fill=\"black\" points=\"2203.18,-426.965 2198.55,-436.494 2208.11,-431.932 2203.18,-426.965\" stroke=\"black\"/>\n</g>\n<!-- 2568746880981910061 -->\n<g class=\"node\" id=\"node474\"><title>2568746880981910061</title>\n<ellipse cx=\"15500.9\" cy=\"-502.625\" fill=\"none\" rx=\"68.7879\" ry=\"68.7879\" stroke=\"black\"/>\n<text font-family=\"Times,serif\" font-size=\"14.00\" text-anchor=\"middle\" x=\"15500.9\" y=\"-498.925\">count-chunk</text>\n</g>\n<!-- &#45;3055650729316161549&#45;&gt;2568746880981910061 -->\n<g class=\"edge\" id=\"edge474\"><title>-3055650729316161549-&gt;2568746880981910061</title>\n<path d=\"M2306.03,-360.538C2336.91,-364.728 2388.94,-371.16 2433.94,-373.683 2524,-378.732 15341.1,-371.67 15422.9,-409.683 15436.1,-415.775 15447.8,-425.272 15457.9,-435.892\" fill=\"none\" stroke=\"black\"/>\n<polygon fill=\"black\" points=\"15455.3,-438.3 15464.6,-443.397 15460.5,-433.62 15455.3,-438.3\" stroke=\"black\"/>\n</g>\n<!-- &#45;3055650729308583874 -->\n<g class=\"node\" id=\"node200\"><title>-3055650729308583874</title>\n<polygon fill=\"none\" points=\"2926.94,-373.683 2872.94,-373.683 2872.94,-337.683 2926.94,-337.683 2926.94,-373.683\" stroke=\"black\"/>\n<text font-family=\"Times,serif\" font-size=\"14.00\" text-anchor=\"middle\" x=\"2899.94\" y=\"-351.983\">28</text>\n</g>\n<!-- 953787077527875683&#45;&gt;&#45;3055650729308583874 -->\n<g class=\"edge\" id=\"edge129\"><title>953787077527875683-&gt;-3055650729308583874</title>\n<path d=\"M2899.94,-301.814C2899.94,-310.544 2899.94,-319.42 2899.94,-327.343\" fill=\"none\" stroke=\"black\"/>\n<polygon fill=\"black\" points=\"2896.44,-327.453 2899.94,-337.453 2903.44,-327.453 2896.44,-327.453\" stroke=\"black\"/>\n</g>\n<!-- 9220568511740162653 -->\n<g class=\"node\" id=\"node337\"><title>9220568511740162653</title>\n<ellipse cx=\"2744.94\" cy=\"-502.625\" fill=\"none\" rx=\"92.8835\" ry=\"92.8835\" stroke=\"black\"/>\n<text font-family=\"Times,serif\" font-size=\"14.00\" text-anchor=\"middle\" x=\"2744.94\" y=\"-498.925\">series-sum-chunk</text>\n</g>\n<!-- &#45;3055650729308583874&#45;&gt;9220568511740162653 -->\n<g class=\"edge\" id=\"edge268\"><title>-3055650729308583874-&gt;9220568511740162653</title>\n<path d=\"M2881.55,-373.879C2866.07,-388.359 2842.83,-410.088 2819.89,-431.538\" fill=\"none\" stroke=\"black\"/>\n<polygon fill=\"black\" points=\"2817.38,-429.096 2812.47,-438.483 2822.16,-434.209 2817.38,-429.096\" stroke=\"black\"/>\n</g>\n<!-- 6996264455645173836 -->\n<g class=\"node\" id=\"node476\"><title>6996264455645173836</title>\n<ellipse cx=\"15968.9\" cy=\"-502.625\" fill=\"none\" rx=\"68.7879\" ry=\"68.7879\" stroke=\"black\"/>\n<text font-family=\"Times,serif\" font-size=\"14.00\" text-anchor=\"middle\" x=\"15968.9\" y=\"-498.925\">count-chunk</text>\n</g>\n<!-- &#45;3055650729308583874&#45;&gt;6996264455645173836 -->\n<g class=\"edge\" id=\"edge476\"><title>-3055650729308583874-&gt;6996264455645173836</title>\n<path d=\"M2927.05,-360.425C2958.82,-364.61 3013.08,-371.134 3059.94,-373.683 3148.91,-378.521 15810.1,-372.131 15890.9,-409.683 15904.1,-415.775 15915.8,-425.272 15925.9,-435.893\" fill=\"none\" stroke=\"black\"/>\n<polygon fill=\"black\" points=\"15923.3,-438.3 15932.6,-443.397 15928.5,-433.62 15923.3,-438.3\" stroke=\"black\"/>\n</g>\n<!-- &#45;3055650729309666399 -->\n<g class=\"node\" id=\"node202\"><title>-3055650729309666399</title>\n<polygon fill=\"none\" points=\"10544.9,-373.683 10490.9,-373.683 10490.9,-337.683 10544.9,-337.683 10544.9,-373.683\" stroke=\"black\"/>\n<text font-family=\"Times,serif\" font-size=\"14.00\" text-anchor=\"middle\" x=\"10517.9\" y=\"-351.983\">29</text>\n</g>\n<!-- &#45;69128778599581592&#45;&gt;&#45;3055650729309666399 -->\n<g class=\"edge\" id=\"edge131\"><title>-69128778599581592-&gt;-3055650729309666399</title>\n<path d=\"M10517.9,-301.814C10517.9,-310.544 10517.9,-319.42 10517.9,-327.343\" fill=\"none\" stroke=\"black\"/>\n<polygon fill=\"black\" points=\"10514.4,-327.453 10517.9,-337.453 10521.4,-327.453 10514.4,-327.453\" stroke=\"black\"/>\n</g>\n<!-- &#45;643041773838179316 -->\n<g class=\"node\" id=\"node339\"><title>-643041773838179316</title>\n<ellipse cx=\"10088.9\" cy=\"-502.625\" fill=\"none\" rx=\"92.8835\" ry=\"92.8835\" stroke=\"black\"/>\n<text font-family=\"Times,serif\" font-size=\"14.00\" text-anchor=\"middle\" x=\"10088.9\" y=\"-498.925\">series-sum-chunk</text>\n</g>\n<!-- &#45;3055650729309666399&#45;&gt;&#45;643041773838179316 -->\n<g class=\"edge\" id=\"edge270\"><title>-3055650729309666399-&gt;-643041773838179316</title>\n<path d=\"M10490.6,-356.027C10432.4,-355.692 10293.4,-360.571 10190.9,-409.683 10180.4,-414.716 10170.2,-421.174 10160.6,-428.33\" fill=\"none\" stroke=\"black\"/>\n<polygon fill=\"black\" points=\"10158.4,-425.602 10152.6,-434.49 10162.7,-431.138 10158.4,-425.602\" stroke=\"black\"/>\n</g>\n<!-- 8510403845745484443 -->\n<g class=\"node\" id=\"node478\"><title>8510403845745484443</title>\n<ellipse cx=\"21584.9\" cy=\"-502.625\" fill=\"none\" rx=\"68.7879\" ry=\"68.7879\" stroke=\"black\"/>\n<text font-family=\"Times,serif\" font-size=\"14.00\" text-anchor=\"middle\" x=\"21584.9\" y=\"-498.925\">count-chunk</text>\n</g>\n<!-- &#45;3055650729309666399&#45;&gt;8510403845745484443 -->\n<g class=\"edge\" id=\"edge478\"><title>-3055650729309666399-&gt;8510403845745484443</title>\n<path d=\"M10544.9,-361.037C10572.3,-365.221 10615.9,-371.254 10653.9,-373.683 10729.2,-378.491 21438.6,-377.902 21506.9,-409.683 21520.1,-415.779 21531.8,-425.277 21541.9,-435.898\" fill=\"none\" stroke=\"black\"/>\n<polygon fill=\"black\" points=\"21539.3,-438.305 21548.6,-443.403 21544.5,-433.626 21539.3,-438.305\" stroke=\"black\"/>\n</g>\n<!-- &#45;3055650729310748924 -->\n<g class=\"node\" id=\"node204\"><title>-3055650729310748924</title>\n<polygon fill=\"none\" points=\"3317.94,-373.683 3263.94,-373.683 3263.94,-337.683 3317.94,-337.683 3317.94,-373.683\" stroke=\"black\"/>\n<text font-family=\"Times,serif\" font-size=\"14.00\" text-anchor=\"middle\" x=\"3290.94\" y=\"-351.983\">30</text>\n</g>\n<!-- &#45;1200043033629458767&#45;&gt;&#45;3055650729310748924 -->\n<g class=\"edge\" id=\"edge133\"><title>-1200043033629458767-&gt;-3055650729310748924</title>\n<path d=\"M3290.94,-301.814C3290.94,-310.544 3290.94,-319.42 3290.94,-327.343\" fill=\"none\" stroke=\"black\"/>\n<polygon fill=\"black\" points=\"3287.44,-327.453 3290.94,-337.453 3294.44,-327.453 3287.44,-327.453\" stroke=\"black\"/>\n</g>\n<!-- 5989394117261378319 -->\n<g class=\"node\" id=\"node341\"><title>5989394117261378319</title>\n<ellipse cx=\"3152.94\" cy=\"-502.625\" fill=\"none\" rx=\"92.8835\" ry=\"92.8835\" stroke=\"black\"/>\n<text font-family=\"Times,serif\" font-size=\"14.00\" text-anchor=\"middle\" x=\"3152.94\" y=\"-498.925\">series-sum-chunk</text>\n</g>\n<!-- &#45;3055650729310748924&#45;&gt;5989394117261378319 -->\n<g class=\"edge\" id=\"edge272\"><title>-3055650729310748924-&gt;5989394117261378319</title>\n<path d=\"M3274.57,-373.879C3261.66,-387.436 3242.7,-407.348 3223.58,-427.436\" fill=\"none\" stroke=\"black\"/>\n<polygon fill=\"black\" points=\"3220.9,-425.177 3216.53,-434.833 3225.96,-430.004 3220.9,-425.177\" stroke=\"black\"/>\n</g>\n<!-- &#45;6208228540302974398 -->\n<g class=\"node\" id=\"node480\"><title>-6208228540302974398</title>\n<ellipse cx=\"16280.9\" cy=\"-502.625\" fill=\"none\" rx=\"68.7879\" ry=\"68.7879\" stroke=\"black\"/>\n<text font-family=\"Times,serif\" font-size=\"14.00\" text-anchor=\"middle\" x=\"16280.9\" y=\"-498.925\">count-chunk</text>\n</g>\n<!-- &#45;3055650729310748924&#45;&gt;&#45;6208228540302974398 -->\n<g class=\"edge\" id=\"edge480\"><title>-3055650729310748924-&gt;-6208228540302974398</title>\n<path d=\"M3318.05,-360.614C3348.39,-364.805 3399.07,-371.175 3442.94,-373.683 3531.41,-378.74 16122.6,-372.338 16202.9,-409.683 16216.1,-415.775 16227.8,-425.272 16237.9,-435.893\" fill=\"none\" stroke=\"black\"/>\n<polygon fill=\"black\" points=\"16235.3,-438.3 16244.6,-443.397 16240.5,-433.62 16235.3,-438.3\" stroke=\"black\"/>\n</g>\n<!-- &#45;3055650729311831449 -->\n<g class=\"node\" id=\"node206\"><title>-3055650729311831449</title>\n<polygon fill=\"none\" points=\"6937.94,-373.683 6883.94,-373.683 6883.94,-337.683 6937.94,-337.683 6937.94,-373.683\" stroke=\"black\"/>\n<text font-family=\"Times,serif\" font-size=\"14.00\" text-anchor=\"middle\" x=\"6910.94\" y=\"-351.983\">31</text>\n</g>\n<!-- 6841224001687223558&#45;&gt;&#45;3055650729311831449 -->\n<g class=\"edge\" id=\"edge135\"><title>6841224001687223558-&gt;-3055650729311831449</title>\n<path d=\"M6910.94,-301.814C6910.94,-310.544 6910.94,-319.42 6910.94,-327.343\" fill=\"none\" stroke=\"black\"/>\n<polygon fill=\"black\" points=\"6907.44,-327.453 6910.94,-337.453 6914.44,-327.453 6907.44,-327.453\" stroke=\"black\"/>\n</g>\n<!-- 3240259302295028374 -->\n<g class=\"node\" id=\"node343\"><title>3240259302295028374</title>\n<ellipse cx=\"6824.94\" cy=\"-502.625\" fill=\"none\" rx=\"92.8835\" ry=\"92.8835\" stroke=\"black\"/>\n<text font-family=\"Times,serif\" font-size=\"14.00\" text-anchor=\"middle\" x=\"6824.94\" y=\"-498.925\">series-sum-chunk</text>\n</g>\n<!-- &#45;3055650729311831449&#45;&gt;3240259302295028374 -->\n<g class=\"edge\" id=\"edge274\"><title>-3055650729311831449-&gt;3240259302295028374</title>\n<path d=\"M6900.74,-373.879C6894.6,-384.222 6886.27,-398.263 6877.37,-413.259\" fill=\"none\" stroke=\"black\"/>\n<polygon fill=\"black\" points=\"6874.17,-411.792 6872.08,-422.178 6880.19,-415.364 6874.17,-411.792\" stroke=\"black\"/>\n</g>\n<!-- 5954343114377339361 -->\n<g class=\"node\" id=\"node482\"><title>5954343114377339361</title>\n<ellipse cx=\"19088.9\" cy=\"-502.625\" fill=\"none\" rx=\"68.7879\" ry=\"68.7879\" stroke=\"black\"/>\n<text font-family=\"Times,serif\" font-size=\"14.00\" text-anchor=\"middle\" x=\"19088.9\" y=\"-498.925\">count-chunk</text>\n</g>\n<!-- &#45;3055650729311831449&#45;&gt;5954343114377339361 -->\n<g class=\"edge\" id=\"edge482\"><title>-3055650729311831449-&gt;5954343114377339361</title>\n<path d=\"M6938.23,-360.274C6971.42,-364.448 7029.17,-371.096 7078.94,-373.683 7161.69,-377.984 18935.8,-374.754 19010.9,-409.683 19024.1,-415.777 19035.8,-425.274 19045.9,-435.895\" fill=\"none\" stroke=\"black\"/>\n<polygon fill=\"black\" points=\"19043.3,-438.302 19052.6,-443.399 19048.5,-433.623 19043.3,-438.302\" stroke=\"black\"/>\n</g>\n<!-- &#45;3055650729304253774 -->\n<g class=\"node\" id=\"node208\"><title>-3055650729304253774</title>\n<polygon fill=\"none\" points=\"8365.94,-373.683 8311.94,-373.683 8311.94,-337.683 8365.94,-337.683 8365.94,-373.683\" stroke=\"black\"/>\n<text font-family=\"Times,serif\" font-size=\"14.00\" text-anchor=\"middle\" x=\"8338.94\" y=\"-351.983\">32</text>\n</g>\n<!-- &#45;4241285210787638417&#45;&gt;&#45;3055650729304253774 -->\n<g class=\"edge\" id=\"edge137\"><title>-4241285210787638417-&gt;-3055650729304253774</title>\n<path d=\"M8338.94,-301.814C8338.94,-310.544 8338.94,-319.42 8338.94,-327.343\" fill=\"none\" stroke=\"black\"/>\n<polygon fill=\"black\" points=\"8335.44,-327.453 8338.94,-337.453 8342.44,-327.453 8335.44,-327.453\" stroke=\"black\"/>\n</g>\n<!-- 707859029053319825 -->\n<g class=\"node\" id=\"node345\"><title>707859029053319825</title>\n<ellipse cx=\"8252.94\" cy=\"-502.625\" fill=\"none\" rx=\"92.8835\" ry=\"92.8835\" stroke=\"black\"/>\n<text font-family=\"Times,serif\" font-size=\"14.00\" text-anchor=\"middle\" x=\"8252.94\" y=\"-498.925\">series-sum-chunk</text>\n</g>\n<!-- &#45;3055650729304253774&#45;&gt;707859029053319825 -->\n<g class=\"edge\" id=\"edge276\"><title>-3055650729304253774-&gt;707859029053319825</title>\n<path d=\"M8328.74,-373.879C8322.6,-384.222 8314.27,-398.263 8305.37,-413.259\" fill=\"none\" stroke=\"black\"/>\n<polygon fill=\"black\" points=\"8302.17,-411.792 8300.08,-422.178 8308.19,-415.364 8302.17,-411.792\" stroke=\"black\"/>\n</g>\n<!-- &#45;7588790310315682848 -->\n<g class=\"node\" id=\"node484\"><title>-7588790310315682848</title>\n<ellipse cx=\"20180.9\" cy=\"-502.625\" fill=\"none\" rx=\"68.7879\" ry=\"68.7879\" stroke=\"black\"/>\n<text font-family=\"Times,serif\" font-size=\"14.00\" text-anchor=\"middle\" x=\"20180.9\" y=\"-498.925\">count-chunk</text>\n</g>\n<!-- &#45;3055650729304253774&#45;&gt;&#45;7588790310315682848 -->\n<g class=\"edge\" id=\"edge484\"><title>-3055650729304253774-&gt;-7588790310315682848</title>\n<path d=\"M8366.1,-360.236C8399.44,-364.407 8457.73,-371.086 8507.94,-373.683 8588.36,-377.842 20029.9,-375.737 20102.9,-409.683 20116.1,-415.777 20127.8,-425.275 20137.9,-435.896\" fill=\"none\" stroke=\"black\"/>\n<polygon fill=\"black\" points=\"20135.3,-438.303 20144.6,-443.4 20140.5,-433.623 20135.3,-438.303\" stroke=\"black\"/>\n</g>\n<!-- &#45;3055650729305336299 -->\n<g class=\"node\" id=\"node210\"><title>-3055650729305336299</title>\n<polygon fill=\"none\" points=\"10168.9,-373.683 10114.9,-373.683 10114.9,-337.683 10168.9,-337.683 10168.9,-373.683\" stroke=\"black\"/>\n<text font-family=\"Times,serif\" font-size=\"14.00\" text-anchor=\"middle\" x=\"10141.9\" y=\"-351.983\">33</text>\n</g>\n<!-- &#45;4765293882549354492&#45;&gt;&#45;3055650729305336299 -->\n<g class=\"edge\" id=\"edge139\"><title>-4765293882549354492-&gt;-3055650729305336299</title>\n<path d=\"M10141.9,-301.814C10141.9,-310.544 10141.9,-319.42 10141.9,-327.343\" fill=\"none\" stroke=\"black\"/>\n<polygon fill=\"black\" points=\"10138.4,-327.453 10141.9,-337.453 10145.4,-327.453 10138.4,-327.453\" stroke=\"black\"/>\n</g>\n<!-- &#45;5009499720985413856 -->\n<g class=\"node\" id=\"node347\"><title>-5009499720985413856</title>\n<ellipse cx=\"9884.94\" cy=\"-502.625\" fill=\"none\" rx=\"92.8835\" ry=\"92.8835\" stroke=\"black\"/>\n<text font-family=\"Times,serif\" font-size=\"14.00\" text-anchor=\"middle\" x=\"9884.94\" y=\"-498.925\">series-sum-chunk</text>\n</g>\n<!-- &#45;3055650729305336299&#45;&gt;&#45;5009499720985413856 -->\n<g class=\"edge\" id=\"edge278\"><title>-3055650729305336299-&gt;-5009499720985413856</title>\n<path d=\"M10114.8,-362.445C10082.7,-370.028 10028.4,-385.322 9986.94,-409.683 9976.99,-415.536 9967.15,-422.465 9957.74,-429.855\" fill=\"none\" stroke=\"black\"/>\n<polygon fill=\"black\" points=\"9955.52,-427.149 9949.94,-436.156 9959.92,-432.593 9955.52,-427.149\" stroke=\"black\"/>\n</g>\n<!-- &#45;7243250981745247873 -->\n<g class=\"node\" id=\"node486\"><title>-7243250981745247873</title>\n<ellipse cx=\"21428.9\" cy=\"-502.625\" fill=\"none\" rx=\"68.7879\" ry=\"68.7879\" stroke=\"black\"/>\n<text font-family=\"Times,serif\" font-size=\"14.00\" text-anchor=\"middle\" x=\"21428.9\" y=\"-498.925\">count-chunk</text>\n</g>\n<!-- &#45;3055650729305336299&#45;&gt;&#45;7243250981745247873 -->\n<g class=\"edge\" id=\"edge486\"><title>-3055650729305336299-&gt;-7243250981745247873</title>\n<path d=\"M10169.2,-358.481C10227,-362.187 10365.6,-370.582 10481.9,-373.683 10557.4,-375.693 21282.5,-377.856 21350.9,-409.683 21364.1,-415.779 21375.8,-425.277 21385.9,-435.898\" fill=\"none\" stroke=\"black\"/>\n<polygon fill=\"black\" points=\"21383.3,-438.305 21392.6,-443.403 21388.5,-433.626 21383.3,-438.305\" stroke=\"black\"/>\n</g>\n<!-- &#45;3055650729306418824 -->\n<g class=\"node\" id=\"node212\"><title>-3055650729306418824</title>\n<polygon fill=\"none\" points=\"11446.9,-373.683 11392.9,-373.683 11392.9,-337.683 11446.9,-337.683 11446.9,-373.683\" stroke=\"black\"/>\n<text font-family=\"Times,serif\" font-size=\"14.00\" text-anchor=\"middle\" x=\"11419.9\" y=\"-351.983\">34</text>\n</g>\n<!-- &#45;5846706053919325267&#45;&gt;&#45;3055650729306418824 -->\n<g class=\"edge\" id=\"edge141\"><title>-5846706053919325267-&gt;-3055650729306418824</title>\n<path d=\"M11419.9,-301.814C11419.9,-310.544 11419.9,-319.42 11419.9,-327.343\" fill=\"none\" stroke=\"black\"/>\n<polygon fill=\"black\" points=\"11416.4,-327.453 11419.9,-337.453 11423.4,-327.453 11416.4,-327.453\" stroke=\"black\"/>\n</g>\n<!-- &#45;4825736072722414541 -->\n<g class=\"node\" id=\"node349\"><title>-4825736072722414541</title>\n<ellipse cx=\"10904.9\" cy=\"-502.625\" fill=\"none\" rx=\"92.8835\" ry=\"92.8835\" stroke=\"black\"/>\n<text font-family=\"Times,serif\" font-size=\"14.00\" text-anchor=\"middle\" x=\"10904.9\" y=\"-498.925\">series-sum-chunk</text>\n</g>\n<!-- &#45;3055650729306418824&#45;&gt;&#45;4825736072722414541 -->\n<g class=\"edge\" id=\"edge280\"><title>-3055650729306418824-&gt;-4825736072722414541</title>\n<path d=\"M11392.7,-360.126C11301,-371.719 11009.2,-408.666 11006.9,-409.683 10996.3,-414.581 10985.9,-420.994 10976.2,-428.159\" fill=\"none\" stroke=\"black\"/>\n<polygon fill=\"black\" points=\"10974,-425.466 10968.2,-434.337 10978.2,-431.014 10974,-425.466\" stroke=\"black\"/>\n</g>\n<!-- &#45;1085839059004741898 -->\n<g class=\"node\" id=\"node488\"><title>-1085839059004741898</title>\n<ellipse cx=\"22208.9\" cy=\"-502.625\" fill=\"none\" rx=\"68.7879\" ry=\"68.7879\" stroke=\"black\"/>\n<text font-family=\"Times,serif\" font-size=\"14.00\" text-anchor=\"middle\" x=\"22208.9\" y=\"-498.925\">count-chunk</text>\n</g>\n<!-- &#45;3055650729306418824&#45;&gt;&#45;1085839059004741898 -->\n<g class=\"edge\" id=\"edge488\"><title>-3055650729306418824-&gt;-1085839059004741898</title>\n<path d=\"M11447,-357.694C11531.3,-360.792 11796.9,-370.159 12016.9,-373.683 12087.2,-374.808 22067.3,-380.059 22130.9,-409.683 22144,-415.78 22155.8,-425.279 22165.9,-435.901\" fill=\"none\" stroke=\"black\"/>\n<polygon fill=\"black\" points=\"22163.3,-438.308 22172.6,-443.405 22168.5,-433.628 22163.3,-438.308\" stroke=\"black\"/>\n</g>\n<!-- &#45;3055650729307501349 -->\n<g class=\"node\" id=\"node214\"><title>-3055650729307501349</title>\n<polygon fill=\"none\" points=\"1447.94,-373.683 1393.94,-373.683 1393.94,-337.683 1447.94,-337.683 1447.94,-373.683\" stroke=\"black\"/>\n<text font-family=\"Times,serif\" font-size=\"14.00\" text-anchor=\"middle\" x=\"1420.94\" y=\"-351.983\">35</text>\n</g>\n<!-- 2050076379901033858&#45;&gt;&#45;3055650729307501349 -->\n<g class=\"edge\" id=\"edge143\"><title>2050076379901033858-&gt;-3055650729307501349</title>\n<path d=\"M1420.94,-301.814C1420.94,-310.544 1420.94,-319.42 1420.94,-327.343\" fill=\"none\" stroke=\"black\"/>\n<polygon fill=\"black\" points=\"1417.44,-327.453 1420.94,-337.453 1424.44,-327.453 1417.44,-327.453\" stroke=\"black\"/>\n</g>\n<!-- 4489106504379360682 -->\n<g class=\"node\" id=\"node351\"><title>4489106504379360682</title>\n<ellipse cx=\"1316.94\" cy=\"-502.625\" fill=\"none\" rx=\"92.8835\" ry=\"92.8835\" stroke=\"black\"/>\n<text font-family=\"Times,serif\" font-size=\"14.00\" text-anchor=\"middle\" x=\"1316.94\" y=\"-498.925\">series-sum-chunk</text>\n</g>\n<!-- &#45;3055650729307501349&#45;&gt;4489106504379360682 -->\n<g class=\"edge\" id=\"edge282\"><title>-3055650729307501349-&gt;4489106504379360682</title>\n<path d=\"M1408.6,-373.879C1400.37,-385.349 1388.88,-401.369 1376.8,-418.195\" fill=\"none\" stroke=\"black\"/>\n<polygon fill=\"black\" points=\"1373.83,-416.338 1370.84,-426.504 1379.52,-420.419 1373.83,-416.338\" stroke=\"black\"/>\n</g>\n<!-- &#45;8621272673814782923 -->\n<g class=\"node\" id=\"node490\"><title>-8621272673814782923</title>\n<ellipse cx=\"14876.9\" cy=\"-502.625\" fill=\"none\" rx=\"68.7879\" ry=\"68.7879\" stroke=\"black\"/>\n<text font-family=\"Times,serif\" font-size=\"14.00\" text-anchor=\"middle\" x=\"14876.9\" y=\"-498.925\">count-chunk</text>\n</g>\n<!-- &#45;3055650729307501349&#45;&gt;&#45;8621272673814782923 -->\n<g class=\"edge\" id=\"edge490\"><title>-3055650729307501349-&gt;-8621272673814782923</title>\n<path d=\"M1448,-359.912C1484.15,-364.054 1550.26,-371.02 1606.94,-373.683 1698.45,-377.981 14715.9,-371.078 14798.9,-409.683 14812.1,-415.775 14823.8,-425.271 14833.9,-435.892\" fill=\"none\" stroke=\"black\"/>\n<polygon fill=\"black\" points=\"14831.3,-438.299 14840.6,-443.396 14836.5,-433.619 14831.3,-438.299\" stroke=\"black\"/>\n</g>\n<!-- &#45;3055650729299923674 -->\n<g class=\"node\" id=\"node216\"><title>-3055650729299923674</title>\n<polygon fill=\"none\" points=\"3915.94,-373.683 3861.94,-373.683 3861.94,-337.683 3915.94,-337.683 3915.94,-373.683\" stroke=\"black\"/>\n<text font-family=\"Times,serif\" font-size=\"14.00\" text-anchor=\"middle\" x=\"3888.94\" y=\"-351.983\">36</text>\n</g>\n<!-- &#45;7735958380473201349&#45;&gt;&#45;3055650729299923674 -->\n<g class=\"edge\" id=\"edge145\"><title>-7735958380473201349-&gt;-3055650729299923674</title>\n<path d=\"M3888.94,-301.814C3888.94,-310.544 3888.94,-319.42 3888.94,-327.343\" fill=\"none\" stroke=\"black\"/>\n<polygon fill=\"black\" points=\"3885.44,-327.453 3888.94,-337.453 3892.44,-327.453 3885.44,-327.453\" stroke=\"black\"/>\n</g>\n<!-- 2860025739816262101 -->\n<g class=\"node\" id=\"node353\"><title>2860025739816262101</title>\n<ellipse cx=\"3764.94\" cy=\"-502.625\" fill=\"none\" rx=\"92.8835\" ry=\"92.8835\" stroke=\"black\"/>\n<text font-family=\"Times,serif\" font-size=\"14.00\" text-anchor=\"middle\" x=\"3764.94\" y=\"-498.925\">series-sum-chunk</text>\n</g>\n<!-- &#45;3055650729299923674&#45;&gt;2860025739816262101 -->\n<g class=\"edge\" id=\"edge284\"><title>-3055650729299923674-&gt;2860025739816262101</title>\n<path d=\"M3874.23,-373.879C3863.35,-386.599 3847.68,-404.912 3831.59,-423.717\" fill=\"none\" stroke=\"black\"/>\n<polygon fill=\"black\" points=\"3828.77,-421.63 3824.93,-431.504 3834.09,-426.18 3828.77,-421.63\" stroke=\"black\"/>\n</g>\n<!-- &#45;3219146930007363948 -->\n<g class=\"node\" id=\"node492\"><title>-3219146930007363948</title>\n<ellipse cx=\"16748.9\" cy=\"-502.625\" fill=\"none\" rx=\"68.7879\" ry=\"68.7879\" stroke=\"black\"/>\n<text font-family=\"Times,serif\" font-size=\"14.00\" text-anchor=\"middle\" x=\"16748.9\" y=\"-498.925\">count-chunk</text>\n</g>\n<!-- &#45;3055650729299923674&#45;&gt;&#45;3219146930007363948 -->\n<g class=\"edge\" id=\"edge492\"><title>-3055650729299923674-&gt;-3219146930007363948</title>\n<path d=\"M3916.02,-359.595C3955.52,-363.685 4031.27,-370.939 4095.94,-373.683 4183.19,-377.385 16591.7,-372.878 16670.9,-409.683 16684.1,-415.776 16695.8,-425.273 16705.9,-435.893\" fill=\"none\" stroke=\"black\"/>\n<polygon fill=\"black\" points=\"16703.3,-438.3 16712.6,-443.398 16708.5,-433.621 16703.3,-438.3\" stroke=\"black\"/>\n</g>\n<!-- &#45;3055650729301006199 -->\n<g class=\"node\" id=\"node218\"><title>-3055650729301006199</title>\n<polygon fill=\"none\" points=\"1669.94,-373.683 1615.94,-373.683 1615.94,-337.683 1669.94,-337.683 1669.94,-373.683\" stroke=\"black\"/>\n<text font-family=\"Times,serif\" font-size=\"14.00\" text-anchor=\"middle\" x=\"1642.94\" y=\"-351.983\">37</text>\n</g>\n<!-- &#45;8818282699242335424&#45;&gt;&#45;3055650729301006199 -->\n<g class=\"edge\" id=\"edge147\"><title>-8818282699242335424-&gt;-3055650729301006199</title>\n<path d=\"M1642.94,-301.814C1642.94,-310.544 1642.94,-319.42 1642.94,-327.343\" fill=\"none\" stroke=\"black\"/>\n<polygon fill=\"black\" points=\"1639.44,-327.453 1642.94,-337.453 1646.44,-327.453 1639.44,-327.453\" stroke=\"black\"/>\n</g>\n<!-- 2957000136000782916 -->\n<g class=\"node\" id=\"node355\"><title>2957000136000782916</title>\n<ellipse cx=\"1520.94\" cy=\"-502.625\" fill=\"none\" rx=\"92.8835\" ry=\"92.8835\" stroke=\"black\"/>\n<text font-family=\"Times,serif\" font-size=\"14.00\" text-anchor=\"middle\" x=\"1520.94\" y=\"-498.925\">series-sum-chunk</text>\n</g>\n<!-- &#45;3055650729301006199&#45;&gt;2957000136000782916 -->\n<g class=\"edge\" id=\"edge286\"><title>-3055650729301006199-&gt;2957000136000782916</title>\n<path d=\"M1628.47,-373.879C1617.92,-386.411 1602.8,-404.373 1587.22,-422.884\" fill=\"none\" stroke=\"black\"/>\n<polygon fill=\"black\" points=\"1584.29,-420.933 1580.52,-430.837 1589.64,-425.44 1584.29,-420.933\" stroke=\"black\"/>\n</g>\n<!-- &#45;2179023525599951773 -->\n<g class=\"node\" id=\"node494\"><title>-2179023525599951773</title>\n<ellipse cx=\"15032.9\" cy=\"-502.625\" fill=\"none\" rx=\"68.7879\" ry=\"68.7879\" stroke=\"black\"/>\n<text font-family=\"Times,serif\" font-size=\"14.00\" text-anchor=\"middle\" x=\"15032.9\" y=\"-498.925\">count-chunk</text>\n</g>\n<!-- &#45;3055650729301006199&#45;&gt;&#45;2179023525599951773 -->\n<g class=\"edge\" id=\"edge494\"><title>-3055650729301006199-&gt;-2179023525599951773</title>\n<path d=\"M1670.09,-359.63C1709.3,-363.728 1784.07,-370.951 1847.94,-373.683 1938.88,-377.572 14872.4,-371.326 14954.9,-409.683 14968.1,-415.775 14979.8,-425.271 14989.9,-435.892\" fill=\"none\" stroke=\"black\"/>\n<polygon fill=\"black\" points=\"14987.3,-438.299 14996.6,-443.396 14992.5,-433.62 14987.3,-438.299\" stroke=\"black\"/>\n</g>\n<!-- &#45;3055650729302088724 -->\n<g class=\"node\" id=\"node220\"><title>-3055650729302088724</title>\n<polygon fill=\"none\" points=\"7957.94,-373.683 7903.94,-373.683 7903.94,-337.683 7957.94,-337.683 7957.94,-373.683\" stroke=\"black\"/>\n<text font-family=\"Times,serif\" font-size=\"14.00\" text-anchor=\"middle\" x=\"7930.94\" y=\"-351.983\">38</text>\n</g>\n<!-- 8456153025918612617&#45;&gt;&#45;3055650729302088724 -->\n<g class=\"edge\" id=\"edge149\"><title>8456153025918612617-&gt;-3055650729302088724</title>\n<path d=\"M7930.94,-301.814C7930.94,-310.544 7930.94,-319.42 7930.94,-327.343\" fill=\"none\" stroke=\"black\"/>\n<polygon fill=\"black\" points=\"7927.44,-327.453 7930.94,-337.453 7934.44,-327.453 7927.44,-327.453\" stroke=\"black\"/>\n</g>\n<!-- &#45;6984460170748154553 -->\n<g class=\"node\" id=\"node357\"><title>-6984460170748154553</title>\n<ellipse cx=\"7844.94\" cy=\"-502.625\" fill=\"none\" rx=\"92.8835\" ry=\"92.8835\" stroke=\"black\"/>\n<text font-family=\"Times,serif\" font-size=\"14.00\" text-anchor=\"middle\" x=\"7844.94\" y=\"-498.925\">series-sum-chunk</text>\n</g>\n<!-- &#45;3055650729302088724&#45;&gt;&#45;6984460170748154553 -->\n<g class=\"edge\" id=\"edge288\"><title>-3055650729302088724-&gt;-6984460170748154553</title>\n<path d=\"M7920.74,-373.879C7914.6,-384.222 7906.27,-398.263 7897.37,-413.259\" fill=\"none\" stroke=\"black\"/>\n<polygon fill=\"black\" points=\"7894.17,-411.792 7892.08,-422.178 7900.19,-415.364 7894.17,-411.792\" stroke=\"black\"/>\n</g>\n<!-- 2152195561815073802 -->\n<g class=\"node\" id=\"node496\"><title>2152195561815073802</title>\n<ellipse cx=\"19868.9\" cy=\"-502.625\" fill=\"none\" rx=\"68.7879\" ry=\"68.7879\" stroke=\"black\"/>\n<text font-family=\"Times,serif\" font-size=\"14.00\" text-anchor=\"middle\" x=\"19868.9\" y=\"-498.925\">count-chunk</text>\n</g>\n<!-- &#45;3055650729302088724&#45;&gt;2152195561815073802 -->\n<g class=\"edge\" id=\"edge496\"><title>-3055650729302088724-&gt;2152195561815073802</title>\n<path d=\"M7958.23,-360.273C7991.42,-364.447 8049.17,-371.094 8098.94,-373.683 8180.03,-377.9 19717.3,-375.454 19790.9,-409.683 19804.1,-415.777 19815.8,-425.275 19825.9,-435.896\" fill=\"none\" stroke=\"black\"/>\n<polygon fill=\"black\" points=\"19823.3,-438.303 19832.6,-443.4 19828.5,-433.623 19823.3,-438.303\" stroke=\"black\"/>\n</g>\n<!-- &#45;3055650729303171249 -->\n<g class=\"node\" id=\"node222\"><title>-3055650729303171249</title>\n<polygon fill=\"none\" points=\"5323.94,-373.683 5269.94,-373.683 5269.94,-337.683 5323.94,-337.683 5323.94,-373.683\" stroke=\"black\"/>\n<text font-family=\"Times,serif\" font-size=\"14.00\" text-anchor=\"middle\" x=\"5296.94\" y=\"-351.983\">39</text>\n</g>\n<!-- &#45;3122056203705827042&#45;&gt;&#45;3055650729303171249 -->\n<g class=\"edge\" id=\"edge151\"><title>-3122056203705827042-&gt;-3055650729303171249</title>\n<path d=\"M5296.94,-301.814C5296.94,-310.544 5296.94,-319.42 5296.94,-327.343\" fill=\"none\" stroke=\"black\"/>\n<polygon fill=\"black\" points=\"5293.44,-327.453 5296.94,-337.453 5300.44,-327.453 5293.44,-327.453\" stroke=\"black\"/>\n</g>\n<!-- &#45;6743719316281201138 -->\n<g class=\"node\" id=\"node359\"><title>-6743719316281201138</title>\n<ellipse cx=\"5192.94\" cy=\"-502.625\" fill=\"none\" rx=\"92.8835\" ry=\"92.8835\" stroke=\"black\"/>\n<text font-family=\"Times,serif\" font-size=\"14.00\" text-anchor=\"middle\" x=\"5192.94\" y=\"-498.925\">series-sum-chunk</text>\n</g>\n<!-- &#45;3055650729303171249&#45;&gt;&#45;6743719316281201138 -->\n<g class=\"edge\" id=\"edge290\"><title>-3055650729303171249-&gt;-6743719316281201138</title>\n<path d=\"M5284.6,-373.879C5276.37,-385.349 5264.88,-401.369 5252.8,-418.195\" fill=\"none\" stroke=\"black\"/>\n<polygon fill=\"black\" points=\"5249.83,-416.338 5246.84,-426.504 5255.52,-420.419 5249.83,-416.338\" stroke=\"black\"/>\n</g>\n<!-- 3178953048632275177 -->\n<g class=\"node\" id=\"node498\"><title>3178953048632275177</title>\n<ellipse cx=\"17840.9\" cy=\"-502.625\" fill=\"none\" rx=\"68.7879\" ry=\"68.7879\" stroke=\"black\"/>\n<text font-family=\"Times,serif\" font-size=\"14.00\" text-anchor=\"middle\" x=\"17840.9\" y=\"-498.925\">count-chunk</text>\n</g>\n<!-- &#45;3055650729303171249&#45;&gt;3178953048632275177 -->\n<g class=\"edge\" id=\"edge498\"><title>-3055650729303171249-&gt;3178953048632275177</title>\n<path d=\"M5324.14,-359.91C5360.5,-364.05 5426.96,-371.014 5483.94,-373.683 5569.12,-377.672 17685.6,-373.741 17762.9,-409.683 17776.1,-415.776 17787.8,-425.273 17797.9,-435.894\" fill=\"none\" stroke=\"black\"/>\n<polygon fill=\"black\" points=\"17795.3,-438.301 17804.6,-443.398 17800.5,-433.622 17795.3,-438.301\" stroke=\"black\"/>\n</g>\n<!-- &#45;3055650729295593574 -->\n<g class=\"node\" id=\"node224\"><title>-3055650729295593574</title>\n<polygon fill=\"none\" points=\"2108.94,-373.683 2054.94,-373.683 2054.94,-337.683 2108.94,-337.683 2108.94,-373.683\" stroke=\"black\"/>\n<text font-family=\"Times,serif\" font-size=\"14.00\" text-anchor=\"middle\" x=\"2081.94\" y=\"-351.983\">40</text>\n</g>\n<!-- 6526165384478540167&#45;&gt;&#45;3055650729295593574 -->\n<g class=\"edge\" id=\"edge153\"><title>6526165384478540167-&gt;-3055650729295593574</title>\n<path d=\"M2081.94,-301.814C2081.94,-310.544 2081.94,-319.42 2081.94,-327.343\" fill=\"none\" stroke=\"black\"/>\n<polygon fill=\"black\" points=\"2078.44,-327.453 2081.94,-337.453 2085.44,-327.453 2078.44,-327.453\" stroke=\"black\"/>\n</g>\n<!-- &#45;6857602642950904535 -->\n<g class=\"node\" id=\"node361\"><title>-6857602642950904535</title>\n<ellipse cx=\"1928.94\" cy=\"-502.625\" fill=\"none\" rx=\"92.8835\" ry=\"92.8835\" stroke=\"black\"/>\n<text font-family=\"Times,serif\" font-size=\"14.00\" text-anchor=\"middle\" x=\"1928.94\" y=\"-498.925\">series-sum-chunk</text>\n</g>\n<!-- &#45;3055650729295593574&#45;&gt;&#45;6857602642950904535 -->\n<g class=\"edge\" id=\"edge292\"><title>-3055650729295593574-&gt;-6857602642950904535</title>\n<path d=\"M2063.79,-373.879C2048.58,-388.291 2025.78,-409.885 2003.24,-431.237\" fill=\"none\" stroke=\"black\"/>\n<polygon fill=\"black\" points=\"2000.8,-428.733 1995.94,-438.151 2005.61,-433.815 2000.8,-428.733\" stroke=\"black\"/>\n</g>\n<!-- &#45;375823640238556248 -->\n<g class=\"node\" id=\"node500\"><title>-375823640238556248</title>\n<ellipse cx=\"15344.9\" cy=\"-502.625\" fill=\"none\" rx=\"68.7879\" ry=\"68.7879\" stroke=\"black\"/>\n<text font-family=\"Times,serif\" font-size=\"14.00\" text-anchor=\"middle\" x=\"15344.9\" y=\"-498.925\">count-chunk</text>\n</g>\n<!-- &#45;3055650729295593574&#45;&gt;&#45;375823640238556248 -->\n<g class=\"edge\" id=\"edge500\"><title>-3055650729295593574-&gt;-375823640238556248</title>\n<path d=\"M2109.22,-360.425C2141.19,-364.61 2195.79,-371.135 2242.94,-373.683 2333.25,-378.563 15184.9,-371.568 15266.9,-409.683 15280.1,-415.775 15291.8,-425.272 15301.9,-435.892\" fill=\"none\" stroke=\"black\"/>\n<polygon fill=\"black\" points=\"15299.3,-438.299 15308.6,-443.397 15304.5,-433.62 15299.3,-438.299\" stroke=\"black\"/>\n</g>\n<!-- &#45;3055650729296676099 -->\n<g class=\"node\" id=\"node226\"><title>-3055650729296676099</title>\n<polygon fill=\"none\" points=\"11049.9,-373.683 10995.9,-373.683 10995.9,-337.683 11049.9,-337.683 11049.9,-373.683\" stroke=\"black\"/>\n<text font-family=\"Times,serif\" font-size=\"14.00\" text-anchor=\"middle\" x=\"11022.9\" y=\"-351.983\">41</text>\n</g>\n<!-- 4932627236757308892&#45;&gt;&#45;3055650729296676099 -->\n<g class=\"edge\" id=\"edge155\"><title>4932627236757308892-&gt;-3055650729296676099</title>\n<path d=\"M11022.9,-301.814C11022.9,-310.544 11022.9,-319.42 11022.9,-327.343\" fill=\"none\" stroke=\"black\"/>\n<polygon fill=\"black\" points=\"11019.4,-327.453 11022.9,-337.453 11026.4,-327.453 11019.4,-327.453\" stroke=\"black\"/>\n</g>\n<!-- 2442398568353410488 -->\n<g class=\"node\" id=\"node363\"><title>2442398568353410488</title>\n<ellipse cx=\"10496.9\" cy=\"-502.625\" fill=\"none\" rx=\"92.8835\" ry=\"92.8835\" stroke=\"black\"/>\n<text font-family=\"Times,serif\" font-size=\"14.00\" text-anchor=\"middle\" x=\"10496.9\" y=\"-498.925\">series-sum-chunk</text>\n</g>\n<!-- &#45;3055650729296676099&#45;&gt;2442398568353410488 -->\n<g class=\"edge\" id=\"edge294\"><title>-3055650729296676099-&gt;2442398568353410488</title>\n<path d=\"M10995.7,-357.958C10913.7,-362.128 10670.4,-377.014 10598.9,-409.683 10588.3,-414.563 10577.9,-420.966 10568.2,-428.125\" fill=\"none\" stroke=\"black\"/>\n<polygon fill=\"black\" points=\"10566,-425.43 10560.2,-434.299 10570.2,-430.98 10566,-425.43\" stroke=\"black\"/>\n</g>\n<!-- 683038128661827527 -->\n<g class=\"node\" id=\"node502\"><title>683038128661827527</title>\n<ellipse cx=\"21896.9\" cy=\"-502.625\" fill=\"none\" rx=\"68.7879\" ry=\"68.7879\" stroke=\"black\"/>\n<text font-family=\"Times,serif\" font-size=\"14.00\" text-anchor=\"middle\" x=\"21896.9\" y=\"-498.925\">count-chunk</text>\n</g>\n<!-- &#45;3055650729296676099&#45;&gt;683038128661827527 -->\n<g class=\"edge\" id=\"edge502\"><title>-3055650729296676099-&gt;683038128661827527</title>\n<path d=\"M11050.1,-359.87C11086.8,-364.001 11154.2,-370.992 11211.9,-373.683 11285.5,-377.11 21752.2,-378.62 21818.9,-409.683 21832,-415.779 21843.8,-425.278 21853.9,-435.899\" fill=\"none\" stroke=\"black\"/>\n<polygon fill=\"black\" points=\"21851.3,-438.306 21860.6,-443.403 21856.5,-433.627 21851.3,-438.306\" stroke=\"black\"/>\n</g>\n<!-- &#45;3055650729297758624 -->\n<g class=\"node\" id=\"node228\"><title>-3055650729297758624</title>\n<polygon fill=\"none\" points=\"2496.94,-373.683 2442.94,-373.683 2442.94,-337.683 2496.94,-337.683 2496.94,-373.683\" stroke=\"black\"/>\n<text font-family=\"Times,serif\" font-size=\"14.00\" text-anchor=\"middle\" x=\"2469.94\" y=\"-351.983\">42</text>\n</g>\n<!-- 3757681102936003717&#45;&gt;&#45;3055650729297758624 -->\n<g class=\"edge\" id=\"edge157\"><title>3757681102936003717-&gt;-3055650729297758624</title>\n<path d=\"M2469.94,-301.814C2469.94,-310.544 2469.94,-319.42 2469.94,-327.343\" fill=\"none\" stroke=\"black\"/>\n<polygon fill=\"black\" points=\"2466.44,-327.453 2469.94,-337.453 2473.44,-327.453 2466.44,-327.453\" stroke=\"black\"/>\n</g>\n<!-- &#45;7511488594057616181 -->\n<g class=\"node\" id=\"node365\"><title>-7511488594057616181</title>\n<ellipse cx=\"2336.94\" cy=\"-502.625\" fill=\"none\" rx=\"92.8835\" ry=\"92.8835\" stroke=\"black\"/>\n<text font-family=\"Times,serif\" font-size=\"14.00\" text-anchor=\"middle\" x=\"2336.94\" y=\"-498.925\">series-sum-chunk</text>\n</g>\n<!-- &#45;3055650729297758624&#45;&gt;&#45;7511488594057616181 -->\n<g class=\"edge\" id=\"edge296\"><title>-3055650729297758624-&gt;-7511488594057616181</title>\n<path d=\"M2454.16,-373.879C2442.02,-387.111 2424.32,-406.396 2406.35,-425.99\" fill=\"none\" stroke=\"black\"/>\n<polygon fill=\"black\" points=\"2403.63,-423.768 2399.45,-433.502 2408.79,-428.5 2403.63,-423.768\" stroke=\"black\"/>\n</g>\n<!-- 7177099007952832702 -->\n<g class=\"node\" id=\"node504\"><title>7177099007952832702</title>\n<ellipse cx=\"15656.9\" cy=\"-502.625\" fill=\"none\" rx=\"68.7879\" ry=\"68.7879\" stroke=\"black\"/>\n<text font-family=\"Times,serif\" font-size=\"14.00\" text-anchor=\"middle\" x=\"15656.9\" y=\"-498.925\">count-chunk</text>\n</g>\n<!-- &#45;3055650729297758624&#45;&gt;7177099007952832702 -->\n<g class=\"edge\" id=\"edge504\"><title>-3055650729297758624-&gt;7177099007952832702</title>\n<path d=\"M2497.03,-360.538C2527.91,-364.727 2579.94,-371.16 2624.94,-373.683 2714.76,-378.719 15497.4,-371.772 15578.9,-409.683 15592.1,-415.775 15603.8,-425.272 15613.9,-435.892\" fill=\"none\" stroke=\"black\"/>\n<polygon fill=\"black\" points=\"15611.3,-438.3 15620.6,-443.397 15616.5,-433.62 15611.3,-438.3\" stroke=\"black\"/>\n</g>\n<!-- &#45;3055650729298841149 -->\n<g class=\"node\" id=\"node230\"><title>-3055650729298841149</title>\n<polygon fill=\"none\" points=\"9191.94,-373.683 9137.94,-373.683 9137.94,-337.683 9191.94,-337.683 9191.94,-373.683\" stroke=\"black\"/>\n<text font-family=\"Times,serif\" font-size=\"14.00\" text-anchor=\"middle\" x=\"9164.94\" y=\"-351.983\">43</text>\n</g>\n<!-- &#45;6709915618922775974&#45;&gt;&#45;3055650729298841149 -->\n<g class=\"edge\" id=\"edge159\"><title>-6709915618922775974-&gt;-3055650729298841149</title>\n<path d=\"M9164.94,-301.814C9164.94,-310.544 9164.94,-319.42 9164.94,-327.343\" fill=\"none\" stroke=\"black\"/>\n<polygon fill=\"black\" points=\"9161.44,-327.453 9164.94,-337.453 9168.44,-327.453 9161.44,-327.453\" stroke=\"black\"/>\n</g>\n<!-- &#45;7308809132794731966 -->\n<g class=\"node\" id=\"node367\"><title>-7308809132794731966</title>\n<ellipse cx=\"9068.94\" cy=\"-502.625\" fill=\"none\" rx=\"92.8835\" ry=\"92.8835\" stroke=\"black\"/>\n<text font-family=\"Times,serif\" font-size=\"14.00\" text-anchor=\"middle\" x=\"9068.94\" y=\"-498.925\">series-sum-chunk</text>\n</g>\n<!-- &#45;3055650729298841149&#45;&gt;&#45;7308809132794731966 -->\n<g class=\"edge\" id=\"edge298\"><title>-3055650729298841149-&gt;-7308809132794731966</title>\n<path d=\"M9153.55,-373.879C9146.28,-384.862 9136.24,-400.016 9125.62,-416.055\" fill=\"none\" stroke=\"black\"/>\n<polygon fill=\"black\" points=\"9122.62,-414.236 9120.02,-424.505 9128.46,-418.101 9122.62,-414.236\" stroke=\"black\"/>\n</g>\n<!-- 7050231758983158909 -->\n<g class=\"node\" id=\"node506\"><title>7050231758983158909</title>\n<ellipse cx=\"20804.9\" cy=\"-502.625\" fill=\"none\" rx=\"68.7879\" ry=\"68.7879\" stroke=\"black\"/>\n<text font-family=\"Times,serif\" font-size=\"14.00\" text-anchor=\"middle\" x=\"20804.9\" y=\"-498.925\">count-chunk</text>\n</g>\n<!-- &#45;3055650729298841149&#45;&gt;7050231758983158909 -->\n<g class=\"edge\" id=\"edge506\"><title>-3055650729298841149-&gt;7050231758983158909</title>\n<path d=\"M9192.18,-360.052C9227.22,-364.207 9290,-371.042 9343.94,-373.683 9422.9,-377.549 20655.3,-376.356 20726.9,-409.683 20740.1,-415.778 20751.8,-425.275 20761.9,-435.896\" fill=\"none\" stroke=\"black\"/>\n<polygon fill=\"black\" points=\"20759.3,-438.304 20768.6,-443.401 20764.5,-433.624 20759.3,-438.304\" stroke=\"black\"/>\n</g>\n<!-- &#45;3055650729291263474 -->\n<g class=\"node\" id=\"node232\"><title>-3055650729291263474</title>\n<polygon fill=\"none\" points=\"11274.9,-373.683 11220.9,-373.683 11220.9,-337.683 11274.9,-337.683 11274.9,-373.683\" stroke=\"black\"/>\n<text font-family=\"Times,serif\" font-size=\"14.00\" text-anchor=\"middle\" x=\"11247.9\" y=\"-351.983\">44</text>\n</g>\n<!-- 1965209226258019667&#45;&gt;&#45;3055650729291263474 -->\n<g class=\"edge\" id=\"edge161\"><title>1965209226258019667-&gt;-3055650729291263474</title>\n<path d=\"M11247.9,-301.814C11247.9,-310.544 11247.9,-319.42 11247.9,-327.343\" fill=\"none\" stroke=\"black\"/>\n<polygon fill=\"black\" points=\"11244.4,-327.453 11247.9,-337.453 11251.4,-327.453 11244.4,-327.453\" stroke=\"black\"/>\n</g>\n<!-- &#45;9106405964814876115 -->\n<g class=\"node\" id=\"node369\"><title>-9106405964814876115</title>\n<ellipse cx=\"10700.9\" cy=\"-502.625\" fill=\"none\" rx=\"92.8835\" ry=\"92.8835\" stroke=\"black\"/>\n<text font-family=\"Times,serif\" font-size=\"14.00\" text-anchor=\"middle\" x=\"10700.9\" y=\"-498.925\">series-sum-chunk</text>\n</g>\n<!-- &#45;3055650729291263474&#45;&gt;&#45;9106405964814876115 -->\n<g class=\"edge\" id=\"edge300\"><title>-3055650729291263474-&gt;-9106405964814876115</title>\n<path d=\"M11220.9,-358.942C11130.4,-366.645 10841.1,-392.359 10802.9,-409.683 10792.3,-414.532 10781.9,-420.916 10772.2,-428.064\" fill=\"none\" stroke=\"black\"/>\n<polygon fill=\"black\" points=\"10769.9,-425.367 10764.1,-434.231 10774.2,-430.92 10769.9,-425.367\" stroke=\"black\"/>\n</g>\n<!-- 4705839668999311452 -->\n<g class=\"node\" id=\"node508\"><title>4705839668999311452</title>\n<ellipse cx=\"22052.9\" cy=\"-502.625\" fill=\"none\" rx=\"68.7879\" ry=\"68.7879\" stroke=\"black\"/>\n<text font-family=\"Times,serif\" font-size=\"14.00\" text-anchor=\"middle\" x=\"22052.9\" y=\"-498.925\">count-chunk</text>\n</g>\n<!-- &#45;3055650729291263474&#45;&gt;4705839668999311452 -->\n<g class=\"edge\" id=\"edge508\"><title>-3055650729291263474-&gt;4705839668999311452</title>\n<path d=\"M11274.9,-361.036C11302.3,-365.219 11345.9,-371.253 11383.9,-373.683 11457.3,-378.378 21908.3,-378.667 21974.9,-409.683 21988,-415.779 21999.8,-425.278 22009.9,-435.899\" fill=\"none\" stroke=\"black\"/>\n<polygon fill=\"black\" points=\"22007.3,-438.306 22016.6,-443.404 22012.5,-433.627 22007.3,-438.306\" stroke=\"black\"/>\n</g>\n<!-- &#45;3055650729292345999 -->\n<g class=\"node\" id=\"node234\"><title>-3055650729292345999</title>\n<polygon fill=\"none\" points=\"12670.9,-373.683 12616.9,-373.683 12616.9,-337.683 12670.9,-337.683 12670.9,-373.683\" stroke=\"black\"/>\n<text font-family=\"Times,serif\" font-size=\"14.00\" text-anchor=\"middle\" x=\"12643.9\" y=\"-351.983\">45</text>\n</g>\n<!-- 839551882969946392&#45;&gt;&#45;3055650729292345999 -->\n<g class=\"edge\" id=\"edge163\"><title>839551882969946392-&gt;-3055650729292345999</title>\n<path d=\"M12643.9,-301.814C12643.9,-310.544 12643.9,-319.42 12643.9,-327.343\" fill=\"none\" stroke=\"black\"/>\n<polygon fill=\"black\" points=\"12640.4,-327.453 12643.9,-337.453 12647.4,-327.453 12640.4,-327.453\" stroke=\"black\"/>\n</g>\n<!-- &#45;7696807025560426532 -->\n<g class=\"node\" id=\"node371\"><title>-7696807025560426532</title>\n<ellipse cx=\"11312.9\" cy=\"-502.625\" fill=\"none\" rx=\"92.8835\" ry=\"92.8835\" stroke=\"black\"/>\n<text font-family=\"Times,serif\" font-size=\"14.00\" text-anchor=\"middle\" x=\"11312.9\" y=\"-498.925\">series-sum-chunk</text>\n</g>\n<!-- &#45;3055650729292345999&#45;&gt;&#45;7696807025560426532 -->\n<g class=\"edge\" id=\"edge302\"><title>-3055650729292345999-&gt;-7696807025560426532</title>\n<path d=\"M12616.7,-357.604C12438.2,-363.662 11443.7,-397.906 11414.9,-409.683 11404,-414.161 11393.5,-420.357 11383.6,-427.435\" fill=\"none\" stroke=\"black\"/>\n<polygon fill=\"black\" points=\"11381.3,-424.753 11375.5,-433.571 11385.6,-430.341 11381.3,-424.753\" stroke=\"black\"/>\n</g>\n<!-- 5632463317627706027 -->\n<g class=\"node\" id=\"node510\"><title>5632463317627706027</title>\n<ellipse cx=\"22520.9\" cy=\"-502.625\" fill=\"none\" rx=\"68.7879\" ry=\"68.7879\" stroke=\"black\"/>\n<text font-family=\"Times,serif\" font-size=\"14.00\" text-anchor=\"middle\" x=\"22520.9\" y=\"-498.925\">count-chunk</text>\n</g>\n<!-- &#45;3055650729292345999&#45;&gt;5632463317627706027 -->\n<g class=\"edge\" id=\"edge510\"><title>-3055650729292345999-&gt;5632463317627706027</title>\n<path d=\"M12671,-357.771C12751.4,-360.944 12995.4,-370.182 13197.9,-373.683 13262.1,-374.792 22384.7,-382.594 22442.9,-409.683 22456,-415.782 22467.8,-425.282 22477.9,-435.904\" fill=\"none\" stroke=\"black\"/>\n<polygon fill=\"black\" points=\"22475.3,-438.311 22484.6,-443.409 22480.5,-433.632 22475.3,-438.311\" stroke=\"black\"/>\n</g>\n<!-- &#45;3055650729293428524 -->\n<g class=\"node\" id=\"node236\"><title>-3055650729293428524</title>\n<polygon fill=\"none\" points=\"7753.94,-373.683 7699.94,-373.683 7699.94,-337.683 7753.94,-337.683 7753.94,-373.683\" stroke=\"black\"/>\n<text font-family=\"Times,serif\" font-size=\"14.00\" text-anchor=\"middle\" x=\"7726.94\" y=\"-351.983\">46</text>\n</g>\n<!-- &#45;335777375916988383&#45;&gt;&#45;3055650729293428524 -->\n<g class=\"edge\" id=\"edge165\"><title>-335777375916988383-&gt;-3055650729293428524</title>\n<path d=\"M7726.94,-301.814C7726.94,-310.544 7726.94,-319.42 7726.94,-327.343\" fill=\"none\" stroke=\"black\"/>\n<polygon fill=\"black\" points=\"7723.44,-327.453 7726.94,-337.453 7730.44,-327.453 7723.44,-327.453\" stroke=\"black\"/>\n</g>\n<!-- 1695851408396148191 -->\n<g class=\"node\" id=\"node373\"><title>1695851408396148191</title>\n<ellipse cx=\"7640.94\" cy=\"-502.625\" fill=\"none\" rx=\"92.8835\" ry=\"92.8835\" stroke=\"black\"/>\n<text font-family=\"Times,serif\" font-size=\"14.00\" text-anchor=\"middle\" x=\"7640.94\" y=\"-498.925\">series-sum-chunk</text>\n</g>\n<!-- &#45;3055650729293428524&#45;&gt;1695851408396148191 -->\n<g class=\"edge\" id=\"edge304\"><title>-3055650729293428524-&gt;1695851408396148191</title>\n<path d=\"M7716.74,-373.879C7710.6,-384.222 7702.27,-398.263 7693.37,-413.259\" fill=\"none\" stroke=\"black\"/>\n<polygon fill=\"black\" points=\"7690.17,-411.792 7688.08,-422.178 7696.19,-415.364 7690.17,-411.792\" stroke=\"black\"/>\n</g>\n<!-- 8864414320585980434 -->\n<g class=\"node\" id=\"node512\"><title>8864414320585980434</title>\n<ellipse cx=\"19712.9\" cy=\"-502.625\" fill=\"none\" rx=\"68.7879\" ry=\"68.7879\" stroke=\"black\"/>\n<text font-family=\"Times,serif\" font-size=\"14.00\" text-anchor=\"middle\" x=\"19712.9\" y=\"-498.925\">count-chunk</text>\n</g>\n<!-- &#45;3055650729293428524&#45;&gt;8864414320585980434 -->\n<g class=\"edge\" id=\"edge512\"><title>-3055650729293428524-&gt;8864414320585980434</title>\n<path d=\"M7754.23,-360.273C7787.42,-364.447 7845.17,-371.095 7894.94,-373.683 7976.36,-377.917 19561,-375.314 19634.9,-409.683 19648.1,-415.777 19659.8,-425.274 19669.9,-435.895\" fill=\"none\" stroke=\"black\"/>\n<polygon fill=\"black\" points=\"19667.3,-438.303 19676.6,-443.4 19672.5,-433.623 19667.3,-438.303\" stroke=\"black\"/>\n</g>\n<!-- &#45;3055650729294511049 -->\n<g class=\"node\" id=\"node238\"><title>-3055650729294511049</title>\n<polygon fill=\"none\" points=\"4358.94,-373.683 4304.94,-373.683 4304.94,-337.683 4358.94,-337.683 4358.94,-373.683\" stroke=\"black\"/>\n<text font-family=\"Times,serif\" font-size=\"14.00\" text-anchor=\"middle\" x=\"4331.94\" y=\"-351.983\">47</text>\n</g>\n<!-- 7645716616887153142&#45;&gt;&#45;3055650729294511049 -->\n<g class=\"edge\" id=\"edge167\"><title>7645716616887153142-&gt;-3055650729294511049</title>\n<path d=\"M4331.94,-301.814C4331.94,-310.544 4331.94,-319.42 4331.94,-327.343\" fill=\"none\" stroke=\"black\"/>\n<polygon fill=\"black\" points=\"4328.44,-327.453 4331.94,-337.453 4335.44,-327.453 4328.44,-327.453\" stroke=\"black\"/>\n</g>\n<!-- &#45;4645325695995411290 -->\n<g class=\"node\" id=\"node375\"><title>-4645325695995411290</title>\n<ellipse cx=\"4172.94\" cy=\"-502.625\" fill=\"none\" rx=\"92.8835\" ry=\"92.8835\" stroke=\"black\"/>\n<text font-family=\"Times,serif\" font-size=\"14.00\" text-anchor=\"middle\" x=\"4172.94\" y=\"-498.925\">series-sum-chunk</text>\n</g>\n<!-- &#45;3055650729294511049&#45;&gt;&#45;4645325695995411290 -->\n<g class=\"edge\" id=\"edge306\"><title>-3055650729294511049-&gt;-4645325695995411290</title>\n<path d=\"M4313.08,-373.879C4297.04,-388.494 4272.91,-410.494 4249.17,-432.139\" fill=\"none\" stroke=\"black\"/>\n<polygon fill=\"black\" points=\"4246.51,-429.821 4241.48,-439.144 4251.23,-434.994 4246.51,-429.821\" stroke=\"black\"/>\n</g>\n<!-- &#45;6948397254607827407 -->\n<g class=\"node\" id=\"node514\"><title>-6948397254607827407</title>\n<ellipse cx=\"17060.9\" cy=\"-502.625\" fill=\"none\" rx=\"68.7879\" ry=\"68.7879\" stroke=\"black\"/>\n<text font-family=\"Times,serif\" font-size=\"14.00\" text-anchor=\"middle\" x=\"17060.9\" y=\"-498.925\">count-chunk</text>\n</g>\n<!-- &#45;3055650729294511049&#45;&gt;&#45;6948397254607827407 -->\n<g class=\"edge\" id=\"edge514\"><title>-3055650729294511049-&gt;-6948397254607827407</title>\n<path d=\"M4359.15,-360.349C4391.64,-364.529 4447.63,-371.116 4495.94,-373.683 4582.54,-378.284 16904.3,-373.135 16982.9,-409.683 16996.1,-415.776 17007.8,-425.273 17017.9,-435.894\" fill=\"none\" stroke=\"black\"/>\n<polygon fill=\"black\" points=\"17015.3,-438.301 17024.6,-443.398 17020.5,-433.621 17015.3,-438.301\" stroke=\"black\"/>\n</g>\n<!-- &#45;3055650729286933374 -->\n<g class=\"node\" id=\"node240\"><title>-3055650729286933374</title>\n<polygon fill=\"none\" points=\"6755.94,-373.683 6701.94,-373.683 6701.94,-337.683 6755.94,-337.683 6755.94,-373.683\" stroke=\"black\"/>\n<text font-family=\"Times,serif\" font-size=\"14.00\" text-anchor=\"middle\" x=\"6728.94\" y=\"-351.983\">48</text>\n</g>\n<!-- &#45;1028807021572259233&#45;&gt;&#45;3055650729286933374 -->\n<g class=\"edge\" id=\"edge169\"><title>-1028807021572259233-&gt;-3055650729286933374</title>\n<path d=\"M6728.94,-301.814C6728.94,-310.544 6728.94,-319.42 6728.94,-327.343\" fill=\"none\" stroke=\"black\"/>\n<polygon fill=\"black\" points=\"6725.44,-327.453 6728.94,-337.453 6732.44,-327.453 6725.44,-327.453\" stroke=\"black\"/>\n</g>\n<!-- &#45;1514456377265781407 -->\n<g class=\"node\" id=\"node377\"><title>-1514456377265781407</title>\n<ellipse cx=\"6620.94\" cy=\"-502.625\" fill=\"none\" rx=\"92.8835\" ry=\"92.8835\" stroke=\"black\"/>\n<text font-family=\"Times,serif\" font-size=\"14.00\" text-anchor=\"middle\" x=\"6620.94\" y=\"-498.925\">series-sum-chunk</text>\n</g>\n<!-- &#45;3055650729286933374&#45;&gt;&#45;1514456377265781407 -->\n<g class=\"edge\" id=\"edge308\"><title>-3055650729286933374-&gt;-1514456377265781407</title>\n<path d=\"M6716.13,-373.879C6707.44,-385.543 6695.24,-401.91 6682.47,-419.046\" fill=\"none\" stroke=\"black\"/>\n<polygon fill=\"black\" points=\"6679.34,-417.393 6676.17,-427.503 6684.95,-421.576 6679.34,-417.393\" stroke=\"black\"/>\n</g>\n<!-- &#45;3161231239152002832 -->\n<g class=\"node\" id=\"node516\"><title>-3161231239152002832</title>\n<ellipse cx=\"18932.9\" cy=\"-502.625\" fill=\"none\" rx=\"68.7879\" ry=\"68.7879\" stroke=\"black\"/>\n<text font-family=\"Times,serif\" font-size=\"14.00\" text-anchor=\"middle\" x=\"18932.9\" y=\"-498.925\">count-chunk</text>\n</g>\n<!-- &#45;3055650729286933374&#45;&gt;&#45;3161231239152002832 -->\n<g class=\"edge\" id=\"edge516\"><title>-3055650729286933374-&gt;-3161231239152002832</title>\n<path d=\"M6756.04,-360.766C6785.29,-364.957 6833.29,-371.203 6874.94,-373.683 6957.99,-378.627 18779.5,-374.614 18854.9,-409.683 18868.1,-415.777 18879.8,-425.274 18889.9,-435.895\" fill=\"none\" stroke=\"black\"/>\n<polygon fill=\"black\" points=\"18887.3,-438.302 18896.6,-443.399 18892.5,-433.622 18887.3,-438.302\" stroke=\"black\"/>\n</g>\n<!-- &#45;3055650729288015899 -->\n<g class=\"node\" id=\"node242\"><title>-3055650729288015899</title>\n<polygon fill=\"none\" points=\"12079.9,-373.683 12025.9,-373.683 12025.9,-337.683 12079.9,-337.683 12079.9,-373.683\" stroke=\"black\"/>\n<text font-family=\"Times,serif\" font-size=\"14.00\" text-anchor=\"middle\" x=\"12052.9\" y=\"-351.983\">49</text>\n</g>\n<!-- &#45;3894045243623154508&#45;&gt;&#45;3055650729288015899 -->\n<g class=\"edge\" id=\"edge171\"><title>-3894045243623154508-&gt;-3055650729288015899</title>\n<path d=\"M12052.9,-301.814C12052.9,-310.544 12052.9,-319.42 12052.9,-327.343\" fill=\"none\" stroke=\"black\"/>\n<polygon fill=\"black\" points=\"12049.4,-327.453 12052.9,-337.453 12056.4,-327.453 12049.4,-327.453\" stroke=\"black\"/>\n</g>\n<!-- 6856611553423118832 -->\n<g class=\"node\" id=\"node379\"><title>6856611553423118832</title>\n<ellipse cx=\"11108.9\" cy=\"-502.625\" fill=\"none\" rx=\"92.8835\" ry=\"92.8835\" stroke=\"black\"/>\n<text font-family=\"Times,serif\" font-size=\"14.00\" text-anchor=\"middle\" x=\"11108.9\" y=\"-498.925\">series-sum-chunk</text>\n</g>\n<!-- &#45;3055650729288015899&#45;&gt;6856611553423118832 -->\n<g class=\"edge\" id=\"edge310\"><title>-3055650729288015899-&gt;6856611553423118832</title>\n<path d=\"M12025.9,-357.328C11890.3,-360.708 11287.6,-377.45 11210.9,-409.683 11200,-414.269 11189.5,-420.531 11179.7,-427.646\" fill=\"none\" stroke=\"black\"/>\n<polygon fill=\"black\" points=\"11177.4,-424.973 11171.6,-433.805 11181.6,-430.55 11177.4,-424.973\" stroke=\"black\"/>\n</g>\n<!-- 7838690698226474959 -->\n<g class=\"node\" id=\"node518\"><title>7838690698226474959</title>\n<ellipse cx=\"22364.9\" cy=\"-502.625\" fill=\"none\" rx=\"68.7879\" ry=\"68.7879\" stroke=\"black\"/>\n<text font-family=\"Times,serif\" font-size=\"14.00\" text-anchor=\"middle\" x=\"22364.9\" y=\"-498.925\">count-chunk</text>\n</g>\n<!-- &#45;3055650729288015899&#45;&gt;7838690698226474959 -->\n<g class=\"edge\" id=\"edge518\"><title>-3055650729288015899-&gt;7838690698226474959</title>\n<path d=\"M12080.1,-357.773C12160.6,-360.95 12405.1,-370.199 12607.9,-373.683 12675.1,-374.837 22226,-381.328 22286.9,-409.683 22300,-415.781 22311.8,-425.281 22321.9,-435.902\" fill=\"none\" stroke=\"black\"/>\n<polygon fill=\"black\" points=\"22319.3,-438.309 22328.6,-443.407 22324.5,-433.63 22319.3,-438.309\" stroke=\"black\"/>\n</g>\n<!-- &#45;3055650729289098424 -->\n<g class=\"node\" id=\"node244\"><title>-3055650729289098424</title>\n<polygon fill=\"none\" points=\"13260.9,-373.683 13206.9,-373.683 13206.9,-337.683 13260.9,-337.683 13260.9,-373.683\" stroke=\"black\"/>\n<text font-family=\"Times,serif\" font-size=\"14.00\" text-anchor=\"middle\" x=\"13233.9\" y=\"-351.983\">50</text>\n</g>\n<!-- &#45;4994386024663928483&#45;&gt;&#45;3055650729289098424 -->\n<g class=\"edge\" id=\"edge173\"><title>-4994386024663928483-&gt;-3055650729289098424</title>\n<path d=\"M13233.9,-301.814C13233.9,-310.544 13233.9,-319.42 13233.9,-327.343\" fill=\"none\" stroke=\"black\"/>\n<polygon fill=\"black\" points=\"13230.4,-327.453 13233.9,-337.453 13237.4,-327.453 13230.4,-327.453\" stroke=\"black\"/>\n</g>\n<!-- &#45;4299972641206876605 -->\n<g class=\"node\" id=\"node381\"><title>-4299972641206876605</title>\n<ellipse cx=\"11516.9\" cy=\"-502.625\" fill=\"none\" rx=\"92.8835\" ry=\"92.8835\" stroke=\"black\"/>\n<text font-family=\"Times,serif\" font-size=\"14.00\" text-anchor=\"middle\" x=\"11516.9\" y=\"-498.925\">series-sum-chunk</text>\n</g>\n<!-- &#45;3055650729289098424&#45;&gt;&#45;4299972641206876605 -->\n<g class=\"edge\" id=\"edge312\"><title>-3055650729289098424-&gt;-4299972641206876605</title>\n<path d=\"M13206.8,-357.511C12995.8,-363.948 11628.5,-405.811 11618.9,-409.683 11608,-414.105 11597.4,-420.266 11587.5,-427.325\" fill=\"none\" stroke=\"black\"/>\n<polygon fill=\"black\" points=\"11585.3,-424.638 11579.4,-433.449 11589.5,-430.231 11585.3,-424.638\" stroke=\"black\"/>\n</g>\n<!-- &#45;4507294722082746682 -->\n<g class=\"node\" id=\"node520\"><title>-4507294722082746682</title>\n<ellipse cx=\"22676.9\" cy=\"-502.625\" fill=\"none\" rx=\"68.7879\" ry=\"68.7879\" stroke=\"black\"/>\n<text font-family=\"Times,serif\" font-size=\"14.00\" text-anchor=\"middle\" x=\"22676.9\" y=\"-498.925\">count-chunk</text>\n</g>\n<!-- &#45;3055650729289098424&#45;&gt;&#45;4507294722082746682 -->\n<g class=\"edge\" id=\"edge520\"><title>-3055650729289098424-&gt;-4507294722082746682</title>\n<path d=\"M13261.1,-362.771C13280.2,-366.747 13306.5,-371.578 13329.9,-373.683 13458.2,-385.199 22482.2,-355.365 22598.9,-409.683 22612,-415.782 22623.8,-425.282 22633.9,-435.904\" fill=\"none\" stroke=\"black\"/>\n<polygon fill=\"black\" points=\"22631.3,-438.311 22640.6,-443.409 22636.5,-433.632 22631.3,-438.311\" stroke=\"black\"/>\n</g>\n<!-- &#45;3055650729290180949 -->\n<g class=\"node\" id=\"node246\"><title>-3055650729290180949</title>\n<polygon fill=\"none\" points=\"4949.94,-373.683 4895.94,-373.683 4895.94,-337.683 4949.94,-337.683 4949.94,-373.683\" stroke=\"black\"/>\n<text font-family=\"Times,serif\" font-size=\"14.00\" text-anchor=\"middle\" x=\"4922.94\" y=\"-351.983\">51</text>\n</g>\n<!-- 3060917348498113842&#45;&gt;&#45;3055650729290180949 -->\n<g class=\"edge\" id=\"edge175\"><title>3060917348498113842-&gt;-3055650729290180949</title>\n<path d=\"M4922.94,-301.814C4922.94,-310.544 4922.94,-319.42 4922.94,-327.343\" fill=\"none\" stroke=\"black\"/>\n<polygon fill=\"black\" points=\"4919.44,-327.453 4922.94,-337.453 4926.44,-327.453 4919.44,-327.453\" stroke=\"black\"/>\n</g>\n<!-- 6218352414652291386 -->\n<g class=\"node\" id=\"node383\"><title>6218352414652291386</title>\n<ellipse cx=\"4784.94\" cy=\"-502.625\" fill=\"none\" rx=\"92.8835\" ry=\"92.8835\" stroke=\"black\"/>\n<text font-family=\"Times,serif\" font-size=\"14.00\" text-anchor=\"middle\" x=\"4784.94\" y=\"-498.925\">series-sum-chunk</text>\n</g>\n<!-- &#45;3055650729290180949&#45;&gt;6218352414652291386 -->\n<g class=\"edge\" id=\"edge314\"><title>-3055650729290180949-&gt;6218352414652291386</title>\n<path d=\"M4906.57,-373.879C4893.66,-387.436 4874.7,-407.348 4855.58,-427.436\" fill=\"none\" stroke=\"black\"/>\n<polygon fill=\"black\" points=\"4852.9,-425.177 4848.53,-434.833 4857.96,-430.004 4852.9,-425.177\" stroke=\"black\"/>\n</g>\n<!-- &#45;4181498633036702907 -->\n<g class=\"node\" id=\"node522\"><title>-4181498633036702907</title>\n<ellipse cx=\"17528.9\" cy=\"-502.625\" fill=\"none\" rx=\"68.7879\" ry=\"68.7879\" stroke=\"black\"/>\n<text font-family=\"Times,serif\" font-size=\"14.00\" text-anchor=\"middle\" x=\"17528.9\" y=\"-498.925\">count-chunk</text>\n</g>\n<!-- &#45;3055650729290180949&#45;&gt;&#45;4181498633036702907 -->\n<g class=\"edge\" id=\"edge522\"><title>-3055650729290180949-&gt;-4181498633036702907</title>\n<path d=\"M4950.14,-360.652C4980.32,-364.842 5030.49,-371.181 5073.94,-373.683 5159.75,-378.623 17373,-373.456 17450.9,-409.683 17464.1,-415.776 17475.8,-425.273 17485.9,-435.894\" fill=\"none\" stroke=\"black\"/>\n<polygon fill=\"black\" points=\"17483.3,-438.301 17492.6,-443.398 17488.5,-433.621 17483.3,-438.301\" stroke=\"black\"/>\n</g>\n<!-- &#45;3055650729282603274 -->\n<g class=\"node\" id=\"node248\"><title>-3055650729282603274</title>\n<polygon fill=\"none\" points=\"5546.94,-373.683 5492.94,-373.683 5492.94,-337.683 5546.94,-337.683 5546.94,-373.683\" stroke=\"black\"/>\n<text font-family=\"Times,serif\" font-size=\"14.00\" text-anchor=\"middle\" x=\"5519.94\" y=\"-351.983\">52</text>\n</g>\n<!-- &#45;5724641158745234133&#45;&gt;&#45;3055650729282603274 -->\n<g class=\"edge\" id=\"edge177\"><title>-5724641158745234133-&gt;-3055650729282603274</title>\n<path d=\"M5519.94,-301.814C5519.94,-310.544 5519.94,-319.42 5519.94,-327.343\" fill=\"none\" stroke=\"black\"/>\n<polygon fill=\"black\" points=\"5516.44,-327.453 5519.94,-337.453 5523.44,-327.453 5516.44,-327.453\" stroke=\"black\"/>\n</g>\n<!-- &#45;1176001923932261211 -->\n<g class=\"node\" id=\"node385\"><title>-1176001923932261211</title>\n<ellipse cx=\"5396.94\" cy=\"-502.625\" fill=\"none\" rx=\"92.8835\" ry=\"92.8835\" stroke=\"black\"/>\n<text font-family=\"Times,serif\" font-size=\"14.00\" text-anchor=\"middle\" x=\"5396.94\" y=\"-498.925\">series-sum-chunk</text>\n</g>\n<!-- &#45;3055650729282603274&#45;&gt;&#45;1176001923932261211 -->\n<g class=\"edge\" id=\"edge316\"><title>-3055650729282603274-&gt;-1176001923932261211</title>\n<path d=\"M5505.35,-373.879C5494.66,-386.477 5479.31,-404.561 5463.52,-423.175\" fill=\"none\" stroke=\"black\"/>\n<polygon fill=\"black\" points=\"5460.53,-421.281 5456.73,-431.17 5465.87,-425.81 5460.53,-421.281\" stroke=\"black\"/>\n</g>\n<!-- 1899779777161653668 -->\n<g class=\"node\" id=\"node524\"><title>1899779777161653668</title>\n<ellipse cx=\"17996.9\" cy=\"-502.625\" fill=\"none\" rx=\"68.7879\" ry=\"68.7879\" stroke=\"black\"/>\n<text font-family=\"Times,serif\" font-size=\"14.00\" text-anchor=\"middle\" x=\"17996.9\" y=\"-498.925\">count-chunk</text>\n</g>\n<!-- &#45;3055650729282603274&#45;&gt;1899779777161653668 -->\n<g class=\"edge\" id=\"edge524\"><title>-3055650729282603274-&gt;1899779777161653668</title>\n<path d=\"M5547.22,-359.628C5586.62,-363.724 5661.77,-370.944 5725.94,-373.683 5810.54,-377.293 17842.2,-373.992 17918.9,-409.683 17932.1,-415.776 17943.8,-425.273 17953.9,-435.894\" fill=\"none\" stroke=\"black\"/>\n<polygon fill=\"black\" points=\"17951.3,-438.301 17960.6,-443.399 17956.5,-433.622 17951.3,-438.301\" stroke=\"black\"/>\n</g>\n<!-- &#45;3055650729283685799 -->\n<g class=\"node\" id=\"node250\"><title>-3055650729283685799</title>\n<polygon fill=\"none\" points=\"7141.94,-373.683 7087.94,-373.683 7087.94,-337.683 7141.94,-337.683 7141.94,-373.683\" stroke=\"black\"/>\n<text font-family=\"Times,serif\" font-size=\"14.00\" text-anchor=\"middle\" x=\"7114.94\" y=\"-351.983\">53</text>\n</g>\n<!-- &#45;5635157096767340240&#45;&gt;&#45;3055650729283685799 -->\n<g class=\"edge\" id=\"edge179\"><title>-5635157096767340240-&gt;-3055650729283685799</title>\n<path d=\"M7114.94,-301.814C7114.94,-310.544 7114.94,-319.42 7114.94,-327.343\" fill=\"none\" stroke=\"black\"/>\n<polygon fill=\"black\" points=\"7111.44,-327.453 7114.94,-337.453 7118.44,-327.453 7111.44,-327.453\" stroke=\"black\"/>\n</g>\n<!-- 5844815679614727252 -->\n<g class=\"node\" id=\"node387\"><title>5844815679614727252</title>\n<ellipse cx=\"7028.94\" cy=\"-502.625\" fill=\"none\" rx=\"92.8835\" ry=\"92.8835\" stroke=\"black\"/>\n<text font-family=\"Times,serif\" font-size=\"14.00\" text-anchor=\"middle\" x=\"7028.94\" y=\"-498.925\">series-sum-chunk</text>\n</g>\n<!-- &#45;3055650729283685799&#45;&gt;5844815679614727252 -->\n<g class=\"edge\" id=\"edge318\"><title>-3055650729283685799-&gt;5844815679614727252</title>\n<path d=\"M7104.74,-373.879C7098.6,-384.222 7090.27,-398.263 7081.37,-413.259\" fill=\"none\" stroke=\"black\"/>\n<polygon fill=\"black\" points=\"7078.17,-411.792 7076.08,-422.178 7084.19,-415.364 7078.17,-411.792\" stroke=\"black\"/>\n</g>\n<!-- &#45;5578135285100706957 -->\n<g class=\"node\" id=\"node526\"><title>-5578135285100706957</title>\n<ellipse cx=\"19244.9\" cy=\"-502.625\" fill=\"none\" rx=\"68.7879\" ry=\"68.7879\" stroke=\"black\"/>\n<text font-family=\"Times,serif\" font-size=\"14.00\" text-anchor=\"middle\" x=\"19244.9\" y=\"-498.925\">count-chunk</text>\n</g>\n<!-- &#45;3055650729283685799&#45;&gt;&#45;5578135285100706957 -->\n<g class=\"edge\" id=\"edge526\"><title>-3055650729283685799-&gt;-5578135285100706957</title>\n<path d=\"M7142.23,-360.273C7175.42,-364.448 7233.17,-371.096 7282.94,-373.683 7365.36,-377.967 19092.1,-374.894 19166.9,-409.683 19180.1,-415.777 19191.8,-425.274 19201.9,-435.895\" fill=\"none\" stroke=\"black\"/>\n<polygon fill=\"black\" points=\"19199.3,-438.302 19208.6,-443.4 19204.5,-433.623 19199.3,-438.302\" stroke=\"black\"/>\n</g>\n<!-- &#45;3055650729284768324 -->\n<g class=\"node\" id=\"node252\"><title>-3055650729284768324</title>\n<polygon fill=\"none\" points=\"8570.94,-373.683 8516.94,-373.683 8516.94,-337.683 8570.94,-337.683 8570.94,-373.683\" stroke=\"black\"/>\n<text font-family=\"Times,serif\" font-size=\"14.00\" text-anchor=\"middle\" x=\"8543.94\" y=\"-351.983\">54</text>\n</g>\n<!-- &#45;6796269479866583815&#45;&gt;&#45;3055650729284768324 -->\n<g class=\"edge\" id=\"edge181\"><title>-6796269479866583815-&gt;-3055650729284768324</title>\n<path d=\"M8543.94,-301.814C8543.94,-310.544 8543.94,-319.42 8543.94,-327.343\" fill=\"none\" stroke=\"black\"/>\n<polygon fill=\"black\" points=\"8540.44,-327.453 8543.94,-337.453 8547.44,-327.453 8540.44,-327.453\" stroke=\"black\"/>\n</g>\n<!-- 7223361486128210135 -->\n<g class=\"node\" id=\"node389\"><title>7223361486128210135</title>\n<ellipse cx=\"8456.94\" cy=\"-502.625\" fill=\"none\" rx=\"92.8835\" ry=\"92.8835\" stroke=\"black\"/>\n<text font-family=\"Times,serif\" font-size=\"14.00\" text-anchor=\"middle\" x=\"8456.94\" y=\"-498.925\">series-sum-chunk</text>\n</g>\n<!-- &#45;3055650729284768324&#45;&gt;7223361486128210135 -->\n<g class=\"edge\" id=\"edge320\"><title>-3055650729284768324-&gt;7223361486128210135</title>\n<path d=\"M8533.62,-373.879C8527.37,-384.284 8518.88,-398.433 8509.82,-413.532\" fill=\"none\" stroke=\"black\"/>\n<polygon fill=\"black\" points=\"8506.57,-412.135 8504.43,-422.51 8512.58,-415.738 8506.57,-412.135\" stroke=\"black\"/>\n</g>\n<!-- &#45;64696412393910182 -->\n<g class=\"node\" id=\"node528\"><title>-64696412393910182</title>\n<ellipse cx=\"20336.9\" cy=\"-502.625\" fill=\"none\" rx=\"68.7879\" ry=\"68.7879\" stroke=\"black\"/>\n<text font-family=\"Times,serif\" font-size=\"14.00\" text-anchor=\"middle\" x=\"20336.9\" y=\"-498.925\">count-chunk</text>\n</g>\n<!-- &#45;3055650729284768324&#45;&gt;&#45;64696412393910182 -->\n<g class=\"edge\" id=\"edge528\"><title>-3055650729284768324-&gt;-64696412393910182</title>\n<path d=\"M8571.1,-360.236C8604.44,-364.407 8662.73,-371.085 8712.94,-373.683 8793.02,-377.825 20186.2,-375.88 20258.9,-409.683 20272.1,-415.777 20283.8,-425.275 20293.9,-435.896\" fill=\"none\" stroke=\"black\"/>\n<polygon fill=\"black\" points=\"20291.3,-438.303 20300.6,-443.4 20296.5,-433.624 20291.3,-438.303\" stroke=\"black\"/>\n</g>\n<!-- &#45;3055650729285850849 -->\n<g class=\"node\" id=\"node254\"><title>-3055650729285850849</title>\n<polygon fill=\"none\" points=\"9406.94,-373.683 9352.94,-373.683 9352.94,-337.683 9406.94,-337.683 9406.94,-373.683\" stroke=\"black\"/>\n<text font-family=\"Times,serif\" font-size=\"14.00\" text-anchor=\"middle\" x=\"9379.94\" y=\"-351.983\">55</text>\n</g>\n<!-- &#45;7891977602033066290&#45;&gt;&#45;3055650729285850849 -->\n<g class=\"edge\" id=\"edge183\"><title>-7891977602033066290-&gt;-3055650729285850849</title>\n<path d=\"M9379.94,-301.814C9379.94,-310.544 9379.94,-319.42 9379.94,-327.343\" fill=\"none\" stroke=\"black\"/>\n<polygon fill=\"black\" points=\"9376.44,-327.453 9379.94,-337.453 9383.44,-327.453 9376.44,-327.453\" stroke=\"black\"/>\n</g>\n<!-- 181328835276273886 -->\n<g class=\"node\" id=\"node391\"><title>181328835276273886</title>\n<ellipse cx=\"9272.94\" cy=\"-502.625\" fill=\"none\" rx=\"92.8835\" ry=\"92.8835\" stroke=\"black\"/>\n<text font-family=\"Times,serif\" font-size=\"14.00\" text-anchor=\"middle\" x=\"9272.94\" y=\"-498.925\">series-sum-chunk</text>\n</g>\n<!-- &#45;3055650729285850849&#45;&gt;181328835276273886 -->\n<g class=\"edge\" id=\"edge322\"><title>-3055650729285850849-&gt;181328835276273886</title>\n<path d=\"M9367.25,-373.879C9358.68,-385.478 9346.69,-401.729 9334.11,-418.763\" fill=\"none\" stroke=\"black\"/>\n<polygon fill=\"black\" points=\"9331.03,-417.046 9327.91,-427.17 9336.66,-421.204 9331.03,-417.046\" stroke=\"black\"/>\n</g>\n<!-- 976298756306841593 -->\n<g class=\"node\" id=\"node530\"><title>976298756306841593</title>\n<ellipse cx=\"20960.9\" cy=\"-502.625\" fill=\"none\" rx=\"68.7879\" ry=\"68.7879\" stroke=\"black\"/>\n<text font-family=\"Times,serif\" font-size=\"14.00\" text-anchor=\"middle\" x=\"20960.9\" y=\"-498.925\">count-chunk</text>\n</g>\n<!-- &#45;3055650729285850849&#45;&gt;976298756306841593 -->\n<g class=\"edge\" id=\"edge530\"><title>-3055650729285850849-&gt;976298756306841593</title>\n<path d=\"M9407.12,-359.872C9443.79,-364.005 9511.19,-370.998 9568.94,-373.683 9647.43,-377.331 20811.7,-376.557 20882.9,-409.683 20896.1,-415.778 20907.8,-425.276 20917.9,-435.897\" fill=\"none\" stroke=\"black\"/>\n<polygon fill=\"black\" points=\"20915.3,-438.304 20924.6,-443.401 20920.5,-433.624 20915.3,-438.304\" stroke=\"black\"/>\n</g>\n<!-- &#45;3055650729278273174 -->\n<g class=\"node\" id=\"node256\"><title>-3055650729278273174</title>\n<polygon fill=\"none\" points=\"10716.9,-373.683 10662.9,-373.683 10662.9,-337.683 10716.9,-337.683 10716.9,-373.683\" stroke=\"black\"/>\n<text font-family=\"Times,serif\" font-size=\"14.00\" text-anchor=\"middle\" x=\"10689.9\" y=\"-351.983\">56</text>\n</g>\n<!-- &#45;8696296167224862665&#45;&gt;&#45;3055650729278273174 -->\n<g class=\"edge\" id=\"edge185\"><title>-8696296167224862665-&gt;-3055650729278273174</title>\n<path d=\"M10689.9,-301.814C10689.9,-310.544 10689.9,-319.42 10689.9,-327.343\" fill=\"none\" stroke=\"black\"/>\n<polygon fill=\"black\" points=\"10686.4,-327.453 10689.9,-337.453 10693.4,-327.453 10686.4,-327.453\" stroke=\"black\"/>\n</g>\n<!-- &#45;6401290463575579399 -->\n<g class=\"node\" id=\"node393\"><title>-6401290463575579399</title>\n<ellipse cx=\"10292.9\" cy=\"-502.625\" fill=\"none\" rx=\"92.8835\" ry=\"92.8835\" stroke=\"black\"/>\n<text font-family=\"Times,serif\" font-size=\"14.00\" text-anchor=\"middle\" x=\"10292.9\" y=\"-498.925\">series-sum-chunk</text>\n</g>\n<!-- &#45;3055650729278273174&#45;&gt;&#45;6401290463575579399 -->\n<g class=\"edge\" id=\"edge324\"><title>-3055650729278273174-&gt;-6401290463575579399</title>\n<path d=\"M10662.9,-359.622C10599.3,-366.83 10442.3,-386.498 10394.9,-409.683 10384.5,-414.806 10374.3,-421.319 10364.7,-428.506\" fill=\"none\" stroke=\"black\"/>\n<polygon fill=\"black\" points=\"10362.5,-425.785 10356.7,-434.686 10366.8,-431.312 10362.5,-425.785\" stroke=\"black\"/>\n</g>\n<!-- 5190335628381938168 -->\n<g class=\"node\" id=\"node532\"><title>5190335628381938168</title>\n<ellipse cx=\"21740.9\" cy=\"-502.625\" fill=\"none\" rx=\"68.7879\" ry=\"68.7879\" stroke=\"black\"/>\n<text font-family=\"Times,serif\" font-size=\"14.00\" text-anchor=\"middle\" x=\"21740.9\" y=\"-498.925\">count-chunk</text>\n</g>\n<!-- &#45;3055650729278273174&#45;&gt;5190335628381938168 -->\n<g class=\"edge\" id=\"edge532\"><title>-3055650729278273174-&gt;5190335628381938168</title>\n<path d=\"M10716.9,-358.717C10769.1,-362.535 10887.3,-370.666 10986.9,-373.683 11061,-375.927 21595.7,-378.419 21662.9,-409.683 21676,-415.779 21687.8,-425.277 21697.9,-435.899\" fill=\"none\" stroke=\"black\"/>\n<polygon fill=\"black\" points=\"21695.3,-438.306 21704.6,-443.403 21700.5,-433.626 21695.3,-438.306\" stroke=\"black\"/>\n</g>\n<!-- &#45;3055650729279355699 -->\n<g class=\"node\" id=\"node258\"><title>-3055650729279355699</title>\n<polygon fill=\"none\" points=\"13392.9,-373.683 13338.9,-373.683 13338.9,-337.683 13392.9,-337.683 13392.9,-373.683\" stroke=\"black\"/>\n<text font-family=\"Times,serif\" font-size=\"14.00\" text-anchor=\"middle\" x=\"13365.9\" y=\"-351.983\">57</text>\n</g>\n<!-- 8653942667224980876&#45;&gt;&#45;3055650729279355699 -->\n<g class=\"edge\" id=\"edge187\"><title>8653942667224980876-&gt;-3055650729279355699</title>\n<path d=\"M13365.9,-301.814C13365.9,-310.544 13365.9,-319.42 13365.9,-327.343\" fill=\"none\" stroke=\"black\"/>\n<polygon fill=\"black\" points=\"13362.4,-327.453 13365.9,-337.453 13369.4,-327.453 13362.4,-327.453\" stroke=\"black\"/>\n</g>\n<!-- 4205879334245478792 -->\n<g class=\"node\" id=\"node395\"><title>4205879334245478792</title>\n<ellipse cx=\"11720.9\" cy=\"-502.625\" fill=\"none\" rx=\"92.8835\" ry=\"92.8835\" stroke=\"black\"/>\n<text font-family=\"Times,serif\" font-size=\"14.00\" text-anchor=\"middle\" x=\"11720.9\" y=\"-498.925\">series-sum-chunk</text>\n</g>\n<!-- &#45;3055650729279355699&#45;&gt;4205879334245478792 -->\n<g class=\"edge\" id=\"edge326\"><title>-3055650729279355699-&gt;4205879334245478792</title>\n<path d=\"M13338.8,-362.617C13319.6,-366.523 13293.4,-371.332 13269.9,-373.683 13109.9,-389.75 11972.3,-350.144 11822.9,-409.683 11812,-414.061 11801.4,-420.195 11791.5,-427.241\" fill=\"none\" stroke=\"black\"/>\n<polygon fill=\"black\" points=\"11789.3,-424.55 11783.4,-433.354 11793.5,-430.147 11789.3,-424.55\" stroke=\"black\"/>\n</g>\n<!-- 6332025272561461143 -->\n<g class=\"node\" id=\"node534\"><title>6332025272561461143</title>\n<ellipse cx=\"22832.9\" cy=\"-502.625\" fill=\"none\" rx=\"68.7879\" ry=\"68.7879\" stroke=\"black\"/>\n<text font-family=\"Times,serif\" font-size=\"14.00\" text-anchor=\"middle\" x=\"22832.9\" y=\"-498.925\">count-chunk</text>\n</g>\n<!-- &#45;3055650729279355699&#45;&gt;6332025272561461143 -->\n<g class=\"edge\" id=\"edge534\"><title>-3055650729279355699-&gt;6332025272561461143</title>\n<path d=\"M13393.2,-357.314C13505.8,-359.89 13944.8,-369.648 14305.9,-373.683 14364.6,-374.338 22701.8,-384.917 22754.9,-409.683 22768,-415.785 22779.8,-425.286 22789.9,-435.908\" fill=\"none\" stroke=\"black\"/>\n<polygon fill=\"black\" points=\"22787.3,-438.315 22796.6,-443.413 22792.5,-433.636 22787.3,-438.315\" stroke=\"black\"/>\n</g>\n<!-- &#45;3055650729280438224 -->\n<g class=\"node\" id=\"node260\"><title>-3055650729280438224</title>\n<polygon fill=\"none\" points=\"14368.9,-373.683 14314.9,-373.683 14314.9,-337.683 14368.9,-337.683 14368.9,-373.683\" stroke=\"black\"/>\n<text font-family=\"Times,serif\" font-size=\"14.00\" text-anchor=\"middle\" x=\"14341.9\" y=\"-351.983\">58</text>\n</g>\n<!-- 7003190013747982901&#45;&gt;&#45;3055650729280438224 -->\n<g class=\"edge\" id=\"edge189\"><title>7003190013747982901-&gt;-3055650729280438224</title>\n<path d=\"M14341.9,-301.814C14341.9,-310.544 14341.9,-319.42 14341.9,-327.343\" fill=\"none\" stroke=\"black\"/>\n<polygon fill=\"black\" points=\"14338.4,-327.453 14341.9,-337.453 14345.4,-327.453 14338.4,-327.453\" stroke=\"black\"/>\n</g>\n<!-- 4296514065578527707 -->\n<g class=\"node\" id=\"node397\"><title>4296514065578527707</title>\n<ellipse cx=\"11924.9\" cy=\"-502.625\" fill=\"none\" rx=\"92.8835\" ry=\"92.8835\" stroke=\"black\"/>\n<text font-family=\"Times,serif\" font-size=\"14.00\" text-anchor=\"middle\" x=\"11924.9\" y=\"-498.925\">series-sum-chunk</text>\n</g>\n<!-- &#45;3055650729280438224&#45;&gt;4296514065578527707 -->\n<g class=\"edge\" id=\"edge328\"><title>-3055650729280438224-&gt;4296514065578527707</title>\n<path d=\"M14314.7,-357.176C14056.7,-361.862 12054.9,-398.572 12026.9,-409.683 12016,-414.05 12005.4,-420.178 11995.5,-427.219\" fill=\"none\" stroke=\"black\"/>\n<polygon fill=\"black\" points=\"11993.3,-424.527 11987.4,-433.33 11997.5,-430.125 11993.3,-424.527\" stroke=\"black\"/>\n</g>\n<!-- 2707996080880104718 -->\n<g class=\"node\" id=\"node536\"><title>2707996080880104718</title>\n<ellipse cx=\"22988.9\" cy=\"-502.625\" fill=\"none\" rx=\"68.7879\" ry=\"68.7879\" stroke=\"black\"/>\n<text font-family=\"Times,serif\" font-size=\"14.00\" text-anchor=\"middle\" x=\"22988.9\" y=\"-498.925\">count-chunk</text>\n</g>\n<!-- &#45;3055650729280438224&#45;&gt;2707996080880104718 -->\n<g class=\"edge\" id=\"edge536\"><title>-3055650729280438224-&gt;2707996080880104718</title>\n<path d=\"M14369.1,-357.861C14445.3,-361.111 14667.9,-370.192 14852.9,-373.683 14908.9,-374.738 22860.2,-386.057 22910.9,-409.683 22924,-415.786 22935.8,-425.288 22945.9,-435.91\" fill=\"none\" stroke=\"black\"/>\n<polygon fill=\"black\" points=\"22943.3,-438.317 22952.6,-443.415 22948.5,-433.638 22943.3,-438.317\" stroke=\"black\"/>\n</g>\n<!-- &#45;3055650729281520749 -->\n<g class=\"node\" id=\"node262\"><title>-3055650729281520749</title>\n<polygon fill=\"none\" points=\"14915.9,-373.683 14861.9,-373.683 14861.9,-337.683 14915.9,-337.683 14915.9,-373.683\" stroke=\"black\"/>\n<text font-family=\"Times,serif\" font-size=\"14.00\" text-anchor=\"middle\" x=\"14888.9\" y=\"-351.983\">59</text>\n</g>\n<!-- 5858671959545690826&#45;&gt;&#45;3055650729281520749 -->\n<g class=\"edge\" id=\"edge191\"><title>5858671959545690826-&gt;-3055650729281520749</title>\n<path d=\"M14888.9,-301.814C14888.9,-310.544 14888.9,-319.42 14888.9,-327.343\" fill=\"none\" stroke=\"black\"/>\n<polygon fill=\"black\" points=\"14885.4,-327.453 14888.9,-337.453 14892.4,-327.453 14885.4,-327.453\" stroke=\"black\"/>\n</g>\n<!-- &#45;4083490812776694062 -->\n<g class=\"node\" id=\"node399\"><title>-4083490812776694062</title>\n<ellipse cx=\"12128.9\" cy=\"-502.625\" fill=\"none\" rx=\"92.8835\" ry=\"92.8835\" stroke=\"black\"/>\n<text font-family=\"Times,serif\" font-size=\"14.00\" text-anchor=\"middle\" x=\"12128.9\" y=\"-498.925\">series-sum-chunk</text>\n</g>\n<!-- &#45;3055650729281520749&#45;&gt;&#45;4083490812776694062 -->\n<g class=\"edge\" id=\"edge330\"><title>-3055650729281520749-&gt;-4083490812776694062</title>\n<path d=\"M14861.8,-357.743C14785.6,-360.689 14563,-369.054 14377.9,-373.683 14258.7,-376.666 12341.9,-365.969 12230.9,-409.683 12219.9,-414.017 12209.4,-420.124 12199.5,-427.154\" fill=\"none\" stroke=\"black\"/>\n<polygon fill=\"black\" points=\"12197.2,-424.459 12191.3,-433.257 12201.4,-430.06 12197.2,-424.459\" stroke=\"black\"/>\n</g>\n<!-- 3743628125002346893 -->\n<g class=\"node\" id=\"node538\"><title>3743628125002346893</title>\n<ellipse cx=\"23144.9\" cy=\"-502.625\" fill=\"none\" rx=\"68.7879\" ry=\"68.7879\" stroke=\"black\"/>\n<text font-family=\"Times,serif\" font-size=\"14.00\" text-anchor=\"middle\" x=\"23144.9\" y=\"-498.925\">count-chunk</text>\n</g>\n<!-- &#45;3055650729281520749&#45;&gt;3743628125002346893 -->\n<g class=\"edge\" id=\"edge538\"><title>-3055650729281520749-&gt;3743628125002346893</title>\n<path d=\"M14915.9,-358.706C14968.1,-362.506 15086.3,-370.606 15185.9,-373.683 15295.3,-377.062 22967.7,-363.465 23066.9,-409.683 23080,-415.787 23091.8,-425.289 23101.9,-435.911\" fill=\"none\" stroke=\"black\"/>\n<polygon fill=\"black\" points=\"23099.3,-438.318 23108.6,-443.416 23104.5,-433.639 23099.3,-438.318\" stroke=\"black\"/>\n</g>\n<!-- &#45;3055650729273943074 -->\n<g class=\"node\" id=\"node264\"><title>-3055650729273943074</title>\n<polygon fill=\"none\" points=\"15248.9,-373.683 15194.9,-373.683 15194.9,-337.683 15248.9,-337.683 15248.9,-373.683\" stroke=\"black\"/>\n<text font-family=\"Times,serif\" font-size=\"14.00\" text-anchor=\"middle\" x=\"15221.9\" y=\"-351.983\">60</text>\n</g>\n<!-- 5091531919519912451&#45;&gt;&#45;3055650729273943074 -->\n<g class=\"edge\" id=\"edge193\"><title>5091531919519912451-&gt;-3055650729273943074</title>\n<path d=\"M15221.9,-301.814C15221.9,-310.544 15221.9,-319.42 15221.9,-327.343\" fill=\"none\" stroke=\"black\"/>\n<polygon fill=\"black\" points=\"15218.4,-327.453 15221.9,-337.453 15225.4,-327.453 15218.4,-327.453\" stroke=\"black\"/>\n</g>\n<!-- &#45;2969442122659531715 -->\n<g class=\"node\" id=\"node401\"><title>-2969442122659531715</title>\n<ellipse cx=\"12332.9\" cy=\"-502.625\" fill=\"none\" rx=\"92.8835\" ry=\"92.8835\" stroke=\"black\"/>\n<text font-family=\"Times,serif\" font-size=\"14.00\" text-anchor=\"middle\" x=\"12332.9\" y=\"-498.925\">series-sum-chunk</text>\n</g>\n<!-- &#45;3055650729273943074&#45;&gt;&#45;2969442122659531715 -->\n<g class=\"edge\" id=\"edge332\"><title>-3055650729273943074-&gt;-2969442122659531715</title>\n<path d=\"M15194.9,-358.616C15142.8,-362.264 15024.6,-370.113 14924.9,-373.683 14786.7,-378.637 12563.7,-359.136 12434.9,-409.683 12423.8,-414.038 12413.2,-420.199 12403.2,-427.295\" fill=\"none\" stroke=\"black\"/>\n<polygon fill=\"black\" points=\"12400.9,-424.65 12395,-433.456 12405.1,-430.246 12400.9,-424.65\" stroke=\"black\"/>\n</g>\n<!-- 9057162984189590700 -->\n<g class=\"node\" id=\"node540\"><title>9057162984189590700</title>\n<ellipse cx=\"23300.9\" cy=\"-502.625\" fill=\"none\" rx=\"68.7879\" ry=\"68.7879\" stroke=\"black\"/>\n<text font-family=\"Times,serif\" font-size=\"14.00\" text-anchor=\"middle\" x=\"23300.9\" y=\"-498.925\">count-chunk</text>\n</g>\n<!-- &#45;3055650729273943074&#45;&gt;9057162984189590700 -->\n<g class=\"edge\" id=\"edge540\"><title>-3055650729273943074-&gt;9057162984189590700</title>\n<path d=\"M15249.1,-359.86C15285.8,-363.979 15353.2,-370.957 15410.9,-373.683 15519.3,-378.798 23124.6,-363.868 23222.9,-409.683 23236,-415.787 23247.8,-425.289 23257.9,-435.912\" fill=\"none\" stroke=\"black\"/>\n<polygon fill=\"black\" points=\"23255.3,-438.319 23264.6,-443.417 23260.5,-433.64 23255.3,-438.319\" stroke=\"black\"/>\n</g>\n<!-- &#45;3055650729275025599 -->\n<g class=\"node\" id=\"node266\"><title>-3055650729275025599</title>\n<polygon fill=\"none\" points=\"15473.9,-373.683 15419.9,-373.683 15419.9,-337.683 15473.9,-337.683 15473.9,-373.683\" stroke=\"black\"/>\n<text font-family=\"Times,serif\" font-size=\"14.00\" text-anchor=\"middle\" x=\"15446.9\" y=\"-351.983\">61</text>\n</g>\n<!-- 3920944602103418376&#45;&gt;&#45;3055650729275025599 -->\n<g class=\"edge\" id=\"edge195\"><title>3920944602103418376-&gt;-3055650729275025599</title>\n<path d=\"M15446.9,-301.814C15446.9,-310.544 15446.9,-319.42 15446.9,-327.343\" fill=\"none\" stroke=\"black\"/>\n<polygon fill=\"black\" points=\"15443.4,-327.453 15446.9,-337.453 15450.4,-327.453 15443.4,-327.453\" stroke=\"black\"/>\n</g>\n<!-- &#45;2968486900072191508 -->\n<g class=\"node\" id=\"node403\"><title>-2968486900072191508</title>\n<ellipse cx=\"12536.9\" cy=\"-502.625\" fill=\"none\" rx=\"92.8835\" ry=\"92.8835\" stroke=\"black\"/>\n<text font-family=\"Times,serif\" font-size=\"14.00\" text-anchor=\"middle\" x=\"12536.9\" y=\"-498.925\">series-sum-chunk</text>\n</g>\n<!-- &#45;3055650729275025599&#45;&gt;&#45;2968486900072191508 -->\n<g class=\"edge\" id=\"edge334\"><title>-3055650729275025599-&gt;-2968486900072191508</title>\n<path d=\"M15419.8,-359.782C15383.1,-363.813 15315.7,-370.693 15257.9,-373.683 15112.6,-381.206 12774.4,-356.566 12638.9,-409.683 12627.8,-414.034 12617.2,-420.193 12607.2,-427.287\" fill=\"none\" stroke=\"black\"/>\n<polygon fill=\"black\" points=\"12604.9,-424.642 12599,-433.447 12609.1,-430.238 12604.9,-424.642\" stroke=\"black\"/>\n</g>\n<!-- &#45;8353665510293835141 -->\n<g class=\"node\" id=\"node542\"><title>-8353665510293835141</title>\n<ellipse cx=\"23456.9\" cy=\"-502.625\" fill=\"none\" rx=\"68.7879\" ry=\"68.7879\" stroke=\"black\"/>\n<text font-family=\"Times,serif\" font-size=\"14.00\" text-anchor=\"middle\" x=\"23456.9\" y=\"-498.925\">count-chunk</text>\n</g>\n<!-- &#45;3055650729275025599&#45;&gt;&#45;8353665510293835141 -->\n<g class=\"edge\" id=\"edge542\"><title>-3055650729275025599-&gt;-8353665510293835141</title>\n<path d=\"M15473.9,-361.027C15501.3,-365.202 15544.9,-371.229 15582.9,-373.683 15691,-380.66 23280.8,-363.961 23378.9,-409.683 23392,-415.787 23403.8,-425.289 23413.9,-435.912\" fill=\"none\" stroke=\"black\"/>\n<polygon fill=\"black\" points=\"23411.3,-438.319 23420.6,-443.417 23416.5,-433.64 23411.3,-438.319\" stroke=\"black\"/>\n</g>\n<!-- &#45;3055650729276108124 -->\n<g class=\"node\" id=\"node268\"><title>-3055650729276108124</title>\n<polygon fill=\"none\" points=\"15645.9,-373.683 15591.9,-373.683 15591.9,-337.683 15645.9,-337.683 15645.9,-373.683\" stroke=\"black\"/>\n<text font-family=\"Times,serif\" font-size=\"14.00\" text-anchor=\"middle\" x=\"15618.9\" y=\"-351.983\">62</text>\n</g>\n<!-- 2815645938211010001&#45;&gt;&#45;3055650729276108124 -->\n<g class=\"edge\" id=\"edge197\"><title>2815645938211010001-&gt;-3055650729276108124</title>\n<path d=\"M15618.9,-301.814C15618.9,-310.544 15618.9,-319.42 15618.9,-327.343\" fill=\"none\" stroke=\"black\"/>\n<polygon fill=\"black\" points=\"15615.4,-327.453 15618.9,-337.453 15622.4,-327.453 15615.4,-327.453\" stroke=\"black\"/>\n</g>\n<!-- 7549310253269263983 -->\n<g class=\"node\" id=\"node405\"><title>7549310253269263983</title>\n<ellipse cx=\"12740.9\" cy=\"-502.625\" fill=\"none\" rx=\"92.8835\" ry=\"92.8835\" stroke=\"black\"/>\n<text font-family=\"Times,serif\" font-size=\"14.00\" text-anchor=\"middle\" x=\"12740.9\" y=\"-498.925\">series-sum-chunk</text>\n</g>\n<!-- &#45;3055650729276108124&#45;&gt;7549310253269263983 -->\n<g class=\"edge\" id=\"edge336\"><title>-3055650729276108124-&gt;7549310253269263983</title>\n<path d=\"M15591.9,-360.954C15564.6,-365.074 15520.9,-371.058 15482.9,-373.683 15336.6,-383.795 12979.5,-356.148 12842.9,-409.683 12831.8,-414.033 12821.2,-420.192 12811.2,-427.286\" fill=\"none\" stroke=\"black\"/>\n<polygon fill=\"black\" points=\"12808.9,-424.641 12803,-433.446 12813.1,-430.237 12808.9,-424.641\" stroke=\"black\"/>\n</g>\n<!-- 6499308961849340450 -->\n<g class=\"node\" id=\"node544\"><title>6499308961849340450</title>\n<ellipse cx=\"23612.9\" cy=\"-502.625\" fill=\"none\" rx=\"68.7879\" ry=\"68.7879\" stroke=\"black\"/>\n<text font-family=\"Times,serif\" font-size=\"14.00\" text-anchor=\"middle\" x=\"23612.9\" y=\"-498.925\">count-chunk</text>\n</g>\n<!-- &#45;3055650729276108124&#45;&gt;6499308961849340450 -->\n<g class=\"edge\" id=\"edge544\"><title>-3055650729276108124-&gt;6499308961849340450</title>\n<path d=\"M15646.1,-362.086C15668.1,-366.17 15699.9,-371.442 15727.9,-373.683 15836,-382.312 23436.7,-363.897 23534.9,-409.683 23548,-415.787 23559.8,-425.289 23569.9,-435.912\" fill=\"none\" stroke=\"black\"/>\n<polygon fill=\"black\" points=\"23567.3,-438.319 23576.6,-443.417 23572.5,-433.64 23567.3,-438.319\" stroke=\"black\"/>\n</g>\n<!-- &#45;3055650729277190649 -->\n<g class=\"node\" id=\"node270\"><title>-3055650729277190649</title>\n<polygon fill=\"none\" points=\"15790.9,-373.683 15736.9,-373.683 15736.9,-337.683 15790.9,-337.683 15790.9,-373.683\" stroke=\"black\"/>\n<text font-family=\"Times,serif\" font-size=\"14.00\" text-anchor=\"middle\" x=\"15763.9\" y=\"-351.983\">63</text>\n</g>\n<!-- 1691965577889327526&#45;&gt;&#45;3055650729277190649 -->\n<g class=\"edge\" id=\"edge199\"><title>1691965577889327526-&gt;-3055650729277190649</title>\n<path d=\"M15763.9,-301.814C15763.9,-310.544 15763.9,-319.42 15763.9,-327.343\" fill=\"none\" stroke=\"black\"/>\n<polygon fill=\"black\" points=\"15760.4,-327.453 15763.9,-337.453 15767.4,-327.453 15760.4,-327.453\" stroke=\"black\"/>\n</g>\n<!-- 7729317625141524598 -->\n<g class=\"node\" id=\"node407\"><title>7729317625141524598</title>\n<ellipse cx=\"12944.9\" cy=\"-502.625\" fill=\"none\" rx=\"92.8835\" ry=\"92.8835\" stroke=\"black\"/>\n<text font-family=\"Times,serif\" font-size=\"14.00\" text-anchor=\"middle\" x=\"12944.9\" y=\"-498.925\">series-sum-chunk</text>\n</g>\n<!-- &#45;3055650729277190649&#45;&gt;7729317625141524598 -->\n<g class=\"edge\" id=\"edge338\"><title>-3055650729277190649-&gt;7729317625141524598</title>\n<path d=\"M15736.7,-362.015C15714.8,-366.06 15683,-371.313 15654.9,-373.683 15510.6,-385.878 13181.8,-356.785 13046.9,-409.683 13035.8,-414.034 13025.2,-420.193 13015.2,-427.288\" fill=\"none\" stroke=\"black\"/>\n<polygon fill=\"black\" points=\"13012.9,-424.642 13007,-433.448 13017.1,-430.239 13012.9,-424.642\" stroke=\"black\"/>\n</g>\n<!-- 7591276667291829825 -->\n<g class=\"node\" id=\"node546\"><title>7591276667291829825</title>\n<ellipse cx=\"23768.9\" cy=\"-502.625\" fill=\"none\" rx=\"68.7879\" ry=\"68.7879\" stroke=\"black\"/>\n<text font-family=\"Times,serif\" font-size=\"14.00\" text-anchor=\"middle\" x=\"23768.9\" y=\"-498.925\">count-chunk</text>\n</g>\n<!-- &#45;3055650729277190649&#45;&gt;7591276667291829825 -->\n<g class=\"edge\" id=\"edge546\"><title>-3055650729277190649-&gt;7591276667291829825</title>\n<path d=\"M15791.2,-362.852C15810.1,-366.809 15835.9,-371.585 15858.9,-373.683 15967.3,-383.55 23592.3,-363.751 23690.9,-409.683 23704,-415.787 23715.8,-425.289 23725.9,-435.912\" fill=\"none\" stroke=\"black\"/>\n<polygon fill=\"black\" points=\"23723.3,-438.319 23732.6,-443.416 23728.5,-433.639 23723.3,-438.319\" stroke=\"black\"/>\n</g>\n<!-- &#45;3055650729408176174 -->\n<g class=\"node\" id=\"node272\"><title>-3055650729408176174</title>\n<polygon fill=\"none\" points=\"15921.9,-373.683 15867.9,-373.683 15867.9,-337.683 15921.9,-337.683 15921.9,-373.683\" stroke=\"black\"/>\n<text font-family=\"Times,serif\" font-size=\"14.00\" text-anchor=\"middle\" x=\"15894.9\" y=\"-351.983\">64</text>\n</g>\n<!-- &#45;6712957231482967921&#45;&gt;&#45;3055650729408176174 -->\n<g class=\"edge\" id=\"edge201\"><title>-6712957231482967921-&gt;-3055650729408176174</title>\n<path d=\"M15894.9,-301.814C15894.9,-310.544 15894.9,-319.42 15894.9,-327.343\" fill=\"none\" stroke=\"black\"/>\n<polygon fill=\"black\" points=\"15891.4,-327.453 15894.9,-337.453 15898.4,-327.453 15891.4,-327.453\" stroke=\"black\"/>\n</g>\n<!-- 2233124081154583281 -->\n<g class=\"node\" id=\"node409\"><title>2233124081154583281</title>\n<ellipse cx=\"13148.9\" cy=\"-502.625\" fill=\"none\" rx=\"92.8835\" ry=\"92.8835\" stroke=\"black\"/>\n<text font-family=\"Times,serif\" font-size=\"14.00\" text-anchor=\"middle\" x=\"13148.9\" y=\"-498.925\">series-sum-chunk</text>\n</g>\n<!-- &#45;3055650729408176174&#45;&gt;2233124081154583281 -->\n<g class=\"edge\" id=\"edge340\"><title>-3055650729408176174-&gt;2233124081154583281</title>\n<path d=\"M15867.7,-362.782C15848.8,-366.708 15823,-371.476 15799.9,-373.683 15659,-387.201 13382.8,-357.961 13250.9,-409.683 13239.8,-414.036 13229.2,-420.196 13219.2,-427.291\" fill=\"none\" stroke=\"black\"/>\n<polygon fill=\"black\" points=\"13216.9,-424.646 13211,-433.452 13221.1,-430.242 13216.9,-424.646\" stroke=\"black\"/>\n</g>\n<!-- 5995530659310725440 -->\n<g class=\"node\" id=\"node548\"><title>5995530659310725440</title>\n<ellipse cx=\"23924.9\" cy=\"-502.625\" fill=\"none\" rx=\"68.7879\" ry=\"68.7879\" stroke=\"black\"/>\n<text font-family=\"Times,serif\" font-size=\"14.00\" text-anchor=\"middle\" x=\"23924.9\" y=\"-498.925\">count-chunk</text>\n</g>\n<!-- &#45;3055650729408176174&#45;&gt;5995530659310725440 -->\n<g class=\"edge\" id=\"edge548\"><title>-3055650729408176174-&gt;5995530659310725440</title>\n<path d=\"M15922.1,-356.845C16428.4,-359.858 23834.9,-404.04 23846.9,-409.683 23860,-415.801 23871.7,-425.309 23881.9,-435.933\" fill=\"none\" stroke=\"black\"/>\n<polygon fill=\"black\" points=\"23879.3,-438.34 23888.6,-443.439 23884.5,-433.661 23879.3,-438.34\" stroke=\"black\"/>\n</g>\n<!-- &#45;3055650729409258699 -->\n<g class=\"node\" id=\"node274\"><title>-3055650729409258699</title>\n<polygon fill=\"none\" points=\"18786.9,-373.683 18732.9,-373.683 18732.9,-337.683 18786.9,-337.683 18786.9,-373.683\" stroke=\"black\"/>\n<text font-family=\"Times,serif\" font-size=\"14.00\" text-anchor=\"middle\" x=\"18759.9\" y=\"-351.983\">65</text>\n</g>\n<!-- &#45;7808666488274213596&#45;&gt;&#45;3055650729409258699 -->\n<g class=\"edge\" id=\"edge203\"><title>-7808666488274213596-&gt;-3055650729409258699</title>\n<path d=\"M18759.9,-301.814C18759.9,-310.544 18759.9,-319.42 18759.9,-327.343\" fill=\"none\" stroke=\"black\"/>\n<polygon fill=\"black\" points=\"18756.4,-327.453 18759.9,-337.453 18763.4,-327.453 18756.4,-327.453\" stroke=\"black\"/>\n</g>\n<!-- 165900480534079744 -->\n<g class=\"node\" id=\"node411\"><title>165900480534079744</title>\n<ellipse cx=\"13352.9\" cy=\"-502.625\" fill=\"none\" rx=\"92.8835\" ry=\"92.8835\" stroke=\"black\"/>\n<text font-family=\"Times,serif\" font-size=\"14.00\" text-anchor=\"middle\" x=\"13352.9\" y=\"-498.925\">series-sum-chunk</text>\n</g>\n<!-- &#45;3055650729409258699&#45;&gt;165900480534079744 -->\n<g class=\"edge\" id=\"edge342\"><title>-3055650729409258699-&gt;165900480534079744</title>\n<path d=\"M18732.7,-356.821C18326.8,-358.9 13520.7,-384.045 13454.9,-409.683 13443.8,-414.013 13433.2,-420.159 13423.2,-427.247\" fill=\"none\" stroke=\"black\"/>\n<polygon fill=\"black\" points=\"13420.9,-424.6 13415,-433.402 13425.1,-430.197 13420.9,-424.6\" stroke=\"black\"/>\n</g>\n<!-- 6902437894163646815 -->\n<g class=\"node\" id=\"node550\"><title>6902437894163646815</title>\n<ellipse cx=\"24080.9\" cy=\"-502.625\" fill=\"none\" rx=\"68.7879\" ry=\"68.7879\" stroke=\"black\"/>\n<text font-family=\"Times,serif\" font-size=\"14.00\" text-anchor=\"middle\" x=\"24080.9\" y=\"-498.925\">count-chunk</text>\n</g>\n<!-- &#45;3055650729409258699&#45;&gt;6902437894163646815 -->\n<g class=\"edge\" id=\"edge550\"><title>-3055650729409258699-&gt;6902437894163646815</title>\n<path d=\"M18787,-356.879C19190.8,-359.814 23971.4,-394.87 24002.9,-409.683 24016,-415.823 24027.7,-425.342 24037.8,-435.969\" fill=\"none\" stroke=\"black\"/>\n<polygon fill=\"black\" points=\"24035.3,-438.377 24044.6,-443.476 24040.5,-433.698 24035.3,-438.377\" stroke=\"black\"/>\n</g>\n<!-- &#45;3055650729410341224 -->\n<g class=\"node\" id=\"node276\"><title>-3055650729410341224</title>\n<polygon fill=\"none\" points=\"21583.9,-373.683 21529.9,-373.683 21529.9,-337.683 21583.9,-337.683 21583.9,-373.683\" stroke=\"black\"/>\n<text font-family=\"Times,serif\" font-size=\"14.00\" text-anchor=\"middle\" x=\"21556.9\" y=\"-351.983\">66</text>\n</g>\n<!-- &#45;8979544393795704371&#45;&gt;&#45;3055650729410341224 -->\n<g class=\"edge\" id=\"edge205\"><title>-8979544393795704371-&gt;-3055650729410341224</title>\n<path d=\"M21556.9,-301.814C21556.9,-310.544 21556.9,-319.42 21556.9,-327.343\" fill=\"none\" stroke=\"black\"/>\n<polygon fill=\"black\" points=\"21553.4,-327.453 21556.9,-337.453 21560.4,-327.453 21553.4,-327.453\" stroke=\"black\"/>\n</g>\n<!-- &#45;7789657135392060781 -->\n<g class=\"node\" id=\"node413\"><title>-7789657135392060781</title>\n<ellipse cx=\"13556.9\" cy=\"-502.625\" fill=\"none\" rx=\"92.8835\" ry=\"92.8835\" stroke=\"black\"/>\n<text font-family=\"Times,serif\" font-size=\"14.00\" text-anchor=\"middle\" x=\"13556.9\" y=\"-498.925\">series-sum-chunk</text>\n</g>\n<!-- &#45;3055650729410341224&#45;&gt;&#45;7789657135392060781 -->\n<g class=\"edge\" id=\"edge344\"><title>-3055650729410341224-&gt;-7789657135392060781</title>\n<path d=\"M21529.9,-356.848C21027.1,-359.916 13671.3,-404.892 13658.9,-409.683 13647.8,-413.995 13637.2,-420.13 13627.2,-427.211\" fill=\"none\" stroke=\"black\"/>\n<polygon fill=\"black\" points=\"13624.9,-424.563 13619,-433.363 13629.1,-430.162 13624.9,-424.563\" stroke=\"black\"/>\n</g>\n<!-- &#45;7107127740050752426 -->\n<g class=\"node\" id=\"node552\"><title>-7107127740050752426</title>\n<ellipse cx=\"24236.9\" cy=\"-502.625\" fill=\"none\" rx=\"68.7879\" ry=\"68.7879\" stroke=\"black\"/>\n<text font-family=\"Times,serif\" font-size=\"14.00\" text-anchor=\"middle\" x=\"24236.9\" y=\"-498.925\">count-chunk</text>\n</g>\n<!-- &#45;3055650729410341224&#45;&gt;&#45;7107127740050752426 -->\n<g class=\"edge\" id=\"edge552\"><title>-3055650729410341224-&gt;-7107127740050752426</title>\n<path d=\"M21584.2,-356.925C21857.4,-359.397 24097.6,-380.536 24158.9,-409.683 24172,-415.89 24183.7,-425.44 24193.8,-436.076\" fill=\"none\" stroke=\"black\"/>\n<polygon fill=\"black\" points=\"24191.3,-438.484 24200.5,-443.586 24196.5,-433.807 24191.3,-438.484\" stroke=\"black\"/>\n</g>\n<!-- &#45;3055650729411423749 -->\n<g class=\"node\" id=\"node278\"><title>-3055650729411423749</title>\n<polygon fill=\"none\" points=\"23060.9,-373.683 23006.9,-373.683 23006.9,-337.683 23060.9,-337.683 23060.9,-373.683\" stroke=\"black\"/>\n<text font-family=\"Times,serif\" font-size=\"14.00\" text-anchor=\"middle\" x=\"23033.9\" y=\"-351.983\">67</text>\n</g>\n<!-- 8383444917961716770&#45;&gt;&#45;3055650729411423749 -->\n<g class=\"edge\" id=\"edge207\"><title>8383444917961716770-&gt;-3055650729411423749</title>\n<path d=\"M23033.9,-301.814C23033.9,-310.544 23033.9,-319.42 23033.9,-327.343\" fill=\"none\" stroke=\"black\"/>\n<polygon fill=\"black\" points=\"23030.4,-327.453 23033.9,-337.453 23037.4,-327.453 23030.4,-327.453\" stroke=\"black\"/>\n</g>\n<!-- &#45;7530591912963035766 -->\n<g class=\"node\" id=\"node415\"><title>-7530591912963035766</title>\n<ellipse cx=\"13760.9\" cy=\"-502.625\" fill=\"none\" rx=\"92.8835\" ry=\"92.8835\" stroke=\"black\"/>\n<text font-family=\"Times,serif\" font-size=\"14.00\" text-anchor=\"middle\" x=\"13760.9\" y=\"-498.925\">series-sum-chunk</text>\n</g>\n<!-- &#45;3055650729411423749&#45;&gt;&#45;7530591912963035766 -->\n<g class=\"edge\" id=\"edge346\"><title>-3055650729411423749-&gt;-7530591912963035766</title>\n<path d=\"M23006.5,-357.08C22860.7,-359.172 22163.4,-368.99 21592.9,-373.683 21485.6,-374.566 13963.1,-370.947 13862.9,-409.683 13851.8,-413.984 13841.2,-420.112 13831.2,-427.189\" fill=\"none\" stroke=\"black\"/>\n<polygon fill=\"black\" points=\"13828.9,-424.539 13823,-433.338 13833.1,-430.14 13828.9,-424.539\" stroke=\"black\"/>\n</g>\n<!-- &#45;5623213561946608619 -->\n<g class=\"node\" id=\"node554\"><title>-5623213561946608619</title>\n<ellipse cx=\"24392.9\" cy=\"-502.625\" fill=\"none\" rx=\"68.7879\" ry=\"68.7879\" stroke=\"black\"/>\n<text font-family=\"Times,serif\" font-size=\"14.00\" text-anchor=\"middle\" x=\"24392.9\" y=\"-498.925\">count-chunk</text>\n</g>\n<!-- &#45;3055650729411423749&#45;&gt;&#45;5623213561946608619 -->\n<g class=\"edge\" id=\"edge554\"><title>-3055650729411423749-&gt;-5623213561946608619</title>\n<path d=\"M23061.1,-356.507C23236,-355.546 24198.6,-352.877 24314.9,-409.683 24327.9,-416.027 24339.6,-425.639 24349.7,-436.295\" fill=\"none\" stroke=\"black\"/>\n<polygon fill=\"black\" points=\"24347.1,-438.703 24356.4,-443.811 24352.4,-434.03 24347.1,-438.703\" stroke=\"black\"/>\n</g>\n<!-- &#45;3055650729403846074 -->\n<g class=\"node\" id=\"node280\"><title>-3055650729403846074</title>\n<polygon fill=\"none\" points=\"24689.9,-373.683 24635.9,-373.683 24635.9,-337.683 24689.9,-337.683 24689.9,-373.683\" stroke=\"black\"/>\n<text font-family=\"Times,serif\" font-size=\"14.00\" text-anchor=\"middle\" x=\"24662.9\" y=\"-351.983\">68</text>\n</g>\n<!-- 7619853790961731163&#45;&gt;&#45;3055650729403846074 -->\n<g class=\"edge\" id=\"edge209\"><title>7619853790961731163-&gt;-3055650729403846074</title>\n<path d=\"M24662.9,-301.814C24662.9,-310.544 24662.9,-319.42 24662.9,-327.343\" fill=\"none\" stroke=\"black\"/>\n<polygon fill=\"black\" points=\"24659.4,-327.453 24662.9,-337.453 24666.4,-327.453 24659.4,-327.453\" stroke=\"black\"/>\n</g>\n<!-- 678796295396281269 -->\n<g class=\"node\" id=\"node417\"><title>678796295396281269</title>\n<ellipse cx=\"24572.9\" cy=\"-502.625\" fill=\"none\" rx=\"92.8835\" ry=\"92.8835\" stroke=\"black\"/>\n<text font-family=\"Times,serif\" font-size=\"14.00\" text-anchor=\"middle\" x=\"24572.9\" y=\"-498.925\">series-sum-chunk</text>\n</g>\n<!-- &#45;3055650729403846074&#45;&gt;678796295396281269 -->\n<g class=\"edge\" id=\"edge348\"><title>-3055650729403846074-&gt;678796295396281269</title>\n<path d=\"M24652.3,-373.879C24645.7,-384.508 24636.6,-399.044 24627,-414.507\" fill=\"none\" stroke=\"black\"/>\n<polygon fill=\"black\" points=\"24624,-412.833 24621.7,-423.175 24629.9,-416.526 24624,-412.833\" stroke=\"black\"/>\n</g>\n<!-- &#45;1853544294316588044 -->\n<g class=\"node\" id=\"node556\"><title>-1853544294316588044</title>\n<ellipse cx=\"24752.9\" cy=\"-502.625\" fill=\"none\" rx=\"68.7879\" ry=\"68.7879\" stroke=\"black\"/>\n<text font-family=\"Times,serif\" font-size=\"14.00\" text-anchor=\"middle\" x=\"24752.9\" y=\"-498.925\">count-chunk</text>\n</g>\n<!-- &#45;3055650729403846074&#45;&gt;&#45;1853544294316588044 -->\n<g class=\"edge\" id=\"edge556\"><title>-3055650729403846074-&gt;-1853544294316588044</title>\n<path d=\"M24673.6,-373.879C24683.1,-389.172 24697.6,-412.551 24711.7,-435.147\" fill=\"none\" stroke=\"black\"/>\n<polygon fill=\"black\" points=\"24708.8,-437.102 24717,-443.751 24714.7,-433.409 24708.8,-437.102\" stroke=\"black\"/>\n</g>\n<!-- 2780735182513567364 -->\n<g class=\"node\" id=\"node282\"><title>2780735182513567364</title>\n<polygon fill=\"none\" points=\"5012.94,-667.566 4940.94,-667.566 4940.94,-631.566 5012.94,-631.566 5012.94,-667.566\" stroke=\"black\"/>\n<text font-family=\"Times,serif\" font-size=\"14.00\" text-anchor=\"middle\" x=\"4976.94\" y=\"-645.866\">(0, 0, 0)</text>\n</g>\n<!-- 7260592910443040305&#45;&gt;2780735182513567364 -->\n<g class=\"edge\" id=\"edge211\"><title>7260592910443040305-&gt;2780735182513567364</title>\n<path d=\"M2603.04,-571.778C2615.27,-581.444 2628.74,-589.983 2642.94,-595.566 2761.2,-642.069 4804.96,-608.642 4929.94,-631.566 4930.28,-631.628 4930.61,-631.692 4930.95,-631.758\" fill=\"none\" stroke=\"black\"/>\n<polygon fill=\"black\" points=\"4930.29,-635.199 4940.84,-634.167 4931.95,-628.398 4930.29,-635.199\" stroke=\"black\"/>\n</g>\n<!-- 4722279125024388749 -->\n<g class=\"node\" id=\"node419\"><title>4722279125024388749</title>\n<ellipse cx=\"7182.94\" cy=\"-784.809\" fill=\"none\" rx=\"81.4863\" ry=\"81.4863\" stroke=\"black\"/>\n<text font-family=\"Times,serif\" font-size=\"14.00\" text-anchor=\"middle\" x=\"7182.94\" y=\"-781.109\">series-sum-agg</text>\n</g>\n<!-- 2780735182513567364&#45;&gt;4722279125024388749 -->\n<g class=\"edge\" id=\"edge352\"><title>2780735182513567364-&gt;4722279125024388749</title>\n<path d=\"M5013,-665.28C5016,-666.166 5019,-666.947 5021.94,-667.566 5426.61,-752.75 6733.23,-777.388 7091.4,-782.619\" fill=\"none\" stroke=\"black\"/>\n<polygon fill=\"black\" points=\"7091.42,-786.12 7101.47,-782.765 7091.52,-779.121 7091.42,-786.12\" stroke=\"black\"/>\n</g>\n<!-- 2780733729022570889 -->\n<g class=\"node\" id=\"node284\"><title>2780733729022570889</title>\n<polygon fill=\"none\" points=\"8590.94,-667.566 8518.94,-667.566 8518.94,-631.566 8590.94,-631.566 8590.94,-667.566\" stroke=\"black\"/>\n<text font-family=\"Times,serif\" font-size=\"14.00\" text-anchor=\"middle\" x=\"8554.94\" y=\"-645.866\">(0, 1, 0)</text>\n</g>\n<!-- &#45;3827911402936004032&#45;&gt;2780733729022570889 -->\n<g class=\"edge\" id=\"edge213\"><title>-3827911402936004032-&gt;2780733729022570889</title>\n<path d=\"M8606.39,-578.218C8594.52,-594.449 8582.75,-610.538 8573.47,-623.225\" fill=\"none\" stroke=\"black\"/>\n<polygon fill=\"black\" points=\"8570.56,-621.286 8567.48,-631.424 8576.21,-625.418 8570.56,-621.286\" stroke=\"black\"/>\n</g>\n<!-- 2780733729022570889&#45;&gt;4722279125024388749 -->\n<g class=\"edge\" id=\"edge355\"><title>2780733729022570889-&gt;4722279125024388749</title>\n<path d=\"M8518.79,-654.744C8487.8,-658.287 8441.95,-663.436 8401.94,-667.566 7980.57,-711.064 7476.63,-757.273 7273.94,-775.62\" fill=\"none\" stroke=\"black\"/>\n<polygon fill=\"black\" points=\"7273.58,-772.138 7263.94,-776.525 7274.21,-779.11 7273.58,-772.138\" stroke=\"black\"/>\n</g>\n<!-- 2780732275531574414 -->\n<g class=\"node\" id=\"node286\"><title>2780732275531574414</title>\n<polygon fill=\"none\" points=\"5400.94,-667.566 5328.94,-667.566 5328.94,-631.566 5400.94,-631.566 5400.94,-667.566\" stroke=\"black\"/>\n<text font-family=\"Times,serif\" font-size=\"14.00\" text-anchor=\"middle\" x=\"5364.94\" y=\"-645.866\">(0, 2, 0)</text>\n</g>\n<!-- &#45;3652628655416399917&#45;&gt;2780732275531574414 -->\n<g class=\"edge\" id=\"edge215\"><title>-3652628655416399917-&gt;2780732275531574414</title>\n<path d=\"M3419.35,-571.961C3431.49,-581.539 3444.86,-590.001 3458.94,-595.566 3651.17,-671.559 5115.83,-593.203 5318.94,-631.566 5319.04,-631.586 5319.15,-631.605 5319.25,-631.625\" fill=\"none\" stroke=\"black\"/>\n<polygon fill=\"black\" points=\"5318.31,-634.998 5328.85,-633.958 5319.96,-628.196 5318.31,-634.998\" stroke=\"black\"/>\n</g>\n<!-- 2780732275531574414&#45;&gt;4722279125024388749 -->\n<g class=\"edge\" id=\"edge358\"><title>2780732275531574414-&gt;4722279125024388749</title>\n<path d=\"M5401.01,-665.242C5404,-666.136 5407,-666.93 5409.94,-667.566 5735.96,-738.192 6776.57,-772.451 7091.67,-781.383\" fill=\"none\" stroke=\"black\"/>\n<polygon fill=\"black\" points=\"7091.58,-784.881 7101.68,-781.665 7091.78,-777.884 7091.58,-784.881\" stroke=\"black\"/>\n</g>\n<!-- 2780730822040577939 -->\n<g class=\"node\" id=\"node288\"><title>2780730822040577939</title>\n<polygon fill=\"none\" points=\"4004.94,-667.566 3932.94,-667.566 3932.94,-631.566 4004.94,-631.566 4004.94,-667.566\" stroke=\"black\"/>\n<text font-family=\"Times,serif\" font-size=\"14.00\" text-anchor=\"middle\" x=\"3968.94\" y=\"-645.866\">(0, 3, 0)</text>\n</g>\n<!-- 3218897836535596746&#45;&gt;2780730822040577939 -->\n<g class=\"edge\" id=\"edge217\"><title>3218897836535596746-&gt;2780730822040577939</title>\n<path d=\"M971.032,-571.805C983.258,-581.469 996.736,-589.999 1010.94,-595.566 1080.23,-622.722 3615.57,-628.802 3689.94,-631.566 3771.95,-634.614 3867.35,-641.053 3922.67,-645.073\" fill=\"none\" stroke=\"black\"/>\n<polygon fill=\"black\" points=\"3922.62,-648.579 3932.85,-645.819 3923.13,-641.598 3922.62,-648.579\" stroke=\"black\"/>\n</g>\n<!-- 2780730822040577939&#45;&gt;4722279125024388749 -->\n<g class=\"edge\" id=\"edge361\"><title>2780730822040577939-&gt;4722279125024388749</title>\n<path d=\"M4005.01,-655.075C4037.6,-658.982 4086.91,-664.479 4129.94,-667.566 5297.49,-751.339 6720.83,-777.063 7091.32,-782.566\" fill=\"none\" stroke=\"black\"/>\n<polygon fill=\"black\" points=\"7091.4,-786.067 7101.45,-782.715 7091.51,-779.068 7091.4,-786.067\" stroke=\"black\"/>\n</g>\n<!-- 2780740996477553264 -->\n<g class=\"node\" id=\"node290\"><title>2780740996477553264</title>\n<polygon fill=\"none\" points=\"2086.94,-667.566 2014.94,-667.566 2014.94,-631.566 2086.94,-631.566 2086.94,-667.566\" stroke=\"black\"/>\n<text font-family=\"Times,serif\" font-size=\"14.00\" text-anchor=\"middle\" x=\"2050.94\" y=\"-645.866\">(0, 4, 0)</text>\n</g>\n<!-- 3925000390830465525&#45;&gt;2780740996477553264 -->\n<g class=\"edge\" id=\"edge219\"><title>3925000390830465525-&gt;2780740996477553264</title>\n<path d=\"M359.407,-571.809C371.547,-581.405 384.899,-589.911 398.942,-595.566 475.366,-626.342 1744.55,-644.558 2004.61,-647.977\" fill=\"none\" stroke=\"black\"/>\n<polygon fill=\"black\" points=\"2004.79,-651.48 2014.83,-648.111 2004.88,-644.48 2004.79,-651.48\" stroke=\"black\"/>\n</g>\n<!-- 2780740996477553264&#45;&gt;4722279125024388749 -->\n<g class=\"edge\" id=\"edge412\"><title>2780740996477553264-&gt;4722279125024388749</title>\n<path d=\"M2087.16,-651.507C2506.53,-662.395 6439.05,-764.495 7091.44,-781.434\" fill=\"none\" stroke=\"black\"/>\n<polygon fill=\"black\" points=\"7091.64,-784.94 7101.73,-781.7 7091.82,-777.942 7091.64,-784.94\" stroke=\"black\"/>\n</g>\n<!-- 2780739542986556789 -->\n<g class=\"node\" id=\"node292\"><title>2780739542986556789</title>\n<polygon fill=\"none\" points=\"9403.94,-667.566 9331.94,-667.566 9331.94,-631.566 9403.94,-631.566 9403.94,-667.566\" stroke=\"black\"/>\n<text font-family=\"Times,serif\" font-size=\"14.00\" text-anchor=\"middle\" x=\"9367.94\" y=\"-645.866\">(0, 5, 0)</text>\n</g>\n<!-- 5367899839358753508&#45;&gt;2780739542986556789 -->\n<g class=\"edge\" id=\"edge221\"><title>5367899839358753508-&gt;2780739542986556789</title>\n<path d=\"M9421.48,-577.369C9409.09,-593.847 9396.77,-610.238 9387.07,-623.131\" fill=\"none\" stroke=\"black\"/>\n<polygon fill=\"black\" points=\"9384.02,-621.361 9380.81,-631.457 9389.62,-625.568 9384.02,-621.361\" stroke=\"black\"/>\n</g>\n<!-- 2780739542986556789&#45;&gt;4722279125024388749 -->\n<g class=\"edge\" id=\"edge414\"><title>2780739542986556789-&gt;4722279125024388749</title>\n<path d=\"M9331.9,-655.089C9300.72,-658.871 9254.42,-664.176 9213.94,-667.566 8466.49,-730.168 7561.42,-768.903 7274.66,-780.287\" fill=\"none\" stroke=\"black\"/>\n<polygon fill=\"black\" points=\"7274.17,-776.803 7264.31,-780.696 7274.44,-783.798 7274.17,-776.803\" stroke=\"black\"/>\n</g>\n<!-- 2780738089495560314 -->\n<g class=\"node\" id=\"node294\"><title>2780738089495560314</title>\n<polygon fill=\"none\" points=\"8790.94,-667.566 8718.94,-667.566 8718.94,-631.566 8790.94,-631.566 8790.94,-667.566\" stroke=\"black\"/>\n<text font-family=\"Times,serif\" font-size=\"14.00\" text-anchor=\"middle\" x=\"8754.94\" y=\"-645.866\">(0, 6, 0)</text>\n</g>\n<!-- &#45;1585777276552025241&#45;&gt;2780738089495560314 -->\n<g class=\"edge\" id=\"edge223\"><title>-1585777276552025241-&gt;2780738089495560314</title>\n<path d=\"M8808.98,-577.369C8796.47,-593.847 8784.03,-610.238 8774.25,-623.131\" fill=\"none\" stroke=\"black\"/>\n<polygon fill=\"black\" points=\"8771.18,-621.375 8767.93,-631.457 8776.76,-625.607 8771.18,-621.375\" stroke=\"black\"/>\n</g>\n<!-- 2780738089495560314&#45;&gt;4722279125024388749 -->\n<g class=\"edge\" id=\"edge416\"><title>2780738089495560314-&gt;4722279125024388749</title>\n<path d=\"M8718.64,-654.832C8687.25,-658.453 8640.63,-663.667 8599.94,-667.566 8099.93,-715.486 7499.47,-760.674 7274.2,-777.193\" fill=\"none\" stroke=\"black\"/>\n<polygon fill=\"black\" points=\"7273.8,-773.713 7264.09,-777.935 7274.31,-780.695 7273.8,-773.713\" stroke=\"black\"/>\n</g>\n<!-- 2780736636004563839 -->\n<g class=\"node\" id=\"node296\"><title>2780736636004563839</title>\n<polygon fill=\"none\" points=\"7418.94,-667.566 7346.94,-667.566 7346.94,-631.566 7418.94,-631.566 7418.94,-667.566\" stroke=\"black\"/>\n<text font-family=\"Times,serif\" font-size=\"14.00\" text-anchor=\"middle\" x=\"7382.94\" y=\"-645.866\">(0, 7, 0)</text>\n</g>\n<!-- 5969112922764261422&#45;&gt;2780736636004563839 -->\n<g class=\"edge\" id=\"edge225\"><title>5969112922764261422-&gt;2780736636004563839</title>\n<path d=\"M7404.75,-590.031C7400.44,-601.606 7396.31,-612.689 7392.83,-622.036\" fill=\"none\" stroke=\"black\"/>\n<polygon fill=\"black\" points=\"7389.53,-620.847 7389.32,-631.44 7396.09,-623.291 7389.53,-620.847\" stroke=\"black\"/>\n</g>\n<!-- 2780736636004563839&#45;&gt;4722279125024388749 -->\n<g class=\"edge\" id=\"edge418\"><title>2780736636004563839-&gt;4722279125024388749</title>\n<path d=\"M7357.2,-667.713C7332.4,-684.236 7293.64,-710.06 7258.97,-733.161\" fill=\"none\" stroke=\"black\"/>\n<polygon fill=\"black\" points=\"7256.63,-730.511 7250.25,-738.968 7260.51,-736.337 7256.63,-730.511\" stroke=\"black\"/>\n</g>\n<!-- 2780723554585595564 -->\n<g class=\"node\" id=\"node298\"><title>2780723554585595564</title>\n<polygon fill=\"none\" points=\"4610.94,-667.566 4538.94,-667.566 4538.94,-631.566 4610.94,-631.566 4610.94,-667.566\" stroke=\"black\"/>\n<text font-family=\"Times,serif\" font-size=\"14.00\" text-anchor=\"middle\" x=\"4574.94\" y=\"-645.866\">(0, 8, 0)</text>\n</g>\n<!-- &#45;5791121210666861111&#45;&gt;2780723554585595564 -->\n<g class=\"edge\" id=\"edge227\"><title>-5791121210666861111-&gt;2780723554585595564</title>\n<path d=\"M1787.03,-571.806C1799.26,-581.469 1812.74,-589.999 1826.94,-595.566 1965.94,-650.038 4366.17,-610.35 4513.94,-631.566 4518.79,-632.262 4523.79,-633.23 4528.76,-634.355\" fill=\"none\" stroke=\"black\"/>\n<polygon fill=\"black\" points=\"4528.27,-637.84 4538.82,-636.846 4529.95,-631.046 4528.27,-637.84\" stroke=\"black\"/>\n</g>\n<!-- 2780723554585595564&#45;&gt;4722279125024388749 -->\n<g class=\"edge\" id=\"edge376\"><title>2780723554585595564-&gt;4722279125024388749</title>\n<path d=\"M4610.98,-663.731C4616.28,-665.259 4621.71,-666.61 4626.94,-667.566 5114.47,-756.639 6694.03,-778.749 7091.51,-782.958\" fill=\"none\" stroke=\"black\"/>\n<polygon fill=\"black\" points=\"7091.48,-786.458 7101.52,-783.063 7091.56,-779.458 7091.48,-786.458\" stroke=\"black\"/>\n</g>\n<!-- 2780722101094599089 -->\n<g class=\"node\" id=\"node300\"><title>2780722101094599089</title>\n<polygon fill=\"none\" points=\"5490.94,-667.566 5418.94,-667.566 5418.94,-631.566 5490.94,-631.566 5490.94,-667.566\" stroke=\"black\"/>\n<text font-family=\"Times,serif\" font-size=\"14.00\" text-anchor=\"middle\" x=\"5454.94\" y=\"-645.866\">(0, 9, 0)</text>\n</g>\n<!-- 4851844196003051480&#45;&gt;2780722101094599089 -->\n<g class=\"edge\" id=\"edge229\"><title>4851844196003051480-&gt;2780722101094599089</title>\n<path d=\"M3623.35,-571.946C3635.5,-581.526 3648.87,-589.992 3662.94,-595.566 3840.72,-665.975 5177.94,-596.883 5409.04,-632.048\" fill=\"none\" stroke=\"black\"/>\n<polygon fill=\"black\" points=\"5408.45,-635.499 5418.9,-633.744 5409.64,-628.6 5408.45,-635.499\" stroke=\"black\"/>\n</g>\n<!-- 2780722101094599089&#45;&gt;4722279125024388749 -->\n<g class=\"edge\" id=\"edge380\"><title>2780722101094599089-&gt;4722279125024388749</title>\n<path d=\"M5491.01,-665.231C5494,-666.127 5497,-666.925 5499.94,-667.566 5807.71,-734.801 6786.64,-771.121 7091.44,-781.007\" fill=\"none\" stroke=\"black\"/>\n<polygon fill=\"black\" points=\"7091.45,-784.509 7101.56,-781.333 7091.68,-777.512 7091.45,-784.509\" stroke=\"black\"/>\n</g>\n<!-- 2780720647603602614 -->\n<g class=\"node\" id=\"node302\"><title>2780720647603602614</title>\n<polygon fill=\"none\" points=\"6679.44,-667.566 6598.44,-667.566 6598.44,-631.566 6679.44,-631.566 6679.44,-667.566\" stroke=\"black\"/>\n<text font-family=\"Times,serif\" font-size=\"14.00\" text-anchor=\"middle\" x=\"6638.94\" y=\"-645.866\">(0, 10, 0)</text>\n</g>\n<!-- 4801515187450625387&#45;&gt;2780720647603602614 -->\n<g class=\"edge\" id=\"edge231\"><title>4801515187450625387-&gt;2780720647603602614</title>\n<path d=\"M6071.62,-571.298C6083.73,-580.952 6097.02,-589.61 6110.94,-595.566 6206.1,-636.29 6469.1,-611.738 6588.2,-631.913\" fill=\"none\" stroke=\"black\"/>\n<polygon fill=\"black\" points=\"6587.77,-635.392 6598.24,-633.793 6589.06,-628.512 6587.77,-635.392\" stroke=\"black\"/>\n</g>\n<!-- 2780720647603602614&#45;&gt;4722279125024388749 -->\n<g class=\"edge\" id=\"edge383\"><title>2780720647603602614-&gt;4722279125024388749</title>\n<path d=\"M6679.48,-664.992C6682.33,-665.896 6685.17,-666.764 6687.94,-667.566 6828.1,-708.22 6993.67,-744.844 7093.38,-765.69\" fill=\"none\" stroke=\"black\"/>\n<polygon fill=\"black\" points=\"7092.91,-769.167 7103.42,-767.781 7094.34,-762.314 7092.91,-769.167\" stroke=\"black\"/>\n</g>\n<!-- 2780719194112606139 -->\n<g class=\"node\" id=\"node304\"><title>2780719194112606139</title>\n<polygon fill=\"none\" points=\"5211.44,-667.566 5130.44,-667.566 5130.44,-631.566 5211.44,-631.566 5211.44,-667.566\" stroke=\"black\"/>\n<text font-family=\"Times,serif\" font-size=\"14.00\" text-anchor=\"middle\" x=\"5170.94\" y=\"-645.866\">(0, 11, 0)</text>\n</g>\n<!-- &#45;4476156553389005214&#45;&gt;2780719194112606139 -->\n<g class=\"edge\" id=\"edge233\"><title>-4476156553389005214-&gt;2780719194112606139</title>\n<path d=\"M3011.34,-571.984C3023.48,-581.56 3036.86,-590.015 3050.94,-595.566 3155.7,-636.86 4930.73,-612.876 5120.3,-632.284\" fill=\"none\" stroke=\"black\"/>\n<polygon fill=\"black\" points=\"5119.91,-635.763 5130.28,-633.594 5120.82,-628.822 5119.91,-635.763\" stroke=\"black\"/>\n</g>\n<!-- 2780719194112606139&#45;&gt;4722279125024388749 -->\n<g class=\"edge\" id=\"edge386\"><title>2780719194112606139-&gt;4722279125024388749</title>\n<path d=\"M5211.62,-665.616C5214.41,-666.359 5217.2,-667.021 5219.94,-667.566 5585.4,-740.336 6755,-773.526 7091.55,-781.723\" fill=\"none\" stroke=\"black\"/>\n<polygon fill=\"black\" points=\"7091.65,-785.227 7101.74,-781.97 7091.82,-778.229 7091.65,-785.227\" stroke=\"black\"/>\n</g>\n<!-- 2780729368549581464 -->\n<g class=\"node\" id=\"node306\"><title>2780729368549581464</title>\n<polygon fill=\"none\" points=\"6481.44,-667.566 6400.44,-667.566 6400.44,-631.566 6481.44,-631.566 6481.44,-667.566\" stroke=\"black\"/>\n<text font-family=\"Times,serif\" font-size=\"14.00\" text-anchor=\"middle\" x=\"6440.94\" y=\"-645.866\">(0, 12, 0)</text>\n</g>\n<!-- &#45;2549603850137066035&#45;&gt;2780729368549581464 -->\n<g class=\"edge\" id=\"edge235\"><title>-2549603850137066035-&gt;2780729368549581464</title>\n<path d=\"M5663.5,-571.569C5675.63,-581.192 5688.96,-589.77 5702.94,-595.566 5841.47,-652.985 6224.45,-604.719 6390.14,-631.906\" fill=\"none\" stroke=\"black\"/>\n<polygon fill=\"black\" points=\"6389.8,-635.4 6400.26,-633.715 6391.03,-628.509 6389.8,-635.4\" stroke=\"black\"/>\n</g>\n<!-- 2780729368549581464&#45;&gt;4722279125024388749 -->\n<g class=\"edge\" id=\"edge364\"><title>2780729368549581464-&gt;4722279125024388749</title>\n<path d=\"M6481.69,-665.278C6484.47,-666.103 6487.24,-666.876 6489.94,-667.566 6702.63,-721.889 6958.7,-757.276 7092.09,-773.508\" fill=\"none\" stroke=\"black\"/>\n<polygon fill=\"black\" points=\"7091.91,-777.012 7102.26,-774.738 7092.75,-770.063 7091.91,-777.012\" stroke=\"black\"/>\n</g>\n<!-- 2780727915058584989 -->\n<g class=\"node\" id=\"node308\"><title>2780727915058584989</title>\n<polygon fill=\"none\" points=\"7989.44,-667.566 7908.44,-667.566 7908.44,-631.566 7989.44,-631.566 7989.44,-667.566\" stroke=\"black\"/>\n<text font-family=\"Times,serif\" font-size=\"14.00\" text-anchor=\"middle\" x=\"7948.94\" y=\"-645.866\">(0, 13, 0)</text>\n</g>\n<!-- &#45;2302771749629913220&#45;&gt;2780727915058584989 -->\n<g class=\"edge\" id=\"edge237\"><title>-2302771749629913220-&gt;2780727915058584989</title>\n<path d=\"M7996.6,-579.491C7985.72,-595.255 7975,-610.803 7966.48,-623.145\" fill=\"none\" stroke=\"black\"/>\n<polygon fill=\"black\" points=\"7963.5,-621.304 7960.7,-631.522 7969.26,-625.279 7963.5,-621.304\" stroke=\"black\"/>\n</g>\n<!-- 2780727915058584989&#45;&gt;4722279125024388749 -->\n<g class=\"edge\" id=\"edge367\"><title>2780727915058584989-&gt;4722279125024388749</title>\n<path d=\"M7908.3,-657.636C7789.31,-678.333 7439.64,-739.158 7273.1,-768.126\" fill=\"none\" stroke=\"black\"/>\n<polygon fill=\"black\" points=\"7272.14,-764.741 7262.89,-769.903 7273.34,-771.637 7272.14,-764.741\" stroke=\"black\"/>\n</g>\n<!-- 2780726461567588514 -->\n<g class=\"node\" id=\"node310\"><title>2780726461567588514</title>\n<polygon fill=\"none\" points=\"6877.44,-667.566 6796.44,-667.566 6796.44,-631.566 6877.44,-631.566 6877.44,-667.566\" stroke=\"black\"/>\n<text font-family=\"Times,serif\" font-size=\"14.00\" text-anchor=\"middle\" x=\"6836.94\" y=\"-645.866\">(0, 14, 0)</text>\n</g>\n<!-- &#45;3828406490730700289&#45;&gt;2780726461567588514 -->\n<g class=\"edge\" id=\"edge239\"><title>-3828406490730700289-&gt;2780726461567588514</title>\n<path d=\"M6480.21,-570.843C6492.21,-580.484 6505.31,-589.257 6518.94,-595.566 6625.13,-644.723 6667.68,-606.242 6786.39,-631.776\" fill=\"none\" stroke=\"black\"/>\n<polygon fill=\"black\" points=\"6785.67,-635.203 6796.2,-633.994 6787.22,-628.375 6785.67,-635.203\" stroke=\"black\"/>\n</g>\n<!-- 2780726461567588514&#45;&gt;4722279125024388749 -->\n<g class=\"edge\" id=\"edge370\"><title>2780726461567588514-&gt;4722279125024388749</title>\n<path d=\"M6877.65,-666.243C6931.48,-686.972 7027.69,-724.023 7097.75,-751.004\" fill=\"none\" stroke=\"black\"/>\n<polygon fill=\"black\" points=\"7096.87,-754.414 7107.46,-754.741 7099.39,-747.881 7096.87,-754.414\" stroke=\"black\"/>\n</g>\n<!-- 2780725008076592039 -->\n<g class=\"node\" id=\"node312\"><title>2780725008076592039</title>\n<polygon fill=\"none\" points=\"4220.44,-667.566 4139.44,-667.566 4139.44,-631.566 4220.44,-631.566 4220.44,-667.566\" stroke=\"black\"/>\n<text font-family=\"Times,serif\" font-size=\"14.00\" text-anchor=\"middle\" x=\"4179.94\" y=\"-645.866\">(0, 15, 0)</text>\n</g>\n<!-- &#45;5897261882512781626&#45;&gt;2780725008076592039 -->\n<g class=\"edge\" id=\"edge241\"><title>-5897261882512781626-&gt;2780725008076592039</title>\n<path d=\"M1175.03,-571.812C1187.26,-581.475 1200.73,-590.003 1214.94,-595.566 1359.75,-652.269 3858.69,-622.636 4013.94,-631.566 4052.7,-633.796 4096.36,-638.349 4129.18,-642.182\" fill=\"none\" stroke=\"black\"/>\n<polygon fill=\"black\" points=\"4129.09,-645.696 4139.43,-643.398 4129.91,-638.745 4129.09,-645.696\" stroke=\"black\"/>\n</g>\n<!-- 2780725008076592039&#45;&gt;4722279125024388749 -->\n<g class=\"edge\" id=\"edge373\"><title>2780725008076592039-&gt;4722279125024388749</title>\n<path d=\"M4220.44,-658.151C4240.4,-661.593 4264.86,-665.376 4286.94,-667.566 5387.35,-776.686 6732.63,-784.122 7091.43,-784.04\" fill=\"none\" stroke=\"black\"/>\n<polygon fill=\"black\" points=\"7091.51,-787.54 7101.51,-784.036 7091.51,-780.54 7091.51,-787.54\" stroke=\"black\"/>\n</g>\n<!-- 2780758438369510964 -->\n<g class=\"node\" id=\"node314\"><title>2780758438369510964</title>\n<polygon fill=\"none\" points=\"7273.44,-667.566 7192.44,-667.566 7192.44,-631.566 7273.44,-631.566 7273.44,-667.566\" stroke=\"black\"/>\n<text font-family=\"Times,serif\" font-size=\"14.00\" text-anchor=\"middle\" x=\"7232.94\" y=\"-645.866\">(0, 16, 0)</text>\n</g>\n<!-- 7810430883414807041&#45;&gt;2780758438369510964 -->\n<g class=\"edge\" id=\"edge243\"><title>7810430883414807041-&gt;2780758438369510964</title>\n<path d=\"M7232.94,-595.829C7232.94,-605.088 7232.94,-613.882 7232.94,-621.541\" fill=\"none\" stroke=\"black\"/>\n<polygon fill=\"black\" points=\"7229.44,-621.542 7232.94,-631.542 7236.44,-621.542 7229.44,-621.542\" stroke=\"black\"/>\n</g>\n<!-- 2780758438369510964&#45;&gt;4722279125024388749 -->\n<g class=\"edge\" id=\"edge382\"><title>2780758438369510964-&gt;4722279125024388749</title>\n<path d=\"M7226.51,-667.713C7223.32,-676.198 7219.22,-687.137 7214.8,-698.9\" fill=\"none\" stroke=\"black\"/>\n<polygon fill=\"black\" points=\"7211.45,-697.887 7211.21,-708.479 7218,-700.347 7211.45,-697.887\" stroke=\"black\"/>\n</g>\n<!-- 2780756984878514489 -->\n<g class=\"node\" id=\"node316\"><title>2780756984878514489</title>\n<polygon fill=\"none\" points=\"3117.44,-667.566 3036.44,-667.566 3036.44,-631.566 3117.44,-631.566 3117.44,-667.566\" stroke=\"black\"/>\n<text font-family=\"Times,serif\" font-size=\"14.00\" text-anchor=\"middle\" x=\"3076.94\" y=\"-645.866\">(0, 17, 0)</text>\n</g>\n<!-- 7924254766501987856&#45;&gt;2780756984878514489 -->\n<g class=\"edge\" id=\"edge245\"><title>7924254766501987856-&gt;2780756984878514489</title>\n<path d=\"M563.356,-571.936C575.502,-581.517 588.869,-589.986 602.942,-595.566 632.154,-607.149 2676.25,-641.86 3026.23,-647.721\" fill=\"none\" stroke=\"black\"/>\n<polygon fill=\"black\" points=\"3026.27,-651.222 3036.33,-647.89 3026.39,-644.223 3026.27,-651.222\" stroke=\"black\"/>\n</g>\n<!-- 2780756984878514489&#45;&gt;4722279125024388749 -->\n<g class=\"edge\" id=\"edge385\"><title>2780756984878514489-&gt;4722279125024388749</title>\n<path d=\"M3117.59,-651.92C3204.47,-654.813 3414.7,-661.8 3590.94,-667.566 4984.77,-713.169 6682.86,-767.752 7091.41,-780.871\" fill=\"none\" stroke=\"black\"/>\n<polygon fill=\"black\" points=\"7091.58,-784.378 7101.69,-781.201 7091.81,-777.382 7091.58,-784.378\" stroke=\"black\"/>\n</g>\n<!-- 2780755531387518014 -->\n<g class=\"node\" id=\"node318\"><title>2780755531387518014</title>\n<polygon fill=\"none\" points=\"6778.44,-667.566 6697.44,-667.566 6697.44,-631.566 6778.44,-631.566 6778.44,-667.566\" stroke=\"black\"/>\n<text font-family=\"Times,serif\" font-size=\"14.00\" text-anchor=\"middle\" x=\"6737.94\" y=\"-645.866\">(0, 18, 0)</text>\n</g>\n<!-- 2184709087207883875&#45;&gt;2780755531387518014 -->\n<g class=\"edge\" id=\"edge247\"><title>2184709087207883875-&gt;2780755531387518014</title>\n<path d=\"M6276.01,-571.279C6288.04,-580.869 6301.2,-589.512 6314.94,-595.566 6464.38,-661.39 6522.83,-599.06 6687.27,-631.795\" fill=\"none\" stroke=\"black\"/>\n<polygon fill=\"black\" points=\"6686.73,-635.256 6697.23,-633.866 6688.15,-628.402 6686.73,-635.256\" stroke=\"black\"/>\n</g>\n<!-- 2780755531387518014&#45;&gt;4722279125024388749 -->\n<g class=\"edge\" id=\"edge388\"><title>2780755531387518014-&gt;4722279125024388749</title>\n<path d=\"M6778.53,-664.819C6781.37,-665.764 6784.2,-666.688 6786.94,-667.566 6892.14,-701.233 7014.24,-736.505 7094.74,-759.24\" fill=\"none\" stroke=\"black\"/>\n<polygon fill=\"black\" points=\"7094.26,-762.742 7104.83,-762.088 7096.16,-756.005 7094.26,-762.742\" stroke=\"black\"/>\n</g>\n<!-- 2780754077896521539 -->\n<g class=\"node\" id=\"node320\"><title>2780754077896521539</title>\n<polygon fill=\"none\" points=\"5689.44,-667.566 5608.44,-667.566 5608.44,-631.566 5689.44,-631.566 5689.44,-667.566\" stroke=\"black\"/>\n<text font-family=\"Times,serif\" font-size=\"14.00\" text-anchor=\"middle\" x=\"5648.94\" y=\"-645.866\">(0, 19, 0)</text>\n</g>\n<!-- 9049843204395147738&#45;&gt;2780754077896521539 -->\n<g class=\"edge\" id=\"edge249\"><title>9049843204395147738-&gt;2780754077896521539</title>\n<path d=\"M4031.37,-571.911C4043.51,-581.495 4056.87,-589.971 4070.94,-595.566 4226.05,-657.259 5390.92,-603.785 5598.34,-632.065\" fill=\"none\" stroke=\"black\"/>\n<polygon fill=\"black\" points=\"5597.86,-635.532 5608.28,-633.615 5598.94,-628.616 5597.86,-635.532\" stroke=\"black\"/>\n</g>\n<!-- 2780754077896521539&#45;&gt;4722279125024388749 -->\n<g class=\"edge\" id=\"edge390\"><title>2780754077896521539-&gt;4722279125024388749</title>\n<path d=\"M5689.63,-665.555C5692.42,-666.313 5695.21,-666.995 5697.94,-667.566 6216.74,-775.995 6856.66,-785.315 7091.24,-784.72\" fill=\"none\" stroke=\"black\"/>\n<polygon fill=\"black\" points=\"7091.44,-788.22 7101.43,-784.687 7091.42,-781.22 7091.44,-788.22\" stroke=\"black\"/>\n</g>\n<!-- 2780764252333496864 -->\n<g class=\"node\" id=\"node322\"><title>2780764252333496864</title>\n<polygon fill=\"none\" points=\"5986.44,-667.566 5905.44,-667.566 5905.44,-631.566 5986.44,-631.566 5986.44,-667.566\" stroke=\"black\"/>\n<text font-family=\"Times,serif\" font-size=\"14.00\" text-anchor=\"middle\" x=\"5945.94\" y=\"-645.866\">(0, 20, 0)</text>\n</g>\n<!-- &#45;294442359007155003&#45;&gt;2780764252333496864 -->\n<g class=\"edge\" id=\"edge251\"><title>-294442359007155003-&gt;2780764252333496864</title>\n<path d=\"M4643.4,-571.838C4655.54,-581.43 4668.89,-589.928 4682.94,-595.566 4805.45,-644.729 5723.51,-609.163 5895.27,-632.08\" fill=\"none\" stroke=\"black\"/>\n<polygon fill=\"black\" points=\"5894.85,-635.558 5905.27,-633.636 5895.93,-628.641 5894.85,-635.558\" stroke=\"black\"/>\n</g>\n<!-- 2780764252333496864&#45;&gt;4722279125024388749 -->\n<g class=\"edge\" id=\"edge369\"><title>2780764252333496864-&gt;4722279125024388749</title>\n<path d=\"M5986.64,-665.494C5989.43,-666.267 5992.22,-666.969 5994.94,-667.566 6397.11,-755.703 6890.56,-777.05 7091.4,-782.191\" fill=\"none\" stroke=\"black\"/>\n<polygon fill=\"black\" points=\"7091.52,-785.696 7101.61,-782.445 7091.7,-778.698 7091.52,-785.696\" stroke=\"black\"/>\n</g>\n<!-- 2780762798842500389 -->\n<g class=\"node\" id=\"node324\"><title>2780762798842500389</title>\n<polygon fill=\"none\" points=\"6580.44,-667.566 6499.44,-667.566 6499.44,-631.566 6580.44,-631.566 6580.44,-667.566\" stroke=\"black\"/>\n<text font-family=\"Times,serif\" font-size=\"14.00\" text-anchor=\"middle\" x=\"6539.94\" y=\"-645.866\">(0, 21, 0)</text>\n</g>\n<!-- &#45;6161631692150899084&#45;&gt;2780762798842500389 -->\n<g class=\"edge\" id=\"edge253\"><title>-6161631692150899084-&gt;2780762798842500389</title>\n<path d=\"M5867.55,-571.458C5879.67,-581.093 5892.98,-589.704 5906.94,-595.566 6023.81,-644.652 6346.96,-608.249 6489.32,-631.936\" fill=\"none\" stroke=\"black\"/>\n<polygon fill=\"black\" points=\"6488.79,-635.396 6499.25,-633.747 6490.04,-628.51 6488.79,-635.396\" stroke=\"black\"/>\n</g>\n<!-- 2780762798842500389&#45;&gt;4722279125024388749 -->\n<g class=\"edge\" id=\"edge372\"><title>2780762798842500389-&gt;4722279125024388749</title>\n<path d=\"M6580.45,-665.111C6583.31,-665.987 6586.16,-666.816 6588.94,-667.566 6764.9,-715.055 6975.1,-751.554 7092.36,-770.156\" fill=\"none\" stroke=\"black\"/>\n<polygon fill=\"black\" points=\"7091.95,-773.634 7102.38,-771.736 7093.04,-766.72 7091.95,-773.634\" stroke=\"black\"/>\n</g>\n<!-- 2780761345351503914 -->\n<g class=\"node\" id=\"node326\"><title>2780761345351503914</title>\n<polygon fill=\"none\" points=\"134.442,-667.566 53.4418,-667.566 53.4418,-631.566 134.442,-631.566 134.442,-667.566\" stroke=\"black\"/>\n<text font-family=\"Times,serif\" font-size=\"14.00\" text-anchor=\"middle\" x=\"93.9418\" y=\"-645.866\">(0, 22, 0)</text>\n</g>\n<!-- &#45;5990905817112453769&#45;&gt;2780761345351503914 -->\n<g class=\"edge\" id=\"edge255\"><title>-5990905817112453769-&gt;2780761345351503914</title>\n<path d=\"M93.5779,-595.829C93.6418,-605.088 93.7025,-613.882 93.7553,-621.541\" fill=\"none\" stroke=\"black\"/>\n<polygon fill=\"black\" points=\"90.2553,-621.567 93.8243,-631.542 97.2551,-621.518 90.2553,-621.567\" stroke=\"black\"/>\n</g>\n<!-- 2780761345351503914&#45;&gt;4722279125024388749 -->\n<g class=\"edge\" id=\"edge375\"><title>2780761345351503914-&gt;4722279125024388749</title>\n<path d=\"M134.686,-651.332C669.505,-661.384 6302.4,-767.259 7091.36,-782.088\" fill=\"none\" stroke=\"black\"/>\n<polygon fill=\"black\" points=\"7091.46,-785.59 7101.52,-782.279 7091.59,-778.591 7091.46,-785.59\" stroke=\"black\"/>\n</g>\n<!-- 2780759891860507439 -->\n<g class=\"node\" id=\"node328\"><title>2780759891860507439</title>\n<polygon fill=\"none\" points=\"3681.44,-667.566 3600.44,-667.566 3600.44,-631.566 3681.44,-631.566 3681.44,-667.566\" stroke=\"black\"/>\n<text font-family=\"Times,serif\" font-size=\"14.00\" text-anchor=\"middle\" x=\"3640.94\" y=\"-645.866\">(0, 23, 0)</text>\n</g>\n<!-- 6445154978455765758&#45;&gt;2780759891860507439 -->\n<g class=\"edge\" id=\"edge257\"><title>6445154978455765758-&gt;2780759891860507439</title>\n<path d=\"M767.041,-571.78C779.267,-581.447 792.742,-589.984 806.942,-595.566 926.858,-642.706 2997.13,-628.441 3125.94,-631.566 3296.02,-635.693 3497.6,-643.07 3590.03,-646.591\" fill=\"none\" stroke=\"black\"/>\n<polygon fill=\"black\" points=\"3590.1,-650.096 3600.22,-646.98 3590.36,-643.101 3590.1,-650.096\" stroke=\"black\"/>\n</g>\n<!-- 2780759891860507439&#45;&gt;4722279125024388749 -->\n<g class=\"edge\" id=\"edge378\"><title>2780759891860507439-&gt;4722279125024388749</title>\n<path d=\"M3681.7,-653.327C3736.67,-656.98 3837.66,-663.437 3923.94,-667.566 5178.54,-727.614 6706.2,-770.886 7091.42,-781.361\" fill=\"none\" stroke=\"black\"/>\n<polygon fill=\"black\" points=\"7091.58,-784.867 7101.67,-781.64 7091.77,-777.869 7091.58,-784.867\" stroke=\"black\"/>\n</g>\n<!-- 2780746810441539164 -->\n<g class=\"node\" id=\"node330\"><title>2780746810441539164</title>\n<polygon fill=\"none\" points=\"6184.44,-667.566 6103.44,-667.566 6103.44,-631.566 6184.44,-631.566 6184.44,-667.566\" stroke=\"black\"/>\n<text font-family=\"Times,serif\" font-size=\"14.00\" text-anchor=\"middle\" x=\"6143.94\" y=\"-645.866\">(0, 24, 0)</text>\n</g>\n<!-- &#45;2618389638025711207&#45;&gt;2780746810441539164 -->\n<g class=\"edge\" id=\"edge259\"><title>-2618389638025711207-&gt;2780746810441539164</title>\n<path d=\"M5051.43,-571.764C5063.56,-581.365 5076.91,-589.885 5090.94,-595.566 5191.78,-636.398 5946.1,-612.633 6093.37,-632.113\" fill=\"none\" stroke=\"black\"/>\n<polygon fill=\"black\" points=\"6092.85,-635.573 6103.27,-633.658 6093.93,-628.657 6092.85,-635.573\" stroke=\"black\"/>\n</g>\n<!-- 2780746810441539164&#45;&gt;4722279125024388749 -->\n<g class=\"edge\" id=\"edge404\"><title>2780746810441539164-&gt;4722279125024388749</title>\n<path d=\"M6184.66,-665.433C6187.44,-666.22 6190.22,-666.942 6192.94,-667.566 6518.5,-742.219 6915.88,-770.379 7091.74,-779.718\" fill=\"none\" stroke=\"black\"/>\n<polygon fill=\"black\" points=\"7091.56,-783.213 7101.73,-780.241 7091.92,-776.223 7091.56,-783.213\" stroke=\"black\"/>\n</g>\n<!-- 2780745356950542689 -->\n<g class=\"node\" id=\"node332\"><title>2780745356950542689</title>\n<polygon fill=\"none\" points=\"5887.44,-667.566 5806.44,-667.566 5806.44,-631.566 5887.44,-631.566 5887.44,-667.566\" stroke=\"black\"/>\n<text font-family=\"Times,serif\" font-size=\"14.00\" text-anchor=\"middle\" x=\"5846.94\" y=\"-645.866\">(0, 25, 0)</text>\n</g>\n<!-- 6793196837349653416&#45;&gt;2780745356950542689 -->\n<g class=\"edge\" id=\"edge261\"><title>6793196837349653416-&gt;2780745356950542689</title>\n<path d=\"M4439.38,-571.866C4451.53,-581.455 4464.89,-589.945 4478.94,-595.566 4612.31,-648.904 5612.55,-607.387 5796.28,-632.073\" fill=\"none\" stroke=\"black\"/>\n<polygon fill=\"black\" points=\"5795.86,-635.549 5806.28,-633.628 5796.93,-628.632 5795.86,-635.549\" stroke=\"black\"/>\n</g>\n<!-- 2780745356950542689&#45;&gt;4722279125024388749 -->\n<g class=\"edge\" id=\"edge406\"><title>2780745356950542689-&gt;4722279125024388749</title>\n<path d=\"M5887.64,-665.518C5890.43,-666.285 5893.21,-666.979 5895.94,-667.566 6336.69,-762.436 6878.54,-779.992 7091.17,-783.156\" fill=\"none\" stroke=\"black\"/>\n<polygon fill=\"black\" points=\"7091.3,-786.658 7101.35,-783.3 7091.4,-779.659 7091.3,-786.658\" stroke=\"black\"/>\n</g>\n<!-- 2780743903459546214 -->\n<g class=\"node\" id=\"node334\"><title>2780743903459546214</title>\n<polygon fill=\"none\" points=\"9612.44,-667.566 9531.44,-667.566 9531.44,-631.566 9612.44,-631.566 9612.44,-667.566\" stroke=\"black\"/>\n<text font-family=\"Times,serif\" font-size=\"14.00\" text-anchor=\"middle\" x=\"9571.94\" y=\"-645.866\">(0, 26, 0)</text>\n</g>\n<!-- 8233717167845231099&#45;&gt;2780743903459546214 -->\n<g class=\"edge\" id=\"edge263\"><title>8233717167845231099-&gt;2780743903459546214</title>\n<path d=\"M9625.48,-577.369C9613.09,-593.847 9600.77,-610.238 9591.07,-623.131\" fill=\"none\" stroke=\"black\"/>\n<polygon fill=\"black\" points=\"9588.02,-621.361 9584.81,-631.457 9593.62,-625.568 9588.02,-621.361\" stroke=\"black\"/>\n</g>\n<!-- 2780743903459546214&#45;&gt;4722279125024388749 -->\n<g class=\"edge\" id=\"edge408\"><title>2780743903459546214-&gt;4722279125024388749</title>\n<path d=\"M9531.15,-655.546C9499.06,-659.313 9453.21,-664.367 9412.94,-667.566 8583.98,-733.438 7578.57,-770.533 7274.39,-780.829\" fill=\"none\" stroke=\"black\"/>\n<polygon fill=\"black\" points=\"7274.18,-777.334 7264.3,-781.169 7274.41,-784.33 7274.18,-777.334\" stroke=\"black\"/>\n</g>\n<!-- 2780742449968549739 -->\n<g class=\"node\" id=\"node336\"><title>2780742449968549739</title>\n<polygon fill=\"none\" points=\"4820.44,-667.566 4739.44,-667.566 4739.44,-631.566 4820.44,-631.566 4820.44,-667.566\" stroke=\"black\"/>\n<text font-family=\"Times,serif\" font-size=\"14.00\" text-anchor=\"middle\" x=\"4779.94\" y=\"-645.866\">(0, 27, 0)</text>\n</g>\n<!-- &#45;5464448112006342798&#45;&gt;2780742449968549739 -->\n<g class=\"edge\" id=\"edge265\"><title>-5464448112006342798-&gt;2780742449968549739</title>\n<path d=\"M2195.04,-571.793C2207.26,-581.458 2220.74,-589.992 2234.94,-595.566 2363.78,-646.133 4589.3,-609.554 4725.94,-631.566 4727.03,-631.742 4728.13,-631.935 4729.24,-632.144\" fill=\"none\" stroke=\"black\"/>\n<polygon fill=\"black\" points=\"4728.74,-635.618 4739.26,-634.391 4730.27,-628.788 4728.74,-635.618\" stroke=\"black\"/>\n</g>\n<!-- 2780742449968549739&#45;&gt;4722279125024388749 -->\n<g class=\"edge\" id=\"edge410\"><title>2780742449968549739-&gt;4722279125024388749</title>\n<path d=\"M4820.6,-665.205C4824.07,-666.121 4827.55,-666.929 4830.94,-667.566 5276.28,-751.169 6713.83,-777.145 7091.41,-782.609\" fill=\"none\" stroke=\"black\"/>\n<polygon fill=\"black\" points=\"7091.42,-786.109 7101.47,-782.753 7091.52,-779.11 7091.42,-786.109\" stroke=\"black\"/>\n</g>\n<!-- 2780752624405525064 -->\n<g class=\"node\" id=\"node338\"><title>2780752624405525064</title>\n<polygon fill=\"none\" points=\"5112.44,-667.566 5031.44,-667.566 5031.44,-631.566 5112.44,-631.566 5112.44,-667.566\" stroke=\"black\"/>\n<text font-family=\"Times,serif\" font-size=\"14.00\" text-anchor=\"middle\" x=\"5071.94\" y=\"-645.866\">(0, 28, 0)</text>\n</g>\n<!-- 9220568511740162653&#45;&gt;2780752624405525064 -->\n<g class=\"edge\" id=\"edge267\"><title>9220568511740162653-&gt;2780752624405525064</title>\n<path d=\"M2807.33,-571.994C2819.48,-581.569 2832.86,-590.02 2846.94,-595.566 2957.08,-638.93 4823.93,-612.023 5021.12,-632.257\" fill=\"none\" stroke=\"black\"/>\n<polygon fill=\"black\" points=\"5020.91,-635.759 5031.28,-633.591 5021.82,-628.819 5020.91,-635.759\" stroke=\"black\"/>\n</g>\n<!-- 2780752624405525064&#45;&gt;4722279125024388749 -->\n<g class=\"edge\" id=\"edge393\"><title>2780752624405525064-&gt;4722279125024388749</title>\n<path d=\"M5112.61,-665.625C5115.41,-666.366 5118.2,-667.025 5120.94,-667.566 5506.59,-743.788 6744.41,-774.719 7091.62,-782.025\" fill=\"none\" stroke=\"black\"/>\n<polygon fill=\"black\" points=\"7091.56,-785.524 7101.63,-782.234 7091.71,-778.526 7091.56,-785.524\" stroke=\"black\"/>\n</g>\n<!-- 2780751170914528589 -->\n<g class=\"node\" id=\"node340\"><title>2780751170914528589</title>\n<polygon fill=\"none\" points=\"10023.4,-667.566 9942.44,-667.566 9942.44,-631.566 10023.4,-631.566 10023.4,-667.566\" stroke=\"black\"/>\n<text font-family=\"Times,serif\" font-size=\"14.00\" text-anchor=\"middle\" x=\"9982.94\" y=\"-645.866\">(0, 29, 0)</text>\n</g>\n<!-- &#45;643041773838179316&#45;&gt;2780751170914528589 -->\n<g class=\"edge\" id=\"edge269\"><title>-643041773838179316-&gt;2780751170914528589</title>\n<path d=\"M10034.4,-578.218C10022.5,-594.449 10010.8,-610.538 10001.5,-623.225\" fill=\"none\" stroke=\"black\"/>\n<polygon fill=\"black\" points=\"9998.56,-621.286 9995.48,-631.424 10004.2,-625.418 9998.56,-621.286\" stroke=\"black\"/>\n</g>\n<!-- 2780751170914528589&#45;&gt;4722279125024388749 -->\n<g class=\"edge\" id=\"edge396\"><title>2780751170914528589-&gt;4722279125024388749</title>\n<path d=\"M9942.28,-655.725C9910.84,-659.538 9866.19,-664.568 9826.94,-667.566 8828.24,-743.856 7613.22,-774.508 7274.44,-781.928\" fill=\"none\" stroke=\"black\"/>\n<polygon fill=\"black\" points=\"7274.12,-778.434 7264.19,-782.151 7274.27,-785.432 7274.12,-778.434\" stroke=\"black\"/>\n</g>\n<!-- 2780749717423532114 -->\n<g class=\"node\" id=\"node342\"><title>2780749717423532114</title>\n<polygon fill=\"none\" points=\"5310.44,-667.566 5229.44,-667.566 5229.44,-631.566 5310.44,-631.566 5310.44,-667.566\" stroke=\"black\"/>\n<text font-family=\"Times,serif\" font-size=\"14.00\" text-anchor=\"middle\" x=\"5269.94\" y=\"-645.866\">(0, 30, 0)</text>\n</g>\n<!-- 5989394117261378319&#45;&gt;2780749717423532114 -->\n<g class=\"edge\" id=\"edge271\"><title>5989394117261378319-&gt;2780749717423532114</title>\n<path d=\"M3215.34,-571.973C3227.49,-581.55 3240.86,-590.008 3254.94,-595.566 3354.27,-634.773 5036.02,-613.744 5219.24,-632.286\" fill=\"none\" stroke=\"black\"/>\n<polygon fill=\"black\" points=\"5218.91,-635.774 5229.28,-633.597 5219.82,-628.832 5218.91,-635.774\" stroke=\"black\"/>\n</g>\n<!-- 2780749717423532114&#45;&gt;4722279125024388749 -->\n<g class=\"edge\" id=\"edge399\"><title>2780749717423532114-&gt;4722279125024388749</title>\n<path d=\"M5310.63,-665.383C5313.76,-666.219 5316.88,-666.962 5319.94,-667.566 5665.21,-735.77 6765.71,-771.918 7091.34,-781.308\" fill=\"none\" stroke=\"black\"/>\n<polygon fill=\"black\" points=\"7091.57,-784.817 7101.67,-781.605 7091.78,-777.819 7091.57,-784.817\" stroke=\"black\"/>\n</g>\n<!-- 2780748263932535639 -->\n<g class=\"node\" id=\"node344\"><title>2780748263932535639</title>\n<polygon fill=\"none\" points=\"7075.44,-667.566 6994.44,-667.566 6994.44,-631.566 7075.44,-631.566 7075.44,-667.566\" stroke=\"black\"/>\n<text font-family=\"Times,serif\" font-size=\"14.00\" text-anchor=\"middle\" x=\"7034.94\" y=\"-645.866\">(0, 31, 0)</text>\n</g>\n<!-- 3240259302295028374&#45;&gt;2780748263932535639 -->\n<g class=\"edge\" id=\"edge273\"><title>3240259302295028374-&gt;2780748263932535639</title>\n<path d=\"M6891.08,-567.968C6902.6,-577.774 6914.8,-587.349 6926.94,-595.566 6944.92,-607.732 6966.1,-618.756 6984.93,-627.56\" fill=\"none\" stroke=\"black\"/>\n<polygon fill=\"black\" points=\"6983.69,-630.842 6994.24,-631.827 6986.6,-624.479 6983.69,-630.842\" stroke=\"black\"/>\n</g>\n<!-- 2780748263932535639&#45;&gt;4722279125024388749 -->\n<g class=\"edge\" id=\"edge402\"><title>2780748263932535639-&gt;4722279125024388749</title>\n<path d=\"M7053.99,-667.713C7069.7,-681.858 7092.98,-702.82 7115.46,-723.055\" fill=\"none\" stroke=\"black\"/>\n<polygon fill=\"black\" points=\"7113.26,-725.789 7123.04,-729.878 7117.95,-720.586 7113.26,-725.789\" stroke=\"black\"/>\n</g>\n<!-- 2780781694225454564 -->\n<g class=\"node\" id=\"node346\"><title>2780781694225454564</title>\n<polygon fill=\"none\" points=\"8190.44,-667.566 8109.44,-667.566 8109.44,-631.566 8190.44,-631.566 8190.44,-667.566\" stroke=\"black\"/>\n<text font-family=\"Times,serif\" font-size=\"14.00\" text-anchor=\"middle\" x=\"8149.94\" y=\"-645.866\">(0, 32, 0)</text>\n</g>\n<!-- 707859029053319825&#45;&gt;2780781694225454564 -->\n<g class=\"edge\" id=\"edge275\"><title>707859029053319825-&gt;2780781694225454564</title>\n<path d=\"M8199.33,-579.067C8188.08,-594.898 8176.97,-610.539 8168.14,-622.962\" fill=\"none\" stroke=\"black\"/>\n<polygon fill=\"black\" points=\"8165.08,-621.217 8162.14,-631.396 8170.79,-625.272 8165.08,-621.217\" stroke=\"black\"/>\n</g>\n<!-- 2780781694225454564&#45;&gt;4722279125024388749 -->\n<g class=\"edge\" id=\"edge407\"><title>2780781694225454564-&gt;4722279125024388749</title>\n<path d=\"M8109.32,-656.164C7965.4,-675.994 7477.6,-743.209 7273.69,-771.304\" fill=\"none\" stroke=\"black\"/>\n<polygon fill=\"black\" points=\"7273.04,-767.861 7263.61,-772.693 7274,-774.795 7273.04,-767.861\" stroke=\"black\"/>\n</g>\n<!-- 2780780240734458089 -->\n<g class=\"node\" id=\"node348\"><title>2780780240734458089</title>\n<polygon fill=\"none\" points=\"9818.44,-667.566 9737.44,-667.566 9737.44,-631.566 9818.44,-631.566 9818.44,-667.566\" stroke=\"black\"/>\n<text font-family=\"Times,serif\" font-size=\"14.00\" text-anchor=\"middle\" x=\"9777.94\" y=\"-645.866\">(0, 33, 0)</text>\n</g>\n<!-- &#45;5009499720985413856&#45;&gt;2780780240734458089 -->\n<g class=\"edge\" id=\"edge277\"><title>-5009499720985413856-&gt;2780780240734458089</title>\n<path d=\"M9830.19,-577.794C9818.16,-594.092 9806.21,-610.275 9796.78,-623.044\" fill=\"none\" stroke=\"black\"/>\n<polygon fill=\"black\" points=\"9793.81,-621.175 9790.69,-631.299 9799.44,-625.332 9793.81,-621.175\" stroke=\"black\"/>\n</g>\n<!-- 2780780240734458089&#45;&gt;4722279125024388749 -->\n<g class=\"edge\" id=\"edge409\"><title>2780780240734458089-&gt;4722279125024388749</title>\n<path d=\"M9737.34,-655.641C9705.68,-659.435 9660.58,-664.479 9620.94,-667.566 8706.99,-738.771 7596.66,-772.644 7274.55,-781.431\" fill=\"none\" stroke=\"black\"/>\n<polygon fill=\"black\" points=\"7274.24,-777.938 7264.34,-781.708 7274.43,-784.935 7274.24,-777.938\" stroke=\"black\"/>\n</g>\n<!-- 2780778787243461614 -->\n<g class=\"node\" id=\"node350\"><title>2780778787243461614</title>\n<polygon fill=\"none\" points=\"10839.4,-667.566 10758.4,-667.566 10758.4,-631.566 10839.4,-631.566 10839.4,-667.566\" stroke=\"black\"/>\n<text font-family=\"Times,serif\" font-size=\"14.00\" text-anchor=\"middle\" x=\"10798.9\" y=\"-645.866\">(0, 34, 0)</text>\n</g>\n<!-- &#45;4825736072722414541&#45;&gt;2780778787243461614 -->\n<g class=\"edge\" id=\"edge279\"><title>-4825736072722414541-&gt;2780778787243461614</title>\n<path d=\"M10850.4,-578.218C10838.5,-594.449 10826.8,-610.538 10817.5,-623.225\" fill=\"none\" stroke=\"black\"/>\n<polygon fill=\"black\" points=\"10814.6,-621.286 10811.5,-631.424 10820.2,-625.418 10814.6,-621.286\" stroke=\"black\"/>\n</g>\n<!-- 2780778787243461614&#45;&gt;4722279125024388749 -->\n<g class=\"edge\" id=\"edge411\"><title>2780778787243461614-&gt;4722279125024388749</title>\n<path d=\"M10758.2,-655.884C10727,-659.754 10682.8,-664.785 10643.9,-667.566 9306.95,-763.2 7673.64,-780.425 7274.23,-783.279\" fill=\"none\" stroke=\"black\"/>\n<polygon fill=\"black\" points=\"7274.16,-779.779 7264.18,-783.35 7274.21,-786.779 7274.16,-779.779\" stroke=\"black\"/>\n</g>\n<!-- 2780777333752465139 -->\n<g class=\"node\" id=\"node352\"><title>2780777333752465139</title>\n<polygon fill=\"none\" points=\"4377.44,-667.566 4296.44,-667.566 4296.44,-631.566 4377.44,-631.566 4377.44,-667.566\" stroke=\"black\"/>\n<text font-family=\"Times,serif\" font-size=\"14.00\" text-anchor=\"middle\" x=\"4336.94\" y=\"-645.866\">(0, 35, 0)</text>\n</g>\n<!-- 4489106504379360682&#45;&gt;2780777333752465139 -->\n<g class=\"edge\" id=\"edge281\"><title>4489106504379360682-&gt;2780777333752465139</title>\n<path d=\"M1379.03,-571.813C1391.26,-581.476 1404.73,-590.003 1418.94,-595.566 1564.32,-652.488 4073.37,-618.394 4228.94,-631.566 4247.76,-633.16 4268.27,-636.084 4286.32,-639.063\" fill=\"none\" stroke=\"black\"/>\n<polygon fill=\"black\" points=\"4285.89,-642.541 4296.34,-640.764 4287.06,-635.64 4285.89,-642.541\" stroke=\"black\"/>\n</g>\n<!-- 2780777333752465139&#45;&gt;4722279125024388749 -->\n<g class=\"edge\" id=\"edge413\"><title>2780777333752465139-&gt;4722279125024388749</title>\n<path d=\"M4377.6,-660.816C4389.55,-663.453 4402.71,-665.988 4414.94,-667.566 4950.25,-736.615 6674.42,-773.938 7091.48,-782.092\" fill=\"none\" stroke=\"black\"/>\n<polygon fill=\"black\" points=\"7091.61,-785.595 7101.68,-782.291 7091.75,-778.597 7091.61,-785.595\" stroke=\"black\"/>\n</g>\n<!-- 2780787508189440464 -->\n<g class=\"node\" id=\"node354\"><title>2780787508189440464</title>\n<polygon fill=\"none\" points=\"5590.44,-667.566 5509.44,-667.566 5509.44,-631.566 5590.44,-631.566 5590.44,-667.566\" stroke=\"black\"/>\n<text font-family=\"Times,serif\" font-size=\"14.00\" text-anchor=\"middle\" x=\"5549.94\" y=\"-645.866\">(0, 36, 0)</text>\n</g>\n<!-- 2860025739816262101&#45;&gt;2780787508189440464 -->\n<g class=\"edge\" id=\"edge283\"><title>2860025739816262101-&gt;2780787508189440464</title>\n<path d=\"M3827.36,-571.929C3839.5,-581.511 3852.87,-589.982 3866.94,-595.566 4032.91,-661.436 5280.08,-601.969 5499.34,-632.059\" fill=\"none\" stroke=\"black\"/>\n<polygon fill=\"black\" points=\"5498.86,-635.525 5509.28,-633.61 5499.94,-628.609 5498.86,-635.525\" stroke=\"black\"/>\n</g>\n<!-- 2780787508189440464&#45;&gt;4722279125024388749 -->\n<g class=\"edge\" id=\"edge398\"><title>2780787508189440464-&gt;4722279125024388749</title>\n<path d=\"M5590.63,-665.571C5593.42,-666.325 5596.21,-667.002 5598.94,-667.566 5887.51,-727.143 6798.22,-768.261 7091.19,-780.219\" fill=\"none\" stroke=\"black\"/>\n<polygon fill=\"black\" points=\"7091.22,-783.723 7101.35,-780.632 7091.5,-776.728 7091.22,-783.723\" stroke=\"black\"/>\n</g>\n<!-- 2780786054698443989 -->\n<g class=\"node\" id=\"node356\"><title>2780786054698443989</title>\n<polygon fill=\"none\" points=\"4505.44,-667.566 4424.44,-667.566 4424.44,-631.566 4505.44,-631.566 4505.44,-667.566\" stroke=\"black\"/>\n<text font-family=\"Times,serif\" font-size=\"14.00\" text-anchor=\"middle\" x=\"4464.94\" y=\"-645.866\">(0, 37, 0)</text>\n</g>\n<!-- 2957000136000782916&#45;&gt;2780786054698443989 -->\n<g class=\"edge\" id=\"edge285\"><title>2957000136000782916-&gt;2780786054698443989</title>\n<path d=\"M1583.03,-571.81C1595.26,-581.473 1608.73,-590.002 1622.94,-595.566 1765.88,-651.552 4233.4,-614.334 4385.94,-631.566 4395.16,-632.607 4404.88,-634.244 4414.23,-636.099\" fill=\"none\" stroke=\"black\"/>\n<polygon fill=\"black\" points=\"4413.69,-639.562 4424.2,-638.18 4415.12,-632.709 4413.69,-639.562\" stroke=\"black\"/>\n</g>\n<!-- 2780786054698443989&#45;&gt;4722279125024388749 -->\n<g class=\"edge\" id=\"edge401\"><title>2780786054698443989-&gt;4722279125024388749</title>\n<path d=\"M4505.58,-662.604C4513.59,-664.577 4521.98,-666.365 4529.94,-667.566 5039.82,-744.522 6684.33,-775.745 7091.23,-782.4\" fill=\"none\" stroke=\"black\"/>\n<polygon fill=\"black\" points=\"7091.42,-785.903 7101.48,-782.566 7091.53,-778.904 7091.42,-785.903\" stroke=\"black\"/>\n</g>\n<!-- 2780784601207447514 -->\n<g class=\"node\" id=\"node358\"><title>2780784601207447514</title>\n<polygon fill=\"none\" points=\"7791.44,-667.566 7710.44,-667.566 7710.44,-631.566 7791.44,-631.566 7791.44,-667.566\" stroke=\"black\"/>\n<text font-family=\"Times,serif\" font-size=\"14.00\" text-anchor=\"middle\" x=\"7750.94\" y=\"-645.866\">(0, 38, 0)</text>\n</g>\n<!-- &#45;6984460170748154553&#45;&gt;2780784601207447514 -->\n<g class=\"edge\" id=\"edge287\"><title>-6984460170748154553-&gt;2780784601207447514</title>\n<path d=\"M7794.64,-581.187C7784.83,-596.312 7775.21,-611.14 7767.51,-623.018\" fill=\"none\" stroke=\"black\"/>\n<polygon fill=\"black\" points=\"7764.53,-621.188 7762.02,-631.482 7770.4,-624.997 7764.53,-621.188\" stroke=\"black\"/>\n</g>\n<!-- 2780784601207447514&#45;&gt;4722279125024388749 -->\n<g class=\"edge\" id=\"edge403\"><title>2780784601207447514-&gt;4722279125024388749</title>\n<path d=\"M7710.09,-660.149C7618.83,-681.558 7396.61,-733.685 7271.79,-762.967\" fill=\"none\" stroke=\"black\"/>\n<polygon fill=\"black\" points=\"7270.8,-759.603 7261.87,-765.294 7272.4,-766.418 7270.8,-759.603\" stroke=\"black\"/>\n</g>\n<!-- 2780783147716451039 -->\n<g class=\"node\" id=\"node360\"><title>2780783147716451039</title>\n<polygon fill=\"none\" points=\"6283.44,-667.566 6202.44,-667.566 6202.44,-631.566 6283.44,-631.566 6283.44,-667.566\" stroke=\"black\"/>\n<text font-family=\"Times,serif\" font-size=\"14.00\" text-anchor=\"middle\" x=\"6242.94\" y=\"-645.866\">(0, 39, 0)</text>\n</g>\n<!-- &#45;6743719316281201138&#45;&gt;2780783147716451039 -->\n<g class=\"edge\" id=\"edge289\"><title>-6743719316281201138-&gt;2780783147716451039</title>\n<path d=\"M5255.45,-571.714C5267.58,-581.32 5280.92,-589.855 5294.94,-595.566 5477.01,-669.732 5980.53,-597.378 6192.4,-631.945\" fill=\"none\" stroke=\"black\"/>\n<polygon fill=\"black\" points=\"6191.81,-635.395 6202.27,-633.672 6193.02,-628.5 6191.81,-635.395\" stroke=\"black\"/>\n</g>\n<!-- 2780783147716451039&#45;&gt;4722279125024388749 -->\n<g class=\"edge\" id=\"edge405\"><title>2780783147716451039-&gt;4722279125024388749</title>\n<path d=\"M6283.66,-665.393C6286.45,-666.19 6289.23,-666.925 6291.94,-667.566 6579.23,-735.389 6928.6,-766.458 7091.33,-778.051\" fill=\"none\" stroke=\"black\"/>\n<polygon fill=\"black\" points=\"7091.56,-781.576 7101.78,-778.787 7092.05,-774.593 7091.56,-781.576\" stroke=\"black\"/>\n</g>\n<!-- 2780770066297482764 -->\n<g class=\"node\" id=\"node362\"><title>2780770066297482764</title>\n<polygon fill=\"none\" points=\"4717.44,-667.566 4636.44,-667.566 4636.44,-631.566 4717.44,-631.566 4717.44,-667.566\" stroke=\"black\"/>\n<text font-family=\"Times,serif\" font-size=\"14.00\" text-anchor=\"middle\" x=\"4676.94\" y=\"-645.866\">(0, 40, 0)</text>\n</g>\n<!-- &#45;6857602642950904535&#45;&gt;2780770066297482764 -->\n<g class=\"edge\" id=\"edge291\"><title>-6857602642950904535-&gt;2780770066297482764</title>\n<path d=\"M1991.03,-571.8C2003.26,-581.464 2016.74,-589.996 2030.94,-595.566 2164.86,-648.085 4477.75,-609.803 4619.94,-631.566 4622.02,-631.884 4624.12,-632.258 4626.23,-632.677\" fill=\"none\" stroke=\"black\"/>\n<polygon fill=\"black\" points=\"4625.63,-636.129 4636.15,-634.933 4627.18,-629.303 4625.63,-636.129\" stroke=\"black\"/>\n</g>\n<!-- 2780770066297482764&#45;&gt;4722279125024388749 -->\n<g class=\"edge\" id=\"edge357\"><title>2780770066297482764-&gt;4722279125024388749</title>\n<path d=\"M4717.47,-664.753C4721.64,-665.856 4725.85,-666.827 4729.94,-667.566 5196.48,-751.918 6703.79,-777.44 7091.39,-782.687\" fill=\"none\" stroke=\"black\"/>\n<polygon fill=\"black\" points=\"7091.39,-786.187 7101.43,-782.822 7091.48,-779.188 7091.39,-786.187\" stroke=\"black\"/>\n</g>\n<!-- 2780768612806486289 -->\n<g class=\"node\" id=\"node364\"><title>2780768612806486289</title>\n<polygon fill=\"none\" points=\"10431.4,-667.566 10350.4,-667.566 10350.4,-631.566 10431.4,-631.566 10431.4,-667.566\" stroke=\"black\"/>\n<text font-family=\"Times,serif\" font-size=\"14.00\" text-anchor=\"middle\" x=\"10390.9\" y=\"-645.866\">(0, 41, 0)</text>\n</g>\n<!-- 2442398568353410488&#45;&gt;2780768612806486289 -->\n<g class=\"edge\" id=\"edge293\"><title>2442398568353410488-&gt;2780768612806486289</title>\n<path d=\"M10442.4,-578.218C10430.5,-594.449 10418.8,-610.538 10409.5,-623.225\" fill=\"none\" stroke=\"black\"/>\n<polygon fill=\"black\" points=\"10406.6,-621.286 10403.5,-631.424 10412.2,-625.418 10406.6,-621.286\" stroke=\"black\"/>\n</g>\n<!-- 2780768612806486289&#45;&gt;4722279125024388749 -->\n<g class=\"edge\" id=\"edge360\"><title>2780768612806486289-&gt;4722279125024388749</title>\n<path d=\"M10350.2,-655.834C10319,-659.678 10274.8,-664.698 10235.9,-667.566 9068.57,-753.698 7645.1,-777.713 7274.57,-782.7\" fill=\"none\" stroke=\"black\"/>\n<polygon fill=\"black\" points=\"7274.39,-779.202 7264.44,-782.835 7274.48,-786.202 7274.39,-779.202\" stroke=\"black\"/>\n</g>\n<!-- 2780767159315489814 -->\n<g class=\"node\" id=\"node366\"><title>2780767159315489814</title>\n<polygon fill=\"none\" points=\"4921.44,-667.566 4840.44,-667.566 4840.44,-631.566 4921.44,-631.566 4921.44,-667.566\" stroke=\"black\"/>\n<text font-family=\"Times,serif\" font-size=\"14.00\" text-anchor=\"middle\" x=\"4880.94\" y=\"-645.866\">(0, 42, 0)</text>\n</g>\n<!-- &#45;7511488594057616181&#45;&gt;2780767159315489814 -->\n<g class=\"edge\" id=\"edge295\"><title>-7511488594057616181-&gt;2780767159315489814</title>\n<path d=\"M2399.04,-571.786C2411.26,-581.452 2424.74,-589.987 2438.94,-595.566 2562.54,-644.121 4697.96,-609.687 4828.94,-631.566 4829.41,-631.645 4829.88,-631.726 4830.35,-631.811\" fill=\"none\" stroke=\"black\"/>\n<polygon fill=\"black\" points=\"4829.84,-635.282 4840.36,-634.019 4831.35,-628.446 4829.84,-635.282\" stroke=\"black\"/>\n</g>\n<!-- 2780767159315489814&#45;&gt;4722279125024388749 -->\n<g class=\"edge\" id=\"edge363\"><title>2780767159315489814-&gt;4722279125024388749</title>\n<path d=\"M4921.6,-665.197C4925.07,-666.115 4928.55,-666.925 4931.94,-667.566 5356.59,-747.77 6724.07,-776.107 7091.39,-782.374\" fill=\"none\" stroke=\"black\"/>\n<polygon fill=\"black\" points=\"7091.39,-785.874 7101.45,-782.544 7091.51,-778.875 7091.39,-785.874\" stroke=\"black\"/>\n</g>\n<!-- 2780765705824493339 -->\n<g class=\"node\" id=\"node368\"><title>2780765705824493339</title>\n<polygon fill=\"none\" points=\"8999.44,-667.566 8918.44,-667.566 8918.44,-631.566 8999.44,-631.566 8999.44,-667.566\" stroke=\"black\"/>\n<text font-family=\"Times,serif\" font-size=\"14.00\" text-anchor=\"middle\" x=\"8958.94\" y=\"-645.866\">(0, 43, 0)</text>\n</g>\n<!-- &#45;7308809132794731966&#45;&gt;2780765705824493339 -->\n<g class=\"edge\" id=\"edge297\"><title>-7308809132794731966-&gt;2780765705824493339</title>\n<path d=\"M9012.98,-577.369C9000.47,-593.847 8988.03,-610.238 8978.25,-623.131\" fill=\"none\" stroke=\"black\"/>\n<polygon fill=\"black\" points=\"8975.18,-621.375 8971.93,-631.457 8980.76,-625.607 8975.18,-621.375\" stroke=\"black\"/>\n</g>\n<!-- 2780765705824493339&#45;&gt;4722279125024388749 -->\n<g class=\"edge\" id=\"edge366\"><title>2780765705824493339-&gt;4722279125024388749</title>\n<path d=\"M8918.13,-655.324C8886.04,-658.971 8840.17,-663.97 8799.94,-667.566 8219.92,-719.407 7521.22,-763.382 7274.55,-778.343\" fill=\"none\" stroke=\"black\"/>\n<polygon fill=\"black\" points=\"7273.98,-774.871 7264.21,-778.969 7274.4,-781.858 7273.98,-774.871\" stroke=\"black\"/>\n</g>\n<!-- 2780775880261468664 -->\n<g class=\"node\" id=\"node370\"><title>2780775880261468664</title>\n<polygon fill=\"none\" points=\"10635.4,-667.566 10554.4,-667.566 10554.4,-631.566 10635.4,-631.566 10635.4,-667.566\" stroke=\"black\"/>\n<text font-family=\"Times,serif\" font-size=\"14.00\" text-anchor=\"middle\" x=\"10594.9\" y=\"-645.866\">(0, 44, 0)</text>\n</g>\n<!-- &#45;9106405964814876115&#45;&gt;2780775880261468664 -->\n<g class=\"edge\" id=\"edge299\"><title>-9106405964814876115-&gt;2780775880261468664</title>\n<path d=\"M10646.4,-578.218C10634.5,-594.449 10622.8,-610.538 10613.5,-623.225\" fill=\"none\" stroke=\"black\"/>\n<polygon fill=\"black\" points=\"10610.6,-621.286 10607.5,-631.424 10616.2,-625.418 10610.6,-621.286\" stroke=\"black\"/>\n</g>\n<!-- 2780775880261468664&#45;&gt;4722279125024388749 -->\n<g class=\"edge\" id=\"edge415\"><title>2780775880261468664-&gt;4722279125024388749</title>\n<path d=\"M10554.2,-655.86C10523,-659.718 10478.8,-664.744 10439.9,-667.566 9187.97,-758.441 7659.88,-779.11 7274.5,-783.007\" fill=\"none\" stroke=\"black\"/>\n<polygon fill=\"black\" points=\"7274.22,-779.509 7264.25,-783.109 7274.29,-786.509 7274.22,-779.509\" stroke=\"black\"/>\n</g>\n<!-- 2780774426770472189 -->\n<g class=\"node\" id=\"node372\"><title>2780774426770472189</title>\n<polygon fill=\"none\" points=\"11248.4,-667.566 11167.4,-667.566 11167.4,-631.566 11248.4,-631.566 11248.4,-667.566\" stroke=\"black\"/>\n<text font-family=\"Times,serif\" font-size=\"14.00\" text-anchor=\"middle\" x=\"11207.9\" y=\"-645.866\">(0, 45, 0)</text>\n</g>\n<!-- &#45;7696807025560426532&#45;&gt;2780774426770472189 -->\n<g class=\"edge\" id=\"edge301\"><title>-7696807025560426532-&gt;2780774426770472189</title>\n<path d=\"M11258.6,-578.643C11246.9,-594.806 11235.3,-610.801 11226.2,-623.405\" fill=\"none\" stroke=\"black\"/>\n<polygon fill=\"black\" points=\"11223.3,-621.397 11220.3,-631.549 11229,-625.504 11223.3,-621.397\" stroke=\"black\"/>\n</g>\n<!-- 2780774426770472189&#45;&gt;4722279125024388749 -->\n<g class=\"edge\" id=\"edge417\"><title>2780774426770472189-&gt;4722279125024388749</title>\n<path d=\"M11167.3,-655.881C11135.9,-659.776 11091.2,-664.841 11051.9,-667.566 9545.32,-772.129 7702.23,-782.69 7274.54,-783.71\" fill=\"none\" stroke=\"black\"/>\n<polygon fill=\"black\" points=\"7274.39,-780.21 7264.4,-783.733 7274.41,-787.21 7274.39,-780.21\" stroke=\"black\"/>\n</g>\n<!-- 2780772973279475714 -->\n<g class=\"node\" id=\"node374\"><title>2780772973279475714</title>\n<polygon fill=\"none\" points=\"7599.44,-667.566 7518.44,-667.566 7518.44,-631.566 7599.44,-631.566 7599.44,-667.566\" stroke=\"black\"/>\n<text font-family=\"Times,serif\" font-size=\"14.00\" text-anchor=\"middle\" x=\"7558.94\" y=\"-645.866\">(0, 46, 0)</text>\n</g>\n<!-- 1695851408396148191&#45;&gt;2780772973279475714 -->\n<g class=\"edge\" id=\"edge303\"><title>1695851408396148191-&gt;2780772973279475714</title>\n<path d=\"M7595.39,-584.149C7587.57,-597.957 7579.98,-611.371 7573.77,-622.351\" fill=\"none\" stroke=\"black\"/>\n<polygon fill=\"black\" points=\"7570.58,-620.895 7568.7,-631.322 7576.67,-624.342 7570.58,-620.895\" stroke=\"black\"/>\n</g>\n<!-- 2780772973279475714&#45;&gt;4722279125024388749 -->\n<g class=\"edge\" id=\"edge351\"><title>2780772973279475714-&gt;4722279125024388749</title>\n<path d=\"M7518.35,-664.952C7459.07,-685.957 7347.4,-725.529 7269.26,-753.22\" fill=\"none\" stroke=\"black\"/>\n<polygon fill=\"black\" points=\"7267.68,-750.067 7259.43,-756.706 7270.02,-756.664 7267.68,-750.067\" stroke=\"black\"/>\n</g>\n<!-- 2780771519788479239 -->\n<g class=\"node\" id=\"node376\"><title>2780771519788479239</title>\n<polygon fill=\"none\" points=\"5788.44,-667.566 5707.44,-667.566 5707.44,-631.566 5788.44,-631.566 5788.44,-667.566\" stroke=\"black\"/>\n<text font-family=\"Times,serif\" font-size=\"14.00\" text-anchor=\"middle\" x=\"5747.94\" y=\"-645.866\">(0, 47, 0)</text>\n</g>\n<!-- &#45;4645325695995411290&#45;&gt;2780771519788479239 -->\n<g class=\"edge\" id=\"edge305\"><title>-4645325695995411290-&gt;2780771519788479239</title>\n<path d=\"M4235.37,-571.89C4247.52,-581.476 4260.88,-589.959 4274.94,-595.566 4419.13,-653.062 5501,-605.624 5697.12,-632.042\" fill=\"none\" stroke=\"black\"/>\n<polygon fill=\"black\" points=\"5696.86,-635.544 5707.28,-633.621 5697.93,-628.627 5696.86,-635.544\" stroke=\"black\"/>\n</g>\n<!-- 2780771519788479239&#45;&gt;4722279125024388749 -->\n<g class=\"edge\" id=\"edge354\"><title>2780771519788479239-&gt;4722279125024388749</title>\n<path d=\"M5788.63,-665.538C5791.42,-666.3 5794.21,-666.988 5796.94,-667.566 6276.78,-769.243 6867.76,-782.751 7091.4,-783.993\" fill=\"none\" stroke=\"black\"/>\n<polygon fill=\"black\" points=\"7091.44,-787.493 7101.45,-784.042 7091.47,-780.493 7091.44,-787.493\" stroke=\"black\"/>\n</g>\n<!-- 2780804950081398164 -->\n<g class=\"node\" id=\"node378\"><title>2780804950081398164</title>\n<polygon fill=\"none\" points=\"6976.44,-667.566 6895.44,-667.566 6895.44,-631.566 6976.44,-631.566 6976.44,-667.566\" stroke=\"black\"/>\n<text font-family=\"Times,serif\" font-size=\"14.00\" text-anchor=\"middle\" x=\"6935.94\" y=\"-645.866\">(0, 48, 0)</text>\n</g>\n<!-- &#45;1514456377265781407&#45;&gt;2780804950081398164 -->\n<g class=\"edge\" id=\"edge307\"><title>-1514456377265781407-&gt;2780804950081398164</title>\n<path d=\"M6684.97,-570.111C6696.84,-579.775 6709.69,-588.746 6722.94,-595.566 6786.2,-628.135 6812.32,-612.979 6885.72,-631.761\" fill=\"none\" stroke=\"black\"/>\n<polygon fill=\"black\" points=\"6884.83,-635.148 6895.4,-634.364 6886.65,-628.388 6884.83,-635.148\" stroke=\"black\"/>\n</g>\n<!-- 2780804950081398164&#45;&gt;4722279125024388749 -->\n<g class=\"edge\" id=\"edge362\"><title>2780804950081398164-&gt;4722279125024388749</title>\n<path d=\"M6967.48,-667.577C7001.37,-685.862 7056.59,-715.649 7102.64,-740.49\" fill=\"none\" stroke=\"black\"/>\n<polygon fill=\"black\" points=\"7101.26,-743.72 7111.72,-745.388 7104.58,-737.56 7101.26,-743.72\" stroke=\"black\"/>\n</g>\n<!-- 2780803496590401689 -->\n<g class=\"node\" id=\"node380\"><title>2780803496590401689</title>\n<polygon fill=\"none\" points=\"11043.4,-667.566 10962.4,-667.566 10962.4,-631.566 11043.4,-631.566 11043.4,-667.566\" stroke=\"black\"/>\n<text font-family=\"Times,serif\" font-size=\"14.00\" text-anchor=\"middle\" x=\"11002.9\" y=\"-645.866\">(0, 49, 0)</text>\n</g>\n<!-- 6856611553423118832&#45;&gt;2780803496590401689 -->\n<g class=\"edge\" id=\"edge309\"><title>6856611553423118832-&gt;2780803496590401689</title>\n<path d=\"M11054.4,-578.218C11042.5,-594.449 11030.8,-610.538 11021.5,-623.225\" fill=\"none\" stroke=\"black\"/>\n<polygon fill=\"black\" points=\"11018.6,-621.286 11015.5,-631.424 11024.2,-625.418 11018.6,-621.286\" stroke=\"black\"/>\n</g>\n<!-- 2780803496590401689&#45;&gt;4722279125024388749 -->\n<g class=\"edge\" id=\"edge365\"><title>2780803496590401689-&gt;4722279125024388749</title>\n<path d=\"M10962.2,-655.905C10931,-659.786 10886.8,-664.821 10847.9,-667.566 9426.27,-767.923 7688.24,-781.652 7274.43,-783.518\" fill=\"none\" stroke=\"black\"/>\n<polygon fill=\"black\" points=\"7274.3,-780.018 7264.32,-783.562 7274.33,-787.018 7274.3,-780.018\" stroke=\"black\"/>\n</g>\n<!-- 2780802043099405214 -->\n<g class=\"node\" id=\"node382\"><title>2780802043099405214</title>\n<polygon fill=\"none\" points=\"11452.4,-667.566 11371.4,-667.566 11371.4,-631.566 11452.4,-631.566 11452.4,-667.566\" stroke=\"black\"/>\n<text font-family=\"Times,serif\" font-size=\"14.00\" text-anchor=\"middle\" x=\"11411.9\" y=\"-645.866\">(0, 50, 0)</text>\n</g>\n<!-- &#45;4299972641206876605&#45;&gt;2780802043099405214 -->\n<g class=\"edge\" id=\"edge311\"><title>-4299972641206876605-&gt;2780802043099405214</title>\n<path d=\"M11462.6,-578.643C11450.9,-594.806 11439.3,-610.801 11430.2,-623.405\" fill=\"none\" stroke=\"black\"/>\n<polygon fill=\"black\" points=\"11427.3,-621.397 11424.3,-631.549 11433,-625.504 11427.3,-621.397\" stroke=\"black\"/>\n</g>\n<!-- 2780802043099405214&#45;&gt;4722279125024388749 -->\n<g class=\"edge\" id=\"edge368\"><title>2780802043099405214-&gt;4722279125024388749</title>\n<path d=\"M11371.2,-655.94C11340,-659.84 11295.8,-664.883 11256.9,-667.566 9664.88,-777.406 7715.94,-783.931 7274.65,-783.929\" fill=\"none\" stroke=\"black\"/>\n<polygon fill=\"black\" points=\"7274.51,-780.429 7264.5,-783.928 7274.5,-787.429 7274.51,-780.429\" stroke=\"black\"/>\n</g>\n<!-- 2780800589608408739 -->\n<g class=\"node\" id=\"node384\"><title>2780800589608408739</title>\n<polygon fill=\"none\" points=\"6085.44,-667.566 6004.44,-667.566 6004.44,-631.566 6085.44,-631.566 6085.44,-667.566\" stroke=\"black\"/>\n<text font-family=\"Times,serif\" font-size=\"14.00\" text-anchor=\"middle\" x=\"6044.94\" y=\"-645.866\">(0, 51, 0)</text>\n</g>\n<!-- 6218352414652291386&#45;&gt;2780800589608408739 -->\n<g class=\"edge\" id=\"edge313\"><title>6218352414652291386-&gt;2780800589608408739</title>\n<path d=\"M4847.41,-571.804C4859.55,-581.4 4872.9,-589.908 4886.94,-595.566 4998.63,-640.567 5834.94,-610.904 5994.37,-632.103\" fill=\"none\" stroke=\"black\"/>\n<polygon fill=\"black\" points=\"5993.85,-635.564 6004.27,-633.646 5994.93,-628.648 5993.85,-635.564\" stroke=\"black\"/>\n</g>\n<!-- 2780800589608408739&#45;&gt;4722279125024388749 -->\n<g class=\"edge\" id=\"edge371\"><title>2780800589608408739-&gt;4722279125024388749</title>\n<path d=\"M6085.65,-665.466C6088.43,-666.246 6091.22,-666.957 6093.94,-667.566 6457.65,-748.953 6902.85,-773.857 7091.51,-781.059\" fill=\"none\" stroke=\"black\"/>\n<polygon fill=\"black\" points=\"7091.53,-784.562 7101.66,-781.439 7091.79,-777.567 7091.53,-784.562\" stroke=\"black\"/>\n</g>\n<!-- 2780810764045384064 -->\n<g class=\"node\" id=\"node386\"><title>2780810764045384064</title>\n<polygon fill=\"none\" points=\"6382.44,-667.566 6301.44,-667.566 6301.44,-631.566 6382.44,-631.566 6382.44,-667.566\" stroke=\"black\"/>\n<text font-family=\"Times,serif\" font-size=\"14.00\" text-anchor=\"middle\" x=\"6341.94\" y=\"-645.866\">(0, 52, 0)</text>\n</g>\n<!-- &#45;1176001923932261211&#45;&gt;2780810764045384064 -->\n<g class=\"edge\" id=\"edge315\"><title>-1176001923932261211-&gt;2780810764045384064</title>\n<path d=\"M5459.47,-571.651C5471.6,-581.265 5484.94,-589.818 5498.94,-595.566 5659.27,-661.37 6102.64,-601.047 6291.38,-631.943\" fill=\"none\" stroke=\"black\"/>\n<polygon fill=\"black\" points=\"6290.81,-635.396 6301.26,-633.691 6292.03,-628.503 6290.81,-635.396\" stroke=\"black\"/>\n</g>\n<!-- 2780810764045384064&#45;&gt;4722279125024388749 -->\n<g class=\"edge\" id=\"edge350\"><title>2780810764045384064-&gt;4722279125024388749</title>\n<path d=\"M6382.68,-665.342C6385.46,-666.151 6388.23,-666.903 6390.94,-667.566 6640.85,-728.679 6943.47,-762.192 7091.89,-776.065\" fill=\"none\" stroke=\"black\"/>\n<polygon fill=\"black\" points=\"7091.6,-779.553 7101.88,-776.99 7092.24,-772.582 7091.6,-779.553\" stroke=\"black\"/>\n</g>\n<!-- 2780809310554387589 -->\n<g class=\"node\" id=\"node388\"><title>2780809310554387589</title>\n<polygon fill=\"none\" points=\"7174.44,-667.566 7093.44,-667.566 7093.44,-631.566 7174.44,-631.566 7174.44,-667.566\" stroke=\"black\"/>\n<text font-family=\"Times,serif\" font-size=\"14.00\" text-anchor=\"middle\" x=\"7133.94\" y=\"-645.866\">(0, 53, 0)</text>\n</g>\n<!-- 5844815679614727252&#45;&gt;2780809310554387589 -->\n<g class=\"edge\" id=\"edge317\"><title>5844815679614727252-&gt;2780809310554387589</title>\n<path d=\"M7083.29,-578.643C7095,-594.806 7106.58,-610.801 7115.71,-623.405\" fill=\"none\" stroke=\"black\"/>\n<polygon fill=\"black\" points=\"7112.91,-625.504 7121.61,-631.549 7118.58,-621.397 7112.91,-625.504\" stroke=\"black\"/>\n</g>\n<!-- 2780809310554387589&#45;&gt;4722279125024388749 -->\n<g class=\"edge\" id=\"edge353\"><title>2780809310554387589-&gt;4722279125024388749</title>\n<path d=\"M7140.25,-667.713C7143.35,-676.143 7147.34,-686.994 7151.63,-698.669\" fill=\"none\" stroke=\"black\"/>\n<polygon fill=\"black\" points=\"7148.39,-700.002 7155.13,-708.179 7154.96,-697.586 7148.39,-700.002\" stroke=\"black\"/>\n</g>\n<!-- 2780807857063391114 -->\n<g class=\"node\" id=\"node390\"><title>2780807857063391114</title>\n<polygon fill=\"none\" points=\"8393.44,-667.566 8312.44,-667.566 8312.44,-631.566 8393.44,-631.566 8393.44,-667.566\" stroke=\"black\"/>\n<text font-family=\"Times,serif\" font-size=\"14.00\" text-anchor=\"middle\" x=\"8352.94\" y=\"-645.866\">(0, 54, 0)</text>\n</g>\n<!-- 7223361486128210135&#45;&gt;2780807857063391114 -->\n<g class=\"edge\" id=\"edge319\"><title>7223361486128210135-&gt;2780807857063391114</title>\n<path d=\"M8403.11,-578.643C8391.52,-594.806 8380.04,-610.801 8371,-623.405\" fill=\"none\" stroke=\"black\"/>\n<polygon fill=\"black\" points=\"8368.14,-621.384 8365.15,-631.549 8373.83,-625.465 8368.14,-621.384\" stroke=\"black\"/>\n</g>\n<!-- 2780807857063391114&#45;&gt;4722279125024388749 -->\n<g class=\"edge\" id=\"edge356\"><title>2780807857063391114-&gt;4722279125024388749</title>\n<path d=\"M8312.33,-655.192C8145.61,-674.178 7511.37,-746.407 7273.65,-773.479\" fill=\"none\" stroke=\"black\"/>\n<polygon fill=\"black\" points=\"7273.19,-770.009 7263.65,-774.618 7273.98,-776.964 7273.19,-770.009\" stroke=\"black\"/>\n</g>\n<!-- 2780806403572394639 -->\n<g class=\"node\" id=\"node392\"><title>2780806403572394639</title>\n<polygon fill=\"none\" points=\"9205.44,-667.566 9124.44,-667.566 9124.44,-631.566 9205.44,-631.566 9205.44,-667.566\" stroke=\"black\"/>\n<text font-family=\"Times,serif\" font-size=\"14.00\" text-anchor=\"middle\" x=\"9164.94\" y=\"-645.866\">(0, 55, 0)</text>\n</g>\n<!-- 181328835276273886&#45;&gt;2780806403572394639 -->\n<g class=\"edge\" id=\"edge321\"><title>181328835276273886-&gt;2780806403572394639</title>\n<path d=\"M9217.68,-577.794C9205.53,-594.092 9193.47,-610.275 9183.96,-623.044\" fill=\"none\" stroke=\"black\"/>\n<polygon fill=\"black\" points=\"9180.98,-621.189 9177.81,-631.299 9186.59,-625.371 9180.98,-621.189\" stroke=\"black\"/>\n</g>\n<!-- 2780806403572394639&#45;&gt;4722279125024388749 -->\n<g class=\"edge\" id=\"edge359\"><title>2780806403572394639-&gt;4722279125024388749</title>\n<path d=\"M9124.33,-655.463C9092.66,-659.16 9047.55,-664.162 9007.94,-667.566 8343.91,-724.636 7541.72,-766.275 7274.48,-779.414\" fill=\"none\" stroke=\"black\"/>\n<polygon fill=\"black\" points=\"7274.26,-775.921 7264.44,-779.907 7274.6,-782.913 7274.26,-775.921\" stroke=\"black\"/>\n</g>\n<!-- 2780793322153426364 -->\n<g class=\"node\" id=\"node394\"><title>2780793322153426364</title>\n<polygon fill=\"none\" points=\"10227.4,-667.566 10146.4,-667.566 10146.4,-631.566 10227.4,-631.566 10227.4,-667.566\" stroke=\"black\"/>\n<text font-family=\"Times,serif\" font-size=\"14.00\" text-anchor=\"middle\" x=\"10186.9\" y=\"-645.866\">(0, 56, 0)</text>\n</g>\n<!-- &#45;6401290463575579399&#45;&gt;2780793322153426364 -->\n<g class=\"edge\" id=\"edge323\"><title>-6401290463575579399-&gt;2780793322153426364</title>\n<path d=\"M10238.4,-578.218C10226.5,-594.449 10214.8,-610.538 10205.5,-623.225\" fill=\"none\" stroke=\"black\"/>\n<polygon fill=\"black\" points=\"10202.6,-621.286 10199.5,-631.424 10208.2,-625.418 10202.6,-621.286\" stroke=\"black\"/>\n</g>\n<!-- 2780793322153426364&#45;&gt;4722279125024388749 -->\n<g class=\"edge\" id=\"edge387\"><title>2780793322153426364-&gt;4722279125024388749</title>\n<path d=\"M10146.2,-655.803C10115,-659.631 10070.8,-664.645 10031.9,-667.566 8948.91,-748.957 7629.68,-776.219 7274.59,-782.351\" fill=\"none\" stroke=\"black\"/>\n<polygon fill=\"black\" points=\"7274.3,-778.856 7264.36,-782.527 7274.42,-785.855 7274.3,-778.856\" stroke=\"black\"/>\n</g>\n<!-- 2780791868662429889 -->\n<g class=\"node\" id=\"node396\"><title>2780791868662429889</title>\n<polygon fill=\"none\" points=\"11656.4,-667.566 11575.4,-667.566 11575.4,-631.566 11656.4,-631.566 11656.4,-667.566\" stroke=\"black\"/>\n<text font-family=\"Times,serif\" font-size=\"14.00\" text-anchor=\"middle\" x=\"11615.9\" y=\"-645.866\">(0, 57, 0)</text>\n</g>\n<!-- 4205879334245478792&#45;&gt;2780791868662429889 -->\n<g class=\"edge\" id=\"edge325\"><title>4205879334245478792-&gt;2780791868662429889</title>\n<path d=\"M11666.6,-578.643C11654.9,-594.806 11643.3,-610.801 11634.2,-623.405\" fill=\"none\" stroke=\"black\"/>\n<polygon fill=\"black\" points=\"11631.3,-621.397 11628.3,-631.549 11637,-625.504 11631.3,-621.397\" stroke=\"black\"/>\n</g>\n<!-- 2780791868662429889&#45;&gt;4722279125024388749 -->\n<g class=\"edge\" id=\"edge389\"><title>2780791868662429889-&gt;4722279125024388749</title>\n<path d=\"M11575.2,-655.955C11544,-659.863 11499.8,-664.91 11460.9,-667.566 9783.21,-782.171 7728.11,-784.99 7274.37,-784.105\" fill=\"none\" stroke=\"black\"/>\n<polygon fill=\"black\" points=\"7274.28,-780.605 7264.27,-784.084 7274.26,-787.605 7274.28,-780.605\" stroke=\"black\"/>\n</g>\n<!-- 2780790415171433414 -->\n<g class=\"node\" id=\"node398\"><title>2780790415171433414</title>\n<polygon fill=\"none\" points=\"11860.4,-667.566 11779.4,-667.566 11779.4,-631.566 11860.4,-631.566 11860.4,-667.566\" stroke=\"black\"/>\n<text font-family=\"Times,serif\" font-size=\"14.00\" text-anchor=\"middle\" x=\"11819.9\" y=\"-645.866\">(0, 58, 0)</text>\n</g>\n<!-- 4296514065578527707&#45;&gt;2780790415171433414 -->\n<g class=\"edge\" id=\"edge327\"><title>4296514065578527707-&gt;2780790415171433414</title>\n<path d=\"M11870.6,-578.643C11858.9,-594.806 11847.3,-610.801 11838.2,-623.405\" fill=\"none\" stroke=\"black\"/>\n<polygon fill=\"black\" points=\"11835.3,-621.397 11832.3,-631.549 11841,-625.504 11835.3,-621.397\" stroke=\"black\"/>\n</g>\n<!-- 2780790415171433414&#45;&gt;4722279125024388749 -->\n<g class=\"edge\" id=\"edge392\"><title>2780790415171433414-&gt;4722279125024388749</title>\n<path d=\"M11779.2,-655.969C11748,-659.884 11703.8,-664.934 11664.9,-667.566 9901.94,-786.901 7741.23,-786 7274.51,-784.266\" fill=\"none\" stroke=\"black\"/>\n<polygon fill=\"black\" points=\"7274.47,-780.765 7264.46,-784.227 7274.45,-787.765 7274.47,-780.765\" stroke=\"black\"/>\n</g>\n<!-- 2780788961680436939 -->\n<g class=\"node\" id=\"node400\"><title>2780788961680436939</title>\n<polygon fill=\"none\" points=\"12064.4,-667.566 11983.4,-667.566 11983.4,-631.566 12064.4,-631.566 12064.4,-667.566\" stroke=\"black\"/>\n<text font-family=\"Times,serif\" font-size=\"14.00\" text-anchor=\"middle\" x=\"12023.9\" y=\"-645.866\">(0, 59, 0)</text>\n</g>\n<!-- &#45;4083490812776694062&#45;&gt;2780788961680436939 -->\n<g class=\"edge\" id=\"edge329\"><title>-4083490812776694062-&gt;2780788961680436939</title>\n<path d=\"M12074.6,-578.643C12062.9,-594.806 12051.3,-610.801 12042.2,-623.405\" fill=\"none\" stroke=\"black\"/>\n<polygon fill=\"black\" points=\"12039.3,-621.397 12036.3,-631.549 12045,-625.504 12039.3,-621.397\" stroke=\"black\"/>\n</g>\n<!-- 2780788961680436939&#45;&gt;4722279125024388749 -->\n<g class=\"edge\" id=\"edge395\"><title>2780788961680436939-&gt;4722279125024388749</title>\n<path d=\"M11983.2,-655.982C11952,-659.903 11907.8,-664.956 11868.9,-667.566 10927.5,-730.756 7846.74,-774.847 7274.76,-782.591\" fill=\"none\" stroke=\"black\"/>\n<polygon fill=\"black\" points=\"7274.46,-779.095 7264.51,-782.73 7274.56,-786.094 7274.46,-779.095\" stroke=\"black\"/>\n</g>\n<!-- 2780799136117412264 -->\n<g class=\"node\" id=\"node402\"><title>2780799136117412264</title>\n<polygon fill=\"none\" points=\"12268.4,-667.566 12187.4,-667.566 12187.4,-631.566 12268.4,-631.566 12268.4,-667.566\" stroke=\"black\"/>\n<text font-family=\"Times,serif\" font-size=\"14.00\" text-anchor=\"middle\" x=\"12227.9\" y=\"-645.866\">(0, 60, 0)</text>\n</g>\n<!-- &#45;2969442122659531715&#45;&gt;2780799136117412264 -->\n<g class=\"edge\" id=\"edge331\"><title>-2969442122659531715-&gt;2780799136117412264</title>\n<path d=\"M12278.6,-578.643C12266.9,-594.806 12255.3,-610.801 12246.2,-623.405\" fill=\"none\" stroke=\"black\"/>\n<polygon fill=\"black\" points=\"12243.3,-621.397 12240.3,-631.549 12249,-625.504 12243.3,-621.397\" stroke=\"black\"/>\n</g>\n<!-- 2780799136117412264&#45;&gt;4722279125024388749 -->\n<g class=\"edge\" id=\"edge374\"><title>2780799136117412264-&gt;4722279125024388749</title>\n<path d=\"M12187.2,-655.993C12156,-659.921 12111.8,-664.976 12072.9,-667.566 11088.2,-733.154 7860.26,-775.471 7274.53,-782.703\" fill=\"none\" stroke=\"black\"/>\n<polygon fill=\"black\" points=\"7274.4,-779.205 7264.45,-782.828 7274.49,-786.204 7274.4,-779.205\" stroke=\"black\"/>\n</g>\n<!-- 2780797682626415789 -->\n<g class=\"node\" id=\"node404\"><title>2780797682626415789</title>\n<polygon fill=\"none\" points=\"12472.4,-667.566 12391.4,-667.566 12391.4,-631.566 12472.4,-631.566 12472.4,-667.566\" stroke=\"black\"/>\n<text font-family=\"Times,serif\" font-size=\"14.00\" text-anchor=\"middle\" x=\"12431.9\" y=\"-645.866\">(0, 61, 0)</text>\n</g>\n<!-- &#45;2968486900072191508&#45;&gt;2780797682626415789 -->\n<g class=\"edge\" id=\"edge333\"><title>-2968486900072191508-&gt;2780797682626415789</title>\n<path d=\"M12482.6,-578.643C12470.9,-594.806 12459.3,-610.801 12450.2,-623.405\" fill=\"none\" stroke=\"black\"/>\n<polygon fill=\"black\" points=\"12447.3,-621.397 12444.3,-631.549 12453,-625.504 12447.3,-621.397\" stroke=\"black\"/>\n</g>\n<!-- 2780797682626415789&#45;&gt;4722279125024388749 -->\n<g class=\"edge\" id=\"edge377\"><title>2780797682626415789-&gt;4722279125024388749</title>\n<path d=\"M12391.2,-656.004C12360,-659.937 12315.8,-664.994 12276.9,-667.566 11249.2,-735.527 7875.93,-776.036 7274.95,-782.799\" fill=\"none\" stroke=\"black\"/>\n<polygon fill=\"black\" points=\"7274.58,-779.303 7264.62,-782.915 7274.66,-786.302 7274.58,-779.303\" stroke=\"black\"/>\n</g>\n<!-- 2780796229135419314 -->\n<g class=\"node\" id=\"node406\"><title>2780796229135419314</title>\n<polygon fill=\"none\" points=\"12676.4,-667.566 12595.4,-667.566 12595.4,-631.566 12676.4,-631.566 12676.4,-667.566\" stroke=\"black\"/>\n<text font-family=\"Times,serif\" font-size=\"14.00\" text-anchor=\"middle\" x=\"12635.9\" y=\"-645.866\">(0, 62, 0)</text>\n</g>\n<!-- 7549310253269263983&#45;&gt;2780796229135419314 -->\n<g class=\"edge\" id=\"edge335\"><title>7549310253269263983-&gt;2780796229135419314</title>\n<path d=\"M12686.6,-578.643C12674.9,-594.806 12663.3,-610.801 12654.2,-623.405\" fill=\"none\" stroke=\"black\"/>\n<polygon fill=\"black\" points=\"12651.3,-621.397 12648.3,-631.549 12657,-625.504 12651.3,-621.397\" stroke=\"black\"/>\n</g>\n<!-- 2780796229135419314&#45;&gt;4722279125024388749 -->\n<g class=\"edge\" id=\"edge381\"><title>2780796229135419314-&gt;4722279125024388749</title>\n<path d=\"M12595.2,-656.014C12564,-659.952 12519.8,-665.011 12480.9,-667.566 11409.7,-737.927 7888.83,-776.606 7274.71,-782.894\" fill=\"none\" stroke=\"black\"/>\n<polygon fill=\"black\" points=\"7274.55,-779.395 7264.59,-782.998 7274.62,-786.395 7274.55,-779.395\" stroke=\"black\"/>\n</g>\n<!-- 2780794775644422839 -->\n<g class=\"node\" id=\"node408\"><title>2780794775644422839</title>\n<polygon fill=\"none\" points=\"12880.4,-667.566 12799.4,-667.566 12799.4,-631.566 12880.4,-631.566 12880.4,-667.566\" stroke=\"black\"/>\n<text font-family=\"Times,serif\" font-size=\"14.00\" text-anchor=\"middle\" x=\"12839.9\" y=\"-645.866\">(0, 63, 0)</text>\n</g>\n<!-- 7729317625141524598&#45;&gt;2780794775644422839 -->\n<g class=\"edge\" id=\"edge337\"><title>7729317625141524598-&gt;2780794775644422839</title>\n<path d=\"M12890.6,-578.643C12878.9,-594.806 12867.3,-610.801 12858.2,-623.405\" fill=\"none\" stroke=\"black\"/>\n<polygon fill=\"black\" points=\"12855.3,-621.397 12852.3,-631.549 12861,-625.504 12855.3,-621.397\" stroke=\"black\"/>\n</g>\n<!-- 2780794775644422839&#45;&gt;4722279125024388749 -->\n<g class=\"edge\" id=\"edge384\"><title>2780794775644422839-&gt;4722279125024388749</title>\n<path d=\"M12799.2,-656.023C12768,-659.966 12723.8,-665.027 12684.9,-667.566 11570.4,-740.318 7902.37,-777.141 7274.71,-782.98\" fill=\"none\" stroke=\"black\"/>\n<polygon fill=\"black\" points=\"7274.34,-779.483 7264.37,-783.076 7274.4,-786.483 7274.34,-779.483\" stroke=\"black\"/>\n</g>\n<!-- 2780642159089792964 -->\n<g class=\"node\" id=\"node410\"><title>2780642159089792964</title>\n<polygon fill=\"none\" points=\"13084.4,-667.566 13003.4,-667.566 13003.4,-631.566 13084.4,-631.566 13084.4,-667.566\" stroke=\"black\"/>\n<text font-family=\"Times,serif\" font-size=\"14.00\" text-anchor=\"middle\" x=\"13043.9\" y=\"-645.866\">(0, 64, 0)</text>\n</g>\n<!-- 2233124081154583281&#45;&gt;2780642159089792964 -->\n<g class=\"edge\" id=\"edge339\"><title>2233124081154583281-&gt;2780642159089792964</title>\n<path d=\"M13094.6,-578.643C13082.9,-594.806 13071.3,-610.801 13062.2,-623.405\" fill=\"none\" stroke=\"black\"/>\n<polygon fill=\"black\" points=\"13059.3,-621.397 13056.3,-631.549 13065,-625.504 13059.3,-621.397\" stroke=\"black\"/>\n</g>\n<!-- 2780642159089792964&#45;&gt;4722279125024388749 -->\n<g class=\"edge\" id=\"edge391\"><title>2780642159089792964-&gt;4722279125024388749</title>\n<path d=\"M13003.2,-656.031C12972,-659.978 12927.8,-665.042 12888.9,-667.566 11730.9,-742.716 7915.03,-777.662 7274.55,-783.061\" fill=\"none\" stroke=\"black\"/>\n<polygon fill=\"black\" points=\"7274.42,-779.562 7264.45,-783.146 7274.48,-786.561 7274.42,-779.562\" stroke=\"black\"/>\n</g>\n<!-- 2780640705598796489 -->\n<g class=\"node\" id=\"node412\"><title>2780640705598796489</title>\n<polygon fill=\"none\" points=\"13288.4,-667.566 13207.4,-667.566 13207.4,-631.566 13288.4,-631.566 13288.4,-667.566\" stroke=\"black\"/>\n<text font-family=\"Times,serif\" font-size=\"14.00\" text-anchor=\"middle\" x=\"13247.9\" y=\"-645.866\">(0, 65, 0)</text>\n</g>\n<!-- 165900480534079744&#45;&gt;2780640705598796489 -->\n<g class=\"edge\" id=\"edge341\"><title>165900480534079744-&gt;2780640705598796489</title>\n<path d=\"M13298.6,-578.643C13286.9,-594.806 13275.3,-610.801 13266.2,-623.405\" fill=\"none\" stroke=\"black\"/>\n<polygon fill=\"black\" points=\"13263.3,-621.397 13260.3,-631.549 13269,-625.504 13263.3,-621.397\" stroke=\"black\"/>\n</g>\n<!-- 2780640705598796489&#45;&gt;4722279125024388749 -->\n<g class=\"edge\" id=\"edge394\"><title>2780640705598796489-&gt;4722279125024388749</title>\n<path d=\"M13207.2,-656.039C13176,-659.99 13131.8,-665.056 13092.9,-667.566 11891.6,-745.103 7928.61,-778.152 7274.68,-783.134\" fill=\"none\" stroke=\"black\"/>\n<polygon fill=\"black\" points=\"7274.35,-779.636 7264.38,-783.212 7274.4,-786.636 7274.35,-779.636\" stroke=\"black\"/>\n</g>\n<!-- 2780639252107800014 -->\n<g class=\"node\" id=\"node414\"><title>2780639252107800014</title>\n<polygon fill=\"none\" points=\"13492.4,-667.566 13411.4,-667.566 13411.4,-631.566 13492.4,-631.566 13492.4,-667.566\" stroke=\"black\"/>\n<text font-family=\"Times,serif\" font-size=\"14.00\" text-anchor=\"middle\" x=\"13451.9\" y=\"-645.866\">(0, 66, 0)</text>\n</g>\n<!-- &#45;7789657135392060781&#45;&gt;2780639252107800014 -->\n<g class=\"edge\" id=\"edge343\"><title>-7789657135392060781-&gt;2780639252107800014</title>\n<path d=\"M13502.6,-578.643C13490.9,-594.806 13479.3,-610.801 13470.2,-623.405\" fill=\"none\" stroke=\"black\"/>\n<polygon fill=\"black\" points=\"13467.3,-621.397 13464.3,-631.549 13473,-625.504 13467.3,-621.397\" stroke=\"black\"/>\n</g>\n<!-- 2780639252107800014&#45;&gt;4722279125024388749 -->\n<g class=\"edge\" id=\"edge397\"><title>2780639252107800014-&gt;4722279125024388749</title>\n<path d=\"M13411.2,-656.046C13380,-660.002 13335.8,-665.068 13296.9,-667.566 12052,-747.507 7940.37,-778.637 7274.42,-783.205\" fill=\"none\" stroke=\"black\"/>\n<polygon fill=\"black\" points=\"7274.38,-779.705 7264.4,-783.273 7274.43,-786.705 7274.38,-779.705\" stroke=\"black\"/>\n</g>\n<!-- 2780637798616803539 -->\n<g class=\"node\" id=\"node416\"><title>2780637798616803539</title>\n<polygon fill=\"none\" points=\"13696.4,-667.566 13615.4,-667.566 13615.4,-631.566 13696.4,-631.566 13696.4,-667.566\" stroke=\"black\"/>\n<text font-family=\"Times,serif\" font-size=\"14.00\" text-anchor=\"middle\" x=\"13655.9\" y=\"-645.866\">(0, 67, 0)</text>\n</g>\n<!-- &#45;7530591912963035766&#45;&gt;2780637798616803539 -->\n<g class=\"edge\" id=\"edge345\"><title>-7530591912963035766-&gt;2780637798616803539</title>\n<path d=\"M13706.6,-578.643C13694.9,-594.806 13683.3,-610.801 13674.2,-623.405\" fill=\"none\" stroke=\"black\"/>\n<polygon fill=\"black\" points=\"13671.3,-621.397 13668.3,-631.549 13677,-625.504 13671.3,-621.397\" stroke=\"black\"/>\n</g>\n<!-- 2780637798616803539&#45;&gt;4722279125024388749 -->\n<g class=\"edge\" id=\"edge400\"><title>2780637798616803539-&gt;4722279125024388749</title>\n<path d=\"M13615.2,-656.053C13584,-660.012 13539.8,-665.08 13500.9,-667.566 12212.6,-749.898 7953.27,-779.095 7274.49,-783.269\" fill=\"none\" stroke=\"black\"/>\n<polygon fill=\"black\" points=\"7274.26,-779.77 7264.28,-783.332 7274.31,-786.77 7274.26,-779.77\" stroke=\"black\"/>\n</g>\n<!-- 2780647973053778864 -->\n<g class=\"node\" id=\"node418\"><title>2780647973053778864</title>\n<polygon fill=\"none\" points=\"24549.4,-667.566 24468.4,-667.566 24468.4,-631.566 24549.4,-631.566 24549.4,-667.566\" stroke=\"black\"/>\n<text font-family=\"Times,serif\" font-size=\"14.00\" text-anchor=\"middle\" x=\"24508.9\" y=\"-645.866\">(0, 68, 0)</text>\n</g>\n<!-- 678796295396281269&#45;&gt;2780647973053778864 -->\n<g class=\"edge\" id=\"edge347\"><title>678796295396281269-&gt;2780647973053778864</title>\n<path d=\"M24535.7,-587.938C24530.2,-600.362 24525,-612.309 24520.6,-622.265\" fill=\"none\" stroke=\"black\"/>\n<polygon fill=\"black\" points=\"24517.3,-620.938 24516.5,-631.5 24523.7,-623.766 24517.3,-620.938\" stroke=\"black\"/>\n</g>\n<!-- 2780647973053778864&#45;&gt;4722279125024388749 -->\n<g class=\"edge\" id=\"edge379\"><title>2780647973053778864-&gt;4722279125024388749</title>\n<path d=\"M24468.3,-657.091C24442.3,-660.954 24407.7,-665.488 24376.9,-667.566 24376.9,-667.566 8621.39,-774.084 7274.5,-783.19\" fill=\"none\" stroke=\"black\"/>\n<polygon fill=\"black\" points=\"7274.37,-779.691 7264.4,-783.258 7274.42,-786.691 7274.37,-779.691\" stroke=\"black\"/>\n</g>\n<!-- 4722279125024388749&#45;&gt;2766108669250703832 -->\n<g class=\"edge\" id=\"edge349\"><title>4722279125024388749-&gt;2766108669250703832</title>\n<path d=\"M7264.36,-787.623C7943.82,-802.763 12658.5,-907.813 13125.7,-918.222\" fill=\"none\" stroke=\"black\"/>\n<polygon fill=\"black\" points=\"13125.9,-921.726 13135.9,-918.45 13126,-914.728 13125.9,-921.726\" stroke=\"black\"/>\n</g>\n<!-- 7431600475995123785 -->\n<g class=\"node\" id=\"node421\"><title>7431600475995123785</title>\n<polygon fill=\"none\" points=\"17453.9,-667.566 17399.9,-667.566 17399.9,-631.566 17453.9,-631.566 17453.9,-667.566\" stroke=\"black\"/>\n<text font-family=\"Times,serif\" font-size=\"14.00\" text-anchor=\"middle\" x=\"17426.9\" y=\"-645.866\">(0, 0)</text>\n</g>\n<!-- 9123287443387473536&#45;&gt;7431600475995123785 -->\n<g class=\"edge\" id=\"edge419\"><title>9123287443387473536-&gt;7431600475995123785</title>\n<path d=\"M15849.4,-561.624C15860.9,-575.185 15874.9,-587.897 15890.9,-595.566 16041.3,-667.377 17227.6,-594.014 17389.9,-631.566 17390,-631.59 17390.1,-631.614 17390.3,-631.639\" fill=\"none\" stroke=\"black\"/>\n<polygon fill=\"black\" points=\"17389.3,-635.013 17399.9,-634.65 17391.4,-628.331 17389.3,-635.013\" stroke=\"black\"/>\n</g>\n<!-- &#45;7443139290563364873 -->\n<g class=\"node\" id=\"node558\"><title>-7443139290563364873</title>\n<ellipse cx=\"19166.9\" cy=\"-784.809\" fill=\"none\" rx=\"50.0912\" ry=\"50.0912\" stroke=\"black\"/>\n<text font-family=\"Times,serif\" font-size=\"14.00\" text-anchor=\"middle\" x=\"19166.9\" y=\"-781.109\">sum-agg</text>\n</g>\n<!-- 7431600475995123785&#45;&gt;&#45;7443139290563364873 -->\n<g class=\"edge\" id=\"edge595\"><title>7431600475995123785-&gt;-7443139290563364873</title>\n<path d=\"M17454.3,-664.175C17457.8,-665.51 17461.4,-666.692 17464.9,-667.566 17785.9,-747.623 18842.7,-776.477 19106.8,-782.528\" fill=\"none\" stroke=\"black\"/>\n<polygon fill=\"black\" points=\"19106.8,-786.031 19116.9,-782.759 19107,-779.033 19106.8,-786.031\" stroke=\"black\"/>\n</g>\n<!-- 7431600475996288834 -->\n<g class=\"node\" id=\"node423\"><title>7431600475996288834</title>\n<polygon fill=\"none\" points=\"20461.9,-667.566 20407.9,-667.566 20407.9,-631.566 20461.9,-631.566 20461.9,-667.566\" stroke=\"black\"/>\n<text font-family=\"Times,serif\" font-size=\"14.00\" text-anchor=\"middle\" x=\"20434.9\" y=\"-645.866\">(0, 1)</text>\n</g>\n<!-- &#45;8278845344397195105&#45;&gt;7431600475996288834 -->\n<g class=\"edge\" id=\"edge421\"><title>-8278845344397195105-&gt;7431600475996288834</title>\n<path d=\"M20467.7,-566.776C20459.9,-586.176 20451.8,-606.481 20445.6,-622.007\" fill=\"none\" stroke=\"black\"/>\n<polygon fill=\"black\" points=\"20442.3,-620.878 20441.8,-631.462 20448.8,-623.478 20442.3,-620.878\" stroke=\"black\"/>\n</g>\n<!-- 7431600475996288834&#45;&gt;&#45;7443139290563364873 -->\n<g class=\"edge\" id=\"edge591\"><title>7431600475996288834-&gt;-7443139290563364873</title>\n<path d=\"M20407.6,-655.065C20384.7,-658.731 20351.3,-663.886 20321.9,-667.566 19903.8,-720.028 19398.2,-764.342 19226.9,-778.817\" fill=\"none\" stroke=\"black\"/>\n<polygon fill=\"black\" points=\"19226.5,-775.338 19216.9,-779.667 19227.1,-782.314 19226.5,-775.338\" stroke=\"black\"/>\n</g>\n<!-- 7431600475992793687 -->\n<g class=\"node\" id=\"node425\"><title>7431600475992793687</title>\n<polygon fill=\"none\" points=\"17770.9,-667.566 17716.9,-667.566 17716.9,-631.566 17770.9,-631.566 17770.9,-667.566\" stroke=\"black\"/>\n<text font-family=\"Times,serif\" font-size=\"14.00\" text-anchor=\"middle\" x=\"17743.9\" y=\"-645.866\">(0, 2)</text>\n</g>\n<!-- &#45;3918713258512385130&#45;&gt;7431600475992793687 -->\n<g class=\"edge\" id=\"edge423\"><title>-3918713258512385130-&gt;7431600475992793687</title>\n<path d=\"M16473.4,-561.557C16484.9,-575.119 16498.9,-587.848 16514.9,-595.566 16631.9,-651.86 17538.8,-602.806 17706.9,-632.303\" fill=\"none\" stroke=\"black\"/>\n<polygon fill=\"black\" points=\"17706.3,-635.77 17716.9,-634.361 17707.8,-628.914 17706.3,-635.77\" stroke=\"black\"/>\n</g>\n<!-- 7431600475992793687&#45;&gt;&#45;7443139290563364873 -->\n<g class=\"edge\" id=\"edge603\"><title>7431600475992793687-&gt;-7443139290563364873</title>\n<path d=\"M17771.1,-664.609C17774,-665.758 17777,-666.777 17779.9,-667.566 18036.2,-736.398 18873.6,-772.683 19106.4,-781.604\" fill=\"none\" stroke=\"black\"/>\n<polygon fill=\"black\" points=\"19106.6,-785.113 19116.7,-781.996 19106.9,-778.119 19106.6,-785.113\" stroke=\"black\"/>\n</g>\n<!-- 7431600475993958736 -->\n<g class=\"node\" id=\"node427\"><title>7431600475993958736</title>\n<polygon fill=\"none\" points=\"16517.9,-667.566 16463.9,-667.566 16463.9,-631.566 16517.9,-631.566 16517.9,-667.566\" stroke=\"black\"/>\n<text font-family=\"Times,serif\" font-size=\"14.00\" text-anchor=\"middle\" x=\"16490.9\" y=\"-645.866\">(0, 3)</text>\n</g>\n<!-- &#45;2926465158252381355&#45;&gt;7431600475993958736 -->\n<g class=\"edge\" id=\"edge425\"><title>-2926465158252381355-&gt;7431600475993958736</title>\n<path d=\"M14601.4,-561.625C14612.9,-575.186 14626.9,-587.898 14642.9,-595.566 14718.5,-631.635 16065.3,-628.489 16148.9,-631.566 16259.9,-635.648 16390.9,-642.818 16453.7,-646.401\" fill=\"none\" stroke=\"black\"/>\n<polygon fill=\"black\" points=\"16453.7,-649.907 16463.9,-646.985 16454.1,-642.919 16453.7,-649.907\" stroke=\"black\"/>\n</g>\n<!-- 7431600475993958736&#45;&gt;&#45;7443139290563364873 -->\n<g class=\"edge\" id=\"edge599\"><title>7431600475993958736-&gt;-7443139290563364873</title>\n<path d=\"M16518,-653.349C16554.8,-657.057 16622.8,-663.607 16680.9,-667.566 17647.6,-733.38 18828.2,-773.086 19106.3,-781.925\" fill=\"none\" stroke=\"black\"/>\n<polygon fill=\"black\" points=\"19106.5,-785.432 19116.6,-782.25 19106.7,-778.435 19106.5,-785.432\" stroke=\"black\"/>\n</g>\n<!-- 7431600475990463589 -->\n<g class=\"node\" id=\"node429\"><title>7431600475990463589</title>\n<polygon fill=\"none\" points=\"14143.9,-667.566 14089.9,-667.566 14089.9,-631.566 14143.9,-631.566 14143.9,-667.566\" stroke=\"black\"/>\n<text font-family=\"Times,serif\" font-size=\"14.00\" text-anchor=\"middle\" x=\"14116.9\" y=\"-645.866\">(0, 4)</text>\n</g>\n<!-- &#45;6551269526921215180&#45;&gt;7431600475990463589 -->\n<g class=\"edge\" id=\"edge427\"><title>-6551269526921215180-&gt;7431600475990463589</title>\n<path d=\"M14106.2,-571.004C14108.7,-588.795 14111.2,-606.997 14113.2,-621.293\" fill=\"none\" stroke=\"black\"/>\n<polygon fill=\"black\" points=\"14109.7,-621.965 14114.6,-631.393 14116.7,-621.008 14109.7,-621.965\" stroke=\"black\"/>\n</g>\n<!-- 7431600475990463589&#45;&gt;&#45;7443139290563364873 -->\n<g class=\"edge\" id=\"edge611\"><title>7431600475990463589-&gt;-7443139290563364873</title>\n<path d=\"M14144.1,-651.283C14514.8,-661.063 18562.1,-767.85 19106.5,-782.214\" fill=\"none\" stroke=\"black\"/>\n<polygon fill=\"black\" points=\"19106.8,-785.723 19116.9,-782.488 19107,-778.725 19106.8,-785.723\" stroke=\"black\"/>\n</g>\n<!-- 7431600475991628638 -->\n<g class=\"node\" id=\"node431\"><title>7431600475991628638</title>\n<polygon fill=\"none\" points=\"21083.9,-667.566 21029.9,-667.566 21029.9,-631.566 21083.9,-631.566 21083.9,-667.566\" stroke=\"black\"/>\n<text font-family=\"Times,serif\" font-size=\"14.00\" text-anchor=\"middle\" x=\"21056.9\" y=\"-645.866\">(0, 5)</text>\n</g>\n<!-- &#45;5520390533093332605&#45;&gt;7431600475991628638 -->\n<g class=\"edge\" id=\"edge429\"><title>-5520390533093332605-&gt;7431600475991628638</title>\n<path d=\"M21090.8,-566.776C21082.8,-586.176 21074.4,-606.481 21067.9,-622.007\" fill=\"none\" stroke=\"black\"/>\n<polygon fill=\"black\" points=\"21064.6,-620.884 21064,-631.462 21071.1,-623.561 21064.6,-620.884\" stroke=\"black\"/>\n</g>\n<!-- 7431600475991628638&#45;&gt;&#45;7443139290563364873 -->\n<g class=\"edge\" id=\"edge607\"><title>7431600475991628638-&gt;-7443139290563364873</title>\n<path d=\"M21029.8,-655.252C21006.8,-659.083 20972.8,-664.37 20942.9,-667.566 20272,-739.43 19453.3,-773.279 19227.2,-781.673\" fill=\"none\" stroke=\"black\"/>\n<polygon fill=\"black\" points=\"19227.1,-778.176 19217.2,-782.042 19227.3,-785.171 19227.1,-778.176\" stroke=\"black\"/>\n</g>\n<!-- 7431600475988133491 -->\n<g class=\"node\" id=\"node433\"><title>7431600475988133491</title>\n<polygon fill=\"none\" points=\"20613.9,-667.566 20559.9,-667.566 20559.9,-631.566 20613.9,-631.566 20613.9,-667.566\" stroke=\"black\"/>\n<text font-family=\"Times,serif\" font-size=\"14.00\" text-anchor=\"middle\" x=\"20586.9\" y=\"-645.866\">(0, 6)</text>\n</g>\n<!-- 1150741562647248170&#45;&gt;7431600475988133491 -->\n<g class=\"edge\" id=\"edge431\"><title>1150741562647248170-&gt;7431600475988133491</title>\n<path d=\"M20622.1,-566.355C20613.8,-585.811 20605.1,-606.221 20598.4,-621.837\" fill=\"none\" stroke=\"black\"/>\n<polygon fill=\"black\" points=\"20595,-620.778 20594.3,-631.349 20601.5,-623.532 20595,-620.778\" stroke=\"black\"/>\n</g>\n<!-- 7431600475988133491&#45;&gt;&#45;7443139290563364873 -->\n<g class=\"edge\" id=\"edge619\"><title>7431600475988133491-&gt;-7443139290563364873</title>\n<path d=\"M20559.8,-654.986C20536.3,-658.703 20501.5,-663.972 20470.9,-667.566 19992.7,-723.881 19412.9,-766.602 19227.2,-779.657\" fill=\"none\" stroke=\"black\"/>\n<polygon fill=\"black\" points=\"19226.8,-776.175 19217.1,-780.366 19227.3,-783.158 19226.8,-776.175\" stroke=\"black\"/>\n</g>\n<!-- 7431600475989298540 -->\n<g class=\"node\" id=\"node435\"><title>7431600475989298540</title>\n<polygon fill=\"none\" points=\"19534.9,-667.566 19480.9,-667.566 19480.9,-631.566 19534.9,-631.566 19534.9,-667.566\" stroke=\"black\"/>\n<text font-family=\"Times,serif\" font-size=\"14.00\" text-anchor=\"middle\" x=\"19507.9\" y=\"-645.866\">(0, 7)</text>\n</g>\n<!-- 2190629359818510345&#45;&gt;7431600475989298540 -->\n<g class=\"edge\" id=\"edge433\"><title>2190629359818510345-&gt;7431600475989298540</title>\n<path d=\"M19535.2,-568.042C19528.8,-586.963 19522.1,-606.624 19517,-621.783\" fill=\"none\" stroke=\"black\"/>\n<polygon fill=\"black\" points=\"19513.6,-620.899 19513.7,-631.493 19520.2,-623.141 19513.6,-620.899\" stroke=\"black\"/>\n</g>\n<!-- 7431600475989298540&#45;&gt;&#45;7443139290563364873 -->\n<g class=\"edge\" id=\"edge615\"><title>7431600475989298540-&gt;-7443139290563364873</title>\n<path d=\"M19480.9,-661.133C19425.3,-682.84 19297.4,-732.847 19223.1,-761.869\" fill=\"none\" stroke=\"black\"/>\n<polygon fill=\"black\" points=\"19221.5,-758.747 19213.4,-765.646 19224,-765.267 19221.5,-758.747\" stroke=\"black\"/>\n</g>\n<!-- 7431600475985803393 -->\n<g class=\"node\" id=\"node437\"><title>7431600475985803393</title>\n<polygon fill=\"none\" points=\"17119.9,-667.566 17065.9,-667.566 17065.9,-631.566 17119.9,-631.566 17119.9,-667.566\" stroke=\"black\"/>\n<text font-family=\"Times,serif\" font-size=\"14.00\" text-anchor=\"middle\" x=\"17092.9\" y=\"-645.866\">(0, 8)</text>\n</g>\n<!-- &#45;1397875392469441080&#45;&gt;7431600475985803393 -->\n<g class=\"edge\" id=\"edge435\"><title>-1397875392469441080-&gt;7431600475985803393</title>\n<path d=\"M15225.3,-561.663C15236.9,-575.224 15250.9,-587.927 15266.9,-595.566 15355.8,-637.82 16940.8,-615.883 17037.9,-631.566 17043.9,-632.525 17050.1,-633.974 17056.1,-635.629\" fill=\"none\" stroke=\"black\"/>\n<polygon fill=\"black\" points=\"17055.3,-639.053 17065.9,-638.558 17057.3,-632.345 17055.3,-639.053\" stroke=\"black\"/>\n</g>\n<!-- 7431600475985803393&#45;&gt;&#45;7443139290563364873 -->\n<g class=\"edge\" id=\"edge558\"><title>7431600475985803393-&gt;-7443139290563364873</title>\n<path d=\"M17120.4,-661.997C17126.7,-664.206 17133.5,-666.242 17139.9,-667.566 17530.5,-747.615 18813.3,-776.957 19106.8,-782.704\" fill=\"none\" stroke=\"black\"/>\n<polygon fill=\"black\" points=\"19106.7,-786.204 19116.8,-782.899 19106.9,-779.205 19106.7,-786.204\" stroke=\"black\"/>\n</g>\n<!-- 7431600475986968442 -->\n<g class=\"node\" id=\"node439\"><title>7431600475986968442</title>\n<polygon fill=\"none\" points=\"17842.9,-667.566 17788.9,-667.566 17788.9,-631.566 17842.9,-631.566 17842.9,-667.566\" stroke=\"black\"/>\n<text font-family=\"Times,serif\" font-size=\"14.00\" text-anchor=\"middle\" x=\"17815.9\" y=\"-645.866\">(0, 9)</text>\n</g>\n<!-- &#45;440495074146193305&#45;&gt;7431600475986968442 -->\n<g class=\"edge\" id=\"edge437\"><title>-440495074146193305-&gt;7431600475986968442</title>\n<path d=\"M16629.4,-561.533C16640.9,-575.094 16654.9,-587.83 16670.9,-595.566 16779.4,-647.919 17619.4,-604.768 17778.6,-632.264\" fill=\"none\" stroke=\"black\"/>\n<polygon fill=\"black\" points=\"17778.3,-635.79 17788.8,-634.368 17779.8,-628.932 17778.3,-635.79\" stroke=\"black\"/>\n</g>\n<!-- 7431600475986968442&#45;&gt;&#45;7443139290563364873 -->\n<g class=\"edge\" id=\"edge623\"><title>7431600475986968442-&gt;-7443139290563364873</title>\n<path d=\"M17843,-664.273C17846.3,-665.554 17849.7,-666.696 17852.9,-667.566 18094.9,-731.804 18882.1,-771.11 19106.7,-781.211\" fill=\"none\" stroke=\"black\"/>\n<polygon fill=\"black\" points=\"19106.8,-784.719 19116.9,-781.67 19107.1,-777.726 19106.8,-784.719\" stroke=\"black\"/>\n</g>\n<!-- 7431600475983473295 -->\n<g class=\"node\" id=\"node441\"><title>7431600475983473295</title>\n<polygon fill=\"none\" points=\"18815.4,-667.566 18752.4,-667.566 18752.4,-631.566 18815.4,-631.566 18815.4,-667.566\" stroke=\"black\"/>\n<text font-family=\"Times,serif\" font-size=\"14.00\" text-anchor=\"middle\" x=\"18783.9\" y=\"-645.866\">(0, 10)</text>\n</g>\n<!-- 3959502115354933470&#45;&gt;7431600475983473295 -->\n<g class=\"edge\" id=\"edge439\"><title>3959502115354933470-&gt;7431600475983473295</title>\n<path d=\"M18502.6,-560.488C18514.1,-573.881 18527.7,-586.795 18542.9,-595.566 18618.8,-639.245 18654.4,-608.028 18742.5,-631.563\" fill=\"none\" stroke=\"black\"/>\n<polygon fill=\"black\" points=\"18741.7,-634.992 18752.3,-634.36 18743.6,-628.258 18741.7,-634.992\" stroke=\"black\"/>\n</g>\n<!-- 7431600475983473295&#45;&gt;&#45;7443139290563364873 -->\n<g class=\"edge\" id=\"edge566\"><title>7431600475983473295-&gt;-7443139290563364873</title>\n<path d=\"M18815.6,-663.951C18818.8,-665.201 18821.9,-666.425 18824.9,-667.566 18924.1,-704.923 19041.3,-743.598 19109.6,-765.583\" fill=\"none\" stroke=\"black\"/>\n<polygon fill=\"black\" points=\"19108.7,-768.976 19119.3,-768.703 19110.8,-762.312 19108.7,-768.976\" stroke=\"black\"/>\n</g>\n<!-- 7431600475984638344 -->\n<g class=\"node\" id=\"node443\"><title>7431600475984638344</title>\n<polygon fill=\"none\" points=\"17617.4,-667.566 17554.4,-667.566 17554.4,-631.566 17617.4,-631.566 17617.4,-667.566\" stroke=\"black\"/>\n<text font-family=\"Times,serif\" font-size=\"14.00\" text-anchor=\"middle\" x=\"17585.9\" y=\"-645.866\">(0, 11)</text>\n</g>\n<!-- 6624598135899081245&#45;&gt;7431600475984638344 -->\n<g class=\"edge\" id=\"edge441\"><title>6624598135899081245-&gt;7431600475984638344</title>\n<path d=\"M16161.4,-561.594C16172.9,-575.155 16186.9,-587.875 16202.9,-595.566 16334.9,-658.836 17358.9,-602.123 17544.4,-632.015\" fill=\"none\" stroke=\"black\"/>\n<polygon fill=\"black\" points=\"17543.9,-635.5 17554.4,-633.906 17545.2,-628.62 17543.9,-635.5\" stroke=\"black\"/>\n</g>\n<!-- 7431600475984638344&#45;&gt;&#45;7443139290563364873 -->\n<g class=\"edge\" id=\"edge562\"><title>7431600475984638344-&gt;-7443139290563364873</title>\n<path d=\"M17617.8,-664.923C17620.9,-665.944 17623.9,-666.851 17626.9,-667.566 17915.9,-736.497 18858.3,-773.185 19106.5,-781.807\" fill=\"none\" stroke=\"black\"/>\n<polygon fill=\"black\" points=\"19106.7,-785.314 19116.8,-782.161 19106.9,-778.318 19106.7,-785.314\" stroke=\"black\"/>\n</g>\n<!-- 7431600475981143197 -->\n<g class=\"node\" id=\"node445\"><title>7431600475981143197</title>\n<polygon fill=\"none\" points=\"18653.4,-667.566 18590.4,-667.566 18590.4,-631.566 18653.4,-631.566 18653.4,-667.566\" stroke=\"black\"/>\n<text font-family=\"Times,serif\" font-size=\"14.00\" text-anchor=\"middle\" x=\"18621.9\" y=\"-645.866\">(0, 12)</text>\n</g>\n<!-- 9194487923200688252&#45;&gt;7431600475981143197 -->\n<g class=\"edge\" id=\"edge443\"><title>9194487923200688252-&gt;7431600475981143197</title>\n<path d=\"M18190.2,-561.27C18201.6,-574.658 18215.4,-587.373 18230.9,-595.566 18366.8,-667.14 18427.6,-595.521 18580.6,-631.717\" fill=\"none\" stroke=\"black\"/>\n<polygon fill=\"black\" points=\"18579.8,-635.121 18590.4,-634.134 18581.5,-628.328 18579.8,-635.121\" stroke=\"black\"/>\n</g>\n<!-- 7431600475981143197&#45;&gt;&#45;7443139290563364873 -->\n<g class=\"edge\" id=\"edge574\"><title>7431600475981143197-&gt;-7443139290563364873</title>\n<path d=\"M18653.5,-664.275C18656.7,-665.459 18659.9,-666.579 18662.9,-667.566 18820.5,-718.027 19012.4,-756.076 19107.5,-773.433\" fill=\"none\" stroke=\"black\"/>\n<polygon fill=\"black\" points=\"19107.1,-776.907 19117.6,-775.248 19108.3,-770.02 19107.1,-776.907\" stroke=\"black\"/>\n</g>\n<!-- 7431600475982308246 -->\n<g class=\"node\" id=\"node447\"><title>7431600475982308246</title>\n<polygon fill=\"none\" points=\"20000.4,-667.566 19937.4,-667.566 19937.4,-631.566 20000.4,-631.566 20000.4,-667.566\" stroke=\"black\"/>\n<text font-family=\"Times,serif\" font-size=\"14.00\" text-anchor=\"middle\" x=\"19968.9\" y=\"-645.866\">(0, 13)</text>\n</g>\n<!-- 2914728166759723595&#45;&gt;7431600475982308246 -->\n<g class=\"edge\" id=\"edge445\"><title>2914728166759723595-&gt;7431600475982308246</title>\n<path d=\"M20000.4,-567.198C19993,-586.416 19985.2,-606.481 19979.3,-621.877\" fill=\"none\" stroke=\"black\"/>\n<polygon fill=\"black\" points=\"19976,-620.676 19975.6,-631.265 19982.5,-623.199 19976,-620.676\" stroke=\"black\"/>\n</g>\n<!-- 7431600475982308246&#45;&gt;&#45;7443139290563364873 -->\n<g class=\"edge\" id=\"edge570\"><title>7431600475982308246-&gt;-7443139290563364873</title>\n<path d=\"M19937,-655.872C19816.1,-675.965 19385,-747.582 19226.2,-773.962\" fill=\"none\" stroke=\"black\"/>\n<polygon fill=\"black\" points=\"19225.4,-770.541 19216.2,-775.633 19226.6,-777.447 19225.4,-770.541\" stroke=\"black\"/>\n</g>\n<!-- 7431600475978813099 -->\n<g class=\"node\" id=\"node449\"><title>7431600475978813099</title>\n<polygon fill=\"none\" points=\"18977.4,-667.566 18914.4,-667.566 18914.4,-631.566 18977.4,-631.566 18977.4,-667.566\" stroke=\"black\"/>\n<text font-family=\"Times,serif\" font-size=\"14.00\" text-anchor=\"middle\" x=\"18945.9\" y=\"-645.866\">(0, 14)</text>\n</g>\n<!-- 8908653471342910770&#45;&gt;7431600475978813099 -->\n<g class=\"edge\" id=\"edge447\"><title>8908653471342910770-&gt;7431600475978813099</title>\n<path d=\"M18818.2,-558.513C18829.4,-571.476 18841.9,-584.678 18854.9,-595.566 18870.2,-608.345 18888.9,-619.839 18905.4,-628.829\" fill=\"none\" stroke=\"black\"/>\n<polygon fill=\"black\" points=\"18903.9,-631.956 18914.3,-633.559 18907.1,-625.775 18903.9,-631.956\" stroke=\"black\"/>\n</g>\n<!-- 7431600475978813099&#45;&gt;&#45;7443139290563364873 -->\n<g class=\"edge\" id=\"edge581\"><title>7431600475978813099-&gt;-7443139290563364873</title>\n<path d=\"M18974.4,-667.713C19009.9,-689.149 19071.5,-726.242 19115.4,-752.733\" fill=\"none\" stroke=\"black\"/>\n<polygon fill=\"black\" points=\"19113.8,-755.882 19124.2,-758.048 19117.5,-749.888 19113.8,-755.882\" stroke=\"black\"/>\n</g>\n<!-- 7431600475979978148 -->\n<g class=\"node\" id=\"node451\"><title>7431600475979978148</title>\n<polygon fill=\"none\" points=\"16752.4,-667.566 16689.4,-667.566 16689.4,-631.566 16752.4,-631.566 16752.4,-667.566\" stroke=\"black\"/>\n<text font-family=\"Times,serif\" font-size=\"14.00\" text-anchor=\"middle\" x=\"16720.9\" y=\"-645.866\">(0, 15)</text>\n</g>\n<!-- &#45;9049958838843629871&#45;&gt;7431600475979978148 -->\n<g class=\"edge\" id=\"edge449\"><title>-9049958838843629871-&gt;7431600475979978148</title>\n<path d=\"M14757.3,-561.658C14768.9,-575.219 14782.9,-587.923 14798.9,-595.566 14885.7,-636.816 16431.1,-626.372 16526.9,-631.566 16579.6,-634.42 16640.2,-640.112 16679.4,-644.121\" fill=\"none\" stroke=\"black\"/>\n<polygon fill=\"black\" points=\"16679.1,-647.607 16689.4,-645.152 16679.8,-640.644 16679.1,-647.607\" stroke=\"black\"/>\n</g>\n<!-- 7431600475979978148&#45;&gt;&#45;7443139290563364873 -->\n<g class=\"edge\" id=\"edge577\"><title>7431600475979978148-&gt;-7443139290563364873</title>\n<path d=\"M16752.6,-655.997C16776.1,-659.82 16808.9,-664.741 16837.9,-667.566 17737.6,-755.177 18839.5,-778.388 19106.6,-782.891\" fill=\"none\" stroke=\"black\"/>\n<polygon fill=\"black\" points=\"19106.8,-786.394 19116.8,-783.061 19106.9,-779.395 19106.8,-786.394\" stroke=\"black\"/>\n</g>\n<!-- 7431600475976483001 -->\n<g class=\"node\" id=\"node453\"><title>7431600475976483001</title>\n<polygon fill=\"none\" points=\"19394.4,-667.566 19331.4,-667.566 19331.4,-631.566 19394.4,-631.566 19394.4,-667.566\" stroke=\"black\"/>\n<text font-family=\"Times,serif\" font-size=\"14.00\" text-anchor=\"middle\" x=\"19362.9\" y=\"-645.866\">(0, 16)</text>\n</g>\n<!-- &#45;4166172290574193264&#45;&gt;7431600475976483001 -->\n<g class=\"edge\" id=\"edge451\"><title>-4166172290574193264-&gt;7431600475976483001</title>\n<path d=\"M19383.6,-569.733C19378.8,-587.997 19373.9,-606.805 19370,-621.467\" fill=\"none\" stroke=\"black\"/>\n<polygon fill=\"black\" points=\"19366.6,-620.783 19367.5,-631.344 19373.4,-622.558 19366.6,-620.783\" stroke=\"black\"/>\n</g>\n<!-- 7431600475976483001&#45;&gt;&#45;7443139290563364873 -->\n<g class=\"edge\" id=\"edge587\"><title>7431600475976483001-&gt;-7443139290563364873</title>\n<path d=\"M19337.7,-667.713C19307.2,-688.427 19255.3,-723.76 19216.6,-750.02\" fill=\"none\" stroke=\"black\"/>\n<polygon fill=\"black\" points=\"19214.4,-747.295 19208.1,-755.812 19218.4,-753.084 19214.4,-747.295\" stroke=\"black\"/>\n</g>\n<!-- 7431600475977648050 -->\n<g class=\"node\" id=\"node455\"><title>7431600475977648050</title>\n<polygon fill=\"none\" points=\"15447.4,-667.566 15384.4,-667.566 15384.4,-631.566 15447.4,-631.566 15447.4,-667.566\" stroke=\"black\"/>\n<text font-family=\"Times,serif\" font-size=\"14.00\" text-anchor=\"middle\" x=\"15415.9\" y=\"-645.866\">(0, 17)</text>\n</g>\n<!-- 7881897119024899695&#45;&gt;7431600475977648050 -->\n<g class=\"edge\" id=\"edge453\"><title>7881897119024899695-&gt;7431600475977648050</title>\n<path d=\"M14289.5,-561.358C14301,-574.92 14315,-587.699 14330.9,-595.566 14425.8,-642.32 15187.1,-647.832 15374.4,-648.48\" fill=\"none\" stroke=\"black\"/>\n<polygon fill=\"black\" points=\"15374.4,-651.98 15384.4,-648.512 15374.4,-644.98 15374.4,-651.98\" stroke=\"black\"/>\n</g>\n<!-- 7431600475977648050&#45;&gt;&#45;7443139290563364873 -->\n<g class=\"edge\" id=\"edge584\"><title>7431600475977648050-&gt;-7443139290563364873</title>\n<path d=\"M15447.5,-651.688C15781,-663.533 18652,-765.517 19106.5,-781.661\" fill=\"none\" stroke=\"black\"/>\n<polygon fill=\"black\" points=\"19106.6,-785.169 19116.7,-782.026 19106.9,-778.173 19106.6,-785.169\" stroke=\"black\"/>\n</g>\n<!-- 7431600475974152903 -->\n<g class=\"node\" id=\"node457\"><title>7431600475974152903</title>\n<polygon fill=\"none\" points=\"18896.4,-667.566 18833.4,-667.566 18833.4,-631.566 18896.4,-631.566 18896.4,-667.566\" stroke=\"black\"/>\n<text font-family=\"Times,serif\" font-size=\"14.00\" text-anchor=\"middle\" x=\"18864.9\" y=\"-645.866\">(0, 18)</text>\n</g>\n<!-- &#45;6279156885282265114&#45;&gt;7431600475974152903 -->\n<g class=\"edge\" id=\"edge455\"><title>-6279156885282265114-&gt;7431600475974152903</title>\n<path d=\"M18659.7,-559.939C18671,-573.175 18684.3,-586.15 18698.9,-595.566 18745.3,-625.466 18767.6,-613.591 18823.5,-631.397\" fill=\"none\" stroke=\"black\"/>\n<polygon fill=\"black\" points=\"18822.6,-634.776 18833.2,-634.66 18824.8,-628.144 18822.6,-634.776\" stroke=\"black\"/>\n</g>\n<!-- 7431600475974152903&#45;&gt;&#45;7443139290563364873 -->\n<g class=\"edge\" id=\"edge594\"><title>7431600475974152903-&gt;-7443139290563364873</title>\n<path d=\"M18896.7,-664.574C18947.8,-687.135 19049.1,-731.799 19112.1,-759.599\" fill=\"none\" stroke=\"black\"/>\n<polygon fill=\"black\" points=\"19110.9,-762.907 19121.5,-763.741 19113.7,-756.502 19110.9,-762.907\" stroke=\"black\"/>\n</g>\n<!-- 7431600475975317952 -->\n<g class=\"node\" id=\"node459\"><title>7431600475975317952</title>\n<polygon fill=\"none\" points=\"18005.4,-667.566 17942.4,-667.566 17942.4,-631.566 18005.4,-631.566 18005.4,-667.566\" stroke=\"black\"/>\n<text font-family=\"Times,serif\" font-size=\"14.00\" text-anchor=\"middle\" x=\"17973.9\" y=\"-645.866\">(0, 19)</text>\n</g>\n<!-- &#45;5241867630276298139&#45;&gt;7431600475975317952 -->\n<g class=\"edge\" id=\"edge457\"><title>-5241867630276298139-&gt;7431600475975317952</title>\n<path d=\"M16941.4,-561.475C16953,-575.037 16966.9,-587.786 16982.9,-595.566 17075.5,-640.584 17791.5,-610.206 17932.3,-632.047\" fill=\"none\" stroke=\"black\"/>\n<polygon fill=\"black\" points=\"17931.9,-635.547 17942.4,-633.939 17933.2,-628.665 17931.9,-635.547\" stroke=\"black\"/>\n</g>\n<!-- 7431600475975317952&#45;&gt;&#45;7443139290563364873 -->\n<g class=\"edge\" id=\"edge590\"><title>7431600475975317952-&gt;-7443139290563364873</title>\n<path d=\"M18005.9,-664.843C18008.9,-665.881 18012,-666.813 18014.9,-667.566 18422.8,-770.319 18933.5,-782.76 19106.5,-783.876\" fill=\"none\" stroke=\"black\"/>\n<polygon fill=\"black\" points=\"19106.6,-787.377 19116.6,-783.931 19106.7,-780.377 19106.6,-787.377\" stroke=\"black\"/>\n</g>\n<!-- 7431600475971822805 -->\n<g class=\"node\" id=\"node461\"><title>7431600475971822805</title>\n<polygon fill=\"none\" points=\"18248.4,-667.566 18185.4,-667.566 18185.4,-631.566 18248.4,-631.566 18248.4,-667.566\" stroke=\"black\"/>\n<text font-family=\"Times,serif\" font-size=\"14.00\" text-anchor=\"middle\" x=\"18216.9\" y=\"-645.866\">(0, 20)</text>\n</g>\n<!-- &#45;931642049440824764&#45;&gt;7431600475971822805 -->\n<g class=\"edge\" id=\"edge459\"><title>-931642049440824764-&gt;7431600475971822805</title>\n<path d=\"M17409.5,-561.35C17421,-574.912 17435,-587.693 17450.9,-595.566 17593,-665.65 18003.1,-598.16 18175.4,-631.84\" fill=\"none\" stroke=\"black\"/>\n<polygon fill=\"black\" points=\"18174.9,-635.312 18185.4,-633.975 18176.4,-628.466 18174.9,-635.312\" stroke=\"black\"/>\n</g>\n<!-- 7431600475971822805&#45;&gt;&#45;7443139290563364873 -->\n<g class=\"edge\" id=\"edge602\"><title>7431600475971822805-&gt;-7443139290563364873</title>\n<path d=\"M18248.9,-664.758C18251.9,-665.813 18255,-666.774 18257.9,-667.566 18570.2,-750.685 18959.2,-775.085 19106.6,-781.618\" fill=\"none\" stroke=\"black\"/>\n<polygon fill=\"black\" points=\"19106.6,-785.124 19116.8,-782.058 19106.9,-778.13 19106.6,-785.124\" stroke=\"black\"/>\n</g>\n<!-- 7431600475972987854 -->\n<g class=\"node\" id=\"node463\"><title>7431600475972987854</title>\n<polygon fill=\"none\" points=\"18734.4,-667.566 18671.4,-667.566 18671.4,-631.566 18734.4,-631.566 18734.4,-667.566\" stroke=\"black\"/>\n<text font-family=\"Times,serif\" font-size=\"14.00\" text-anchor=\"middle\" x=\"18702.9\" y=\"-645.866\">(0, 21)</text>\n</g>\n<!-- 110860468067313811&#45;&gt;7431600475972987854 -->\n<g class=\"edge\" id=\"edge461\"><title>110860468067313811-&gt;7431600475972987854</title>\n<path d=\"M18346.3,-560.981C18357.8,-574.371 18371.5,-587.16 18386.9,-595.566 18492.7,-653.149 18541,-601.927 18661.4,-631.623\" fill=\"none\" stroke=\"black\"/>\n<polygon fill=\"black\" points=\"18660.8,-635.079 18671.3,-634.217 18662.6,-628.306 18660.8,-635.079\" stroke=\"black\"/>\n</g>\n<!-- 7431600475972987854&#45;&gt;&#45;7443139290563364873 -->\n<g class=\"edge\" id=\"edge598\"><title>7431600475972987854-&gt;-7443139290563364873</title>\n<path d=\"M18734.6,-664.141C18737.7,-665.352 18740.9,-666.516 18743.9,-667.566 18871.9,-711.474 19025.9,-750.404 19108.2,-770.132\" fill=\"none\" stroke=\"black\"/>\n<polygon fill=\"black\" points=\"19107.6,-773.583 19118.1,-772.499 19109.2,-766.774 19107.6,-773.583\" stroke=\"black\"/>\n</g>\n<!-- 7431600475969492707 -->\n<g class=\"node\" id=\"node465\"><title>7431600475969492707</title>\n<polygon fill=\"none\" points=\"14021.4,-667.566 13958.4,-667.566 13958.4,-631.566 14021.4,-631.566 14021.4,-667.566\" stroke=\"black\"/>\n<text font-family=\"Times,serif\" font-size=\"14.00\" text-anchor=\"middle\" x=\"13989.9\" y=\"-645.866\">(0, 22)</text>\n</g>\n<!-- &#45;3413963706736139014&#45;&gt;7431600475969492707 -->\n<g class=\"edge\" id=\"edge463\"><title>-3413963706736139014-&gt;7431600475969492707</title>\n<path d=\"M13962.7,-568.042C13969.1,-586.963 13975.8,-606.624 13980.9,-621.783\" fill=\"none\" stroke=\"black\"/>\n<polygon fill=\"black\" points=\"13977.7,-623.141 13984.2,-631.493 13984.3,-620.899 13977.7,-623.141\" stroke=\"black\"/>\n</g>\n<!-- 7431600475969492707&#45;&gt;&#45;7443139290563364873 -->\n<g class=\"edge\" id=\"edge610\"><title>7431600475969492707-&gt;-7443139290563364873</title>\n<path d=\"M14021.8,-657.818C14039.1,-661.449 14061.1,-665.502 14080.9,-667.566 15123.5,-776.145 18605.4,-783.309 19106.6,-783.777\" fill=\"none\" stroke=\"black\"/>\n<polygon fill=\"black\" points=\"19106.9,-787.277 19116.9,-783.786 19106.9,-780.277 19106.9,-787.277\" stroke=\"black\"/>\n</g>\n<!-- 7431600475970657756 -->\n<g class=\"node\" id=\"node467\"><title>7431600475970657756</title>\n<polygon fill=\"none\" points=\"16139.4,-667.566 16076.4,-667.566 16076.4,-631.566 16139.4,-631.566 16139.4,-667.566\" stroke=\"black\"/>\n<text font-family=\"Times,serif\" font-size=\"14.00\" text-anchor=\"middle\" x=\"16107.9\" y=\"-645.866\">(0, 23)</text>\n</g>\n<!-- &#45;2372042932949560039&#45;&gt;7431600475970657756 -->\n<g class=\"edge\" id=\"edge465\"><title>-2372042932949560039-&gt;7431600475970657756</title>\n<path d=\"M14445.4,-561.53C14456.9,-575.092 14470.9,-587.828 14486.9,-595.566 14505.3,-604.418 15813.8,-640.541 16066.1,-647.429\" fill=\"none\" stroke=\"black\"/>\n<polygon fill=\"black\" points=\"16066.2,-650.933 16076.3,-647.707 16066.4,-643.936 16066.2,-650.933\" stroke=\"black\"/>\n</g>\n<!-- 7431600475970657756&#45;&gt;&#45;7443139290563364873 -->\n<g class=\"edge\" id=\"edge606\"><title>7431600475970657756-&gt;-7443139290563364873</title>\n<path d=\"M16139.5,-652.178C16200.5,-655.275 16338.7,-662.226 16454.9,-667.566 17516.9,-716.34 18813.2,-769.419 19106.2,-781.342\" fill=\"none\" stroke=\"black\"/>\n<polygon fill=\"black\" points=\"19106.4,-784.856 19116.6,-781.765 19106.7,-777.862 19106.4,-784.856\" stroke=\"black\"/>\n</g>\n<!-- 7431600475967162609 -->\n<g class=\"node\" id=\"node469\"><title>7431600475967162609</title>\n<polygon fill=\"none\" points=\"18410.4,-667.566 18347.4,-667.566 18347.4,-631.566 18410.4,-631.566 18410.4,-667.566\" stroke=\"black\"/>\n<text font-family=\"Times,serif\" font-size=\"14.00\" text-anchor=\"middle\" x=\"18378.9\" y=\"-645.866\">(0, 24)</text>\n</g>\n<!-- 4190043985877597336&#45;&gt;7431600475967162609 -->\n<g class=\"edge\" id=\"edge467\"><title>4190043985877597336-&gt;7431600475967162609</title>\n<path d=\"M17721.6,-561.213C17733.1,-574.775 17747,-587.59 17762.9,-595.566 17874.8,-651.654 18197.8,-604.486 18337.3,-631.819\" fill=\"none\" stroke=\"black\"/>\n<polygon fill=\"black\" points=\"18336.9,-635.314 18347.4,-634.014 18338.4,-628.473 18336.9,-635.314\" stroke=\"black\"/>\n</g>\n<!-- 7431600475967162609&#45;&gt;&#45;7443139290563364873 -->\n<g class=\"edge\" id=\"edge618\"><title>7431600475967162609-&gt;-7443139290563364873</title>\n<path d=\"M18410.5,-664.51C18413.6,-665.646 18416.8,-666.691 18419.9,-667.566 18669.4,-737.601 18978.3,-768.746 19106.7,-779.334\" fill=\"none\" stroke=\"black\"/>\n<polygon fill=\"black\" points=\"19106.4,-782.828 19116.7,-780.15 19107,-775.851 19106.4,-782.828\" stroke=\"black\"/>\n</g>\n<!-- 7431600475968327658 -->\n<g class=\"node\" id=\"node471\"><title>7431600475968327658</title>\n<polygon fill=\"none\" points=\"18167.4,-667.566 18104.4,-667.566 18104.4,-631.566 18167.4,-631.566 18167.4,-667.566\" stroke=\"black\"/>\n<text font-family=\"Times,serif\" font-size=\"14.00\" text-anchor=\"middle\" x=\"18135.9\" y=\"-645.866\">(0, 25)</text>\n</g>\n<!-- 5180897605457008311&#45;&gt;7431600475968327658 -->\n<g class=\"edge\" id=\"edge469\"><title>5180897605457008311-&gt;7431600475968327658</title>\n<path d=\"M17253.5,-561.4C17265,-574.961 17279,-587.73 17294.9,-595.566 17452.1,-672.663 17905.9,-594.924 18094.5,-631.866\" fill=\"none\" stroke=\"black\"/>\n<polygon fill=\"black\" points=\"18093.9,-635.308 18104.4,-633.961 18095.4,-628.461 18093.9,-635.308\" stroke=\"black\"/>\n</g>\n<!-- 7431600475968327658&#45;&gt;&#45;7443139290563364873 -->\n<g class=\"edge\" id=\"edge614\"><title>7431600475968327658-&gt;-7443139290563364873</title>\n<path d=\"M18167.9,-664.791C18170.9,-665.839 18174,-666.789 18176.9,-667.566 18520.9,-757.221 18950.3,-777.84 19106.5,-782.488\" fill=\"none\" stroke=\"black\"/>\n<polygon fill=\"black\" points=\"19106.8,-785.996 19116.9,-782.784 19107,-778.999 19106.8,-785.996\" stroke=\"black\"/>\n</g>\n<!-- 7431600475964832511 -->\n<g class=\"node\" id=\"node473\"><title>7431600475964832511</title>\n<polygon fill=\"none\" points=\"21244.4,-667.566 21181.4,-667.566 21181.4,-631.566 21244.4,-631.566 21244.4,-667.566\" stroke=\"black\"/>\n<text font-family=\"Times,serif\" font-size=\"14.00\" text-anchor=\"middle\" x=\"21212.9\" y=\"-645.866\">(0, 26)</text>\n</g>\n<!-- 1663846742983674286&#45;&gt;7431600475964832511 -->\n<g class=\"edge\" id=\"edge471\"><title>1663846742983674286-&gt;7431600475964832511</title>\n<path d=\"M21246.8,-566.776C21238.8,-586.176 21230.4,-606.481 21223.9,-622.007\" fill=\"none\" stroke=\"black\"/>\n<polygon fill=\"black\" points=\"21220.6,-620.884 21220,-631.462 21227.1,-623.561 21220.6,-620.884\" stroke=\"black\"/>\n</g>\n<!-- 7431600475964832511&#45;&gt;&#45;7443139290563364873 -->\n<g class=\"edge\" id=\"edge626\"><title>7431600475964832511-&gt;-7443139290563364873</title>\n<path d=\"M21181.2,-655.775C21157.1,-659.562 21123,-664.537 21092.9,-667.566 20360.2,-741.463 19465.5,-774.169 19227.5,-781.931\" fill=\"none\" stroke=\"black\"/>\n<polygon fill=\"black\" points=\"19227.2,-778.439 19217.3,-782.261 19227.4,-785.435 19227.2,-778.439\" stroke=\"black\"/>\n</g>\n<!-- 7431600475965997560 -->\n<g class=\"node\" id=\"node475\"><title>7431600475965997560</title>\n<polygon fill=\"none\" points=\"17297.4,-667.566 17234.4,-667.566 17234.4,-631.566 17297.4,-631.566 17297.4,-667.566\" stroke=\"black\"/>\n<text font-family=\"Times,serif\" font-size=\"14.00\" text-anchor=\"middle\" x=\"17265.9\" y=\"-645.866\">(0, 27)</text>\n</g>\n<!-- 2568746880981910061&#45;&gt;7431600475965997560 -->\n<g class=\"edge\" id=\"edge473\"><title>2568746880981910061-&gt;7431600475965997560</title>\n<path d=\"M15537.4,-561.646C15548.9,-575.207 15562.9,-587.914 15578.9,-595.566 15661.3,-634.809 17131.4,-614.194 17220.9,-631.566 17222.2,-631.808 17223.4,-632.08 17224.7,-632.38\" fill=\"none\" stroke=\"black\"/>\n<polygon fill=\"black\" points=\"17223.8,-635.761 17234.4,-635.12 17225.7,-629.026 17223.8,-635.761\" stroke=\"black\"/>\n</g>\n<!-- 7431600475965997560&#45;&gt;&#45;7443139290563364873 -->\n<g class=\"edge\" id=\"edge622\"><title>7431600475965997560-&gt;-7443139290563364873</title>\n<path d=\"M17297.5,-664.336C17301.3,-665.605 17305.2,-666.727 17308.9,-667.566 17663.4,-746.639 18827.4,-776.464 19106.4,-782.569\" fill=\"none\" stroke=\"black\"/>\n<polygon fill=\"black\" points=\"19106.7,-786.075 19116.8,-782.793 19106.8,-779.077 19106.7,-786.075\" stroke=\"black\"/>\n</g>\n<!-- 7431600475962502413 -->\n<g class=\"node\" id=\"node477\"><title>7431600475962502413</title>\n<polygon fill=\"none\" points=\"17536.4,-667.566 17473.4,-667.566 17473.4,-631.566 17536.4,-631.566 17536.4,-667.566\" stroke=\"black\"/>\n<text font-family=\"Times,serif\" font-size=\"14.00\" text-anchor=\"middle\" x=\"17504.9\" y=\"-645.866\">(0, 28)</text>\n</g>\n<!-- 6996264455645173836&#45;&gt;7431600475962502413 -->\n<g class=\"edge\" id=\"edge475\"><title>6996264455645173836-&gt;7431600475962502413</title>\n<path d=\"M16005.4,-561.608C16016.9,-575.17 16030.9,-587.886 16046.9,-595.566 16188.9,-663.503 17308.9,-599.526 17462.9,-631.566 17463,-631.588 17463.2,-631.611 17463.3,-631.633\" fill=\"none\" stroke=\"black\"/>\n<polygon fill=\"black\" points=\"17462.6,-635.092 17473.2,-634.35 17464.5,-628.339 17462.6,-635.092\" stroke=\"black\"/>\n</g>\n<!-- 7431600475962502413&#45;&gt;&#45;7443139290563364873 -->\n<g class=\"edge\" id=\"edge565\"><title>7431600475962502413-&gt;-7443139290563364873</title>\n<path d=\"M17536.8,-664.935C17539.9,-665.954 17542.9,-666.857 17545.9,-667.566 17851.3,-739.808 18849.7,-774.265 19106.3,-782.062\" fill=\"none\" stroke=\"black\"/>\n<polygon fill=\"black\" points=\"19106.5,-785.568 19116.6,-782.371 19106.7,-778.571 19106.5,-785.568\" stroke=\"black\"/>\n</g>\n<!-- 7431600475963667462 -->\n<g class=\"node\" id=\"node479\"><title>7431600475963667462</title>\n<polygon fill=\"none\" points=\"21559.4,-667.566 21496.4,-667.566 21496.4,-631.566 21559.4,-631.566 21559.4,-667.566\" stroke=\"black\"/>\n<text font-family=\"Times,serif\" font-size=\"14.00\" text-anchor=\"middle\" x=\"21527.9\" y=\"-645.866\">(0, 29)</text>\n</g>\n<!-- 8510403845745484443&#45;&gt;7431600475963667462 -->\n<g class=\"edge\" id=\"edge477\"><title>8510403845745484443-&gt;7431600475963667462</title>\n<path d=\"M21559.9,-567.198C21552.4,-586.416 21544.5,-606.481 21538.4,-621.877\" fill=\"none\" stroke=\"black\"/>\n<polygon fill=\"black\" points=\"21535.1,-620.678 21534.7,-631.265 21541.7,-623.24 21535.1,-620.678\" stroke=\"black\"/>\n</g>\n<!-- 7431600475963667462&#45;&gt;&#45;7443139290563364873 -->\n<g class=\"edge\" id=\"edge561\"><title>7431600475963667462-&gt;-7443139290563364873</title>\n<path d=\"M21496,-656.065C21472.8,-659.87 21440.5,-664.74 21411.9,-667.566 20547.2,-753.128 19488.5,-777.788 19227.3,-782.761\" fill=\"none\" stroke=\"black\"/>\n<polygon fill=\"black\" points=\"19227.2,-779.262 19217.2,-782.95 19227.3,-786.261 19227.2,-779.262\" stroke=\"black\"/>\n</g>\n<!-- 7431600475960172315 -->\n<g class=\"node\" id=\"node481\"><title>7431600475960172315</title>\n<polygon fill=\"none\" points=\"17698.4,-667.566 17635.4,-667.566 17635.4,-631.566 17698.4,-631.566 17698.4,-667.566\" stroke=\"black\"/>\n<text font-family=\"Times,serif\" font-size=\"14.00\" text-anchor=\"middle\" x=\"17666.9\" y=\"-645.866\">(0, 30)</text>\n</g>\n<!-- &#45;6208228540302974398&#45;&gt;7431600475960172315 -->\n<g class=\"edge\" id=\"edge479\"><title>-6208228540302974398-&gt;7431600475960172315</title>\n<path d=\"M16317.4,-561.577C16328.9,-575.138 16342.9,-587.862 16358.9,-595.566 16483.4,-655.344 17448.5,-603.69 17625.4,-632.024\" fill=\"none\" stroke=\"black\"/>\n<polygon fill=\"black\" points=\"17624.9,-635.507 17635.4,-633.91 17626.2,-628.627 17624.9,-635.507\" stroke=\"black\"/>\n</g>\n<!-- 7431600475960172315&#45;&gt;&#45;7443139290563364873 -->\n<g class=\"edge\" id=\"edge573\"><title>7431600475960172315-&gt;-7443139290563364873</title>\n<path d=\"M17698.9,-664.91C17701.9,-665.934 17704.9,-666.845 17707.9,-667.566 17980.4,-733.174 18866.7,-772.027 19106.6,-781.519\" fill=\"none\" stroke=\"black\"/>\n<polygon fill=\"black\" points=\"19106.7,-785.027 19116.8,-781.923 19107,-778.032 19106.7,-785.027\" stroke=\"black\"/>\n</g>\n<!-- 7431600475961337364 -->\n<g class=\"node\" id=\"node483\"><title>7431600475961337364</title>\n<polygon fill=\"none\" points=\"19139.4,-667.566 19076.4,-667.566 19076.4,-631.566 19139.4,-631.566 19139.4,-667.566\" stroke=\"black\"/>\n<text font-family=\"Times,serif\" font-size=\"14.00\" text-anchor=\"middle\" x=\"19107.9\" y=\"-645.866\">(0, 31)</text>\n</g>\n<!-- 5954343114377339361&#45;&gt;7431600475961337364 -->\n<g class=\"edge\" id=\"edge481\"><title>5954343114377339361-&gt;7431600475961337364</title>\n<path d=\"M19097.8,-571.004C19100.1,-588.795 19102.5,-606.997 19104.4,-621.293\" fill=\"none\" stroke=\"black\"/>\n<polygon fill=\"black\" points=\"19100.9,-621.933 19105.7,-631.393 19107.9,-621.023 19100.9,-621.933\" stroke=\"black\"/>\n</g>\n<!-- 7431600475961337364&#45;&gt;&#45;7443139290563364873 -->\n<g class=\"edge\" id=\"edge569\"><title>7431600475961337364-&gt;-7443139290563364873</title>\n<path d=\"M19115.5,-667.713C19122.5,-683.334 19133,-707.269 19142.8,-729.357\" fill=\"none\" stroke=\"black\"/>\n<polygon fill=\"black\" points=\"19139.7,-730.954 19147,-738.68 19146.1,-728.12 19139.7,-730.954\" stroke=\"black\"/>\n</g>\n<!-- 7431600475957842217 -->\n<g class=\"node\" id=\"node485\"><title>7431600475957842217</title>\n<polygon fill=\"none\" points=\"20156.4,-667.566 20093.4,-667.566 20093.4,-631.566 20156.4,-631.566 20156.4,-667.566\" stroke=\"black\"/>\n<text font-family=\"Times,serif\" font-size=\"14.00\" text-anchor=\"middle\" x=\"20124.9\" y=\"-645.866\">(0, 32)</text>\n</g>\n<!-- &#45;7588790310315682848&#45;&gt;7431600475957842217 -->\n<g class=\"edge\" id=\"edge483\"><title>-7588790310315682848-&gt;7431600475957842217</title>\n<path d=\"M20156.4,-567.198C20149,-586.416 20141.2,-606.481 20135.3,-621.877\" fill=\"none\" stroke=\"black\"/>\n<polygon fill=\"black\" points=\"20132,-620.676 20131.6,-631.265 20138.5,-623.199 20132,-620.676\" stroke=\"black\"/>\n</g>\n<!-- 7431600475957842217&#45;&gt;&#45;7443139290563364873 -->\n<g class=\"edge\" id=\"edge580\"><title>7431600475957842217-&gt;-7443139290563364873</title>\n<path d=\"M20093.2,-655.34C20070.1,-658.794 20038.1,-663.542 20009.9,-667.566 19716.4,-709.505 19364.9,-757.142 19226.8,-775.757\" fill=\"none\" stroke=\"black\"/>\n<polygon fill=\"black\" points=\"19226.3,-772.296 19216.8,-777.1 19227.2,-779.233 19226.3,-772.296\" stroke=\"black\"/>\n</g>\n<!-- 7431600475959007266 -->\n<g class=\"node\" id=\"node487\"><title>7431600475959007266</title>\n<polygon fill=\"none\" points=\"21402.4,-667.566 21339.4,-667.566 21339.4,-631.566 21402.4,-631.566 21402.4,-667.566\" stroke=\"black\"/>\n<text font-family=\"Times,serif\" font-size=\"14.00\" text-anchor=\"middle\" x=\"21370.9\" y=\"-645.866\">(0, 33)</text>\n</g>\n<!-- &#45;7243250981745247873&#45;&gt;7431600475959007266 -->\n<g class=\"edge\" id=\"edge485\"><title>-7243250981745247873-&gt;7431600475959007266</title>\n<path d=\"M21403.7,-566.776C21395.9,-586.176 21387.8,-606.481 21381.6,-622.007\" fill=\"none\" stroke=\"black\"/>\n<polygon fill=\"black\" points=\"21378.3,-620.878 21377.8,-631.462 21384.8,-623.478 21378.3,-620.878\" stroke=\"black\"/>\n</g>\n<!-- 7431600475959007266&#45;&gt;&#45;7443139290563364873 -->\n<g class=\"edge\" id=\"edge576\"><title>7431600475959007266-&gt;-7443139290563364873</title>\n<path d=\"M21339.3,-655.947C21315.8,-659.745 21282.9,-664.658 21253.9,-667.566 20454.8,-747.719 19477.6,-776.165 19227.5,-782.4\" fill=\"none\" stroke=\"black\"/>\n<polygon fill=\"black\" points=\"19227.1,-778.909 19217.1,-782.655 19227.2,-785.907 19227.1,-778.909\" stroke=\"black\"/>\n</g>\n<!-- 7431600475955512119 -->\n<g class=\"node\" id=\"node489\"><title>7431600475955512119</title>\n<polygon fill=\"none\" points=\"22183.4,-667.566 22120.4,-667.566 22120.4,-631.566 22183.4,-631.566 22183.4,-667.566\" stroke=\"black\"/>\n<text font-family=\"Times,serif\" font-size=\"14.00\" text-anchor=\"middle\" x=\"22151.9\" y=\"-645.866\">(0, 34)</text>\n</g>\n<!-- &#45;1085839059004741898&#45;&gt;7431600475955512119 -->\n<g class=\"edge\" id=\"edge487\"><title>-1085839059004741898-&gt;7431600475955512119</title>\n<path d=\"M22183.9,-567.198C22176.4,-586.416 22168.5,-606.481 22162.4,-621.877\" fill=\"none\" stroke=\"black\"/>\n<polygon fill=\"black\" points=\"22159.1,-620.678 22158.7,-631.265 22165.7,-623.24 22159.1,-620.678\" stroke=\"black\"/>\n</g>\n<!-- 7431600475955512119&#45;&gt;&#45;7443139290563364873 -->\n<g class=\"edge\" id=\"edge586\"><title>7431600475955512119-&gt;-7443139290563364873</title>\n<path d=\"M22120.3,-656.165C22097.3,-660.019 22065.3,-664.906 22036.9,-667.566 20912.1,-773.187 19530.3,-782.903 19227.4,-783.741\" fill=\"none\" stroke=\"black\"/>\n<polygon fill=\"black\" points=\"19227.1,-780.242 19217.1,-783.767 19227.1,-787.242 19227.1,-780.242\" stroke=\"black\"/>\n</g>\n<!-- 7431600475956677168 -->\n<g class=\"node\" id=\"node491\"><title>7431600475956677168</title>\n<polygon fill=\"none\" points=\"16909.4,-667.566 16846.4,-667.566 16846.4,-631.566 16909.4,-631.566 16909.4,-667.566\" stroke=\"black\"/>\n<text font-family=\"Times,serif\" font-size=\"14.00\" text-anchor=\"middle\" x=\"16877.9\" y=\"-645.866\">(0, 35)</text>\n</g>\n<!-- &#45;8621272673814782923&#45;&gt;7431600475956677168 -->\n<g class=\"edge\" id=\"edge489\"><title>-8621272673814782923-&gt;7431600475956677168</title>\n<path d=\"M14913.3,-561.668C14924.9,-575.229 14938.9,-587.93 14954.9,-595.566 15045.6,-638.66 16661.9,-623.27 16761.9,-631.566 16786.6,-633.613 16814.1,-637.557 16836.1,-641.131\" fill=\"none\" stroke=\"black\"/>\n<polygon fill=\"black\" points=\"16835.6,-644.607 16846.1,-642.792 16836.8,-637.701 16835.6,-644.607\" stroke=\"black\"/>\n</g>\n<!-- 7431600475956677168&#45;&gt;&#45;7443139290563364873 -->\n<g class=\"edge\" id=\"edge583\"><title>7431600475956677168-&gt;-7443139290563364873</title>\n<path d=\"M16909.6,-658.597C16924,-661.919 16941.2,-665.476 16956.9,-667.566 17804,-780.255 18847.4,-784.877 19106.6,-784.15\" fill=\"none\" stroke=\"black\"/>\n<polygon fill=\"black\" points=\"19106.9,-787.65 19116.9,-784.117 19106.9,-780.65 19106.9,-787.65\" stroke=\"black\"/>\n</g>\n<!-- 7431600475953182021 -->\n<g class=\"node\" id=\"node493\"><title>7431600475953182021</title>\n<polygon fill=\"none\" points=\"17924.4,-667.566 17861.4,-667.566 17861.4,-631.566 17924.4,-631.566 17924.4,-667.566\" stroke=\"black\"/>\n<text font-family=\"Times,serif\" font-size=\"14.00\" text-anchor=\"middle\" x=\"17892.9\" y=\"-645.866\">(0, 36)</text>\n</g>\n<!-- &#45;3219146930007363948&#45;&gt;7431600475953182021 -->\n<g class=\"edge\" id=\"edge491\"><title>-3219146930007363948-&gt;7431600475953182021</title>\n<path d=\"M16785.4,-561.505C16797,-575.066 16810.9,-587.808 16826.9,-595.566 16927,-644.043 17701.4,-609.154 17851,-632.236\" fill=\"none\" stroke=\"black\"/>\n<polygon fill=\"black\" points=\"17850.6,-635.716 17861.1,-634.08 17851.9,-628.831 17850.6,-635.716\" stroke=\"black\"/>\n</g>\n<!-- 7431600475953182021&#45;&gt;&#45;7443139290563364873 -->\n<g class=\"edge\" id=\"edge593\"><title>7431600475953182021-&gt;-7443139290563364873</title>\n<path d=\"M17924.9,-664.864C17927.9,-665.897 17931,-666.823 17933.9,-667.566 18374,-776.911 18925.9,-784.986 19106.6,-784.438\" fill=\"none\" stroke=\"black\"/>\n<polygon fill=\"black\" points=\"19106.7,-787.937 19116.7,-784.397 19106.7,-780.937 19106.7,-787.937\" stroke=\"black\"/>\n</g>\n<!-- 7431600475954347070 -->\n<g class=\"node\" id=\"node495\"><title>7431600475954347070</title>\n<polygon fill=\"none\" points=\"17028.4,-667.566 16965.4,-667.566 16965.4,-631.566 17028.4,-631.566 17028.4,-667.566\" stroke=\"black\"/>\n<text font-family=\"Times,serif\" font-size=\"14.00\" text-anchor=\"middle\" x=\"16996.9\" y=\"-645.866\">(0, 37)</text>\n</g>\n<!-- &#45;2179023525599951773&#45;&gt;7431600475954347070 -->\n<g class=\"edge\" id=\"edge493\"><title>-2179023525599951773-&gt;7431600475954347070</title>\n<path d=\"M15069.3,-561.668C15080.9,-575.229 15094.9,-587.93 15110.9,-595.566 15201.7,-638.683 16819.2,-619.814 16918.9,-631.566 16930.9,-632.971 16943.7,-635.371 16955.3,-637.933\" fill=\"none\" stroke=\"black\"/>\n<polygon fill=\"black\" points=\"16954.8,-641.391 16965.3,-640.205 16956.3,-634.567 16954.8,-641.391\" stroke=\"black\"/>\n</g>\n<!-- 7431600475954347070&#45;&gt;&#45;7443139290563364873 -->\n<g class=\"edge\" id=\"edge589\"><title>7431600475954347070-&gt;-7443139290563364873</title>\n<path d=\"M17028.7,-660.981C17037.7,-663.553 17047.7,-666.014 17056.9,-667.566 17467.1,-736.099 18805.3,-774.407 19106.4,-782.282\" fill=\"none\" stroke=\"black\"/>\n<polygon fill=\"black\" points=\"19106.6,-785.787 19116.7,-782.549 19106.8,-778.79 19106.6,-785.787\" stroke=\"black\"/>\n</g>\n<!-- 7431600475950851923 -->\n<g class=\"node\" id=\"node497\"><title>7431600475950851923</title>\n<polygon fill=\"none\" points=\"19844.4,-667.566 19781.4,-667.566 19781.4,-631.566 19844.4,-631.566 19844.4,-667.566\" stroke=\"black\"/>\n<text font-family=\"Times,serif\" font-size=\"14.00\" text-anchor=\"middle\" x=\"19812.9\" y=\"-645.866\">(0, 38)</text>\n</g>\n<!-- 2152195561815073802&#45;&gt;7431600475950851923 -->\n<g class=\"edge\" id=\"edge495\"><title>2152195561815073802-&gt;7431600475950851923</title>\n<path d=\"M19844.4,-567.198C19837,-586.416 19829.2,-606.481 19823.3,-621.877\" fill=\"none\" stroke=\"black\"/>\n<polygon fill=\"black\" points=\"19820,-620.676 19819.6,-631.265 19826.5,-623.199 19820,-620.676\" stroke=\"black\"/>\n</g>\n<!-- 7431600475950851923&#45;&gt;&#45;7443139290563364873 -->\n<g class=\"edge\" id=\"edge601\"><title>7431600475950851923-&gt;-7443139290563364873</title>\n<path d=\"M19781.3,-657.083C19679.6,-678.063 19359.6,-744.079 19226.2,-771.588\" fill=\"none\" stroke=\"black\"/>\n<polygon fill=\"black\" points=\"19225.2,-768.21 19216.2,-773.658 19226.7,-775.066 19225.2,-768.21\" stroke=\"black\"/>\n</g>\n<!-- 7431600475952016972 -->\n<g class=\"node\" id=\"node499\"><title>7431600475952016972</title>\n<polygon fill=\"none\" points=\"18491.4,-667.566 18428.4,-667.566 18428.4,-631.566 18491.4,-631.566 18491.4,-667.566\" stroke=\"black\"/>\n<text font-family=\"Times,serif\" font-size=\"14.00\" text-anchor=\"middle\" x=\"18459.9\" y=\"-645.866\">(0, 39)</text>\n</g>\n<!-- 3178953048632275177&#45;&gt;7431600475952016972 -->\n<g class=\"edge\" id=\"edge497\"><title>3178953048632275177-&gt;7431600475952016972</title>\n<path d=\"M17877.6,-561.114C17889.1,-574.676 17903.1,-587.516 17918.9,-595.566 18015.8,-644.686 18295.6,-607.538 18418.4,-631.843\" fill=\"none\" stroke=\"black\"/>\n<polygon fill=\"black\" points=\"18417.9,-635.309 18428.4,-634.042 18419.4,-628.473 18417.9,-635.309\" stroke=\"black\"/>\n</g>\n<!-- 7431600475952016972&#45;&gt;&#45;7443139290563364873 -->\n<g class=\"edge\" id=\"edge597\"><title>7431600475952016972-&gt;-7443139290563364873</title>\n<path d=\"M18491.5,-664.45C18494.6,-665.598 18497.8,-666.663 18500.9,-667.566 18719.5,-731.101 18989,-765.077 19107,-777.823\" fill=\"none\" stroke=\"black\"/>\n<polygon fill=\"black\" points=\"19106.9,-781.336 19117.2,-778.919 19107.6,-774.376 19106.9,-781.336\" stroke=\"black\"/>\n</g>\n<!-- 7431600475948521825 -->\n<g class=\"node\" id=\"node501\"><title>7431600475948521825</title>\n<polygon fill=\"none\" points=\"17211.4,-667.566 17148.4,-667.566 17148.4,-631.566 17211.4,-631.566 17211.4,-667.566\" stroke=\"black\"/>\n<text font-family=\"Times,serif\" font-size=\"14.00\" text-anchor=\"middle\" x=\"17179.9\" y=\"-645.866\">(0, 40)</text>\n</g>\n<!-- &#45;375823640238556248&#45;&gt;7431600475948521825 -->\n<g class=\"edge\" id=\"edge499\"><title>-375823640238556248-&gt;7431600475948521825</title>\n<path d=\"M15381.3,-561.655C15392.9,-575.216 15406.9,-587.921 15422.9,-595.566 15508.5,-636.303 17035.5,-615.395 17128.9,-631.566 17132,-632.098 17135.2,-632.781 17138.3,-633.567\" fill=\"none\" stroke=\"black\"/>\n<polygon fill=\"black\" points=\"17137.6,-637.02 17148.2,-636.364 17139.5,-630.282 17137.6,-637.02\" stroke=\"black\"/>\n</g>\n<!-- 7431600475948521825&#45;&gt;&#45;7443139290563364873 -->\n<g class=\"edge\" id=\"edge609\"><title>7431600475948521825-&gt;-7443139290563364873</title>\n<path d=\"M17211.5,-663.606C17216.3,-665.174 17221.2,-666.569 17225.9,-667.566 17598.4,-745.747 18820.4,-776.383 19106.6,-782.579\" fill=\"none\" stroke=\"black\"/>\n<polygon fill=\"black\" points=\"19106.7,-786.082 19116.8,-782.798 19106.8,-779.084 19106.7,-786.082\" stroke=\"black\"/>\n</g>\n<!-- 7431600475949686874 -->\n<g class=\"node\" id=\"node503\"><title>7431600475949686874</title>\n<polygon fill=\"none\" points=\"21871.4,-667.566 21808.4,-667.566 21808.4,-631.566 21871.4,-631.566 21871.4,-667.566\" stroke=\"black\"/>\n<text font-family=\"Times,serif\" font-size=\"14.00\" text-anchor=\"middle\" x=\"21839.9\" y=\"-645.866\">(0, 41)</text>\n</g>\n<!-- 683038128661827527&#45;&gt;7431600475949686874 -->\n<g class=\"edge\" id=\"edge501\"><title>683038128661827527-&gt;7431600475949686874</title>\n<path d=\"M21871.9,-567.198C21864.4,-586.416 21856.5,-606.481 21850.4,-621.877\" fill=\"none\" stroke=\"black\"/>\n<polygon fill=\"black\" points=\"21847.1,-620.678 21846.7,-631.265 21853.7,-623.24 21847.1,-620.678\" stroke=\"black\"/>\n</g>\n<!-- 7431600475949686874&#45;&gt;&#45;7443139290563364873 -->\n<g class=\"edge\" id=\"edge605\"><title>7431600475949686874-&gt;-7443139290563364873</title>\n<path d=\"M21808.3,-656.123C21785.3,-659.956 21753.3,-664.836 21724.9,-667.566 20730,-763.464 19509.5,-780.579 19227.2,-783.324\" fill=\"none\" stroke=\"black\"/>\n<polygon fill=\"black\" points=\"19227.1,-779.825 19217.1,-783.42 19227.2,-786.824 19227.1,-779.825\" stroke=\"black\"/>\n</g>\n<!-- 7431600475946191727 -->\n<g class=\"node\" id=\"node505\"><title>7431600475946191727</title>\n<polygon fill=\"none\" points=\"17380.4,-667.566 17317.4,-667.566 17317.4,-631.566 17380.4,-631.566 17380.4,-667.566\" stroke=\"black\"/>\n<text font-family=\"Times,serif\" font-size=\"14.00\" text-anchor=\"middle\" x=\"17348.9\" y=\"-645.866\">(0, 42)</text>\n</g>\n<!-- 7177099007952832702&#45;&gt;7431600475946191727 -->\n<g class=\"edge\" id=\"edge503\"><title>7177099007952832702-&gt;7431600475946191727</title>\n<path d=\"M15693.4,-561.636C15704.9,-575.197 15718.9,-587.906 15734.9,-595.566 15892.6,-670.785 17135.8,-596.214 17306.9,-631.566 17307,-631.588 17307.2,-631.61 17307.3,-631.633\" fill=\"none\" stroke=\"black\"/>\n<polygon fill=\"black\" points=\"17306.6,-635.092 17317.2,-634.341 17308.5,-628.338 17306.6,-635.092\" stroke=\"black\"/>\n</g>\n<!-- 7431600475946191727&#45;&gt;&#45;7443139290563364873 -->\n<g class=\"edge\" id=\"edge617\"><title>7431600475946191727-&gt;-7443139290563364873</title>\n<path d=\"M17380.7,-664.644C17384.1,-665.785 17387.6,-666.794 17390.9,-667.566 17728.5,-744.812 18836.2,-775.899 19106.9,-782.444\" fill=\"none\" stroke=\"black\"/>\n<polygon fill=\"black\" points=\"19106.8,-785.943 19116.9,-782.684 19107,-778.945 19106.8,-785.943\" stroke=\"black\"/>\n</g>\n<!-- 7431600475947356776 -->\n<g class=\"node\" id=\"node507\"><title>7431600475947356776</title>\n<polygon fill=\"none\" points=\"20775.4,-667.566 20712.4,-667.566 20712.4,-631.566 20775.4,-631.566 20775.4,-667.566\" stroke=\"black\"/>\n<text font-family=\"Times,serif\" font-size=\"14.00\" text-anchor=\"middle\" x=\"20743.9\" y=\"-645.866\">(0, 43)</text>\n</g>\n<!-- 7050231758983158909&#45;&gt;7431600475947356776 -->\n<g class=\"edge\" id=\"edge505\"><title>7050231758983158909-&gt;7431600475947356776</title>\n<path d=\"M20778.5,-566.355C20770.4,-585.811 20761.8,-606.221 20755.2,-621.837\" fill=\"none\" stroke=\"black\"/>\n<polygon fill=\"black\" points=\"20751.8,-620.774 20751.2,-631.349 20758.3,-623.49 20751.8,-620.774\" stroke=\"black\"/>\n</g>\n<!-- 7431600475947356776&#45;&gt;&#45;7443139290563364873 -->\n<g class=\"edge\" id=\"edge613\"><title>7431600475947356776-&gt;-7443139290563364873</title>\n<path d=\"M20712.4,-655.523C20688,-659.229 20653.4,-664.213 20622.9,-667.566 20082.8,-727.018 19426.7,-768.389 19227.3,-780.292\" fill=\"none\" stroke=\"black\"/>\n<polygon fill=\"black\" points=\"19226.8,-776.815 19217,-780.903 19227.2,-783.802 19226.8,-776.815\" stroke=\"black\"/>\n</g>\n<!-- 7431600475943861629 -->\n<g class=\"node\" id=\"node509\"><title>7431600475943861629</title>\n<polygon fill=\"none\" points=\"22027.4,-667.566 21964.4,-667.566 21964.4,-631.566 22027.4,-631.566 22027.4,-667.566\" stroke=\"black\"/>\n<text font-family=\"Times,serif\" font-size=\"14.00\" text-anchor=\"middle\" x=\"21995.9\" y=\"-645.866\">(0, 44)</text>\n</g>\n<!-- 4705839668999311452&#45;&gt;7431600475943861629 -->\n<g class=\"edge\" id=\"edge507\"><title>4705839668999311452-&gt;7431600475943861629</title>\n<path d=\"M22027.9,-567.198C22020.4,-586.416 22012.5,-606.481 22006.4,-621.877\" fill=\"none\" stroke=\"black\"/>\n<polygon fill=\"black\" points=\"22003.1,-620.678 22002.7,-631.265 22009.7,-623.24 22003.1,-620.678\" stroke=\"black\"/>\n</g>\n<!-- 7431600475943861629&#45;&gt;&#45;7443139290563364873 -->\n<g class=\"edge\" id=\"edge625\"><title>7431600475943861629-&gt;-7443139290563364873</title>\n<path d=\"M21964.3,-656.145C21941.3,-659.99 21909.3,-664.873 21880.9,-667.566 20821.2,-768.311 19520.4,-781.769 19227.4,-783.543\" fill=\"none\" stroke=\"black\"/>\n<polygon fill=\"black\" points=\"19227,-780.046 19217,-783.604 19227,-787.045 19227,-780.046\" stroke=\"black\"/>\n</g>\n<!-- 7431600475945026678 -->\n<g class=\"node\" id=\"node511\"><title>7431600475945026678</title>\n<polygon fill=\"none\" points=\"22495.4,-667.566 22432.4,-667.566 22432.4,-631.566 22495.4,-631.566 22495.4,-667.566\" stroke=\"black\"/>\n<text font-family=\"Times,serif\" font-size=\"14.00\" text-anchor=\"middle\" x=\"22463.9\" y=\"-645.866\">(0, 45)</text>\n</g>\n<!-- 5632463317627706027&#45;&gt;7431600475945026678 -->\n<g class=\"edge\" id=\"edge509\"><title>5632463317627706027-&gt;7431600475945026678</title>\n<path d=\"M22495.9,-567.198C22488.4,-586.416 22480.5,-606.481 22474.4,-621.877\" fill=\"none\" stroke=\"black\"/>\n<polygon fill=\"black\" points=\"22471.1,-620.678 22470.7,-631.265 22477.7,-623.24 22471.1,-620.678\" stroke=\"black\"/>\n</g>\n<!-- 7431600475945026678&#45;&gt;&#45;7443139290563364873 -->\n<g class=\"edge\" id=\"edge621\"><title>7431600475945026678-&gt;-7443139290563364873</title>\n<path d=\"M22432.3,-656.199C22409.3,-660.07 22377.3,-664.962 22348.9,-667.566 21093,-782.98 19548.4,-785.005 19227.1,-784.079\" fill=\"none\" stroke=\"black\"/>\n<polygon fill=\"black\" points=\"19227.1,-780.579 19217.1,-784.048 19227.1,-787.579 19227.1,-780.579\" stroke=\"black\"/>\n</g>\n<!-- 7431600475941531531 -->\n<g class=\"node\" id=\"node513\"><title>7431600475941531531</title>\n<polygon fill=\"none\" points=\"19689.4,-667.566 19626.4,-667.566 19626.4,-631.566 19689.4,-631.566 19689.4,-667.566\" stroke=\"black\"/>\n<text font-family=\"Times,serif\" font-size=\"14.00\" text-anchor=\"middle\" x=\"19657.9\" y=\"-645.866\">(0, 46)</text>\n</g>\n<!-- 8864414320585980434&#45;&gt;7431600475941531531 -->\n<g class=\"edge\" id=\"edge511\"><title>8864414320585980434-&gt;7431600475941531531</title>\n<path d=\"M19688.8,-567.198C19681.5,-586.416 19673.9,-606.481 19668.1,-621.877\" fill=\"none\" stroke=\"black\"/>\n<polygon fill=\"black\" points=\"19664.8,-620.674 19664.5,-631.265 19671.3,-623.157 19664.8,-620.674\" stroke=\"black\"/>\n</g>\n<!-- 7431600475941531531&#45;&gt;&#45;7443139290563364873 -->\n<g class=\"edge\" id=\"edge564\"><title>7431600475941531531-&gt;-7443139290563364873</title>\n<path d=\"M19626.1,-659.206C19544.9,-681.245 19329.1,-739.806 19224.9,-768.088\" fill=\"none\" stroke=\"black\"/>\n<polygon fill=\"black\" points=\"19223.9,-764.731 19215.1,-770.728 19225.7,-771.487 19223.9,-764.731\" stroke=\"black\"/>\n</g>\n<!-- 7431600475942696580 -->\n<g class=\"node\" id=\"node515\"><title>7431600475942696580</title>\n<polygon fill=\"none\" points=\"18086.4,-667.566 18023.4,-667.566 18023.4,-631.566 18086.4,-631.566 18086.4,-667.566\" stroke=\"black\"/>\n<text font-family=\"Times,serif\" font-size=\"14.00\" text-anchor=\"middle\" x=\"18054.9\" y=\"-645.866\">(0, 47)</text>\n</g>\n<!-- &#45;6948397254607827407&#45;&gt;7431600475942696580 -->\n<g class=\"edge\" id=\"edge513\"><title>-6948397254607827407-&gt;7431600475942696580</title>\n<path d=\"M17097.5,-561.441C17109,-575.002 17123,-587.761 17138.9,-595.566 17224,-637.093 17881.1,-611.704 18013.2,-632.051\" fill=\"none\" stroke=\"black\"/>\n<polygon fill=\"black\" points=\"18012.9,-635.558 18023.4,-633.949 18014.2,-628.676 18012.9,-635.558\" stroke=\"black\"/>\n</g>\n<!-- 7431600475942696580&#45;&gt;&#45;7443139290563364873 -->\n<g class=\"edge\" id=\"edge560\"><title>7431600475942696580-&gt;-7443139290563364873</title>\n<path d=\"M18086.9,-664.819C18089.9,-665.862 18093,-666.802 18095.9,-667.566 18471.6,-763.719 18941.2,-780.372 19106.2,-783.228\" fill=\"none\" stroke=\"black\"/>\n<polygon fill=\"black\" points=\"19106.6,-786.735 19116.7,-783.397 19106.7,-779.736 19106.6,-786.735\" stroke=\"black\"/>\n</g>\n<!-- 7431600475939201433 -->\n<g class=\"node\" id=\"node517\"><title>7431600475939201433</title>\n<polygon fill=\"none\" points=\"19058.4,-667.566 18995.4,-667.566 18995.4,-631.566 19058.4,-631.566 19058.4,-667.566\" stroke=\"black\"/>\n<text font-family=\"Times,serif\" font-size=\"14.00\" text-anchor=\"middle\" x=\"19026.9\" y=\"-645.866\">(0, 48)</text>\n</g>\n<!-- &#45;3161231239152002832&#45;&gt;7431600475939201433 -->\n<g class=\"edge\" id=\"edge515\"><title>-3161231239152002832-&gt;7431600475939201433</title>\n<path d=\"M18970.1,-560.909C18983.9,-582.274 18999,-605.482 19010.1,-622.648\" fill=\"none\" stroke=\"black\"/>\n<polygon fill=\"black\" points=\"19007.5,-625.028 19015.9,-631.513 19013.4,-621.219 19007.5,-625.028\" stroke=\"black\"/>\n</g>\n<!-- 7431600475939201433&#45;&gt;&#45;7443139290563364873 -->\n<g class=\"edge\" id=\"edge572\"><title>7431600475939201433-&gt;-7443139290563364873</title>\n<path d=\"M19045,-667.713C19064.7,-686.537 19097.2,-717.434 19123.7,-742.623\" fill=\"none\" stroke=\"black\"/>\n<polygon fill=\"black\" points=\"19121.3,-745.203 19131,-749.561 19126.1,-740.132 19121.3,-745.203\" stroke=\"black\"/>\n</g>\n<!-- 7431600475940366482 -->\n<g class=\"node\" id=\"node519\"><title>7431600475940366482</title>\n<polygon fill=\"none\" points=\"22339.4,-667.566 22276.4,-667.566 22276.4,-631.566 22339.4,-631.566 22339.4,-667.566\" stroke=\"black\"/>\n<text font-family=\"Times,serif\" font-size=\"14.00\" text-anchor=\"middle\" x=\"22307.9\" y=\"-645.866\">(0, 49)</text>\n</g>\n<!-- 7838690698226474959&#45;&gt;7431600475940366482 -->\n<g class=\"edge\" id=\"edge517\"><title>7838690698226474959-&gt;7431600475940366482</title>\n<path d=\"M22339.9,-567.198C22332.4,-586.416 22324.5,-606.481 22318.4,-621.877\" fill=\"none\" stroke=\"black\"/>\n<polygon fill=\"black\" points=\"22315.1,-620.678 22314.7,-631.265 22321.7,-623.24 22315.1,-620.678\" stroke=\"black\"/>\n</g>\n<!-- 7431600475940366482&#45;&gt;&#45;7443139290563364873 -->\n<g class=\"edge\" id=\"edge568\"><title>7431600475940366482-&gt;-7443139290563364873</title>\n<path d=\"M22276.3,-656.183C22253.3,-660.046 22221.3,-664.936 22192.9,-667.566 21002.5,-778.097 19539.1,-783.983 19227.2,-783.919\" fill=\"none\" stroke=\"black\"/>\n<polygon fill=\"black\" points=\"19227,-780.419 19217,-783.915 19227,-787.419 19227,-780.419\" stroke=\"black\"/>\n</g>\n<!-- 7431600475936871335 -->\n<g class=\"node\" id=\"node521\"><title>7431600475936871335</title>\n<polygon fill=\"none\" points=\"22651.4,-667.566 22588.4,-667.566 22588.4,-631.566 22651.4,-631.566 22651.4,-667.566\" stroke=\"black\"/>\n<text font-family=\"Times,serif\" font-size=\"14.00\" text-anchor=\"middle\" x=\"22619.9\" y=\"-645.866\">(0, 50)</text>\n</g>\n<!-- &#45;4507294722082746682&#45;&gt;7431600475936871335 -->\n<g class=\"edge\" id=\"edge519\"><title>-4507294722082746682-&gt;7431600475936871335</title>\n<path d=\"M22651.9,-567.198C22644.4,-586.416 22636.5,-606.481 22630.4,-621.877\" fill=\"none\" stroke=\"black\"/>\n<polygon fill=\"black\" points=\"22627.1,-620.678 22626.7,-631.265 22633.7,-623.24 22627.1,-620.678\" stroke=\"black\"/>\n</g>\n<!-- 7431600475936871335&#45;&gt;&#45;7443139290563364873 -->\n<g class=\"edge\" id=\"edge579\"><title>7431600475936871335-&gt;-7443139290563364873</title>\n<path d=\"M22588.3,-656.214C22565.3,-660.091 22533.3,-664.986 22504.9,-667.566 21183.9,-787.832 19558.3,-785.981 19227.4,-784.226\" fill=\"none\" stroke=\"black\"/>\n<polygon fill=\"black\" points=\"19227.1,-780.724 19217.1,-784.169 19227,-787.724 19227.1,-780.724\" stroke=\"black\"/>\n</g>\n<!-- 7431600475938036384 -->\n<g class=\"node\" id=\"node523\"><title>7431600475938036384</title>\n<polygon fill=\"none\" points=\"18329.4,-667.566 18266.4,-667.566 18266.4,-631.566 18329.4,-631.566 18329.4,-667.566\" stroke=\"black\"/>\n<text font-family=\"Times,serif\" font-size=\"14.00\" text-anchor=\"middle\" x=\"18297.9\" y=\"-645.866\">(0, 51)</text>\n</g>\n<!-- &#45;4181498633036702907&#45;&gt;7431600475938036384 -->\n<g class=\"edge\" id=\"edge521\"><title>-4181498633036702907-&gt;7431600475938036384</title>\n<path d=\"M17565.5,-561.289C17577.1,-574.851 17591,-587.647 17606.9,-595.566 17733.9,-658.666 18100.6,-601.315 18256.4,-631.851\" fill=\"none\" stroke=\"black\"/>\n<polygon fill=\"black\" points=\"18255.9,-635.312 18266.4,-633.992 18257.4,-628.468 18255.9,-635.312\" stroke=\"black\"/>\n</g>\n<!-- 7431600475938036384&#45;&gt;&#45;7443139290563364873 -->\n<g class=\"edge\" id=\"edge575\"><title>7431600475938036384-&gt;-7443139290563364873</title>\n<path d=\"M18329.4,-664.558C18332.6,-665.685 18335.8,-666.715 18338.9,-667.566 18619.4,-744.067 18967.8,-772.016 19106.2,-780.558\" fill=\"none\" stroke=\"black\"/>\n<polygon fill=\"black\" points=\"19106.4,-784.076 19116.6,-781.187 19106.8,-777.089 19106.4,-784.076\" stroke=\"black\"/>\n</g>\n<!-- 7431600475934541237 -->\n<g class=\"node\" id=\"node525\"><title>7431600475934541237</title>\n<polygon fill=\"none\" points=\"18572.4,-667.566 18509.4,-667.566 18509.4,-631.566 18572.4,-631.566 18572.4,-667.566\" stroke=\"black\"/>\n<text font-family=\"Times,serif\" font-size=\"14.00\" text-anchor=\"middle\" x=\"18540.9\" y=\"-645.866\">(0, 52)</text>\n</g>\n<!-- 1899779777161653668&#45;&gt;7431600475934541237 -->\n<g class=\"edge\" id=\"edge523\"><title>1899779777161653668-&gt;7431600475934541237</title>\n<path d=\"M18033.7,-560.98C18045.2,-574.543 18059.1,-587.417 18074.9,-595.566 18156.8,-637.721 18393.3,-610.525 18499.5,-631.86\" fill=\"none\" stroke=\"black\"/>\n<polygon fill=\"black\" points=\"18498.9,-635.298 18509.4,-634.08 18500.4,-628.469 18498.9,-635.298\" stroke=\"black\"/>\n</g>\n<!-- 7431600475934541237&#45;&gt;&#45;7443139290563364873 -->\n<g class=\"edge\" id=\"edge585\"><title>7431600475934541237-&gt;-7443139290563364873</title>\n<path d=\"M18572.5,-664.374C18575.7,-665.538 18578.8,-666.627 18581.9,-667.566 18769.8,-724.582 19000.4,-760.913 19107.3,-775.918\" fill=\"none\" stroke=\"black\"/>\n<polygon fill=\"black\" points=\"19106.8,-779.391 19117.2,-777.304 19107.8,-772.458 19106.8,-779.391\" stroke=\"black\"/>\n</g>\n<!-- 7431600475935706286 -->\n<g class=\"node\" id=\"node527\"><title>7431600475935706286</title>\n<polygon fill=\"none\" points=\"19257.4,-667.566 19194.4,-667.566 19194.4,-631.566 19257.4,-631.566 19257.4,-667.566\" stroke=\"black\"/>\n<text font-family=\"Times,serif\" font-size=\"14.00\" text-anchor=\"middle\" x=\"19225.9\" y=\"-645.866\">(0, 53)</text>\n</g>\n<!-- &#45;5578135285100706957&#45;&gt;7431600475935706286 -->\n<g class=\"edge\" id=\"edge525\"><title>-5578135285100706957-&gt;7431600475935706286</title>\n<path d=\"M19236.1,-571.004C19233.8,-588.795 19231.4,-606.997 19229.5,-621.293\" fill=\"none\" stroke=\"black\"/>\n<polygon fill=\"black\" points=\"19226,-621.023 19228.2,-631.393 19233,-621.933 19226,-621.023\" stroke=\"black\"/>\n</g>\n<!-- 7431600475935706286&#45;&gt;&#45;7443139290563364873 -->\n<g class=\"edge\" id=\"edge582\"><title>7431600475935706286-&gt;-7443139290563364873</title>\n<path d=\"M19218.3,-667.713C19211.4,-683.334 19200.8,-707.269 19191.1,-729.357\" fill=\"none\" stroke=\"black\"/>\n<polygon fill=\"black\" points=\"19187.8,-728.12 19186.9,-738.68 19194.2,-730.954 19187.8,-728.12\" stroke=\"black\"/>\n</g>\n<!-- 7431600475932211139 -->\n<g class=\"node\" id=\"node529\"><title>7431600475932211139</title>\n<polygon fill=\"none\" points=\"20312.4,-667.566 20249.4,-667.566 20249.4,-631.566 20312.4,-631.566 20312.4,-667.566\" stroke=\"black\"/>\n<text font-family=\"Times,serif\" font-size=\"14.00\" text-anchor=\"middle\" x=\"20280.9\" y=\"-645.866\">(0, 54)</text>\n</g>\n<!-- &#45;64696412393910182&#45;&gt;7431600475932211139 -->\n<g class=\"edge\" id=\"edge527\"><title>-64696412393910182-&gt;7431600475932211139</title>\n<path d=\"M20312.4,-567.198C20305,-586.416 20297.2,-606.481 20291.3,-621.877\" fill=\"none\" stroke=\"black\"/>\n<polygon fill=\"black\" points=\"20288,-620.676 20287.6,-631.265 20294.5,-623.199 20288,-620.676\" stroke=\"black\"/>\n</g>\n<!-- 7431600475932211139&#45;&gt;&#45;7443139290563364873 -->\n<g class=\"edge\" id=\"edge592\"><title>7431600475932211139-&gt;-7443139290563364873</title>\n<path d=\"M20249.3,-655.52C20226.2,-659.062 20194.2,-663.841 20165.9,-667.566 19810.4,-714.523 19382.3,-760.963 19226.9,-777.485\" fill=\"none\" stroke=\"black\"/>\n<polygon fill=\"black\" points=\"19226.2,-774.039 19216.6,-778.576 19227,-781 19226.2,-774.039\" stroke=\"black\"/>\n</g>\n<!-- 7431600475933376188 -->\n<g class=\"node\" id=\"node531\"><title>7431600475933376188</title>\n<polygon fill=\"none\" points=\"20933.4,-667.566 20870.4,-667.566 20870.4,-631.566 20933.4,-631.566 20933.4,-667.566\" stroke=\"black\"/>\n<text font-family=\"Times,serif\" font-size=\"14.00\" text-anchor=\"middle\" x=\"20901.9\" y=\"-645.866\">(0, 55)</text>\n</g>\n<!-- 976298756306841593&#45;&gt;7431600475933376188 -->\n<g class=\"edge\" id=\"edge529\"><title>976298756306841593-&gt;7431600475933376188</title>\n<path d=\"M20935.2,-566.776C20927.3,-586.176 20919.1,-606.481 20912.8,-622.007\" fill=\"none\" stroke=\"black\"/>\n<polygon fill=\"black\" points=\"20909.4,-620.88 20908.9,-631.462 20915.9,-623.52 20909.4,-620.88\" stroke=\"black\"/>\n</g>\n<!-- 7431600475933376188&#45;&gt;&#45;7443139290563364873 -->\n<g class=\"edge\" id=\"edge588\"><title>7431600475933376188-&gt;-7443139290563364873</title>\n<path d=\"M20870.2,-655.808C20846.7,-659.538 20813.9,-664.424 20784.9,-667.566 20178.6,-733.315 19440.1,-771.014 19227.1,-781.066\" fill=\"none\" stroke=\"black\"/>\n<polygon fill=\"black\" points=\"19226.9,-777.572 19217.1,-781.538 19227.2,-784.564 19226.9,-777.572\" stroke=\"black\"/>\n</g>\n<!-- 7431600475929881041 -->\n<g class=\"node\" id=\"node533\"><title>7431600475929881041</title>\n<polygon fill=\"none\" points=\"21715.4,-667.566 21652.4,-667.566 21652.4,-631.566 21715.4,-631.566 21715.4,-667.566\" stroke=\"black\"/>\n<text font-family=\"Times,serif\" font-size=\"14.00\" text-anchor=\"middle\" x=\"21683.9\" y=\"-645.866\">(0, 56)</text>\n</g>\n<!-- 5190335628381938168&#45;&gt;7431600475929881041 -->\n<g class=\"edge\" id=\"edge531\"><title>5190335628381938168-&gt;7431600475929881041</title>\n<path d=\"M21715.9,-567.198C21708.4,-586.416 21700.5,-606.481 21694.4,-621.877\" fill=\"none\" stroke=\"black\"/>\n<polygon fill=\"black\" points=\"21691.1,-620.678 21690.7,-631.265 21697.7,-623.24 21691.1,-620.678\" stroke=\"black\"/>\n</g>\n<!-- 7431600475929881041&#45;&gt;&#45;7443139290563364873 -->\n<g class=\"edge\" id=\"edge600\"><title>7431600475929881041-&gt;-7443139290563364873</title>\n<path d=\"M21652.3,-656.098C21629.3,-659.919 21597.3,-664.794 21568.9,-667.566 20639.2,-758.558 19499.8,-779.292 19227.4,-783.072\" fill=\"none\" stroke=\"black\"/>\n<polygon fill=\"black\" points=\"19227.3,-779.573 19217.4,-783.209 19227.4,-786.572 19227.3,-779.573\" stroke=\"black\"/>\n</g>\n<!-- 7431600475931046090 -->\n<g class=\"node\" id=\"node535\"><title>7431600475931046090</title>\n<polygon fill=\"none\" points=\"22807.4,-667.566 22744.4,-667.566 22744.4,-631.566 22807.4,-631.566 22807.4,-667.566\" stroke=\"black\"/>\n<text font-family=\"Times,serif\" font-size=\"14.00\" text-anchor=\"middle\" x=\"22775.9\" y=\"-645.866\">(0, 57)</text>\n</g>\n<!-- 6332025272561461143&#45;&gt;7431600475931046090 -->\n<g class=\"edge\" id=\"edge533\"><title>6332025272561461143-&gt;7431600475931046090</title>\n<path d=\"M22807.9,-567.198C22800.4,-586.416 22792.5,-606.481 22786.4,-621.877\" fill=\"none\" stroke=\"black\"/>\n<polygon fill=\"black\" points=\"22783.1,-620.678 22782.7,-631.265 22789.7,-623.24 22783.1,-620.678\" stroke=\"black\"/>\n</g>\n<!-- 7431600475931046090&#45;&gt;&#45;7443139290563364873 -->\n<g class=\"edge\" id=\"edge596\"><title>7431600475931046090-&gt;-7443139290563364873</title>\n<path d=\"M22744.3,-656.227C22721.3,-660.111 22689.3,-665.008 22660.9,-667.566 21955.4,-731.241 19631.6,-775.442 19227.2,-782.742\" fill=\"none\" stroke=\"black\"/>\n<polygon fill=\"black\" points=\"19227.1,-779.243 19217.2,-782.923 19227.2,-786.242 19227.1,-779.243\" stroke=\"black\"/>\n</g>\n<!-- 7431600475927550943 -->\n<g class=\"node\" id=\"node537\"><title>7431600475927550943</title>\n<polygon fill=\"none\" points=\"22963.4,-667.566 22900.4,-667.566 22900.4,-631.566 22963.4,-631.566 22963.4,-667.566\" stroke=\"black\"/>\n<text font-family=\"Times,serif\" font-size=\"14.00\" text-anchor=\"middle\" x=\"22931.9\" y=\"-645.866\">(0, 58)</text>\n</g>\n<!-- 2707996080880104718&#45;&gt;7431600475927550943 -->\n<g class=\"edge\" id=\"edge535\"><title>2707996080880104718-&gt;7431600475927550943</title>\n<path d=\"M22963.9,-567.198C22956.4,-586.416 22948.5,-606.481 22942.4,-621.877\" fill=\"none\" stroke=\"black\"/>\n<polygon fill=\"black\" points=\"22939.1,-620.678 22938.7,-631.265 22945.7,-623.24 22939.1,-620.678\" stroke=\"black\"/>\n</g>\n<!-- 7431600475927550943&#45;&gt;&#45;7443139290563364873 -->\n<g class=\"edge\" id=\"edge608\"><title>7431600475927550943-&gt;-7443139290563364873</title>\n<path d=\"M22900.3,-656.239C22877.3,-660.129 22845.3,-665.028 22816.9,-667.566 22078.6,-733.68 19643.3,-776.008 19227.6,-782.835\" fill=\"none\" stroke=\"black\"/>\n<polygon fill=\"black\" points=\"19227.2,-779.34 19217.3,-783.003 19227.3,-786.339 19227.2,-779.34\" stroke=\"black\"/>\n</g>\n<!-- 7431600475928715992 -->\n<g class=\"node\" id=\"node539\"><title>7431600475928715992</title>\n<polygon fill=\"none\" points=\"23119.4,-667.566 23056.4,-667.566 23056.4,-631.566 23119.4,-631.566 23119.4,-667.566\" stroke=\"black\"/>\n<text font-family=\"Times,serif\" font-size=\"14.00\" text-anchor=\"middle\" x=\"23087.9\" y=\"-645.866\">(0, 59)</text>\n</g>\n<!-- 3743628125002346893&#45;&gt;7431600475928715992 -->\n<g class=\"edge\" id=\"edge537\"><title>3743628125002346893-&gt;7431600475928715992</title>\n<path d=\"M23119.9,-567.198C23112.4,-586.416 23104.5,-606.481 23098.4,-621.877\" fill=\"none\" stroke=\"black\"/>\n<polygon fill=\"black\" points=\"23095.1,-620.678 23094.7,-631.265 23101.7,-623.24 23095.1,-620.678\" stroke=\"black\"/>\n</g>\n<!-- 7431600475928715992&#45;&gt;&#45;7443139290563364873 -->\n<g class=\"edge\" id=\"edge604\"><title>7431600475928715992-&gt;-7443139290563364873</title>\n<path d=\"M23056.3,-656.251C23033.3,-660.146 23001.3,-665.047 22972.9,-667.566 22201.4,-736.144 19652.9,-776.579 19227.4,-782.927\" fill=\"none\" stroke=\"black\"/>\n<polygon fill=\"black\" points=\"19227.2,-779.431 19217.2,-783.079 19227.3,-786.43 19227.2,-779.431\" stroke=\"black\"/>\n</g>\n<!-- 7431600475925220845 -->\n<g class=\"node\" id=\"node541\"><title>7431600475925220845</title>\n<polygon fill=\"none\" points=\"23275.4,-667.566 23212.4,-667.566 23212.4,-631.566 23275.4,-631.566 23275.4,-667.566\" stroke=\"black\"/>\n<text font-family=\"Times,serif\" font-size=\"14.00\" text-anchor=\"middle\" x=\"23243.9\" y=\"-645.866\">(0, 60)</text>\n</g>\n<!-- 9057162984189590700&#45;&gt;7431600475925220845 -->\n<g class=\"edge\" id=\"edge539\"><title>9057162984189590700-&gt;7431600475925220845</title>\n<path d=\"M23275.9,-567.198C23268.4,-586.416 23260.5,-606.481 23254.4,-621.877\" fill=\"none\" stroke=\"black\"/>\n<polygon fill=\"black\" points=\"23251.1,-620.678 23250.7,-631.265 23257.7,-623.24 23251.1,-620.678\" stroke=\"black\"/>\n</g>\n<!-- 7431600475925220845&#45;&gt;&#45;7443139290563364873 -->\n<g class=\"edge\" id=\"edge616\"><title>7431600475925220845-&gt;-7443139290563364873</title>\n<path d=\"M23212.3,-656.261C23189.3,-660.161 23157.3,-665.064 23128.9,-667.566 22324,-738.619 19661.7,-777.133 19227.2,-783.014\" fill=\"none\" stroke=\"black\"/>\n<polygon fill=\"black\" points=\"19227,-779.517 19217,-783.151 19227.1,-786.516 19227,-779.517\" stroke=\"black\"/>\n</g>\n<!-- 7431600475926385894 -->\n<g class=\"node\" id=\"node543\"><title>7431600475926385894</title>\n<polygon fill=\"none\" points=\"23431.4,-667.566 23368.4,-667.566 23368.4,-631.566 23431.4,-631.566 23431.4,-667.566\" stroke=\"black\"/>\n<text font-family=\"Times,serif\" font-size=\"14.00\" text-anchor=\"middle\" x=\"23399.9\" y=\"-645.866\">(0, 61)</text>\n</g>\n<!-- &#45;8353665510293835141&#45;&gt;7431600475926385894 -->\n<g class=\"edge\" id=\"edge541\"><title>-8353665510293835141-&gt;7431600475926385894</title>\n<path d=\"M23431.9,-567.198C23424.4,-586.416 23416.5,-606.481 23410.4,-621.877\" fill=\"none\" stroke=\"black\"/>\n<polygon fill=\"black\" points=\"23407.1,-620.678 23406.7,-631.265 23413.7,-623.24 23407.1,-620.678\" stroke=\"black\"/>\n</g>\n<!-- 7431600475926385894&#45;&gt;&#45;7443139290563364873 -->\n<g class=\"edge\" id=\"edge612\"><title>7431600475926385894-&gt;-7443139290563364873</title>\n<path d=\"M23368.3,-656.27C23345.3,-660.175 23313.3,-665.08 23284.9,-667.566 22446.8,-741.084 19671.1,-777.652 19227.1,-783.092\" fill=\"none\" stroke=\"black\"/>\n<polygon fill=\"black\" points=\"19227,-779.593 19217,-783.215 19227.1,-786.593 19227,-779.593\" stroke=\"black\"/>\n</g>\n<!-- 7431600475922890747 -->\n<g class=\"node\" id=\"node545\"><title>7431600475922890747</title>\n<polygon fill=\"none\" points=\"23587.4,-667.566 23524.4,-667.566 23524.4,-631.566 23587.4,-631.566 23587.4,-667.566\" stroke=\"black\"/>\n<text font-family=\"Times,serif\" font-size=\"14.00\" text-anchor=\"middle\" x=\"23555.9\" y=\"-645.866\">(0, 62)</text>\n</g>\n<!-- 6499308961849340450&#45;&gt;7431600475922890747 -->\n<g class=\"edge\" id=\"edge543\"><title>6499308961849340450-&gt;7431600475922890747</title>\n<path d=\"M23587.9,-567.198C23580.4,-586.416 23572.5,-606.481 23566.4,-621.877\" fill=\"none\" stroke=\"black\"/>\n<polygon fill=\"black\" points=\"23563.1,-620.678 23562.7,-631.265 23569.7,-623.24 23563.1,-620.678\" stroke=\"black\"/>\n</g>\n<!-- 7431600475922890747&#45;&gt;&#45;7443139290563364873 -->\n<g class=\"edge\" id=\"edge624\"><title>7431600475922890747-&gt;-7443139290563364873</title>\n<path d=\"M23524.3,-656.279C23501.3,-660.188 23469.3,-665.094 23440.9,-667.566 22569.9,-743.519 19682.6,-778.122 19227.5,-783.158\" fill=\"none\" stroke=\"black\"/>\n<polygon fill=\"black\" points=\"19227.2,-779.662 19217.2,-783.272 19227.3,-786.661 19227.2,-779.662\" stroke=\"black\"/>\n</g>\n<!-- 7431600475924055796 -->\n<g class=\"node\" id=\"node547\"><title>7431600475924055796</title>\n<polygon fill=\"none\" points=\"23743.4,-667.566 23680.4,-667.566 23680.4,-631.566 23743.4,-631.566 23743.4,-667.566\" stroke=\"black\"/>\n<text font-family=\"Times,serif\" font-size=\"14.00\" text-anchor=\"middle\" x=\"23711.9\" y=\"-645.866\">(0, 63)</text>\n</g>\n<!-- 7591276667291829825&#45;&gt;7431600475924055796 -->\n<g class=\"edge\" id=\"edge545\"><title>7591276667291829825-&gt;7431600475924055796</title>\n<path d=\"M23743.9,-567.198C23736.4,-586.416 23728.5,-606.481 23722.4,-621.877\" fill=\"none\" stroke=\"black\"/>\n<polygon fill=\"black\" points=\"23719.1,-620.678 23718.7,-631.265 23725.7,-623.24 23719.1,-620.678\" stroke=\"black\"/>\n</g>\n<!-- 7431600475924055796&#45;&gt;&#45;7443139290563364873 -->\n<g class=\"edge\" id=\"edge620\"><title>7431600475924055796-&gt;-7443139290563364873</title>\n<path d=\"M23680.3,-656.288C23657.3,-660.2 23625.3,-665.108 23596.9,-667.566 22692.4,-746 19690.4,-778.614 19227.2,-783.228\" fill=\"none\" stroke=\"black\"/>\n<polygon fill=\"black\" points=\"19227,-779.73 19217,-783.329 19227.1,-786.73 19227,-779.73\" stroke=\"black\"/>\n</g>\n<!-- 7431600476069686921 -->\n<g class=\"node\" id=\"node549\"><title>7431600476069686921</title>\n<polygon fill=\"none\" points=\"23899.4,-667.566 23836.4,-667.566 23836.4,-631.566 23899.4,-631.566 23899.4,-667.566\" stroke=\"black\"/>\n<text font-family=\"Times,serif\" font-size=\"14.00\" text-anchor=\"middle\" x=\"23867.9\" y=\"-645.866\">(0, 64)</text>\n</g>\n<!-- 5995530659310725440&#45;&gt;7431600476069686921 -->\n<g class=\"edge\" id=\"edge547\"><title>5995530659310725440-&gt;7431600476069686921</title>\n<path d=\"M23899.9,-567.198C23892.4,-586.416 23884.5,-606.481 23878.4,-621.877\" fill=\"none\" stroke=\"black\"/>\n<polygon fill=\"black\" points=\"23875.1,-620.678 23874.7,-631.265 23881.7,-623.24 23875.1,-620.678\" stroke=\"black\"/>\n</g>\n<!-- 7431600476069686921&#45;&gt;&#45;7443139290563364873 -->\n<g class=\"edge\" id=\"edge563\"><title>7431600476069686921-&gt;-7443139290563364873</title>\n<path d=\"M23836.3,-656.295C23813.3,-660.212 23781.3,-665.121 23752.9,-667.566 22815.1,-748.469 19699.2,-779.075 19227.1,-783.291\" fill=\"none\" stroke=\"black\"/>\n<polygon fill=\"black\" points=\"19227,-779.791 19217.1,-783.38 19227.1,-786.791 19227,-779.791\" stroke=\"black\"/>\n</g>\n<!-- 7431600476070851970 -->\n<g class=\"node\" id=\"node551\"><title>7431600476070851970</title>\n<polygon fill=\"none\" points=\"24055.4,-667.566 23992.4,-667.566 23992.4,-631.566 24055.4,-631.566 24055.4,-667.566\" stroke=\"black\"/>\n<text font-family=\"Times,serif\" font-size=\"14.00\" text-anchor=\"middle\" x=\"24023.9\" y=\"-645.866\">(0, 65)</text>\n</g>\n<!-- 6902437894163646815&#45;&gt;7431600476070851970 -->\n<g class=\"edge\" id=\"edge549\"><title>6902437894163646815-&gt;7431600476070851970</title>\n<path d=\"M24055.9,-567.198C24048.4,-586.416 24040.5,-606.481 24034.4,-621.877\" fill=\"none\" stroke=\"black\"/>\n<polygon fill=\"black\" points=\"24031.1,-620.678 24030.7,-631.265 24037.7,-623.24 24031.1,-620.678\" stroke=\"black\"/>\n</g>\n<!-- 7431600476070851970&#45;&gt;&#45;7443139290563364873 -->\n<g class=\"edge\" id=\"edge559\"><title>7431600476070851970-&gt;-7443139290563364873</title>\n<path d=\"M23992.3,-656.302C23969.3,-660.222 23937.3,-665.132 23908.9,-667.566 22937.9,-750.924 19708.8,-779.51 19227.2,-783.348\" fill=\"none\" stroke=\"black\"/>\n<polygon fill=\"black\" points=\"19227,-779.849 19217,-783.429 19227,-786.849 19227,-779.849\" stroke=\"black\"/>\n</g>\n<!-- 7431600476067356823 -->\n<g class=\"node\" id=\"node553\"><title>7431600476067356823</title>\n<polygon fill=\"none\" points=\"24211.4,-667.566 24148.4,-667.566 24148.4,-631.566 24211.4,-631.566 24211.4,-667.566\" stroke=\"black\"/>\n<text font-family=\"Times,serif\" font-size=\"14.00\" text-anchor=\"middle\" x=\"24179.9\" y=\"-645.866\">(0, 66)</text>\n</g>\n<!-- &#45;7107127740050752426&#45;&gt;7431600476067356823 -->\n<g class=\"edge\" id=\"edge551\"><title>-7107127740050752426-&gt;7431600476067356823</title>\n<path d=\"M24211.9,-567.198C24204.4,-586.416 24196.5,-606.481 24190.4,-621.877\" fill=\"none\" stroke=\"black\"/>\n<polygon fill=\"black\" points=\"24187.1,-620.678 24186.7,-631.265 24193.7,-623.24 24187.1,-620.678\" stroke=\"black\"/>\n</g>\n<!-- 7431600476067356823&#45;&gt;&#45;7443139290563364873 -->\n<g class=\"edge\" id=\"edge571\"><title>7431600476067356823-&gt;-7443139290563364873</title>\n<path d=\"M24148.3,-656.309C24125.3,-660.232 24093.3,-665.143 24064.9,-667.566 23060.7,-753.384 19718,-779.933 19227.3,-783.401\" fill=\"none\" stroke=\"black\"/>\n<polygon fill=\"black\" points=\"19227.2,-779.902 19217.2,-783.472 19227.3,-786.902 19227.2,-779.902\" stroke=\"black\"/>\n</g>\n<!-- 7431600476068521872 -->\n<g class=\"node\" id=\"node555\"><title>7431600476068521872</title>\n<polygon fill=\"none\" points=\"24367.4,-667.566 24304.4,-667.566 24304.4,-631.566 24367.4,-631.566 24367.4,-667.566\" stroke=\"black\"/>\n<text font-family=\"Times,serif\" font-size=\"14.00\" text-anchor=\"middle\" x=\"24335.9\" y=\"-645.866\">(0, 67)</text>\n</g>\n<!-- &#45;5623213561946608619&#45;&gt;7431600476068521872 -->\n<g class=\"edge\" id=\"edge553\"><title>-5623213561946608619-&gt;7431600476068521872</title>\n<path d=\"M24367.9,-567.198C24360.4,-586.416 24352.5,-606.481 24346.4,-621.877\" fill=\"none\" stroke=\"black\"/>\n<polygon fill=\"black\" points=\"24343.1,-620.678 24342.7,-631.265 24349.7,-623.24 24343.1,-620.678\" stroke=\"black\"/>\n</g>\n<!-- 7431600476068521872&#45;&gt;&#45;7443139290563364873 -->\n<g class=\"edge\" id=\"edge567\"><title>7431600476068521872-&gt;-7443139290563364873</title>\n<path d=\"M24304.3,-656.315C24281.3,-660.242 24249.3,-665.154 24220.9,-667.566 23183.3,-755.852 19726.5,-780.346 19227.2,-783.452\" fill=\"none\" stroke=\"black\"/>\n<polygon fill=\"black\" points=\"19227,-779.954 19217,-783.516 19227,-786.954 19227,-779.954\" stroke=\"black\"/>\n</g>\n<!-- 7431600476065026725 -->\n<g class=\"node\" id=\"node557\"><title>7431600476065026725</title>\n<polygon fill=\"none\" points=\"24716.4,-667.566 24653.4,-667.566 24653.4,-631.566 24716.4,-631.566 24716.4,-667.566\" stroke=\"black\"/>\n<text font-family=\"Times,serif\" font-size=\"14.00\" text-anchor=\"middle\" x=\"24684.9\" y=\"-645.866\">(0, 68)</text>\n</g>\n<!-- &#45;1853544294316588044&#45;&gt;7431600476065026725 -->\n<g class=\"edge\" id=\"edge555\"><title>-1853544294316588044-&gt;7431600476065026725</title>\n<path d=\"M24723.9,-565.513C24714.6,-585.393 24704.7,-606.359 24697.3,-622.252\" fill=\"none\" stroke=\"black\"/>\n<polygon fill=\"black\" points=\"24694.1,-620.898 24693,-631.438 24700.4,-623.871 24694.1,-620.898\" stroke=\"black\"/>\n</g>\n<!-- 7431600476065026725&#45;&gt;&#45;7443139290563364873 -->\n<g class=\"edge\" id=\"edge578\"><title>7431600476065026725-&gt;-7443139290563364873</title>\n<path d=\"M24653.2,-655.856C24627.8,-659.848 24591.2,-665.052 24558.9,-667.566 23448.7,-754.153 19746.6,-780.19 19227.6,-783.445\" fill=\"none\" stroke=\"black\"/>\n<polygon fill=\"black\" points=\"19227.3,-779.947 19217.3,-783.509 19227.3,-786.947 19227.3,-779.947\" stroke=\"black\"/>\n</g>\n<!-- &#45;7443139290563364873&#45;&gt;&#45;7149317234744316758 -->\n<g class=\"edge\" id=\"edge557\"><title>-7443139290563364873-&gt;-7149317234744316758</title>\n<path d=\"M19116.8,-788.08C18757.3,-804.362 16577,-903.106 16262.7,-917.342\" fill=\"none\" stroke=\"black\"/>\n<polygon fill=\"black\" points=\"16262.1,-913.864 16252.3,-917.813 16262.5,-920.857 16262.1,-913.864\" stroke=\"black\"/>\n</g>\n</g>\n</svg>",
      "text/plain": [
       "<IPython.core.display.SVG object>"
      ]
     },
     "metadata": {},
     "execution_count": 12
    }
   ],
   "metadata": {}
  },
  {
   "cell_type": "markdown",
   "source": [
    "### Computing with the Computational Graph"
   ],
   "metadata": {}
  },
  {
   "cell_type": "markdown",
   "source": [
    "There are several ways to indicate to Dask that we would like to perform the computations described in the computational graphs we have constructed. Here we use the `.compute` method, which will return the output of the computation as an object in one GPU's memory - no longer distributed across GPUs."
   ],
   "metadata": {}
  },
  {
   "cell_type": "markdown",
   "source": [
    "Executing the following cell will send the computational graph we have created to the Dask scheduler to be executed in parallel on our 4 GPUs. Because our graph involves reading the entire 18GB dataset (as we declared when adding `read_csv` to the call graph), you can expect the operation to take a little time."
   ],
   "metadata": {}
  },
  {
   "cell_type": "code",
   "execution_count": 13,
   "source": [
    "mean_age.compute()"
   ],
   "outputs": [
    {
     "output_type": "execute_result",
     "data": {
      "text/plain": [
       "40.124193580104645"
      ]
     },
     "metadata": {},
     "execution_count": 13
    }
   ],
   "metadata": {}
  },
  {
   "cell_type": "markdown",
   "source": [
    "### Persisting Data in the Cluster"
   ],
   "metadata": {}
  },
  {
   "cell_type": "markdown",
   "source": [
    "The previous operation, which read the entire 18GB csv into the GPUs' memory, did not retain the data in memory after completing the computational graph:"
   ],
   "metadata": {}
  },
  {
   "cell_type": "code",
   "execution_count": 14,
   "source": [
    "!nvidia-smi"
   ],
   "outputs": [
    {
     "output_type": "stream",
     "name": "stdout",
     "text": [
      "Thu Oct  7 14:15:40 2021       \n",
      "+-----------------------------------------------------------------------------+\n",
      "| NVIDIA-SMI 440.33.01    Driver Version: 440.33.01    CUDA Version: 10.2     |\n",
      "|-------------------------------+----------------------+----------------------+\n",
      "| GPU  Name        Persistence-M| Bus-Id        Disp.A | Volatile Uncorr. ECC |\n",
      "| Fan  Temp  Perf  Pwr:Usage/Cap|         Memory-Usage | GPU-Util  Compute M. |\n",
      "|===============================+======================+======================|\n",
      "|   0  Tesla T4            On   | 00000000:00:1B.0 Off |                    0 |\n",
      "| N/A   32C    P0    32W /  70W |    795MiB / 15109MiB |      0%      Default |\n",
      "+-------------------------------+----------------------+----------------------+\n",
      "|   1  Tesla T4            On   | 00000000:00:1C.0 Off |                    0 |\n",
      "| N/A   32C    P0    32W /  70W |    402MiB / 15109MiB |      0%      Default |\n",
      "+-------------------------------+----------------------+----------------------+\n",
      "|   2  Tesla T4            On   | 00000000:00:1D.0 Off |                    0 |\n",
      "| N/A   31C    P0    32W /  70W |    402MiB / 15109MiB |      0%      Default |\n",
      "+-------------------------------+----------------------+----------------------+\n",
      "|   3  Tesla T4            On   | 00000000:00:1E.0 Off |                    0 |\n",
      "| N/A   32C    P0    31W /  70W |    402MiB / 15109MiB |      0%      Default |\n",
      "+-------------------------------+----------------------+----------------------+\n",
      "                                                                               \n",
      "+-----------------------------------------------------------------------------+\n",
      "| Processes:                                                       GPU Memory |\n",
      "|  GPU       PID   Type   Process name                             Usage      |\n",
      "|=============================================================================|\n",
      "+-----------------------------------------------------------------------------+\n"
     ]
    }
   ],
   "metadata": {}
  },
  {
   "cell_type": "markdown",
   "source": [
    "A typical Dask workflow, which we will utilize, is to persist data we would like to work with to the cluster and then perform fast operations on that persisted data. We do this with the `.persist` method."
   ],
   "metadata": {}
  },
  {
   "cell_type": "code",
   "execution_count": 15,
   "source": [
    "ddf = ddf.persist()"
   ],
   "outputs": [],
   "metadata": {}
  },
  {
   "cell_type": "markdown",
   "source": [
    "We can see by executing `nvidia-smi` (after letting the `persist` finish), each GPU now has parts of the distributed dataframe in its memory:"
   ],
   "metadata": {}
  },
  {
   "cell_type": "code",
   "execution_count": 16,
   "source": [
    "!nvidia-smi"
   ],
   "outputs": [
    {
     "output_type": "stream",
     "name": "stdout",
     "text": [
      "Thu Oct  7 14:15:40 2021       \n",
      "+-----------------------------------------------------------------------------+\n",
      "| NVIDIA-SMI 440.33.01    Driver Version: 440.33.01    CUDA Version: 10.2     |\n",
      "|-------------------------------+----------------------+----------------------+\n",
      "| GPU  Name        Persistence-M| Bus-Id        Disp.A | Volatile Uncorr. ECC |\n",
      "| Fan  Temp  Perf  Pwr:Usage/Cap|         Memory-Usage | GPU-Util  Compute M. |\n",
      "|===============================+======================+======================|\n",
      "|   0  Tesla T4            On   | 00000000:00:1B.0 Off |                    0 |\n",
      "| N/A   33C    P0    36W /  70W |   1957MiB / 15109MiB |     70%      Default |\n",
      "+-------------------------------+----------------------+----------------------+\n",
      "|   1  Tesla T4            On   | 00000000:00:1C.0 Off |                    0 |\n",
      "| N/A   32C    P0    68W /  70W |    946MiB / 15109MiB |     69%      Default |\n",
      "+-------------------------------+----------------------+----------------------+\n",
      "|   2  Tesla T4            On   | 00000000:00:1D.0 Off |                    0 |\n",
      "| N/A   32C    P0    45W /  70W |   1338MiB / 15109MiB |     67%      Default |\n",
      "+-------------------------------+----------------------+----------------------+\n",
      "|   3  Tesla T4            On   | 00000000:00:1E.0 Off |                    0 |\n",
      "| N/A   32C    P0    41W /  70W |   1220MiB / 15109MiB |     69%      Default |\n",
      "+-------------------------------+----------------------+----------------------+\n",
      "                                                                               \n",
      "+-----------------------------------------------------------------------------+\n",
      "| Processes:                                                       GPU Memory |\n",
      "|  GPU       PID   Type   Process name                             Usage      |\n",
      "|=============================================================================|\n",
      "+-----------------------------------------------------------------------------+\n"
     ]
    }
   ],
   "metadata": {}
  },
  {
   "cell_type": "markdown",
   "source": [
    "Running `ddf.visualize` now shows that we no longer have operations in our task graph, only partitions of data, ready for us to perform operations:"
   ],
   "metadata": {}
  },
  {
   "cell_type": "code",
   "execution_count": 17,
   "source": [
    "ddf.visualize(format='svg')"
   ],
   "outputs": [
    {
     "output_type": "execute_result",
     "data": {
      "image/svg+xml": "<svg height=\"44pt\" viewBox=\"0.00 0.00 4958.00 44.00\" width=\"4958pt\" xmlns=\"http://www.w3.org/2000/svg\" xmlns:xlink=\"http://www.w3.org/1999/xlink\">\n<g class=\"graph\" id=\"graph0\" transform=\"scale(1 1) rotate(0) translate(4 40)\">\n<title>%3</title>\n<polygon fill=\"white\" points=\"-4,4 -4,-40 4954,-40 4954,4 -4,4\" stroke=\"none\"/>\n<!-- &#45;386165881048598503 -->\n<g class=\"node\" id=\"node1\"><title>-386165881048598503</title>\n<polygon fill=\"none\" points=\"54,-36 0,-36 0,-0 54,-0 54,-36\" stroke=\"black\"/>\n<text font-family=\"Times,serif\" font-size=\"14.00\" text-anchor=\"middle\" x=\"27\" y=\"-14.3\">0</text>\n</g>\n<!-- &#45;386165881047515978 -->\n<g class=\"node\" id=\"node2\"><title>-386165881047515978</title>\n<polygon fill=\"none\" points=\"126,-36 72,-36 72,-0 126,-0 126,-36\" stroke=\"black\"/>\n<text font-family=\"Times,serif\" font-size=\"14.00\" text-anchor=\"middle\" x=\"99\" y=\"-14.3\">1</text>\n</g>\n<!-- &#45;386165881050763553 -->\n<g class=\"node\" id=\"node3\"><title>-386165881050763553</title>\n<polygon fill=\"none\" points=\"198,-36 144,-36 144,-0 198,-0 198,-36\" stroke=\"black\"/>\n<text font-family=\"Times,serif\" font-size=\"14.00\" text-anchor=\"middle\" x=\"171\" y=\"-14.3\">2</text>\n</g>\n<!-- &#45;386165881049681028 -->\n<g class=\"node\" id=\"node4\"><title>-386165881049681028</title>\n<polygon fill=\"none\" points=\"270,-36 216,-36 216,-0 270,-0 270,-36\" stroke=\"black\"/>\n<text font-family=\"Times,serif\" font-size=\"14.00\" text-anchor=\"middle\" x=\"243\" y=\"-14.3\">3</text>\n</g>\n<!-- &#45;386165881052928603 -->\n<g class=\"node\" id=\"node5\"><title>-386165881052928603</title>\n<polygon fill=\"none\" points=\"342,-36 288,-36 288,-0 342,-0 342,-36\" stroke=\"black\"/>\n<text font-family=\"Times,serif\" font-size=\"14.00\" text-anchor=\"middle\" x=\"315\" y=\"-14.3\">4</text>\n</g>\n<!-- &#45;386165881051846078 -->\n<g class=\"node\" id=\"node6\"><title>-386165881051846078</title>\n<polygon fill=\"none\" points=\"414,-36 360,-36 360,-0 414,-0 414,-36\" stroke=\"black\"/>\n<text font-family=\"Times,serif\" font-size=\"14.00\" text-anchor=\"middle\" x=\"387\" y=\"-14.3\">5</text>\n</g>\n<!-- &#45;386165881055093653 -->\n<g class=\"node\" id=\"node7\"><title>-386165881055093653</title>\n<polygon fill=\"none\" points=\"486,-36 432,-36 432,-0 486,-0 486,-36\" stroke=\"black\"/>\n<text font-family=\"Times,serif\" font-size=\"14.00\" text-anchor=\"middle\" x=\"459\" y=\"-14.3\">6</text>\n</g>\n<!-- &#45;386165881054011128 -->\n<g class=\"node\" id=\"node8\"><title>-386165881054011128</title>\n<polygon fill=\"none\" points=\"558,-36 504,-36 504,-0 558,-0 558,-36\" stroke=\"black\"/>\n<text font-family=\"Times,serif\" font-size=\"14.00\" text-anchor=\"middle\" x=\"531\" y=\"-14.3\">7</text>\n</g>\n<!-- &#45;386165881039938303 -->\n<g class=\"node\" id=\"node9\"><title>-386165881039938303</title>\n<polygon fill=\"none\" points=\"630,-36 576,-36 576,-0 630,-0 630,-36\" stroke=\"black\"/>\n<text font-family=\"Times,serif\" font-size=\"14.00\" text-anchor=\"middle\" x=\"603\" y=\"-14.3\">8</text>\n</g>\n<!-- &#45;386165881038855778 -->\n<g class=\"node\" id=\"node10\"><title>-386165881038855778</title>\n<polygon fill=\"none\" points=\"702,-36 648,-36 648,-0 702,-0 702,-36\" stroke=\"black\"/>\n<text font-family=\"Times,serif\" font-size=\"14.00\" text-anchor=\"middle\" x=\"675\" y=\"-14.3\">9</text>\n</g>\n<!-- &#45;386165881042103353 -->\n<g class=\"node\" id=\"node11\"><title>-386165881042103353</title>\n<polygon fill=\"none\" points=\"774,-36 720,-36 720,-0 774,-0 774,-36\" stroke=\"black\"/>\n<text font-family=\"Times,serif\" font-size=\"14.00\" text-anchor=\"middle\" x=\"747\" y=\"-14.3\">10</text>\n</g>\n<!-- &#45;386165881041020828 -->\n<g class=\"node\" id=\"node12\"><title>-386165881041020828</title>\n<polygon fill=\"none\" points=\"846,-36 792,-36 792,-0 846,-0 846,-36\" stroke=\"black\"/>\n<text font-family=\"Times,serif\" font-size=\"14.00\" text-anchor=\"middle\" x=\"819\" y=\"-14.3\">11</text>\n</g>\n<!-- &#45;386165881044268403 -->\n<g class=\"node\" id=\"node13\"><title>-386165881044268403</title>\n<polygon fill=\"none\" points=\"918,-36 864,-36 864,-0 918,-0 918,-36\" stroke=\"black\"/>\n<text font-family=\"Times,serif\" font-size=\"14.00\" text-anchor=\"middle\" x=\"891\" y=\"-14.3\">12</text>\n</g>\n<!-- &#45;386165881043185878 -->\n<g class=\"node\" id=\"node14\"><title>-386165881043185878</title>\n<polygon fill=\"none\" points=\"990,-36 936,-36 936,-0 990,-0 990,-36\" stroke=\"black\"/>\n<text font-family=\"Times,serif\" font-size=\"14.00\" text-anchor=\"middle\" x=\"963\" y=\"-14.3\">13</text>\n</g>\n<!-- &#45;386165881046433453 -->\n<g class=\"node\" id=\"node15\"><title>-386165881046433453</title>\n<polygon fill=\"none\" points=\"1062,-36 1008,-36 1008,-0 1062,-0 1062,-36\" stroke=\"black\"/>\n<text font-family=\"Times,serif\" font-size=\"14.00\" text-anchor=\"middle\" x=\"1035\" y=\"-14.3\">14</text>\n</g>\n<!-- &#45;386165881045350928 -->\n<g class=\"node\" id=\"node16\"><title>-386165881045350928</title>\n<polygon fill=\"none\" points=\"1134,-36 1080,-36 1080,-0 1134,-0 1134,-36\" stroke=\"black\"/>\n<text font-family=\"Times,serif\" font-size=\"14.00\" text-anchor=\"middle\" x=\"1107\" y=\"-14.3\">15</text>\n</g>\n<!-- &#45;386165881065918903 -->\n<g class=\"node\" id=\"node17\"><title>-386165881065918903</title>\n<polygon fill=\"none\" points=\"1206,-36 1152,-36 1152,-0 1206,-0 1206,-36\" stroke=\"black\"/>\n<text font-family=\"Times,serif\" font-size=\"14.00\" text-anchor=\"middle\" x=\"1179\" y=\"-14.3\">16</text>\n</g>\n<!-- &#45;386165881064836378 -->\n<g class=\"node\" id=\"node18\"><title>-386165881064836378</title>\n<polygon fill=\"none\" points=\"1278,-36 1224,-36 1224,-0 1278,-0 1278,-36\" stroke=\"black\"/>\n<text font-family=\"Times,serif\" font-size=\"14.00\" text-anchor=\"middle\" x=\"1251\" y=\"-14.3\">17</text>\n</g>\n<!-- &#45;386165881068083953 -->\n<g class=\"node\" id=\"node19\"><title>-386165881068083953</title>\n<polygon fill=\"none\" points=\"1350,-36 1296,-36 1296,-0 1350,-0 1350,-36\" stroke=\"black\"/>\n<text font-family=\"Times,serif\" font-size=\"14.00\" text-anchor=\"middle\" x=\"1323\" y=\"-14.3\">18</text>\n</g>\n<!-- &#45;386165881067001428 -->\n<g class=\"node\" id=\"node20\"><title>-386165881067001428</title>\n<polygon fill=\"none\" points=\"1422,-36 1368,-36 1368,-0 1422,-0 1422,-36\" stroke=\"black\"/>\n<text font-family=\"Times,serif\" font-size=\"14.00\" text-anchor=\"middle\" x=\"1395\" y=\"-14.3\">19</text>\n</g>\n<!-- &#45;386165881070249003 -->\n<g class=\"node\" id=\"node21\"><title>-386165881070249003</title>\n<polygon fill=\"none\" points=\"1494,-36 1440,-36 1440,-0 1494,-0 1494,-36\" stroke=\"black\"/>\n<text font-family=\"Times,serif\" font-size=\"14.00\" text-anchor=\"middle\" x=\"1467\" y=\"-14.3\">20</text>\n</g>\n<!-- &#45;386165881069166478 -->\n<g class=\"node\" id=\"node22\"><title>-386165881069166478</title>\n<polygon fill=\"none\" points=\"1566,-36 1512,-36 1512,-0 1566,-0 1566,-36\" stroke=\"black\"/>\n<text font-family=\"Times,serif\" font-size=\"14.00\" text-anchor=\"middle\" x=\"1539\" y=\"-14.3\">21</text>\n</g>\n<!-- &#45;386165881072414053 -->\n<g class=\"node\" id=\"node23\"><title>-386165881072414053</title>\n<polygon fill=\"none\" points=\"1638,-36 1584,-36 1584,-0 1638,-0 1638,-36\" stroke=\"black\"/>\n<text font-family=\"Times,serif\" font-size=\"14.00\" text-anchor=\"middle\" x=\"1611\" y=\"-14.3\">22</text>\n</g>\n<!-- &#45;386165881071331528 -->\n<g class=\"node\" id=\"node24\"><title>-386165881071331528</title>\n<polygon fill=\"none\" points=\"1710,-36 1656,-36 1656,-0 1710,-0 1710,-36\" stroke=\"black\"/>\n<text font-family=\"Times,serif\" font-size=\"14.00\" text-anchor=\"middle\" x=\"1683\" y=\"-14.3\">23</text>\n</g>\n<!-- &#45;386165881057258703 -->\n<g class=\"node\" id=\"node25\"><title>-386165881057258703</title>\n<polygon fill=\"none\" points=\"1782,-36 1728,-36 1728,-0 1782,-0 1782,-36\" stroke=\"black\"/>\n<text font-family=\"Times,serif\" font-size=\"14.00\" text-anchor=\"middle\" x=\"1755\" y=\"-14.3\">24</text>\n</g>\n<!-- &#45;386165881056176178 -->\n<g class=\"node\" id=\"node26\"><title>-386165881056176178</title>\n<polygon fill=\"none\" points=\"1854,-36 1800,-36 1800,-0 1854,-0 1854,-36\" stroke=\"black\"/>\n<text font-family=\"Times,serif\" font-size=\"14.00\" text-anchor=\"middle\" x=\"1827\" y=\"-14.3\">25</text>\n</g>\n<!-- &#45;386165881059423753 -->\n<g class=\"node\" id=\"node27\"><title>-386165881059423753</title>\n<polygon fill=\"none\" points=\"1926,-36 1872,-36 1872,-0 1926,-0 1926,-36\" stroke=\"black\"/>\n<text font-family=\"Times,serif\" font-size=\"14.00\" text-anchor=\"middle\" x=\"1899\" y=\"-14.3\">26</text>\n</g>\n<!-- &#45;386165881058341228 -->\n<g class=\"node\" id=\"node28\"><title>-386165881058341228</title>\n<polygon fill=\"none\" points=\"1998,-36 1944,-36 1944,-0 1998,-0 1998,-36\" stroke=\"black\"/>\n<text font-family=\"Times,serif\" font-size=\"14.00\" text-anchor=\"middle\" x=\"1971\" y=\"-14.3\">27</text>\n</g>\n<!-- &#45;386165881061588803 -->\n<g class=\"node\" id=\"node29\"><title>-386165881061588803</title>\n<polygon fill=\"none\" points=\"2070,-36 2016,-36 2016,-0 2070,-0 2070,-36\" stroke=\"black\"/>\n<text font-family=\"Times,serif\" font-size=\"14.00\" text-anchor=\"middle\" x=\"2043\" y=\"-14.3\">28</text>\n</g>\n<!-- &#45;386165881060506278 -->\n<g class=\"node\" id=\"node30\"><title>-386165881060506278</title>\n<polygon fill=\"none\" points=\"2142,-36 2088,-36 2088,-0 2142,-0 2142,-36\" stroke=\"black\"/>\n<text font-family=\"Times,serif\" font-size=\"14.00\" text-anchor=\"middle\" x=\"2115\" y=\"-14.3\">29</text>\n</g>\n<!-- &#45;386165881063753853 -->\n<g class=\"node\" id=\"node31\"><title>-386165881063753853</title>\n<polygon fill=\"none\" points=\"2214,-36 2160,-36 2160,-0 2214,-0 2214,-36\" stroke=\"black\"/>\n<text font-family=\"Times,serif\" font-size=\"14.00\" text-anchor=\"middle\" x=\"2187\" y=\"-14.3\">30</text>\n</g>\n<!-- &#45;386165881062671328 -->\n<g class=\"node\" id=\"node32\"><title>-386165881062671328</title>\n<polygon fill=\"none\" points=\"2286,-36 2232,-36 2232,-0 2286,-0 2286,-36\" stroke=\"black\"/>\n<text font-family=\"Times,serif\" font-size=\"14.00\" text-anchor=\"middle\" x=\"2259\" y=\"-14.3\">31</text>\n</g>\n<!-- &#45;386165881083239303 -->\n<g class=\"node\" id=\"node33\"><title>-386165881083239303</title>\n<polygon fill=\"none\" points=\"2358,-36 2304,-36 2304,-0 2358,-0 2358,-36\" stroke=\"black\"/>\n<text font-family=\"Times,serif\" font-size=\"14.00\" text-anchor=\"middle\" x=\"2331\" y=\"-14.3\">32</text>\n</g>\n<!-- &#45;386165881082156778 -->\n<g class=\"node\" id=\"node34\"><title>-386165881082156778</title>\n<polygon fill=\"none\" points=\"2430,-36 2376,-36 2376,-0 2430,-0 2430,-36\" stroke=\"black\"/>\n<text font-family=\"Times,serif\" font-size=\"14.00\" text-anchor=\"middle\" x=\"2403\" y=\"-14.3\">33</text>\n</g>\n<!-- &#45;386165881085404353 -->\n<g class=\"node\" id=\"node35\"><title>-386165881085404353</title>\n<polygon fill=\"none\" points=\"2502,-36 2448,-36 2448,-0 2502,-0 2502,-36\" stroke=\"black\"/>\n<text font-family=\"Times,serif\" font-size=\"14.00\" text-anchor=\"middle\" x=\"2475\" y=\"-14.3\">34</text>\n</g>\n<!-- &#45;386165881084321828 -->\n<g class=\"node\" id=\"node36\"><title>-386165881084321828</title>\n<polygon fill=\"none\" points=\"2574,-36 2520,-36 2520,-0 2574,-0 2574,-36\" stroke=\"black\"/>\n<text font-family=\"Times,serif\" font-size=\"14.00\" text-anchor=\"middle\" x=\"2547\" y=\"-14.3\">35</text>\n</g>\n<!-- &#45;386165881087569403 -->\n<g class=\"node\" id=\"node37\"><title>-386165881087569403</title>\n<polygon fill=\"none\" points=\"2646,-36 2592,-36 2592,-0 2646,-0 2646,-36\" stroke=\"black\"/>\n<text font-family=\"Times,serif\" font-size=\"14.00\" text-anchor=\"middle\" x=\"2619\" y=\"-14.3\">36</text>\n</g>\n<!-- &#45;386165881086486878 -->\n<g class=\"node\" id=\"node38\"><title>-386165881086486878</title>\n<polygon fill=\"none\" points=\"2718,-36 2664,-36 2664,-0 2718,-0 2718,-36\" stroke=\"black\"/>\n<text font-family=\"Times,serif\" font-size=\"14.00\" text-anchor=\"middle\" x=\"2691\" y=\"-14.3\">37</text>\n</g>\n<!-- &#45;386165881089734453 -->\n<g class=\"node\" id=\"node39\"><title>-386165881089734453</title>\n<polygon fill=\"none\" points=\"2790,-36 2736,-36 2736,-0 2790,-0 2790,-36\" stroke=\"black\"/>\n<text font-family=\"Times,serif\" font-size=\"14.00\" text-anchor=\"middle\" x=\"2763\" y=\"-14.3\">38</text>\n</g>\n<!-- &#45;386165881088651928 -->\n<g class=\"node\" id=\"node40\"><title>-386165881088651928</title>\n<polygon fill=\"none\" points=\"2862,-36 2808,-36 2808,-0 2862,-0 2862,-36\" stroke=\"black\"/>\n<text font-family=\"Times,serif\" font-size=\"14.00\" text-anchor=\"middle\" x=\"2835\" y=\"-14.3\">39</text>\n</g>\n<!-- &#45;386165881074579103 -->\n<g class=\"node\" id=\"node41\"><title>-386165881074579103</title>\n<polygon fill=\"none\" points=\"2934,-36 2880,-36 2880,-0 2934,-0 2934,-36\" stroke=\"black\"/>\n<text font-family=\"Times,serif\" font-size=\"14.00\" text-anchor=\"middle\" x=\"2907\" y=\"-14.3\">40</text>\n</g>\n<!-- &#45;386165881073496578 -->\n<g class=\"node\" id=\"node42\"><title>-386165881073496578</title>\n<polygon fill=\"none\" points=\"3006,-36 2952,-36 2952,-0 3006,-0 3006,-36\" stroke=\"black\"/>\n<text font-family=\"Times,serif\" font-size=\"14.00\" text-anchor=\"middle\" x=\"2979\" y=\"-14.3\">41</text>\n</g>\n<!-- &#45;386165881076744153 -->\n<g class=\"node\" id=\"node43\"><title>-386165881076744153</title>\n<polygon fill=\"none\" points=\"3078,-36 3024,-36 3024,-0 3078,-0 3078,-36\" stroke=\"black\"/>\n<text font-family=\"Times,serif\" font-size=\"14.00\" text-anchor=\"middle\" x=\"3051\" y=\"-14.3\">42</text>\n</g>\n<!-- &#45;386165881075661628 -->\n<g class=\"node\" id=\"node44\"><title>-386165881075661628</title>\n<polygon fill=\"none\" points=\"3150,-36 3096,-36 3096,-0 3150,-0 3150,-36\" stroke=\"black\"/>\n<text font-family=\"Times,serif\" font-size=\"14.00\" text-anchor=\"middle\" x=\"3123\" y=\"-14.3\">43</text>\n</g>\n<!-- &#45;386165881078909203 -->\n<g class=\"node\" id=\"node45\"><title>-386165881078909203</title>\n<polygon fill=\"none\" points=\"3222,-36 3168,-36 3168,-0 3222,-0 3222,-36\" stroke=\"black\"/>\n<text font-family=\"Times,serif\" font-size=\"14.00\" text-anchor=\"middle\" x=\"3195\" y=\"-14.3\">44</text>\n</g>\n<!-- &#45;386165881077826678 -->\n<g class=\"node\" id=\"node46\"><title>-386165881077826678</title>\n<polygon fill=\"none\" points=\"3294,-36 3240,-36 3240,-0 3294,-0 3294,-36\" stroke=\"black\"/>\n<text font-family=\"Times,serif\" font-size=\"14.00\" text-anchor=\"middle\" x=\"3267\" y=\"-14.3\">45</text>\n</g>\n<!-- &#45;386165881081074253 -->\n<g class=\"node\" id=\"node47\"><title>-386165881081074253</title>\n<polygon fill=\"none\" points=\"3366,-36 3312,-36 3312,-0 3366,-0 3366,-36\" stroke=\"black\"/>\n<text font-family=\"Times,serif\" font-size=\"14.00\" text-anchor=\"middle\" x=\"3339\" y=\"-14.3\">46</text>\n</g>\n<!-- &#45;386165881079991728 -->\n<g class=\"node\" id=\"node48\"><title>-386165881079991728</title>\n<polygon fill=\"none\" points=\"3438,-36 3384,-36 3384,-0 3438,-0 3438,-36\" stroke=\"black\"/>\n<text font-family=\"Times,serif\" font-size=\"14.00\" text-anchor=\"middle\" x=\"3411\" y=\"-14.3\">47</text>\n</g>\n<!-- &#45;386165881100559703 -->\n<g class=\"node\" id=\"node49\"><title>-386165881100559703</title>\n<polygon fill=\"none\" points=\"3510,-36 3456,-36 3456,-0 3510,-0 3510,-36\" stroke=\"black\"/>\n<text font-family=\"Times,serif\" font-size=\"14.00\" text-anchor=\"middle\" x=\"3483\" y=\"-14.3\">48</text>\n</g>\n<!-- &#45;386165881099477178 -->\n<g class=\"node\" id=\"node50\"><title>-386165881099477178</title>\n<polygon fill=\"none\" points=\"3582,-36 3528,-36 3528,-0 3582,-0 3582,-36\" stroke=\"black\"/>\n<text font-family=\"Times,serif\" font-size=\"14.00\" text-anchor=\"middle\" x=\"3555\" y=\"-14.3\">49</text>\n</g>\n<!-- &#45;386165881102724753 -->\n<g class=\"node\" id=\"node51\"><title>-386165881102724753</title>\n<polygon fill=\"none\" points=\"3654,-36 3600,-36 3600,-0 3654,-0 3654,-36\" stroke=\"black\"/>\n<text font-family=\"Times,serif\" font-size=\"14.00\" text-anchor=\"middle\" x=\"3627\" y=\"-14.3\">50</text>\n</g>\n<!-- &#45;386165881101642228 -->\n<g class=\"node\" id=\"node52\"><title>-386165881101642228</title>\n<polygon fill=\"none\" points=\"3726,-36 3672,-36 3672,-0 3726,-0 3726,-36\" stroke=\"black\"/>\n<text font-family=\"Times,serif\" font-size=\"14.00\" text-anchor=\"middle\" x=\"3699\" y=\"-14.3\">51</text>\n</g>\n<!-- &#45;386165881104889803 -->\n<g class=\"node\" id=\"node53\"><title>-386165881104889803</title>\n<polygon fill=\"none\" points=\"3798,-36 3744,-36 3744,-0 3798,-0 3798,-36\" stroke=\"black\"/>\n<text font-family=\"Times,serif\" font-size=\"14.00\" text-anchor=\"middle\" x=\"3771\" y=\"-14.3\">52</text>\n</g>\n<!-- &#45;386165881103807278 -->\n<g class=\"node\" id=\"node54\"><title>-386165881103807278</title>\n<polygon fill=\"none\" points=\"3870,-36 3816,-36 3816,-0 3870,-0 3870,-36\" stroke=\"black\"/>\n<text font-family=\"Times,serif\" font-size=\"14.00\" text-anchor=\"middle\" x=\"3843\" y=\"-14.3\">53</text>\n</g>\n<!-- &#45;386165881107054853 -->\n<g class=\"node\" id=\"node55\"><title>-386165881107054853</title>\n<polygon fill=\"none\" points=\"3942,-36 3888,-36 3888,-0 3942,-0 3942,-36\" stroke=\"black\"/>\n<text font-family=\"Times,serif\" font-size=\"14.00\" text-anchor=\"middle\" x=\"3915\" y=\"-14.3\">54</text>\n</g>\n<!-- &#45;386165881105972328 -->\n<g class=\"node\" id=\"node56\"><title>-386165881105972328</title>\n<polygon fill=\"none\" points=\"4014,-36 3960,-36 3960,-0 4014,-0 4014,-36\" stroke=\"black\"/>\n<text font-family=\"Times,serif\" font-size=\"14.00\" text-anchor=\"middle\" x=\"3987\" y=\"-14.3\">55</text>\n</g>\n<!-- &#45;386165881091899503 -->\n<g class=\"node\" id=\"node57\"><title>-386165881091899503</title>\n<polygon fill=\"none\" points=\"4086,-36 4032,-36 4032,-0 4086,-0 4086,-36\" stroke=\"black\"/>\n<text font-family=\"Times,serif\" font-size=\"14.00\" text-anchor=\"middle\" x=\"4059\" y=\"-14.3\">56</text>\n</g>\n<!-- &#45;386165881090816978 -->\n<g class=\"node\" id=\"node58\"><title>-386165881090816978</title>\n<polygon fill=\"none\" points=\"4158,-36 4104,-36 4104,-0 4158,-0 4158,-36\" stroke=\"black\"/>\n<text font-family=\"Times,serif\" font-size=\"14.00\" text-anchor=\"middle\" x=\"4131\" y=\"-14.3\">57</text>\n</g>\n<!-- &#45;386165881094064553 -->\n<g class=\"node\" id=\"node59\"><title>-386165881094064553</title>\n<polygon fill=\"none\" points=\"4230,-36 4176,-36 4176,-0 4230,-0 4230,-36\" stroke=\"black\"/>\n<text font-family=\"Times,serif\" font-size=\"14.00\" text-anchor=\"middle\" x=\"4203\" y=\"-14.3\">58</text>\n</g>\n<!-- &#45;386165881092982028 -->\n<g class=\"node\" id=\"node60\"><title>-386165881092982028</title>\n<polygon fill=\"none\" points=\"4302,-36 4248,-36 4248,-0 4302,-0 4302,-36\" stroke=\"black\"/>\n<text font-family=\"Times,serif\" font-size=\"14.00\" text-anchor=\"middle\" x=\"4275\" y=\"-14.3\">59</text>\n</g>\n<!-- &#45;386165881096229603 -->\n<g class=\"node\" id=\"node61\"><title>-386165881096229603</title>\n<polygon fill=\"none\" points=\"4374,-36 4320,-36 4320,-0 4374,-0 4374,-36\" stroke=\"black\"/>\n<text font-family=\"Times,serif\" font-size=\"14.00\" text-anchor=\"middle\" x=\"4347\" y=\"-14.3\">60</text>\n</g>\n<!-- &#45;386165881095147078 -->\n<g class=\"node\" id=\"node62\"><title>-386165881095147078</title>\n<polygon fill=\"none\" points=\"4446,-36 4392,-36 4392,-0 4446,-0 4446,-36\" stroke=\"black\"/>\n<text font-family=\"Times,serif\" font-size=\"14.00\" text-anchor=\"middle\" x=\"4419\" y=\"-14.3\">61</text>\n</g>\n<!-- &#45;386165881098394653 -->\n<g class=\"node\" id=\"node63\"><title>-386165881098394653</title>\n<polygon fill=\"none\" points=\"4518,-36 4464,-36 4464,-0 4518,-0 4518,-36\" stroke=\"black\"/>\n<text font-family=\"Times,serif\" font-size=\"14.00\" text-anchor=\"middle\" x=\"4491\" y=\"-14.3\">62</text>\n</g>\n<!-- &#45;386165881097312128 -->\n<g class=\"node\" id=\"node64\"><title>-386165881097312128</title>\n<polygon fill=\"none\" points=\"4590,-36 4536,-36 4536,-0 4590,-0 4590,-36\" stroke=\"black\"/>\n<text font-family=\"Times,serif\" font-size=\"14.00\" text-anchor=\"middle\" x=\"4563\" y=\"-14.3\">63</text>\n</g>\n<!-- &#45;386165880979316903 -->\n<g class=\"node\" id=\"node65\"><title>-386165880979316903</title>\n<polygon fill=\"none\" points=\"4662,-36 4608,-36 4608,-0 4662,-0 4662,-36\" stroke=\"black\"/>\n<text font-family=\"Times,serif\" font-size=\"14.00\" text-anchor=\"middle\" x=\"4635\" y=\"-14.3\">64</text>\n</g>\n<!-- &#45;386165880978234378 -->\n<g class=\"node\" id=\"node66\"><title>-386165880978234378</title>\n<polygon fill=\"none\" points=\"4734,-36 4680,-36 4680,-0 4734,-0 4734,-36\" stroke=\"black\"/>\n<text font-family=\"Times,serif\" font-size=\"14.00\" text-anchor=\"middle\" x=\"4707\" y=\"-14.3\">65</text>\n</g>\n<!-- &#45;386165880981481953 -->\n<g class=\"node\" id=\"node67\"><title>-386165880981481953</title>\n<polygon fill=\"none\" points=\"4806,-36 4752,-36 4752,-0 4806,-0 4806,-36\" stroke=\"black\"/>\n<text font-family=\"Times,serif\" font-size=\"14.00\" text-anchor=\"middle\" x=\"4779\" y=\"-14.3\">66</text>\n</g>\n<!-- &#45;386165880980399428 -->\n<g class=\"node\" id=\"node68\"><title>-386165880980399428</title>\n<polygon fill=\"none\" points=\"4878,-36 4824,-36 4824,-0 4878,-0 4878,-36\" stroke=\"black\"/>\n<text font-family=\"Times,serif\" font-size=\"14.00\" text-anchor=\"middle\" x=\"4851\" y=\"-14.3\">67</text>\n</g>\n<!-- &#45;386165880983647003 -->\n<g class=\"node\" id=\"node69\"><title>-386165880983647003</title>\n<polygon fill=\"none\" points=\"4950,-36 4896,-36 4896,-0 4950,-0 4950,-36\" stroke=\"black\"/>\n<text font-family=\"Times,serif\" font-size=\"14.00\" text-anchor=\"middle\" x=\"4923\" y=\"-14.3\">68</text>\n</g>\n</g>\n</svg>",
      "text/plain": [
       "<IPython.core.display.SVG object>"
      ]
     },
     "metadata": {},
     "execution_count": 17
    }
   ],
   "metadata": {}
  },
  {
   "cell_type": "markdown",
   "source": [
    "Computing operations on this data will now be much faster:"
   ],
   "metadata": {}
  },
  {
   "cell_type": "code",
   "execution_count": 18,
   "source": [
    "ddf['age'].mean().compute()"
   ],
   "outputs": [
    {
     "output_type": "execute_result",
     "data": {
      "text/plain": [
       "40.124193580104645"
      ]
     },
     "metadata": {},
     "execution_count": 18
    }
   ],
   "metadata": {}
  },
  {
   "cell_type": "markdown",
   "source": [
    "The beauty of Dask is that working with your data, even though it is distributed and massive, is a lot like working with smaller in-memory datasets."
   ],
   "metadata": {}
  },
  {
   "cell_type": "code",
   "execution_count": 19,
   "source": [
    "ddf.head() # As a convenience, no need to `.compute` the `head()` method"
   ],
   "outputs": [
    {
     "output_type": "execute_result",
     "data": {
      "text/html": [
       "<div>\n",
       "<style scoped>\n",
       "    .dataframe tbody tr th:only-of-type {\n",
       "        vertical-align: middle;\n",
       "    }\n",
       "\n",
       "    .dataframe tbody tr th {\n",
       "        vertical-align: top;\n",
       "    }\n",
       "\n",
       "    .dataframe thead th {\n",
       "        text-align: right;\n",
       "    }\n",
       "</style>\n",
       "<table border=\"1\" class=\"dataframe\">\n",
       "  <thead>\n",
       "    <tr style=\"text-align: right;\">\n",
       "      <th></th>\n",
       "      <th>age</th>\n",
       "      <th>sex</th>\n",
       "      <th>county</th>\n",
       "      <th>lat</th>\n",
       "      <th>long</th>\n",
       "      <th>name</th>\n",
       "    </tr>\n",
       "  </thead>\n",
       "  <tbody>\n",
       "    <tr>\n",
       "      <th>0</th>\n",
       "      <td>0.0</td>\n",
       "      <td>m</td>\n",
       "      <td>Darlington</td>\n",
       "      <td>54.549641</td>\n",
       "      <td>-1.493884</td>\n",
       "      <td>HARRISON</td>\n",
       "    </tr>\n",
       "    <tr>\n",
       "      <th>1</th>\n",
       "      <td>0.0</td>\n",
       "      <td>m</td>\n",
       "      <td>Darlington</td>\n",
       "      <td>54.523945</td>\n",
       "      <td>-1.401142</td>\n",
       "      <td>LAKSH</td>\n",
       "    </tr>\n",
       "    <tr>\n",
       "      <th>2</th>\n",
       "      <td>0.0</td>\n",
       "      <td>m</td>\n",
       "      <td>Darlington</td>\n",
       "      <td>54.561127</td>\n",
       "      <td>-1.690068</td>\n",
       "      <td>MUHAMMAD</td>\n",
       "    </tr>\n",
       "    <tr>\n",
       "      <th>3</th>\n",
       "      <td>0.0</td>\n",
       "      <td>m</td>\n",
       "      <td>Darlington</td>\n",
       "      <td>54.542988</td>\n",
       "      <td>-1.543216</td>\n",
       "      <td>GRAYSON</td>\n",
       "    </tr>\n",
       "    <tr>\n",
       "      <th>4</th>\n",
       "      <td>0.0</td>\n",
       "      <td>m</td>\n",
       "      <td>Darlington</td>\n",
       "      <td>54.532101</td>\n",
       "      <td>-1.569116</td>\n",
       "      <td>FINLAY</td>\n",
       "    </tr>\n",
       "  </tbody>\n",
       "</table>\n",
       "</div>"
      ],
      "text/plain": [
       "   age sex      county        lat      long      name\n",
       "0  0.0   m  Darlington  54.549641 -1.493884  HARRISON\n",
       "1  0.0   m  Darlington  54.523945 -1.401142     LAKSH\n",
       "2  0.0   m  Darlington  54.561127 -1.690068  MUHAMMAD\n",
       "3  0.0   m  Darlington  54.542988 -1.543216   GRAYSON\n",
       "4  0.0   m  Darlington  54.532101 -1.569116    FINLAY"
      ]
     },
     "metadata": {},
     "execution_count": 19
    }
   ],
   "metadata": {}
  },
  {
   "cell_type": "code",
   "execution_count": 20,
   "source": [
    "ddf.count().compute()"
   ],
   "outputs": [
    {
     "output_type": "execute_result",
     "data": {
      "text/plain": [
       "age       292399470\n",
       "sex       292399470\n",
       "county    292399470\n",
       "lat       292399470\n",
       "long      292399470\n",
       "name      292399470\n",
       "dtype: int64"
      ]
     },
     "metadata": {},
     "execution_count": 20
    }
   ],
   "metadata": {}
  },
  {
   "cell_type": "code",
   "execution_count": 21,
   "source": [
    "ddf.dtypes"
   ],
   "outputs": [
    {
     "output_type": "execute_result",
     "data": {
      "text/plain": [
       "age       float32\n",
       "sex        object\n",
       "county     object\n",
       "lat       float32\n",
       "long      float32\n",
       "name       object\n",
       "dtype: object"
      ]
     },
     "metadata": {},
     "execution_count": 21
    }
   ],
   "metadata": {}
  },
  {
   "cell_type": "markdown",
   "source": [
    "### Counties North of Sunderland with Dask"
   ],
   "metadata": {}
  },
  {
   "cell_type": "markdown",
   "source": [
    "Here we perform the earlier task but on the distributed dataset. We identify the latitude of the northernmost resident of Sunderland county (the person with the maximum `lat` value), and then determine which counties have any residents north of this resident."
   ],
   "metadata": {}
  },
  {
   "cell_type": "code",
   "execution_count": 22,
   "source": [
    "sunderland_residents = ddf.loc[ddf['county'] == 'Sunderland']\r\n",
    "northmost_sunderland_lat = sunderland_residents['lat'].max()\r\n",
    "counties_with_pop_north_of = ddf.loc[ddf['lat'] > northmost_sunderland_lat]['county'].unique()\r\n",
    "counties_with_pop_north_of.compute()\r\n",
    "counties_with_pop_north_of.head()"
   ],
   "outputs": [
    {
     "output_type": "execute_result",
     "data": {
      "text/plain": [
       "0          County Durham\n",
       "1                Cumbria\n",
       "2              Gateshead\n",
       "3    Newcastle upon Tyne\n",
       "4         North Tyneside\n",
       "Name: county, dtype: object"
      ]
     },
     "metadata": {},
     "execution_count": 22
    }
   ],
   "metadata": {}
  },
  {
   "cell_type": "markdown",
   "source": [
    "## Grid Coordinate Conversion with Dask cuDF"
   ],
   "metadata": {}
  },
  {
   "cell_type": "markdown",
   "source": [
    "Here we will work with Dask cuDF more by revisiting the user-defined grid conversion function to observe how Dask distributes the work of computational graphs and will continue preparing data for GPU-accelerated machine learning later"
   ],
   "metadata": {}
  },
  {
   "cell_type": "markdown",
   "source": [
    "We create a Dask cluster before importing `dask_cudf` to ensure the latter has the right CUDA context. We will import the elements necessary for creating the Dask cluster and wait to import `dask_cudf` until after the cluster has been created."
   ],
   "metadata": {}
  },
  {
   "cell_type": "code",
   "execution_count": 3,
   "source": [
    "import subprocess\r\n",
    "\r\n",
    "from dask.distributed import Client, wait, progress\r\n",
    "from dask_cuda import LocalCUDACluster\r\n",
    "\r\n",
    "import dask.dataframe as dd"
   ],
   "outputs": [],
   "metadata": {}
  },
  {
   "cell_type": "code",
   "execution_count": 4,
   "source": [
    "cmd = \"hostname --all-ip-addresses\"\r\n",
    "process = subprocess.Popen(cmd.split(), stdout=subprocess.PIPE)\r\n",
    "output, error = process.communicate()\r\n",
    "IPADDR = str(output.decode()).split()[0]\r\n",
    "\r\n",
    "cluster = LocalCUDACluster(ip=IPADDR)\r\n",
    "client = Client(cluster)\r\n",
    "client"
   ],
   "outputs": [
    {
     "output_type": "stream",
     "name": "stderr",
     "text": [
      "/opt/conda/envs/rapids/lib/python3.7/site-packages/distributed/node.py:155: UserWarning: Port 8787 is already in use.\n",
      "Perhaps you already have a cluster running?\n",
      "Hosting the HTTP server on port 36470 instead\n",
      "  http_address[\"port\"], self.http_server.port\n"
     ]
    },
    {
     "output_type": "execute_result",
     "data": {
      "text/html": [
       "<table style=\"border: 2px solid white;\">\n",
       "<tr>\n",
       "<td style=\"vertical-align: top; border: 0px solid white\">\n",
       "<h3 style=\"text-align: left;\">Client</h3>\n",
       "<ul style=\"text-align: left; list-style: none; margin: 0; padding: 0;\">\n",
       "  <li><b>Scheduler: </b>tcp://172.18.0.2:42442</li>\n",
       "  <li><b>Dashboard: </b><a href='http://172.18.0.2:36470/status' target='_blank'>http://172.18.0.2:36470/status</a></li>\n",
       "</ul>\n",
       "</td>\n",
       "<td style=\"vertical-align: top; border: 0px solid white\">\n",
       "<h3 style=\"text-align: left;\">Cluster</h3>\n",
       "<ul style=\"text-align: left; list-style:none; margin: 0; padding: 0;\">\n",
       "  <li><b>Workers: </b>4</li>\n",
       "  <li><b>Cores: </b>4</li>\n",
       "  <li><b>Memory: </b>186.82 GiB</li>\n",
       "</ul>\n",
       "</td>\n",
       "</tr>\n",
       "</table>"
      ],
      "text/plain": [
       "<Client: 'tcp://172.18.0.2:42442' processes=4 threads=4, memory=186.82 GiB>"
      ]
     },
     "metadata": {},
     "execution_count": 4
    }
   ],
   "metadata": {}
  },
  {
   "cell_type": "markdown",
   "source": [
    "Now we Import CUDA context creators after setting up the cluster so they don't lock to a single device."
   ],
   "metadata": {}
  },
  {
   "cell_type": "code",
   "execution_count": 5,
   "source": [
    "import cudf\r\n",
    "import dask_cudf\r\n",
    "\r\n",
    "import cupy as cp"
   ],
   "outputs": [],
   "metadata": {}
  },
  {
   "cell_type": "markdown",
   "source": [
    "### Lat/Long to Grid Coordinate Conversion with Dask"
   ],
   "metadata": {}
  },
  {
   "cell_type": "markdown",
   "source": [
    "We return again to converting latitude and longitude coordinates into grid coordinates by applying our custom `latlong2osgbgrid` function, however this time we will do so in a distributed fashion with Dask. Before we can do so, we need to discuss a little more specifically about how Dask distributes the computation of its task graphs."
   ],
   "metadata": {}
  },
  {
   "cell_type": "markdown",
   "source": [
    "Internally, Dask dataframes are split into a number of partitions, each being an individual cuDF dataframe. Under the hood, Dask automatically breaks up the work of dataframe methods and operations among these partitions, taking care to communicate efficiently and correctly. For this reason, in using Dask earlier today to perform Dask dataframe operations, you did not have to think explicitly about how Dask had partitioned the Dask dataframes.\n",
    "\n",
    "However, when we would like to work with Dask dataframes outside their built-in methods and operators, such as when applying custom functions, we often need to work more explicitly with the partitions of the Dask dataframe, as we will do now."
   ],
   "metadata": {}
  },
  {
   "cell_type": "markdown",
   "source": [
    "### Dask Grid Converter"
   ],
   "metadata": {}
  },
  {
   "cell_type": "markdown",
   "source": [
    "Ultimately, we are going to map our custom function to each partition of a Dask dataframe using the dataframe's `map_partitions` method.\n",
    "\n",
    "With this in mind, let's look at `latlong2osgbgrid_dask`, noting modifications we have had to make to its CuPy counterpart in order to work effectively when mapped to Dask dataframe partitions rather than run on cuDF columns. There are 4 parts to the refactor, each with accompanying comments."
   ],
   "metadata": {}
  },
  {
   "cell_type": "code",
   "execution_count": 6,
   "source": [
    "# 1) Rather than passing in `lat` and `long` arguments, we pass in a dataframe partition, specifying which columns hold latitude and longitude information.\r\n",
    "def latlong2osgbgrid_dask(part_df, lat_col='lat', long_col='long', input_degrees=True):\r\n",
    "    '''\r\n",
    "    Converts latitude and longitude (ellipsoidal) coordinates into northing and easting (grid) coordinates, using a Transverse Mercator projection.\r\n",
    "    \r\n",
    "    Inputs:\r\n",
    "    part_df: the dask distributed dataframe partition\r\n",
    "    lat_col: the name of the column holding latitude data\r\n",
    "    long_col: the name of the column holding longitude data\r\n",
    "    input_degrees: if True (default), interprets the coordinates as degrees; otherwise, interprets coordinates as radians\r\n",
    "    \r\n",
    "    Output:\r\n",
    "    original dataframe with northing and easting columns concatenated to the right\r\n",
    "    '''\r\n",
    "    \r\n",
    "    # 2) Our previous function expected `lat` and `long` values to each be CuPy array-like, so we convert the relevant columns.\r\n",
    "    lat = cp.asarray(part_df[lat_col])\r\n",
    "    long = cp.asarray(part_df[long_col])\r\n",
    "    \r\n",
    "    # 3) At this point we reuse the previous cupy code until it is time to return values.\r\n",
    "    if input_degrees:\r\n",
    "        lat = lat * cp.pi/180\r\n",
    "        long = long * cp.pi/180\r\n",
    "\r\n",
    "    a = 6377563.396\r\n",
    "    b = 6356256.909\r\n",
    "    e2 = (a**2 - b**2) / a**2\r\n",
    "\r\n",
    "    N0 = -100000 # northing of true origin\r\n",
    "    E0 = 400000 # easting of true origin\r\n",
    "    F0 = .9996012717 # scale factor on central meridian\r\n",
    "    phi0 = 49 * cp.pi / 180 # latitude of true origin\r\n",
    "    lambda0 = -2 * cp.pi / 180 # longitude of true origin and central meridian\r\n",
    "    \r\n",
    "    sinlat = cp.sin(lat)\r\n",
    "    coslat = cp.cos(lat)\r\n",
    "    tanlat = cp.tan(lat)\r\n",
    "    \r\n",
    "    latdiff = lat-phi0\r\n",
    "    longdiff = long-lambda0\r\n",
    "\r\n",
    "    n = (a-b) / (a+b)\r\n",
    "    nu = a * F0 * (1 - e2 * sinlat ** 2) ** -.5\r\n",
    "    rho = a * F0 * (1 - e2) * (1 - e2 * sinlat ** 2) ** -1.5\r\n",
    "    eta2 = nu / rho - 1\r\n",
    "    M = b * F0 * ((1 + n + 5/4 * (n**2 + n**3)) * latdiff - \r\n",
    "                  (3*(n+n**2) + 21/8 * n**3) * cp.sin(latdiff) * cp.cos(lat+phi0) +\r\n",
    "                  15/8 * (n**2 + n**3) * cp.sin(2*(latdiff)) * cp.cos(2*(lat+phi0)) - \r\n",
    "                  35/24 * n**3 * cp.sin(3*(latdiff)) * cp.cos(3*(lat+phi0)))\r\n",
    "    I = M + N0\r\n",
    "    II = nu/2 * sinlat * coslat\r\n",
    "    III = nu/24 * sinlat * coslat ** 3 * (5 - tanlat ** 2 + 9 * eta2)\r\n",
    "    IIIA = nu/720 * sinlat * coslat ** 5 * (61-58 * tanlat**2 + tanlat**4)\r\n",
    "    IV = nu * coslat\r\n",
    "    V = nu / 6 * coslat**3 * (nu/rho - cp.tan(lat)**2)\r\n",
    "    VI = nu / 120 * coslat ** 5 * (5 - 18 * tanlat**2 + tanlat**4 + 14 * eta2 - 58 * tanlat**2 * eta2)\r\n",
    "\r\n",
    "    northing = I + II * longdiff**2 + III * longdiff**4 + IIIA * longdiff**6\r\n",
    "    easting = E0 + IV * longdiff + V * longdiff**3 + VI * longdiff**5\r\n",
    "    \r\n",
    "    # 4) Having calculated `northing` and `easting`, we add them as series to our partition and then return the partition.\r\n",
    "    part_df['northing'] = cudf.Series(northing)\r\n",
    "    part_df['easting'] = cudf.Series(easting)\r\n",
    "    \r\n",
    "    return(part_df)"
   ],
   "outputs": [],
   "metadata": {}
  },
  {
   "cell_type": "markdown",
   "source": [
    "### Mapping Functions to Partitions"
   ],
   "metadata": {}
  },
  {
   "cell_type": "markdown",
   "source": [
    "The Dask dataframe `map_partitions` method applies a given function to each partition. As you saw in the `latlong2osgbgrid_dask` function, at least one of the arguments to the function should be a `dask.dataframe` (in our case, `part_df`).\n",
    "\n",
    "The other requirement for `map_partitions` is a *meta*: a dataframe with the structure that we will be returning from the function. You can think of this like defining a function signature, and in fact, you will find many instances in Dask programming where a meta is required.\n",
    "\n",
    "In our case, however, Dask can automatically infer the meta from our function and its inputs, so we don't need to provide one explicitly."
   ],
   "metadata": {}
  },
  {
   "cell_type": "markdown",
   "source": [
    "### Using the Parquet Format"
   ],
   "metadata": {}
  },
  {
   "cell_type": "markdown",
   "source": [
    "The csv format we have using thus far has been realistic to many data scientists' experiences, but alternatives are often more efficient for our needs.\n",
    "\n",
    "Here, we will output to the columnar Apache Parquet format, a natural companion to the Apache Arrow memory format of RAPIDS. Parquet also will compress our data from about 18Gb to about 12Gb. \n",
    "\n",
    "The `to_parquet` writer will create a folder of smaller parquet files with associated metadata that can efficiently be read back in later with `read_parquet`, taking advantage of parallel I/O with multiple GPU workers in Dask."
   ],
   "metadata": {}
  },
  {
   "cell_type": "markdown",
   "source": [
    "### Building a Dask Grid Converter Pipeline"
   ],
   "metadata": {}
  },
  {
   "cell_type": "markdown",
   "source": [
    "We can now build a simple data pipeline to add OSGB36 grid coordinates to the population dataset. This will consist of three steps:\r\n",
    "\r\n",
    "1. Read the csv file at `./data/pop5x_1-07.csv` into a Dask dataframe with `read_csv`\r\n",
    "2. Map the function `latlong2osgbgrid_dask` over that dataframe with `map_partitions`\r\n",
    "3. Write the results to the parquet format in the folder `pop5x` with `to_parquet`"
   ],
   "metadata": {}
  },
  {
   "cell_type": "code",
   "execution_count": 7,
   "source": [
    "ddf = dask_cudf.read_csv('./data/pop5x_1-07.csv')\r\n",
    "ddf = ddf.map_partitions(latlong2osgbgrid_dask)\r\n",
    "ddf.to_parquet('pop5x')"
   ],
   "outputs": [],
   "metadata": {}
  },
  {
   "cell_type": "markdown",
   "source": [
    "### Computing Grid Coordinate Statistics"
   ],
   "metadata": {}
  },
  {
   "cell_type": "markdown",
   "source": [
    "We can analyze the results of mapping `latlong2osgbgrid_dask` the same way as any other `dask_cudf` dataframe columns. We can also see the speed enabled by parquet in the following two steps:\r\n",
    "\r\n",
    "1. Read the `pop5x` folder of parquet files into a Dask dataframe\r\n",
    "2. Compute the mean of the `northing` and `easting` columns"
   ],
   "metadata": {}
  },
  {
   "cell_type": "code",
   "execution_count": 9,
   "source": [
    "ddf = dask_cudf.read_parquet('pop5x')\r\n",
    "ddf[['northing', 'easting']].mean().compute()"
   ],
   "outputs": [
    {
     "output_type": "execute_result",
     "data": {
      "text/plain": [
       "northing    273564.672821\n",
       "easting     447839.348862\n",
       "dtype: float64"
      ]
     },
     "metadata": {},
     "execution_count": 9
    }
   ],
   "metadata": {}
  }
 ],
 "metadata": {
  "kernelspec": {
   "display_name": "Python 3",
   "language": "python",
   "name": "python3"
  },
  "language_info": {
   "codemirror_mode": {
    "name": "ipython",
    "version": 3
   },
   "file_extension": ".py",
   "mimetype": "text/x-python",
   "name": "python",
   "nbconvert_exporter": "python",
   "pygments_lexer": "ipython3",
   "version": "3.7.10"
  }
 },
 "nbformat": 4,
 "nbformat_minor": 4
}